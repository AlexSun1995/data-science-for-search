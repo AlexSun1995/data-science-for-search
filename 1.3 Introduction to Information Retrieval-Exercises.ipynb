{
 "cells": [
  {
   "cell_type": "markdown",
   "metadata": {},
   "source": [
    "# 1.3 Introduction to Information Retrieval\n",
    "\n",
    "Here we work with a data set scraped from eBay.  The data contains 9895 item titles and descriptions.\n",
    "\n",
    "First we load the data file and _normalise_ the text - removing certain characters and converting to lower case.  "
   ]
  },
  {
   "cell_type": "code",
   "execution_count": 1,
   "metadata": {
    "collapsed": false
   },
   "outputs": [
    {
     "name": "stdout",
     "output_type": "stream",
     "text": [
      "('cycling bicycle mtb bike fixie gloss carbon fiber riser bar handlebar', 'description feature easy to use made of high quality carbon fiber with the special design can save for a long time the carbon fiber handlebar is made of high quality carbon fiber so that you can use it relieved this quick disassembling carbon fiber handlebar is easy to use and one of the best gifts to your friends specification material carbon fiber color black handlebar clamp diameter mm length package included x cycling carbon fiber rise')\n"
     ]
    }
   ],
   "source": [
    "import csv\n",
    "import re\n",
    "\n",
    "with open(\"data/bike-items.txt\") as f:\n",
    "    r = csv.reader(f, delimiter=',', quotechar='\"')\n",
    "    rgx = re.compile(r'\\b[a-zA-Z]+\\b') \n",
    "    docs = [ (' '.join(re.findall(rgx, x[0])).lower(), ' '.join(re.findall(rgx, x[1])).lower())  \\\n",
    "                for i,x in enumerate(r) if i > 1 ]\n",
    "    \n",
    "print(docs[0][0],docs[0][1])\n",
    "\n",
    "items_t = [ d[0] for d in docs ] # item titles\n",
    "items_d = [ d[1] for d in docs ] # item descriptions\n",
    "items_i = range(0, len(items_t)) # item id\n"
   ]
  },
  {
   "cell_type": "markdown",
   "metadata": {},
   "source": [
    "## Exercise Set 1 - Term Frequency\n",
    "\n",
    "Let's start with the first 10 item titles from our corpus:"
   ]
  },
  {
   "cell_type": "code",
   "execution_count": 2,
   "metadata": {
    "collapsed": false
   },
   "outputs": [
    {
     "name": "stdout",
     "output_type": "stream",
     "text": [
      "['cycling bicycle mtb bike fixie gloss carbon fiber riser bar handlebar', 'bicycle rims x red speed internal hub wheel set beach cruiser bike', 'mavic crossride mountain bike wheels and wtb weirwolf tires', 'new kcnc arrow alloy stem black', 'rotor qxl aero oval road chainring']\n"
     ]
    }
   ],
   "source": [
    "corpus = items_t[0:5]\n",
    "print(corpus)"
   ]
  },
  {
   "cell_type": "markdown",
   "metadata": {},
   "source": [
    "We will start by computing the frequency of terms in the *entire* corpus.  We will do this by enumerating over the corpus of documents, tokenizing the documents and count the frequency of tokens.   The easiest way is to build a python dictionary where the key is the token and the value is the count.  You can review python dictionaries in the [docs](https://docs.python.org/2/tutorial/datastructures.html).\n",
    "\n",
    "<img src='files/resources/ic_assignment_black_24dp_2x.png' align='left'>\n",
    "Here is a part completed code snippet to compute term frequency.  \n",
    "Complete this code to correctly populate the term frequency dictionary."
   ]
  },
  {
   "cell_type": "code",
   "execution_count": 3,
   "metadata": {
    "collapsed": false
   },
   "outputs": [
    {
     "name": "stdout",
     "output_type": "stream",
     "text": [
      "{'and': 1, 'set': 1, 'bicycle': 2, 'cruiser': 1, 'tires': 1, 'fixie': 1, 'oval': 1, 'speed': 1, 'internal': 1, 'mountain': 1, 'cycling': 1, 'handlebar': 1, 'gloss': 1, 'chainring': 1, 'bike': 3, 'black': 1, 'new': 1, 'beach': 1, 'red': 1, 'kcnc': 1, 'wheel': 1, 'rotor': 1, 'fiber': 1, 'hub': 1, 'rims': 1, 'mavic': 1, 'aero': 1, 'stem': 1, 'alloy': 1, 'wtb': 1, 'carbon': 1, 'riser': 1, 'bar': 1, 'qxl': 1, 'crossride': 1, 'arrow': 1, 'weirwolf': 1, 'mtb': 1, 'x': 1, 'wheels': 1, 'road': 1}\n"
     ]
    }
   ],
   "source": [
    "tf = {}\n",
    "for doc in corpus:\n",
    "    for word in doc.split():\n",
    "        # << COMPUTE ERM FREQUENCY DICTIONARY >> CODE HERE\n",
    "        ## HIDE\n",
    "        if word in tf:\n",
    "            tf[word] += 1\n",
    "        else:\n",
    "            tf[word] = 1\n",
    "        ## HIDE\n",
    "\n",
    "print(tf)"
   ]
  },
  {
   "cell_type": "markdown",
   "metadata": {},
   "source": [
    "We can simplify by using a [Counter](https://docs.python.org/2/library/collections.html#collections.Counter) rather than a dictionary.\n",
    "\n",
    "<img src='files/resources/ic_assignment_black_24dp_2x.png' align='left'> \n",
    "Take a look at the docs for the `Counter` collection.  \n",
    "Complete this function definition to compute term frequency using the `Counter`."
   ]
  },
  {
   "cell_type": "code",
   "execution_count": 4,
   "metadata": {
    "collapsed": false
   },
   "outputs": [
    {
     "name": "stdout",
     "output_type": "stream",
     "text": [
      "Counter({'bike': 3, 'bicycle': 2, 'and': 1, 'set': 1, 'cruiser': 1, 'tires': 1, 'fixie': 1, 'oval': 1, 'speed': 1, 'internal': 1, 'mountain': 1, 'cycling': 1, 'handlebar': 1, 'gloss': 1, 'chainring': 1, 'black': 1, 'new': 1, 'beach': 1, 'red': 1, 'kcnc': 1, 'wheel': 1, 'rotor': 1, 'fiber': 1, 'hub': 1, 'rims': 1, 'mavic': 1, 'aero': 1, 'stem': 1, 'alloy': 1, 'wtb': 1, 'carbon': 1, 'riser': 1, 'bar': 1, 'qxl': 1, 'crossride': 1, 'arrow': 1, 'weirwolf': 1, 'mtb': 1, 'x': 1, 'wheels': 1, 'road': 1})\n"
     ]
    }
   ],
   "source": [
    "from collections import Counter\n",
    "\n",
    "def get_tf(corpus):\n",
    "    tf = Counter()\n",
    "    for doc in corpus:\n",
    "        for word in doc.split():\n",
    "            # << CODE HERE\n",
    "            ## HIDE\n",
    "            tf[word] += 1\n",
    "    return tf\n",
    "\n",
    "tf = get_tf(corpus)\n",
    "print(tf)"
   ]
  },
  {
   "cell_type": "markdown",
   "metadata": {},
   "source": [
    "The Counter does not give us a real speed advantage - since it does more work.   For these tiny data sets we do not see any difference - however in Python 3 it is faster than a default dictionary.  Often times best way to test performance is to time code execution.\n",
    "\n",
    "<img src='files/resources/ic_info_outline_black_24dp_2x.png' align='left'> \n",
    "We should get used to thinking about performance.   \n",
    "We can use the Jupyter Notebook [magics](http://nbviewer.jupyter.org/github/ipython/ipython/blob/1.x/examples/notebooks/Cell%20Magics.ipynb) to time the execution."
   ]
  },
  {
   "cell_type": "markdown",
   "metadata": {},
   "source": [
    "<img src='files/resources/ic_assignment_black_24dp_2x.png' align='left'>\n",
    "Run the code to compute the term frequency for the full corpus of item titles.  \n",
    "What is the frequency of the terms 'unicycle', 'bicycle' and 'tricycle'?"
   ]
  },
  {
   "cell_type": "code",
   "execution_count": 5,
   "metadata": {
    "collapsed": false
   },
   "outputs": [
    {
     "name": "stdout",
     "output_type": "stream",
     "text": [
      "5\n",
      "3544\n",
      "13\n"
     ]
    }
   ],
   "source": [
    "tf = get_tf(items_t)\n",
    "\n",
    "# Print tf for 'unicycle'\n",
    "## HIDE\n",
    "print(tf['unicycle'])\n",
    "print(tf['bicycle'])\n",
    "print(tf['tricycle'])\n"
   ]
  },
  {
   "cell_type": "markdown",
   "metadata": {},
   "source": [
    "The term frequency can also be computed for each document - the term frequency is a crude measure of the \"aboutness\" of a document.  For short documents, such as eBay item titles, terms do not occur very frequently.  In longer documents the term frequency is a form of compression and summarization.\n",
    "\n",
    "We can store the document term frequency in a dictionary, where the key is the document id and the value is the a nested dictionary of document terms and their counts.\n",
    "\n",
    "For example consider the corpus of three documents:\n",
    "\n",
    "1. 'mountain bike red'\n",
    "2. 'road bike carbon'\n",
    "3. 'bike helmet'\n",
    "\n",
    "The document term frequencies would be:\n",
    "\n",
    "| id | document term frequencies |\n",
    "|----|------------------|\n",
    "| 1  | { 'mountain' : 1, 'bike' : 1, 'red' : 1 } |\n",
    "| 2  | { 'road' : 1, 'bike' : 1, 'carbon' : 1 } |\n",
    "| 3  | { 'bike' : 1, 'helmet' : 1 } |\n",
    "\n",
    "\n",
    "<img src='files/resources/ic_assignment_black_24dp_2x.png' align='left'>\n",
    "Now compute **document term frequencies** for the full corpus of item titles.  \n",
    "Print out the document term frequencies for 3 randomly selected documents - what was the highest frequency term for each?"
   ]
  },
  {
   "cell_type": "code",
   "execution_count": 6,
   "metadata": {
    "collapsed": false
   },
   "outputs": [
    {
     "data": {
      "text/plain": [
       "{'black': 1,\n",
       " 'blue': 1,\n",
       " 'giro': 1,\n",
       " 'ii': 1,\n",
       " 'milky': 1,\n",
       " 'nib': 1,\n",
       " 's': 1,\n",
       " 'sante': 1,\n",
       " 'shoes': 1,\n",
       " 'white': 1,\n",
       " 'women': 1}"
      ]
     },
     "execution_count": 6,
     "metadata": {},
     "output_type": "execute_result"
    }
   ],
   "source": [
    "def get_tfd(corpus):\n",
    "    tfd = {}\n",
    "    for i,doc in enumerate(corpus):\n",
    "        tfd[i]={}\n",
    "        # << DOCUMENT TERM FREQUENCY >> CODE HERE\n",
    "        ## HIDE\n",
    "        for word in doc.split():\n",
    "            if word in tfd[i]:\n",
    "                tfd[i][word] += 1\n",
    "            else:\n",
    "                tfd[i][word] = 1\n",
    "    return tfd\n",
    "            \n",
    "    \n",
    "tfd = get_tfd(items_t)\n",
    "tfd[234]"
   ]
  },
  {
   "cell_type": "markdown",
   "metadata": {},
   "source": [
    "<img src='files/resources/ic_assignment_black_24dp_2x.png' align='left'>\n",
    "Repeat this time computing the **document term frequencies** for the full corpus of item descriptions.  \n",
    "Print out the document term frequency for 3 randomly selected documents - what was the highest frequency term for each?"
   ]
  },
  {
   "cell_type": "code",
   "execution_count": 7,
   "metadata": {
    "collapsed": false
   },
   "outputs": [
    {
     "data": {
      "text/plain": [
       "{'accurately': 2,\n",
       " 'also': 1,\n",
       " 'and': 1,\n",
       " 'answer': 1,\n",
       " 'answered': 1,\n",
       " 'are': 1,\n",
       " 'as': 4,\n",
       " 'ask': 2,\n",
       " 'at': 1,\n",
       " 'best': 1,\n",
       " 'black': 1,\n",
       " 'blue': 1,\n",
       " 'but': 1,\n",
       " 'buying': 1,\n",
       " 'can': 1,\n",
       " 'clothing': 1,\n",
       " 'describe': 1,\n",
       " 'descriptions': 1,\n",
       " 'experience': 1,\n",
       " 'feel': 2,\n",
       " 'for': 1,\n",
       " 'free': 2,\n",
       " 'giro': 1,\n",
       " 'have': 4,\n",
       " 'if': 3,\n",
       " 'ii': 1,\n",
       " 'in': 2,\n",
       " 'interested': 1,\n",
       " 'it': 1,\n",
       " 'items': 1,\n",
       " 'jae': 1,\n",
       " 'make': 1,\n",
       " 'may': 1,\n",
       " 'milky': 1,\n",
       " 'more': 1,\n",
       " 'nib': 1,\n",
       " 'not': 1,\n",
       " 'of': 1,\n",
       " 'one': 1,\n",
       " 'our': 3,\n",
       " 'please': 1,\n",
       " 'positive': 1,\n",
       " 'possible': 1,\n",
       " 'promptly': 1,\n",
       " 'questions': 2,\n",
       " 's': 1,\n",
       " 'sale': 1,\n",
       " 'sales': 1,\n",
       " 'sante': 1,\n",
       " 'shoes': 1,\n",
       " 'specific': 1,\n",
       " 'than': 1,\n",
       " 'them': 1,\n",
       " 'these': 1,\n",
       " 'to': 4,\n",
       " 'try': 2,\n",
       " 'we': 6,\n",
       " 'which': 1,\n",
       " 'white': 1,\n",
       " 'will': 1,\n",
       " 'women': 1,\n",
       " 'you': 3,\n",
       " 'your': 1}"
      ]
     },
     "execution_count": 7,
     "metadata": {},
     "output_type": "execute_result"
    }
   ],
   "source": [
    "# << COMPUTE TFD FOR ITEM DESCRIPTIONS >> CODE HERE\n",
    "## HIDE\n",
    "tfd = get_tfd(items_d)\n",
    "tfd[234]"
   ]
  },
  {
   "cell_type": "markdown",
   "metadata": {},
   "source": [
    "## Exercise Set 2 - Term Frequency Ranking, Boolean Matching and Inverted Indexes\n",
    "\n",
    "Whilst the document term frequency dictionary in the previous section `tfd` is a compact way to store the term frequency it is not efficient for analysis.  A term frequency matrix is a more effective way to store the data.  \n",
    "\n",
    "For example consider the corpus of three documents:\n",
    "\n",
    "1. 'mountain bike red'\n",
    "2. 'road bike carbon'\n",
    "3. 'bike helmet'\n",
    "\n",
    "There is a toal vocabulary of six terms [ 'mountain', 'bike' , 'red', 'road', 'carbon', 'helmet' ].\n",
    "\n",
    "Each document count be represented as a 3 x 6 element vectors:\n",
    "\n",
    "| Document ID | mountain | bike | red | road | carbon | helmet |\n",
    "|-------------|----------|------|-----|------|--------|--------|\n",
    "| 1 - 'mountain bike red' | 1 | 1 | 1 | 0 | 0 | 0 |\n",
    "| 2 - 'road bike carbon' | 0 | 1 | 0 | 1 | 1 | 0 |\n",
    "| 3 - 'bike helmet' | 0 | 1 | 0 | 0 | 0 | 1 |\n",
    "\n",
    "Those arrays can be stacked naturally into a matrix - one row per document, one column per term.  We call this matrix the term frequency matrix.\n",
    "\n",
    "To compute the term frequency matrix we have to first compute the lexicon (set of terms) in our corpus.\n",
    "\n",
    "<img src='files/resources/ic_assignment_black_24dp_2x.png' align='left'>\n",
    "Review the docs for the [set](https://docs.python.org/2/library/stdtypes.html#set-types-set-frozenset) type. Note - sets do not contain duplicates and can be used to dedupe tokens.\n",
    "Complete the `get_lexicon()` function definition so that it returns a list of unique terms across a given corpus of documents.  Validate with the small test corpus."
   ]
  },
  {
   "cell_type": "code",
   "execution_count": 8,
   "metadata": {
    "collapsed": false
   },
   "outputs": [],
   "source": [
    "def get_lexicon(corpus):\n",
    "    lexicon = set()\n",
    "    # << COMPUTE SET OF TERMS IN CORPUS >> CODE HERE\n",
    "    ## HIDE\n",
    "    for doc in corpus:\n",
    "        lexicon.update([word for word in doc.split()])\n",
    "    ## HIDE\n",
    "    return list(lexicon)\n",
    "    \n",
    "test_corpus = ['mountain bike red','road bike carbon','bike helmet']\n",
    "lexicon = get_lexicon(test_corpus)"
   ]
  },
  {
   "cell_type": "markdown",
   "metadata": {},
   "source": [
    "Now we have our lexicon we can compute a document term frequency matrix.  We will store our document term frequency vectors in a `list`.  Note we could also store them in a `dictionary` where the key is the document_id.  \n",
    "\n",
    "<img src='files/resources/ic_assignment_black_24dp_2x.png' align='left'>\n",
    "Complete the code snippet below to compute the term frequency vector for each document.  \n",
    "Store the term frequency vectors in the list `tfm`.  Validate the results with the test corpus."
   ]
  },
  {
   "cell_type": "code",
   "execution_count": 9,
   "metadata": {
    "collapsed": false
   },
   "outputs": [
    {
     "name": "stdout",
     "output_type": "stream",
     "text": [
      "[[1, 0, 1, 1, 0, 0], [0, 0, 1, 0, 1, 1], [0, 1, 1, 0, 0, 0]]\n"
     ]
    }
   ],
   "source": [
    "lexicon = get_lexicon(test_corpus)\n",
    "\n",
    "tfm =[]\n",
    "for doc in test_corpus:\n",
    "    tfv = [0]*len(lexicon)\n",
    "    for term in doc.split():\n",
    "        # << COMPUTE DOCUMENT TERM FREQUENCY VECTOR tfv AND APPEND TO tfm >> CODE HERE\n",
    "        ## HIDE\n",
    "        tfv[lexicon.index(term)] += 1\n",
    "        ## HIDE\n",
    "    tfm.append(tfv)\n",
    "    \n",
    "print(tfm)"
   ]
  },
  {
   "cell_type": "markdown",
   "metadata": {},
   "source": [
    "Since we are going to reuse the tfm let's create a function that takes as argument the corpus and returns the lexicon and the tfm.\n",
    "\n",
    "<img src='files/resources/ic_assignment_black_24dp_2x.png' align='left'>\n",
    "Copy your code snippets from the previous two exercises into the function definition below.    \n",
    "Test your function by computing 'tfm' on the test corpus verifying your results before computing tfm for the item_titles corpus."
   ]
  },
  {
   "cell_type": "code",
   "execution_count": 10,
   "metadata": {
    "collapsed": false
   },
   "outputs": [],
   "source": [
    "def get_tfm(corpus):\n",
    "    \n",
    "    def get_lexicon(corpus):\n",
    "        lexicon = set()\n",
    "        # << COMPUTE SET OF TERMS IN CORPUS >> CODE HERE\n",
    "        ## HIDE\n",
    "        for doc in corpus:\n",
    "            lexicon.update([word for word in doc.split()])\n",
    "        return list(lexicon)\n",
    "        ## HIDE\n",
    "        \n",
    "    lexicon = get_lexicon(corpus)\n",
    "\n",
    "    tfm =[]\n",
    "    for doc in corpus:\n",
    "        tfv = [0]*len(lexicon)\n",
    "        for term in doc.split():\n",
    "            # << COMPUTE DOCUMENT TERM FREQUENCY VECTOR AND APPEND TO tfm >> CODE HERE\n",
    "            ## HIDE\n",
    "            tfv[lexicon.index(term)] += 1\n",
    "            ## HIDE\n",
    "        tfm.append(tfv)\n",
    "        \n",
    "    return tfm, lexicon\n",
    "\n",
    "\n",
    "test_corpus = ['mountain bike red','road bike carbon','bike helmet']\n",
    "tfm, lexicon = get_tfm(test_corpus)\n"
   ]
  },
  {
   "cell_type": "markdown",
   "metadata": {},
   "source": [
    "<img src='files/resources/ic_info_outline_black_24dp_2x.png' align='left'> \n",
    "As our corpus increases so does the sparsity of the term frequency matrix - most elements have value zero.  \n",
    "We can use more efficient [sparse matrix](https://en.wikipedia.org/wiki/Sparse_matrix) storage to save memory.  More details [here](http://localhost:8888/notebooks/1.3%20Introduction%20to%20Information%20Retrieval.ipynb#Sparse-Term-Frequency-Matrix).  "
   ]
  },
  {
   "cell_type": "code",
   "execution_count": 11,
   "metadata": {
    "collapsed": false
   },
   "outputs": [
    {
     "data": {
      "text/html": [
       "\n",
       "\n",
       "    <script type=\"text/javascript\">\n",
       "      \n",
       "      (function(global) {\n",
       "        function now() {\n",
       "          return new Date();\n",
       "        }\n",
       "      \n",
       "        if (typeof (window._bokeh_onload_callbacks) === \"undefined\") {\n",
       "          window._bokeh_onload_callbacks = [];\n",
       "        }\n",
       "      \n",
       "        function run_callbacks() {\n",
       "          window._bokeh_onload_callbacks.forEach(function(callback) { callback() });\n",
       "          delete window._bokeh_onload_callbacks\n",
       "          console.info(\"Bokeh: all callbacks have finished\");\n",
       "        }\n",
       "      \n",
       "        function load_libs(js_urls, callback) {\n",
       "          window._bokeh_onload_callbacks.push(callback);\n",
       "          if (window._bokeh_is_loading > 0) {\n",
       "            console.log(\"Bokeh: BokehJS is being loaded, scheduling callback at\", now());\n",
       "            return null;\n",
       "          }\n",
       "          if (js_urls == null || js_urls.length === 0) {\n",
       "            run_callbacks();\n",
       "            return null;\n",
       "          }\n",
       "          console.log(\"Bokeh: BokehJS not loaded, scheduling load and callback at\", now());\n",
       "          window._bokeh_is_loading = js_urls.length;\n",
       "          for (var i = 0; i < js_urls.length; i++) {\n",
       "            var url = js_urls[i];\n",
       "            var s = document.createElement('script');\n",
       "            s.src = url;\n",
       "            s.async = false;\n",
       "            s.onreadystatechange = s.onload = function() {\n",
       "              window._bokeh_is_loading--;\n",
       "              if (window._bokeh_is_loading === 0) {\n",
       "                console.log(\"Bokeh: all BokehJS libraries loaded\");\n",
       "                run_callbacks()\n",
       "              }\n",
       "            };\n",
       "            s.onerror = function() {\n",
       "              console.warn(\"failed to load library \" + url);\n",
       "            };\n",
       "            console.log(\"Bokeh: injecting script tag for BokehJS library: \", url);\n",
       "            document.getElementsByTagName(\"head\")[0].appendChild(s);\n",
       "          }\n",
       "        };var js_urls = ['https://cdn.pydata.org/bokeh/release/bokeh-0.11.0.min.js', 'https://cdn.pydata.org/bokeh/release/bokeh-widgets-0.11.0.min.js', 'https://cdn.pydata.org/bokeh/release/bokeh-compiler-0.11.0.min.js'];\n",
       "      \n",
       "        var inline_js = [\n",
       "          function(Bokeh) {\n",
       "            Bokeh.set_log_level(\"info\");\n",
       "          },\n",
       "          function(Bokeh) {\n",
       "            console.log(\"Bokeh: injecting CSS: https://cdn.pydata.org/bokeh/release/bokeh-0.11.0.min.css\");\n",
       "            Bokeh.embed.inject_css(\"https://cdn.pydata.org/bokeh/release/bokeh-0.11.0.min.css\");\n",
       "            console.log(\"Bokeh: injecting CSS: https://cdn.pydata.org/bokeh/release/bokeh-widgets-0.11.0.min.css\");\n",
       "            Bokeh.embed.inject_css(\"https://cdn.pydata.org/bokeh/release/bokeh-widgets-0.11.0.min.css\");\n",
       "          }\n",
       "        ];\n",
       "      \n",
       "        function run_inline_js() {\n",
       "          for (var i = 0; i < inline_js.length; i++) {\n",
       "            inline_js[i](window.Bokeh);\n",
       "          }\n",
       "        }\n",
       "      \n",
       "        if (window._bokeh_is_loading === 0) {\n",
       "          console.log(\"Bokeh: BokehJS loaded, going straight to plotting\");\n",
       "          run_inline_js();\n",
       "        } else {\n",
       "          load_libs(js_urls, function() {\n",
       "            console.log(\"Bokeh: BokehJS plotting callback run at\", now());\n",
       "            run_inline_js();\n",
       "          });\n",
       "        }\n",
       "      }(this));\n",
       "    </script>"
      ]
     },
     "metadata": {},
     "output_type": "display_data"
    },
    {
     "data": {
      "text/html": [
       "\n",
       "\n",
       "    <div class=\"plotdiv\" id=\"f1d00e82-baeb-4f5a-8cfd-73f0ec2bd379\"></div>\n",
       "<script type=\"text/javascript\">\n",
       "  \n",
       "  (function(global) {\n",
       "    function now() {\n",
       "      return new Date();\n",
       "    }\n",
       "  \n",
       "    if (typeof (window._bokeh_onload_callbacks) === \"undefined\") {\n",
       "      window._bokeh_onload_callbacks = [];\n",
       "    }\n",
       "  \n",
       "    function run_callbacks() {\n",
       "      window._bokeh_onload_callbacks.forEach(function(callback) { callback() });\n",
       "      delete window._bokeh_onload_callbacks\n",
       "      console.info(\"Bokeh: all callbacks have finished\");\n",
       "    }\n",
       "  \n",
       "    function load_libs(js_urls, callback) {\n",
       "      window._bokeh_onload_callbacks.push(callback);\n",
       "      if (window._bokeh_is_loading > 0) {\n",
       "        console.log(\"Bokeh: BokehJS is being loaded, scheduling callback at\", now());\n",
       "        return null;\n",
       "      }\n",
       "      if (js_urls == null || js_urls.length === 0) {\n",
       "        run_callbacks();\n",
       "        return null;\n",
       "      }\n",
       "      console.log(\"Bokeh: BokehJS not loaded, scheduling load and callback at\", now());\n",
       "      window._bokeh_is_loading = js_urls.length;\n",
       "      for (var i = 0; i < js_urls.length; i++) {\n",
       "        var url = js_urls[i];\n",
       "        var s = document.createElement('script');\n",
       "        s.src = url;\n",
       "        s.async = false;\n",
       "        s.onreadystatechange = s.onload = function() {\n",
       "          window._bokeh_is_loading--;\n",
       "          if (window._bokeh_is_loading === 0) {\n",
       "            console.log(\"Bokeh: all BokehJS libraries loaded\");\n",
       "            run_callbacks()\n",
       "          }\n",
       "        };\n",
       "        s.onerror = function() {\n",
       "          console.warn(\"failed to load library \" + url);\n",
       "        };\n",
       "        console.log(\"Bokeh: injecting script tag for BokehJS library: \", url);\n",
       "        document.getElementsByTagName(\"head\")[0].appendChild(s);\n",
       "      }\n",
       "    };var element = document.getElementById(\"f1d00e82-baeb-4f5a-8cfd-73f0ec2bd379\");\n",
       "    if (element == null) {\n",
       "      console.log(\"Bokeh: ERROR: autoload.js configured with elementid 'f1d00e82-baeb-4f5a-8cfd-73f0ec2bd379' but no matching script tag was found. \")\n",
       "      return false;\n",
       "    }var js_urls = [];\n",
       "  \n",
       "    var inline_js = [\n",
       "      function(Bokeh) {\n",
       "        Bokeh.$(function() {\n",
       "            var docs_json = {\"a29c7364-7166-4a84-bcbc-f0bc56555af7\": {\"version\": \"0.11.0\", \"roots\": {\"root_ids\": [\"d282e2a1-5194-4c14-844e-de279474342f\"], \"references\": [{\"attributes\": {\"line_color\": {\"value\": \"#1f77b4\"}, \"line_width\": {\"value\": 2}, \"y\": {\"field\": \"y\"}, \"x\": {\"field\": \"x\"}}, \"type\": \"Line\", \"id\": \"872a6fed-dbe1-4367-89a1-122091b655aa\"}, {\"attributes\": {\"plot\": {\"subtype\": \"Figure\", \"type\": \"Plot\", \"id\": \"d282e2a1-5194-4c14-844e-de279474342f\"}, \"ticker\": {\"type\": \"BasicTicker\", \"id\": \"efadc2e5-88d1-4e04-88a1-4d5ffd2e05aa\"}}, \"type\": \"Grid\", \"id\": \"ccc69f08-848b-4235-abe3-f67638d6e486\"}, {\"attributes\": {\"plot\": {\"subtype\": \"Figure\", \"type\": \"Plot\", \"id\": \"d282e2a1-5194-4c14-844e-de279474342f\"}}, \"type\": \"PreviewSaveTool\", \"id\": \"7cde05d3-8334-4806-96b3-56eb1f302ba5\"}, {\"attributes\": {\"plot\": {\"subtype\": \"Figure\", \"type\": \"Plot\", \"id\": \"d282e2a1-5194-4c14-844e-de279474342f\"}, \"axis_label\": \"Documents\", \"formatter\": {\"type\": \"BasicTickFormatter\", \"id\": \"507c5673-e3ac-47d5-9b9a-ae9fbbcbb365\"}, \"ticker\": {\"type\": \"BasicTicker\", \"id\": \"efadc2e5-88d1-4e04-88a1-4d5ffd2e05aa\"}}, \"type\": \"LinearAxis\", \"id\": \"e7c4827e-25f6-4966-b0a7-afa0f9b98512\"}, {\"attributes\": {\"plot\": {\"subtype\": \"Figure\", \"type\": \"Plot\", \"id\": \"d282e2a1-5194-4c14-844e-de279474342f\"}, \"overlay\": {\"type\": \"BoxAnnotation\", \"id\": \"42090751-588c-47db-b8f5-1bafa418721a\"}}, \"type\": \"BoxZoomTool\", \"id\": \"abbe7d9f-d98d-46ef-aae4-76bb0073d17b\"}, {\"attributes\": {\"plot\": {\"subtype\": \"Figure\", \"type\": \"Plot\", \"id\": \"d282e2a1-5194-4c14-844e-de279474342f\"}}, \"type\": \"PanTool\", \"id\": \"4ecf03c7-4a34-4cad-bfbe-2ebbd7c29464\"}, {\"attributes\": {\"plot\": {\"subtype\": \"Figure\", \"type\": \"Plot\", \"id\": \"d282e2a1-5194-4c14-844e-de279474342f\"}, \"axis_label\": \"Sparsity\", \"formatter\": {\"type\": \"BasicTickFormatter\", \"id\": \"38838f20-73e0-4023-b319-68568e20c004\"}, \"ticker\": {\"type\": \"BasicTicker\", \"id\": \"54f9c289-9aaa-4245-8711-42d6ecf53f2d\"}}, \"type\": \"LinearAxis\", \"id\": \"b06fdb07-0640-499d-8117-14276d7d2271\"}, {\"attributes\": {}, \"type\": \"BasicTicker\", \"id\": \"efadc2e5-88d1-4e04-88a1-4d5ffd2e05aa\"}, {\"attributes\": {\"callback\": null}, \"type\": \"DataRange1d\", \"id\": \"b269c30a-ba84-4a4f-980a-8f0fe9da9ebf\"}, {\"attributes\": {\"plot\": {\"subtype\": \"Figure\", \"type\": \"Plot\", \"id\": \"d282e2a1-5194-4c14-844e-de279474342f\"}}, \"type\": \"ResizeTool\", \"id\": \"a04b3490-26a7-4e07-904a-944f05cbd982\"}, {\"attributes\": {\"plot\": {\"subtype\": \"Figure\", \"type\": \"Plot\", \"id\": \"d282e2a1-5194-4c14-844e-de279474342f\"}}, \"type\": \"HelpTool\", \"id\": \"e322581e-442c-4d37-b3ba-5168777f61d1\"}, {\"attributes\": {}, \"type\": \"BasicTickFormatter\", \"id\": \"38838f20-73e0-4023-b319-68568e20c004\"}, {\"attributes\": {\"callback\": null, \"column_names\": [\"y\", \"x\"], \"data\": {\"y\": [0.9821128714317003, 0.9883890210559955, 0.9912191990698407, 0.9926077154550996, 0.9934271147723699, 0.9942291412146989, 0.9947342910720529, 0.9951831935547358, 0.9955050581978345], \"x\": [100, 200, 300, 400, 500, 600, 700, 800, 900]}}, \"type\": \"ColumnDataSource\", \"id\": \"e2e778ff-a367-48f3-9b8b-f3f61736a6c4\"}, {\"attributes\": {}, \"type\": \"ToolEvents\", \"id\": \"e0c48543-b874-4084-b86a-4dd9fba71dd2\"}, {\"attributes\": {}, \"type\": \"BasicTickFormatter\", \"id\": \"507c5673-e3ac-47d5-9b9a-ae9fbbcbb365\"}, {\"attributes\": {\"x_range\": {\"type\": \"DataRange1d\", \"id\": \"4bb80465-4510-4c00-94f2-36dcc65b0440\"}, \"y_range\": {\"type\": \"DataRange1d\", \"id\": \"b269c30a-ba84-4a4f-980a-8f0fe9da9ebf\"}, \"renderers\": [{\"type\": \"LinearAxis\", \"id\": \"e7c4827e-25f6-4966-b0a7-afa0f9b98512\"}, {\"type\": \"Grid\", \"id\": \"ccc69f08-848b-4235-abe3-f67638d6e486\"}, {\"type\": \"LinearAxis\", \"id\": \"b06fdb07-0640-499d-8117-14276d7d2271\"}, {\"type\": \"Grid\", \"id\": \"e5df42df-1afa-4700-87f8-75e7db660442\"}, {\"type\": \"BoxAnnotation\", \"id\": \"42090751-588c-47db-b8f5-1bafa418721a\"}, {\"type\": \"GlyphRenderer\", \"id\": \"11352fcb-4b8c-4b54-a3a9-535c03271345\"}, {\"type\": \"GlyphRenderer\", \"id\": \"a67b8aef-b389-47a1-accc-05ad36a507b7\"}], \"plot_width\": 400, \"below\": [{\"type\": \"LinearAxis\", \"id\": \"e7c4827e-25f6-4966-b0a7-afa0f9b98512\"}], \"tool_events\": {\"type\": \"ToolEvents\", \"id\": \"e0c48543-b874-4084-b86a-4dd9fba71dd2\"}, \"plot_height\": 400, \"tools\": [{\"type\": \"PanTool\", \"id\": \"4ecf03c7-4a34-4cad-bfbe-2ebbd7c29464\"}, {\"type\": \"WheelZoomTool\", \"id\": \"7d721ae5-8619-462b-8484-427a99fd0b1c\"}, {\"type\": \"BoxZoomTool\", \"id\": \"abbe7d9f-d98d-46ef-aae4-76bb0073d17b\"}, {\"type\": \"PreviewSaveTool\", \"id\": \"7cde05d3-8334-4806-96b3-56eb1f302ba5\"}, {\"type\": \"ResizeTool\", \"id\": \"a04b3490-26a7-4e07-904a-944f05cbd982\"}, {\"type\": \"ResetTool\", \"id\": \"764cf4b2-efb6-4d99-b031-66aa7bd23678\"}, {\"type\": \"HelpTool\", \"id\": \"e322581e-442c-4d37-b3ba-5168777f61d1\"}], \"left\": [{\"type\": \"LinearAxis\", \"id\": \"b06fdb07-0640-499d-8117-14276d7d2271\"}]}, \"type\": \"Plot\", \"id\": \"d282e2a1-5194-4c14-844e-de279474342f\", \"subtype\": \"Figure\"}, {\"attributes\": {\"line_color\": {\"value\": \"#1f77b4\"}, \"line_alpha\": {\"value\": 0.1}, \"fill_color\": {\"value\": \"#1f77b4\"}, \"fill_alpha\": {\"value\": 0.1}, \"y\": {\"field\": \"y\"}, \"x\": {\"field\": \"x\"}, \"size\": {\"units\": \"screen\", \"value\": 8}}, \"type\": \"Circle\", \"id\": \"2b251ca4-505e-4d31-b796-bc1f60c2d16b\"}, {\"attributes\": {\"line_color\": {\"value\": \"#1f77b4\"}, \"x\": {\"field\": \"x\"}, \"y\": {\"field\": \"y\"}, \"fill_color\": {\"value\": \"white\"}, \"size\": {\"units\": \"screen\", \"value\": 8}}, \"type\": \"Circle\", \"id\": \"d0388827-0519-4c57-8ac9-2d21e3cfb2e1\"}, {\"attributes\": {\"nonselection_glyph\": {\"type\": \"Line\", \"id\": \"8ce5c05b-0efc-4d4e-8319-a290d87b39fb\"}, \"data_source\": {\"type\": \"ColumnDataSource\", \"id\": \"e2e778ff-a367-48f3-9b8b-f3f61736a6c4\"}, \"selection_glyph\": null, \"hover_glyph\": null, \"glyph\": {\"type\": \"Line\", \"id\": \"872a6fed-dbe1-4367-89a1-122091b655aa\"}}, \"type\": \"GlyphRenderer\", \"id\": \"11352fcb-4b8c-4b54-a3a9-535c03271345\"}, {\"attributes\": {\"plot\": {\"subtype\": \"Figure\", \"type\": \"Plot\", \"id\": \"d282e2a1-5194-4c14-844e-de279474342f\"}, \"ticker\": {\"type\": \"BasicTicker\", \"id\": \"54f9c289-9aaa-4245-8711-42d6ecf53f2d\"}, \"dimension\": 1}, \"type\": \"Grid\", \"id\": \"e5df42df-1afa-4700-87f8-75e7db660442\"}, {\"attributes\": {\"plot\": {\"subtype\": \"Figure\", \"type\": \"Plot\", \"id\": \"d282e2a1-5194-4c14-844e-de279474342f\"}}, \"type\": \"WheelZoomTool\", \"id\": \"7d721ae5-8619-462b-8484-427a99fd0b1c\"}, {\"attributes\": {\"line_color\": {\"value\": \"#1f77b4\"}, \"line_alpha\": {\"value\": 0.1}, \"y\": {\"field\": \"y\"}, \"x\": {\"field\": \"x\"}, \"line_width\": {\"value\": 2}}, \"type\": \"Line\", \"id\": \"8ce5c05b-0efc-4d4e-8319-a290d87b39fb\"}, {\"attributes\": {\"callback\": null, \"column_names\": [\"y\", \"x\"], \"data\": {\"y\": [0.9821128714317003, 0.9883890210559955, 0.9912191990698407, 0.9926077154550996, 0.9934271147723699, 0.9942291412146989, 0.9947342910720529, 0.9951831935547358, 0.9955050581978345], \"x\": [100, 200, 300, 400, 500, 600, 700, 800, 900]}}, \"type\": \"ColumnDataSource\", \"id\": \"18e80e6b-5a16-44fb-af3c-f92ae5b9c710\"}, {\"attributes\": {\"line_color\": {\"value\": \"black\"}, \"line_alpha\": {\"value\": 1.0}, \"render_mode\": \"css\", \"bottom_units\": \"screen\", \"level\": \"overlay\", \"top_units\": \"screen\", \"fill_alpha\": {\"value\": 0.5}, \"plot\": null, \"left_units\": \"screen\", \"line_dash\": [4, 4], \"line_width\": {\"value\": 2}, \"right_units\": \"screen\", \"fill_color\": {\"value\": \"lightgrey\"}}, \"type\": \"BoxAnnotation\", \"id\": \"42090751-588c-47db-b8f5-1bafa418721a\"}, {\"attributes\": {\"plot\": {\"subtype\": \"Figure\", \"type\": \"Plot\", \"id\": \"d282e2a1-5194-4c14-844e-de279474342f\"}}, \"type\": \"ResetTool\", \"id\": \"764cf4b2-efb6-4d99-b031-66aa7bd23678\"}, {\"attributes\": {\"callback\": null}, \"type\": \"DataRange1d\", \"id\": \"4bb80465-4510-4c00-94f2-36dcc65b0440\"}, {\"attributes\": {}, \"type\": \"BasicTicker\", \"id\": \"54f9c289-9aaa-4245-8711-42d6ecf53f2d\"}, {\"attributes\": {\"nonselection_glyph\": {\"type\": \"Circle\", \"id\": \"2b251ca4-505e-4d31-b796-bc1f60c2d16b\"}, \"data_source\": {\"type\": \"ColumnDataSource\", \"id\": \"18e80e6b-5a16-44fb-af3c-f92ae5b9c710\"}, \"selection_glyph\": null, \"hover_glyph\": null, \"glyph\": {\"type\": \"Circle\", \"id\": \"d0388827-0519-4c57-8ac9-2d21e3cfb2e1\"}}, \"type\": \"GlyphRenderer\", \"id\": \"a67b8aef-b389-47a1-accc-05ad36a507b7\"}]}, \"title\": \"Bokeh Application\"}};\n",
       "            var render_items = [{\"notebook_comms_target\": \"1af6dd5d-ea2e-44a9-99ed-afa2f2fffb89\", \"docid\": \"a29c7364-7166-4a84-bcbc-f0bc56555af7\", \"elementid\": \"f1d00e82-baeb-4f5a-8cfd-73f0ec2bd379\", \"modelid\": \"d282e2a1-5194-4c14-844e-de279474342f\"}];\n",
       "            \n",
       "            Bokeh.embed.embed_items(docs_json, render_items);\n",
       "        });\n",
       "      },\n",
       "      function(Bokeh) {\n",
       "      }\n",
       "    ];\n",
       "  \n",
       "    function run_inline_js() {\n",
       "      for (var i = 0; i < inline_js.length; i++) {\n",
       "        inline_js[i](window.Bokeh);\n",
       "      }\n",
       "    }\n",
       "  \n",
       "    if (window._bokeh_is_loading === 0) {\n",
       "      console.log(\"Bokeh: BokehJS loaded, going straight to plotting\");\n",
       "      run_inline_js();\n",
       "    } else {\n",
       "      load_libs(js_urls, function() {\n",
       "        console.log(\"Bokeh: BokehJS plotting callback run at\", now());\n",
       "        run_inline_js();\n",
       "      });\n",
       "    }\n",
       "  }(this));\n",
       "</script>"
      ]
     },
     "metadata": {},
     "output_type": "display_data"
    },
    {
     "data": {
      "text/plain": [
       "<bokeh.io._CommsHandle at 0x7fc47551ced0>"
      ]
     },
     "execution_count": 11,
     "metadata": {},
     "output_type": "execute_result"
    }
   ],
   "source": [
    "import pandas as pd\n",
    "from bokeh.plotting import figure, output_notebook, show, vplot\n",
    "#from bokeh.charts import Bar, Scatter, BoxPlot\n",
    "#from bokeh.charts.attributes import CatAttr\n",
    "#from bokeh.models import ColumnDataSource\n",
    "\n",
    "# Sparsity as a function of document count\n",
    "n = []\n",
    "s = []\n",
    "for i in range(100,1000,100):\n",
    "    corpus = items_t[0:i]\n",
    "    tfm, lexicon = get_tfm(corpus)\n",
    "    c =[ [x.count(0), x.count(1)] for x in tfm]\n",
    "    n_zero = sum([ y[0] for y in c])\n",
    "    n_one = sum([ y[1] for y in c])  \n",
    "    s.append(1.0 - (float(n_one) / (n_one + n_zero)))\n",
    "    n.append(i)\n",
    "    \n",
    "output_notebook(hide_banner=True)\n",
    "p = figure(x_axis_label='Documents', y_axis_label='Sparsity',\n",
    "          plot_width=400, plot_height=400)\n",
    "p.line(n, s, line_width=2)\n",
    "p.circle(n, s, fill_color=\"white\", size=8)\n",
    "show(p)"
   ]
  },
  {
   "cell_type": "markdown",
   "metadata": {
    "collapsed": false
   },
   "source": [
    "### Boolean Search\n",
    "\n",
    "We are now in a position to write our first ranking function.  Now we have the term frequency matrix we can use it to find documents that contain words included in a user specified query.  We will start by simply returning the documents from the corpus that match any terms in the query and rank by the raw frequency of matching terms. \n",
    "\n",
    "More specifically our algorithm for 'boolean search' proceeds as follows:\n",
    "\n",
    "1. Convert query to query vector using the lexicon for the corpus\n",
    "2. Compute a ranking score for each document by taking the [dot product](https://en.wikipedia.org/wiki/Dot_product) of the query vector and each document's term frequency vector\n",
    "3. Sort the documents by score\n",
    "\n",
    "<img src='files/resources/ic_assignment_black_24dp_2x.png' align='left'>\n",
    "The function definion `get_results()` converts the user query `qry` into a vector using the supplied lexicon.\n",
    "Complete the function by providing the code to compute the score of each document.  Test using a bike related query such as 'led bike light'.  Do you get relevant results?  \n",
    "\n",
    "HINT : Here is a [gist](https://gist.github.com/mattwg/60910d90a8987e271212) that shows how to compute the dot product between two vectors!"
   ]
  },
  {
   "cell_type": "code",
   "execution_count": 12,
   "metadata": {
    "collapsed": false
   },
   "outputs": [
    {
     "name": "stdout",
     "output_type": "stream",
     "text": [
      "\n",
      "Top 10 from recall set of 9893 items ordered by tf-idf:\n",
      "\t6.00 - frog waterproof bike light set led white front light led red rear light\n",
      "\t4.00 - cycling bike bicycle led front light head light torch mount aaa\n",
      "\t4.00 - waterproof usb rechargeable led bike light set bright headlight free light\n",
      "\t4.00 - niterider tl sl led bike tail light red rear flashing bike safety\n",
      "\t4.00 - sets bright bike bicycle waterproof led head light led rearlight us seller\n",
      "\t4.00 - lm cree led cycling front bike bicycle light headlight only light\n",
      "\t4.00 - led tire valve stem caps neon light bike bicycle car auto wheel light\n",
      "\t4.00 - ultra bright waterproof silicon led bicycle light set led front rear light\n",
      "\t4.00 - usb cycling xml led front bike light bicycle light headlamp headlight\n",
      "\t4.00 - portable usb rechargeable bicycle bike tail rear light led safety warning light\n"
     ]
    }
   ],
   "source": [
    "def get_results(qry, tfm, lexicon):\n",
    "    qrv = [0]*len(lexicon)\n",
    "    for term in qry.split():\n",
    "        if term in lexicon:\n",
    "            qrv[lexicon.index(term)] = 1\n",
    "\n",
    "    results = []      \n",
    "    for i, tfv in enumerate(tfm):\n",
    "        score = 0\n",
    "        # << COMPUTE DOCUMENT SCORE >> CODE HERE\n",
    "        ## HIDE\n",
    "        score = sum([ xy[0] * xy[1] for xy in zip(qrv,tfv)])\n",
    "        ## HIDE\n",
    "        results.append([score, i])\n",
    "    \n",
    "    sorted_results = sorted(results, key=lambda t: t[0] * -1 )\n",
    "    return sorted_results\n",
    "\n",
    "\n",
    "def print_results(results,n, head=True):\n",
    "    ''' Helper function to print results\n",
    "    '''\n",
    "    if head:    \n",
    "        print('\\nTop %d from recall set of %d items ordered by tf-idf:' % (n,len(results)))\n",
    "        for r in results[:n]:\n",
    "            print('\\t%0.2f - %s'%(r[0],items_t[r[1]]))\n",
    "    else:\n",
    "        print('\\nBottom %d from recall set of %d items ordered by tf-idf:' % (n,len(results)))\n",
    "        for r in results[:n]:\n",
    "            print('\\t%0.2f - %s'%(r[0],items_t[r[1]]))\n",
    "    \n",
    "\n",
    "tfm, lexicon = get_tfm(items_t)\n",
    "results = get_results('led bike light', tfm , lexicon)\n",
    "print_results(results,10)\n"
   ]
  },
  {
   "cell_type": "markdown",
   "metadata": {},
   "source": [
    "### Inverted Index\n",
    "\n",
    "This search across documents is expensive - especially if the score for many documents is zero!  To solve this problem we can create an inverted index.  An inverted index can be used to filter out documents that do not contain any of the keywords in the query before computing the ranking score.  \n",
    "\n",
    "Using our example mini-corpus:\n",
    "\n",
    "1. 'mountain bike red'\n",
    "2. 'road bike carbon'\n",
    "3. 'bike helmet'\n",
    "\n",
    "There is a toal vocabulary of six terms [ 'mountain', 'bike' , 'red', 'road', 'carbon', 'helmet' ].  An inverted index will map each of these terms to the document in which the document can be found.  \n",
    "\n",
    "| key | value |\n",
    "|-----|-------|\n",
    "| 'mountain' | [ 1 ] |  \n",
    "| 'bike' | [1, 2, 3] |  \n",
    "| 'red' | [1] |  \n",
    "| 'road' |  [2] | \n",
    "| 'carbon' | [2] | \n",
    "|  'helmet' | [3] |\n",
    "\n",
    "We could store an inverted index in a dictionary where the key is the term and the value is the document id.\n",
    "\n",
    "<img src='files/resources/ic_assignment_black_24dp_2x.png' align='left'>\n",
    "We will create an inverted index as a python dictionary keyed on the token.  \n",
    "Complete the code snippet below to create the inverted index.  Validate with the test corpus. "
   ]
  },
  {
   "cell_type": "code",
   "execution_count": 13,
   "metadata": {
    "collapsed": false
   },
   "outputs": [],
   "source": [
    "def create_inverted_index(corpus):\n",
    "    idx={}\n",
    "    for i, doc in enumerate(corpus):\n",
    "        # << POPULATE INVERTED INDEX >> CODE HERE\n",
    "        ## HIDE\n",
    "        for word in doc.split():\n",
    "            if word in idx:\n",
    "                idx[word].append(i)\n",
    "            else:\n",
    "                idx[word] = [i]\n",
    "        ## HIDE\n",
    "    return idx\n",
    "\n",
    "test_corpus = ['mountain bike red','road bike carbon','bike helmet']\n",
    "idx = create_inverted_index(test_corpus)"
   ]
  },
  {
   "cell_type": "markdown",
   "metadata": {},
   "source": [
    "<img src='files/resources/ic_assignment_black_24dp_2x.png' align='left'>\n",
    "Now we can create an inverted index for all the item titles.  We can use the set intersection method to find all the documents that match the query 'led bike light'.  Run the code below checking the titles of some of the results that match query terms."
   ]
  },
  {
   "cell_type": "code",
   "execution_count": 14,
   "metadata": {
    "collapsed": false
   },
   "outputs": [
    {
     "name": "stdout",
     "output_type": "stream",
     "text": [
      "set([9559, 2061, 2062, 8212, 31, 8229, 4134, 8238, 4143, 8248, 8250, 4159, 8258, 8261, 2118, 80, 4181, 8278, 91, 4193, 6244, 6247, 9237, 6282, 2195, 2196, 6297, 166, 4274, 2227, 6175, 2239, 4294, 4296, 6345, 4299, 4300, 8406, 8408, 6361, 2267, 2272, 8426, 4331, 4335, 6386, 6388, 245, 6407, 6417, 6419, 6424, 8474, 6434, 2339, 8485, 4398, 306, 8499, 4404, 4406, 316, 4413, 8515, 2372, 6469, 2375, 2387, 6497, 2402, 8553, 6514, 2451, 374, 8571, 384, 6533, 8583, 8590, 6544, 6547, 4501, 2459, 4512, 423, 8623, 4532, 2498, 8652, 4557, 8655, 472, 8665, 8670, 2529, 6629, 8681, 4592, 6230, 6662, 6664, 2569, 8715, 2589, 6686, 6235, 6694, 6697, 4658, 8756, 8761, 8763, 6733, 594, 8790, 599, 4699, 8798, 8807, 618, 8811, 4722, 6772, 2682, 2697, 2706, 4758, 4762, 4769, 4770, 2734, 6839, 2749, 8896, 2753, 2754, 8901, 6859, 717, 4817, 6867, 4821, 731, 6880, 6883, 8934, 4839, 4841, 9684, 8954, 4865, 773, 6918, 6920, 8970, 8972, 6926, 8978, 6934, 796, 8992, 4897, 2850, 9692, 6965, 6971, 4924, 829, 6974, 2901, 2903, 857, 4959, 867, 9060, 2922, 9073, 9022, 9087, 2944, 2948, 905, 2955, 5004, 7059, 9370, 7076, 935, 939, 9132, 941, 7087, 948, 5048, 9145, 3005, 5057, 9154, 5066, 9716, 5071, 5083, 5087, 9186, 2214, 5101, 9204, 9207, 3065, 9216, 9219, 9047, 5141, 7198, 1066, 9263, 9264, 5184, 1092, 9287, 5198, 9295, 9305, 9314, 7280, 9337, 9341, 7316, 1175, 1178, 1181, 7326, 5280, 3233, 9378, 9382, 3953, 7337, 6344, 7361, 1227, 8056, 9429, 1254, 5352, 3305, 1262, 5359, 5674, 9470, 9471, 9477, 9485, 1294, 9488, 7457, 8841, 9514, 9518, 5429, 9531, 3395, 7498, 7511, 3418, 9564, 1373, 5473, 3430, 7528, 3441, 9587, 5499, 9601, 9602, 3460, 9605, 9628, 9632, 9644, 5553, 9655, 9660, 7613, 9666, 9668, 7621, 1479, 9675, 5582, 3540, 3541, 3543, 9688, 7644, 5597, 9695, 3554, 1512, 1514, 5612, 5613, 7668, 9718, 1530, 7676, 1533, 5633, 9733, 7686, 1544, 3597, 3603, 9748, 1558, 3607, 9753, 3611, 7708, 9757, 9758, 1571, 9766, 4017, 9768, 9770, 1585, 9784, 5044, 7741, 5695, 9793, 9795, 5701, 7758, 7437, 9808, 1617, 9813, 9815, 3672, 9817, 7772, 9835, 5742, 957, 9841, 9842, 7806, 9858, 1668, 9861, 5771, 9870, 9873, 3694, 9879, 1688, 9881, 9839, 7837, 5797, 7858, 7864, 8820, 9162, 5822, 7881, 7889, 7893, 1752, 5856, 7911, 7912, 3822, 9854, 1783, 5881, 7938, 7956, 9860, 1821, 3870, 3874, 5933, 7983, 5937, 1847, 7135, 5951, 5962, 1873, 8026, 1884, 3938, 3609, 8041, 3947, 1905, 6008, 3963, 1922, 3971, 3977, 1936, 3736, 6036, 9883, 4004, 2033, 6065, 8116, 8117, 8118, 9546, 6079, 4033, 4034, 1989, 6087, 8142, 4054, 4057, 2010, 6068, 2016, 4081, 8188])\n",
      "universal bike bicycle led light flashlight torch lamp mount clamp stand holder\n"
     ]
    }
   ],
   "source": [
    "idx = create_inverted_index(items_t)\n",
    "print(set(idx['led']).intersection(set(idx['bike'])).intersection(set(idx['light'])))\n",
    "print(items_t[2061])"
   ]
  },
  {
   "cell_type": "markdown",
   "metadata": {},
   "source": [
    "We can now improve on our first ranking function.  This time only scoring the documents that match our keywords in the query:"
   ]
  },
  {
   "cell_type": "code",
   "execution_count": 15,
   "metadata": {
    "collapsed": false,
    "scrolled": true
   },
   "outputs": [
    {
     "name": "stdout",
     "output_type": "stream",
     "text": [
      "\n",
      "Top 20 from recall set of 573 items ordered by tf-idf:\n",
      "\t2.00 - sets bright bike bicycle waterproof led head light led rearlight us seller\n",
      "\t2.00 - led led flashlight emergency work light lamp with magnet and light modes\n",
      "\t2.00 - ultra bright waterproof silicon led bicycle light set led front rear light\n",
      "\t2.00 - frog waterproof bike light set led white front light led red rear light\n",
      "\t2.00 - bicycle bike led front head torch light led back rear tail flashlight lamp\n",
      "\t2.00 - new bicycle led front headlight flashlight led rear taillight lamp kit set\n",
      "\t2.00 - cree xm l led led outdooor headlight bicycle light cycling headlamp\n",
      "\t2.00 - new bike bicycle colorful rainbow led wheel signal light lamp led pattern\n",
      "\t2.00 - waterproof white red led front head lamp led rear bike light set\n",
      "\t1.00 - laser led flashing lamp light rear cycling bicycle bike tail safety warning\n",
      "\t1.00 - planet bike led superflash taillight red white\n",
      "\t1.00 - universal bike bicycle led light flashlight torch lamp mount clamp stand holder\n",
      "\t1.00 - color car bike bicycle tire wheel valve led light oe\n",
      "\t1.00 - modes cob led bicycle bike cycling front rear light usb rechargeable battery\n",
      "\t1.00 - bike bicycle led power beam front head light headlight torch lamp black hot\n",
      "\t1.00 - cycling night super bright red led rear tail light bicycle modes lamp\n",
      "\t1.00 - good bike led laser rear tail light skull flashing safety warning\n",
      "\t1.00 - silicone bike bicycle cycling head front rear wheel led flash light lamp\n",
      "\t1.00 - cycling bike bicycle projector red lamp beam and led rear tail light lu\n",
      "\t1.00 - led laser cycling bicycle bike rear tail safety warning flashing lamp light\n"
     ]
    }
   ],
   "source": [
    "def get_results(qry, idx):\n",
    "    score = Counter()\n",
    "    terms = qry.split()\n",
    "    for term in terms:\n",
    "        for doc in idx[term]:\n",
    "            score[doc] += 1\n",
    "            \n",
    "    results=[]\n",
    "    for x in [[r[0],r[1]] for r in zip(score.keys(), score.values())]:\n",
    "        if x[1] > 0:\n",
    "            # output [0] score, [1] doc_id\n",
    "            results.append([x[1],x[0]])\n",
    "\n",
    "    sorted_results = sorted(results, key=lambda t: t[0] * -1 )\n",
    "    return sorted_results;\n",
    "\n",
    "\n",
    "idx = create_inverted_index(items_t)\n",
    "results = get_results('led', idx)\n",
    "print_results(results,20)"
   ]
  },
  {
   "cell_type": "markdown",
   "metadata": {},
   "source": [
    "<img src='files/resources/ic_assignment_black_24dp_2x.png' align='left'>\n",
    "Run a few different queries some longer some shorter - for example 'front rear led light', 'led light', 'led'.  What do you notice about the ranking score?\n",
    "Try the query 'mountain bike suspension' - do the results look relevant?  What might be going on?"
   ]
  },
  {
   "cell_type": "code",
   "execution_count": 16,
   "metadata": {
    "collapsed": false
   },
   "outputs": [
    {
     "name": "stdout",
     "output_type": "stream",
     "text": [
      "\n",
      "Top 10 from recall set of 4618 items ordered by tf-idf:\n",
      "\t3.00 - mountain bike mtb bicycle disc brake suspension front fork lock\n",
      "\t3.00 - salsa front black bike wheel skewer road or mountain bike quick release qr\n",
      "\t3.00 - oem jagwire brake shifter cable housing kit road bike mountain bike\n",
      "\t3.00 - oakley mens automatic mountain mtb factory lite mountain bmx bike gloves large\n",
      "\t3.00 - kmc xsp speed chain bike bicycle links mtb mountain bike new\n",
      "\t3.00 - turbo r full suspension mountain bike size shimano suntour\n",
      "\t3.00 - fat bike mountain bike frame and fork plus all components no wheels or tires\n",
      "\t3.00 - new gloves mountain bike motocross bike bmx blue black size l large\n",
      "\t3.00 - oem jagwire brake shifter cable housing kit road bike mountain bike\n",
      "\t3.00 - kmc xxsp speed chain bike bicycle links mtb mountain bike new\n"
     ]
    }
   ],
   "source": [
    "## << ENTER DIFFERENT QUERIES >> \n",
    "results = get_results('mountain bike suspension', idx)\n",
    "print_results(results, 10)"
   ]
  },
  {
   "cell_type": "markdown",
   "metadata": {},
   "source": [
    "<img src='files/resources/ic_info_outline_black_24dp_2x.png' align='left'> \n",
    "The term frequency ranking is dominated by high frequency terms.  \n",
    "For example the term bike is present in nearly every other document."
   ]
  },
  {
   "cell_type": "code",
   "execution_count": 17,
   "metadata": {
    "collapsed": false
   },
   "outputs": [
    {
     "data": {
      "text/html": [
       "\n",
       "\n",
       "    <script type=\"text/javascript\">\n",
       "      \n",
       "      (function(global) {\n",
       "        function now() {\n",
       "          return new Date();\n",
       "        }\n",
       "      \n",
       "        if (typeof (window._bokeh_onload_callbacks) === \"undefined\") {\n",
       "          window._bokeh_onload_callbacks = [];\n",
       "        }\n",
       "      \n",
       "        function run_callbacks() {\n",
       "          window._bokeh_onload_callbacks.forEach(function(callback) { callback() });\n",
       "          delete window._bokeh_onload_callbacks\n",
       "          console.info(\"Bokeh: all callbacks have finished\");\n",
       "        }\n",
       "      \n",
       "        function load_libs(js_urls, callback) {\n",
       "          window._bokeh_onload_callbacks.push(callback);\n",
       "          if (window._bokeh_is_loading > 0) {\n",
       "            console.log(\"Bokeh: BokehJS is being loaded, scheduling callback at\", now());\n",
       "            return null;\n",
       "          }\n",
       "          if (js_urls == null || js_urls.length === 0) {\n",
       "            run_callbacks();\n",
       "            return null;\n",
       "          }\n",
       "          console.log(\"Bokeh: BokehJS not loaded, scheduling load and callback at\", now());\n",
       "          window._bokeh_is_loading = js_urls.length;\n",
       "          for (var i = 0; i < js_urls.length; i++) {\n",
       "            var url = js_urls[i];\n",
       "            var s = document.createElement('script');\n",
       "            s.src = url;\n",
       "            s.async = false;\n",
       "            s.onreadystatechange = s.onload = function() {\n",
       "              window._bokeh_is_loading--;\n",
       "              if (window._bokeh_is_loading === 0) {\n",
       "                console.log(\"Bokeh: all BokehJS libraries loaded\");\n",
       "                run_callbacks()\n",
       "              }\n",
       "            };\n",
       "            s.onerror = function() {\n",
       "              console.warn(\"failed to load library \" + url);\n",
       "            };\n",
       "            console.log(\"Bokeh: injecting script tag for BokehJS library: \", url);\n",
       "            document.getElementsByTagName(\"head\")[0].appendChild(s);\n",
       "          }\n",
       "        };var js_urls = ['https://cdn.pydata.org/bokeh/release/bokeh-0.11.0.min.js', 'https://cdn.pydata.org/bokeh/release/bokeh-widgets-0.11.0.min.js', 'https://cdn.pydata.org/bokeh/release/bokeh-compiler-0.11.0.min.js'];\n",
       "      \n",
       "        var inline_js = [\n",
       "          function(Bokeh) {\n",
       "            Bokeh.set_log_level(\"info\");\n",
       "          },\n",
       "          function(Bokeh) {\n",
       "            console.log(\"Bokeh: injecting CSS: https://cdn.pydata.org/bokeh/release/bokeh-0.11.0.min.css\");\n",
       "            Bokeh.embed.inject_css(\"https://cdn.pydata.org/bokeh/release/bokeh-0.11.0.min.css\");\n",
       "            console.log(\"Bokeh: injecting CSS: https://cdn.pydata.org/bokeh/release/bokeh-widgets-0.11.0.min.css\");\n",
       "            Bokeh.embed.inject_css(\"https://cdn.pydata.org/bokeh/release/bokeh-widgets-0.11.0.min.css\");\n",
       "          }\n",
       "        ];\n",
       "      \n",
       "        function run_inline_js() {\n",
       "          for (var i = 0; i < inline_js.length; i++) {\n",
       "            inline_js[i](window.Bokeh);\n",
       "          }\n",
       "        }\n",
       "      \n",
       "        if (window._bokeh_is_loading === 0) {\n",
       "          console.log(\"Bokeh: BokehJS loaded, going straight to plotting\");\n",
       "          run_inline_js();\n",
       "        } else {\n",
       "          load_libs(js_urls, function() {\n",
       "            console.log(\"Bokeh: BokehJS plotting callback run at\", now());\n",
       "            run_inline_js();\n",
       "          });\n",
       "        }\n",
       "      }(this));\n",
       "    </script>"
      ]
     },
     "metadata": {},
     "output_type": "display_data"
    },
    {
     "data": {
      "text/html": [
       "\n",
       "\n",
       "    <div class=\"plotdiv\" id=\"6ed9f29b-c4da-420a-b2fb-9db4ec104b37\"></div>\n",
       "<script type=\"text/javascript\">\n",
       "  \n",
       "  (function(global) {\n",
       "    function now() {\n",
       "      return new Date();\n",
       "    }\n",
       "  \n",
       "    if (typeof (window._bokeh_onload_callbacks) === \"undefined\") {\n",
       "      window._bokeh_onload_callbacks = [];\n",
       "    }\n",
       "  \n",
       "    function run_callbacks() {\n",
       "      window._bokeh_onload_callbacks.forEach(function(callback) { callback() });\n",
       "      delete window._bokeh_onload_callbacks\n",
       "      console.info(\"Bokeh: all callbacks have finished\");\n",
       "    }\n",
       "  \n",
       "    function load_libs(js_urls, callback) {\n",
       "      window._bokeh_onload_callbacks.push(callback);\n",
       "      if (window._bokeh_is_loading > 0) {\n",
       "        console.log(\"Bokeh: BokehJS is being loaded, scheduling callback at\", now());\n",
       "        return null;\n",
       "      }\n",
       "      if (js_urls == null || js_urls.length === 0) {\n",
       "        run_callbacks();\n",
       "        return null;\n",
       "      }\n",
       "      console.log(\"Bokeh: BokehJS not loaded, scheduling load and callback at\", now());\n",
       "      window._bokeh_is_loading = js_urls.length;\n",
       "      for (var i = 0; i < js_urls.length; i++) {\n",
       "        var url = js_urls[i];\n",
       "        var s = document.createElement('script');\n",
       "        s.src = url;\n",
       "        s.async = false;\n",
       "        s.onreadystatechange = s.onload = function() {\n",
       "          window._bokeh_is_loading--;\n",
       "          if (window._bokeh_is_loading === 0) {\n",
       "            console.log(\"Bokeh: all BokehJS libraries loaded\");\n",
       "            run_callbacks()\n",
       "          }\n",
       "        };\n",
       "        s.onerror = function() {\n",
       "          console.warn(\"failed to load library \" + url);\n",
       "        };\n",
       "        console.log(\"Bokeh: injecting script tag for BokehJS library: \", url);\n",
       "        document.getElementsByTagName(\"head\")[0].appendChild(s);\n",
       "      }\n",
       "    };var element = document.getElementById(\"6ed9f29b-c4da-420a-b2fb-9db4ec104b37\");\n",
       "    if (element == null) {\n",
       "      console.log(\"Bokeh: ERROR: autoload.js configured with elementid '6ed9f29b-c4da-420a-b2fb-9db4ec104b37' but no matching script tag was found. \")\n",
       "      return false;\n",
       "    }var js_urls = [];\n",
       "  \n",
       "    var inline_js = [\n",
       "      function(Bokeh) {\n",
       "        Bokeh.$(function() {\n",
       "            var docs_json = {\"20c5c2bb-cf03-4605-9137-fa87a5c9be46\": {\"version\": \"0.11.0\", \"roots\": {\"root_ids\": [\"d282e2a1-5194-4c14-844e-de279474342f\", \"fae9cb7a-b714-4894-9ddb-588a7e2adf20\"], \"references\": [{\"attributes\": {\"nonselection_glyph\": null, \"data_source\": {\"type\": \"ColumnDataSource\", \"id\": \"7b86cbdf-747d-4128-b5c1-9a19891c4d46\"}, \"selection_glyph\": null, \"hover_glyph\": null, \"glyph\": {\"type\": \"Rect\", \"id\": \"27041f82-9f12-4a2a-9531-d56cffa38a1b\"}}, \"type\": \"GlyphRenderer\", \"id\": \"8158aeaf-1268-45de-b9fd-747bff465a68\"}, {\"attributes\": {\"nonselection_glyph\": null, \"data_source\": {\"type\": \"ColumnDataSource\", \"id\": \"4b6a9762-f469-44cf-a0a9-c579400d83ef\"}, \"selection_glyph\": null, \"hover_glyph\": null, \"glyph\": {\"type\": \"Rect\", \"id\": \"1ca23d22-d104-483e-a34b-3960bb93da1c\"}}, \"type\": \"GlyphRenderer\", \"id\": \"e2a73ce1-9dad-45c8-bafb-187f7f995b3f\"}, {\"attributes\": {\"callback\": null, \"column_names\": [\"line_color\", \"line_alpha\", \"color\", \"fill_alpha\", \"height\", \"width\", \"y\", \"x\"], \"data\": {\"line_color\": [\"white\"], \"line_alpha\": [1.0], \"chart_index\": [{\"term\": \"front\"}], \"color\": [\"#f22c40\"], \"fill_alpha\": [0.8], \"term\": [\"front\"], \"height\": [595.0], \"width\": [0.8], \"y\": [297.5], \"x\": [\"front\"]}}, \"type\": \"ColumnDataSource\", \"id\": \"42a478d1-a871-41ba-8427-3223d8856f48\"}, {\"attributes\": {\"plot\": {\"subtype\": \"Figure\", \"type\": \"Plot\", \"id\": \"d282e2a1-5194-4c14-844e-de279474342f\"}}, \"type\": \"PreviewSaveTool\", \"id\": \"7cde05d3-8334-4806-96b3-56eb1f302ba5\"}, {\"attributes\": {\"nonselection_glyph\": null, \"data_source\": {\"type\": \"ColumnDataSource\", \"id\": \"6506f347-6872-47d9-bb35-21cf368df065\"}, \"selection_glyph\": null, \"hover_glyph\": null, \"glyph\": {\"type\": \"Rect\", \"id\": \"83b8ac25-aaab-47ff-bea2-e53f77a8c9e7\"}}, \"type\": \"GlyphRenderer\", \"id\": \"90e0c712-658e-47ba-b4f0-6059d385039e\"}, {\"attributes\": {\"plot\": {\"subtype\": \"Chart\", \"type\": \"Plot\", \"id\": \"fae9cb7a-b714-4894-9ddb-588a7e2adf20\"}}, \"type\": \"WheelZoomTool\", \"id\": \"549bd9df-8193-4519-bc65-b560c79c92f2\"}, {\"attributes\": {\"nonselection_glyph\": null, \"data_source\": {\"type\": \"ColumnDataSource\", \"id\": \"b34f8bd8-5d3a-4c8f-8350-f3f52c81384d\"}, \"selection_glyph\": null, \"hover_glyph\": null, \"glyph\": {\"type\": \"Rect\", \"id\": \"23519eef-6e53-41db-b030-7b6d868047ef\"}}, \"type\": \"GlyphRenderer\", \"id\": \"13939daf-a98e-488d-9128-52e4b27373ab\"}, {\"attributes\": {\"plot\": {\"subtype\": \"Chart\", \"type\": \"Plot\", \"id\": \"fae9cb7a-b714-4894-9ddb-588a7e2adf20\"}}, \"type\": \"PanTool\", \"id\": \"d499712a-53ae-411c-b56f-ace67872d12e\"}, {\"attributes\": {\"plot\": {\"subtype\": \"Figure\", \"type\": \"Plot\", \"id\": \"d282e2a1-5194-4c14-844e-de279474342f\"}, \"axis_label\": \"Documents\", \"formatter\": {\"type\": \"BasicTickFormatter\", \"id\": \"507c5673-e3ac-47d5-9b9a-ae9fbbcbb365\"}, \"ticker\": {\"type\": \"BasicTicker\", \"id\": \"efadc2e5-88d1-4e04-88a1-4d5ffd2e05aa\"}}, \"type\": \"LinearAxis\", \"id\": \"e7c4827e-25f6-4966-b0a7-afa0f9b98512\"}, {\"attributes\": {\"line_color\": {\"field\": \"line_color\"}, \"fill_color\": {\"field\": \"color\"}, \"fill_alpha\": {\"field\": \"fill_alpha\"}, \"height\": {\"units\": \"data\", \"field\": \"height\"}, \"width\": {\"units\": \"data\", \"field\": \"width\"}, \"y\": {\"field\": \"y\"}, \"x\": {\"field\": \"x\"}}, \"type\": \"Rect\", \"id\": \"23519eef-6e53-41db-b030-7b6d868047ef\"}, {\"attributes\": {\"callback\": null, \"end\": 4760.7}, \"type\": \"Range1d\", \"id\": \"2f999db4-686a-4277-8122-2d0c81fea45b\"}, {\"attributes\": {\"plot\": {\"subtype\": \"Figure\", \"type\": \"Plot\", \"id\": \"d282e2a1-5194-4c14-844e-de279474342f\"}, \"axis_label\": \"Sparsity\", \"formatter\": {\"type\": \"BasicTickFormatter\", \"id\": \"38838f20-73e0-4023-b319-68568e20c004\"}, \"ticker\": {\"type\": \"BasicTicker\", \"id\": \"54f9c289-9aaa-4245-8711-42d6ecf53f2d\"}}, \"type\": \"LinearAxis\", \"id\": \"b06fdb07-0640-499d-8117-14276d7d2271\"}, {\"attributes\": {\"line_color\": {\"field\": \"line_color\"}, \"fill_color\": {\"field\": \"color\"}, \"fill_alpha\": {\"field\": \"fill_alpha\"}, \"height\": {\"units\": \"data\", \"field\": \"height\"}, \"width\": {\"units\": \"data\", \"field\": \"width\"}, \"y\": {\"field\": \"y\"}, \"x\": {\"field\": \"x\"}}, \"type\": \"Rect\", \"id\": \"36cb98b7-c06e-4386-bb1d-7de3077e2bd5\"}, {\"attributes\": {\"plot\": {\"subtype\": \"Chart\", \"type\": \"Plot\", \"id\": \"fae9cb7a-b714-4894-9ddb-588a7e2adf20\"}}, \"type\": \"HelpTool\", \"id\": \"e952f416-e04e-4621-900d-ca222ffc5cb5\"}, {\"attributes\": {\"nonselection_glyph\": null, \"data_source\": {\"type\": \"ColumnDataSource\", \"id\": \"940a2de8-7618-4a84-b48e-0254bd411573\"}, \"selection_glyph\": null, \"hover_glyph\": null, \"glyph\": {\"type\": \"Rect\", \"id\": \"5c527578-5c0c-4950-a185-103fe266bd19\"}}, \"type\": \"GlyphRenderer\", \"id\": \"b698df3a-4322-4898-b5b0-334b7517716c\"}, {\"attributes\": {\"plot\": {\"subtype\": \"Chart\", \"type\": \"Plot\", \"id\": \"fae9cb7a-b714-4894-9ddb-588a7e2adf20\"}, \"axis_label\": \"Sum( Freq )\", \"formatter\": {\"type\": \"BasicTickFormatter\", \"id\": \"b2048fea-80c5-4cd5-81e2-54dc635f2671\"}, \"ticker\": {\"type\": \"BasicTicker\", \"id\": \"38ef8bfb-a37e-440e-94d7-627ed1801183\"}}, \"type\": \"LinearAxis\", \"id\": \"0b46f8f2-b70a-44d1-aa98-ba82a4e7fc45\"}, {\"attributes\": {\"nonselection_glyph\": null, \"data_source\": {\"type\": \"ColumnDataSource\", \"id\": \"f41eb3e4-6d6d-4591-b696-0d13d7123096\"}, \"selection_glyph\": null, \"hover_glyph\": null, \"glyph\": {\"type\": \"Rect\", \"id\": \"b802c353-a02a-45a9-b346-1595f4ea999a\"}}, \"type\": \"GlyphRenderer\", \"id\": \"2945693d-324e-4548-bee5-442ac2d88e46\"}, {\"attributes\": {\"line_color\": {\"field\": \"line_color\"}, \"fill_color\": {\"field\": \"color\"}, \"fill_alpha\": {\"field\": \"fill_alpha\"}, \"height\": {\"units\": \"data\", \"field\": \"height\"}, \"width\": {\"units\": \"data\", \"field\": \"width\"}, \"y\": {\"field\": \"y\"}, \"x\": {\"field\": \"x\"}}, \"type\": \"Rect\", \"id\": \"183b95af-8a05-49b7-b0af-15f9dd1b1a28\"}, {\"attributes\": {\"line_color\": {\"field\": \"line_color\"}, \"fill_color\": {\"field\": \"color\"}, \"fill_alpha\": {\"field\": \"fill_alpha\"}, \"height\": {\"units\": \"data\", \"field\": \"height\"}, \"width\": {\"units\": \"data\", \"field\": \"width\"}, \"y\": {\"field\": \"y\"}, \"x\": {\"field\": \"x\"}}, \"type\": \"Rect\", \"id\": \"79d3509b-d248-46d6-89ab-a1fe4f7551c8\"}, {\"attributes\": {\"callback\": null, \"column_names\": [\"line_color\", \"line_alpha\", \"color\", \"fill_alpha\", \"height\", \"width\", \"y\", \"x\"], \"data\": {\"line_color\": [\"white\"], \"line_alpha\": [1.0], \"chart_index\": [{\"term\": \"speed\"}], \"color\": [\"#f22c40\"], \"fill_alpha\": [0.8], \"term\": [\"speed\"], \"height\": [753.0], \"width\": [0.8], \"y\": [376.5], \"x\": [\"speed\"]}}, \"type\": \"ColumnDataSource\", \"id\": \"8fefeaf4-15f4-416a-a1ff-55401d4d3d14\"}, {\"attributes\": {\"nonselection_glyph\": null, \"data_source\": {\"type\": \"ColumnDataSource\", \"id\": \"f5ecf763-8ca1-4eaf-a1fe-8d85b57a4863\"}, \"selection_glyph\": null, \"hover_glyph\": null, \"glyph\": {\"type\": \"Rect\", \"id\": \"58ddffa9-dd32-4e63-8cd1-ebb1e3bff847\"}}, \"type\": \"GlyphRenderer\", \"id\": \"f6cb02c8-8d72-4949-9e9a-31b1cc423c24\"}, {\"attributes\": {\"plot\": {\"subtype\": \"Chart\", \"type\": \"Plot\", \"id\": \"fae9cb7a-b714-4894-9ddb-588a7e2adf20\"}}, \"type\": \"ResetTool\", \"id\": \"4b7cfee6-44ad-4bcb-931e-39bfea1328a4\"}, {\"attributes\": {\"x_range\": {\"type\": \"FactorRange\", \"id\": \"40ee5dd8-d77d-402d-b1f4-001f1f7a731a\"}, \"y_mapper_type\": \"auto\", \"title_text_font_size\": {\"value\": \"14pt\"}, \"yscale\": \"auto\", \"y_range\": {\"type\": \"Range1d\", \"id\": \"2f999db4-686a-4277-8122-2d0c81fea45b\"}, \"x_mapper_type\": \"auto\", \"renderers\": [{\"type\": \"BoxAnnotation\", \"id\": \"e60d50f6-e491-4fbc-b079-8fd8c592341a\"}, {\"type\": \"GlyphRenderer\", \"id\": \"0f639a18-5e89-4819-98de-d92cdc40506e\"}, {\"type\": \"GlyphRenderer\", \"id\": \"2d1b6c53-f628-4c68-a99c-2ae285cbad7d\"}, {\"type\": \"GlyphRenderer\", \"id\": \"7af177be-ccac-49bd-b408-6cf709e9b301\"}, {\"type\": \"GlyphRenderer\", \"id\": \"2945693d-324e-4548-bee5-442ac2d88e46\"}, {\"type\": \"GlyphRenderer\", \"id\": \"fb49ebd6-3dfb-4577-a849-f116e80c9908\"}, {\"type\": \"GlyphRenderer\", \"id\": \"d487bbd5-bed0-4c04-844b-9cfa51a3e5a5\"}, {\"type\": \"GlyphRenderer\", \"id\": \"24066d33-e1a6-4b1e-9948-436826da5d52\"}, {\"type\": \"GlyphRenderer\", \"id\": \"692d9609-e8ee-4763-9b2f-b8165e9b4073\"}, {\"type\": \"GlyphRenderer\", \"id\": \"c44e4c19-bc6f-4d27-a17a-5be24400aa71\"}, {\"type\": \"GlyphRenderer\", \"id\": \"87f78ad6-6ac1-41d2-bf5a-26b1b09cbb3b\"}, {\"type\": \"GlyphRenderer\", \"id\": \"bb7db3e0-8aaa-44aa-b7fd-604da6aff9a5\"}, {\"type\": \"GlyphRenderer\", \"id\": \"597f807c-1749-4412-8f2c-47af257c4aa1\"}, {\"type\": \"GlyphRenderer\", \"id\": \"bcd217c5-36df-47a8-a042-ee5968499b68\"}, {\"type\": \"GlyphRenderer\", \"id\": \"094bb67f-58f0-451e-b947-bb41e66c4c03\"}, {\"type\": \"GlyphRenderer\", \"id\": \"63a31dcb-a4d6-4533-a4e6-de00d9aa256d\"}, {\"type\": \"GlyphRenderer\", \"id\": \"74a0c83b-c281-491e-8e82-0d89a0d96b78\"}, {\"type\": \"GlyphRenderer\", \"id\": \"c5c61353-7a11-49f0-ace1-527a493a509f\"}, {\"type\": \"GlyphRenderer\", \"id\": \"e2a73ce1-9dad-45c8-bafb-187f7f995b3f\"}, {\"type\": \"GlyphRenderer\", \"id\": \"5fefaa56-3f56-42b5-b322-6f36fad9af82\"}, {\"type\": \"GlyphRenderer\", \"id\": \"d7ae91ff-68bb-4964-85fd-5ac627dd488b\"}, {\"type\": \"GlyphRenderer\", \"id\": \"f6cb02c8-8d72-4949-9e9a-31b1cc423c24\"}, {\"type\": \"GlyphRenderer\", \"id\": \"7b692c92-994b-4fbf-95a0-e9c46ce3e4c0\"}, {\"type\": \"GlyphRenderer\", \"id\": \"21760956-6a1b-4950-8729-5930b03168fe\"}, {\"type\": \"GlyphRenderer\", \"id\": \"b698df3a-4322-4898-b5b0-334b7517716c\"}, {\"type\": \"GlyphRenderer\", \"id\": \"13939daf-a98e-488d-9128-52e4b27373ab\"}, {\"type\": \"GlyphRenderer\", \"id\": \"90e0c712-658e-47ba-b4f0-6059d385039e\"}, {\"type\": \"GlyphRenderer\", \"id\": \"56299f79-dc34-4b3e-94ed-e2b4fa9a228b\"}, {\"type\": \"GlyphRenderer\", \"id\": \"d1cc5a9c-abea-45c4-a30f-7e7c78f9b0e2\"}, {\"type\": \"GlyphRenderer\", \"id\": \"dc9b835b-784d-4100-993d-4bdbb516cc67\"}, {\"type\": \"GlyphRenderer\", \"id\": \"8158aeaf-1268-45de-b9fd-747bff465a68\"}, {\"type\": \"CategoricalAxis\", \"id\": \"40263238-8fe9-42ac-941b-8a3e0272aa78\"}, {\"type\": \"LinearAxis\", \"id\": \"0b46f8f2-b70a-44d1-aa98-ba82a4e7fc45\"}, {\"type\": \"Grid\", \"id\": \"bf293605-31b6-4afe-bf07-5d5335e30a33\"}], \"plot_width\": 800, \"xgrid\": false, \"below\": [{\"type\": \"CategoricalAxis\", \"id\": \"40263238-8fe9-42ac-941b-8a3e0272aa78\"}], \"tool_events\": {\"type\": \"ToolEvents\", \"id\": \"d8a5ac79-ccec-4d4b-b26d-174326978902\"}, \"plot_height\": 400, \"xscale\": \"auto\", \"tools\": [{\"type\": \"PanTool\", \"id\": \"d499712a-53ae-411c-b56f-ace67872d12e\"}, {\"type\": \"WheelZoomTool\", \"id\": \"549bd9df-8193-4519-bc65-b560c79c92f2\"}, {\"type\": \"BoxZoomTool\", \"id\": \"2ff26a8a-2dd2-40e2-89d1-c6390f90d2ea\"}, {\"type\": \"PreviewSaveTool\", \"id\": \"9a920ac8-3d82-46bf-99e4-2226d6636314\"}, {\"type\": \"ResizeTool\", \"id\": \"6b821893-51ac-4124-941b-55f2f32b0970\"}, {\"type\": \"ResetTool\", \"id\": \"4b7cfee6-44ad-4bcb-931e-39bfea1328a4\"}, {\"type\": \"HelpTool\", \"id\": \"e952f416-e04e-4621-900d-ca222ffc5cb5\"}], \"legend\": null, \"left\": [{\"type\": \"LinearAxis\", \"id\": \"0b46f8f2-b70a-44d1-aa98-ba82a4e7fc45\"}]}, \"type\": \"Plot\", \"id\": \"fae9cb7a-b714-4894-9ddb-588a7e2adf20\", \"subtype\": \"Chart\"}, {\"attributes\": {\"callback\": null, \"column_names\": [\"line_color\", \"line_alpha\", \"color\", \"fill_alpha\", \"height\", \"width\", \"y\", \"x\"], \"data\": {\"line_color\": [\"white\"], \"line_alpha\": [1.0], \"chart_index\": [{\"term\": \"seat\"}], \"color\": [\"#f22c40\"], \"fill_alpha\": [0.8], \"term\": [\"seat\"], \"height\": [402.0], \"width\": [0.8], \"y\": [201.0], \"x\": [\"seat\"]}}, \"type\": \"ColumnDataSource\", \"id\": \"86d3b76f-7e14-40ce-be3a-e2f32e61b298\"}, {\"attributes\": {\"nonselection_glyph\": null, \"data_source\": {\"type\": \"ColumnDataSource\", \"id\": \"86ae2987-ed66-42c2-b444-4d0d3f8ddafe\"}, \"selection_glyph\": null, \"hover_glyph\": null, \"glyph\": {\"type\": \"Rect\", \"id\": \"33330863-d418-4390-9bef-4d7221e9c8c2\"}}, \"type\": \"GlyphRenderer\", \"id\": \"7af177be-ccac-49bd-b408-6cf709e9b301\"}, {\"attributes\": {\"nonselection_glyph\": null, \"data_source\": {\"type\": \"ColumnDataSource\", \"id\": \"51cced70-552c-4202-9a5b-05ec76343d3d\"}, \"selection_glyph\": null, \"hover_glyph\": null, \"glyph\": {\"type\": \"Rect\", \"id\": \"8cdc5cbb-353a-402a-b64b-ace3fd464357\"}}, \"type\": \"GlyphRenderer\", \"id\": \"74a0c83b-c281-491e-8e82-0d89a0d96b78\"}, {\"attributes\": {}, \"type\": \"BasicTickFormatter\", \"id\": \"507c5673-e3ac-47d5-9b9a-ae9fbbcbb365\"}, {\"attributes\": {\"x_range\": {\"type\": \"DataRange1d\", \"id\": \"4bb80465-4510-4c00-94f2-36dcc65b0440\"}, \"y_range\": {\"type\": \"DataRange1d\", \"id\": \"b269c30a-ba84-4a4f-980a-8f0fe9da9ebf\"}, \"renderers\": [{\"type\": \"LinearAxis\", \"id\": \"e7c4827e-25f6-4966-b0a7-afa0f9b98512\"}, {\"type\": \"Grid\", \"id\": \"ccc69f08-848b-4235-abe3-f67638d6e486\"}, {\"type\": \"LinearAxis\", \"id\": \"b06fdb07-0640-499d-8117-14276d7d2271\"}, {\"type\": \"Grid\", \"id\": \"e5df42df-1afa-4700-87f8-75e7db660442\"}, {\"type\": \"BoxAnnotation\", \"id\": \"42090751-588c-47db-b8f5-1bafa418721a\"}, {\"type\": \"GlyphRenderer\", \"id\": \"11352fcb-4b8c-4b54-a3a9-535c03271345\"}, {\"type\": \"GlyphRenderer\", \"id\": \"a67b8aef-b389-47a1-accc-05ad36a507b7\"}], \"plot_width\": 400, \"below\": [{\"type\": \"LinearAxis\", \"id\": \"e7c4827e-25f6-4966-b0a7-afa0f9b98512\"}], \"tool_events\": {\"type\": \"ToolEvents\", \"id\": \"e0c48543-b874-4084-b86a-4dd9fba71dd2\"}, \"plot_height\": 400, \"tools\": [{\"type\": \"PanTool\", \"id\": \"4ecf03c7-4a34-4cad-bfbe-2ebbd7c29464\"}, {\"type\": \"WheelZoomTool\", \"id\": \"7d721ae5-8619-462b-8484-427a99fd0b1c\"}, {\"type\": \"BoxZoomTool\", \"id\": \"abbe7d9f-d98d-46ef-aae4-76bb0073d17b\"}, {\"type\": \"PreviewSaveTool\", \"id\": \"7cde05d3-8334-4806-96b3-56eb1f302ba5\"}, {\"type\": \"ResizeTool\", \"id\": \"a04b3490-26a7-4e07-904a-944f05cbd982\"}, {\"type\": \"ResetTool\", \"id\": \"764cf4b2-efb6-4d99-b031-66aa7bd23678\"}, {\"type\": \"HelpTool\", \"id\": \"e322581e-442c-4d37-b3ba-5168777f61d1\"}], \"left\": [{\"type\": \"LinearAxis\", \"id\": \"b06fdb07-0640-499d-8117-14276d7d2271\"}]}, \"type\": \"Plot\", \"id\": \"d282e2a1-5194-4c14-844e-de279474342f\", \"subtype\": \"Figure\"}, {\"attributes\": {\"plot\": {\"subtype\": \"Chart\", \"type\": \"Plot\", \"id\": \"fae9cb7a-b714-4894-9ddb-588a7e2adf20\"}}, \"type\": \"ResizeTool\", \"id\": \"6b821893-51ac-4124-941b-55f2f32b0970\"}, {\"attributes\": {\"nonselection_glyph\": null, \"data_source\": {\"type\": \"ColumnDataSource\", \"id\": \"416c442c-ca29-417a-b403-4e92a53d49ae\"}, \"selection_glyph\": null, \"hover_glyph\": null, \"glyph\": {\"type\": \"Rect\", \"id\": \"50d5e8e4-5a88-43e9-b8ee-66efdca6bfeb\"}}, \"type\": \"GlyphRenderer\", \"id\": \"fb49ebd6-3dfb-4577-a849-f116e80c9908\"}, {\"attributes\": {\"callback\": null, \"column_names\": [\"line_color\", \"line_alpha\", \"color\", \"fill_alpha\", \"height\", \"width\", \"y\", \"x\"], \"data\": {\"line_color\": [\"white\"], \"line_alpha\": [1.0], \"chart_index\": [{\"term\": \"for\"}], \"color\": [\"#f22c40\"], \"fill_alpha\": [0.8], \"term\": [\"for\"], \"height\": [690.0], \"width\": [0.8], \"y\": [345.0], \"x\": [\"for\"]}}, \"type\": \"ColumnDataSource\", \"id\": \"123c3286-17f2-4b96-b99b-3c367fb417ca\"}, {\"attributes\": {\"line_color\": {\"field\": \"line_color\"}, \"fill_color\": {\"field\": \"color\"}, \"fill_alpha\": {\"field\": \"fill_alpha\"}, \"height\": {\"units\": \"data\", \"field\": \"height\"}, \"width\": {\"units\": \"data\", \"field\": \"width\"}, \"y\": {\"field\": \"y\"}, \"x\": {\"field\": \"x\"}}, \"type\": \"Rect\", \"id\": \"5c527578-5c0c-4950-a185-103fe266bd19\"}, {\"attributes\": {\"line_color\": {\"field\": \"line_color\"}, \"fill_color\": {\"field\": \"color\"}, \"fill_alpha\": {\"field\": \"fill_alpha\"}, \"height\": {\"units\": \"data\", \"field\": \"height\"}, \"width\": {\"units\": \"data\", \"field\": \"width\"}, \"y\": {\"field\": \"y\"}, \"x\": {\"field\": \"x\"}}, \"type\": \"Rect\", \"id\": \"4821174f-ba6e-43b9-b1ba-9f352b788191\"}, {\"attributes\": {\"plot\": {\"subtype\": \"Chart\", \"type\": \"Plot\", \"id\": \"fae9cb7a-b714-4894-9ddb-588a7e2adf20\"}, \"overlay\": {\"type\": \"BoxAnnotation\", \"id\": \"e60d50f6-e491-4fbc-b079-8fd8c592341a\"}}, \"type\": \"BoxZoomTool\", \"id\": \"2ff26a8a-2dd2-40e2-89d1-c6390f90d2ea\"}, {\"attributes\": {\"callback\": null, \"column_names\": [\"line_color\", \"line_alpha\", \"color\", \"fill_alpha\", \"height\", \"width\", \"y\", \"x\"], \"data\": {\"line_color\": [\"white\"], \"line_alpha\": [1.0], \"chart_index\": [{\"term\": \"carbon\"}], \"color\": [\"#f22c40\"], \"fill_alpha\": [0.8], \"term\": [\"carbon\"], \"height\": [484.0], \"width\": [0.8], \"y\": [242.0], \"x\": [\"carbon\"]}}, \"type\": \"ColumnDataSource\", \"id\": \"f5ecf763-8ca1-4eaf-a1fe-8d85b57a4863\"}, {\"attributes\": {\"callback\": null, \"column_names\": [\"line_color\", \"line_alpha\", \"color\", \"fill_alpha\", \"height\", \"width\", \"y\", \"x\"], \"data\": {\"line_color\": [\"white\"], \"line_alpha\": [1.0], \"chart_index\": [{\"term\": \"brake\"}], \"color\": [\"#f22c40\"], \"fill_alpha\": [0.8], \"term\": [\"brake\"], \"height\": [542.0], \"width\": [0.8], \"y\": [271.0], \"x\": [\"brake\"]}}, \"type\": \"ColumnDataSource\", \"id\": \"4b805042-bef5-452f-a2e5-0150bff8fc80\"}, {\"attributes\": {\"line_color\": {\"field\": \"line_color\"}, \"fill_color\": {\"field\": \"color\"}, \"fill_alpha\": {\"field\": \"fill_alpha\"}, \"height\": {\"units\": \"data\", \"field\": \"height\"}, \"width\": {\"units\": \"data\", \"field\": \"width\"}, \"y\": {\"field\": \"y\"}, \"x\": {\"field\": \"x\"}}, \"type\": \"Rect\", \"id\": \"76d1dac2-ce55-4059-96af-e047b75c2e0b\"}, {\"attributes\": {\"line_color\": {\"field\": \"line_color\"}, \"fill_color\": {\"field\": \"color\"}, \"fill_alpha\": {\"field\": \"fill_alpha\"}, \"height\": {\"units\": \"data\", \"field\": \"height\"}, \"width\": {\"units\": \"data\", \"field\": \"width\"}, \"y\": {\"field\": \"y\"}, \"x\": {\"field\": \"x\"}}, \"type\": \"Rect\", \"id\": \"d498ea52-a2f6-4c2c-97ba-99dd34f9f645\"}, {\"attributes\": {\"line_color\": {\"field\": \"line_color\"}, \"fill_color\": {\"field\": \"color\"}, \"fill_alpha\": {\"field\": \"fill_alpha\"}, \"height\": {\"units\": \"data\", \"field\": \"height\"}, \"width\": {\"units\": \"data\", \"field\": \"width\"}, \"y\": {\"field\": \"y\"}, \"x\": {\"field\": \"x\"}}, \"type\": \"Rect\", \"id\": \"fe5eb47a-897a-43b9-89d6-aef1913c29b7\"}, {\"attributes\": {\"callback\": null, \"column_names\": [\"line_color\", \"line_alpha\", \"color\", \"fill_alpha\", \"height\", \"width\", \"y\", \"x\"], \"data\": {\"line_color\": [\"white\"], \"line_alpha\": [1.0], \"chart_index\": [{\"term\": \"new\"}], \"color\": [\"#f22c40\"], \"fill_alpha\": [0.8], \"term\": [\"new\"], \"height\": [2163.0], \"width\": [0.8], \"y\": [1081.5], \"x\": [\"new\"]}}, \"type\": \"ColumnDataSource\", \"id\": \"86ae2987-ed66-42c2-b444-4d0d3f8ddafe\"}, {\"attributes\": {\"line_color\": {\"field\": \"line_color\"}, \"fill_color\": {\"field\": \"color\"}, \"fill_alpha\": {\"field\": \"fill_alpha\"}, \"height\": {\"units\": \"data\", \"field\": \"height\"}, \"width\": {\"units\": \"data\", \"field\": \"width\"}, \"y\": {\"field\": \"y\"}, \"x\": {\"field\": \"x\"}}, \"type\": \"Rect\", \"id\": \"5a9936c9-6517-46ba-bee8-b65cf294cbb5\"}, {\"attributes\": {\"nonselection_glyph\": null, \"data_source\": {\"type\": \"ColumnDataSource\", \"id\": \"8e6f662f-f95c-4123-8aff-208f3a748fd9\"}, \"selection_glyph\": null, \"hover_glyph\": null, \"glyph\": {\"type\": \"Rect\", \"id\": \"93f68134-7bcf-446c-8d41-394c5965c59b\"}}, \"type\": \"GlyphRenderer\", \"id\": \"c44e4c19-bc6f-4d27-a17a-5be24400aa71\"}, {\"attributes\": {\"callback\": null, \"column_names\": [\"line_color\", \"line_alpha\", \"color\", \"fill_alpha\", \"height\", \"width\", \"y\", \"x\"], \"data\": {\"line_color\": [\"white\"], \"line_alpha\": [1.0], \"chart_index\": [{\"term\": \"cycling\"}], \"color\": [\"#f22c40\"], \"fill_alpha\": [0.8], \"term\": [\"cycling\"], \"height\": [2162.0], \"width\": [0.8], \"y\": [1081.0], \"x\": [\"cycling\"]}}, \"type\": \"ColumnDataSource\", \"id\": \"f41eb3e4-6d6d-4591-b696-0d13d7123096\"}, {\"attributes\": {\"nonselection_glyph\": null, \"data_source\": {\"type\": \"ColumnDataSource\", \"id\": \"1201535b-021a-44fe-b8a0-192e23141f65\"}, \"selection_glyph\": null, \"hover_glyph\": null, \"glyph\": {\"type\": \"Rect\", \"id\": \"4821174f-ba6e-43b9-b1ba-9f352b788191\"}}, \"type\": \"GlyphRenderer\", \"id\": \"692d9609-e8ee-4763-9b2f-b8165e9b4073\"}, {\"attributes\": {\"plot\": {\"subtype\": \"Chart\", \"type\": \"Plot\", \"id\": \"fae9cb7a-b714-4894-9ddb-588a7e2adf20\"}, \"ticker\": {\"type\": \"BasicTicker\", \"id\": \"38ef8bfb-a37e-440e-94d7-627ed1801183\"}, \"dimension\": 1}, \"type\": \"Grid\", \"id\": \"bf293605-31b6-4afe-bf07-5d5335e30a33\"}, {\"attributes\": {\"line_color\": {\"value\": \"#1f77b4\"}, \"line_width\": {\"value\": 2}, \"y\": {\"field\": \"y\"}, \"x\": {\"field\": \"x\"}}, \"type\": \"Line\", \"id\": \"872a6fed-dbe1-4367-89a1-122091b655aa\"}, {\"attributes\": {\"plot\": {\"subtype\": \"Figure\", \"type\": \"Plot\", \"id\": \"d282e2a1-5194-4c14-844e-de279474342f\"}, \"ticker\": {\"type\": \"BasicTicker\", \"id\": \"efadc2e5-88d1-4e04-88a1-4d5ffd2e05aa\"}}, \"type\": \"Grid\", \"id\": \"ccc69f08-848b-4235-abe3-f67638d6e486\"}, {\"attributes\": {\"line_color\": {\"field\": \"line_color\"}, \"fill_color\": {\"field\": \"color\"}, \"fill_alpha\": {\"field\": \"fill_alpha\"}, \"height\": {\"units\": \"data\", \"field\": \"height\"}, \"width\": {\"units\": \"data\", \"field\": \"width\"}, \"y\": {\"field\": \"y\"}, \"x\": {\"field\": \"x\"}}, \"type\": \"Rect\", \"id\": \"b3e1bcba-8a9d-4754-ad34-2775842ab04b\"}, {\"attributes\": {\"callback\": null, \"column_names\": [\"line_color\", \"line_alpha\", \"color\", \"fill_alpha\", \"height\", \"width\", \"y\", \"x\"], \"data\": {\"line_color\": [\"white\"], \"line_alpha\": [1.0], \"chart_index\": [{\"term\": \"handlebar\"}], \"color\": [\"#f22c40\"], \"fill_alpha\": [0.8], \"term\": [\"handlebar\"], \"height\": [467.0], \"width\": [0.8], \"y\": [233.5], \"x\": [\"handlebar\"]}}, \"type\": \"ColumnDataSource\", \"id\": \"940a2de8-7618-4a84-b48e-0254bd411573\"}, {\"attributes\": {\"plot\": {\"subtype\": \"Figure\", \"type\": \"Plot\", \"id\": \"d282e2a1-5194-4c14-844e-de279474342f\"}}, \"type\": \"PanTool\", \"id\": \"4ecf03c7-4a34-4cad-bfbe-2ebbd7c29464\"}, {\"attributes\": {\"line_color\": {\"field\": \"line_color\"}, \"fill_color\": {\"field\": \"color\"}, \"fill_alpha\": {\"field\": \"fill_alpha\"}, \"height\": {\"units\": \"data\", \"field\": \"height\"}, \"width\": {\"units\": \"data\", \"field\": \"width\"}, \"y\": {\"field\": \"y\"}, \"x\": {\"field\": \"x\"}}, \"type\": \"Rect\", \"id\": \"58fe346c-7756-4a71-95b7-b812d3b4382e\"}, {\"attributes\": {\"line_color\": {\"field\": \"line_color\"}, \"fill_color\": {\"field\": \"color\"}, \"fill_alpha\": {\"field\": \"fill_alpha\"}, \"height\": {\"units\": \"data\", \"field\": \"height\"}, \"width\": {\"units\": \"data\", \"field\": \"width\"}, \"y\": {\"field\": \"y\"}, \"x\": {\"field\": \"x\"}}, \"type\": \"Rect\", \"id\": \"b802c353-a02a-45a9-b346-1595f4ea999a\"}, {\"attributes\": {\"callback\": null, \"column_names\": [\"y\", \"x\"], \"data\": {\"y\": [0.9821128714317003, 0.9883890210559955, 0.9912191990698407, 0.9926077154550996, 0.9934271147723699, 0.9942291412146989, 0.9947342910720529, 0.9951831935547358, 0.9955050581978345], \"x\": [100, 200, 300, 400, 500, 600, 700, 800, 900]}}, \"type\": \"ColumnDataSource\", \"id\": \"18e80e6b-5a16-44fb-af3c-f92ae5b9c710\"}, {\"attributes\": {\"callback\": null, \"column_names\": [\"line_color\", \"line_alpha\", \"color\", \"fill_alpha\", \"height\", \"width\", \"y\", \"x\"], \"data\": {\"line_color\": [\"white\"], \"line_alpha\": [1.0], \"chart_index\": [{\"term\": \"tire\"}], \"color\": [\"#f22c40\"], \"fill_alpha\": [0.8], \"term\": [\"tire\"], \"height\": [480.0], \"width\": [0.8], \"y\": [240.0], \"x\": [\"tire\"]}}, \"type\": \"ColumnDataSource\", \"id\": \"ed04e8f3-f633-4a03-81bb-1d0c75f0c0be\"}, {\"attributes\": {\"callback\": null, \"column_names\": [\"line_color\", \"line_alpha\", \"color\", \"fill_alpha\", \"height\", \"width\", \"y\", \"x\"], \"data\": {\"line_color\": [\"white\"], \"line_alpha\": [1.0], \"chart_index\": [{\"term\": \"led\"}], \"color\": [\"#f22c40\"], \"fill_alpha\": [0.8], \"term\": [\"led\"], \"height\": [582.0], \"width\": [0.8], \"y\": [291.0], \"x\": [\"led\"]}}, \"type\": \"ColumnDataSource\", \"id\": \"51cced70-552c-4202-9a5b-05ec76343d3d\"}, {\"attributes\": {\"plot\": {\"subtype\": \"Figure\", \"type\": \"Plot\", \"id\": \"d282e2a1-5194-4c14-844e-de279474342f\"}}, \"type\": \"ResizeTool\", \"id\": \"a04b3490-26a7-4e07-904a-944f05cbd982\"}, {\"attributes\": {\"plot\": {\"subtype\": \"Figure\", \"type\": \"Plot\", \"id\": \"d282e2a1-5194-4c14-844e-de279474342f\"}}, \"type\": \"HelpTool\", \"id\": \"e322581e-442c-4d37-b3ba-5168777f61d1\"}, {\"attributes\": {\"line_color\": {\"field\": \"line_color\"}, \"fill_color\": {\"field\": \"color\"}, \"fill_alpha\": {\"field\": \"fill_alpha\"}, \"height\": {\"units\": \"data\", \"field\": \"height\"}, \"width\": {\"units\": \"data\", \"field\": \"width\"}, \"y\": {\"field\": \"y\"}, \"x\": {\"field\": \"x\"}}, \"type\": \"Rect\", \"id\": \"33debcf4-0119-4683-ad5e-d4ac98561401\"}, {\"attributes\": {\"line_color\": {\"value\": \"#1f77b4\"}, \"line_alpha\": {\"value\": 0.1}, \"fill_color\": {\"value\": \"#1f77b4\"}, \"fill_alpha\": {\"value\": 0.1}, \"y\": {\"field\": \"y\"}, \"x\": {\"field\": \"x\"}, \"size\": {\"units\": \"screen\", \"value\": 8}}, \"type\": \"Circle\", \"id\": \"2b251ca4-505e-4d31-b796-bc1f60c2d16b\"}, {\"attributes\": {\"line_color\": {\"field\": \"line_color\"}, \"fill_color\": {\"field\": \"color\"}, \"fill_alpha\": {\"field\": \"fill_alpha\"}, \"height\": {\"units\": \"data\", \"field\": \"height\"}, \"width\": {\"units\": \"data\", \"field\": \"width\"}, \"y\": {\"field\": \"y\"}, \"x\": {\"field\": \"x\"}}, \"type\": \"Rect\", \"id\": \"0e5ef3df-81a1-478c-aca6-c78ab9ae4b32\"}, {\"attributes\": {\"callback\": null, \"column_names\": [\"line_color\", \"line_alpha\", \"color\", \"fill_alpha\", \"height\", \"width\", \"y\", \"x\"], \"data\": {\"line_color\": [\"white\"], \"line_alpha\": [1.0], \"chart_index\": [{\"term\": \"bike\"}], \"color\": [\"#f22c40\"], \"fill_alpha\": [0.8], \"term\": [\"bike\"], \"height\": [4534.0], \"width\": [0.8], \"y\": [2267.0], \"x\": [\"bike\"]}}, \"type\": \"ColumnDataSource\", \"id\": \"b502bf21-603e-4ba6-b577-09c38444e5f5\"}, {\"attributes\": {\"callback\": null, \"column_names\": [\"line_color\", \"line_alpha\", \"color\", \"fill_alpha\", \"height\", \"width\", \"y\", \"x\"], \"data\": {\"line_color\": [\"white\"], \"line_alpha\": [1.0], \"chart_index\": [{\"term\": \"x\"}], \"color\": [\"#f22c40\"], \"fill_alpha\": [0.8], \"term\": [\"x\"], \"height\": [782.0], \"width\": [0.8], \"y\": [391.0], \"x\": [\"x\"]}}, \"type\": \"ColumnDataSource\", \"id\": \"3650cdbf-f0ae-4d6a-ad6b-d6b86d4248b4\"}, {\"attributes\": {\"line_color\": {\"field\": \"line_color\"}, \"fill_color\": {\"field\": \"color\"}, \"fill_alpha\": {\"field\": \"fill_alpha\"}, \"height\": {\"units\": \"data\", \"field\": \"height\"}, \"width\": {\"units\": \"data\", \"field\": \"width\"}, \"y\": {\"field\": \"y\"}, \"x\": {\"field\": \"x\"}}, \"type\": \"Rect\", \"id\": \"50d5e8e4-5a88-43e9-b8ee-66efdca6bfeb\"}, {\"attributes\": {}, \"type\": \"ToolEvents\", \"id\": \"d8a5ac79-ccec-4d4b-b26d-174326978902\"}, {\"attributes\": {\"nonselection_glyph\": null, \"data_source\": {\"type\": \"ColumnDataSource\", \"id\": \"04c46b36-f9b6-408a-bcfa-98ba91643f31\"}, \"selection_glyph\": null, \"hover_glyph\": null, \"glyph\": {\"type\": \"Rect\", \"id\": \"36cb98b7-c06e-4386-bb1d-7de3077e2bd5\"}}, \"type\": \"GlyphRenderer\", \"id\": \"dc9b835b-784d-4100-993d-4bdbb516cc67\"}, {\"attributes\": {}, \"type\": \"BasicTickFormatter\", \"id\": \"38838f20-73e0-4023-b319-68568e20c004\"}, {\"attributes\": {\"line_color\": {\"field\": \"line_color\"}, \"fill_color\": {\"field\": \"color\"}, \"fill_alpha\": {\"field\": \"fill_alpha\"}, \"height\": {\"units\": \"data\", \"field\": \"height\"}, \"width\": {\"units\": \"data\", \"field\": \"width\"}, \"y\": {\"field\": \"y\"}, \"x\": {\"field\": \"x\"}}, \"type\": \"Rect\", \"id\": \"27041f82-9f12-4a2a-9531-d56cffa38a1b\"}, {\"attributes\": {\"callback\": null, \"column_names\": [\"line_color\", \"line_alpha\", \"color\", \"fill_alpha\", \"height\", \"width\", \"y\", \"x\"], \"data\": {\"line_color\": [\"white\"], \"line_alpha\": [1.0], \"chart_index\": [{\"term\": \"bicycle\"}], \"color\": [\"#f22c40\"], \"fill_alpha\": [0.8], \"term\": [\"bicycle\"], \"height\": [3544.0], \"width\": [0.8], \"y\": [1772.0], \"x\": [\"bicycle\"]}}, \"type\": \"ColumnDataSource\", \"id\": \"fde876a9-8b10-4b12-9fb8-a2cbb89d6794\"}, {\"attributes\": {\"line_color\": {\"value\": \"black\"}, \"line_alpha\": {\"value\": 1.0}, \"render_mode\": \"css\", \"bottom_units\": \"screen\", \"level\": \"overlay\", \"top_units\": \"screen\", \"fill_alpha\": {\"value\": 0.5}, \"plot\": null, \"left_units\": \"screen\", \"line_dash\": [4, 4], \"line_width\": {\"value\": 2}, \"right_units\": \"screen\", \"fill_color\": {\"value\": \"lightgrey\"}}, \"type\": \"BoxAnnotation\", \"id\": \"e60d50f6-e491-4fbc-b079-8fd8c592341a\"}, {\"attributes\": {\"callback\": null, \"column_names\": [\"line_color\", \"line_alpha\", \"color\", \"fill_alpha\", \"height\", \"width\", \"y\", \"x\"], \"data\": {\"line_color\": [\"white\"], \"line_alpha\": [1.0], \"chart_index\": [{\"term\": \"light\"}], \"color\": [\"#f22c40\"], \"fill_alpha\": [0.8], \"term\": [\"light\"], \"height\": [687.0], \"width\": [0.8], \"y\": [343.5], \"x\": [\"light\"]}}, \"type\": \"ColumnDataSource\", \"id\": \"6981741e-1d27-45c4-b7af-140905e836e7\"}, {\"attributes\": {\"nonselection_glyph\": null, \"data_source\": {\"type\": \"ColumnDataSource\", \"id\": \"a655386d-4b91-4cfb-8461-ec6596c2233d\"}, \"selection_glyph\": null, \"hover_glyph\": null, \"glyph\": {\"type\": \"Rect\", \"id\": \"09290713-8512-4aa1-8817-41b737da31fe\"}}, \"type\": \"GlyphRenderer\", \"id\": \"24066d33-e1a6-4b1e-9948-436826da5d52\"}, {\"attributes\": {\"callback\": null, \"column_names\": [\"line_color\", \"line_alpha\", \"color\", \"fill_alpha\", \"height\", \"width\", \"y\", \"x\"], \"data\": {\"line_color\": [\"white\"], \"line_alpha\": [1.0], \"chart_index\": [{\"term\": \"shimano\"}], \"color\": [\"#f22c40\"], \"fill_alpha\": [0.8], \"term\": [\"shimano\"], \"height\": [962.0], \"width\": [0.8], \"y\": [481.0], \"x\": [\"shimano\"]}}, \"type\": \"ColumnDataSource\", \"id\": \"a655386d-4b91-4cfb-8461-ec6596c2233d\"}, {\"attributes\": {\"nonselection_glyph\": {\"type\": \"Circle\", \"id\": \"2b251ca4-505e-4d31-b796-bc1f60c2d16b\"}, \"data_source\": {\"type\": \"ColumnDataSource\", \"id\": \"18e80e6b-5a16-44fb-af3c-f92ae5b9c710\"}, \"selection_glyph\": null, \"hover_glyph\": null, \"glyph\": {\"type\": \"Circle\", \"id\": \"d0388827-0519-4c57-8ac9-2d21e3cfb2e1\"}}, \"type\": \"GlyphRenderer\", \"id\": \"a67b8aef-b389-47a1-accc-05ad36a507b7\"}, {\"attributes\": {\"nonselection_glyph\": null, \"data_source\": {\"type\": \"ColumnDataSource\", \"id\": \"92567874-6b29-46b6-8452-11dfde2b5cbe\"}, \"selection_glyph\": null, \"hover_glyph\": null, \"glyph\": {\"type\": \"Rect\", \"id\": \"531db888-00a3-4155-86f5-64c5a05d29aa\"}}, \"type\": \"GlyphRenderer\", \"id\": \"d7ae91ff-68bb-4964-85fd-5ac627dd488b\"}, {\"attributes\": {\"nonselection_glyph\": null, \"data_source\": {\"type\": \"ColumnDataSource\", \"id\": \"d8e95257-93a7-44a8-af87-25c5a9b59566\"}, \"selection_glyph\": null, \"hover_glyph\": null, \"glyph\": {\"type\": \"Rect\", \"id\": \"1b52123e-c8e1-4497-bbab-12dda37c0762\"}}, \"type\": \"GlyphRenderer\", \"id\": \"d487bbd5-bed0-4c04-844b-9cfa51a3e5a5\"}, {\"attributes\": {\"nonselection_glyph\": null, \"data_source\": {\"type\": \"ColumnDataSource\", \"id\": \"b502bf21-603e-4ba6-b577-09c38444e5f5\"}, \"selection_glyph\": null, \"hover_glyph\": null, \"glyph\": {\"type\": \"Rect\", \"id\": \"0e5ef3df-81a1-478c-aca6-c78ab9ae4b32\"}}, \"type\": \"GlyphRenderer\", \"id\": \"0f639a18-5e89-4819-98de-d92cdc40506e\"}, {\"attributes\": {\"line_color\": {\"field\": \"line_color\"}, \"fill_color\": {\"field\": \"color\"}, \"fill_alpha\": {\"field\": \"fill_alpha\"}, \"height\": {\"units\": \"data\", \"field\": \"height\"}, \"width\": {\"units\": \"data\", \"field\": \"width\"}, \"y\": {\"field\": \"y\"}, \"x\": {\"field\": \"x\"}}, \"type\": \"Rect\", \"id\": \"83b8ac25-aaab-47ff-bea2-e53f77a8c9e7\"}, {\"attributes\": {\"line_color\": {\"field\": \"line_color\"}, \"fill_color\": {\"field\": \"color\"}, \"fill_alpha\": {\"field\": \"fill_alpha\"}, \"height\": {\"units\": \"data\", \"field\": \"height\"}, \"width\": {\"units\": \"data\", \"field\": \"width\"}, \"y\": {\"field\": \"y\"}, \"x\": {\"field\": \"x\"}}, \"type\": \"Rect\", \"id\": \"e6181081-a630-4022-8f93-8fe5a9948f8f\"}, {\"attributes\": {\"callback\": null, \"column_names\": [\"line_color\", \"line_alpha\", \"color\", \"fill_alpha\", \"height\", \"width\", \"y\", \"x\"], \"data\": {\"line_color\": [\"white\"], \"line_alpha\": [1.0], \"chart_index\": [{\"term\": \"wheel\"}], \"color\": [\"#f22c40\"], \"fill_alpha\": [0.8], \"term\": [\"wheel\"], \"height\": [398.0], \"width\": [0.8], \"y\": [199.0], \"x\": [\"wheel\"]}}, \"type\": \"ColumnDataSource\", \"id\": \"04c46b36-f9b6-408a-bcfa-98ba91643f31\"}, {\"attributes\": {\"nonselection_glyph\": null, \"data_source\": {\"type\": \"ColumnDataSource\", \"id\": \"6981741e-1d27-45c4-b7af-140905e836e7\"}, \"selection_glyph\": null, \"hover_glyph\": null, \"glyph\": {\"type\": \"Rect\", \"id\": \"58fe346c-7756-4a71-95b7-b812d3b4382e\"}}, \"type\": \"GlyphRenderer\", \"id\": \"094bb67f-58f0-451e-b947-bb41e66c4c03\"}, {\"attributes\": {\"nonselection_glyph\": null, \"data_source\": {\"type\": \"ColumnDataSource\", \"id\": \"d9c9c3d1-65f6-41c2-81d9-fa0fdebe0942\"}, \"selection_glyph\": null, \"hover_glyph\": null, \"glyph\": {\"type\": \"Rect\", \"id\": \"fe5eb47a-897a-43b9-89d6-aef1913c29b7\"}}, \"type\": \"GlyphRenderer\", \"id\": \"597f807c-1749-4412-8f2c-47af257c4aa1\"}, {\"attributes\": {\"line_color\": {\"field\": \"line_color\"}, \"fill_color\": {\"field\": \"color\"}, \"fill_alpha\": {\"field\": \"fill_alpha\"}, \"height\": {\"units\": \"data\", \"field\": \"height\"}, \"width\": {\"units\": \"data\", \"field\": \"width\"}, \"y\": {\"field\": \"y\"}, \"x\": {\"field\": \"x\"}}, \"type\": \"Rect\", \"id\": \"58ddffa9-dd32-4e63-8cd1-ebb1e3bff847\"}, {\"attributes\": {\"plot\": {\"subtype\": \"Figure\", \"type\": \"Plot\", \"id\": \"d282e2a1-5194-4c14-844e-de279474342f\"}, \"overlay\": {\"type\": \"BoxAnnotation\", \"id\": \"42090751-588c-47db-b8f5-1bafa418721a\"}}, \"type\": \"BoxZoomTool\", \"id\": \"abbe7d9f-d98d-46ef-aae4-76bb0073d17b\"}, {\"attributes\": {\"callback\": null, \"column_names\": [\"line_color\", \"line_alpha\", \"color\", \"fill_alpha\", \"height\", \"width\", \"y\", \"x\"], \"data\": {\"line_color\": [\"white\"], \"line_alpha\": [1.0], \"chart_index\": [{\"term\": \"water\"}], \"color\": [\"#f22c40\"], \"fill_alpha\": [0.8], \"term\": [\"water\"], \"height\": [404.0], \"width\": [0.8], \"y\": [202.0], \"x\": [\"water\"]}}, \"type\": \"ColumnDataSource\", \"id\": \"6506f347-6872-47d9-bb35-21cf368df065\"}, {\"attributes\": {\"line_color\": {\"field\": \"line_color\"}, \"fill_color\": {\"field\": \"color\"}, \"fill_alpha\": {\"field\": \"fill_alpha\"}, \"height\": {\"units\": \"data\", \"field\": \"height\"}, \"width\": {\"units\": \"data\", \"field\": \"width\"}, \"y\": {\"field\": \"y\"}, \"x\": {\"field\": \"x\"}}, \"type\": \"Rect\", \"id\": \"09290713-8512-4aa1-8817-41b737da31fe\"}, {\"attributes\": {\"callback\": null, \"column_names\": [\"line_color\", \"line_alpha\", \"color\", \"fill_alpha\", \"height\", \"width\", \"y\", \"x\"], \"data\": {\"line_color\": [\"white\"], \"line_alpha\": [1.0], \"chart_index\": [{\"term\": \"lamp\"}], \"color\": [\"#f22c40\"], \"fill_alpha\": [0.8], \"term\": [\"lamp\"], \"height\": [402.0], \"width\": [0.8], \"y\": [201.0], \"x\": [\"lamp\"]}}, \"type\": \"ColumnDataSource\", \"id\": \"41f62d26-20b2-4f4f-b860-6d4f4047959d\"}, {\"attributes\": {\"callback\": null}, \"type\": \"DataRange1d\", \"id\": \"b269c30a-ba84-4a4f-980a-8f0fe9da9ebf\"}, {\"attributes\": {\"callback\": null, \"column_names\": [\"line_color\", \"line_alpha\", \"color\", \"fill_alpha\", \"height\", \"width\", \"y\", \"x\"], \"data\": {\"line_color\": [\"white\"], \"line_alpha\": [1.0], \"chart_index\": [{\"term\": \"black\"}], \"color\": [\"#f22c40\"], \"fill_alpha\": [0.8], \"term\": [\"black\"], \"height\": [1423.0], \"width\": [0.8], \"y\": [711.5], \"x\": [\"black\"]}}, \"type\": \"ColumnDataSource\", \"id\": \"416c442c-ca29-417a-b403-4e92a53d49ae\"}, {\"attributes\": {\"callback\": null, \"column_names\": [\"y\", \"x\"], \"data\": {\"y\": [0.9821128714317003, 0.9883890210559955, 0.9912191990698407, 0.9926077154550996, 0.9934271147723699, 0.9942291412146989, 0.9947342910720529, 0.9951831935547358, 0.9955050581978345], \"x\": [100, 200, 300, 400, 500, 600, 700, 800, 900]}}, \"type\": \"ColumnDataSource\", \"id\": \"e2e778ff-a367-48f3-9b8b-f3f61736a6c4\"}, {\"attributes\": {}, \"type\": \"CategoricalTickFormatter\", \"id\": \"4d61fdc7-613f-4994-a514-556e489bd1ad\"}, {\"attributes\": {\"line_color\": {\"value\": \"#1f77b4\"}, \"x\": {\"field\": \"x\"}, \"y\": {\"field\": \"y\"}, \"fill_color\": {\"value\": \"white\"}, \"size\": {\"units\": \"screen\", \"value\": 8}}, \"type\": \"Circle\", \"id\": \"d0388827-0519-4c57-8ac9-2d21e3cfb2e1\"}, {\"attributes\": {\"nonselection_glyph\": {\"type\": \"Line\", \"id\": \"8ce5c05b-0efc-4d4e-8319-a290d87b39fb\"}, \"data_source\": {\"type\": \"ColumnDataSource\", \"id\": \"e2e778ff-a367-48f3-9b8b-f3f61736a6c4\"}, \"selection_glyph\": null, \"hover_glyph\": null, \"glyph\": {\"type\": \"Line\", \"id\": \"872a6fed-dbe1-4367-89a1-122091b655aa\"}}, \"type\": \"GlyphRenderer\", \"id\": \"11352fcb-4b8c-4b54-a3a9-535c03271345\"}, {\"attributes\": {\"plot\": {\"subtype\": \"Figure\", \"type\": \"Plot\", \"id\": \"d282e2a1-5194-4c14-844e-de279474342f\"}, \"ticker\": {\"type\": \"BasicTicker\", \"id\": \"54f9c289-9aaa-4245-8711-42d6ecf53f2d\"}, \"dimension\": 1}, \"type\": \"Grid\", \"id\": \"e5df42df-1afa-4700-87f8-75e7db660442\"}, {\"attributes\": {\"line_color\": {\"field\": \"line_color\"}, \"fill_color\": {\"field\": \"color\"}, \"fill_alpha\": {\"field\": \"fill_alpha\"}, \"height\": {\"units\": \"data\", \"field\": \"height\"}, \"width\": {\"units\": \"data\", \"field\": \"width\"}, \"y\": {\"field\": \"y\"}, \"x\": {\"field\": \"x\"}}, \"type\": \"Rect\", \"id\": \"1ca23d22-d104-483e-a34b-3960bb93da1c\"}, {\"attributes\": {\"callback\": null, \"column_names\": [\"line_color\", \"line_alpha\", \"color\", \"fill_alpha\", \"height\", \"width\", \"y\", \"x\"], \"data\": {\"line_color\": [\"white\"], \"line_alpha\": [1.0], \"chart_index\": [{\"term\": \"road\"}], \"color\": [\"#f22c40\"], \"fill_alpha\": [0.8], \"term\": [\"road\"], \"height\": [1266.0], \"width\": [0.8], \"y\": [633.0], \"x\": [\"road\"]}}, \"type\": \"ColumnDataSource\", \"id\": \"d8e95257-93a7-44a8-af87-25c5a9b59566\"}, {\"attributes\": {}, \"type\": \"BasicTicker\", \"id\": \"54f9c289-9aaa-4245-8711-42d6ecf53f2d\"}, {\"attributes\": {\"callback\": null, \"column_names\": [\"line_color\", \"line_alpha\", \"color\", \"fill_alpha\", \"height\", \"width\", \"y\", \"x\"], \"data\": {\"line_color\": [\"white\"], \"line_alpha\": [1.0], \"chart_index\": [{\"term\": \"red\"}], \"color\": [\"#f22c40\"], \"fill_alpha\": [0.8], \"term\": [\"red\"], \"height\": [476.0], \"width\": [0.8], \"y\": [238.0], \"x\": [\"red\"]}}, \"type\": \"ColumnDataSource\", \"id\": \"8cddbf69-c23d-46b0-9db1-8c5eb9a6f0f5\"}, {\"attributes\": {\"callback\": null, \"column_names\": [\"line_color\", \"line_alpha\", \"color\", \"fill_alpha\", \"height\", \"width\", \"y\", \"x\"], \"data\": {\"line_color\": [\"white\"], \"line_alpha\": [1.0], \"chart_index\": [{\"term\": \"mtb\"}], \"color\": [\"#f22c40\"], \"fill_alpha\": [0.8], \"term\": [\"mtb\"], \"height\": [945.0], \"width\": [0.8], \"y\": [472.5], \"x\": [\"mtb\"]}}, \"type\": \"ColumnDataSource\", \"id\": \"1201535b-021a-44fe-b8a0-192e23141f65\"}, {\"attributes\": {}, \"type\": \"ToolEvents\", \"id\": \"e0c48543-b874-4084-b86a-4dd9fba71dd2\"}, {\"attributes\": {\"callback\": null, \"column_names\": [\"line_color\", \"line_alpha\", \"color\", \"fill_alpha\", \"height\", \"width\", \"y\", \"x\"], \"data\": {\"line_color\": [\"white\"], \"line_alpha\": [1.0], \"chart_index\": [{\"term\": \"rear\"}], \"color\": [\"#f22c40\"], \"fill_alpha\": [0.8], \"term\": [\"rear\"], \"height\": [707.0], \"width\": [0.8], \"y\": [353.5], \"x\": [\"rear\"]}}, \"type\": \"ColumnDataSource\", \"id\": \"d9c9c3d1-65f6-41c2-81d9-fa0fdebe0942\"}, {\"attributes\": {\"nonselection_glyph\": null, \"data_source\": {\"type\": \"ColumnDataSource\", \"id\": \"ed04e8f3-f633-4a03-81bb-1d0c75f0c0be\"}, \"selection_glyph\": null, \"hover_glyph\": null, \"glyph\": {\"type\": \"Rect\", \"id\": \"a74be8f5-d4f2-43a9-908f-b917ed09c87d\"}}, \"type\": \"GlyphRenderer\", \"id\": \"7b692c92-994b-4fbf-95a0-e9c46ce3e4c0\"}, {\"attributes\": {}, \"type\": \"BasicTicker\", \"id\": \"38ef8bfb-a37e-440e-94d7-627ed1801183\"}, {\"attributes\": {\"plot\": {\"subtype\": \"Figure\", \"type\": \"Plot\", \"id\": \"d282e2a1-5194-4c14-844e-de279474342f\"}}, \"type\": \"ResetTool\", \"id\": \"764cf4b2-efb6-4d99-b031-66aa7bd23678\"}, {\"attributes\": {\"callback\": null, \"factors\": [\"bike\", \"bicycle\", \"new\", \"cycling\", \"black\", \"road\", \"shimano\", \"mtb\", \"mountain\", \"x\", \"speed\", \"rear\", \"for\", \"light\", \"front\", \"led\", \"bmx\", \"s\", \"brake\", \"set\", \"carbon\", \"tire\", \"red\", \"handlebar\", \"bottle\", \"water\", \"seat\", \"lamp\", \"wheel\", \"chain\"]}, \"type\": \"FactorRange\", \"id\": \"40ee5dd8-d77d-402d-b1f4-001f1f7a731a\"}, {\"attributes\": {\"line_color\": {\"field\": \"line_color\"}, \"fill_color\": {\"field\": \"color\"}, \"fill_alpha\": {\"field\": \"fill_alpha\"}, \"height\": {\"units\": \"data\", \"field\": \"height\"}, \"width\": {\"units\": \"data\", \"field\": \"width\"}, \"y\": {\"field\": \"y\"}, \"x\": {\"field\": \"x\"}}, \"type\": \"Rect\", \"id\": \"ee347a75-9e86-4b9b-803c-13b498ef7ab5\"}, {\"attributes\": {\"nonselection_glyph\": null, \"data_source\": {\"type\": \"ColumnDataSource\", \"id\": \"4b805042-bef5-452f-a2e5-0150bff8fc80\"}, \"selection_glyph\": null, \"hover_glyph\": null, \"glyph\": {\"type\": \"Rect\", \"id\": \"ee347a75-9e86-4b9b-803c-13b498ef7ab5\"}}, \"type\": \"GlyphRenderer\", \"id\": \"5fefaa56-3f56-42b5-b322-6f36fad9af82\"}, {\"attributes\": {\"nonselection_glyph\": null, \"data_source\": {\"type\": \"ColumnDataSource\", \"id\": \"42a478d1-a871-41ba-8427-3223d8856f48\"}, \"selection_glyph\": null, \"hover_glyph\": null, \"glyph\": {\"type\": \"Rect\", \"id\": \"79d3509b-d248-46d6-89ab-a1fe4f7551c8\"}}, \"type\": \"GlyphRenderer\", \"id\": \"63a31dcb-a4d6-4533-a4e6-de00d9aa256d\"}, {\"attributes\": {}, \"type\": \"BasicTickFormatter\", \"id\": \"b2048fea-80c5-4cd5-81e2-54dc635f2671\"}, {\"attributes\": {\"line_color\": {\"field\": \"line_color\"}, \"fill_color\": {\"field\": \"color\"}, \"fill_alpha\": {\"field\": \"fill_alpha\"}, \"height\": {\"units\": \"data\", \"field\": \"height\"}, \"width\": {\"units\": \"data\", \"field\": \"width\"}, \"y\": {\"field\": \"y\"}, \"x\": {\"field\": \"x\"}}, \"type\": \"Rect\", \"id\": \"a74be8f5-d4f2-43a9-908f-b917ed09c87d\"}, {\"attributes\": {\"nonselection_glyph\": null, \"data_source\": {\"type\": \"ColumnDataSource\", \"id\": \"123c3286-17f2-4b96-b99b-3c367fb417ca\"}, \"selection_glyph\": null, \"hover_glyph\": null, \"glyph\": {\"type\": \"Rect\", \"id\": \"5a9936c9-6517-46ba-bee8-b65cf294cbb5\"}}, \"type\": \"GlyphRenderer\", \"id\": \"bcd217c5-36df-47a8-a042-ee5968499b68\"}, {\"attributes\": {\"nonselection_glyph\": null, \"data_source\": {\"type\": \"ColumnDataSource\", \"id\": \"8cddbf69-c23d-46b0-9db1-8c5eb9a6f0f5\"}, \"selection_glyph\": null, \"hover_glyph\": null, \"glyph\": {\"type\": \"Rect\", \"id\": \"183b95af-8a05-49b7-b0af-15f9dd1b1a28\"}}, \"type\": \"GlyphRenderer\", \"id\": \"21760956-6a1b-4950-8729-5930b03168fe\"}, {\"attributes\": {\"callback\": null, \"column_names\": [\"line_color\", \"line_alpha\", \"color\", \"fill_alpha\", \"height\", \"width\", \"y\", \"x\"], \"data\": {\"line_color\": [\"white\"], \"line_alpha\": [1.0], \"chart_index\": [{\"term\": \"set\"}], \"color\": [\"#f22c40\"], \"fill_alpha\": [0.8], \"term\": [\"set\"], \"height\": [528.0], \"width\": [0.8], \"y\": [264.0], \"x\": [\"set\"]}}, \"type\": \"ColumnDataSource\", \"id\": \"92567874-6b29-46b6-8452-11dfde2b5cbe\"}, {\"attributes\": {\"line_color\": {\"field\": \"line_color\"}, \"fill_color\": {\"field\": \"color\"}, \"fill_alpha\": {\"field\": \"fill_alpha\"}, \"height\": {\"units\": \"data\", \"field\": \"height\"}, \"width\": {\"units\": \"data\", \"field\": \"width\"}, \"y\": {\"field\": \"y\"}, \"x\": {\"field\": \"x\"}}, \"type\": \"Rect\", \"id\": \"93f68134-7bcf-446c-8d41-394c5965c59b\"}, {\"attributes\": {}, \"type\": \"BasicTicker\", \"id\": \"efadc2e5-88d1-4e04-88a1-4d5ffd2e05aa\"}, {\"attributes\": {\"line_color\": {\"field\": \"line_color\"}, \"fill_color\": {\"field\": \"color\"}, \"fill_alpha\": {\"field\": \"fill_alpha\"}, \"height\": {\"units\": \"data\", \"field\": \"height\"}, \"width\": {\"units\": \"data\", \"field\": \"width\"}, \"y\": {\"field\": \"y\"}, \"x\": {\"field\": \"x\"}}, \"type\": \"Rect\", \"id\": \"8cdc5cbb-353a-402a-b64b-ace3fd464357\"}, {\"attributes\": {\"major_label_orientation\": 0.7853981633974483, \"plot\": {\"subtype\": \"Chart\", \"type\": \"Plot\", \"id\": \"fae9cb7a-b714-4894-9ddb-588a7e2adf20\"}, \"axis_label\": \"Term\", \"formatter\": {\"type\": \"CategoricalTickFormatter\", \"id\": \"4d61fdc7-613f-4994-a514-556e489bd1ad\"}, \"ticker\": {\"type\": \"CategoricalTicker\", \"id\": \"951ca242-b40f-4ea9-862d-d20527e3498d\"}}, \"type\": \"CategoricalAxis\", \"id\": \"40263238-8fe9-42ac-941b-8a3e0272aa78\"}, {\"attributes\": {\"nonselection_glyph\": null, \"data_source\": {\"type\": \"ColumnDataSource\", \"id\": \"565a6ce6-4b81-4f2d-8c0f-937556a71903\"}, \"selection_glyph\": null, \"hover_glyph\": null, \"glyph\": {\"type\": \"Rect\", \"id\": \"e6181081-a630-4022-8f93-8fe5a9948f8f\"}}, \"type\": \"GlyphRenderer\", \"id\": \"c5c61353-7a11-49f0-ace1-527a493a509f\"}, {\"attributes\": {\"callback\": null, \"column_names\": [\"line_color\", \"line_alpha\", \"color\", \"fill_alpha\", \"height\", \"width\", \"y\", \"x\"], \"data\": {\"line_color\": [\"white\"], \"line_alpha\": [1.0], \"chart_index\": [{\"term\": \"bmx\"}], \"color\": [\"#f22c40\"], \"fill_alpha\": [0.8], \"term\": [\"bmx\"], \"height\": [582.0], \"width\": [0.8], \"y\": [291.0], \"x\": [\"bmx\"]}}, \"type\": \"ColumnDataSource\", \"id\": \"565a6ce6-4b81-4f2d-8c0f-937556a71903\"}, {\"attributes\": {\"nonselection_glyph\": null, \"data_source\": {\"type\": \"ColumnDataSource\", \"id\": \"fde876a9-8b10-4b12-9fb8-a2cbb89d6794\"}, \"selection_glyph\": null, \"hover_glyph\": null, \"glyph\": {\"type\": \"Rect\", \"id\": \"6dcbe334-bbac-4f95-87d1-5fa91f5dbbd4\"}}, \"type\": \"GlyphRenderer\", \"id\": \"2d1b6c53-f628-4c68-a99c-2ae285cbad7d\"}, {\"attributes\": {\"nonselection_glyph\": null, \"data_source\": {\"type\": \"ColumnDataSource\", \"id\": \"8fefeaf4-15f4-416a-a1ff-55401d4d3d14\"}, \"selection_glyph\": null, \"hover_glyph\": null, \"glyph\": {\"type\": \"Rect\", \"id\": \"33debcf4-0119-4683-ad5e-d4ac98561401\"}}, \"type\": \"GlyphRenderer\", \"id\": \"bb7db3e0-8aaa-44aa-b7fd-604da6aff9a5\"}, {\"attributes\": {\"nonselection_glyph\": null, \"data_source\": {\"type\": \"ColumnDataSource\", \"id\": \"86d3b76f-7e14-40ce-be3a-e2f32e61b298\"}, \"selection_glyph\": null, \"hover_glyph\": null, \"glyph\": {\"type\": \"Rect\", \"id\": \"b3e1bcba-8a9d-4754-ad34-2775842ab04b\"}}, \"type\": \"GlyphRenderer\", \"id\": \"56299f79-dc34-4b3e-94ed-e2b4fa9a228b\"}, {\"attributes\": {\"line_color\": {\"value\": \"#1f77b4\"}, \"line_alpha\": {\"value\": 0.1}, \"y\": {\"field\": \"y\"}, \"x\": {\"field\": \"x\"}, \"line_width\": {\"value\": 2}}, \"type\": \"Line\", \"id\": \"8ce5c05b-0efc-4d4e-8319-a290d87b39fb\"}, {\"attributes\": {}, \"type\": \"CategoricalTicker\", \"id\": \"951ca242-b40f-4ea9-862d-d20527e3498d\"}, {\"attributes\": {\"line_color\": {\"field\": \"line_color\"}, \"fill_color\": {\"field\": \"color\"}, \"fill_alpha\": {\"field\": \"fill_alpha\"}, \"height\": {\"units\": \"data\", \"field\": \"height\"}, \"width\": {\"units\": \"data\", \"field\": \"width\"}, \"y\": {\"field\": \"y\"}, \"x\": {\"field\": \"x\"}}, \"type\": \"Rect\", \"id\": \"531db888-00a3-4155-86f5-64c5a05d29aa\"}, {\"attributes\": {\"line_color\": {\"field\": \"line_color\"}, \"fill_color\": {\"field\": \"color\"}, \"fill_alpha\": {\"field\": \"fill_alpha\"}, \"height\": {\"units\": \"data\", \"field\": \"height\"}, \"width\": {\"units\": \"data\", \"field\": \"width\"}, \"y\": {\"field\": \"y\"}, \"x\": {\"field\": \"x\"}}, \"type\": \"Rect\", \"id\": \"33330863-d418-4390-9bef-4d7221e9c8c2\"}, {\"attributes\": {\"nonselection_glyph\": null, \"data_source\": {\"type\": \"ColumnDataSource\", \"id\": \"41f62d26-20b2-4f4f-b860-6d4f4047959d\"}, \"selection_glyph\": null, \"hover_glyph\": null, \"glyph\": {\"type\": \"Rect\", \"id\": \"d498ea52-a2f6-4c2c-97ba-99dd34f9f645\"}}, \"type\": \"GlyphRenderer\", \"id\": \"d1cc5a9c-abea-45c4-a30f-7e7c78f9b0e2\"}, {\"attributes\": {\"callback\": null, \"column_names\": [\"line_color\", \"line_alpha\", \"color\", \"fill_alpha\", \"height\", \"width\", \"y\", \"x\"], \"data\": {\"line_color\": [\"white\"], \"line_alpha\": [1.0], \"chart_index\": [{\"term\": \"mountain\"}], \"color\": [\"#f22c40\"], \"fill_alpha\": [0.8], \"term\": [\"mountain\"], \"height\": [840.0], \"width\": [0.8], \"y\": [420.0], \"x\": [\"mountain\"]}}, \"type\": \"ColumnDataSource\", \"id\": \"8e6f662f-f95c-4123-8aff-208f3a748fd9\"}, {\"attributes\": {\"nonselection_glyph\": null, \"data_source\": {\"type\": \"ColumnDataSource\", \"id\": \"3650cdbf-f0ae-4d6a-ad6b-d6b86d4248b4\"}, \"selection_glyph\": null, \"hover_glyph\": null, \"glyph\": {\"type\": \"Rect\", \"id\": \"76d1dac2-ce55-4059-96af-e047b75c2e0b\"}}, \"type\": \"GlyphRenderer\", \"id\": \"87f78ad6-6ac1-41d2-bf5a-26b1b09cbb3b\"}, {\"attributes\": {\"line_color\": {\"value\": \"black\"}, \"line_alpha\": {\"value\": 1.0}, \"render_mode\": \"css\", \"bottom_units\": \"screen\", \"level\": \"overlay\", \"top_units\": \"screen\", \"fill_alpha\": {\"value\": 0.5}, \"plot\": null, \"left_units\": \"screen\", \"line_dash\": [4, 4], \"line_width\": {\"value\": 2}, \"right_units\": \"screen\", \"fill_color\": {\"value\": \"lightgrey\"}}, \"type\": \"BoxAnnotation\", \"id\": \"42090751-588c-47db-b8f5-1bafa418721a\"}, {\"attributes\": {\"callback\": null, \"column_names\": [\"line_color\", \"line_alpha\", \"color\", \"fill_alpha\", \"height\", \"width\", \"y\", \"x\"], \"data\": {\"line_color\": [\"white\"], \"line_alpha\": [1.0], \"chart_index\": [{\"term\": \"bottle\"}], \"color\": [\"#f22c40\"], \"fill_alpha\": [0.8], \"term\": [\"bottle\"], \"height\": [466.0], \"width\": [0.8], \"y\": [233.0], \"x\": [\"bottle\"]}}, \"type\": \"ColumnDataSource\", \"id\": \"b34f8bd8-5d3a-4c8f-8350-f3f52c81384d\"}, {\"attributes\": {\"line_color\": {\"field\": \"line_color\"}, \"fill_color\": {\"field\": \"color\"}, \"fill_alpha\": {\"field\": \"fill_alpha\"}, \"height\": {\"units\": \"data\", \"field\": \"height\"}, \"width\": {\"units\": \"data\", \"field\": \"width\"}, \"y\": {\"field\": \"y\"}, \"x\": {\"field\": \"x\"}}, \"type\": \"Rect\", \"id\": \"6dcbe334-bbac-4f95-87d1-5fa91f5dbbd4\"}, {\"attributes\": {\"callback\": null}, \"type\": \"DataRange1d\", \"id\": \"4bb80465-4510-4c00-94f2-36dcc65b0440\"}, {\"attributes\": {\"callback\": null, \"column_names\": [\"line_color\", \"line_alpha\", \"color\", \"fill_alpha\", \"height\", \"width\", \"y\", \"x\"], \"data\": {\"line_color\": [\"white\"], \"line_alpha\": [1.0], \"chart_index\": [{\"term\": \"s\"}], \"color\": [\"#f22c40\"], \"fill_alpha\": [0.8], \"term\": [\"s\"], \"height\": [545.0], \"width\": [0.8], \"y\": [272.5], \"x\": [\"s\"]}}, \"type\": \"ColumnDataSource\", \"id\": \"4b6a9762-f469-44cf-a0a9-c579400d83ef\"}, {\"attributes\": {\"plot\": {\"subtype\": \"Figure\", \"type\": \"Plot\", \"id\": \"d282e2a1-5194-4c14-844e-de279474342f\"}}, \"type\": \"WheelZoomTool\", \"id\": \"7d721ae5-8619-462b-8484-427a99fd0b1c\"}, {\"attributes\": {\"line_color\": {\"field\": \"line_color\"}, \"fill_color\": {\"field\": \"color\"}, \"fill_alpha\": {\"field\": \"fill_alpha\"}, \"height\": {\"units\": \"data\", \"field\": \"height\"}, \"width\": {\"units\": \"data\", \"field\": \"width\"}, \"y\": {\"field\": \"y\"}, \"x\": {\"field\": \"x\"}}, \"type\": \"Rect\", \"id\": \"1b52123e-c8e1-4497-bbab-12dda37c0762\"}, {\"attributes\": {\"callback\": null, \"column_names\": [\"line_color\", \"line_alpha\", \"color\", \"fill_alpha\", \"height\", \"width\", \"y\", \"x\"], \"data\": {\"line_color\": [\"white\"], \"line_alpha\": [1.0], \"chart_index\": [{\"term\": \"chain\"}], \"color\": [\"#f22c40\"], \"fill_alpha\": [0.8], \"term\": [\"chain\"], \"height\": [373.0], \"width\": [0.8], \"y\": [186.5], \"x\": [\"chain\"]}}, \"type\": \"ColumnDataSource\", \"id\": \"7b86cbdf-747d-4128-b5c1-9a19891c4d46\"}, {\"attributes\": {\"plot\": {\"subtype\": \"Chart\", \"type\": \"Plot\", \"id\": \"fae9cb7a-b714-4894-9ddb-588a7e2adf20\"}}, \"type\": \"PreviewSaveTool\", \"id\": \"9a920ac8-3d82-46bf-99e4-2226d6636314\"}]}, \"title\": \"Bokeh Application\"}};\n",
       "            var render_items = [{\"notebook_comms_target\": \"61700277-15bc-48d0-80f3-bd8702ca0bee\", \"docid\": \"20c5c2bb-cf03-4605-9137-fa87a5c9be46\", \"elementid\": \"6ed9f29b-c4da-420a-b2fb-9db4ec104b37\", \"modelid\": \"fae9cb7a-b714-4894-9ddb-588a7e2adf20\"}];\n",
       "            \n",
       "            Bokeh.embed.embed_items(docs_json, render_items);\n",
       "        });\n",
       "      },\n",
       "      function(Bokeh) {\n",
       "      }\n",
       "    ];\n",
       "  \n",
       "    function run_inline_js() {\n",
       "      for (var i = 0; i < inline_js.length; i++) {\n",
       "        inline_js[i](window.Bokeh);\n",
       "      }\n",
       "    }\n",
       "  \n",
       "    if (window._bokeh_is_loading === 0) {\n",
       "      console.log(\"Bokeh: BokehJS loaded, going straight to plotting\");\n",
       "      run_inline_js();\n",
       "    } else {\n",
       "      load_libs(js_urls, function() {\n",
       "        console.log(\"Bokeh: BokehJS plotting callback run at\", now());\n",
       "        run_inline_js();\n",
       "      });\n",
       "    }\n",
       "  }(this));\n",
       "</script>"
      ]
     },
     "metadata": {},
     "output_type": "display_data"
    },
    {
     "data": {
      "text/plain": [
       "<bokeh.io._CommsHandle at 0x7fc475168590>"
      ]
     },
     "execution_count": 17,
     "metadata": {},
     "output_type": "execute_result"
    }
   ],
   "source": [
    "import pandas as pd\n",
    "from bokeh.plotting import output_notebook, show\n",
    "from bokeh.charts import Bar\n",
    "from bokeh.charts.attributes import CatAttr\n",
    "#from bokeh.models import ColumnDataSource\n",
    "\n",
    "df = pd.DataFrame({'term':[x for x in idx.keys()],'freq':[len(x) for x in idx.values()]})\n",
    "\n",
    "output_notebook(hide_banner=True)\n",
    "p = Bar(df.sort_values('freq', ascending=False)[:30], label=CatAttr(columns=['term'], sort=False), values='freq',\n",
    "        plot_width=800, plot_height=400)\n",
    "show(p)\n"
   ]
  },
  {
   "cell_type": "markdown",
   "metadata": {},
   "source": [
    "### Exercise Set 3 - TF-IDF"
   ]
  }
 ],
 "metadata": {
  "kernelspec": {
   "display_name": "Python 2",
   "language": "python",
   "name": "python2"
  },
  "language_info": {
   "codemirror_mode": {
    "name": "ipython",
    "version": 2
   },
   "file_extension": ".py",
   "mimetype": "text/x-python",
   "name": "python",
   "nbconvert_exporter": "python",
   "pygments_lexer": "ipython2",
   "version": "2.7.11"
  }
 },
 "nbformat": 4,
 "nbformat_minor": 0
}
