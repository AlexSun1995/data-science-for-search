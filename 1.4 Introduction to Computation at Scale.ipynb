{
 "cells": [
  {
   "cell_type": "markdown",
   "metadata": {},
   "source": [
    "## 1.4 Introduction to Computation at Scale\n",
    "\n",
    "We are going to use the python [mrjob](https://github.com/Yelp/mrjob) package developed at Yelp.\n",
    "\n",
    "This package allows us to develop and test map reduce jobs locally and when ready deploy them to a hadoop cluster with hadoop streaming enabled.  We are going to use it to run jobs locally.\n",
    "\n",
    "To write a map reduce job we need to implement mapper() and reducer() functions.  The mrjob package takes care of the orchestration of the job.  Here is a first example that will count words in a file:"
   ]
  },
  {
   "cell_type": "code",
   "execution_count": 4,
   "metadata": {
    "collapsed": false
   },
   "outputs": [
    {
     "name": "stdout",
     "output_type": "stream",
     "text": [
      "Writing wordcounter.py\n"
     ]
    }
   ],
   "source": [
    "%%file wordcounter.py \n",
    "from mrjob.job import MRJob\n",
    "\n",
    "class MRWordFrequencyCount(MRJob):\n",
    "\n",
    "    def mapper(self, _, line):\n",
    "        yield \"words\", len(line.split())\n",
    "\n",
    "    def reducer(self, key, values):\n",
    "        yield key, sum(values)\n",
    "\n",
    "if __name__ == '__main__':\n",
    "    MRWordFrequencyCount.run()"
   ]
  },
  {
   "cell_type": "markdown",
   "metadata": {},
   "source": [
    "The key points to note:\n",
    "\n",
    "* We inherit from the class MRJob and provide at least one mapper, reducer or combiner method implementation\n",
    "* All python methods take `self` as their first argument - this is normal - not mrjob specific\n",
    "* The mappers will be called once for each line by of the input file specified on the command line\n",
    "* The mappers must yield a key value pair - the emitted key value pairs will be sent to combiners and reducers\n",
    "* The reducers will be called once for each key and value emitted by the mappers\n",
    "* The reducers must also output key and value pairs\n",
    "\n",
    "Here we can count the words in the bike-items data we were using earlier:"
   ]
  },
  {
   "cell_type": "code",
   "execution_count": 5,
   "metadata": {
    "collapsed": false
   },
   "outputs": [
    {
     "name": "stdout",
     "output_type": "stream",
     "text": [
      "no configs found; falling back on auto-configuration\n",
      "no configs found; falling back on auto-configuration\n",
      "creating tmp directory /tmp/wordcounter.csumb.20160209.061521.363793\n",
      "\n",
      "PLEASE NOTE: Starting in mrjob v0.5.0, protocols will be strict by default. It's recommended you run your job with --strict-protocols or set up mrjob.conf as described at https://pythonhosted.org/mrjob/whats-new.html#ready-for-strict-protocols\n",
      "\n",
      "writing to /tmp/wordcounter.csumb.20160209.061521.363793/step-0-mapper_part-00000\n",
      "Counters from step 1:\n",
      "  (no counters found)\n",
      "writing to /tmp/wordcounter.csumb.20160209.061521.363793/step-0-mapper-sorted\n",
      "> sort /tmp/wordcounter.csumb.20160209.061521.363793/step-0-mapper_part-00000\n",
      "writing to /tmp/wordcounter.csumb.20160209.061521.363793/step-0-reducer_part-00000\n",
      "Counters from step 1:\n",
      "  (no counters found)\n",
      "Moving /tmp/wordcounter.csumb.20160209.061521.363793/step-0-reducer_part-00000 -> /tmp/wordcounter.csumb.20160209.061521.363793/output/part-00000\n",
      "Streaming final output from /tmp/wordcounter.csumb.20160209.061521.363793/output\n",
      "removing tmp directory /tmp/wordcounter.csumb.20160209.061521.363793\n"
     ]
    }
   ],
   "source": [
    "! python wordcounter.py data/bike-items.txt > out.txt"
   ]
  },
  {
   "cell_type": "markdown",
   "metadata": {},
   "source": [
    "The process runs and the output is dumped into the file out.txt.  In this case there is just a single line:"
   ]
  },
  {
   "cell_type": "code",
   "execution_count": 6,
   "metadata": {
    "collapsed": false
   },
   "outputs": [
    {
     "name": "stdout",
     "output_type": "stream",
     "text": [
      "\"words\"\t755154\r\n"
     ]
    }
   ],
   "source": [
    "! cat out.txt"
   ]
  },
  {
   "cell_type": "markdown",
   "metadata": {},
   "source": [
    "Here we have one pass through the file and have computed just the number of words.  We can have more elaborate jobs that compute multiple statistics.  Here we count characters, word and line count - the mapper emits three key value pairs for each line:\n"
   ]
  },
  {
   "cell_type": "code",
   "execution_count": 9,
   "metadata": {
    "collapsed": false
   },
   "outputs": [
    {
     "name": "stdout",
     "output_type": "stream",
     "text": [
      "Overwriting wordcounter.py\n"
     ]
    }
   ],
   "source": [
    "%%file wordcounter.py \n",
    "from mrjob.job import MRJob\n",
    "\n",
    "class MRWordFrequencyCount(MRJob):\n",
    "\n",
    "    def mapper(self, _, line):\n",
    "        yield \"chars\", len(line)\n",
    "        yield \"words\", len(line.split())\n",
    "        yield \"lines\", 1\n",
    "        \n",
    "\n",
    "    def reducer(self, key, values):\n",
    "        yield key, sum(values)\n",
    "\n",
    "if __name__ == '__main__':\n",
    "    MRWordFrequencyCount.run()"
   ]
  },
  {
   "cell_type": "code",
   "execution_count": 7,
   "metadata": {
    "collapsed": false
   },
   "outputs": [
    {
     "name": "stdout",
     "output_type": "stream",
     "text": [
      "no configs found; falling back on auto-configuration\n",
      "no configs found; falling back on auto-configuration\n",
      "creating tmp directory /tmp/wordcounter.csumb.20160209.061535.032858\n",
      "\n",
      "PLEASE NOTE: Starting in mrjob v0.5.0, protocols will be strict by default. It's recommended you run your job with --strict-protocols or set up mrjob.conf as described at https://pythonhosted.org/mrjob/whats-new.html#ready-for-strict-protocols\n",
      "\n",
      "writing to /tmp/wordcounter.csumb.20160209.061535.032858/step-0-mapper_part-00000\n",
      "Counters from step 1:\n",
      "  (no counters found)\n",
      "writing to /tmp/wordcounter.csumb.20160209.061535.032858/step-0-mapper-sorted\n",
      "> sort /tmp/wordcounter.csumb.20160209.061535.032858/step-0-mapper_part-00000\n",
      "writing to /tmp/wordcounter.csumb.20160209.061535.032858/step-0-reducer_part-00000\n",
      "Counters from step 1:\n",
      "  (no counters found)\n",
      "Moving /tmp/wordcounter.csumb.20160209.061535.032858/step-0-reducer_part-00000 -> /tmp/wordcounter.csumb.20160209.061535.032858/output/part-00000\n",
      "Streaming final output from /tmp/wordcounter.csumb.20160209.061535.032858/output\n",
      "removing tmp directory /tmp/wordcounter.csumb.20160209.061535.032858\n"
     ]
    }
   ],
   "source": [
    "! python wordcounter.py data/bike-items.txt > out.txt"
   ]
  },
  {
   "cell_type": "code",
   "execution_count": 10,
   "metadata": {
    "collapsed": false
   },
   "outputs": [
    {
     "name": "stdout",
     "output_type": "stream",
     "text": [
      "\"words\"\t755154\r\n"
     ]
    }
   ],
   "source": [
    "! cat out.txt"
   ]
  },
  {
   "cell_type": "markdown",
   "metadata": {},
   "source": [
    "## Term Frequency in Map Reduce"
   ]
  },
  {
   "cell_type": "code",
   "execution_count": 25,
   "metadata": {
    "collapsed": false
   },
   "outputs": [
    {
     "ename": "TypeError",
     "evalue": "<module '__main__' (built-in)> is a built-in class",
     "output_type": "error",
     "traceback": [
      "\u001b[1;31m---------------------------------------------------------------------------\u001b[0m",
      "\u001b[1;31mTypeError\u001b[0m                                 Traceback (most recent call last)",
      "\u001b[1;32m<ipython-input-25-1e7119a01048>\u001b[0m in \u001b[0;36m<module>\u001b[1;34m()\u001b[0m\n\u001b[0;32m     15\u001b[0m \u001b[1;33m\u001b[0m\u001b[0m\n\u001b[0;32m     16\u001b[0m \u001b[1;32mif\u001b[0m \u001b[0m__name__\u001b[0m \u001b[1;33m==\u001b[0m \u001b[1;34m'__main__'\u001b[0m\u001b[1;33m:\u001b[0m\u001b[1;33m\u001b[0m\u001b[0m\n\u001b[1;32m---> 17\u001b[1;33m     \u001b[0mMRTermFrequencyCount\u001b[0m\u001b[1;33m.\u001b[0m\u001b[0mrun\u001b[0m\u001b[1;33m(\u001b[0m\u001b[1;33m)\u001b[0m\u001b[1;33m\u001b[0m\u001b[0m\n\u001b[0m",
      "\u001b[1;32m/home/csumb/anaconda2/lib/python2.7/site-packages/mrjob/job.pyc\u001b[0m in \u001b[0;36mrun\u001b[1;34m(cls)\u001b[0m\n\u001b[0;32m    458\u001b[0m         \"\"\"\n\u001b[0;32m    459\u001b[0m         \u001b[1;31m# load options from the command line\u001b[0m\u001b[1;33m\u001b[0m\u001b[1;33m\u001b[0m\u001b[0m\n\u001b[1;32m--> 460\u001b[1;33m         \u001b[0mmr_job\u001b[0m \u001b[1;33m=\u001b[0m \u001b[0mcls\u001b[0m\u001b[1;33m(\u001b[0m\u001b[0margs\u001b[0m\u001b[1;33m=\u001b[0m\u001b[0m_READ_ARGS_FROM_SYS_ARGV\u001b[0m\u001b[1;33m)\u001b[0m\u001b[1;33m\u001b[0m\u001b[0m\n\u001b[0m\u001b[0;32m    461\u001b[0m         \u001b[0mmr_job\u001b[0m\u001b[1;33m.\u001b[0m\u001b[0mexecute\u001b[0m\u001b[1;33m(\u001b[0m\u001b[1;33m)\u001b[0m\u001b[1;33m\u001b[0m\u001b[0m\n\u001b[0;32m    462\u001b[0m \u001b[1;33m\u001b[0m\u001b[0m\n",
      "\u001b[1;32m/home/csumb/anaconda2/lib/python2.7/site-packages/mrjob/job.pyc\u001b[0m in \u001b[0;36m__init__\u001b[1;34m(self, args)\u001b[0m\n\u001b[0;32m     97\u001b[0m         \u001b[1;33m`\u001b[0m\u001b[1;33m`\u001b[0m\u001b[0mpython\u001b[0m \u001b[1;33m-\u001b[0m\u001b[0mm\u001b[0m \u001b[0mmrjob\u001b[0m\u001b[1;33m.\u001b[0m\u001b[0mjob\u001b[0m \u001b[1;33m-\u001b[0m\u001b[1;33m-\u001b[0m\u001b[0mhelp\u001b[0m\u001b[1;33m`\u001b[0m\u001b[1;33m`\u001b[0m\u001b[1;33m\u001b[0m\u001b[0m\n\u001b[0;32m     98\u001b[0m         \"\"\"\n\u001b[1;32m---> 99\u001b[1;33m         \u001b[0msuper\u001b[0m\u001b[1;33m(\u001b[0m\u001b[0mMRJob\u001b[0m\u001b[1;33m,\u001b[0m \u001b[0mself\u001b[0m\u001b[1;33m)\u001b[0m\u001b[1;33m.\u001b[0m\u001b[0m__init__\u001b[0m\u001b[1;33m(\u001b[0m\u001b[0mself\u001b[0m\u001b[1;33m.\u001b[0m\u001b[0mmr_job_script\u001b[0m\u001b[1;33m(\u001b[0m\u001b[1;33m)\u001b[0m\u001b[1;33m,\u001b[0m \u001b[0margs\u001b[0m\u001b[1;33m)\u001b[0m\u001b[1;33m\u001b[0m\u001b[0m\n\u001b[0m\u001b[0;32m    100\u001b[0m \u001b[1;33m\u001b[0m\u001b[0m\n\u001b[0;32m    101\u001b[0m     \u001b[1;33m@\u001b[0m\u001b[0mclassmethod\u001b[0m\u001b[1;33m\u001b[0m\u001b[0m\n",
      "\u001b[1;32m/home/csumb/anaconda2/lib/python2.7/site-packages/mrjob/job.pyc\u001b[0m in \u001b[0;36mmr_job_script\u001b[1;34m(cls)\u001b[0m\n\u001b[0;32m    654\u001b[0m         \"\"\"Path of this script. This returns the file containing\n\u001b[0;32m    655\u001b[0m         this class.\"\"\"\n\u001b[1;32m--> 656\u001b[1;33m         \u001b[1;32mreturn\u001b[0m \u001b[0minspect\u001b[0m\u001b[1;33m.\u001b[0m\u001b[0mgetsourcefile\u001b[0m\u001b[1;33m(\u001b[0m\u001b[0mcls\u001b[0m\u001b[1;33m)\u001b[0m\u001b[1;33m\u001b[0m\u001b[0m\n\u001b[0m\u001b[0;32m    657\u001b[0m \u001b[1;33m\u001b[0m\u001b[0m\n\u001b[0;32m    658\u001b[0m     \u001b[1;31m### Other useful utilities ###\u001b[0m\u001b[1;33m\u001b[0m\u001b[1;33m\u001b[0m\u001b[0m\n",
      "\u001b[1;32m/home/csumb/anaconda2/lib/python2.7/inspect.pyc\u001b[0m in \u001b[0;36mgetsourcefile\u001b[1;34m(object)\u001b[0m\n\u001b[0;32m    442\u001b[0m     \u001b[0mReturn\u001b[0m \u001b[0mNone\u001b[0m \u001b[1;32mif\u001b[0m \u001b[0mno\u001b[0m \u001b[0mway\u001b[0m \u001b[0mcan\u001b[0m \u001b[0mbe\u001b[0m \u001b[0midentified\u001b[0m \u001b[0mto\u001b[0m \u001b[0mget\u001b[0m \u001b[0mthe\u001b[0m \u001b[0msource\u001b[0m\u001b[1;33m.\u001b[0m\u001b[1;33m\u001b[0m\u001b[0m\n\u001b[0;32m    443\u001b[0m     \"\"\"\n\u001b[1;32m--> 444\u001b[1;33m     \u001b[0mfilename\u001b[0m \u001b[1;33m=\u001b[0m \u001b[0mgetfile\u001b[0m\u001b[1;33m(\u001b[0m\u001b[0mobject\u001b[0m\u001b[1;33m)\u001b[0m\u001b[1;33m\u001b[0m\u001b[0m\n\u001b[0m\u001b[0;32m    445\u001b[0m     \u001b[1;32mif\u001b[0m \u001b[0mstring\u001b[0m\u001b[1;33m.\u001b[0m\u001b[0mlower\u001b[0m\u001b[1;33m(\u001b[0m\u001b[0mfilename\u001b[0m\u001b[1;33m[\u001b[0m\u001b[1;33m-\u001b[0m\u001b[1;36m4\u001b[0m\u001b[1;33m:\u001b[0m\u001b[1;33m]\u001b[0m\u001b[1;33m)\u001b[0m \u001b[1;32min\u001b[0m \u001b[1;33m(\u001b[0m\u001b[1;34m'.pyc'\u001b[0m\u001b[1;33m,\u001b[0m \u001b[1;34m'.pyo'\u001b[0m\u001b[1;33m)\u001b[0m\u001b[1;33m:\u001b[0m\u001b[1;33m\u001b[0m\u001b[0m\n\u001b[0;32m    446\u001b[0m         \u001b[0mfilename\u001b[0m \u001b[1;33m=\u001b[0m \u001b[0mfilename\u001b[0m\u001b[1;33m[\u001b[0m\u001b[1;33m:\u001b[0m\u001b[1;33m-\u001b[0m\u001b[1;36m4\u001b[0m\u001b[1;33m]\u001b[0m \u001b[1;33m+\u001b[0m \u001b[1;34m'.py'\u001b[0m\u001b[1;33m\u001b[0m\u001b[0m\n",
      "\u001b[1;32m/home/csumb/anaconda2/lib/python2.7/inspect.pyc\u001b[0m in \u001b[0;36mgetfile\u001b[1;34m(object)\u001b[0m\n\u001b[0;32m    406\u001b[0m         \u001b[1;32mif\u001b[0m \u001b[0mhasattr\u001b[0m\u001b[1;33m(\u001b[0m\u001b[0mobject\u001b[0m\u001b[1;33m,\u001b[0m \u001b[1;34m'__file__'\u001b[0m\u001b[1;33m)\u001b[0m\u001b[1;33m:\u001b[0m\u001b[1;33m\u001b[0m\u001b[0m\n\u001b[0;32m    407\u001b[0m             \u001b[1;32mreturn\u001b[0m \u001b[0mobject\u001b[0m\u001b[1;33m.\u001b[0m\u001b[0m__file__\u001b[0m\u001b[1;33m\u001b[0m\u001b[0m\n\u001b[1;32m--> 408\u001b[1;33m         \u001b[1;32mraise\u001b[0m \u001b[0mTypeError\u001b[0m\u001b[1;33m(\u001b[0m\u001b[1;34m'{!r} is a built-in class'\u001b[0m\u001b[1;33m.\u001b[0m\u001b[0mformat\u001b[0m\u001b[1;33m(\u001b[0m\u001b[0mobject\u001b[0m\u001b[1;33m)\u001b[0m\u001b[1;33m)\u001b[0m\u001b[1;33m\u001b[0m\u001b[0m\n\u001b[0m\u001b[0;32m    409\u001b[0m     \u001b[1;32mif\u001b[0m \u001b[0mismethod\u001b[0m\u001b[1;33m(\u001b[0m\u001b[0mobject\u001b[0m\u001b[1;33m)\u001b[0m\u001b[1;33m:\u001b[0m\u001b[1;33m\u001b[0m\u001b[0m\n\u001b[0;32m    410\u001b[0m         \u001b[0mobject\u001b[0m \u001b[1;33m=\u001b[0m \u001b[0mobject\u001b[0m\u001b[1;33m.\u001b[0m\u001b[0mim_func\u001b[0m\u001b[1;33m\u001b[0m\u001b[0m\n",
      "\u001b[1;31mTypeError\u001b[0m: <module '__main__' (built-in)> is a built-in class"
     ]
    }
   ],
   "source": [
    "%%file term-frequency.py \n",
    "from mrjob.job import MRJob\n",
    "import re\n",
    "\n",
    "class MRTermFrequencyCount(MRJob):\n",
    "\n",
    "    def mapper(self, _, line):\n",
    "        rx = re.compile(r'^\\\"([a-zA-Z0-9\\s]*){1}\\\"')\n",
    "                \n",
    "        for term in title.split():\n",
    "            yield term, 1\n",
    "\n",
    "    def reducer(self, key, values):\n",
    "        yield key, sum(values)\n",
    "\n",
    "if __name__ == '__main__':\n",
    "    MRTermFrequencyCount.run()"
   ]
  },
  {
   "cell_type": "code",
   "execution_count": 74,
   "metadata": {
    "collapsed": false
   },
   "outputs": [
    {
     "name": "stdout",
     "output_type": "stream",
     "text": [
      "<_sre.SRE_Match object at 0x7f542178a0a8>\n",
      "AUCT_TITL\n"
     ]
    }
   ],
   "source": [
    "import re\n",
    "s = '\"AUCT_TITL\",\"ITEM_DESC_TXT\"'\n",
    "m = re.match(r'\\\"([\\w\\s]*)\\\".*',s)\n",
    "print(m)\n",
    "print(m.group(1))"
   ]
  },
  {
   "cell_type": "code",
   "execution_count": 15,
   "metadata": {
    "collapsed": false
   },
   "outputs": [
    {
     "name": "stdout",
     "output_type": "stream",
     "text": [
      "\"AUCT_TITL\",\"ITEM_DESC_TXT\"\r",
      "\r\n",
      "\"ZIPP VUKA CARBON AERO BASE BAR AND EXTENSIONS COMPLETE TRIATHLON TT TRI CYCLING\",\"carbon bar for 31.8 stems measurements on the carbon aero base bar: 40cm center to center / 42cm outside to outside measurements for the carbon aero extensions: 32cm 50mm riser blocks included everything looks great is ready to ride PAYPAL ONLY / CONTINENTAL US ONLY / NO \"\"0\"\" FEEDBACK BIDDERS\"\r",
      "\r\n",
      "\"Cycling Bicycle MTB Bike Fixie Gloss 3K Carbon Fiber Riser Bar Handlebar 31.8mm\",\"Description Feature: Easy to use Made of high quality carbon fiber With the special design, can save for a long time The carbon fiber handlebar is made of high quality carbon fiber.So that you can use it relieved This Quick disassembling Carbon Fiber handlebar is easy to use,and one of the best gifts to your friends Specification: Material: Carbon fiber Color: Black Handlebar Clamp Diameter: 31.8 mm Length: 700mm, 680mm, 660mm, 640mm, 620mm, 600mm Package Included: 1 x Cycling Carbon Fiber Rise\"\r",
      "\r\n",
      "\"BICYCLE RIMS 26\"\"x 50MM RED 3 SPEED INTERNAL HUB WHEEL SET BEACH CRUISER BIKE\",\"Clyde James Cycles 817-726-9461 26\"\" X 50MM 3 SPEED INTERNAL HUB RED WHEEL SET MOST ORDERS SHIP WITHIN 2-3 DAYS AFTER RECEIVING PAYMENT THREW PayPal The shipping rates listed are only for residential or commercial destinations in the continental 48 United States. Please send a message to quote to other destinations.We only ship the item to Paypal Verified address that is sent to us at the time of checkout. Please verify the correct shipping address in your PayPal account before making your payme\"\r",
      "\r\n",
      "\"Mavic Crossride 26\"\" Mountain bike wheels and WTB Weirwolf Tires\",\"You are bidding on a set of used Mavic Crossride 26” mountain bike wheels. The wheels are rim -brake compatible (not disc) and have a 9 speed freehub (will fit 8 speed, not sure about 10 speed). The wheels will come complete with quick releases, Mavic adjustment tool and WTB Weirwolf 2.1 tires. The wheels are in very good condition with a few minor scuffs from normal riding. The brake tracks have minimal wear. The wheels roll very smooth and are very true. The tires have minimal wear. Thanks\"\r",
      "\r\n",
      "\"New KCNC ARROW 7050 Alloy Stem , 31.8x150mm , 149g , Black\",\"New KCNC ARROW 7050 Alloy Stem , 31.8x150mm , 149g , Black (#BK1041-7) KCNC Arrow stem is geared specifically toward the racer or sport enthusiast who desires a stiff stem without taking a weight penalty. This stem's wide, octagonally shaped body is expertly machined from 7050 series aluminum in a way that yields an impressive stiffness-to-weight ratio. Six titanium clamping bolts help save additional weight. Arrow stem are given an attractive high gloss finish ▪ Material: 7050 Aluminum ▪ C\"\r",
      "\r\n",
      "\"ROTOR QXL Aero Oval Road Chainring BCD110x5 53t\",\"Std5 HOME NEWS SALES SHIPPING CONTACT ABOUT US Model ROTOR QXL Aero Oval Road Chainring BCD110x5 53t Price $105.99 Please upload banner images Product Details Description Specifications UPC Does not apply MPN Does not apply Brand ROTOR Bolt Center Diameter 110 mm Teeth 53t HOME NEWS SALES SHIPPING CONTACT ABOUT US cyclingvelo Cancel ROTOR QXL Aero Oval Road Chainring BCD110x5 53t ITEM SPECIFICS UPC Does not apply MPN Does not apply Brand ROTOR Bolt Center Diameter 110 mm Teeth 53t ITEM DESCRIPT\"\r",
      "\r\n",
      "\"Yakima 4 pack SKS lock cores & 2 keys - A142 - roof rack locking cylinders\",\"This auction is for a set of 4 Yakima lock cores. They are used and dirty but in great condition. Includes 1 standard key (A142) and a control key for installing and removing the lock cylinders.I will ship your item promptly after payment is received and I will update the auction with the shipping information. Items are shipped either USPS of FedEx Ground, depending on the items size and weight. No international shipping. With the exception of items that fit in USPS Priority Flat rate boxes or\"\r",
      "\r\n",
      "\"Sram Force Carbon Crank Gxp 110 Bcd No Chainrings 175 mm (2700)\",\"Sram Force Carbon Crank Gxp 110 Bcd No Chainrings. Has some rust on the spindle and in other areas. No chainrings. Well used. Scratches and wear. Scuff marks. \"\r",
      "\r\n",
      "\"THE ORIGINAL SQUIRT LONG LASTING DRY CHAIN BICYCLE LUBE WAX BASED\",\"THE ORIGINAL SQUIRT LONG LASTING DRY CHAIN BICYCLE LUBE WAX BASED   Description THE ORIGINAL SQUIRT LONG LASTING DRY CHAIN LUBE WAX BASED  Description New !! The Original Squirt Long Lasting Dry Lube. is what every cyclist wants: a long lasting dry lube that does not gather dirt. The first successful wax/water emulsion, containing as much was as needed to last for the duration of a marathon ride. It prolongs the life of your drivetrain by reducing friction and chainsuck. It also improves sh\"\r",
      "\r\n"
     ]
    }
   ],
   "source": [
    "! head data/bike-items.txt"
   ]
  },
  {
   "cell_type": "code",
   "execution_count": 23,
   "metadata": {
    "collapsed": false
   },
   "outputs": [
    {
     "name": "stdout",
     "output_type": "stream",
     "text": [
      "no configs found; falling back on auto-configuration\n",
      "no configs found; falling back on auto-configuration\n",
      "creating tmp directory /tmp/term-frequency.csumb.20160209.063203.425899\n",
      "\n",
      "PLEASE NOTE: Starting in mrjob v0.5.0, protocols will be strict by default. It's recommended you run your job with --strict-protocols or set up mrjob.conf as described at https://pythonhosted.org/mrjob/whats-new.html#ready-for-strict-protocols\n",
      "\n",
      "writing to /tmp/term-frequency.csumb.20160209.063203.425899/step-0-mapper_part-00000\n",
      "Traceback (most recent call last):\n",
      "  File \"term-frequency.py\", line 16, in <module>\n",
      "    MRTermFrequencyCount.run()\n",
      "  File \"/home/csumb/anaconda2/lib/python2.7/site-packages/mrjob/job.py\", line 461, in run\n",
      "    mr_job.execute()\n",
      "  File \"/home/csumb/anaconda2/lib/python2.7/site-packages/mrjob/job.py\", line 479, in execute\n",
      "    super(MRJob, self).execute()\n",
      "  File \"/home/csumb/anaconda2/lib/python2.7/site-packages/mrjob/launch.py\", line 153, in execute\n",
      "    self.run_job()\n",
      "  File \"/home/csumb/anaconda2/lib/python2.7/site-packages/mrjob/launch.py\", line 216, in run_job\n",
      "    runner.run()\n",
      "  File \"/home/csumb/anaconda2/lib/python2.7/site-packages/mrjob/runner.py\", line 470, in run\n",
      "    self._run()\n",
      "  File \"/home/csumb/anaconda2/lib/python2.7/site-packages/mrjob/sim.py\", line 173, in _run\n",
      "    self._invoke_step(step_num, 'mapper')\n",
      "  File \"/home/csumb/anaconda2/lib/python2.7/site-packages/mrjob/sim.py\", line 260, in _invoke_step\n",
      "    working_dir, env)\n",
      "  File \"/home/csumb/anaconda2/lib/python2.7/site-packages/mrjob/inline.py\", line 160, in _run_step\n",
      "    child_instance.execute()\n",
      "  File \"/home/csumb/anaconda2/lib/python2.7/site-packages/mrjob/job.py\", line 470, in execute\n",
      "    self.run_mapper(self.options.step_num)\n",
      "  File \"/home/csumb/anaconda2/lib/python2.7/site-packages/mrjob/job.py\", line 535, in run_mapper\n",
      "    for out_key, out_value in mapper(key, value) or ():\n",
      "  File \"term-frequency.py\", line 8, in mapper\n",
      "    title = rx.findall(line)[0]\n",
      "IndexError: list index out of range\n"
     ]
    }
   ],
   "source": [
    "! python term-frequency.py data/bike-items.txt > out.txt"
   ]
  },
  {
   "cell_type": "code",
   "execution_count": 18,
   "metadata": {
    "collapsed": false
   },
   "outputs": [
    {
     "name": "stdout",
     "output_type": "stream",
     "text": [
      "\"~MATERIAL:\"\t1\r\n",
      "\"~N\\\",\\\"sale4women\"\t1\r\n",
      "\"~O(\\u2229_\\u2229)O~\"\t1\r\n",
      "\"~\\\",\\\"Bicycledreamer\"\t1\r\n",
      "\"~\\\",\\\"Specialized\"\t1\r\n",
      "\"~~\"\t1\r\n",
      "\"~~~~~\\\"\"\t1\r\n",
      "\"~~~~~~~\\\"\"\t1\r\n",
      "\"~~~~~~~~~~\"\t1\r\n",
      "\"~~~~~~~~~~*PLEASE\"\t1\r\n"
     ]
    }
   ],
   "source": [
    "! tail out.txt"
   ]
  }
 ],
 "metadata": {
  "kernelspec": {
   "display_name": "Python 2",
   "language": "python",
   "name": "python2"
  },
  "language_info": {
   "codemirror_mode": {
    "name": "ipython",
    "version": 2
   },
   "file_extension": ".py",
   "mimetype": "text/x-python",
   "name": "python",
   "nbconvert_exporter": "python",
   "pygments_lexer": "ipython2",
   "version": "2.7.11"
  }
 },
 "nbformat": 4,
 "nbformat_minor": 0
}
