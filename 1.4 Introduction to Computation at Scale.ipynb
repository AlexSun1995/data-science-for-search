{
 "cells": [
  {
   "cell_type": "markdown",
   "metadata": {},
   "source": [
    "## 1.4 Introduction to Computation at Scale\n",
    "\n",
    "We are going to use the python [mrjob](https://github.com/Yelp/mrjob) package developed at Yelp.\n",
    "\n",
    "This package allows us to develop and test map reduce jobs locally and when ready deploy them to a hadoop cluster with hadoop streaming enabled.  We are going to use it to run jobs locally.\n",
    "\n",
    "To write a map reduce job we need to implement mapper() and reducer() functions.  The mrjob package takes care of the orchestration of the job.  Here is a first example that will count words in a file:"
   ]
  },
  {
   "cell_type": "code",
   "execution_count": 4,
   "metadata": {
    "collapsed": false
   },
   "outputs": [
    {
     "name": "stdout",
     "output_type": "stream",
     "text": [
      "Writing wordcounter.py\n"
     ]
    }
   ],
   "source": [
    "%%file wordcounter.py \n",
    "from mrjob.job import MRJob\n",
    "\n",
    "class MRWordFrequencyCount(MRJob):\n",
    "\n",
    "    def mapper(self, _, line):\n",
    "        yield \"words\", len(line.split())\n",
    "\n",
    "    def reducer(self, key, values):\n",
    "        yield key, sum(values)\n",
    "\n",
    "if __name__ == '__main__':\n",
    "    MRWordFrequencyCount.run()"
   ]
  },
  {
   "cell_type": "markdown",
   "metadata": {},
   "source": [
    "The key points to note:\n",
    "\n",
    "* We inherit from the class MRJob and provide at least one mapper, reducer or combiner method implementation\n",
    "* All python methods take `self` as their first argument - this is normal - not mrjob specific\n",
    "* The mappers will be called once for each line by of the input file specified on the command line\n",
    "* The mappers must yield a key value pair - the emitted key value pairs will be sent to combiners and reducers\n",
    "* The reducers will be called once for each key and value emitted by the mappers\n",
    "* The reducers must also output key and value pairs\n",
    "\n",
    "Here we can count the words in the bike-items data we were using earlier:"
   ]
  },
  {
   "cell_type": "code",
   "execution_count": 5,
   "metadata": {
    "collapsed": false
   },
   "outputs": [
    {
     "name": "stdout",
     "output_type": "stream",
     "text": [
      "no configs found; falling back on auto-configuration\n",
      "no configs found; falling back on auto-configuration\n",
      "creating tmp directory /tmp/wordcounter.csumb.20160209.061521.363793\n",
      "\n",
      "PLEASE NOTE: Starting in mrjob v0.5.0, protocols will be strict by default. It's recommended you run your job with --strict-protocols or set up mrjob.conf as described at https://pythonhosted.org/mrjob/whats-new.html#ready-for-strict-protocols\n",
      "\n",
      "writing to /tmp/wordcounter.csumb.20160209.061521.363793/step-0-mapper_part-00000\n",
      "Counters from step 1:\n",
      "  (no counters found)\n",
      "writing to /tmp/wordcounter.csumb.20160209.061521.363793/step-0-mapper-sorted\n",
      "> sort /tmp/wordcounter.csumb.20160209.061521.363793/step-0-mapper_part-00000\n",
      "writing to /tmp/wordcounter.csumb.20160209.061521.363793/step-0-reducer_part-00000\n",
      "Counters from step 1:\n",
      "  (no counters found)\n",
      "Moving /tmp/wordcounter.csumb.20160209.061521.363793/step-0-reducer_part-00000 -> /tmp/wordcounter.csumb.20160209.061521.363793/output/part-00000\n",
      "Streaming final output from /tmp/wordcounter.csumb.20160209.061521.363793/output\n",
      "removing tmp directory /tmp/wordcounter.csumb.20160209.061521.363793\n"
     ]
    }
   ],
   "source": [
    "! python wordcounter.py data/bike-items.txt > out.txt"
   ]
  },
  {
   "cell_type": "markdown",
   "metadata": {},
   "source": [
    "The process runs and the output is dumped into the file out.txt.  In this case there is just a single line:"
   ]
  },
  {
   "cell_type": "code",
   "execution_count": 6,
   "metadata": {
    "collapsed": false
   },
   "outputs": [
    {
     "name": "stdout",
     "output_type": "stream",
     "text": [
      "\"words\"\t755154\r\n"
     ]
    }
   ],
   "source": [
    "! cat out.txt"
   ]
  },
  {
   "cell_type": "markdown",
   "metadata": {},
   "source": [
    "Here we have one pass through the file and have computed just the number of words.  We can have more elaborate jobs that compute multiple statistics.  Here we count characters, word and line count - the mapper emits three key value pairs for each line:\n"
   ]
  },
  {
   "cell_type": "code",
   "execution_count": 9,
   "metadata": {
    "collapsed": false
   },
   "outputs": [
    {
     "name": "stdout",
     "output_type": "stream",
     "text": [
      "Overwriting wordcounter.py\n"
     ]
    }
   ],
   "source": [
    "%%file wordcounter.py \n",
    "from mrjob.job import MRJob\n",
    "\n",
    "class MRWordFrequencyCount(MRJob):\n",
    "\n",
    "    def mapper(self, _, line):\n",
    "        yield \"chars\", len(line)\n",
    "        yield \"words\", len(line.split())\n",
    "        yield \"lines\", 1\n",
    "        \n",
    "\n",
    "    def reducer(self, key, values):\n",
    "        yield key, sum(values)\n",
    "\n",
    "if __name__ == '__main__':\n",
    "    MRWordFrequencyCount.run()"
   ]
  },
  {
   "cell_type": "code",
   "execution_count": 7,
   "metadata": {
    "collapsed": false
   },
   "outputs": [
    {
     "name": "stdout",
     "output_type": "stream",
     "text": [
      "no configs found; falling back on auto-configuration\n",
      "no configs found; falling back on auto-configuration\n",
      "creating tmp directory /tmp/wordcounter.csumb.20160209.061535.032858\n",
      "\n",
      "PLEASE NOTE: Starting in mrjob v0.5.0, protocols will be strict by default. It's recommended you run your job with --strict-protocols or set up mrjob.conf as described at https://pythonhosted.org/mrjob/whats-new.html#ready-for-strict-protocols\n",
      "\n",
      "writing to /tmp/wordcounter.csumb.20160209.061535.032858/step-0-mapper_part-00000\n",
      "Counters from step 1:\n",
      "  (no counters found)\n",
      "writing to /tmp/wordcounter.csumb.20160209.061535.032858/step-0-mapper-sorted\n",
      "> sort /tmp/wordcounter.csumb.20160209.061535.032858/step-0-mapper_part-00000\n",
      "writing to /tmp/wordcounter.csumb.20160209.061535.032858/step-0-reducer_part-00000\n",
      "Counters from step 1:\n",
      "  (no counters found)\n",
      "Moving /tmp/wordcounter.csumb.20160209.061535.032858/step-0-reducer_part-00000 -> /tmp/wordcounter.csumb.20160209.061535.032858/output/part-00000\n",
      "Streaming final output from /tmp/wordcounter.csumb.20160209.061535.032858/output\n",
      "removing tmp directory /tmp/wordcounter.csumb.20160209.061535.032858\n"
     ]
    }
   ],
   "source": [
    "! python wordcounter.py data/bike-items.txt > out.txt"
   ]
  },
  {
   "cell_type": "code",
   "execution_count": 10,
   "metadata": {
    "collapsed": false
   },
   "outputs": [
    {
     "name": "stdout",
     "output_type": "stream",
     "text": [
      "\"words\"\t755154\r\n"
     ]
    }
   ],
   "source": [
    "! cat out.txt"
   ]
  },
  {
   "cell_type": "code",
   "execution_count": 111,
   "metadata": {
    "collapsed": false
   },
   "outputs": [
    {
     "ename": "AttributeError",
     "evalue": "'NoneType' object has no attribute 'group'",
     "output_type": "error",
     "traceback": [
      "\u001b[1;31m---------------------------------------------------------------------------\u001b[0m",
      "\u001b[1;31mAttributeError\u001b[0m                            Traceback (most recent call last)",
      "\u001b[1;32m<ipython-input-111-3f6356a82221>\u001b[0m in \u001b[0;36m<module>\u001b[1;34m()\u001b[0m\n\u001b[0;32m      2\u001b[0m \u001b[0ms\u001b[0m\u001b[1;33m=\u001b[0m\u001b[1;34m'124 \"blah blah blah\"'\u001b[0m\u001b[1;33m\u001b[0m\u001b[0m\n\u001b[0;32m      3\u001b[0m \u001b[0mm\u001b[0m \u001b[1;33m=\u001b[0m \u001b[0mre\u001b[0m\u001b[1;33m.\u001b[0m\u001b[0mmatch\u001b[0m\u001b[1;33m(\u001b[0m\u001b[1;34mr'\\\"([a-zA-Z0-9\\s\\\"\\\"]*)\\\"'\u001b[0m\u001b[1;33m,\u001b[0m\u001b[0ms\u001b[0m\u001b[1;33m)\u001b[0m\u001b[1;33m\u001b[0m\u001b[0m\n\u001b[1;32m----> 4\u001b[1;33m \u001b[1;32mprint\u001b[0m\u001b[1;33m(\u001b[0m\u001b[0mm\u001b[0m\u001b[1;33m.\u001b[0m\u001b[0mgroup\u001b[0m\u001b[1;33m(\u001b[0m\u001b[1;36m1\u001b[0m\u001b[1;33m)\u001b[0m\u001b[1;33m)\u001b[0m\u001b[1;33m\u001b[0m\u001b[0m\n\u001b[0m",
      "\u001b[1;31mAttributeError\u001b[0m: 'NoneType' object has no attribute 'group'"
     ]
    }
   ],
   "source": [
    "import re\n",
    "s='124 \"blah blah blah\"'\n",
    "m = re.match(r'\\\"([a-zA-Z0-9\\s\\\"\\\"]*)\\\"',s)\n",
    "print(m.group(1))"
   ]
  },
  {
   "cell_type": "markdown",
   "metadata": {},
   "source": [
    "## Term Frequency in Map Reduce"
   ]
  },
  {
   "cell_type": "code",
   "execution_count": 165,
   "metadata": {
    "collapsed": false
   },
   "outputs": [
    {
     "name": "stdout",
     "output_type": "stream",
     "text": [
      "Overwriting term-frequency.py\n"
     ]
    }
   ],
   "source": [
    "%%file term-frequency.py \n",
    "from mrjob.job import MRJob\n",
    "import re\n",
    "import StringIO\n",
    "import csv\n",
    "\n",
    "class MRTermFrequencyCount(MRJob):\n",
    "\n",
    "    def mapper(self, _, line):\n",
    "        for row in csv.reader(StringIO.StringIO(line)):\n",
    "            for term in row[1].lower().split():\n",
    "                    yield term, 1\n",
    "\n",
    "    def reducer(self, key, values):\n",
    "        yield key, sum(values)\n",
    "\n",
    "if __name__ == '__main__':\n",
    "    MRTermFrequencyCount.run()"
   ]
  },
  {
   "cell_type": "code",
   "execution_count": 166,
   "metadata": {
    "collapsed": false
   },
   "outputs": [
    {
     "name": "stdout",
     "output_type": "stream",
     "text": [
      "no configs found; falling back on auto-configuration\n",
      "no configs found; falling back on auto-configuration\n",
      "creating tmp directory /tmp/term-frequency.csumb.20160225.042855.060751\n",
      "\n",
      "PLEASE NOTE: Starting in mrjob v0.5.0, protocols will be strict by default. It's recommended you run your job with --strict-protocols or set up mrjob.conf as described at https://pythonhosted.org/mrjob/whats-new.html#ready-for-strict-protocols\n",
      "\n",
      "writing to /tmp/term-frequency.csumb.20160225.042855.060751/step-0-mapper_part-00000\n",
      "Counters from step 1:\n",
      "  (no counters found)\n",
      "writing to /tmp/term-frequency.csumb.20160225.042855.060751/step-0-mapper-sorted\n",
      "> sort /tmp/term-frequency.csumb.20160225.042855.060751/step-0-mapper_part-00000\n",
      "writing to /tmp/term-frequency.csumb.20160225.042855.060751/step-0-reducer_part-00000\n",
      "Counters from step 1:\n",
      "  (no counters found)\n",
      "Moving /tmp/term-frequency.csumb.20160225.042855.060751/step-0-reducer_part-00000 -> /tmp/term-frequency.csumb.20160225.042855.060751/output/part-00000\n",
      "Streaming final output from /tmp/term-frequency.csumb.20160225.042855.060751/output\n",
      "removing tmp directory /tmp/term-frequency.csumb.20160225.042855.060751\n"
     ]
    }
   ],
   "source": [
    "! python term-frequency.py data/bike-item-titles.txt > out.txt"
   ]
  },
  {
   "cell_type": "code",
   "execution_count": 167,
   "metadata": {
    "collapsed": false
   },
   "outputs": [
    {
     "name": "stdout",
     "output_type": "stream",
     "text": [
      "\"1-bike\"\t1\r\n",
      "\"2-bike\"\t6\r\n",
      "\"2bike\"\t1\r\n",
      "\"700x23cbike\"\t1\r\n",
      "\"bandana/motorbike/chopper/harley\"\t1\r\n",
      "\"bicycle/bike\"\t6\r\n",
      "\"bicycle/cycling/bike/gate\"\t1\r\n",
      "\"bike\"\t4446\r\n",
      "\"bike(new)\"\t1\r\n",
      "\"bike)\"\t1\r\n",
      "\"bike**\"\t1\r\n",
      "\"bike-\"\t2\r\n",
      "\"bike--campagnolo\"\t1\r\n",
      "\"bike--nos\"\t1\r\n",
      "\"bike-e293\"\t1\r\n",
      "\"bike-eye\"\t3\r\n",
      "\"bike-pink\"\t1\r\n",
      "\"bike.\"\t1\r\n",
      "\"bike/bicycle\"\t10\r\n",
      "\"bike/bicycle#06\"\t1\r\n",
      "\"bike/bicycle/cycling\"\t2\r\n",
      "\"bike/cycling\"\t1\r\n",
      "\"bike/road\"\t2\r\n",
      "\"bike/singlespeed\"\t1\r\n",
      "\"bike/tri\"\t1\r\n",
      "\"bike36t\"\t1\r\n",
      "\"bikehand\"\t6\r\n",
      "\"bikemate\"\t1\r\n",
      "\"biker\"\t5\r\n",
      "\"bikes\"\t100\r\n",
      "\"biketour\"\t1\r\n",
      "\"cycle/bike\"\t1\r\n",
      "\"cyclingbike\"\t1\r\n",
      "\"disc-xtreme_e-bike\"\t1\r\n",
      "\"e-bike\"\t5\r\n",
      "\"ebike\"\t8\r\n",
      "\"ebikes\"\t1\r\n",
      "\"electrobike\"\t1\r\n",
      "\"fatbike\"\t6\r\n",
      "\"flybikes\"\t3\r\n",
      "\"gobike88\"\t14\r\n",
      "\"inbike\"\t1\r\n",
      "\"interbike\"\t1\r\n",
      "\"lever-bike\"\t1\r\n",
      "\"light/bike\"\t1\r\n",
      "\"motor/bike\"\t1\r\n",
      "\"motorbike\"\t8\r\n",
      "\"mtb/bike\"\t1\r\n",
      "\"pbike\"\t1\r\n",
      "\"probike\"\t1\r\n",
      "\"red-bag/4-bike\"\t1\r\n",
      "\"roadbike\"\t2\r\n",
      "\"sale!bike\"\t1\r\n",
      "\"se-bikes\"\t2\r\n",
      "\"set/kit/cro-mo/bike\"\t1\r\n",
      "\"smp4bike\"\t1\r\n",
      "\"sobike\"\t3\r\n",
      "\"stowabike\"\t1\r\n",
      "\"tube-medium-red-8\\\"-bike\"\t1\r\n",
      "\"wolfbike\"\t4\r\n",
      "\"zerobike\"\t1\r\n"
     ]
    }
   ],
   "source": [
    "! grep 'bike' out.txt\n"
   ]
  },
  {
   "cell_type": "markdown",
   "metadata": {},
   "source": [
    "## Inverted Index"
   ]
  },
  {
   "cell_type": "code",
   "execution_count": 148,
   "metadata": {
    "collapsed": false
   },
   "outputs": [
    {
     "name": "stdout",
     "output_type": "stream",
     "text": [
      "Overwriting inverted-index.py\n"
     ]
    }
   ],
   "source": [
    "%%file inverted-index.py \n",
    "from mrjob.job import MRJob\n",
    "import re\n",
    "import StringIO\n",
    "import csv\n",
    "\n",
    "class MRInvertedIndex(MRJob):\n",
    "\n",
    "    def mapper(self, _, line):\n",
    "        for row in csv.reader(StringIO.StringIO(line)):\n",
    "            id = row[0]\n",
    "            for term in row[1].lower().split():\n",
    "                    yield term, id\n",
    "                    \n",
    "    def reducer(self, key, values):\n",
    "        for doc in values:\n",
    "            yield key, doc\n",
    "\n",
    "if __name__ == '__main__':\n",
    "    MRInvertedIndex.run()"
   ]
  },
  {
   "cell_type": "code",
   "execution_count": 149,
   "metadata": {
    "collapsed": false
   },
   "outputs": [
    {
     "name": "stdout",
     "output_type": "stream",
     "text": [
      "no configs found; falling back on auto-configuration\n",
      "no configs found; falling back on auto-configuration\n",
      "creating tmp directory /tmp/inverted-index.csumb.20160210.065248.125862\n",
      "\n",
      "PLEASE NOTE: Starting in mrjob v0.5.0, protocols will be strict by default. It's recommended you run your job with --strict-protocols or set up mrjob.conf as described at https://pythonhosted.org/mrjob/whats-new.html#ready-for-strict-protocols\n",
      "\n",
      "writing to /tmp/inverted-index.csumb.20160210.065248.125862/step-0-mapper_part-00000\n",
      "Counters from step 1:\n",
      "  (no counters found)\n",
      "writing to /tmp/inverted-index.csumb.20160210.065248.125862/step-0-mapper-sorted\n",
      "> sort /tmp/inverted-index.csumb.20160210.065248.125862/step-0-mapper_part-00000\n",
      "writing to /tmp/inverted-index.csumb.20160210.065248.125862/step-0-reducer_part-00000\n",
      "Counters from step 1:\n",
      "  (no counters found)\n",
      "Moving /tmp/inverted-index.csumb.20160210.065248.125862/step-0-reducer_part-00000 -> /tmp/inverted-index.csumb.20160210.065248.125862/output/part-00000\n",
      "Streaming final output from /tmp/inverted-index.csumb.20160210.065248.125862/output\n",
      "removing tmp directory /tmp/inverted-index.csumb.20160210.065248.125862\n"
     ]
    }
   ],
   "source": [
    "! python inverted-index.py data/bike-item-titles.txt > out.txt"
   ]
  },
  {
   "cell_type": "code",
   "execution_count": 162,
   "metadata": {
    "collapsed": false
   },
   "outputs": [
    {
     "name": "stdout",
     "output_type": "stream",
     "text": [
      "\"unicycle\"\t\"1883\"\n",
      "\"unicycle\"\t\"2138\"\n",
      "\"unicycle\"\t\"3748\"\n",
      "\"unicycle\"\t\"7232\"\n",
      "\"unicycle\"\t\"8777\"\n",
      "\"Electric Unicycle Hybrid Battery 800W Powered Model Q6\",\"**Shipping dates start on the 22nd of February, 2016, please contact us before placing an order!**Here it is! The Electric Urban Transporter. This is THE newest One Wheel Electric Motorcycle (UNICYCLE). Whether you’re looking to travel to work in style, grocery shop, or simply ride green through the city, the Unicycle is the way to go! This is THE greenest, easiest, and coolest way to hop around for the urban dwellers. Transform the way you think about transportation with this Self Balancing\"\n"
     ]
    }
   ],
   "source": [
    "! grep '\"unicycle\"' out.txt\n",
    "! awk 'NR==2138 {print$0}' data/bike-items.txt"
   ]
  },
  {
   "cell_type": "code",
   "execution_count": 163,
   "metadata": {
    "collapsed": false
   },
   "outputs": [
    {
     "name": "stdout",
     "output_type": "stream",
     "text": [
      "1883,\"2X Pedal LED Light for self balance electric unicycle scooter airwheel solowheel\"\r\n",
      "2138,\"Electric Unicycle Hybrid Battery 800W Powered Model Q6\"\r\n",
      "3748,\"24\"\" Butyl Tire Chrome Unicycle Wheel Cycling Mountain Exercise Balance Fitness\"\r\n",
      "7232,\"Unicycle Seat Basic with Seatpost 25.4mm diameter 280mm Four Bolt Black New\"\r\n",
      "8777,\"Torker Unistar LX Pro Unicycle\"\r\n"
     ]
    }
   ],
   "source": [
    "! grep '[Uu]nicycle' data/bike-item-titles.txt"
   ]
  }
 ],
 "metadata": {
  "kernelspec": {
   "display_name": "Python 2",
   "language": "python",
   "name": "python2"
  },
  "language_info": {
   "codemirror_mode": {
    "name": "ipython",
    "version": 2
   },
   "file_extension": ".py",
   "mimetype": "text/x-python",
   "name": "python",
   "nbconvert_exporter": "python",
   "pygments_lexer": "ipython2",
   "version": "2.7.11"
  }
 },
 "nbformat": 4,
 "nbformat_minor": 0
}
