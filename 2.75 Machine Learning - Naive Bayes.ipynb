{
 "cells": [
  {
   "cell_type": "markdown",
   "metadata": {},
   "source": [
    "## 2.75 Machine Learning - Naive Bayes\n",
    "\n",
    "### Binary Categorical Features\n",
    "\n",
    "If all features are categorical implementing Naive Bayes is nothing more than some simple probability calculations based of a few frequency tables.\n",
    "\n",
    "Naive Bayes uses Bayes Rule to compute the probability of the class $C \\in (1,2,..k)$ given the feature vector $X = (x_1,x_2...x_n)$:\n",
    "\n",
    "$ p(C_k | X) = \\frac{p(C_k) \\times p(X | C_k)}{p(X)}$\n",
    "\n",
    "where $p(C_k)$ is the proir probability of class k, $p(X | C_k)$ is the likelihood of the feature vector given the class, and finally $p(X)$ is the probability of the feature vector.\n",
    "\n",
    "*  The prior $p(C_k)$ is computed using the training data.  \n",
    "*  The likelihood $p(X | C_k)$ is also computed using the training data.\n",
    "*  The denominator is not a function of the class - using the Naive Bayes classifier just requires the computation of numerator.  \n",
    "\n",
    "Under the assumptions of the Naive Bayes classifier we assume that each feature is independent of the other features  given the class variable (known as the conditional independence assumption), and so:\n",
    "\n",
    "$ p(X | C) = p(x_1|C) \\times p(x_2|C) \\times  … \\times p(x_n|C)$\n",
    "\n",
    "or\n",
    "\n",
    "$ p(X | C) = \\Pi_{i=1}^{n} p(x_i|C) $\n",
    "\n",
    "This reduces the computations to estimation of each of the $P(x_i | C)$.  With this assumption we reduce the number of parameters to estimate to be $2n$, where n is number of features.  Without this assumption we would have $2(2^n-1)$ parameters to estimate. For categorical features this can be computed from simple cross tabulations.\n",
    "\n",
    "<img src='files/resources/ic_info_outline_black_24dp_2x.png' align='left'>In reality the conditional independence asumption does not hold - features are often correlated conditional on the class - but even with this violation of the assumption naive bayes classifiers work well in practice.  They are especially prevalent in spam detection and text mining.\n",
    "\n",
    "We start by considering the simple case of binary categorical features.  We will show that the application of Bayes rule and the assumption of conditional independence gives the same classification as using the scikit learn Naive Bayes classifier.\n",
    "\n",
    "## Data\n",
    "\n",
    "We will use a classic golf weather dataset - it contains four weather features (outlook, temperature, humidity and wind) and has a target describing whether a golfer played golf or not.\n",
    "\n",
    "We are interested in fitting a model to the training data and then using the model to predict whether the golfer will  play golf when the outlok is sunny, the temperature is low, the humidity is low and it is expected to be windy.  In other words we want to compute:\n",
    "\n",
    "$ p(play=yes | outlook=sunny, temp=low, humidity=low, wind=True) = p(play=yes | weather)$\n",
    "\n",
    "To compute this we need to compute both outcomes:\n",
    "\n",
    "$ p(play=yes | outlook=sunny, temp=low, humidity=low, wind=True)= p(play=yes | weather)$\n",
    "and\n",
    "$ p(play=no | outlook=sunny, temp=low, humidity=low, wind=True)= p(play=no | weather)$\n",
    "\n",
    "\n"
   ]
  },
  {
   "cell_type": "code",
   "execution_count": 3,
   "metadata": {
    "collapsed": false
   },
   "outputs": [
    {
     "data": {
      "text/html": [
       "<div>\n",
       "<table border=\"1\" class=\"dataframe\">\n",
       "  <thead>\n",
       "    <tr style=\"text-align: right;\">\n",
       "      <th></th>\n",
       "      <th>outlook</th>\n",
       "      <th>temp</th>\n",
       "      <th>humidity</th>\n",
       "      <th>wind</th>\n",
       "      <th>play</th>\n",
       "    </tr>\n",
       "  </thead>\n",
       "  <tbody>\n",
       "    <tr>\n",
       "      <th>0</th>\n",
       "      <td>sunny</td>\n",
       "      <td>high</td>\n",
       "      <td>high</td>\n",
       "      <td>False</td>\n",
       "      <td>no</td>\n",
       "    </tr>\n",
       "    <tr>\n",
       "      <th>1</th>\n",
       "      <td>sunny</td>\n",
       "      <td>high</td>\n",
       "      <td>high</td>\n",
       "      <td>True</td>\n",
       "      <td>no</td>\n",
       "    </tr>\n",
       "    <tr>\n",
       "      <th>2</th>\n",
       "      <td>rainy</td>\n",
       "      <td>low</td>\n",
       "      <td>high</td>\n",
       "      <td>False</td>\n",
       "      <td>yes</td>\n",
       "    </tr>\n",
       "    <tr>\n",
       "      <th>3</th>\n",
       "      <td>rainy</td>\n",
       "      <td>low</td>\n",
       "      <td>low</td>\n",
       "      <td>False</td>\n",
       "      <td>yes</td>\n",
       "    </tr>\n",
       "    <tr>\n",
       "      <th>4</th>\n",
       "      <td>rainy</td>\n",
       "      <td>low</td>\n",
       "      <td>low</td>\n",
       "      <td>True</td>\n",
       "      <td>no</td>\n",
       "    </tr>\n",
       "    <tr>\n",
       "      <th>5</th>\n",
       "      <td>sunny</td>\n",
       "      <td>high</td>\n",
       "      <td>high</td>\n",
       "      <td>False</td>\n",
       "      <td>no</td>\n",
       "    </tr>\n",
       "    <tr>\n",
       "      <th>6</th>\n",
       "      <td>sunny</td>\n",
       "      <td>low</td>\n",
       "      <td>low</td>\n",
       "      <td>False</td>\n",
       "      <td>yes</td>\n",
       "    </tr>\n",
       "    <tr>\n",
       "      <th>7</th>\n",
       "      <td>rainy</td>\n",
       "      <td>high</td>\n",
       "      <td>low</td>\n",
       "      <td>False</td>\n",
       "      <td>yes</td>\n",
       "    </tr>\n",
       "    <tr>\n",
       "      <th>8</th>\n",
       "      <td>sunny</td>\n",
       "      <td>high</td>\n",
       "      <td>low</td>\n",
       "      <td>True</td>\n",
       "      <td>yes</td>\n",
       "    </tr>\n",
       "    <tr>\n",
       "      <th>9</th>\n",
       "      <td>rainy</td>\n",
       "      <td>high</td>\n",
       "      <td>high</td>\n",
       "      <td>True</td>\n",
       "      <td>no</td>\n",
       "    </tr>\n",
       "  </tbody>\n",
       "</table>\n",
       "</div>"
      ],
      "text/plain": [
       "  outlook  temp humidity   wind play\n",
       "0   sunny  high     high  False   no\n",
       "1   sunny  high     high   True   no\n",
       "2   rainy   low     high  False  yes\n",
       "3   rainy   low      low  False  yes\n",
       "4   rainy   low      low   True   no\n",
       "5   sunny  high     high  False   no\n",
       "6   sunny   low      low  False  yes\n",
       "7   rainy  high      low  False  yes\n",
       "8   sunny  high      low   True  yes\n",
       "9   rainy  high     high   True   no"
      ]
     },
     "execution_count": 3,
     "metadata": {},
     "output_type": "execute_result"
    }
   ],
   "source": [
    "import pandas as pd\n",
    "\n",
    "df = pd.read_csv('data/golf_binary.csv')\n",
    "df.temp = pd.cut(df.temp,bins=[60,70,90],labels=['low','high'])\n",
    "df.humidity = pd.cut(df.humidity, bins = [0,80,100], labels=['low','high'])\n",
    "df"
   ]
  },
  {
   "cell_type": "code",
   "execution_count": 16,
   "metadata": {
    "collapsed": false
   },
   "outputs": [
    {
     "data": {
      "text/html": [
       "<div>\n",
       "<table border=\"1\" class=\"dataframe\">\n",
       "  <thead>\n",
       "    <tr style=\"text-align: right;\">\n",
       "      <th>wind</th>\n",
       "      <th>False</th>\n",
       "      <th>True</th>\n",
       "    </tr>\n",
       "    <tr>\n",
       "      <th>outlook</th>\n",
       "      <th></th>\n",
       "      <th></th>\n",
       "    </tr>\n",
       "  </thead>\n",
       "  <tbody>\n",
       "    <tr>\n",
       "      <th>rainy</th>\n",
       "      <td>0</td>\n",
       "      <td>2</td>\n",
       "    </tr>\n",
       "    <tr>\n",
       "      <th>sunny</th>\n",
       "      <td>2</td>\n",
       "      <td>1</td>\n",
       "    </tr>\n",
       "  </tbody>\n",
       "</table>\n",
       "</div>"
      ],
      "text/plain": [
       "wind     False  True \n",
       "outlook              \n",
       "rainy        0      2\n",
       "sunny        2      1"
      ]
     },
     "execution_count": 16,
     "metadata": {},
     "output_type": "execute_result"
    }
   ],
   "source": []
  },
  {
   "cell_type": "code",
   "execution_count": 19,
   "metadata": {
    "collapsed": false
   },
   "outputs": [
    {
     "data": {
      "text/plain": [
       "0.2857142857142857"
      ]
     },
     "execution_count": 19,
     "metadata": {},
     "output_type": "execute_result"
    }
   ],
   "source": [
    "0.04/(0.04+0.10)"
   ]
  },
  {
   "cell_type": "code",
   "execution_count": 11,
   "metadata": {
    "collapsed": false
   },
   "outputs": [
    {
     "data": {
      "text/html": [
       "<div>\n",
       "<table border=\"1\" class=\"dataframe\">\n",
       "  <thead>\n",
       "    <tr style=\"text-align: right;\">\n",
       "      <th>play</th>\n",
       "      <th>no</th>\n",
       "      <th>yes</th>\n",
       "    </tr>\n",
       "    <tr>\n",
       "      <th>wind</th>\n",
       "      <th></th>\n",
       "      <th></th>\n",
       "    </tr>\n",
       "  </thead>\n",
       "  <tbody>\n",
       "    <tr>\n",
       "      <th>False</th>\n",
       "      <td>2</td>\n",
       "      <td>4</td>\n",
       "    </tr>\n",
       "    <tr>\n",
       "      <th>True</th>\n",
       "      <td>3</td>\n",
       "      <td>1</td>\n",
       "    </tr>\n",
       "  </tbody>\n",
       "</table>\n",
       "</div>"
      ],
      "text/plain": [
       "play   no  yes\n",
       "wind          \n",
       "False   2    4\n",
       "True    3    1"
      ]
     },
     "execution_count": 11,
     "metadata": {},
     "output_type": "execute_result"
    }
   ],
   "source": [
    "pd.crosstab(df.wind, df.play)"
   ]
  },
  {
   "cell_type": "markdown",
   "metadata": {},
   "source": [
    "## Simple Crosstabs"
   ]
  },
  {
   "cell_type": "code",
   "execution_count": 163,
   "metadata": {
    "collapsed": false,
    "scrolled": true
   },
   "outputs": [
    {
     "data": {
      "text/html": [
       "<div>\n",
       "<table border=\"1\" class=\"dataframe\">\n",
       "  <thead>\n",
       "    <tr style=\"text-align: right;\">\n",
       "      <th>play</th>\n",
       "      <th>no</th>\n",
       "      <th>yes</th>\n",
       "    </tr>\n",
       "    <tr>\n",
       "      <th>outlook</th>\n",
       "      <th></th>\n",
       "      <th></th>\n",
       "    </tr>\n",
       "  </thead>\n",
       "  <tbody>\n",
       "    <tr>\n",
       "      <th>rainy</th>\n",
       "      <td>0.4</td>\n",
       "      <td>0.6</td>\n",
       "    </tr>\n",
       "    <tr>\n",
       "      <th>sunny</th>\n",
       "      <td>0.6</td>\n",
       "      <td>0.4</td>\n",
       "    </tr>\n",
       "  </tbody>\n",
       "</table>\n",
       "</div>"
      ],
      "text/plain": [
       "play      no  yes\n",
       "outlook          \n",
       "rainy    0.4  0.6\n",
       "sunny    0.6  0.4"
      ]
     },
     "execution_count": 163,
     "metadata": {},
     "output_type": "execute_result"
    }
   ],
   "source": [
    "pd.crosstab(df.outlook,df.play).apply(lambda r: r*1.0/r.sum(), axis=0)"
   ]
  },
  {
   "cell_type": "code",
   "execution_count": 167,
   "metadata": {
    "collapsed": false
   },
   "outputs": [
    {
     "data": {
      "text/html": [
       "<div>\n",
       "<table border=\"1\" class=\"dataframe\">\n",
       "  <thead>\n",
       "    <tr style=\"text-align: right;\">\n",
       "      <th>play</th>\n",
       "      <th>no</th>\n",
       "      <th>yes</th>\n",
       "    </tr>\n",
       "    <tr>\n",
       "      <th>temp</th>\n",
       "      <th></th>\n",
       "      <th></th>\n",
       "    </tr>\n",
       "  </thead>\n",
       "  <tbody>\n",
       "    <tr>\n",
       "      <th>low</th>\n",
       "      <td>0.2</td>\n",
       "      <td>0.6</td>\n",
       "    </tr>\n",
       "    <tr>\n",
       "      <th>high</th>\n",
       "      <td>0.8</td>\n",
       "      <td>0.4</td>\n",
       "    </tr>\n",
       "  </tbody>\n",
       "</table>\n",
       "</div>"
      ],
      "text/plain": [
       "play   no  yes\n",
       "temp          \n",
       "low   0.2  0.6\n",
       "high  0.8  0.4"
      ]
     },
     "execution_count": 167,
     "metadata": {},
     "output_type": "execute_result"
    }
   ],
   "source": [
    "pd.crosstab(df.temp,df.play).apply(lambda r: r*1.0/r.sum(), axis=0)"
   ]
  },
  {
   "cell_type": "code",
   "execution_count": 166,
   "metadata": {
    "collapsed": false
   },
   "outputs": [
    {
     "data": {
      "text/html": [
       "<div>\n",
       "<table border=\"1\" class=\"dataframe\">\n",
       "  <thead>\n",
       "    <tr style=\"text-align: right;\">\n",
       "      <th>play</th>\n",
       "      <th>no</th>\n",
       "      <th>yes</th>\n",
       "    </tr>\n",
       "    <tr>\n",
       "      <th>humidity</th>\n",
       "      <th></th>\n",
       "      <th></th>\n",
       "    </tr>\n",
       "  </thead>\n",
       "  <tbody>\n",
       "    <tr>\n",
       "      <th>low</th>\n",
       "      <td>0.2</td>\n",
       "      <td>0.8</td>\n",
       "    </tr>\n",
       "    <tr>\n",
       "      <th>high</th>\n",
       "      <td>0.8</td>\n",
       "      <td>0.2</td>\n",
       "    </tr>\n",
       "  </tbody>\n",
       "</table>\n",
       "</div>"
      ],
      "text/plain": [
       "play       no  yes\n",
       "humidity          \n",
       "low       0.2  0.8\n",
       "high      0.8  0.2"
      ]
     },
     "execution_count": 166,
     "metadata": {},
     "output_type": "execute_result"
    }
   ],
   "source": [
    "pd.crosstab(df.humidity,df.play).apply(lambda r: r*1.0/r.sum(), axis=0)"
   ]
  },
  {
   "cell_type": "code",
   "execution_count": 165,
   "metadata": {
    "collapsed": false
   },
   "outputs": [
    {
     "data": {
      "text/html": [
       "<div>\n",
       "<table border=\"1\" class=\"dataframe\">\n",
       "  <thead>\n",
       "    <tr style=\"text-align: right;\">\n",
       "      <th>play</th>\n",
       "      <th>no</th>\n",
       "      <th>yes</th>\n",
       "    </tr>\n",
       "    <tr>\n",
       "      <th>wind</th>\n",
       "      <th></th>\n",
       "      <th></th>\n",
       "    </tr>\n",
       "  </thead>\n",
       "  <tbody>\n",
       "    <tr>\n",
       "      <th>False</th>\n",
       "      <td>0.4</td>\n",
       "      <td>0.8</td>\n",
       "    </tr>\n",
       "    <tr>\n",
       "      <th>True</th>\n",
       "      <td>0.6</td>\n",
       "      <td>0.2</td>\n",
       "    </tr>\n",
       "  </tbody>\n",
       "</table>\n",
       "</div>"
      ],
      "text/plain": [
       "play    no  yes\n",
       "wind           \n",
       "False  0.4  0.8\n",
       "True   0.6  0.2"
      ]
     },
     "execution_count": 165,
     "metadata": {},
     "output_type": "execute_result"
    }
   ],
   "source": [
    "pd.crosstab(df.wind,df.play).apply(lambda r: r*1.0/r.sum(), axis=0)"
   ]
  },
  {
   "cell_type": "code",
   "execution_count": 164,
   "metadata": {
    "collapsed": false
   },
   "outputs": [
    {
     "data": {
      "text/html": [
       "<div>\n",
       "<table border=\"1\" class=\"dataframe\">\n",
       "  <thead>\n",
       "    <tr style=\"text-align: right;\">\n",
       "      <th></th>\n",
       "      <th>play</th>\n",
       "    </tr>\n",
       "  </thead>\n",
       "  <tbody>\n",
       "    <tr>\n",
       "      <th>no</th>\n",
       "      <td>0.5</td>\n",
       "    </tr>\n",
       "    <tr>\n",
       "      <th>yes</th>\n",
       "      <td>0.5</td>\n",
       "    </tr>\n",
       "  </tbody>\n",
       "</table>\n",
       "</div>"
      ],
      "text/plain": [
       "     play\n",
       "no    0.5\n",
       "yes   0.5"
      ]
     },
     "execution_count": 164,
     "metadata": {},
     "output_type": "execute_result"
    }
   ],
   "source": [
    "pd.DataFrame(df.play.value_counts()).apply(lambda r: r*1.0/r.sum(), axis=0)"
   ]
  },
  {
   "cell_type": "markdown",
   "metadata": {},
   "source": [
    "$p(play=yes \\mid weather)$ is proportional to the product of:\n",
    "\n",
    "*  p(play=yes) = 0.5\n",
    "*  p(outlook=sunny \\mid play=yes) = 0.40\n",
    "*  p(temp=low \\mid play=yes) = 0.60\n",
    "*  p(humidity=low \\mid play=yes) = 0.80\n",
    "*  p(wind=True \\mid play=yes) = 0.20\n",
    "\n",
    "$p(play=yes \\mid weather) \\propto 0.50 \\times 0.40 \\times 0.60 \\times 0.80 \\times 0.20 = 0.0192$\n",
    "\n",
    "Similarly $p(play=no \\mid weather)$ is proportional to the product of:\n",
    "\n",
    "*  p(play=no) = 0.50\n",
    "*  p(outlook=sunny \\mid play=no) = 0.60\n",
    "*  p(temp=low \\mid play=no) = 0.20\n",
    "*  p(humidity=low \\mid play=no) = 0.20\n",
    "*  p(wind=True \\mid play=no) = 0.60\n",
    "\n",
    "$p(play=no \\mid weather) \\propto 0.50 \\times 0.60 \\times 0.20 \\times 0.20 \\times 0.60 = 0.0072$\n",
    "\n",
    "Note proportionality allows us to ignore the denominator in Bayes Rule - which is constant for both play=yes and play=no:\n",
    "\n",
    "We can now normalise to get \n",
    "\n",
    "$p(play=yes \\mid weather) = \\frac{p(play=yes \\mid weather)}{p(play=yes \\mid weather) + p(play=no \\mid weather)}$\n",
    "\n",
    "hence,\n",
    "\n",
    "$p(play=yes \\mid weather) = \\frac{0.0192}{0.0192+0.0072} = 0.7272$\n",
    "\n",
    "In other words the probability that the person will play given the weather is sunny, low temp, low humidity and windy is 73%. Since the probability is >50% we predict that play=Yes.\n"
   ]
  },
  {
   "cell_type": "code",
   "execution_count": 32,
   "metadata": {
    "collapsed": false
   },
   "outputs": [
    {
     "name": "stdout",
     "output_type": "stream",
     "text": [
      "P(play=yes | weather ) =   0.73\n",
      "P(play=no  | weather ) =   0.27\n"
     ]
    }
   ],
   "source": [
    "yes = 0.5 * 0.4 * 0.6 * 0.8 * 0.2\n",
    "no = 0.5 * 0.6 * 0.2 * 0.2 * 0.6\n",
    "\n",
    "print(\"P(play=yes | weather ) = {0:6.2f}\".format(yes / (yes + no)))\n",
    "print(\"P(play=no  | weather ) = {0:6.2f}\".format(no / (yes + no)))"
   ]
  },
  {
   "cell_type": "markdown",
   "metadata": {},
   "source": [
    "<img src='files/resources/ic_assignment_black_24dp_2x.png' align='left'>Now it is your turn!   What is the probability the golfer plays golf when the weather is (outlook=rainy, temp=low, humidity=high, wind=False)?"
   ]
  },
  {
   "cell_type": "markdown",
   "metadata": {},
   "source": [
    "## Using scikit learn\n",
    "\n",
    "We should be able to get the same result using th scikit-learn naive bayes classifier.  We need to use `BernoulliNB()` since this one handles categorical features in the manner described above.  "
   ]
  },
  {
   "cell_type": "code",
   "execution_count": 31,
   "metadata": {
    "collapsed": false
   },
   "outputs": [
    {
     "name": "stdout",
     "output_type": "stream",
     "text": [
      "P(play=yes | weather ) =   0.73\n",
      "P(play=no  | weather ) =   0.27\n"
     ]
    }
   ],
   "source": [
    "from sklearn.naive_bayes import BernoulliNB\n",
    "from sklearn.preprocessing import LabelEncoder \n",
    "import numpy as np\n",
    "\n",
    "dfe = df.apply(LabelEncoder().fit_transform)\n",
    "x = dfe[['outlook','temp','humidity','wind']]\n",
    "y = dfe['play']\n",
    "clf = BernoulliNB(alpha=0.0).fit(x,y)\n",
    "pred = clf.predict_proba(np.array([2,1,1,1]).reshape(1,-1))\n",
    "\n",
    "print(\"P(play=yes | weather ) = {0:6.2f}\".format(pred[0][1]))\n",
    "print(\"P(play=no  | weather ) = {0:6.2f}\".format(pred[0][0]))\n"
   ]
  },
  {
   "cell_type": "markdown",
   "metadata": {},
   "source": [
    "This agrees with our previous calculation."
   ]
  },
  {
   "cell_type": "markdown",
   "metadata": {},
   "source": [
    "<img src='files/resources/ic_assignment_black_24dp_2x.png' align='left'>Validate your previous answer.  Use scikit learn to compute the probability that the golfer plays golf when the weather is (outlook=rainy, temp=low, humidity=high, wind=False)?"
   ]
  },
  {
   "cell_type": "markdown",
   "metadata": {},
   "source": [
    "## Exact Calculation\n",
    "\n",
    "When the number of features are small we do not need to invoke the conditional independence assumption.  \n",
    "\n",
    "Here we compute $P(play=yes \\mid outlook = sunny, wind = True)$ exactly and by invoking the conditional independence assumption.  We will ignore the other features at this point to simplify the computation - $n=2$.\n",
    "\n",
    "### Exact\n",
    "\n",
    "From Bayes rule, \n",
    "\n",
    "$P(play=yes \\mid sunny, windy) \\propto P(play=yes) \\times P(outlook=sunny, wind=True \\mid play=yes)$\n",
    "$P(play=no  \\mid sunny, windy) \\propto P(play=no ) \\times P(outlook=sunny, wind=True \\mid play=no)$\n",
    "\n",
    "We can compute 2-d frequency table conditional on `play` to compute $P(sunny, windy \\mid play=yes)$ and $P(sunny, windy \\mid play=no)$:\n",
    "\n",
    "When play = 'no':"
   ]
  },
  {
   "cell_type": "code",
   "execution_count": 33,
   "metadata": {
    "collapsed": false
   },
   "outputs": [
    {
     "data": {
      "text/html": [
       "<div>\n",
       "<table border=\"1\" class=\"dataframe\">\n",
       "  <thead>\n",
       "    <tr style=\"text-align: right;\">\n",
       "      <th>wind</th>\n",
       "      <th>False</th>\n",
       "      <th>True</th>\n",
       "    </tr>\n",
       "    <tr>\n",
       "      <th>outlook</th>\n",
       "      <th></th>\n",
       "      <th></th>\n",
       "    </tr>\n",
       "  </thead>\n",
       "  <tbody>\n",
       "    <tr>\n",
       "      <th>rainy</th>\n",
       "      <td>0</td>\n",
       "      <td>2</td>\n",
       "    </tr>\n",
       "    <tr>\n",
       "      <th>sunny</th>\n",
       "      <td>2</td>\n",
       "      <td>1</td>\n",
       "    </tr>\n",
       "  </tbody>\n",
       "</table>\n",
       "</div>"
      ],
      "text/plain": [
       "wind     False  True \n",
       "outlook              \n",
       "rainy        0      2\n",
       "sunny        2      1"
      ]
     },
     "execution_count": 33,
     "metadata": {},
     "output_type": "execute_result"
    }
   ],
   "source": [
    "pd.crosstab(df[df.play=='no'].outlook, df.wind)"
   ]
  },
  {
   "cell_type": "markdown",
   "metadata": {},
   "source": [
    "When play = 'yes':"
   ]
  },
  {
   "cell_type": "code",
   "execution_count": 34,
   "metadata": {
    "collapsed": false
   },
   "outputs": [
    {
     "data": {
      "text/html": [
       "<div>\n",
       "<table border=\"1\" class=\"dataframe\">\n",
       "  <thead>\n",
       "    <tr style=\"text-align: right;\">\n",
       "      <th>wind</th>\n",
       "      <th>False</th>\n",
       "      <th>True</th>\n",
       "    </tr>\n",
       "    <tr>\n",
       "      <th>outlook</th>\n",
       "      <th></th>\n",
       "      <th></th>\n",
       "    </tr>\n",
       "  </thead>\n",
       "  <tbody>\n",
       "    <tr>\n",
       "      <th>rainy</th>\n",
       "      <td>3</td>\n",
       "      <td>0</td>\n",
       "    </tr>\n",
       "    <tr>\n",
       "      <th>sunny</th>\n",
       "      <td>1</td>\n",
       "      <td>1</td>\n",
       "    </tr>\n",
       "  </tbody>\n",
       "</table>\n",
       "</div>"
      ],
      "text/plain": [
       "wind     False  True \n",
       "outlook              \n",
       "rainy        3      0\n",
       "sunny        1      1"
      ]
     },
     "execution_count": 34,
     "metadata": {},
     "output_type": "execute_result"
    }
   ],
   "source": [
    "pd.crosstab(df[df.play=='yes'].outlook, df.wind)"
   ]
  },
  {
   "cell_type": "markdown",
   "metadata": {},
   "source": [
    "$P(play=yes \\mid sunny, windy) \\propto 0.5 \\times 0.2 = 0.01$  \n",
    "$P(play=no \\mid sunny, windy) \\propto 0.5 \\times 0.2 = 0.01$\n"
   ]
  },
  {
   "cell_type": "markdown",
   "metadata": {},
   "source": [
    "$P(play=yes \\mid sunny, windy ) = \\frac{0.01}{0.01 + 0.01}$ = 0.5"
   ]
  },
  {
   "cell_type": "markdown",
   "metadata": {},
   "source": [
    "### Invoking Conditional Independence Assumption\n",
    "\n",
    "$P(play=yes \\mid sunny, windy) \\propto P(play=yes) \\times P(outlook=sunny \\mid play=yes) \\times P(wind=True \\mid play=yes)$\n",
    "$P(play=no  \\mid sunny, windy) \\propto P(play=no ) \\times P(outlook=sunny \\mid play=no) \\times P(wind=True \\mid play=no)$\n",
    "\n",
    "Here are the required crosstabs:"
   ]
  },
  {
   "cell_type": "code",
   "execution_count": 40,
   "metadata": {
    "collapsed": false
   },
   "outputs": [
    {
     "data": {
      "text/html": [
       "<div>\n",
       "<table border=\"1\" class=\"dataframe\">\n",
       "  <thead>\n",
       "    <tr style=\"text-align: right;\">\n",
       "      <th>play</th>\n",
       "      <th>no</th>\n",
       "      <th>yes</th>\n",
       "    </tr>\n",
       "    <tr>\n",
       "      <th>outlook</th>\n",
       "      <th></th>\n",
       "      <th></th>\n",
       "    </tr>\n",
       "  </thead>\n",
       "  <tbody>\n",
       "    <tr>\n",
       "      <th>rainy</th>\n",
       "      <td>0.4</td>\n",
       "      <td>0.6</td>\n",
       "    </tr>\n",
       "    <tr>\n",
       "      <th>sunny</th>\n",
       "      <td>0.6</td>\n",
       "      <td>0.4</td>\n",
       "    </tr>\n",
       "  </tbody>\n",
       "</table>\n",
       "</div>"
      ],
      "text/plain": [
       "play      no  yes\n",
       "outlook          \n",
       "rainy    0.4  0.6\n",
       "sunny    0.6  0.4"
      ]
     },
     "execution_count": 40,
     "metadata": {},
     "output_type": "execute_result"
    }
   ],
   "source": [
    "pd.crosstab(df.outlook,df.play).apply(lambda r: r*1.0/r.sum(), axis=0)"
   ]
  },
  {
   "cell_type": "code",
   "execution_count": 41,
   "metadata": {
    "collapsed": false
   },
   "outputs": [
    {
     "data": {
      "text/html": [
       "<div>\n",
       "<table border=\"1\" class=\"dataframe\">\n",
       "  <thead>\n",
       "    <tr style=\"text-align: right;\">\n",
       "      <th>play</th>\n",
       "      <th>no</th>\n",
       "      <th>yes</th>\n",
       "    </tr>\n",
       "    <tr>\n",
       "      <th>wind</th>\n",
       "      <th></th>\n",
       "      <th></th>\n",
       "    </tr>\n",
       "  </thead>\n",
       "  <tbody>\n",
       "    <tr>\n",
       "      <th>False</th>\n",
       "      <td>0.4</td>\n",
       "      <td>0.8</td>\n",
       "    </tr>\n",
       "    <tr>\n",
       "      <th>True</th>\n",
       "      <td>0.6</td>\n",
       "      <td>0.2</td>\n",
       "    </tr>\n",
       "  </tbody>\n",
       "</table>\n",
       "</div>"
      ],
      "text/plain": [
       "play    no  yes\n",
       "wind           \n",
       "False  0.4  0.8\n",
       "True   0.6  0.2"
      ]
     },
     "execution_count": 41,
     "metadata": {},
     "output_type": "execute_result"
    }
   ],
   "source": [
    "pd.crosstab(df.wind,df.play).apply(lambda r: r*1.0/r.sum(), axis=0)"
   ]
  },
  {
   "cell_type": "markdown",
   "metadata": {},
   "source": [
    "$P(play=yes \\mid sunny, windy) \\propto 0.5 \\times 0.4 \\times 0.2 = 0.04$\n",
    "$P(play=no  \\mid sunny, windy) \\propto 0.5 \\times 0.6 \\times 0.6 = 0.18$\n",
    "\n",
    "$P(play=yes \\mid sunny, windy ) = \\frac{0.04}{0.04 + 0.18}$ = 0.29"
   ]
  },
  {
   "cell_type": "markdown",
   "metadata": {},
   "source": [
    "Because it tends to be windy and sunny when the glofer does not play the conditional independence assumption is violated causing error in the joint probability estimate.  In practice it is generally not feasible to compute the exact joint probability conditional on the class, and even if it was we end up with a large number of parameters and many situations have no training examples so p(X|C)=0 - we have no choice but to invoke the conditional independence assumption.  \n",
    "\n",
    "<img src='files/resources/ic_info_outline_black_24dp_2x.png' align='left'>Overfitting alert!  The conditional independence assumption reduces the variance of the model - so whilst it seems counter intuitive based on the example above it is actually a good thing to do especially as $n$ grows!"
   ]
  }
 ],
 "metadata": {
  "kernelspec": {
   "display_name": "Python 2",
   "language": "python",
   "name": "python2"
  },
  "language_info": {
   "codemirror_mode": {
    "name": "ipython",
    "version": 2
   },
   "file_extension": ".py",
   "mimetype": "text/x-python",
   "name": "python",
   "nbconvert_exporter": "python",
   "pygments_lexer": "ipython2",
   "version": "2.7.11"
  }
 },
 "nbformat": 4,
 "nbformat_minor": 0
}
