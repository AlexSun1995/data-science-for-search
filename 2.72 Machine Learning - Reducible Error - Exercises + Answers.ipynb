{
 "cells": [
  {
   "cell_type": "markdown",
   "metadata": {},
   "source": [
    "## 2.72 Machine Learning - Reducible Error - Exercises + Answers\n",
    "\n",
    "We are going to work with a very small file of training data."
   ]
  },
  {
   "cell_type": "code",
   "execution_count": 1,
   "metadata": {
    "collapsed": false,
    "scrolled": true
   },
   "outputs": [
    {
     "data": {
      "text/html": [
       "<div>\n",
       "<table border=\"1\" class=\"dataframe\">\n",
       "  <thead>\n",
       "    <tr style=\"text-align: right;\">\n",
       "      <th></th>\n",
       "      <th>x</th>\n",
       "      <th>y</th>\n",
       "    </tr>\n",
       "  </thead>\n",
       "  <tbody>\n",
       "    <tr>\n",
       "      <th>0</th>\n",
       "      <td>18.836133</td>\n",
       "      <td>11.269769</td>\n",
       "    </tr>\n",
       "    <tr>\n",
       "      <th>1</th>\n",
       "      <td>12.646680</td>\n",
       "      <td>8.734799</td>\n",
       "    </tr>\n",
       "    <tr>\n",
       "      <th>2</th>\n",
       "      <td>9.747432</td>\n",
       "      <td>8.173146</td>\n",
       "    </tr>\n",
       "    <tr>\n",
       "      <th>3</th>\n",
       "      <td>2.334745</td>\n",
       "      <td>5.424436</td>\n",
       "    </tr>\n",
       "    <tr>\n",
       "      <th>4</th>\n",
       "      <td>0.409672</td>\n",
       "      <td>2.339696</td>\n",
       "    </tr>\n",
       "    <tr>\n",
       "      <th>5</th>\n",
       "      <td>6.327346</td>\n",
       "      <td>7.787972</td>\n",
       "    </tr>\n",
       "    <tr>\n",
       "      <th>6</th>\n",
       "      <td>9.708542</td>\n",
       "      <td>10.423231</td>\n",
       "    </tr>\n",
       "    <tr>\n",
       "      <th>7</th>\n",
       "      <td>14.599289</td>\n",
       "      <td>10.390283</td>\n",
       "    </tr>\n",
       "    <tr>\n",
       "      <th>8</th>\n",
       "      <td>3.301732</td>\n",
       "      <td>7.423751</td>\n",
       "    </tr>\n",
       "    <tr>\n",
       "      <th>9</th>\n",
       "      <td>3.158246</td>\n",
       "      <td>6.116124</td>\n",
       "    </tr>\n",
       "  </tbody>\n",
       "</table>\n",
       "</div>"
      ],
      "text/plain": [
       "           x          y\n",
       "0  18.836133  11.269769\n",
       "1  12.646680   8.734799\n",
       "2   9.747432   8.173146\n",
       "3   2.334745   5.424436\n",
       "4   0.409672   2.339696\n",
       "5   6.327346   7.787972\n",
       "6   9.708542  10.423231\n",
       "7  14.599289  10.390283\n",
       "8   3.301732   7.423751\n",
       "9   3.158246   6.116124"
      ]
     },
     "execution_count": 1,
     "metadata": {},
     "output_type": "execute_result"
    }
   ],
   "source": [
    "import numpy as np\n",
    "import pandas as pd\n",
    "\n",
    "df_train = pd.read_csv('data/ml-data-train.csv')\n",
    "df_train"
   ]
  },
  {
   "cell_type": "markdown",
   "metadata": {},
   "source": [
    "<img src='files/resources/ic_assignment_black_24dp_2x.png' align='left'>Create a scatterplot of the data.  Look in the visualization notes from day 1 for guidance on creating scatter plots.  \n",
    "Does the relationship between x and y look linear or non-linear?"
   ]
  },
  {
   "cell_type": "code",
   "execution_count": 2,
   "metadata": {
    "collapsed": false
   },
   "outputs": [
    {
     "data": {
      "text/html": [
       "\n",
       "\n",
       "    <script type=\"text/javascript\">\n",
       "      \n",
       "      (function(global) {\n",
       "        function now() {\n",
       "          return new Date();\n",
       "        }\n",
       "      \n",
       "        if (typeof (window._bokeh_onload_callbacks) === \"undefined\") {\n",
       "          window._bokeh_onload_callbacks = [];\n",
       "        }\n",
       "      \n",
       "        function run_callbacks() {\n",
       "          window._bokeh_onload_callbacks.forEach(function(callback) { callback() });\n",
       "          delete window._bokeh_onload_callbacks\n",
       "          console.info(\"Bokeh: all callbacks have finished\");\n",
       "        }\n",
       "      \n",
       "        function load_libs(js_urls, callback) {\n",
       "          window._bokeh_onload_callbacks.push(callback);\n",
       "          if (window._bokeh_is_loading > 0) {\n",
       "            console.log(\"Bokeh: BokehJS is being loaded, scheduling callback at\", now());\n",
       "            return null;\n",
       "          }\n",
       "          if (js_urls == null || js_urls.length === 0) {\n",
       "            run_callbacks();\n",
       "            return null;\n",
       "          }\n",
       "          console.log(\"Bokeh: BokehJS not loaded, scheduling load and callback at\", now());\n",
       "          window._bokeh_is_loading = js_urls.length;\n",
       "          for (var i = 0; i < js_urls.length; i++) {\n",
       "            var url = js_urls[i];\n",
       "            var s = document.createElement('script');\n",
       "            s.src = url;\n",
       "            s.async = false;\n",
       "            s.onreadystatechange = s.onload = function() {\n",
       "              window._bokeh_is_loading--;\n",
       "              if (window._bokeh_is_loading === 0) {\n",
       "                console.log(\"Bokeh: all BokehJS libraries loaded\");\n",
       "                run_callbacks()\n",
       "              }\n",
       "            };\n",
       "            s.onerror = function() {\n",
       "              console.warn(\"failed to load library \" + url);\n",
       "            };\n",
       "            console.log(\"Bokeh: injecting script tag for BokehJS library: \", url);\n",
       "            document.getElementsByTagName(\"head\")[0].appendChild(s);\n",
       "          }\n",
       "        };var js_urls = ['https://cdn.pydata.org/bokeh/release/bokeh-0.11.0.min.js', 'https://cdn.pydata.org/bokeh/release/bokeh-widgets-0.11.0.min.js', 'https://cdn.pydata.org/bokeh/release/bokeh-compiler-0.11.0.min.js'];\n",
       "      \n",
       "        var inline_js = [\n",
       "          function(Bokeh) {\n",
       "            Bokeh.set_log_level(\"info\");\n",
       "          },\n",
       "          function(Bokeh) {\n",
       "            console.log(\"Bokeh: injecting CSS: https://cdn.pydata.org/bokeh/release/bokeh-0.11.0.min.css\");\n",
       "            Bokeh.embed.inject_css(\"https://cdn.pydata.org/bokeh/release/bokeh-0.11.0.min.css\");\n",
       "            console.log(\"Bokeh: injecting CSS: https://cdn.pydata.org/bokeh/release/bokeh-widgets-0.11.0.min.css\");\n",
       "            Bokeh.embed.inject_css(\"https://cdn.pydata.org/bokeh/release/bokeh-widgets-0.11.0.min.css\");\n",
       "          }\n",
       "        ];\n",
       "      \n",
       "        function run_inline_js() {\n",
       "          for (var i = 0; i < inline_js.length; i++) {\n",
       "            inline_js[i](window.Bokeh);\n",
       "          }\n",
       "        }\n",
       "      \n",
       "        if (window._bokeh_is_loading === 0) {\n",
       "          console.log(\"Bokeh: BokehJS loaded, going straight to plotting\");\n",
       "          run_inline_js();\n",
       "        } else {\n",
       "          load_libs(js_urls, function() {\n",
       "            console.log(\"Bokeh: BokehJS plotting callback run at\", now());\n",
       "            run_inline_js();\n",
       "          });\n",
       "        }\n",
       "      }(this));\n",
       "    </script>"
      ]
     },
     "metadata": {},
     "output_type": "display_data"
    },
    {
     "data": {
      "text/html": [
       "\n",
       "\n",
       "    <div class=\"plotdiv\" id=\"228f0877-4e4e-44ad-8b7e-26d9ead1182f\"></div>\n",
       "<script type=\"text/javascript\">\n",
       "  \n",
       "  (function(global) {\n",
       "    function now() {\n",
       "      return new Date();\n",
       "    }\n",
       "  \n",
       "    if (typeof (window._bokeh_onload_callbacks) === \"undefined\") {\n",
       "      window._bokeh_onload_callbacks = [];\n",
       "    }\n",
       "  \n",
       "    function run_callbacks() {\n",
       "      window._bokeh_onload_callbacks.forEach(function(callback) { callback() });\n",
       "      delete window._bokeh_onload_callbacks\n",
       "      console.info(\"Bokeh: all callbacks have finished\");\n",
       "    }\n",
       "  \n",
       "    function load_libs(js_urls, callback) {\n",
       "      window._bokeh_onload_callbacks.push(callback);\n",
       "      if (window._bokeh_is_loading > 0) {\n",
       "        console.log(\"Bokeh: BokehJS is being loaded, scheduling callback at\", now());\n",
       "        return null;\n",
       "      }\n",
       "      if (js_urls == null || js_urls.length === 0) {\n",
       "        run_callbacks();\n",
       "        return null;\n",
       "      }\n",
       "      console.log(\"Bokeh: BokehJS not loaded, scheduling load and callback at\", now());\n",
       "      window._bokeh_is_loading = js_urls.length;\n",
       "      for (var i = 0; i < js_urls.length; i++) {\n",
       "        var url = js_urls[i];\n",
       "        var s = document.createElement('script');\n",
       "        s.src = url;\n",
       "        s.async = false;\n",
       "        s.onreadystatechange = s.onload = function() {\n",
       "          window._bokeh_is_loading--;\n",
       "          if (window._bokeh_is_loading === 0) {\n",
       "            console.log(\"Bokeh: all BokehJS libraries loaded\");\n",
       "            run_callbacks()\n",
       "          }\n",
       "        };\n",
       "        s.onerror = function() {\n",
       "          console.warn(\"failed to load library \" + url);\n",
       "        };\n",
       "        console.log(\"Bokeh: injecting script tag for BokehJS library: \", url);\n",
       "        document.getElementsByTagName(\"head\")[0].appendChild(s);\n",
       "      }\n",
       "    };var element = document.getElementById(\"228f0877-4e4e-44ad-8b7e-26d9ead1182f\");\n",
       "    if (element == null) {\n",
       "      console.log(\"Bokeh: ERROR: autoload.js configured with elementid '228f0877-4e4e-44ad-8b7e-26d9ead1182f' but no matching script tag was found. \")\n",
       "      return false;\n",
       "    }var js_urls = [];\n",
       "  \n",
       "    var inline_js = [\n",
       "      function(Bokeh) {\n",
       "        Bokeh.$(function() {\n",
       "            var docs_json = {\"63584826-ca98-4350-bd09-d32d22c83089\": {\"version\": \"0.11.0\", \"roots\": {\"root_ids\": [\"36077a66-34b8-4632-b60e-2992304ecc19\"], \"references\": [{\"attributes\": {\"x_range\": {\"type\": \"Range1d\", \"id\": \"db97d9c4-c7f3-43fb-98c2-d5a90b41b42c\"}, \"y_mapper_type\": \"auto\", \"title_text_font_size\": {\"value\": \"14pt\"}, \"yscale\": \"auto\", \"y_range\": {\"type\": \"Range1d\", \"id\": \"a2e6f8f3-cccb-4c9e-a968-b8f07d21ea00\"}, \"x_mapper_type\": \"auto\", \"renderers\": [{\"type\": \"BoxAnnotation\", \"id\": \"2be90d83-fadd-47e5-8e1b-88a2b9e0ad62\"}, {\"type\": \"GlyphRenderer\", \"id\": \"04303bd3-351c-46c7-acb0-557e43014106\"}, {\"type\": \"LinearAxis\", \"id\": \"7d0b4d8e-7368-4161-834c-0b203cdad72e\"}, {\"type\": \"LinearAxis\", \"id\": \"5060bb99-a9cc-41fe-ace6-1bd9b29e9b44\"}, {\"type\": \"Grid\", \"id\": \"f3cfc939-8f7c-429b-b4fd-11e257533598\"}, {\"type\": \"Grid\", \"id\": \"bf586b87-a6e7-4b27-a9a8-6a07b4819f3c\"}], \"below\": [{\"type\": \"LinearAxis\", \"id\": \"7d0b4d8e-7368-4161-834c-0b203cdad72e\"}], \"tool_events\": {\"type\": \"ToolEvents\", \"id\": \"e716a62c-c332-4325-acbb-afac828738ff\"}, \"xscale\": \"auto\", \"tools\": [{\"type\": \"PanTool\", \"id\": \"d7990d91-ccd5-4e94-b6ba-f04481fbf9f8\"}, {\"type\": \"WheelZoomTool\", \"id\": \"5b6780af-7a4c-450c-a911-0abdc6b20821\"}, {\"type\": \"BoxZoomTool\", \"id\": \"abed28b6-78ce-464f-9f54-668411392333\"}, {\"type\": \"PreviewSaveTool\", \"id\": \"cef48046-5d3e-44fa-932a-a81e7c696de7\"}, {\"type\": \"ResizeTool\", \"id\": \"c541305d-6864-41c2-a28c-6ff57b49d77f\"}, {\"type\": \"ResetTool\", \"id\": \"d4b1e407-bdcc-48ae-a63f-ba6e551eab34\"}, {\"type\": \"HelpTool\", \"id\": \"1de1a8a2-16cc-4afa-813b-dd2854e0e8be\"}], \"legend\": null, \"left\": [{\"type\": \"LinearAxis\", \"id\": \"5060bb99-a9cc-41fe-ace6-1bd9b29e9b44\"}]}, \"type\": \"Plot\", \"id\": \"36077a66-34b8-4632-b60e-2992304ecc19\", \"subtype\": \"Chart\"}, {\"attributes\": {\"plot\": {\"subtype\": \"Chart\", \"type\": \"Plot\", \"id\": \"36077a66-34b8-4632-b60e-2992304ecc19\"}, \"ticker\": {\"type\": \"BasicTicker\", \"id\": \"d667c76a-8650-478b-a987-df0e7bd7fb59\"}, \"dimension\": 1}, \"type\": \"Grid\", \"id\": \"bf586b87-a6e7-4b27-a9a8-6a07b4819f3c\"}, {\"attributes\": {\"plot\": {\"subtype\": \"Chart\", \"type\": \"Plot\", \"id\": \"36077a66-34b8-4632-b60e-2992304ecc19\"}, \"ticker\": {\"type\": \"BasicTicker\", \"id\": \"f5568dd7-690e-4c7b-bc83-d135128533dd\"}}, \"type\": \"Grid\", \"id\": \"f3cfc939-8f7c-429b-b4fd-11e257533598\"}, {\"attributes\": {\"plot\": {\"subtype\": \"Chart\", \"type\": \"Plot\", \"id\": \"36077a66-34b8-4632-b60e-2992304ecc19\"}}, \"type\": \"WheelZoomTool\", \"id\": \"5b6780af-7a4c-450c-a911-0abdc6b20821\"}, {\"attributes\": {\"plot\": {\"subtype\": \"Chart\", \"type\": \"Plot\", \"id\": \"36077a66-34b8-4632-b60e-2992304ecc19\"}}, \"type\": \"PreviewSaveTool\", \"id\": \"cef48046-5d3e-44fa-932a-a81e7c696de7\"}, {\"attributes\": {\"plot\": {\"subtype\": \"Chart\", \"type\": \"Plot\", \"id\": \"36077a66-34b8-4632-b60e-2992304ecc19\"}, \"axis_label\": \"y\", \"formatter\": {\"type\": \"BasicTickFormatter\", \"id\": \"efbeebf7-e33b-4cff-ac0f-4e920797bf1d\"}, \"ticker\": {\"type\": \"BasicTicker\", \"id\": \"d667c76a-8650-478b-a987-df0e7bd7fb59\"}}, \"type\": \"LinearAxis\", \"id\": \"5060bb99-a9cc-41fe-ace6-1bd9b29e9b44\"}, {\"attributes\": {}, \"type\": \"BasicTickFormatter\", \"id\": \"efbeebf7-e33b-4cff-ac0f-4e920797bf1d\"}, {\"attributes\": {\"plot\": {\"subtype\": \"Chart\", \"type\": \"Plot\", \"id\": \"36077a66-34b8-4632-b60e-2992304ecc19\"}}, \"type\": \"ResizeTool\", \"id\": \"c541305d-6864-41c2-a28c-6ff57b49d77f\"}, {\"attributes\": {\"line_color\": {\"value\": \"black\"}, \"line_alpha\": {\"value\": 1.0}, \"render_mode\": \"css\", \"bottom_units\": \"screen\", \"level\": \"overlay\", \"top_units\": \"screen\", \"fill_alpha\": {\"value\": 0.5}, \"plot\": null, \"left_units\": \"screen\", \"line_dash\": [4, 4], \"line_width\": {\"value\": 2}, \"right_units\": \"screen\", \"fill_color\": {\"value\": \"lightgrey\"}}, \"type\": \"BoxAnnotation\", \"id\": \"2be90d83-fadd-47e5-8e1b-88a2b9e0ad62\"}, {\"attributes\": {\"callback\": null, \"end\": 20.678779126007502, \"start\": -1.4329738232825002}, \"type\": \"Range1d\", \"id\": \"db97d9c4-c7f3-43fb-98c2-d5a90b41b42c\"}, {\"attributes\": {\"plot\": {\"subtype\": \"Chart\", \"type\": \"Plot\", \"id\": \"36077a66-34b8-4632-b60e-2992304ecc19\"}, \"overlay\": {\"type\": \"BoxAnnotation\", \"id\": \"2be90d83-fadd-47e5-8e1b-88a2b9e0ad62\"}}, \"type\": \"BoxZoomTool\", \"id\": \"abed28b6-78ce-464f-9f54-668411392333\"}, {\"attributes\": {\"callback\": null, \"end\": 12.16277603264, \"start\": 1.4466890381600002}, \"type\": \"Range1d\", \"id\": \"a2e6f8f3-cccb-4c9e-a968-b8f07d21ea00\"}, {\"attributes\": {\"plot\": {\"subtype\": \"Chart\", \"type\": \"Plot\", \"id\": \"36077a66-34b8-4632-b60e-2992304ecc19\"}}, \"type\": \"PanTool\", \"id\": \"d7990d91-ccd5-4e94-b6ba-f04481fbf9f8\"}, {\"attributes\": {\"line_color\": {\"value\": \"#f22c40\"}, \"fill_color\": {\"value\": \"#f22c40\"}, \"fill_alpha\": {\"value\": 0.7}, \"y\": {\"field\": \"y_values\"}, \"x\": {\"field\": \"x_values\"}, \"size\": {\"units\": \"screen\", \"value\": 8}}, \"type\": \"Circle\", \"id\": \"67f6a4e0-6957-47e8-85e9-7c0810dd68b4\"}, {\"attributes\": {\"nonselection_glyph\": null, \"data_source\": {\"type\": \"ColumnDataSource\", \"id\": \"a1cb8f67-8961-4363-a3e6-60755c8cfd6b\"}, \"selection_glyph\": null, \"hover_glyph\": null, \"glyph\": {\"type\": \"Circle\", \"id\": \"67f6a4e0-6957-47e8-85e9-7c0810dd68b4\"}}, \"type\": \"GlyphRenderer\", \"id\": \"04303bd3-351c-46c7-acb0-557e43014106\"}, {\"attributes\": {}, \"type\": \"BasicTicker\", \"id\": \"d667c76a-8650-478b-a987-df0e7bd7fb59\"}, {\"attributes\": {}, \"type\": \"BasicTickFormatter\", \"id\": \"c6f95345-2a58-4ba0-8f6c-ee1d386fa6e5\"}, {\"attributes\": {}, \"type\": \"BasicTicker\", \"id\": \"f5568dd7-690e-4c7b-bc83-d135128533dd\"}, {\"attributes\": {}, \"type\": \"ToolEvents\", \"id\": \"e716a62c-c332-4325-acbb-afac828738ff\"}, {\"attributes\": {\"plot\": {\"subtype\": \"Chart\", \"type\": \"Plot\", \"id\": \"36077a66-34b8-4632-b60e-2992304ecc19\"}}, \"type\": \"HelpTool\", \"id\": \"1de1a8a2-16cc-4afa-813b-dd2854e0e8be\"}, {\"attributes\": {\"plot\": {\"subtype\": \"Chart\", \"type\": \"Plot\", \"id\": \"36077a66-34b8-4632-b60e-2992304ecc19\"}, \"axis_label\": \"x\", \"formatter\": {\"type\": \"BasicTickFormatter\", \"id\": \"c6f95345-2a58-4ba0-8f6c-ee1d386fa6e5\"}, \"ticker\": {\"type\": \"BasicTicker\", \"id\": \"f5568dd7-690e-4c7b-bc83-d135128533dd\"}}, \"type\": \"LinearAxis\", \"id\": \"7d0b4d8e-7368-4161-834c-0b203cdad72e\"}, {\"attributes\": {\"plot\": {\"subtype\": \"Chart\", \"type\": \"Plot\", \"id\": \"36077a66-34b8-4632-b60e-2992304ecc19\"}}, \"type\": \"ResetTool\", \"id\": \"d4b1e407-bdcc-48ae-a63f-ba6e551eab34\"}, {\"attributes\": {\"callback\": null, \"column_names\": [\"x_values\", \"y_values\"], \"data\": {\"x_values\": [18.836133046900002, 12.646680276500001, 9.7474321464, 2.3347453756, 0.40967225582500005, 6.32734623225, 9.70854196336, 14.5992894044, 3.3017323519, 3.1582461335], \"chart_index\": [null, null, null, null, null, null, null, null, null, null], \"y_values\": [11.2697687831, 8.73479920455, 8.173146226970001, 5.42443621023, 2.3396962877000003, 7.7879716006100015, 10.4232313916, 10.390283031000001, 7.42375101859, 6.11612369783]}}, \"type\": \"ColumnDataSource\", \"id\": \"a1cb8f67-8961-4363-a3e6-60755c8cfd6b\"}]}, \"title\": \"Bokeh Application\"}};\n",
       "            var render_items = [{\"notebook_comms_target\": \"1c68bc8d-cd2e-4e15-8d8d-df165d26acb1\", \"docid\": \"63584826-ca98-4350-bd09-d32d22c83089\", \"elementid\": \"228f0877-4e4e-44ad-8b7e-26d9ead1182f\", \"modelid\": \"36077a66-34b8-4632-b60e-2992304ecc19\"}];\n",
       "            \n",
       "            Bokeh.embed.embed_items(docs_json, render_items);\n",
       "        });\n",
       "      },\n",
       "      function(Bokeh) {\n",
       "      }\n",
       "    ];\n",
       "  \n",
       "    function run_inline_js() {\n",
       "      for (var i = 0; i < inline_js.length; i++) {\n",
       "        inline_js[i](window.Bokeh);\n",
       "      }\n",
       "    }\n",
       "  \n",
       "    if (window._bokeh_is_loading === 0) {\n",
       "      console.log(\"Bokeh: BokehJS loaded, going straight to plotting\");\n",
       "      run_inline_js();\n",
       "    } else {\n",
       "      load_libs(js_urls, function() {\n",
       "        console.log(\"Bokeh: BokehJS plotting callback run at\", now());\n",
       "        run_inline_js();\n",
       "      });\n",
       "    }\n",
       "  }(this));\n",
       "</script>"
      ]
     },
     "metadata": {},
     "output_type": "display_data"
    },
    {
     "data": {
      "text/plain": [
       "<bokeh.io._CommsHandle at 0x7f4b5744e2d0>"
      ]
     },
     "execution_count": 2,
     "metadata": {},
     "output_type": "execute_result"
    }
   ],
   "source": [
    "from bokeh.charts import output_notebook, Scatter, show\n",
    "\n",
    "output_notebook(hide_banner=True)\n",
    "p = Scatter(data=df_train, x='x', y='y')\n",
    "show(p)"
   ]
  },
  {
   "cell_type": "markdown",
   "metadata": {},
   "source": [
    "## Fitting a linear regression model\n",
    "\n",
    "We need a few imports from sklearn - do not worry we will cover this in more detail later.  We are also going to create a scikit learn pipeline class so that we can apply prepprocessing to our data before passing to the linear regression model.  This will allow us to create arbitrary order non-linear multiple polynomial transformations from x."
   ]
  },
  {
   "cell_type": "code",
   "execution_count": 3,
   "metadata": {
    "collapsed": true
   },
   "outputs": [],
   "source": [
    "from sklearn.linear_model import LinearRegression\n",
    "from sklearn.preprocessing import PolynomialFeatures\n",
    "from sklearn.pipeline import make_pipeline"
   ]
  },
  {
   "cell_type": "markdown",
   "metadata": {},
   "source": [
    "Now we define the model - initially we are using degree 1 polynomial features - the call to `PolynomialFeatures()` with degree=1 is redundant but will be helpful in the exercises belowas we increase the order of the polynomials:"
   ]
  },
  {
   "cell_type": "code",
   "execution_count": 4,
   "metadata": {
    "collapsed": false
   },
   "outputs": [
    {
     "data": {
      "text/plain": [
       "Pipeline(steps=[('polynomialfeatures', PolynomialFeatures(degree=1, include_bias=True, interaction_only=False)), ('linearregression', LinearRegression(copy_X=True, fit_intercept=True, n_jobs=1, normalize=False))])"
      ]
     },
     "execution_count": 4,
     "metadata": {},
     "output_type": "execute_result"
    }
   ],
   "source": [
    "model = make_pipeline(PolynomialFeatures(degree=1), LinearRegression())\n",
    "model.fit(df_train.x.reshape(-1,1), df_train.y)"
   ]
  },
  {
   "cell_type": "markdown",
   "metadata": {},
   "source": [
    "Now we have the model fit to the data we can predict.  Let's predict the y values for the original x:"
   ]
  },
  {
   "cell_type": "code",
   "execution_count": 5,
   "metadata": {
    "collapsed": false
   },
   "outputs": [
    {
     "data": {
      "text/plain": [
       "[(11.2697687831, 12.048324408706502),\n",
       " (8.7347992045500007, 9.6023431649136821),\n",
       " (8.173146226970001, 8.4566026915005992),\n",
       " (5.4244362102299997, 5.5272172546817302),\n",
       " (2.3396962877000003, 4.7664565027105876),\n",
       " (7.7879716006100015, 7.10503474058621),\n",
       " (10.4232313916, 8.4412338597456458),\n",
       " (10.390283031000001, 10.373985744713735),\n",
       " (7.42375101859, 5.9093563701675214),\n",
       " (6.11612369783, 5.8526527144537903)]"
      ]
     },
     "execution_count": 5,
     "metadata": {},
     "output_type": "execute_result"
    }
   ],
   "source": [
    "y_pred=model.predict(df_train.x.reshape(-1,1))\n",
    "zip(df_train.y, y_pred)"
   ]
  },
  {
   "cell_type": "markdown",
   "metadata": {},
   "source": [
    "We could evaluate how well the model has fit the data using a metric such as the mean squared error:\n",
    "\n",
    "$MSE = \\frac{1}{N}\\sum_{i=1}^{N} (y_i - y\\_pred_i) ^2 $"
   ]
  },
  {
   "cell_type": "markdown",
   "metadata": {},
   "source": [
    "<img src='files/resources/ic_assignment_black_24dp_2x.png' align='left'>Write function to compute MSE based on y and y_pred.  \n",
    "What are the units of the MSE?  Do you think this is a good model?"
   ]
  },
  {
   "cell_type": "code",
   "execution_count": 6,
   "metadata": {
    "collapsed": false
   },
   "outputs": [
    {
     "name": "stdout",
     "output_type": "stream",
     "text": [
      "mse =   1.41\n"
     ]
    }
   ],
   "source": [
    "def mse(a,b):\n",
    "    return np.sum(np.power(np.subtract(a,b),2)) / len(a)\n",
    "\n",
    "print('mse = {0:6.2f}'.format(mse(df_train.y,y_pred)))"
   ]
  },
  {
   "cell_type": "markdown",
   "metadata": {},
   "source": [
    "## Increasing the flexibility of the model\n",
    "\n",
    "By increasing the degree of the polynomial feature generator we can get increasingly flexible models.\n",
    "\n",
    "For example here are the degree 3 features generated by the `PolynomialFeatures()` method:"
   ]
  },
  {
   "cell_type": "code",
   "execution_count": 7,
   "metadata": {
    "collapsed": false
   },
   "outputs": [
    {
     "name": "stdout",
     "output_type": "stream",
     "text": [
      "[[2]\n",
      " [3]]\n"
     ]
    },
    {
     "data": {
      "text/plain": [
       "array([[  1.,   2.,   4.,   8.,  16.],\n",
       "       [  1.,   3.,   9.,  27.,  81.]])"
      ]
     },
     "execution_count": 7,
     "metadata": {},
     "output_type": "execute_result"
    }
   ],
   "source": [
    "data = np.array([2,3]).reshape(-1,1)\n",
    "print(data)\n",
    "model = PolynomialFeatures(degree=4)\n",
    "model.fit(data)\n",
    "model.transform(data)"
   ]
  },
  {
   "cell_type": "markdown",
   "metadata": {},
   "source": [
    "By using the `PolynomialFeatures()` method the linear model has non-linear transformations of the original features.  The resulting model is still 'linear in the parameters' - but now includes non-linear transformations of the original features."
   ]
  },
  {
   "cell_type": "markdown",
   "metadata": {},
   "source": [
    "<img src='files/resources/ic_assignment_black_24dp_2x.png' align='left'>Do you think that the non-linear transformations will increase of decrease the ability of the model to fit the training data (i.e. reduce the MSE)?  Write a function to fit a degree 'n' polynomial regression model and output the MSE.  Test it by computing the MSE for all degree's up to 10."
   ]
  },
  {
   "cell_type": "code",
   "execution_count": 8,
   "metadata": {
    "collapsed": false
   },
   "outputs": [
    {
     "name": "stdout",
     "output_type": "stream",
     "text": [
      "Degree =  0 MSE =   6.51\n",
      "Degree =  1 MSE =   1.41\n",
      "Degree =  2 MSE =   0.94\n",
      "Degree =  3 MSE =   0.51\n",
      "Degree =  4 MSE =   0.46\n",
      "Degree =  5 MSE =   0.46\n",
      "Degree =  6 MSE =   0.40\n",
      "Degree =  7 MSE =   0.32\n",
      "Degree =  8 MSE =   0.32\n",
      "Degree =  9 MSE =   0.00\n",
      "Degree = 10 MSE =   0.00\n"
     ]
    }
   ],
   "source": [
    "def fitPolynomialRegression(x, y, degree=1):    \n",
    "    model = make_pipeline(PolynomialFeatures(degree=degree), LinearRegression())\n",
    "    model.fit(x, y)\n",
    "    return mse(y, model.predict(x))\n",
    "\n",
    "for degree in range(0,11):\n",
    "    print('Degree = {0:2d} MSE = {1:6.2f}'\n",
    "          .format(degree, fitPolynomialRegression(df_train.x.reshape(-1,1), df_train.y, degree)))\n"
   ]
  },
  {
   "cell_type": "markdown",
   "metadata": {},
   "source": [
    "<img src='files/resources/ic_assignment_black_24dp_2x.png' align='left'>Do you think this is as expected - which is the best model?  \n",
    "Which one would you use to predict new data?"
   ]
  },
  {
   "cell_type": "markdown",
   "metadata": {},
   "source": [
    "# Test error vs train error\n",
    "\n",
    "We have another data set from the same data generating process.  This data was not used to fit the model but can be used to see how well the models predict future unknown data points.  We call this data the 'test' set."
   ]
  },
  {
   "cell_type": "code",
   "execution_count": 9,
   "metadata": {
    "collapsed": false
   },
   "outputs": [
    {
     "data": {
      "text/html": [
       "<div>\n",
       "<table border=\"1\" class=\"dataframe\">\n",
       "  <thead>\n",
       "    <tr style=\"text-align: right;\">\n",
       "      <th></th>\n",
       "      <th>x</th>\n",
       "      <th>y</th>\n",
       "    </tr>\n",
       "  </thead>\n",
       "  <tbody>\n",
       "    <tr>\n",
       "      <th>0</th>\n",
       "      <td>17.878083</td>\n",
       "      <td>10.699816</td>\n",
       "    </tr>\n",
       "    <tr>\n",
       "      <th>1</th>\n",
       "      <td>0.255616</td>\n",
       "      <td>1.543354</td>\n",
       "    </tr>\n",
       "    <tr>\n",
       "      <th>2</th>\n",
       "      <td>14.498679</td>\n",
       "      <td>8.531225</td>\n",
       "    </tr>\n",
       "    <tr>\n",
       "      <th>3</th>\n",
       "      <td>17.015902</td>\n",
       "      <td>9.661305</td>\n",
       "    </tr>\n",
       "    <tr>\n",
       "      <th>4</th>\n",
       "      <td>9.264371</td>\n",
       "      <td>7.449388</td>\n",
       "    </tr>\n",
       "    <tr>\n",
       "      <th>5</th>\n",
       "      <td>0.389505</td>\n",
       "      <td>2.978019</td>\n",
       "    </tr>\n",
       "    <tr>\n",
       "      <th>6</th>\n",
       "      <td>2.174721</td>\n",
       "      <td>7.405458</td>\n",
       "    </tr>\n",
       "    <tr>\n",
       "      <th>7</th>\n",
       "      <td>8.404072</td>\n",
       "      <td>9.296855</td>\n",
       "    </tr>\n",
       "    <tr>\n",
       "      <th>8</th>\n",
       "      <td>17.143085</td>\n",
       "      <td>10.059268</td>\n",
       "    </tr>\n",
       "    <tr>\n",
       "      <th>9</th>\n",
       "      <td>3.605394</td>\n",
       "      <td>7.557129</td>\n",
       "    </tr>\n",
       "  </tbody>\n",
       "</table>\n",
       "</div>"
      ],
      "text/plain": [
       "           x          y\n",
       "0  17.878083  10.699816\n",
       "1   0.255616   1.543354\n",
       "2  14.498679   8.531225\n",
       "3  17.015902   9.661305\n",
       "4   9.264371   7.449388\n",
       "5   0.389505   2.978019\n",
       "6   2.174721   7.405458\n",
       "7   8.404072   9.296855\n",
       "8  17.143085  10.059268\n",
       "9   3.605394   7.557129"
      ]
     },
     "execution_count": 9,
     "metadata": {},
     "output_type": "execute_result"
    }
   ],
   "source": [
    "df_test = pd.read_csv('data/ml-data-test.csv')\n",
    "df_test"
   ]
  },
  {
   "cell_type": "code",
   "execution_count": 10,
   "metadata": {
    "collapsed": false,
    "scrolled": true
   },
   "outputs": [
    {
     "data": {
      "text/html": [
       "\n",
       "\n",
       "    <div class=\"plotdiv\" id=\"4e165a1b-95ef-4606-ac8e-8af78c48f847\"></div>\n",
       "<script type=\"text/javascript\">\n",
       "  \n",
       "  (function(global) {\n",
       "    function now() {\n",
       "      return new Date();\n",
       "    }\n",
       "  \n",
       "    if (typeof (window._bokeh_onload_callbacks) === \"undefined\") {\n",
       "      window._bokeh_onload_callbacks = [];\n",
       "    }\n",
       "  \n",
       "    function run_callbacks() {\n",
       "      window._bokeh_onload_callbacks.forEach(function(callback) { callback() });\n",
       "      delete window._bokeh_onload_callbacks\n",
       "      console.info(\"Bokeh: all callbacks have finished\");\n",
       "    }\n",
       "  \n",
       "    function load_libs(js_urls, callback) {\n",
       "      window._bokeh_onload_callbacks.push(callback);\n",
       "      if (window._bokeh_is_loading > 0) {\n",
       "        console.log(\"Bokeh: BokehJS is being loaded, scheduling callback at\", now());\n",
       "        return null;\n",
       "      }\n",
       "      if (js_urls == null || js_urls.length === 0) {\n",
       "        run_callbacks();\n",
       "        return null;\n",
       "      }\n",
       "      console.log(\"Bokeh: BokehJS not loaded, scheduling load and callback at\", now());\n",
       "      window._bokeh_is_loading = js_urls.length;\n",
       "      for (var i = 0; i < js_urls.length; i++) {\n",
       "        var url = js_urls[i];\n",
       "        var s = document.createElement('script');\n",
       "        s.src = url;\n",
       "        s.async = false;\n",
       "        s.onreadystatechange = s.onload = function() {\n",
       "          window._bokeh_is_loading--;\n",
       "          if (window._bokeh_is_loading === 0) {\n",
       "            console.log(\"Bokeh: all BokehJS libraries loaded\");\n",
       "            run_callbacks()\n",
       "          }\n",
       "        };\n",
       "        s.onerror = function() {\n",
       "          console.warn(\"failed to load library \" + url);\n",
       "        };\n",
       "        console.log(\"Bokeh: injecting script tag for BokehJS library: \", url);\n",
       "        document.getElementsByTagName(\"head\")[0].appendChild(s);\n",
       "      }\n",
       "    };var element = document.getElementById(\"4e165a1b-95ef-4606-ac8e-8af78c48f847\");\n",
       "    if (element == null) {\n",
       "      console.log(\"Bokeh: ERROR: autoload.js configured with elementid '4e165a1b-95ef-4606-ac8e-8af78c48f847' but no matching script tag was found. \")\n",
       "      return false;\n",
       "    }var js_urls = [];\n",
       "  \n",
       "    var inline_js = [\n",
       "      function(Bokeh) {\n",
       "        Bokeh.$(function() {\n",
       "            var docs_json = {\"c1789332-5286-484b-9b3a-f41696d878db\": {\"version\": \"0.11.0\", \"roots\": {\"root_ids\": [\"36077a66-34b8-4632-b60e-2992304ecc19\", \"886f46af-329a-4a48-a77e-1e31735d0d2c\"], \"references\": [{\"attributes\": {\"x_range\": {\"type\": \"Range1d\", \"id\": \"db97d9c4-c7f3-43fb-98c2-d5a90b41b42c\"}, \"y_mapper_type\": \"auto\", \"title_text_font_size\": {\"value\": \"14pt\"}, \"yscale\": \"auto\", \"y_range\": {\"type\": \"Range1d\", \"id\": \"a2e6f8f3-cccb-4c9e-a968-b8f07d21ea00\"}, \"x_mapper_type\": \"auto\", \"renderers\": [{\"type\": \"BoxAnnotation\", \"id\": \"2be90d83-fadd-47e5-8e1b-88a2b9e0ad62\"}, {\"type\": \"GlyphRenderer\", \"id\": \"04303bd3-351c-46c7-acb0-557e43014106\"}, {\"type\": \"LinearAxis\", \"id\": \"7d0b4d8e-7368-4161-834c-0b203cdad72e\"}, {\"type\": \"LinearAxis\", \"id\": \"5060bb99-a9cc-41fe-ace6-1bd9b29e9b44\"}, {\"type\": \"Grid\", \"id\": \"f3cfc939-8f7c-429b-b4fd-11e257533598\"}, {\"type\": \"Grid\", \"id\": \"bf586b87-a6e7-4b27-a9a8-6a07b4819f3c\"}], \"below\": [{\"type\": \"LinearAxis\", \"id\": \"7d0b4d8e-7368-4161-834c-0b203cdad72e\"}], \"tool_events\": {\"type\": \"ToolEvents\", \"id\": \"e716a62c-c332-4325-acbb-afac828738ff\"}, \"xscale\": \"auto\", \"tools\": [{\"type\": \"PanTool\", \"id\": \"d7990d91-ccd5-4e94-b6ba-f04481fbf9f8\"}, {\"type\": \"WheelZoomTool\", \"id\": \"5b6780af-7a4c-450c-a911-0abdc6b20821\"}, {\"type\": \"BoxZoomTool\", \"id\": \"abed28b6-78ce-464f-9f54-668411392333\"}, {\"type\": \"PreviewSaveTool\", \"id\": \"cef48046-5d3e-44fa-932a-a81e7c696de7\"}, {\"type\": \"ResizeTool\", \"id\": \"c541305d-6864-41c2-a28c-6ff57b49d77f\"}, {\"type\": \"ResetTool\", \"id\": \"d4b1e407-bdcc-48ae-a63f-ba6e551eab34\"}, {\"type\": \"HelpTool\", \"id\": \"1de1a8a2-16cc-4afa-813b-dd2854e0e8be\"}], \"legend\": null, \"left\": [{\"type\": \"LinearAxis\", \"id\": \"5060bb99-a9cc-41fe-ace6-1bd9b29e9b44\"}]}, \"type\": \"Plot\", \"id\": \"36077a66-34b8-4632-b60e-2992304ecc19\", \"subtype\": \"Chart\"}, {\"attributes\": {}, \"type\": \"BasicTickFormatter\", \"id\": \"2ed2d870-d5d1-41ac-958f-cffe12ff2354\"}, {\"attributes\": {\"callback\": null, \"column_names\": [\"y\", \"x\"], \"data\": {\"y\": [10.6998160593, 1.5433543664700002, 8.53122485764, 9.66130506799, 7.449388416789999, 2.97801924129, 7.405457889510001, 9.29685520665, 10.0592680938, 7.55712939462], \"x\": [17.8780834057, 0.255616291812, 14.4986785838, 17.0159017875, 9.26437052997, 0.38950482975199996, 2.17472143738, 8.404072091749999, 17.1430849415, 3.6053937775400002]}}, \"type\": \"ColumnDataSource\", \"id\": \"f94152fc-c7a5-4c94-882f-36c12388a229\"}, {\"attributes\": {\"line_color\": {\"value\": \"#1f77b4\"}, \"line_alpha\": {\"value\": 0.1}, \"fill_color\": {\"value\": \"#1f77b4\"}, \"fill_alpha\": {\"value\": 0.1}, \"y\": {\"field\": \"y\"}, \"x\": {\"field\": \"x\"}, \"size\": {\"units\": \"screen\", \"value\": 10}}, \"type\": \"Circle\", \"id\": \"a67104e9-8092-4d45-b68f-272cb3029d71\"}, {\"attributes\": {\"callback\": null, \"column_names\": [\"y\", \"x\"], \"data\": {\"y\": [11.2697687831, 8.73479920455, 8.173146226970001, 5.42443621023, 2.3396962877000003, 7.7879716006100015, 10.4232313916, 10.390283031000001, 7.42375101859, 6.11612369783], \"x\": [18.836133046900002, 12.646680276500001, 9.7474321464, 2.3347453756, 0.40967225582500005, 6.32734623225, 9.70854196336, 14.5992894044, 3.3017323519, 3.1582461335]}}, \"type\": \"ColumnDataSource\", \"id\": \"b6c472a8-b4ae-4d1d-b714-328312719fc4\"}, {\"attributes\": {\"plot\": {\"subtype\": \"Chart\", \"type\": \"Plot\", \"id\": \"36077a66-34b8-4632-b60e-2992304ecc19\"}, \"ticker\": {\"type\": \"BasicTicker\", \"id\": \"d667c76a-8650-478b-a987-df0e7bd7fb59\"}, \"dimension\": 1}, \"type\": \"Grid\", \"id\": \"bf586b87-a6e7-4b27-a9a8-6a07b4819f3c\"}, {\"attributes\": {\"nonselection_glyph\": {\"type\": \"Circle\", \"id\": \"a67104e9-8092-4d45-b68f-272cb3029d71\"}, \"data_source\": {\"type\": \"ColumnDataSource\", \"id\": \"f94152fc-c7a5-4c94-882f-36c12388a229\"}, \"selection_glyph\": null, \"hover_glyph\": null, \"glyph\": {\"type\": \"Circle\", \"id\": \"5d962b9a-8083-47df-8afa-a922635fa24e\"}}, \"type\": \"GlyphRenderer\", \"id\": \"0b1b1455-1471-4f4a-8849-37085fc32d17\"}, {\"attributes\": {}, \"type\": \"BasicTicker\", \"id\": \"255a0004-765f-4e45-956d-5d265585915b\"}, {\"attributes\": {\"plot\": {\"subtype\": \"Figure\", \"type\": \"Plot\", \"id\": \"886f46af-329a-4a48-a77e-1e31735d0d2c\"}}, \"type\": \"WheelZoomTool\", \"id\": \"e4b9bf3d-0851-46c0-9bf0-87d8305d9ba1\"}, {\"attributes\": {}, \"type\": \"BasicTickFormatter\", \"id\": \"4afaf455-b7df-4cea-b6e3-fa62677a4346\"}, {\"attributes\": {\"callback\": null}, \"type\": \"DataRange1d\", \"id\": \"42ebc385-7d0c-4764-92e3-1311d9ecbc82\"}, {\"attributes\": {\"plot\": {\"subtype\": \"Chart\", \"type\": \"Plot\", \"id\": \"36077a66-34b8-4632-b60e-2992304ecc19\"}, \"ticker\": {\"type\": \"BasicTicker\", \"id\": \"f5568dd7-690e-4c7b-bc83-d135128533dd\"}}, \"type\": \"Grid\", \"id\": \"f3cfc939-8f7c-429b-b4fd-11e257533598\"}, {\"attributes\": {\"plot\": {\"subtype\": \"Chart\", \"type\": \"Plot\", \"id\": \"36077a66-34b8-4632-b60e-2992304ecc19\"}}, \"type\": \"WheelZoomTool\", \"id\": \"5b6780af-7a4c-450c-a911-0abdc6b20821\"}, {\"attributes\": {\"plot\": {\"subtype\": \"Chart\", \"type\": \"Plot\", \"id\": \"36077a66-34b8-4632-b60e-2992304ecc19\"}}, \"type\": \"PreviewSaveTool\", \"id\": \"cef48046-5d3e-44fa-932a-a81e7c696de7\"}, {\"attributes\": {}, \"type\": \"BasicTickFormatter\", \"id\": \"c6f95345-2a58-4ba0-8f6c-ee1d386fa6e5\"}, {\"attributes\": {\"plot\": {\"subtype\": \"Chart\", \"type\": \"Plot\", \"id\": \"36077a66-34b8-4632-b60e-2992304ecc19\"}, \"axis_label\": \"y\", \"formatter\": {\"type\": \"BasicTickFormatter\", \"id\": \"efbeebf7-e33b-4cff-ac0f-4e920797bf1d\"}, \"ticker\": {\"type\": \"BasicTicker\", \"id\": \"d667c76a-8650-478b-a987-df0e7bd7fb59\"}}, \"type\": \"LinearAxis\", \"id\": \"5060bb99-a9cc-41fe-ace6-1bd9b29e9b44\"}, {\"attributes\": {}, \"type\": \"ToolEvents\", \"id\": \"7a31c72c-08a5-4e03-be62-0588ef57e9c8\"}, {\"attributes\": {\"plot\": {\"subtype\": \"Figure\", \"type\": \"Plot\", \"id\": \"886f46af-329a-4a48-a77e-1e31735d0d2c\"}, \"overlay\": {\"type\": \"BoxAnnotation\", \"id\": \"5ee06108-d2d5-4210-b3e3-aad34253ec0a\"}}, \"type\": \"BoxZoomTool\", \"id\": \"800a8d79-8162-4d73-8ac2-f0fb8314b38d\"}, {\"attributes\": {}, \"type\": \"BasicTickFormatter\", \"id\": \"efbeebf7-e33b-4cff-ac0f-4e920797bf1d\"}, {\"attributes\": {}, \"type\": \"BasicTicker\", \"id\": \"d667c76a-8650-478b-a987-df0e7bd7fb59\"}, {\"attributes\": {\"plot\": {\"subtype\": \"Figure\", \"type\": \"Plot\", \"id\": \"886f46af-329a-4a48-a77e-1e31735d0d2c\"}}, \"type\": \"PanTool\", \"id\": \"905eb62b-2d69-4005-97b6-d3649e8d2b88\"}, {\"attributes\": {\"callback\": null}, \"type\": \"DataRange1d\", \"id\": \"39a8baf0-39ec-4861-b0cd-f21a29a26374\"}, {\"attributes\": {\"plot\": {\"subtype\": \"Figure\", \"type\": \"Plot\", \"id\": \"886f46af-329a-4a48-a77e-1e31735d0d2c\"}, \"formatter\": {\"type\": \"BasicTickFormatter\", \"id\": \"4afaf455-b7df-4cea-b6e3-fa62677a4346\"}, \"ticker\": {\"type\": \"BasicTicker\", \"id\": \"255a0004-765f-4e45-956d-5d265585915b\"}}, \"type\": \"LinearAxis\", \"id\": \"b639b3b0-8593-4bab-b84b-31cb4f93ad6b\"}, {\"attributes\": {\"line_color\": {\"value\": \"black\"}, \"line_alpha\": {\"value\": 1.0}, \"render_mode\": \"css\", \"bottom_units\": \"screen\", \"level\": \"overlay\", \"top_units\": \"screen\", \"fill_alpha\": {\"value\": 0.5}, \"plot\": null, \"left_units\": \"screen\", \"line_dash\": [4, 4], \"line_width\": {\"value\": 2}, \"right_units\": \"screen\", \"fill_color\": {\"value\": \"lightgrey\"}}, \"type\": \"BoxAnnotation\", \"id\": \"2be90d83-fadd-47e5-8e1b-88a2b9e0ad62\"}, {\"attributes\": {\"line_color\": {\"value\": \"Orange\"}, \"x\": {\"field\": \"x\"}, \"y\": {\"field\": \"y\"}, \"fill_color\": {\"value\": \"Orange\"}, \"size\": {\"units\": \"screen\", \"value\": 10}}, \"type\": \"Circle\", \"id\": \"2e171d07-4554-424a-9a93-0983e8867281\"}, {\"attributes\": {\"plot\": {\"subtype\": \"Figure\", \"type\": \"Plot\", \"id\": \"886f46af-329a-4a48-a77e-1e31735d0d2c\"}}, \"type\": \"PreviewSaveTool\", \"id\": \"64171824-1846-4546-821e-43ab98321bdf\"}, {\"attributes\": {\"callback\": null, \"end\": 20.678779126007502, \"start\": -1.4329738232825002}, \"type\": \"Range1d\", \"id\": \"db97d9c4-c7f3-43fb-98c2-d5a90b41b42c\"}, {\"attributes\": {\"plot\": {\"subtype\": \"Chart\", \"type\": \"Plot\", \"id\": \"36077a66-34b8-4632-b60e-2992304ecc19\"}, \"overlay\": {\"type\": \"BoxAnnotation\", \"id\": \"2be90d83-fadd-47e5-8e1b-88a2b9e0ad62\"}}, \"type\": \"BoxZoomTool\", \"id\": \"abed28b6-78ce-464f-9f54-668411392333\"}, {\"attributes\": {\"callback\": null, \"end\": 12.16277603264, \"start\": 1.4466890381600002}, \"type\": \"Range1d\", \"id\": \"a2e6f8f3-cccb-4c9e-a968-b8f07d21ea00\"}, {\"attributes\": {}, \"type\": \"BasicTicker\", \"id\": \"22c06cb3-59cf-4907-b76b-8db45bd19039\"}, {\"attributes\": {\"plot\": {\"subtype\": \"Chart\", \"type\": \"Plot\", \"id\": \"36077a66-34b8-4632-b60e-2992304ecc19\"}}, \"type\": \"PanTool\", \"id\": \"d7990d91-ccd5-4e94-b6ba-f04481fbf9f8\"}, {\"attributes\": {\"line_color\": {\"value\": \"#f22c40\"}, \"fill_color\": {\"value\": \"#f22c40\"}, \"fill_alpha\": {\"value\": 0.7}, \"y\": {\"field\": \"y_values\"}, \"x\": {\"field\": \"x_values\"}, \"size\": {\"units\": \"screen\", \"value\": 8}}, \"type\": \"Circle\", \"id\": \"67f6a4e0-6957-47e8-85e9-7c0810dd68b4\"}, {\"attributes\": {\"nonselection_glyph\": null, \"data_source\": {\"type\": \"ColumnDataSource\", \"id\": \"a1cb8f67-8961-4363-a3e6-60755c8cfd6b\"}, \"selection_glyph\": null, \"hover_glyph\": null, \"glyph\": {\"type\": \"Circle\", \"id\": \"67f6a4e0-6957-47e8-85e9-7c0810dd68b4\"}}, \"type\": \"GlyphRenderer\", \"id\": \"04303bd3-351c-46c7-acb0-557e43014106\"}, {\"attributes\": {\"plot\": {\"subtype\": \"Chart\", \"type\": \"Plot\", \"id\": \"36077a66-34b8-4632-b60e-2992304ecc19\"}}, \"type\": \"ResizeTool\", \"id\": \"c541305d-6864-41c2-a28c-6ff57b49d77f\"}, {\"attributes\": {\"plot\": {\"subtype\": \"Figure\", \"type\": \"Plot\", \"id\": \"886f46af-329a-4a48-a77e-1e31735d0d2c\"}}, \"type\": \"ResetTool\", \"id\": \"e3e19797-cf4d-4867-a518-5b48e8c5b21d\"}, {\"attributes\": {\"plot\": {\"subtype\": \"Figure\", \"type\": \"Plot\", \"id\": \"886f46af-329a-4a48-a77e-1e31735d0d2c\"}, \"ticker\": {\"type\": \"BasicTicker\", \"id\": \"255a0004-765f-4e45-956d-5d265585915b\"}, \"dimension\": 1}, \"type\": \"Grid\", \"id\": \"afb649ce-4bb6-4bd6-9be9-2cb27ae62eb7\"}, {\"attributes\": {\"line_color\": {\"value\": \"Red\"}, \"x\": {\"field\": \"x\"}, \"y\": {\"field\": \"y\"}, \"fill_color\": {\"value\": \"Red\"}, \"size\": {\"units\": \"screen\", \"value\": 10}}, \"type\": \"Circle\", \"id\": \"5d962b9a-8083-47df-8afa-a922635fa24e\"}, {\"attributes\": {}, \"type\": \"BasicTicker\", \"id\": \"f5568dd7-690e-4c7b-bc83-d135128533dd\"}, {\"attributes\": {\"nonselection_glyph\": {\"type\": \"Circle\", \"id\": \"eb2385a3-cd64-4e2c-8c89-b8f592c0ce6a\"}, \"data_source\": {\"type\": \"ColumnDataSource\", \"id\": \"b6c472a8-b4ae-4d1d-b714-328312719fc4\"}, \"selection_glyph\": null, \"hover_glyph\": null, \"glyph\": {\"type\": \"Circle\", \"id\": \"2e171d07-4554-424a-9a93-0983e8867281\"}}, \"type\": \"GlyphRenderer\", \"id\": \"51dab7a2-38fd-409e-8aa8-0758b4f87cdb\"}, {\"attributes\": {\"plot\": {\"subtype\": \"Figure\", \"type\": \"Plot\", \"id\": \"886f46af-329a-4a48-a77e-1e31735d0d2c\"}}, \"type\": \"HelpTool\", \"id\": \"17dec2ed-e9e2-48e4-a956-25ba17ec7865\"}, {\"attributes\": {\"plot\": {\"subtype\": \"Figure\", \"type\": \"Plot\", \"id\": \"886f46af-329a-4a48-a77e-1e31735d0d2c\"}, \"axis_label\": \"y\", \"formatter\": {\"type\": \"BasicTickFormatter\", \"id\": \"2ed2d870-d5d1-41ac-958f-cffe12ff2354\"}, \"ticker\": {\"type\": \"BasicTicker\", \"id\": \"22c06cb3-59cf-4907-b76b-8db45bd19039\"}}, \"type\": \"LinearAxis\", \"id\": \"2c5723a0-cf19-4cf9-8fb1-1292d756a497\"}, {\"attributes\": {\"line_color\": {\"value\": \"black\"}, \"line_alpha\": {\"value\": 1.0}, \"render_mode\": \"css\", \"bottom_units\": \"screen\", \"level\": \"overlay\", \"top_units\": \"screen\", \"fill_alpha\": {\"value\": 0.5}, \"plot\": null, \"left_units\": \"screen\", \"line_dash\": [4, 4], \"line_width\": {\"value\": 2}, \"right_units\": \"screen\", \"fill_color\": {\"value\": \"lightgrey\"}}, \"type\": \"BoxAnnotation\", \"id\": \"5ee06108-d2d5-4210-b3e3-aad34253ec0a\"}, {\"attributes\": {\"line_color\": {\"value\": \"#1f77b4\"}, \"line_alpha\": {\"value\": 0.1}, \"fill_color\": {\"value\": \"#1f77b4\"}, \"fill_alpha\": {\"value\": 0.1}, \"y\": {\"field\": \"y\"}, \"x\": {\"field\": \"x\"}, \"size\": {\"units\": \"screen\", \"value\": 10}}, \"type\": \"Circle\", \"id\": \"eb2385a3-cd64-4e2c-8c89-b8f592c0ce6a\"}, {\"attributes\": {}, \"type\": \"ToolEvents\", \"id\": \"e716a62c-c332-4325-acbb-afac828738ff\"}, {\"attributes\": {\"plot\": {\"subtype\": \"Chart\", \"type\": \"Plot\", \"id\": \"36077a66-34b8-4632-b60e-2992304ecc19\"}}, \"type\": \"HelpTool\", \"id\": \"1de1a8a2-16cc-4afa-813b-dd2854e0e8be\"}, {\"attributes\": {\"plot\": {\"subtype\": \"Chart\", \"type\": \"Plot\", \"id\": \"36077a66-34b8-4632-b60e-2992304ecc19\"}, \"axis_label\": \"x\", \"formatter\": {\"type\": \"BasicTickFormatter\", \"id\": \"c6f95345-2a58-4ba0-8f6c-ee1d386fa6e5\"}, \"ticker\": {\"type\": \"BasicTicker\", \"id\": \"f5568dd7-690e-4c7b-bc83-d135128533dd\"}}, \"type\": \"LinearAxis\", \"id\": \"7d0b4d8e-7368-4161-834c-0b203cdad72e\"}, {\"attributes\": {\"plot\": {\"subtype\": \"Chart\", \"type\": \"Plot\", \"id\": \"36077a66-34b8-4632-b60e-2992304ecc19\"}}, \"type\": \"ResetTool\", \"id\": \"d4b1e407-bdcc-48ae-a63f-ba6e551eab34\"}, {\"attributes\": {\"callback\": null, \"column_names\": [\"x_values\", \"y_values\"], \"data\": {\"x_values\": [18.836133046900002, 12.646680276500001, 9.7474321464, 2.3347453756, 0.40967225582500005, 6.32734623225, 9.70854196336, 14.5992894044, 3.3017323519, 3.1582461335], \"chart_index\": [null, null, null, null, null, null, null, null, null, null], \"y_values\": [11.2697687831, 8.73479920455, 8.173146226970001, 5.42443621023, 2.3396962877000003, 7.7879716006100015, 10.4232313916, 10.390283031000001, 7.42375101859, 6.11612369783]}}, \"type\": \"ColumnDataSource\", \"id\": \"a1cb8f67-8961-4363-a3e6-60755c8cfd6b\"}, {\"attributes\": {\"plot\": {\"subtype\": \"Figure\", \"type\": \"Plot\", \"id\": \"886f46af-329a-4a48-a77e-1e31735d0d2c\"}}, \"type\": \"ResizeTool\", \"id\": \"a94c417c-f3a1-44dc-8a65-5c0184c1224c\"}, {\"attributes\": {\"plot\": {\"subtype\": \"Figure\", \"type\": \"Plot\", \"id\": \"886f46af-329a-4a48-a77e-1e31735d0d2c\"}, \"ticker\": {\"type\": \"BasicTicker\", \"id\": \"22c06cb3-59cf-4907-b76b-8db45bd19039\"}}, \"type\": \"Grid\", \"id\": \"504d1d9c-e8c2-4c5f-8377-c3d7562a1750\"}, {\"attributes\": {\"x_range\": {\"type\": \"DataRange1d\", \"id\": \"39a8baf0-39ec-4861-b0cd-f21a29a26374\"}, \"y_range\": {\"type\": \"DataRange1d\", \"id\": \"42ebc385-7d0c-4764-92e3-1311d9ecbc82\"}, \"renderers\": [{\"type\": \"LinearAxis\", \"id\": \"2c5723a0-cf19-4cf9-8fb1-1292d756a497\"}, {\"type\": \"Grid\", \"id\": \"504d1d9c-e8c2-4c5f-8377-c3d7562a1750\"}, {\"type\": \"LinearAxis\", \"id\": \"b639b3b0-8593-4bab-b84b-31cb4f93ad6b\"}, {\"type\": \"Grid\", \"id\": \"afb649ce-4bb6-4bd6-9be9-2cb27ae62eb7\"}, {\"type\": \"BoxAnnotation\", \"id\": \"5ee06108-d2d5-4210-b3e3-aad34253ec0a\"}, {\"type\": \"GlyphRenderer\", \"id\": \"51dab7a2-38fd-409e-8aa8-0758b4f87cdb\"}, {\"type\": \"GlyphRenderer\", \"id\": \"0b1b1455-1471-4f4a-8849-37085fc32d17\"}], \"below\": [{\"type\": \"LinearAxis\", \"id\": \"2c5723a0-cf19-4cf9-8fb1-1292d756a497\"}], \"tool_events\": {\"type\": \"ToolEvents\", \"id\": \"7a31c72c-08a5-4e03-be62-0588ef57e9c8\"}, \"tools\": [{\"type\": \"PanTool\", \"id\": \"905eb62b-2d69-4005-97b6-d3649e8d2b88\"}, {\"type\": \"WheelZoomTool\", \"id\": \"e4b9bf3d-0851-46c0-9bf0-87d8305d9ba1\"}, {\"type\": \"BoxZoomTool\", \"id\": \"800a8d79-8162-4d73-8ac2-f0fb8314b38d\"}, {\"type\": \"PreviewSaveTool\", \"id\": \"64171824-1846-4546-821e-43ab98321bdf\"}, {\"type\": \"ResizeTool\", \"id\": \"a94c417c-f3a1-44dc-8a65-5c0184c1224c\"}, {\"type\": \"ResetTool\", \"id\": \"e3e19797-cf4d-4867-a518-5b48e8c5b21d\"}, {\"type\": \"HelpTool\", \"id\": \"17dec2ed-e9e2-48e4-a956-25ba17ec7865\"}], \"left\": [{\"type\": \"LinearAxis\", \"id\": \"b639b3b0-8593-4bab-b84b-31cb4f93ad6b\"}]}, \"type\": \"Plot\", \"id\": \"886f46af-329a-4a48-a77e-1e31735d0d2c\", \"subtype\": \"Figure\"}]}, \"title\": \"Bokeh Application\"}};\n",
       "            var render_items = [{\"notebook_comms_target\": \"003793e9-4600-4906-b6a7-3c918c89ea58\", \"docid\": \"c1789332-5286-484b-9b3a-f41696d878db\", \"elementid\": \"4e165a1b-95ef-4606-ac8e-8af78c48f847\", \"modelid\": \"886f46af-329a-4a48-a77e-1e31735d0d2c\"}];\n",
       "            \n",
       "            Bokeh.embed.embed_items(docs_json, render_items);\n",
       "        });\n",
       "      },\n",
       "      function(Bokeh) {\n",
       "      }\n",
       "    ];\n",
       "  \n",
       "    function run_inline_js() {\n",
       "      for (var i = 0; i < inline_js.length; i++) {\n",
       "        inline_js[i](window.Bokeh);\n",
       "      }\n",
       "    }\n",
       "  \n",
       "    if (window._bokeh_is_loading === 0) {\n",
       "      console.log(\"Bokeh: BokehJS loaded, going straight to plotting\");\n",
       "      run_inline_js();\n",
       "    } else {\n",
       "      load_libs(js_urls, function() {\n",
       "        console.log(\"Bokeh: BokehJS plotting callback run at\", now());\n",
       "        run_inline_js();\n",
       "      });\n",
       "    }\n",
       "  }(this));\n",
       "</script>"
      ]
     },
     "metadata": {},
     "output_type": "display_data"
    },
    {
     "data": {
      "text/plain": [
       "<bokeh.io._CommsHandle at 0x7f4b4cd13d10>"
      ]
     },
     "execution_count": 10,
     "metadata": {},
     "output_type": "execute_result"
    }
   ],
   "source": [
    "from bokeh.plotting import figure\n",
    "\n",
    "p = figure()\n",
    "p.circle(x=df_train.x, y= df_train.y, color='Orange', size=10)\n",
    "p.circle(x=df_test.x, y= df_test.y, color='Red', size=10)\n",
    "p.xaxis.axis_label='x'\n",
    "p.xaxis.axis_label='y'\n",
    "show(p)"
   ]
  },
  {
   "cell_type": "markdown",
   "metadata": {},
   "source": [
    "<img src='files/resources/ic_assignment_black_24dp_2x.png' align='left'>Write a function to fit a degree 'n' polynomial regression model to the training data like before - but this time return the MSE on the training and test data.  What do you notice about the test error?  Which model is the best?"
   ]
  },
  {
   "cell_type": "code",
   "execution_count": 11,
   "metadata": {
    "collapsed": false
   },
   "outputs": [
    {
     "name": "stdout",
     "output_type": "stream",
     "text": [
      "Degree =  1 Train MSE =   1.41 Test MSE =   3.05\n",
      "Degree =  2 Train MSE =   0.94 Test MSE =   2.07\n",
      "Degree =  3 Train MSE =   0.51 Test MSE =   1.11\n",
      "Degree =  4 Train MSE =   0.46 Test MSE =   1.18\n",
      "Degree =  5 Train MSE =   0.46 Test MSE =   1.23\n",
      "Degree =  6 Train MSE =   0.40 Test MSE =   4.81\n",
      "Degree =  7 Train MSE =   0.32 Test MSE =  30.61\n",
      "Degree =  8 Train MSE =   0.32 Test MSE = 2192.29\n",
      "Degree =  9 Train MSE =   0.00 Test MSE = 5224730.15\n",
      "Degree = 10 Train MSE =   0.00 Test MSE = 23709708.46\n"
     ]
    }
   ],
   "source": [
    "def fitPolynomialRegression(x, y, x_test, y_test, degree=1):    \n",
    "    model = make_pipeline(PolynomialFeatures(degree=degree), LinearRegression())\n",
    "    model.fit(x, y)\n",
    "    return [ mse(y, model.predict(x)), mse(y_test, model.predict(x_test)) ]\n",
    "\n",
    "for degree in range(1,11):\n",
    "    fit = fitPolynomialRegression(df_train.x.reshape(-1,1), df_train.y, df_test.x.reshape(-1,1), df_test.y, degree)\n",
    "    print('Degree = {0:2d} Train MSE = {1:6.2f} Test MSE = {2:6.2f}'\n",
    "          .format(degree, fit[0], fit[1]))"
   ]
  }
 ],
 "metadata": {
  "kernelspec": {
   "display_name": "Python 2",
   "language": "python",
   "name": "python2"
  },
  "language_info": {
   "codemirror_mode": {
    "name": "ipython",
    "version": 2
   },
   "file_extension": ".py",
   "mimetype": "text/x-python",
   "name": "python",
   "nbconvert_exporter": "python",
   "pygments_lexer": "ipython2",
   "version": "2.7.11"
  }
 },
 "nbformat": 4,
 "nbformat_minor": 0
}
