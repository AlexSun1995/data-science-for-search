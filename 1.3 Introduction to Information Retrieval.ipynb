{
 "cells": [
  {
   "cell_type": "markdown",
   "metadata": {},
   "source": [
    "## 1.3 Introduction to Information Retrieval\n",
    "\n",
    "Here we work with a data set scraped from eBay.  The data contains 9895 item titles and descriptions.\n",
    "\n",
    "First we load the data file and _normalise_ the text - removing certain characters and converting to lower case.  "
   ]
  },
  {
   "cell_type": "code",
   "execution_count": 1,
   "metadata": {
    "collapsed": false
   },
   "outputs": [],
   "source": [
    "\n",
    "import pandas as pd\n",
    "import math\n",
    "from collections import Counter\n",
    "from scipy.sparse import csr_matrix\n",
    "\n",
    "from bokeh.plotting import figure, output_notebook, show, vplot\n",
    "from bokeh.charts import Bar, Scatter, BoxPlot\n",
    "from bokeh.charts.attributes import CatAttr\n",
    "from bokeh.models import ColumnDataSource\n",
    "\n",
    "from sys import getsizeof"
   ]
  },
  {
   "cell_type": "code",
   "execution_count": 28,
   "metadata": {
    "collapsed": false
   },
   "outputs": [
    {
     "name": "stdout",
     "output_type": "stream",
     "text": [
      "('cycling bicycle mtb bike fixie gloss carbon fiber riser bar handlebar', 'description feature easy to use made of high quality carbon fiber with the special design can save for a long time the carbon fiber handlebar is made of high quality carbon fiber so that you can use it relieved this quick disassembling carbon fiber handlebar is easy to use and one of the best gifts to your friends specification material carbon fiber color black handlebar clamp diameter mm length package included x cycling carbon fiber rise')\n"
     ]
    }
   ],
   "source": [
    "import csv\n",
    "import re\n",
    "\n",
    "with open(\"data/bike-items.txt\") as f:\n",
    "    r = csv.reader(f, delimiter=',', quotechar='\"')\n",
    "    rgx = re.compile(r'\\b[a-zA-Z]+\\b') \n",
    "    docs = [ (' '.join(re.findall(rgx, x[0])).lower(), ' '.join(re.findall(rgx, x[1])).lower())  \\\n",
    "                for i,x in enumerate(r) if i > 1 ]\n",
    "    \n",
    "print(docs[0][0],docs[0][1])\n",
    "\n",
    "items_t = [ d[0] for d in docs ] # item titles\n",
    "items_d = [ d[1] for d in docs ] # item descriptions\n",
    "items_i = range(0, len(items_t)) # item id\n"
   ]
  },
  {
   "cell_type": "code",
   "execution_count": null,
   "metadata": {
    "collapsed": true
   },
   "outputs": [],
   "source": []
  },
  {
   "cell_type": "markdown",
   "metadata": {},
   "source": [
    "Our raw data is in text form.  We need to convert it into a form more amenable to analysis.  In this notebok we look at ways of converting a collection of documents into a collection of vectors (a matrix).  To do this we need to *tokenize* the text - i.e. split it into words - and then create vectors of token frequency.  We will start by doing this the hard way and then look at how we can scale this up using scikit-learn.  Later on we will repeat this exercise using map-reduce.\n",
    "\n",
    "We will proceed as follows:\n",
    "1.  Compute term frequency as a dictionary, a matrix and a sparse matrix\n",
    "2.  Implement a boolean search against the TF matrix\n",
    "3.  Introduce scikit-learn and the 'hashing-trick'\n",
    "4.  Compute TF.IDF for the set of documents"
   ]
  },
  {
   "cell_type": "markdown",
   "metadata": {},
   "source": [
    "## Basic Term Frequency (TF) Matrix\n",
    "\n",
    "Please note that this code is for understanding - it is not optimised or intended to scale!\n",
    "\n",
    "Let's start with the first 10 item titles as out corpus:"
   ]
  },
  {
   "cell_type": "code",
   "execution_count": 21,
   "metadata": {
    "collapsed": false
   },
   "outputs": [
    {
     "name": "stdout",
     "output_type": "stream",
     "text": [
      "['cycling bicycle mtb bike fixie gloss carbon fiber riser bar handlebar', 'bicycle rims x red speed internal hub wheel set beach cruiser bike', 'mavic crossride mountain bike wheels and wtb weirwolf tires', 'new kcnc arrow alloy stem black', 'rotor qxl aero oval road chainring']\n"
     ]
    }
   ],
   "source": [
    "corpus = items_t[0:5]\n",
    "print(corpus)"
   ]
  },
  {
   "cell_type": "markdown",
   "metadata": {},
   "source": [
    "### TF Dictionary \n",
    "\n",
    "Now we can compute the frequency of each term across the entire corpus:"
   ]
  },
  {
   "cell_type": "code",
   "execution_count": 25,
   "metadata": {
    "collapsed": false
   },
   "outputs": [
    {
     "name": "stdout",
     "output_type": "stream",
     "text": [
      "{'and': 1, 'set': 1, 'bicycle': 2, 'cruiser': 1, 'tires': 1, 'fixie': 1, 'oval': 1, 'speed': 1, 'internal': 1, 'mountain': 1, 'cycling': 1, 'handlebar': 1, 'gloss': 1, 'chainring': 1, 'bike': 3, 'black': 1, 'new': 1, 'beach': 1, 'red': 1, 'kcnc': 1, 'wheel': 1, 'rotor': 1, 'fiber': 1, 'hub': 1, 'rims': 1, 'mavic': 1, 'aero': 1, 'stem': 1, 'alloy': 1, 'wtb': 1, 'carbon': 1, 'riser': 1, 'bar': 1, 'qxl': 1, 'crossride': 1, 'arrow': 1, 'weirwolf': 1, 'mtb': 1, 'x': 1, 'wheels': 1, 'road': 1}\n"
     ]
    }
   ],
   "source": [
    "tf = {}\n",
    "for doc in corpus:\n",
    "    for word in doc.split():\n",
    "        if word in tf:\n",
    "            tf[word] += 1\n",
    "        else:\n",
    "            tf[word] = 1\n",
    "\n",
    "print(tf)"
   ]
  },
  {
   "cell_type": "markdown",
   "metadata": {},
   "source": [
    "We can simplify by using a Counter rather than a dictionary:"
   ]
  },
  {
   "cell_type": "code",
   "execution_count": 5,
   "metadata": {
    "collapsed": false
   },
   "outputs": [
    {
     "name": "stdout",
     "output_type": "stream",
     "text": [
      "Counter({'bike': 3, 'bicycle': 2, 'and': 1, 'set': 1, 'cruiser': 1, 'tires': 1, 'fixie': 1, 'oval': 1, 'speed': 1, 'internal': 1, 'mountain': 1, 'cycling': 1, 'handlebar': 1, 'gloss': 1, 'chainring': 1, 'black': 1, 'new': 1, 'beach': 1, 'red': 1, 'kcnc': 1, 'wheel': 1, 'rotor': 1, 'fiber': 1, 'hub': 1, 'rims': 1, 'mavic': 1, 'aero': 1, 'stem': 1, 'alloy': 1, 'wtb': 1, 'carbon': 1, 'riser': 1, 'bar': 1, 'qxl': 1, 'crossride': 1, 'arrow': 1, 'weirwolf': 1, 'mtb': 1, 'x': 1, 'wheels': 1, 'road': 1})\n"
     ]
    }
   ],
   "source": [
    "tf = Counter()\n",
    "for doc in corpus:\n",
    "    for word in doc.split():\n",
    "        tf[word] += 1\n",
    "        \n",
    "print(tf)"
   ]
  },
  {
   "cell_type": "markdown",
   "metadata": {},
   "source": [
    "No speed difference - but cleaner code:"
   ]
  },
  {
   "cell_type": "code",
   "execution_count": 6,
   "metadata": {
    "collapsed": false
   },
   "outputs": [
    {
     "name": "stdout",
     "output_type": "stream",
     "text": [
      "10000 loops, best of 3: 18.8 µs per loop\n",
      "100000 loops, best of 3: 20.1 µs per loop\n"
     ]
    }
   ],
   "source": [
    "def tf1(corpus):\n",
    "    for doc in corpus:\n",
    "        for word in doc.split(' '):\n",
    "            if word in tf:\n",
    "                tf[word] += 1\n",
    "            else:\n",
    "                tf[word] = 1        \n",
    "    return tf\n",
    "\n",
    "def tf2(corpus):\n",
    "    tf = Counter()\n",
    "    for doc in corpus:\n",
    "        for word in doc.split(' '):\n",
    "            tf[word] += 1\n",
    "    return tf\n",
    "\n",
    "%timeit tf1(corpus)\n",
    "%timeit tf2(corpus)\n"
   ]
  },
  {
   "cell_type": "markdown",
   "metadata": {},
   "source": [
    "### TF Matrix\n",
    "\n",
    "Whilst the TF dictionary is a compact way to store the term frequency it is not much use for analysis.  We need a TF matrix where each document vector is the same length.  Now we convert the dictionary to a matrix:"
   ]
  },
  {
   "cell_type": "code",
   "execution_count": 7,
   "metadata": {
    "collapsed": false
   },
   "outputs": [
    {
     "name": "stdout",
     "output_type": "stream",
     "text": [
      "[[0, 0, 1, 0, 0, 1, 0, 0, 0, 0, 1, 1, 1, 0, 1, 0, 0, 0, 0, 0, 0, 0, 1, 0, 0, 0, 0, 0, 0, 0, 1, 1, 1, 0, 0, 0, 0, 1, 0, 0, 0], [0, 1, 1, 1, 0, 0, 0, 1, 1, 0, 0, 0, 0, 0, 1, 0, 0, 1, 1, 0, 1, 0, 0, 1, 1, 0, 0, 0, 0, 0, 0, 0, 0, 0, 0, 0, 0, 0, 1, 0, 0], [1, 0, 0, 0, 1, 0, 0, 0, 0, 1, 0, 0, 0, 0, 1, 0, 0, 0, 0, 0, 0, 0, 0, 0, 0, 1, 0, 0, 0, 1, 0, 0, 0, 0, 1, 0, 1, 0, 0, 1, 0], [0, 0, 0, 0, 0, 0, 0, 0, 0, 0, 0, 0, 0, 0, 0, 1, 1, 0, 0, 1, 0, 0, 0, 0, 0, 0, 0, 1, 1, 0, 0, 0, 0, 0, 0, 1, 0, 0, 0, 0, 0], [0, 0, 0, 0, 0, 0, 1, 0, 0, 0, 0, 0, 0, 1, 0, 0, 0, 0, 0, 0, 0, 1, 0, 0, 0, 0, 1, 0, 0, 0, 0, 0, 0, 1, 0, 0, 0, 0, 0, 0, 1]]\n"
     ]
    }
   ],
   "source": [
    "def get_lexicon(corpus):\n",
    "    lexicon = set()\n",
    "    for doc in corpus:\n",
    "        lexicon.update([word for word in doc.split()])\n",
    "    return lexicon\n",
    "\n",
    "lexicon = get_lexicon(corpus)\n",
    "\n",
    "tfm =[]\n",
    "for doc in corpus:\n",
    "    for term in doc.split():\n",
    "        tfv = [doc.split().count(word) for word in lexicon]\n",
    "    tfm.append(tfv)\n",
    "        \n",
    "print([ x for x in tfm])"
   ]
  },
  {
   "cell_type": "markdown",
   "metadata": {},
   "source": [
    "As number of terms increases this method becomes inefficient.  Here is a faster implementation:"
   ]
  },
  {
   "cell_type": "code",
   "execution_count": 8,
   "metadata": {
    "collapsed": false
   },
   "outputs": [
    {
     "name": "stdout",
     "output_type": "stream",
     "text": [
      "[[0, 0, 1, 0, 0, 1, 0, 0, 0, 0, 1, 1, 1, 0, 1, 0, 0, 0, 0, 0, 0, 0, 1, 0, 0, 0, 0, 0, 0, 0, 1, 1, 1, 0, 0, 0, 0, 1, 0, 0, 0], [0, 1, 1, 1, 0, 0, 0, 1, 1, 0, 0, 0, 0, 0, 1, 0, 0, 1, 1, 0, 1, 0, 0, 1, 1, 0, 0, 0, 0, 0, 0, 0, 0, 0, 0, 0, 0, 0, 1, 0, 0], [1, 0, 0, 0, 1, 0, 0, 0, 0, 1, 0, 0, 0, 0, 1, 0, 0, 0, 0, 0, 0, 0, 0, 0, 0, 1, 0, 0, 0, 1, 0, 0, 0, 0, 1, 0, 1, 0, 0, 1, 0], [0, 0, 0, 0, 0, 0, 0, 0, 0, 0, 0, 0, 0, 0, 0, 1, 1, 0, 0, 1, 0, 0, 0, 0, 0, 0, 0, 1, 1, 0, 0, 0, 0, 0, 0, 1, 0, 0, 0, 0, 0], [0, 0, 0, 0, 0, 0, 1, 0, 0, 0, 0, 0, 0, 1, 0, 0, 0, 0, 0, 0, 0, 1, 0, 0, 0, 0, 1, 0, 0, 0, 0, 0, 0, 1, 0, 0, 0, 0, 0, 0, 1]]\n"
     ]
    }
   ],
   "source": [
    "def get_lexicon(corpus):\n",
    "    lexicon = set()\n",
    "    for doc in corpus:\n",
    "        lexicon.update([word for word in doc.split()])\n",
    "    return list(lexicon)\n",
    "\n",
    "lexicon = get_lexicon(corpus)\n",
    "\n",
    "tfm =[]\n",
    "for doc in corpus:\n",
    "    tfv = [0]*len(lexicon)\n",
    "    for term in doc.split():\n",
    "        tfv[lexicon.index(term)] += 1\n",
    "    tfm.append(tfv)\n",
    "        \n",
    "print(tfm)"
   ]
  },
  {
   "cell_type": "markdown",
   "metadata": {},
   "source": [
    "We can compare time for each:"
   ]
  },
  {
   "cell_type": "code",
   "execution_count": 9,
   "metadata": {
    "collapsed": false
   },
   "outputs": [
    {
     "name": "stdout",
     "output_type": "stream",
     "text": [
      "100 loops, best of 3: 922 µs per loop\n",
      "10000 loops, best of 3: 28.7 µs per loop\n"
     ]
    }
   ],
   "source": [
    "def tfm1(corpus):\n",
    "    \n",
    "    def get_lexicon(corpus):\n",
    "        lexicon = set()\n",
    "        for doc in corpus:\n",
    "            lexicon.update([word for word in doc.split()])\n",
    "        return lexicon\n",
    "    \n",
    "    lexicon = get_lexicon(corpus)\n",
    "\n",
    "    tfm =[]\n",
    "    for doc in corpus:\n",
    "        for term in doc.split():\n",
    "            tfv = [doc.split().count(word) for word in lexicon]\n",
    "        tfm.append(tfv)\n",
    "    \n",
    "    return tfm, lexicon\n",
    "\n",
    "def tfm2(corpus):\n",
    "    \n",
    "    def get_lexicon(corpus):\n",
    "        lexicon = set()\n",
    "        for doc in corpus:\n",
    "            lexicon.update([word for word in doc.split()])\n",
    "        return list(lexicon)\n",
    "\n",
    "    lexicon = get_lexicon(corpus)\n",
    "\n",
    "    tfm =[]\n",
    "    for doc in corpus:\n",
    "        tfv = [0]*len(lexicon)\n",
    "        for term in doc.split():\n",
    "            tfv[lexicon.index(term)] += 1\n",
    "        tfm.append(tfv)\n",
    "    \n",
    "    return (tfm, lexicon)\n",
    "\n",
    "%timeit tfm1(corpus)\n",
    "%timeit tfm2(corpus)\n"
   ]
  },
  {
   "cell_type": "code",
   "execution_count": 10,
   "metadata": {
    "collapsed": false
   },
   "outputs": [
    {
     "data": {
      "text/html": [
       "\n",
       "\n",
       "    <script type=\"text/javascript\">\n",
       "      \n",
       "      (function(global) {\n",
       "        function now() {\n",
       "          return new Date();\n",
       "        }\n",
       "      \n",
       "        if (typeof (window._bokeh_onload_callbacks) === \"undefined\") {\n",
       "          window._bokeh_onload_callbacks = [];\n",
       "        }\n",
       "      \n",
       "        function run_callbacks() {\n",
       "          window._bokeh_onload_callbacks.forEach(function(callback) { callback() });\n",
       "          delete window._bokeh_onload_callbacks\n",
       "          console.info(\"Bokeh: all callbacks have finished\");\n",
       "        }\n",
       "      \n",
       "        function load_libs(js_urls, callback) {\n",
       "          window._bokeh_onload_callbacks.push(callback);\n",
       "          if (window._bokeh_is_loading > 0) {\n",
       "            console.log(\"Bokeh: BokehJS is being loaded, scheduling callback at\", now());\n",
       "            return null;\n",
       "          }\n",
       "          if (js_urls == null || js_urls.length === 0) {\n",
       "            run_callbacks();\n",
       "            return null;\n",
       "          }\n",
       "          console.log(\"Bokeh: BokehJS not loaded, scheduling load and callback at\", now());\n",
       "          window._bokeh_is_loading = js_urls.length;\n",
       "          for (var i = 0; i < js_urls.length; i++) {\n",
       "            var url = js_urls[i];\n",
       "            var s = document.createElement('script');\n",
       "            s.src = url;\n",
       "            s.async = false;\n",
       "            s.onreadystatechange = s.onload = function() {\n",
       "              window._bokeh_is_loading--;\n",
       "              if (window._bokeh_is_loading === 0) {\n",
       "                console.log(\"Bokeh: all BokehJS libraries loaded\");\n",
       "                run_callbacks()\n",
       "              }\n",
       "            };\n",
       "            s.onerror = function() {\n",
       "              console.warn(\"failed to load library \" + url);\n",
       "            };\n",
       "            console.log(\"Bokeh: injecting script tag for BokehJS library: \", url);\n",
       "            document.getElementsByTagName(\"head\")[0].appendChild(s);\n",
       "          }\n",
       "        };var js_urls = ['https://cdn.pydata.org/bokeh/release/bokeh-0.11.0.min.js', 'https://cdn.pydata.org/bokeh/release/bokeh-widgets-0.11.0.min.js', 'https://cdn.pydata.org/bokeh/release/bokeh-compiler-0.11.0.min.js'];\n",
       "      \n",
       "        var inline_js = [\n",
       "          function(Bokeh) {\n",
       "            Bokeh.set_log_level(\"info\");\n",
       "          },\n",
       "          function(Bokeh) {\n",
       "            console.log(\"Bokeh: injecting CSS: https://cdn.pydata.org/bokeh/release/bokeh-0.11.0.min.css\");\n",
       "            Bokeh.embed.inject_css(\"https://cdn.pydata.org/bokeh/release/bokeh-0.11.0.min.css\");\n",
       "            console.log(\"Bokeh: injecting CSS: https://cdn.pydata.org/bokeh/release/bokeh-widgets-0.11.0.min.css\");\n",
       "            Bokeh.embed.inject_css(\"https://cdn.pydata.org/bokeh/release/bokeh-widgets-0.11.0.min.css\");\n",
       "          }\n",
       "        ];\n",
       "      \n",
       "        function run_inline_js() {\n",
       "          for (var i = 0; i < inline_js.length; i++) {\n",
       "            inline_js[i](window.Bokeh);\n",
       "          }\n",
       "        }\n",
       "      \n",
       "        if (window._bokeh_is_loading === 0) {\n",
       "          console.log(\"Bokeh: BokehJS loaded, going straight to plotting\");\n",
       "          run_inline_js();\n",
       "        } else {\n",
       "          load_libs(js_urls, function() {\n",
       "            console.log(\"Bokeh: BokehJS plotting callback run at\", now());\n",
       "            run_inline_js();\n",
       "          });\n",
       "        }\n",
       "      }(this));\n",
       "    </script>"
      ]
     },
     "metadata": {},
     "output_type": "display_data"
    },
    {
     "data": {
      "text/html": [
       "\n",
       "\n",
       "    <div class=\"plotdiv\" id=\"7b489659-5c5e-4b87-a3a4-26f8bf61a007\"></div>\n",
       "<script type=\"text/javascript\">\n",
       "  \n",
       "  (function(global) {\n",
       "    function now() {\n",
       "      return new Date();\n",
       "    }\n",
       "  \n",
       "    if (typeof (window._bokeh_onload_callbacks) === \"undefined\") {\n",
       "      window._bokeh_onload_callbacks = [];\n",
       "    }\n",
       "  \n",
       "    function run_callbacks() {\n",
       "      window._bokeh_onload_callbacks.forEach(function(callback) { callback() });\n",
       "      delete window._bokeh_onload_callbacks\n",
       "      console.info(\"Bokeh: all callbacks have finished\");\n",
       "    }\n",
       "  \n",
       "    function load_libs(js_urls, callback) {\n",
       "      window._bokeh_onload_callbacks.push(callback);\n",
       "      if (window._bokeh_is_loading > 0) {\n",
       "        console.log(\"Bokeh: BokehJS is being loaded, scheduling callback at\", now());\n",
       "        return null;\n",
       "      }\n",
       "      if (js_urls == null || js_urls.length === 0) {\n",
       "        run_callbacks();\n",
       "        return null;\n",
       "      }\n",
       "      console.log(\"Bokeh: BokehJS not loaded, scheduling load and callback at\", now());\n",
       "      window._bokeh_is_loading = js_urls.length;\n",
       "      for (var i = 0; i < js_urls.length; i++) {\n",
       "        var url = js_urls[i];\n",
       "        var s = document.createElement('script');\n",
       "        s.src = url;\n",
       "        s.async = false;\n",
       "        s.onreadystatechange = s.onload = function() {\n",
       "          window._bokeh_is_loading--;\n",
       "          if (window._bokeh_is_loading === 0) {\n",
       "            console.log(\"Bokeh: all BokehJS libraries loaded\");\n",
       "            run_callbacks()\n",
       "          }\n",
       "        };\n",
       "        s.onerror = function() {\n",
       "          console.warn(\"failed to load library \" + url);\n",
       "        };\n",
       "        console.log(\"Bokeh: injecting script tag for BokehJS library: \", url);\n",
       "        document.getElementsByTagName(\"head\")[0].appendChild(s);\n",
       "      }\n",
       "    };var element = document.getElementById(\"7b489659-5c5e-4b87-a3a4-26f8bf61a007\");\n",
       "    if (element == null) {\n",
       "      console.log(\"Bokeh: ERROR: autoload.js configured with elementid '7b489659-5c5e-4b87-a3a4-26f8bf61a007' but no matching script tag was found. \")\n",
       "      return false;\n",
       "    }var js_urls = [];\n",
       "  \n",
       "    var inline_js = [\n",
       "      function(Bokeh) {\n",
       "        Bokeh.$(function() {\n",
       "            var docs_json = {\"e7580864-bd80-4901-a578-595b837d59c5\": {\"version\": \"0.11.0\", \"roots\": {\"root_ids\": [\"f68da6b1-69d3-40ba-b453-7029bfcffb96\"], \"references\": [{\"attributes\": {}, \"type\": \"BasicTickFormatter\", \"id\": \"502a3963-5979-4655-81e1-3963623a9205\"}, {\"attributes\": {}, \"type\": \"BasicTicker\", \"id\": \"0c9ec88b-03c1-4e4d-9b75-0c6fa9740dde\"}, {\"attributes\": {\"plot\": {\"subtype\": \"Figure\", \"type\": \"Plot\", \"id\": \"f68da6b1-69d3-40ba-b453-7029bfcffb96\"}, \"ticker\": {\"type\": \"BasicTicker\", \"id\": \"0c9ec88b-03c1-4e4d-9b75-0c6fa9740dde\"}, \"dimension\": 1}, \"type\": \"Grid\", \"id\": \"e4b18204-c54b-4b75-9a30-4b1753b4b61b\"}, {\"attributes\": {\"plot\": {\"subtype\": \"Figure\", \"type\": \"Plot\", \"id\": \"f68da6b1-69d3-40ba-b453-7029bfcffb96\"}, \"axis_label\": \"Documents\", \"formatter\": {\"type\": \"BasicTickFormatter\", \"id\": \"dbbcafdc-c22b-49aa-b69a-d06dcad655f2\"}, \"ticker\": {\"type\": \"BasicTicker\", \"id\": \"05623022-54f7-4960-9976-c611ab42415e\"}}, \"type\": \"LinearAxis\", \"id\": \"ddf3a82b-3001-4a39-b7f6-2cc60bc5905a\"}, {\"attributes\": {\"callback\": null}, \"type\": \"DataRange1d\", \"id\": \"96a4a2a1-3432-4287-b910-47fa9ff83c65\"}, {\"attributes\": {\"line_color\": {\"value\": \"#1f77b4\"}, \"line_alpha\": {\"value\": 0.1}, \"fill_color\": {\"value\": \"#1f77b4\"}, \"fill_alpha\": {\"value\": 0.1}, \"y\": {\"field\": \"y\"}, \"x\": {\"field\": \"x\"}, \"size\": {\"units\": \"screen\", \"value\": 8}}, \"type\": \"Circle\", \"id\": \"02b5d4d7-f623-49be-9dc8-7a1db4565b39\"}, {\"attributes\": {\"plot\": {\"subtype\": \"Figure\", \"type\": \"Plot\", \"id\": \"f68da6b1-69d3-40ba-b453-7029bfcffb96\"}}, \"type\": \"PanTool\", \"id\": \"4db4629e-b11e-4f19-8b09-b353ac91f42d\"}, {\"attributes\": {\"plot\": {\"subtype\": \"Figure\", \"type\": \"Plot\", \"id\": \"f68da6b1-69d3-40ba-b453-7029bfcffb96\"}}, \"type\": \"PreviewSaveTool\", \"id\": \"1a3e7a8d-3cad-4515-bf45-d71453e977d7\"}, {\"attributes\": {\"nonselection_glyph\": {\"type\": \"Line\", \"id\": \"fce428e9-ef27-4ce1-864c-dad045f373e7\"}, \"data_source\": {\"type\": \"ColumnDataSource\", \"id\": \"e97f838b-dbd4-48d5-83e6-f46fd0f722aa\"}, \"selection_glyph\": null, \"hover_glyph\": null, \"glyph\": {\"type\": \"Line\", \"id\": \"074e975a-887c-4a07-acd6-e3aa48ec2be4\"}}, \"type\": \"GlyphRenderer\", \"id\": \"c6164b92-ae6f-48ce-9bb2-cdcdf510a394\"}, {\"attributes\": {\"plot\": {\"subtype\": \"Figure\", \"type\": \"Plot\", \"id\": \"f68da6b1-69d3-40ba-b453-7029bfcffb96\"}}, \"type\": \"WheelZoomTool\", \"id\": \"d39241da-3d38-4955-aa38-03279bcba69e\"}, {\"attributes\": {\"callback\": null}, \"type\": \"DataRange1d\", \"id\": \"54301cf1-6f3a-4ae2-82b9-3c52c0826cf8\"}, {\"attributes\": {\"plot\": {\"subtype\": \"Figure\", \"type\": \"Plot\", \"id\": \"f68da6b1-69d3-40ba-b453-7029bfcffb96\"}, \"axis_label\": \"Sparsity\", \"formatter\": {\"type\": \"BasicTickFormatter\", \"id\": \"502a3963-5979-4655-81e1-3963623a9205\"}, \"ticker\": {\"type\": \"BasicTicker\", \"id\": \"0c9ec88b-03c1-4e4d-9b75-0c6fa9740dde\"}}, \"type\": \"LinearAxis\", \"id\": \"849e3f94-8b42-48f2-a57b-a3ffe9a74ac8\"}, {\"attributes\": {\"nonselection_glyph\": {\"type\": \"Circle\", \"id\": \"02b5d4d7-f623-49be-9dc8-7a1db4565b39\"}, \"data_source\": {\"type\": \"ColumnDataSource\", \"id\": \"96c8519e-ff60-4336-9740-91969b0132d4\"}, \"selection_glyph\": null, \"hover_glyph\": null, \"glyph\": {\"type\": \"Circle\", \"id\": \"bf265943-1a17-485e-aa6e-d14b19cb9bca\"}}, \"type\": \"GlyphRenderer\", \"id\": \"fc5bc885-bc88-440f-aa10-cc5d315d758d\"}, {\"attributes\": {\"line_color\": {\"value\": \"#1f77b4\"}, \"line_alpha\": {\"value\": 0.1}, \"y\": {\"field\": \"y\"}, \"x\": {\"field\": \"x\"}, \"line_width\": {\"value\": 2}}, \"type\": \"Line\", \"id\": \"fce428e9-ef27-4ce1-864c-dad045f373e7\"}, {\"attributes\": {\"plot\": {\"subtype\": \"Figure\", \"type\": \"Plot\", \"id\": \"f68da6b1-69d3-40ba-b453-7029bfcffb96\"}}, \"type\": \"ResizeTool\", \"id\": \"b0f30c48-470f-4f87-a57e-10b47dd94f5e\"}, {\"attributes\": {\"plot\": {\"subtype\": \"Figure\", \"type\": \"Plot\", \"id\": \"f68da6b1-69d3-40ba-b453-7029bfcffb96\"}, \"overlay\": {\"type\": \"BoxAnnotation\", \"id\": \"62ce25c9-14cd-439d-9abf-424868b97bfe\"}}, \"type\": \"BoxZoomTool\", \"id\": \"c437b914-b01f-41b7-852e-f22f541f00d0\"}, {\"attributes\": {\"line_color\": {\"value\": \"#1f77b4\"}, \"line_width\": {\"value\": 2}, \"y\": {\"field\": \"y\"}, \"x\": {\"field\": \"x\"}}, \"type\": \"Line\", \"id\": \"074e975a-887c-4a07-acd6-e3aa48ec2be4\"}, {\"attributes\": {\"line_color\": {\"value\": \"#1f77b4\"}, \"x\": {\"field\": \"x\"}, \"y\": {\"field\": \"y\"}, \"fill_color\": {\"value\": \"white\"}, \"size\": {\"units\": \"screen\", \"value\": 8}}, \"type\": \"Circle\", \"id\": \"bf265943-1a17-485e-aa6e-d14b19cb9bca\"}, {\"attributes\": {\"callback\": null, \"column_names\": [\"y\", \"x\"], \"data\": {\"y\": [0.9821128714317003, 0.9883890210559955, 0.9912191990698407, 0.9926077154550996, 0.9934271147723699, 0.9942291412146989, 0.9947342910720529, 0.9951831935547358, 0.9955050581978345], \"x\": [100, 200, 300, 400, 500, 600, 700, 800, 900]}}, \"type\": \"ColumnDataSource\", \"id\": \"96c8519e-ff60-4336-9740-91969b0132d4\"}, {\"attributes\": {}, \"type\": \"BasicTicker\", \"id\": \"05623022-54f7-4960-9976-c611ab42415e\"}, {\"attributes\": {}, \"type\": \"ToolEvents\", \"id\": \"f41d0940-8c88-4055-85c0-adf81e8fe991\"}, {\"attributes\": {\"callback\": null, \"column_names\": [\"y\", \"x\"], \"data\": {\"y\": [0.9821128714317003, 0.9883890210559955, 0.9912191990698407, 0.9926077154550996, 0.9934271147723699, 0.9942291412146989, 0.9947342910720529, 0.9951831935547358, 0.9955050581978345], \"x\": [100, 200, 300, 400, 500, 600, 700, 800, 900]}}, \"type\": \"ColumnDataSource\", \"id\": \"e97f838b-dbd4-48d5-83e6-f46fd0f722aa\"}, {\"attributes\": {}, \"type\": \"BasicTickFormatter\", \"id\": \"dbbcafdc-c22b-49aa-b69a-d06dcad655f2\"}, {\"attributes\": {\"line_color\": {\"value\": \"black\"}, \"line_alpha\": {\"value\": 1.0}, \"render_mode\": \"css\", \"bottom_units\": \"screen\", \"level\": \"overlay\", \"top_units\": \"screen\", \"fill_alpha\": {\"value\": 0.5}, \"plot\": null, \"left_units\": \"screen\", \"line_dash\": [4, 4], \"line_width\": {\"value\": 2}, \"right_units\": \"screen\", \"fill_color\": {\"value\": \"lightgrey\"}}, \"type\": \"BoxAnnotation\", \"id\": \"62ce25c9-14cd-439d-9abf-424868b97bfe\"}, {\"attributes\": {\"plot\": {\"subtype\": \"Figure\", \"type\": \"Plot\", \"id\": \"f68da6b1-69d3-40ba-b453-7029bfcffb96\"}}, \"type\": \"HelpTool\", \"id\": \"0b3c1590-9ed6-4bb3-87c8-528aab96d4fd\"}, {\"attributes\": {\"plot\": {\"subtype\": \"Figure\", \"type\": \"Plot\", \"id\": \"f68da6b1-69d3-40ba-b453-7029bfcffb96\"}, \"ticker\": {\"type\": \"BasicTicker\", \"id\": \"05623022-54f7-4960-9976-c611ab42415e\"}}, \"type\": \"Grid\", \"id\": \"f4d2f885-a42d-4fbd-b4dc-c48fffa7a267\"}, {\"attributes\": {\"x_range\": {\"type\": \"DataRange1d\", \"id\": \"54301cf1-6f3a-4ae2-82b9-3c52c0826cf8\"}, \"y_range\": {\"type\": \"DataRange1d\", \"id\": \"96a4a2a1-3432-4287-b910-47fa9ff83c65\"}, \"renderers\": [{\"type\": \"LinearAxis\", \"id\": \"ddf3a82b-3001-4a39-b7f6-2cc60bc5905a\"}, {\"type\": \"Grid\", \"id\": \"f4d2f885-a42d-4fbd-b4dc-c48fffa7a267\"}, {\"type\": \"LinearAxis\", \"id\": \"849e3f94-8b42-48f2-a57b-a3ffe9a74ac8\"}, {\"type\": \"Grid\", \"id\": \"e4b18204-c54b-4b75-9a30-4b1753b4b61b\"}, {\"type\": \"BoxAnnotation\", \"id\": \"62ce25c9-14cd-439d-9abf-424868b97bfe\"}, {\"type\": \"GlyphRenderer\", \"id\": \"c6164b92-ae6f-48ce-9bb2-cdcdf510a394\"}, {\"type\": \"GlyphRenderer\", \"id\": \"fc5bc885-bc88-440f-aa10-cc5d315d758d\"}], \"plot_width\": 400, \"below\": [{\"type\": \"LinearAxis\", \"id\": \"ddf3a82b-3001-4a39-b7f6-2cc60bc5905a\"}], \"tool_events\": {\"type\": \"ToolEvents\", \"id\": \"f41d0940-8c88-4055-85c0-adf81e8fe991\"}, \"plot_height\": 400, \"tools\": [{\"type\": \"PanTool\", \"id\": \"4db4629e-b11e-4f19-8b09-b353ac91f42d\"}, {\"type\": \"WheelZoomTool\", \"id\": \"d39241da-3d38-4955-aa38-03279bcba69e\"}, {\"type\": \"BoxZoomTool\", \"id\": \"c437b914-b01f-41b7-852e-f22f541f00d0\"}, {\"type\": \"PreviewSaveTool\", \"id\": \"1a3e7a8d-3cad-4515-bf45-d71453e977d7\"}, {\"type\": \"ResizeTool\", \"id\": \"b0f30c48-470f-4f87-a57e-10b47dd94f5e\"}, {\"type\": \"ResetTool\", \"id\": \"13029b45-5581-4080-a9a2-112de4cf056f\"}, {\"type\": \"HelpTool\", \"id\": \"0b3c1590-9ed6-4bb3-87c8-528aab96d4fd\"}], \"left\": [{\"type\": \"LinearAxis\", \"id\": \"849e3f94-8b42-48f2-a57b-a3ffe9a74ac8\"}]}, \"type\": \"Plot\", \"id\": \"f68da6b1-69d3-40ba-b453-7029bfcffb96\", \"subtype\": \"Figure\"}, {\"attributes\": {\"plot\": {\"subtype\": \"Figure\", \"type\": \"Plot\", \"id\": \"f68da6b1-69d3-40ba-b453-7029bfcffb96\"}}, \"type\": \"ResetTool\", \"id\": \"13029b45-5581-4080-a9a2-112de4cf056f\"}]}, \"title\": \"Bokeh Application\"}};\n",
       "            var render_items = [{\"notebook_comms_target\": \"e7d31a6f-830b-46ed-8e11-b0e4262d733c\", \"docid\": \"e7580864-bd80-4901-a578-595b837d59c5\", \"elementid\": \"7b489659-5c5e-4b87-a3a4-26f8bf61a007\", \"modelid\": \"f68da6b1-69d3-40ba-b453-7029bfcffb96\"}];\n",
       "            \n",
       "            Bokeh.embed.embed_items(docs_json, render_items);\n",
       "        });\n",
       "      },\n",
       "      function(Bokeh) {\n",
       "      }\n",
       "    ];\n",
       "  \n",
       "    function run_inline_js() {\n",
       "      for (var i = 0; i < inline_js.length; i++) {\n",
       "        inline_js[i](window.Bokeh);\n",
       "      }\n",
       "    }\n",
       "  \n",
       "    if (window._bokeh_is_loading === 0) {\n",
       "      console.log(\"Bokeh: BokehJS loaded, going straight to plotting\");\n",
       "      run_inline_js();\n",
       "    } else {\n",
       "      load_libs(js_urls, function() {\n",
       "        console.log(\"Bokeh: BokehJS plotting callback run at\", now());\n",
       "        run_inline_js();\n",
       "      });\n",
       "    }\n",
       "  }(this));\n",
       "</script>"
      ]
     },
     "metadata": {},
     "output_type": "display_data"
    },
    {
     "data": {
      "text/plain": [
       "<bokeh.io._CommsHandle at 0x7fad867e0b90>"
      ]
     },
     "execution_count": 10,
     "metadata": {},
     "output_type": "execute_result"
    }
   ],
   "source": [
    "# as size of corpus increases so does the sparsity\n",
    "\n",
    "n = []\n",
    "s = []\n",
    "for i in range(100,1000,100):\n",
    "    corpus = items_t[0:i]\n",
    "    tfm, lexicon = tfm2(corpus)\n",
    "    c =[ [x.count(0), x.count(1)] for x in tfm]\n",
    "    n_zero = sum([ y[0] for y in c])\n",
    "    n_one = sum([ y[1] for y in c])  \n",
    "    s.append(1.0 - (float(n_one) / (n_one + n_zero)))\n",
    "    n.append(i)\n",
    "    \n",
    "output_notebook(hide_banner=True)\n",
    "p = figure(x_axis_label='Documents', y_axis_label='Sparsity',\n",
    "          plot_width=400, plot_height=400)\n",
    "p.line(n, s, line_width=2)\n",
    "p.circle(n, s, fill_color=\"white\", size=8)\n",
    "show(p)\n"
   ]
  },
  {
   "cell_type": "markdown",
   "metadata": {},
   "source": [
    "We can take advantage of the sparsity and only store the non-zero elements of the TF matrix."
   ]
  },
  {
   "cell_type": "markdown",
   "metadata": {},
   "source": [
    "### Spare matrix storage"
   ]
  },
  {
   "cell_type": "code",
   "execution_count": 11,
   "metadata": {
    "collapsed": false
   },
   "outputs": [
    {
     "name": "stdout",
     "output_type": "stream",
     "text": [
      "[[(0, 12), 1], [(0, 29), 1], [(0, 38), 1], [(0, 75), 1], [(0, 80), 1], [(0, 308), 1], [(0, 347), 1], [(0, 514), 1], [(0, 886), 1], [(0, 1244), 1], [(0, 1250), 1]]\n"
     ]
    }
   ],
   "source": [
    "def tfm3(corpus):\n",
    "    \n",
    "    def get_lexicon(corpus):\n",
    "        lexicon = set()\n",
    "        for doc in corpus:\n",
    "            lexicon.update([word for word in doc.split()])\n",
    "        return list(lexicon)\n",
    "\n",
    "    lexicon = get_lexicon(corpus)\n",
    "\n",
    "    tfm =[]\n",
    "    for doc_id, doc in enumerate(corpus):\n",
    "        tfv = [0]*len(lexicon)\n",
    "        for term in doc.split():\n",
    "            tfv[lexicon.index(term)] += 1\n",
    "        tfm.append([[(doc_id, t_id), t] for t_id, t in enumerate(tfv) if t > 0])\n",
    "    \n",
    "    return (tfm, lexicon)\n",
    "\n",
    "tfm, lexicon = tfm3(corpus)\n",
    "print(tfm[0])"
   ]
  },
  {
   "cell_type": "markdown",
   "metadata": {},
   "source": [
    "We can also use compression to store this data even more efficiently - scikit-learn provides a compressed sparse matrix:"
   ]
  },
  {
   "cell_type": "code",
   "execution_count": 12,
   "metadata": {
    "collapsed": false,
    "scrolled": true
   },
   "outputs": [
    {
     "name": "stdout",
     "output_type": "stream",
     "text": [
      "  (0, 12)\t1\n",
      "  (0, 29)\t1\n",
      "  (0, 38)\t1\n",
      "  (0, 75)\t1\n",
      "  (0, 80)\t1\n",
      "  (0, 308)\t1\n",
      "  (0, 347)\t1\n",
      "  (0, 514)\t1\n",
      "  (0, 886)\t1\n",
      "  (0, 1244)\t1\n",
      "  (0, 1250)\t1\n"
     ]
    },
    {
     "data": {
      "text/html": [
       "\n",
       "\n",
       "    <script type=\"text/javascript\">\n",
       "      \n",
       "      (function(global) {\n",
       "        function now() {\n",
       "          return new Date();\n",
       "        }\n",
       "      \n",
       "        if (typeof (window._bokeh_onload_callbacks) === \"undefined\") {\n",
       "          window._bokeh_onload_callbacks = [];\n",
       "        }\n",
       "      \n",
       "        function run_callbacks() {\n",
       "          window._bokeh_onload_callbacks.forEach(function(callback) { callback() });\n",
       "          delete window._bokeh_onload_callbacks\n",
       "          console.info(\"Bokeh: all callbacks have finished\");\n",
       "        }\n",
       "      \n",
       "        function load_libs(js_urls, callback) {\n",
       "          window._bokeh_onload_callbacks.push(callback);\n",
       "          if (window._bokeh_is_loading > 0) {\n",
       "            console.log(\"Bokeh: BokehJS is being loaded, scheduling callback at\", now());\n",
       "            return null;\n",
       "          }\n",
       "          if (js_urls == null || js_urls.length === 0) {\n",
       "            run_callbacks();\n",
       "            return null;\n",
       "          }\n",
       "          console.log(\"Bokeh: BokehJS not loaded, scheduling load and callback at\", now());\n",
       "          window._bokeh_is_loading = js_urls.length;\n",
       "          for (var i = 0; i < js_urls.length; i++) {\n",
       "            var url = js_urls[i];\n",
       "            var s = document.createElement('script');\n",
       "            s.src = url;\n",
       "            s.async = false;\n",
       "            s.onreadystatechange = s.onload = function() {\n",
       "              window._bokeh_is_loading--;\n",
       "              if (window._bokeh_is_loading === 0) {\n",
       "                console.log(\"Bokeh: all BokehJS libraries loaded\");\n",
       "                run_callbacks()\n",
       "              }\n",
       "            };\n",
       "            s.onerror = function() {\n",
       "              console.warn(\"failed to load library \" + url);\n",
       "            };\n",
       "            console.log(\"Bokeh: injecting script tag for BokehJS library: \", url);\n",
       "            document.getElementsByTagName(\"head\")[0].appendChild(s);\n",
       "          }\n",
       "        };var js_urls = ['https://cdn.pydata.org/bokeh/release/bokeh-0.11.0.min.js', 'https://cdn.pydata.org/bokeh/release/bokeh-widgets-0.11.0.min.js', 'https://cdn.pydata.org/bokeh/release/bokeh-compiler-0.11.0.min.js'];\n",
       "      \n",
       "        var inline_js = [\n",
       "          function(Bokeh) {\n",
       "            Bokeh.set_log_level(\"info\");\n",
       "          },\n",
       "          function(Bokeh) {\n",
       "            console.log(\"Bokeh: injecting CSS: https://cdn.pydata.org/bokeh/release/bokeh-0.11.0.min.css\");\n",
       "            Bokeh.embed.inject_css(\"https://cdn.pydata.org/bokeh/release/bokeh-0.11.0.min.css\");\n",
       "            console.log(\"Bokeh: injecting CSS: https://cdn.pydata.org/bokeh/release/bokeh-widgets-0.11.0.min.css\");\n",
       "            Bokeh.embed.inject_css(\"https://cdn.pydata.org/bokeh/release/bokeh-widgets-0.11.0.min.css\");\n",
       "          }\n",
       "        ];\n",
       "      \n",
       "        function run_inline_js() {\n",
       "          for (var i = 0; i < inline_js.length; i++) {\n",
       "            inline_js[i](window.Bokeh);\n",
       "          }\n",
       "        }\n",
       "      \n",
       "        if (window._bokeh_is_loading === 0) {\n",
       "          console.log(\"Bokeh: BokehJS loaded, going straight to plotting\");\n",
       "          run_inline_js();\n",
       "        } else {\n",
       "          load_libs(js_urls, function() {\n",
       "            console.log(\"Bokeh: BokehJS plotting callback run at\", now());\n",
       "            run_inline_js();\n",
       "          });\n",
       "        }\n",
       "      }(this));\n",
       "    </script>"
      ]
     },
     "metadata": {},
     "output_type": "display_data"
    },
    {
     "data": {
      "text/html": [
       "\n",
       "\n",
       "    <div class=\"plotdiv\" id=\"c4a16189-b418-4ae2-800e-bd25a836205a\"></div>\n",
       "<script type=\"text/javascript\">\n",
       "  \n",
       "  (function(global) {\n",
       "    function now() {\n",
       "      return new Date();\n",
       "    }\n",
       "  \n",
       "    if (typeof (window._bokeh_onload_callbacks) === \"undefined\") {\n",
       "      window._bokeh_onload_callbacks = [];\n",
       "    }\n",
       "  \n",
       "    function run_callbacks() {\n",
       "      window._bokeh_onload_callbacks.forEach(function(callback) { callback() });\n",
       "      delete window._bokeh_onload_callbacks\n",
       "      console.info(\"Bokeh: all callbacks have finished\");\n",
       "    }\n",
       "  \n",
       "    function load_libs(js_urls, callback) {\n",
       "      window._bokeh_onload_callbacks.push(callback);\n",
       "      if (window._bokeh_is_loading > 0) {\n",
       "        console.log(\"Bokeh: BokehJS is being loaded, scheduling callback at\", now());\n",
       "        return null;\n",
       "      }\n",
       "      if (js_urls == null || js_urls.length === 0) {\n",
       "        run_callbacks();\n",
       "        return null;\n",
       "      }\n",
       "      console.log(\"Bokeh: BokehJS not loaded, scheduling load and callback at\", now());\n",
       "      window._bokeh_is_loading = js_urls.length;\n",
       "      for (var i = 0; i < js_urls.length; i++) {\n",
       "        var url = js_urls[i];\n",
       "        var s = document.createElement('script');\n",
       "        s.src = url;\n",
       "        s.async = false;\n",
       "        s.onreadystatechange = s.onload = function() {\n",
       "          window._bokeh_is_loading--;\n",
       "          if (window._bokeh_is_loading === 0) {\n",
       "            console.log(\"Bokeh: all BokehJS libraries loaded\");\n",
       "            run_callbacks()\n",
       "          }\n",
       "        };\n",
       "        s.onerror = function() {\n",
       "          console.warn(\"failed to load library \" + url);\n",
       "        };\n",
       "        console.log(\"Bokeh: injecting script tag for BokehJS library: \", url);\n",
       "        document.getElementsByTagName(\"head\")[0].appendChild(s);\n",
       "      }\n",
       "    };var element = document.getElementById(\"c4a16189-b418-4ae2-800e-bd25a836205a\");\n",
       "    if (element == null) {\n",
       "      console.log(\"Bokeh: ERROR: autoload.js configured with elementid 'c4a16189-b418-4ae2-800e-bd25a836205a' but no matching script tag was found. \")\n",
       "      return false;\n",
       "    }var js_urls = [];\n",
       "  \n",
       "    var inline_js = [\n",
       "      function(Bokeh) {\n",
       "        Bokeh.$(function() {\n",
       "            var docs_json = {\"dd876ff2-1293-45d6-a58f-1a3121d1b212\": {\"version\": \"0.11.0\", \"roots\": {\"root_ids\": [\"f68da6b1-69d3-40ba-b453-7029bfcffb96\", \"47bc8d2d-d405-48ff-b513-972d28b02732\"], \"references\": [{\"attributes\": {\"plot\": {\"subtype\": \"Chart\", \"type\": \"Plot\", \"id\": \"47bc8d2d-d405-48ff-b513-972d28b02732\"}}, \"type\": \"WheelZoomTool\", \"id\": \"1e3e9652-4f5a-4a72-9d34-57636f9b7649\"}, {\"attributes\": {\"plot\": {\"subtype\": \"Figure\", \"type\": \"Plot\", \"id\": \"f68da6b1-69d3-40ba-b453-7029bfcffb96\"}}, \"type\": \"WheelZoomTool\", \"id\": \"d39241da-3d38-4955-aa38-03279bcba69e\"}, {\"attributes\": {}, \"type\": \"BasicTickFormatter\", \"id\": \"502a3963-5979-4655-81e1-3963623a9205\"}, {\"attributes\": {}, \"type\": \"BasicTicker\", \"id\": \"0c9ec88b-03c1-4e4d-9b75-0c6fa9740dde\"}, {\"attributes\": {\"plot\": {\"subtype\": \"Figure\", \"type\": \"Plot\", \"id\": \"f68da6b1-69d3-40ba-b453-7029bfcffb96\"}, \"ticker\": {\"type\": \"BasicTicker\", \"id\": \"0c9ec88b-03c1-4e4d-9b75-0c6fa9740dde\"}, \"dimension\": 1}, \"type\": \"Grid\", \"id\": \"e4b18204-c54b-4b75-9a30-4b1753b4b61b\"}, {\"attributes\": {\"plot\": {\"subtype\": \"Figure\", \"type\": \"Plot\", \"id\": \"f68da6b1-69d3-40ba-b453-7029bfcffb96\"}, \"axis_label\": \"Documents\", \"formatter\": {\"type\": \"BasicTickFormatter\", \"id\": \"dbbcafdc-c22b-49aa-b69a-d06dcad655f2\"}, \"ticker\": {\"type\": \"BasicTicker\", \"id\": \"05623022-54f7-4960-9976-c611ab42415e\"}}, \"type\": \"LinearAxis\", \"id\": \"ddf3a82b-3001-4a39-b7f6-2cc60bc5905a\"}, {\"attributes\": {\"plot\": {\"subtype\": \"Chart\", \"type\": \"Plot\", \"id\": \"47bc8d2d-d405-48ff-b513-972d28b02732\"}}, \"type\": \"PreviewSaveTool\", \"id\": \"182b39c4-1ee7-49c2-b6e6-71828ca3a7be\"}, {\"attributes\": {\"plot\": {\"subtype\": \"Chart\", \"type\": \"Plot\", \"id\": \"47bc8d2d-d405-48ff-b513-972d28b02732\"}}, \"type\": \"ResetTool\", \"id\": \"d5b1c977-4a5e-44d6-b82d-13308ac1a6ae\"}, {\"attributes\": {\"callback\": null}, \"type\": \"DataRange1d\", \"id\": \"96a4a2a1-3432-4287-b910-47fa9ff83c65\"}, {\"attributes\": {\"line_color\": {\"value\": \"#1f77b4\"}, \"line_alpha\": {\"value\": 0.1}, \"fill_color\": {\"value\": \"#1f77b4\"}, \"fill_alpha\": {\"value\": 0.1}, \"y\": {\"field\": \"y\"}, \"x\": {\"field\": \"x\"}, \"size\": {\"units\": \"screen\", \"value\": 8}}, \"type\": \"Circle\", \"id\": \"02b5d4d7-f623-49be-9dc8-7a1db4565b39\"}, {\"attributes\": {\"nonselection_glyph\": null, \"data_source\": {\"type\": \"ColumnDataSource\", \"id\": \"88195f08-427f-4832-b74d-c31ba83be647\"}, \"selection_glyph\": null, \"hover_glyph\": null, \"glyph\": {\"type\": \"Rect\", \"id\": \"a7c4d0f2-9844-4809-b758-db96ac345ac4\"}}, \"type\": \"GlyphRenderer\", \"id\": \"d7be3778-d21b-4378-b520-b332e561d972\"}, {\"attributes\": {\"plot\": {\"subtype\": \"Chart\", \"type\": \"Plot\", \"id\": \"47bc8d2d-d405-48ff-b513-972d28b02732\"}, \"axis_label\": \"Sum( Size )\", \"formatter\": {\"type\": \"BasicTickFormatter\", \"id\": \"fb462212-e026-4647-9b21-9037dd909f89\"}, \"ticker\": {\"type\": \"BasicTicker\", \"id\": \"1cb247a4-efb2-479e-85e5-39a312ac1536\"}}, \"type\": \"LinearAxis\", \"id\": \"9b1a02a5-410d-4dfa-ad98-6b45879b8560\"}, {\"attributes\": {\"plot\": {\"subtype\": \"Figure\", \"type\": \"Plot\", \"id\": \"f68da6b1-69d3-40ba-b453-7029bfcffb96\"}}, \"type\": \"PanTool\", \"id\": \"4db4629e-b11e-4f19-8b09-b353ac91f42d\"}, {\"attributes\": {\"line_color\": {\"field\": \"line_color\"}, \"fill_color\": {\"field\": \"color\"}, \"fill_alpha\": {\"field\": \"fill_alpha\"}, \"height\": {\"units\": \"data\", \"field\": \"height\"}, \"width\": {\"units\": \"data\", \"field\": \"width\"}, \"y\": {\"field\": \"y\"}, \"x\": {\"field\": \"x\"}}, \"type\": \"Rect\", \"id\": \"a7c4d0f2-9844-4809-b758-db96ac345ac4\"}, {\"attributes\": {}, \"type\": \"BasicTicker\", \"id\": \"1cb247a4-efb2-479e-85e5-39a312ac1536\"}, {\"attributes\": {\"plot\": {\"subtype\": \"Figure\", \"type\": \"Plot\", \"id\": \"f68da6b1-69d3-40ba-b453-7029bfcffb96\"}}, \"type\": \"PreviewSaveTool\", \"id\": \"1a3e7a8d-3cad-4515-bf45-d71453e977d7\"}, {\"attributes\": {\"nonselection_glyph\": {\"type\": \"Line\", \"id\": \"fce428e9-ef27-4ce1-864c-dad045f373e7\"}, \"data_source\": {\"type\": \"ColumnDataSource\", \"id\": \"e97f838b-dbd4-48d5-83e6-f46fd0f722aa\"}, \"selection_glyph\": null, \"hover_glyph\": null, \"glyph\": {\"type\": \"Line\", \"id\": \"074e975a-887c-4a07-acd6-e3aa48ec2be4\"}}, \"type\": \"GlyphRenderer\", \"id\": \"c6164b92-ae6f-48ce-9bb2-cdcdf510a394\"}, {\"attributes\": {\"callback\": null, \"column_names\": [\"line_color\", \"line_alpha\", \"color\", \"fill_alpha\", \"height\", \"width\", \"y\", \"x\"], \"data\": {\"line_color\": [\"white\"], \"line_alpha\": [1.0], \"chart_index\": [{\"Type\": \"tfm2\"}], \"color\": [\"#f22c40\"], \"fill_alpha\": [0.8], \"height\": [7992.0], \"width\": [0.8], \"y\": [3996.0], \"x\": [\"tfm2\"], \"Type\": [\"tfm2\"]}}, \"type\": \"ColumnDataSource\", \"id\": \"88195f08-427f-4832-b74d-c31ba83be647\"}, {\"attributes\": {\"callback\": null, \"end\": 8391.6}, \"type\": \"Range1d\", \"id\": \"35686063-5b94-4b33-8ae0-69e37c9e62ce\"}, {\"attributes\": {}, \"type\": \"BasicTickFormatter\", \"id\": \"fb462212-e026-4647-9b21-9037dd909f89\"}, {\"attributes\": {\"callback\": null}, \"type\": \"DataRange1d\", \"id\": \"54301cf1-6f3a-4ae2-82b9-3c52c0826cf8\"}, {\"attributes\": {\"callback\": null, \"column_names\": [\"line_color\", \"line_alpha\", \"color\", \"fill_alpha\", \"height\", \"width\", \"y\", \"x\"], \"data\": {\"line_color\": [\"white\"], \"line_alpha\": [1.0], \"chart_index\": [{\"Type\": \"tf2\"}], \"color\": [\"#f22c40\"], \"fill_alpha\": [0.8], \"height\": [24.0], \"width\": [0.8], \"y\": [12.0], \"x\": [\"tf2\"], \"Type\": [\"tf2\"]}}, \"type\": \"ColumnDataSource\", \"id\": \"1bece8a5-3240-4e7e-ac64-8d3b35d4f64c\"}, {\"attributes\": {\"plot\": {\"subtype\": \"Chart\", \"type\": \"Plot\", \"id\": \"47bc8d2d-d405-48ff-b513-972d28b02732\"}}, \"type\": \"HelpTool\", \"id\": \"017506cf-cf1a-4089-a892-8f4f46ed22e7\"}, {\"attributes\": {\"line_color\": {\"field\": \"line_color\"}, \"fill_color\": {\"field\": \"color\"}, \"fill_alpha\": {\"field\": \"fill_alpha\"}, \"height\": {\"units\": \"data\", \"field\": \"height\"}, \"width\": {\"units\": \"data\", \"field\": \"width\"}, \"y\": {\"field\": \"y\"}, \"x\": {\"field\": \"x\"}}, \"type\": \"Rect\", \"id\": \"ec331ee9-d2fa-4be5-9136-a5870018325d\"}, {\"attributes\": {\"plot\": {\"subtype\": \"Figure\", \"type\": \"Plot\", \"id\": \"f68da6b1-69d3-40ba-b453-7029bfcffb96\"}, \"axis_label\": \"Sparsity\", \"formatter\": {\"type\": \"BasicTickFormatter\", \"id\": \"502a3963-5979-4655-81e1-3963623a9205\"}, \"ticker\": {\"type\": \"BasicTicker\", \"id\": \"0c9ec88b-03c1-4e4d-9b75-0c6fa9740dde\"}}, \"type\": \"LinearAxis\", \"id\": \"849e3f94-8b42-48f2-a57b-a3ffe9a74ac8\"}, {\"attributes\": {\"nonselection_glyph\": {\"type\": \"Circle\", \"id\": \"02b5d4d7-f623-49be-9dc8-7a1db4565b39\"}, \"data_source\": {\"type\": \"ColumnDataSource\", \"id\": \"96c8519e-ff60-4336-9740-91969b0132d4\"}, \"selection_glyph\": null, \"hover_glyph\": null, \"glyph\": {\"type\": \"Circle\", \"id\": \"bf265943-1a17-485e-aa6e-d14b19cb9bca\"}}, \"type\": \"GlyphRenderer\", \"id\": \"fc5bc885-bc88-440f-aa10-cc5d315d758d\"}, {\"attributes\": {}, \"type\": \"ToolEvents\", \"id\": \"d49a5773-de0a-4493-a1ce-b079197eaa6f\"}, {\"attributes\": {\"plot\": {\"subtype\": \"Chart\", \"type\": \"Plot\", \"id\": \"47bc8d2d-d405-48ff-b513-972d28b02732\"}, \"ticker\": {\"type\": \"BasicTicker\", \"id\": \"1cb247a4-efb2-479e-85e5-39a312ac1536\"}, \"dimension\": 1}, \"type\": \"Grid\", \"id\": \"23086db0-0b90-492e-90eb-b80337d21bdd\"}, {\"attributes\": {\"line_color\": {\"value\": \"#1f77b4\"}, \"line_alpha\": {\"value\": 0.1}, \"y\": {\"field\": \"y\"}, \"x\": {\"field\": \"x\"}, \"line_width\": {\"value\": 2}}, \"type\": \"Line\", \"id\": \"fce428e9-ef27-4ce1-864c-dad045f373e7\"}, {\"attributes\": {\"line_color\": {\"field\": \"line_color\"}, \"fill_color\": {\"field\": \"color\"}, \"fill_alpha\": {\"field\": \"fill_alpha\"}, \"height\": {\"units\": \"data\", \"field\": \"height\"}, \"width\": {\"units\": \"data\", \"field\": \"width\"}, \"y\": {\"field\": \"y\"}, \"x\": {\"field\": \"x\"}}, \"type\": \"Rect\", \"id\": \"dbcdd2b1-43b8-4f38-8c03-85f2d7b284f3\"}, {\"attributes\": {\"plot\": {\"subtype\": \"Figure\", \"type\": \"Plot\", \"id\": \"f68da6b1-69d3-40ba-b453-7029bfcffb96\"}}, \"type\": \"ResizeTool\", \"id\": \"b0f30c48-470f-4f87-a57e-10b47dd94f5e\"}, {\"attributes\": {\"plot\": {\"subtype\": \"Figure\", \"type\": \"Plot\", \"id\": \"f68da6b1-69d3-40ba-b453-7029bfcffb96\"}, \"overlay\": {\"type\": \"BoxAnnotation\", \"id\": \"62ce25c9-14cd-439d-9abf-424868b97bfe\"}}, \"type\": \"BoxZoomTool\", \"id\": \"c437b914-b01f-41b7-852e-f22f541f00d0\"}, {\"attributes\": {\"line_color\": {\"value\": \"#1f77b4\"}, \"line_width\": {\"value\": 2}, \"y\": {\"field\": \"y\"}, \"x\": {\"field\": \"x\"}}, \"type\": \"Line\", \"id\": \"074e975a-887c-4a07-acd6-e3aa48ec2be4\"}, {\"attributes\": {\"x_range\": {\"type\": \"FactorRange\", \"id\": \"15f3a98b-5a8e-4de1-8ed3-3c883802ab5c\"}, \"y_mapper_type\": \"auto\", \"title_text_font_size\": {\"value\": \"14pt\"}, \"yscale\": \"auto\", \"y_range\": {\"type\": \"Range1d\", \"id\": \"35686063-5b94-4b33-8ae0-69e37c9e62ce\"}, \"x_mapper_type\": \"auto\", \"renderers\": [{\"type\": \"BoxAnnotation\", \"id\": \"b3d96623-c762-4984-aab5-d5f8a84d0bb4\"}, {\"type\": \"GlyphRenderer\", \"id\": \"10acc680-0e55-4626-a52c-9d3830a11194\"}, {\"type\": \"GlyphRenderer\", \"id\": \"37a9eba7-8c7e-4a1f-9e66-aa20f9531917\"}, {\"type\": \"GlyphRenderer\", \"id\": \"d7be3778-d21b-4378-b520-b332e561d972\"}, {\"type\": \"CategoricalAxis\", \"id\": \"792573dd-eb44-4e9c-9d76-0585f590c87f\"}, {\"type\": \"LinearAxis\", \"id\": \"9b1a02a5-410d-4dfa-ad98-6b45879b8560\"}, {\"type\": \"Grid\", \"id\": \"23086db0-0b90-492e-90eb-b80337d21bdd\"}], \"plot_width\": 400, \"xgrid\": false, \"below\": [{\"type\": \"CategoricalAxis\", \"id\": \"792573dd-eb44-4e9c-9d76-0585f590c87f\"}], \"tool_events\": {\"type\": \"ToolEvents\", \"id\": \"d49a5773-de0a-4493-a1ce-b079197eaa6f\"}, \"plot_height\": 400, \"xscale\": \"auto\", \"tools\": [{\"type\": \"PanTool\", \"id\": \"ff220328-7288-4236-98b4-37cdd8660552\"}, {\"type\": \"WheelZoomTool\", \"id\": \"1e3e9652-4f5a-4a72-9d34-57636f9b7649\"}, {\"type\": \"BoxZoomTool\", \"id\": \"1c36072e-0bf6-4b7b-a120-21520c6c6b97\"}, {\"type\": \"PreviewSaveTool\", \"id\": \"182b39c4-1ee7-49c2-b6e6-71828ca3a7be\"}, {\"type\": \"ResizeTool\", \"id\": \"64b600f8-2730-4ae9-abf8-b183fa753f40\"}, {\"type\": \"ResetTool\", \"id\": \"d5b1c977-4a5e-44d6-b82d-13308ac1a6ae\"}, {\"type\": \"HelpTool\", \"id\": \"017506cf-cf1a-4089-a892-8f4f46ed22e7\"}], \"legend\": null, \"left\": [{\"type\": \"LinearAxis\", \"id\": \"9b1a02a5-410d-4dfa-ad98-6b45879b8560\"}]}, \"type\": \"Plot\", \"id\": \"47bc8d2d-d405-48ff-b513-972d28b02732\", \"subtype\": \"Chart\"}, {\"attributes\": {\"plot\": {\"subtype\": \"Chart\", \"type\": \"Plot\", \"id\": \"47bc8d2d-d405-48ff-b513-972d28b02732\"}}, \"type\": \"PanTool\", \"id\": \"ff220328-7288-4236-98b4-37cdd8660552\"}, {\"attributes\": {\"line_color\": {\"value\": \"#1f77b4\"}, \"x\": {\"field\": \"x\"}, \"y\": {\"field\": \"y\"}, \"fill_color\": {\"value\": \"white\"}, \"size\": {\"units\": \"screen\", \"value\": 8}}, \"type\": \"Circle\", \"id\": \"bf265943-1a17-485e-aa6e-d14b19cb9bca\"}, {\"attributes\": {\"callback\": null, \"column_names\": [\"y\", \"x\"], \"data\": {\"y\": [0.9821128714317003, 0.9883890210559955, 0.9912191990698407, 0.9926077154550996, 0.9934271147723699, 0.9942291412146989, 0.9947342910720529, 0.9951831935547358, 0.9955050581978345], \"x\": [100, 200, 300, 400, 500, 600, 700, 800, 900]}}, \"type\": \"ColumnDataSource\", \"id\": \"96c8519e-ff60-4336-9740-91969b0132d4\"}, {\"attributes\": {}, \"type\": \"CategoricalTicker\", \"id\": \"af7f6ea3-bb35-4be5-b952-3dd515fc0f82\"}, {\"attributes\": {}, \"type\": \"BasicTicker\", \"id\": \"05623022-54f7-4960-9976-c611ab42415e\"}, {\"attributes\": {\"major_label_orientation\": 0.7853981633974483, \"plot\": {\"subtype\": \"Chart\", \"type\": \"Plot\", \"id\": \"47bc8d2d-d405-48ff-b513-972d28b02732\"}, \"axis_label\": \"Type\", \"formatter\": {\"type\": \"CategoricalTickFormatter\", \"id\": \"c89bbe82-2e14-47d6-8c40-47d147a6247e\"}, \"ticker\": {\"type\": \"CategoricalTicker\", \"id\": \"af7f6ea3-bb35-4be5-b952-3dd515fc0f82\"}}, \"type\": \"CategoricalAxis\", \"id\": \"792573dd-eb44-4e9c-9d76-0585f590c87f\"}, {\"attributes\": {}, \"type\": \"ToolEvents\", \"id\": \"f41d0940-8c88-4055-85c0-adf81e8fe991\"}, {\"attributes\": {\"nonselection_glyph\": null, \"data_source\": {\"type\": \"ColumnDataSource\", \"id\": \"dc188118-6ac9-48bb-9adc-013d5a88747a\"}, \"selection_glyph\": null, \"hover_glyph\": null, \"glyph\": {\"type\": \"Rect\", \"id\": \"ec331ee9-d2fa-4be5-9136-a5870018325d\"}}, \"type\": \"GlyphRenderer\", \"id\": \"37a9eba7-8c7e-4a1f-9e66-aa20f9531917\"}, {\"attributes\": {\"callback\": null, \"column_names\": [\"y\", \"x\"], \"data\": {\"y\": [0.9821128714317003, 0.9883890210559955, 0.9912191990698407, 0.9926077154550996, 0.9934271147723699, 0.9942291412146989, 0.9947342910720529, 0.9951831935547358, 0.9955050581978345], \"x\": [100, 200, 300, 400, 500, 600, 700, 800, 900]}}, \"type\": \"ColumnDataSource\", \"id\": \"e97f838b-dbd4-48d5-83e6-f46fd0f722aa\"}, {\"attributes\": {\"plot\": {\"subtype\": \"Chart\", \"type\": \"Plot\", \"id\": \"47bc8d2d-d405-48ff-b513-972d28b02732\"}}, \"type\": \"ResizeTool\", \"id\": \"64b600f8-2730-4ae9-abf8-b183fa753f40\"}, {\"attributes\": {\"callback\": null, \"factors\": [\"csr\", \"tf2\", \"tfm2\"]}, \"type\": \"FactorRange\", \"id\": \"15f3a98b-5a8e-4de1-8ed3-3c883802ab5c\"}, {\"attributes\": {\"plot\": {\"subtype\": \"Chart\", \"type\": \"Plot\", \"id\": \"47bc8d2d-d405-48ff-b513-972d28b02732\"}, \"overlay\": {\"type\": \"BoxAnnotation\", \"id\": \"b3d96623-c762-4984-aab5-d5f8a84d0bb4\"}}, \"type\": \"BoxZoomTool\", \"id\": \"1c36072e-0bf6-4b7b-a120-21520c6c6b97\"}, {\"attributes\": {}, \"type\": \"BasicTickFormatter\", \"id\": \"dbbcafdc-c22b-49aa-b69a-d06dcad655f2\"}, {\"attributes\": {\"callback\": null, \"column_names\": [\"line_color\", \"line_alpha\", \"color\", \"fill_alpha\", \"height\", \"width\", \"y\", \"x\"], \"data\": {\"line_color\": [\"white\"], \"line_alpha\": [1.0], \"chart_index\": [{\"Type\": \"csr\"}], \"color\": [\"#f22c40\"], \"fill_alpha\": [0.8], \"height\": [64.0], \"width\": [0.8], \"y\": [32.0], \"x\": [\"csr\"], \"Type\": [\"csr\"]}}, \"type\": \"ColumnDataSource\", \"id\": \"dc188118-6ac9-48bb-9adc-013d5a88747a\"}, {\"attributes\": {\"line_color\": {\"value\": \"black\"}, \"line_alpha\": {\"value\": 1.0}, \"render_mode\": \"css\", \"bottom_units\": \"screen\", \"level\": \"overlay\", \"top_units\": \"screen\", \"fill_alpha\": {\"value\": 0.5}, \"plot\": null, \"left_units\": \"screen\", \"line_dash\": [4, 4], \"line_width\": {\"value\": 2}, \"right_units\": \"screen\", \"fill_color\": {\"value\": \"lightgrey\"}}, \"type\": \"BoxAnnotation\", \"id\": \"62ce25c9-14cd-439d-9abf-424868b97bfe\"}, {\"attributes\": {\"plot\": {\"subtype\": \"Figure\", \"type\": \"Plot\", \"id\": \"f68da6b1-69d3-40ba-b453-7029bfcffb96\"}}, \"type\": \"HelpTool\", \"id\": \"0b3c1590-9ed6-4bb3-87c8-528aab96d4fd\"}, {\"attributes\": {\"plot\": {\"subtype\": \"Figure\", \"type\": \"Plot\", \"id\": \"f68da6b1-69d3-40ba-b453-7029bfcffb96\"}, \"ticker\": {\"type\": \"BasicTicker\", \"id\": \"05623022-54f7-4960-9976-c611ab42415e\"}}, \"type\": \"Grid\", \"id\": \"f4d2f885-a42d-4fbd-b4dc-c48fffa7a267\"}, {\"attributes\": {\"line_color\": {\"value\": \"black\"}, \"line_alpha\": {\"value\": 1.0}, \"render_mode\": \"css\", \"bottom_units\": \"screen\", \"level\": \"overlay\", \"top_units\": \"screen\", \"fill_alpha\": {\"value\": 0.5}, \"plot\": null, \"left_units\": \"screen\", \"line_dash\": [4, 4], \"line_width\": {\"value\": 2}, \"right_units\": \"screen\", \"fill_color\": {\"value\": \"lightgrey\"}}, \"type\": \"BoxAnnotation\", \"id\": \"b3d96623-c762-4984-aab5-d5f8a84d0bb4\"}, {\"attributes\": {}, \"type\": \"CategoricalTickFormatter\", \"id\": \"c89bbe82-2e14-47d6-8c40-47d147a6247e\"}, {\"attributes\": {\"x_range\": {\"type\": \"DataRange1d\", \"id\": \"54301cf1-6f3a-4ae2-82b9-3c52c0826cf8\"}, \"y_range\": {\"type\": \"DataRange1d\", \"id\": \"96a4a2a1-3432-4287-b910-47fa9ff83c65\"}, \"renderers\": [{\"type\": \"LinearAxis\", \"id\": \"ddf3a82b-3001-4a39-b7f6-2cc60bc5905a\"}, {\"type\": \"Grid\", \"id\": \"f4d2f885-a42d-4fbd-b4dc-c48fffa7a267\"}, {\"type\": \"LinearAxis\", \"id\": \"849e3f94-8b42-48f2-a57b-a3ffe9a74ac8\"}, {\"type\": \"Grid\", \"id\": \"e4b18204-c54b-4b75-9a30-4b1753b4b61b\"}, {\"type\": \"BoxAnnotation\", \"id\": \"62ce25c9-14cd-439d-9abf-424868b97bfe\"}, {\"type\": \"GlyphRenderer\", \"id\": \"c6164b92-ae6f-48ce-9bb2-cdcdf510a394\"}, {\"type\": \"GlyphRenderer\", \"id\": \"fc5bc885-bc88-440f-aa10-cc5d315d758d\"}], \"plot_width\": 400, \"below\": [{\"type\": \"LinearAxis\", \"id\": \"ddf3a82b-3001-4a39-b7f6-2cc60bc5905a\"}], \"tool_events\": {\"type\": \"ToolEvents\", \"id\": \"f41d0940-8c88-4055-85c0-adf81e8fe991\"}, \"plot_height\": 400, \"tools\": [{\"type\": \"PanTool\", \"id\": \"4db4629e-b11e-4f19-8b09-b353ac91f42d\"}, {\"type\": \"WheelZoomTool\", \"id\": \"d39241da-3d38-4955-aa38-03279bcba69e\"}, {\"type\": \"BoxZoomTool\", \"id\": \"c437b914-b01f-41b7-852e-f22f541f00d0\"}, {\"type\": \"PreviewSaveTool\", \"id\": \"1a3e7a8d-3cad-4515-bf45-d71453e977d7\"}, {\"type\": \"ResizeTool\", \"id\": \"b0f30c48-470f-4f87-a57e-10b47dd94f5e\"}, {\"type\": \"ResetTool\", \"id\": \"13029b45-5581-4080-a9a2-112de4cf056f\"}, {\"type\": \"HelpTool\", \"id\": \"0b3c1590-9ed6-4bb3-87c8-528aab96d4fd\"}], \"left\": [{\"type\": \"LinearAxis\", \"id\": \"849e3f94-8b42-48f2-a57b-a3ffe9a74ac8\"}]}, \"type\": \"Plot\", \"id\": \"f68da6b1-69d3-40ba-b453-7029bfcffb96\", \"subtype\": \"Figure\"}, {\"attributes\": {\"nonselection_glyph\": null, \"data_source\": {\"type\": \"ColumnDataSource\", \"id\": \"1bece8a5-3240-4e7e-ac64-8d3b35d4f64c\"}, \"selection_glyph\": null, \"hover_glyph\": null, \"glyph\": {\"type\": \"Rect\", \"id\": \"dbcdd2b1-43b8-4f38-8c03-85f2d7b284f3\"}}, \"type\": \"GlyphRenderer\", \"id\": \"10acc680-0e55-4626-a52c-9d3830a11194\"}, {\"attributes\": {\"plot\": {\"subtype\": \"Figure\", \"type\": \"Plot\", \"id\": \"f68da6b1-69d3-40ba-b453-7029bfcffb96\"}}, \"type\": \"ResetTool\", \"id\": \"13029b45-5581-4080-a9a2-112de4cf056f\"}]}, \"title\": \"Bokeh Application\"}};\n",
       "            var render_items = [{\"notebook_comms_target\": \"da9c154f-35d2-421c-9346-7577a659acaa\", \"docid\": \"dd876ff2-1293-45d6-a58f-1a3121d1b212\", \"elementid\": \"c4a16189-b418-4ae2-800e-bd25a836205a\", \"modelid\": \"47bc8d2d-d405-48ff-b513-972d28b02732\"}];\n",
       "            \n",
       "            Bokeh.embed.embed_items(docs_json, render_items);\n",
       "        });\n",
       "      },\n",
       "      function(Bokeh) {\n",
       "      }\n",
       "    ];\n",
       "  \n",
       "    function run_inline_js() {\n",
       "      for (var i = 0; i < inline_js.length; i++) {\n",
       "        inline_js[i](window.Bokeh);\n",
       "      }\n",
       "    }\n",
       "  \n",
       "    if (window._bokeh_is_loading === 0) {\n",
       "      console.log(\"Bokeh: BokehJS loaded, going straight to plotting\");\n",
       "      run_inline_js();\n",
       "    } else {\n",
       "      load_libs(js_urls, function() {\n",
       "        console.log(\"Bokeh: BokehJS plotting callback run at\", now());\n",
       "        run_inline_js();\n",
       "      });\n",
       "    }\n",
       "  }(this));\n",
       "</script>"
      ]
     },
     "metadata": {},
     "output_type": "display_data"
    },
    {
     "data": {
      "text/plain": [
       "<bokeh.io._CommsHandle at 0x7fad862b3790>"
      ]
     },
     "execution_count": 12,
     "metadata": {},
     "output_type": "execute_result"
    }
   ],
   "source": [
    "tfm=csr_matrix(tfm2(corpus)[0])\n",
    "print(tfm[0,:])\n",
    "\n",
    "l = ['tf2','tfm2','csr']\n",
    "s = [getsizeof(tf2(corpus)[0]) , getsizeof(tfm2(corpus)[0]), getsizeof(csr_matrix(tfm2(corpus)[0]))]\n",
    "\n",
    "df = pd.DataFrame({'Type':l, 'Size':s})\n",
    "\n",
    "output_notebook(hide_banner=True)\n",
    "p = Bar(df.sort_values(by='Size'), label='Type', values='Size',\n",
    "        plot_width=400, plot_height=400)\n",
    "show(p)"
   ]
  },
  {
   "cell_type": "markdown",
   "metadata": {
    "collapsed": false
   },
   "source": [
    "## Boolean Search\n",
    "\n",
    "Now we have a tf matrix we can start to use it to find documents that contain words included in a query.  We will start by simply returning the documents from the corpus that match terms in our query and rank by raw term frequency:"
   ]
  },
  {
   "cell_type": "code",
   "execution_count": 13,
   "metadata": {
    "collapsed": false
   },
   "outputs": [
    {
     "name": "stdout",
     "output_type": "stream",
     "text": [
      "\n",
      "Top 10 from recall set of 5070 items ordered by tf-idf:\n",
      "\t8.00 - frog waterproof bike light set led white front light led red rear light\n",
      "\t7.00 - bicycle bike led front head torch light led back rear tail flashlight lamp\n",
      "\t6.00 - ultra bright waterproof silicon led bicycle light set led front rear light\n",
      "\t6.00 - planet bike spok micro led front and back bike light set\n",
      "\t6.00 - waterproof white red led front head lamp led rear bike light set\n",
      "\t5.00 - x led bicycle bike cycling silicone head front rear wheel safety light lamp tl\n",
      "\t5.00 - usb rechargeable bike bicycle light rear back safety tail light red new be\n",
      "\t5.00 - cycling bike bicycle led front light head light torch mount aaa\n",
      "\t5.00 - x led bicycle bike cycling silicone head front rear wheel safety light lamp\n",
      "\t5.00 - waterproof led lamp bike bicycle front head light rear safety flashlight\n"
     ]
    }
   ],
   "source": [
    "def get_results1(qry, tfm, lexicon):\n",
    "    qrv = [0]*len(lexicon)\n",
    "    for term in qry.split():\n",
    "        if term in lexicon:\n",
    "            qrv[lexicon.index(term)] = 1\n",
    "\n",
    "    results = []      \n",
    "    for i, tfv in enumerate(tfm):\n",
    "        score = sum([x[0] * x[1] for x in zip(tfv, qrv)])\n",
    "        if score > 0:\n",
    "               results.append([score, i])\n",
    "    return results\n",
    "\n",
    "def print_results(results,n, head=True):\n",
    "    if head:    \n",
    "        print('\\nTop %d from recall set of %d items ordered by tf-idf:' % (n,len(results)))\n",
    "        for r in sorted(results, key=lambda t: t[0] * -1 )[:n]:\n",
    "            print('\\t%0.2f - %s'%(r[0],items_t[r[1]]))\n",
    "    else:\n",
    "        print('\\nBottom %d from recall set of %d items ordered by tf-idf:' % (n,len(results)))\n",
    "        for r in sorted(results, key=lambda t: t[0] * 1 )[:n]:\n",
    "            print('\\t%0.2f - %s'%(r[0],items_t[r[1]]))\n",
    "    \n",
    "tfm, lexicon = tfm2(items_t)\n",
    "results = get_results1('front rear back led bike light', tfm , lexicon)\n",
    "\n",
    "print_results(results,10)\n"
   ]
  },
  {
   "cell_type": "markdown",
   "metadata": {},
   "source": [
    "But this is an expensive operation.  Each query has to be compared to all documents in the corpus.  We can speed this up by creating an inverted index:"
   ]
  },
  {
   "cell_type": "code",
   "execution_count": 14,
   "metadata": {
    "collapsed": false
   },
   "outputs": [
    {
     "name": "stdout",
     "output_type": "stream",
     "text": [
      "set([512, 2049, 9733, 5131, 3597, 1039, 5648, 8212, 8729, 2075, 7708, 1825, 7198, 5893, 3618, 9753, 2597, 9768, 6697, 1582, 9263, 9264, 8242, 7859, 565, 2615, 6712, 8763, 4164, 581, 7437, 8269, 9295, 1107, 3156, 599, 1380, 7258, 5612, 8288, 609, 6244, 8807, 9660, 6247, 3181, 1135, 3697, 4722, 1651, 2676, 8824, 5140, 2682, 4219, 1660, 9341, 7806, 9344, 6274, 9859, 9860, 136, 5771, 7823, 9873, 1175, 3224, 9370, 9883, 7837, 8867, 9841, 3671, 2219, 2734, 9393, 9587, 3611, 7881, 7864, 6772, 699, 2749, 8896, 7457, 6344, 4809, 6859, 5330, 3795, 9429, 5241, 8408, 6361, 1254, 4839, 4331, 3310, 7805, 8437, 9257, 8954, 251, 7933, 2302, 9471, 3840, 5889, 4866, 9477, 6407, 1884, 9346, 1294, 4370, 6419, 7956, 1815, 6424, 8473, 794, 289, 9216, 5937, 1320, 9513, 4402, 7985, 6962, 8499, 4404, 5429, 3977, 6456, 1209, 4000, 7495, 9546, 6711, 4942, 2387, 2903, 9564, 1373, 9060, 1895, 8553, 9815, 5351, 2412, 3437, 9582, 8560, 6514, 4467, 2025, 7033, 8571, 1404, 9086, 1941, 8577, 9602, 4483, 7613, 905, 9879, 8077, 4499, 3822, 7064, 3483, 1690, 5701, 9632, 7078, 5033, 2474, 9644, 9141, 8118, 9145, 956, 8637, 4057, 8129, 9154, 1989, 9672, 1783, 5582, 8665, 9692, 7647, 993, 6628, 8681, 1516, 7893, 9715, 7157, 5046, 7676, 5802])\n",
      "silicone bike bicycle cycling head front rear wheel led flash light lamp buy\n"
     ]
    }
   ],
   "source": [
    "def create_inverted_index(corpus):\n",
    "    idx={}\n",
    "    for i, doc in enumerate(corpus):\n",
    "        for word in doc.split():\n",
    "            if word in idx:\n",
    "                idx[word].append(i)\n",
    "            else:\n",
    "                idx[word] = [i]\n",
    "    return idx\n",
    "            \n",
    "idx = create_inverted_index(items_t)\n",
    "\n",
    "print(set(idx['front']).intersection(set(idx['rear'])))\n",
    "print(items_t[7676])\n"
   ]
  },
  {
   "cell_type": "markdown",
   "metadata": {},
   "source": [
    "Now we just have to query for each of the terms and produce a set of results:"
   ]
  },
  {
   "cell_type": "code",
   "execution_count": 15,
   "metadata": {
    "collapsed": false,
    "scrolled": true
   },
   "outputs": [
    {
     "name": "stdout",
     "output_type": "stream",
     "text": [
      "100 loops, best of 3: 4.4 ms per loop\n",
      "\n",
      "Top 10 from recall set of 5070 items ordered by tf-idf:\n",
      "\t8.00 - frog waterproof bike light set led white front light led red rear light\n",
      "\t7.00 - bicycle bike led front head torch light led back rear tail flashlight lamp\n",
      "\t6.00 - ultra bright waterproof silicon led bicycle light set led front rear light\n",
      "\t6.00 - planet bike spok micro led front and back bike light set\n",
      "\t6.00 - waterproof white red led front head lamp led rear bike light set\n",
      "\t5.00 - x led bicycle bike cycling silicone head front rear wheel safety light lamp tl\n",
      "\t5.00 - usb rechargeable bike bicycle light rear back safety tail light red new be\n",
      "\t5.00 - cycling bike bicycle led front light head light torch mount aaa\n",
      "\t5.00 - x led bicycle bike cycling silicone head front rear wheel safety light lamp\n",
      "\t5.00 - waterproof led lamp bike bicycle front head light rear safety flashlight\n"
     ]
    }
   ],
   "source": [
    "def get_results2(qry, idx):\n",
    "\n",
    "    score = Counter()\n",
    "    terms = qry.split()\n",
    "    for term in terms:\n",
    "        for doc in idx[term]:\n",
    "            score[doc] += 1\n",
    "            \n",
    "    results=[]\n",
    "    for x in [[r[0],r[1]] for r in zip(score.keys(), score.values())]:\n",
    "        if x[1] > 0:\n",
    "            # output [0] score, [1] doc_id\n",
    "            results.append([x[1],x[0]])\n",
    "\n",
    "    return results;\n",
    "\n",
    "\n",
    "idx = create_inverted_index(items_t)\n",
    "%timeit results = get_results2('front rear back led bike light', idx)\n",
    "\n",
    "print_results(results,10)\n"
   ]
  },
  {
   "cell_type": "markdown",
   "metadata": {},
   "source": [
    "We get a lot of documents in the recall set since many match on one of the words - bike is present in almost every other document!"
   ]
  },
  {
   "cell_type": "code",
   "execution_count": 16,
   "metadata": {
    "collapsed": false
   },
   "outputs": [
    {
     "data": {
      "text/html": [
       "\n",
       "\n",
       "    <script type=\"text/javascript\">\n",
       "      \n",
       "      (function(global) {\n",
       "        function now() {\n",
       "          return new Date();\n",
       "        }\n",
       "      \n",
       "        if (typeof (window._bokeh_onload_callbacks) === \"undefined\") {\n",
       "          window._bokeh_onload_callbacks = [];\n",
       "        }\n",
       "      \n",
       "        function run_callbacks() {\n",
       "          window._bokeh_onload_callbacks.forEach(function(callback) { callback() });\n",
       "          delete window._bokeh_onload_callbacks\n",
       "          console.info(\"Bokeh: all callbacks have finished\");\n",
       "        }\n",
       "      \n",
       "        function load_libs(js_urls, callback) {\n",
       "          window._bokeh_onload_callbacks.push(callback);\n",
       "          if (window._bokeh_is_loading > 0) {\n",
       "            console.log(\"Bokeh: BokehJS is being loaded, scheduling callback at\", now());\n",
       "            return null;\n",
       "          }\n",
       "          if (js_urls == null || js_urls.length === 0) {\n",
       "            run_callbacks();\n",
       "            return null;\n",
       "          }\n",
       "          console.log(\"Bokeh: BokehJS not loaded, scheduling load and callback at\", now());\n",
       "          window._bokeh_is_loading = js_urls.length;\n",
       "          for (var i = 0; i < js_urls.length; i++) {\n",
       "            var url = js_urls[i];\n",
       "            var s = document.createElement('script');\n",
       "            s.src = url;\n",
       "            s.async = false;\n",
       "            s.onreadystatechange = s.onload = function() {\n",
       "              window._bokeh_is_loading--;\n",
       "              if (window._bokeh_is_loading === 0) {\n",
       "                console.log(\"Bokeh: all BokehJS libraries loaded\");\n",
       "                run_callbacks()\n",
       "              }\n",
       "            };\n",
       "            s.onerror = function() {\n",
       "              console.warn(\"failed to load library \" + url);\n",
       "            };\n",
       "            console.log(\"Bokeh: injecting script tag for BokehJS library: \", url);\n",
       "            document.getElementsByTagName(\"head\")[0].appendChild(s);\n",
       "          }\n",
       "        };var js_urls = ['https://cdn.pydata.org/bokeh/release/bokeh-0.11.0.min.js', 'https://cdn.pydata.org/bokeh/release/bokeh-widgets-0.11.0.min.js', 'https://cdn.pydata.org/bokeh/release/bokeh-compiler-0.11.0.min.js'];\n",
       "      \n",
       "        var inline_js = [\n",
       "          function(Bokeh) {\n",
       "            Bokeh.set_log_level(\"info\");\n",
       "          },\n",
       "          function(Bokeh) {\n",
       "            console.log(\"Bokeh: injecting CSS: https://cdn.pydata.org/bokeh/release/bokeh-0.11.0.min.css\");\n",
       "            Bokeh.embed.inject_css(\"https://cdn.pydata.org/bokeh/release/bokeh-0.11.0.min.css\");\n",
       "            console.log(\"Bokeh: injecting CSS: https://cdn.pydata.org/bokeh/release/bokeh-widgets-0.11.0.min.css\");\n",
       "            Bokeh.embed.inject_css(\"https://cdn.pydata.org/bokeh/release/bokeh-widgets-0.11.0.min.css\");\n",
       "          }\n",
       "        ];\n",
       "      \n",
       "        function run_inline_js() {\n",
       "          for (var i = 0; i < inline_js.length; i++) {\n",
       "            inline_js[i](window.Bokeh);\n",
       "          }\n",
       "        }\n",
       "      \n",
       "        if (window._bokeh_is_loading === 0) {\n",
       "          console.log(\"Bokeh: BokehJS loaded, going straight to plotting\");\n",
       "          run_inline_js();\n",
       "        } else {\n",
       "          load_libs(js_urls, function() {\n",
       "            console.log(\"Bokeh: BokehJS plotting callback run at\", now());\n",
       "            run_inline_js();\n",
       "          });\n",
       "        }\n",
       "      }(this));\n",
       "    </script>"
      ]
     },
     "metadata": {},
     "output_type": "display_data"
    },
    {
     "data": {
      "text/html": [
       "\n",
       "\n",
       "    <div class=\"plotdiv\" id=\"d133bb91-fdd7-412f-b394-3dac9bd33d16\"></div>\n",
       "<script type=\"text/javascript\">\n",
       "  \n",
       "  (function(global) {\n",
       "    function now() {\n",
       "      return new Date();\n",
       "    }\n",
       "  \n",
       "    if (typeof (window._bokeh_onload_callbacks) === \"undefined\") {\n",
       "      window._bokeh_onload_callbacks = [];\n",
       "    }\n",
       "  \n",
       "    function run_callbacks() {\n",
       "      window._bokeh_onload_callbacks.forEach(function(callback) { callback() });\n",
       "      delete window._bokeh_onload_callbacks\n",
       "      console.info(\"Bokeh: all callbacks have finished\");\n",
       "    }\n",
       "  \n",
       "    function load_libs(js_urls, callback) {\n",
       "      window._bokeh_onload_callbacks.push(callback);\n",
       "      if (window._bokeh_is_loading > 0) {\n",
       "        console.log(\"Bokeh: BokehJS is being loaded, scheduling callback at\", now());\n",
       "        return null;\n",
       "      }\n",
       "      if (js_urls == null || js_urls.length === 0) {\n",
       "        run_callbacks();\n",
       "        return null;\n",
       "      }\n",
       "      console.log(\"Bokeh: BokehJS not loaded, scheduling load and callback at\", now());\n",
       "      window._bokeh_is_loading = js_urls.length;\n",
       "      for (var i = 0; i < js_urls.length; i++) {\n",
       "        var url = js_urls[i];\n",
       "        var s = document.createElement('script');\n",
       "        s.src = url;\n",
       "        s.async = false;\n",
       "        s.onreadystatechange = s.onload = function() {\n",
       "          window._bokeh_is_loading--;\n",
       "          if (window._bokeh_is_loading === 0) {\n",
       "            console.log(\"Bokeh: all BokehJS libraries loaded\");\n",
       "            run_callbacks()\n",
       "          }\n",
       "        };\n",
       "        s.onerror = function() {\n",
       "          console.warn(\"failed to load library \" + url);\n",
       "        };\n",
       "        console.log(\"Bokeh: injecting script tag for BokehJS library: \", url);\n",
       "        document.getElementsByTagName(\"head\")[0].appendChild(s);\n",
       "      }\n",
       "    };var element = document.getElementById(\"d133bb91-fdd7-412f-b394-3dac9bd33d16\");\n",
       "    if (element == null) {\n",
       "      console.log(\"Bokeh: ERROR: autoload.js configured with elementid 'd133bb91-fdd7-412f-b394-3dac9bd33d16' but no matching script tag was found. \")\n",
       "      return false;\n",
       "    }var js_urls = [];\n",
       "  \n",
       "    var inline_js = [\n",
       "      function(Bokeh) {\n",
       "        Bokeh.$(function() {\n",
       "            var docs_json = {\"ca978880-46ea-4074-aa39-a2ad879bca5a\": {\"version\": \"0.11.0\", \"roots\": {\"root_ids\": [\"f68da6b1-69d3-40ba-b453-7029bfcffb96\", \"47bc8d2d-d405-48ff-b513-972d28b02732\", \"96d9a664-a197-4479-94f9-4a591061ec34\"], \"references\": [{\"attributes\": {}, \"type\": \"BasicTicker\", \"id\": \"0c9ec88b-03c1-4e4d-9b75-0c6fa9740dde\"}, {\"attributes\": {\"callback\": null, \"column_names\": [\"line_color\", \"line_alpha\", \"color\", \"fill_alpha\", \"height\", \"width\", \"y\", \"x\"], \"data\": {\"line_color\": [\"white\"], \"line_alpha\": [1.0], \"chart_index\": [{\"term\": \"mountain\"}], \"color\": [\"#f22c40\"], \"fill_alpha\": [0.8], \"term\": [\"mountain\"], \"height\": [840.0], \"width\": [0.8], \"y\": [420.0], \"x\": [\"mountain\"]}}, \"type\": \"ColumnDataSource\", \"id\": \"63c3fad3-d425-4ef5-961d-626ee02f79dc\"}, {\"attributes\": {\"callback\": null, \"column_names\": [\"line_color\", \"line_alpha\", \"color\", \"fill_alpha\", \"height\", \"width\", \"y\", \"x\"], \"data\": {\"line_color\": [\"white\"], \"line_alpha\": [1.0], \"chart_index\": [{\"term\": \"new\"}], \"color\": [\"#f22c40\"], \"fill_alpha\": [0.8], \"term\": [\"new\"], \"height\": [2163.0], \"width\": [0.8], \"y\": [1081.5], \"x\": [\"new\"]}}, \"type\": \"ColumnDataSource\", \"id\": \"9d7a89ba-e3f0-4919-b4f1-d3a36bc7d519\"}, {\"attributes\": {\"plot\": {\"subtype\": \"Chart\", \"type\": \"Plot\", \"id\": \"47bc8d2d-d405-48ff-b513-972d28b02732\"}}, \"type\": \"PreviewSaveTool\", \"id\": \"182b39c4-1ee7-49c2-b6e6-71828ca3a7be\"}, {\"attributes\": {\"nonselection_glyph\": null, \"data_source\": {\"type\": \"ColumnDataSource\", \"id\": \"53f97848-9761-46fa-8b92-74f3a22fc04a\"}, \"selection_glyph\": null, \"hover_glyph\": null, \"glyph\": {\"type\": \"Rect\", \"id\": \"e39a53d3-f997-4043-a941-98ed72ae6be7\"}}, \"type\": \"GlyphRenderer\", \"id\": \"1a3a2dbd-87ec-4e3e-aadd-6b6445f7161b\"}, {\"attributes\": {\"nonselection_glyph\": null, \"data_source\": {\"type\": \"ColumnDataSource\", \"id\": \"9d7a89ba-e3f0-4919-b4f1-d3a36bc7d519\"}, \"selection_glyph\": null, \"hover_glyph\": null, \"glyph\": {\"type\": \"Rect\", \"id\": \"addfc071-9dee-436d-a391-5c80c17835bd\"}}, \"type\": \"GlyphRenderer\", \"id\": \"e767a7ab-ad2e-4e8e-b3fd-a6d57c827d9d\"}, {\"attributes\": {\"line_color\": {\"value\": \"#1f77b4\"}, \"line_alpha\": {\"value\": 0.1}, \"fill_color\": {\"value\": \"#1f77b4\"}, \"fill_alpha\": {\"value\": 0.1}, \"y\": {\"field\": \"y\"}, \"x\": {\"field\": \"x\"}, \"size\": {\"units\": \"screen\", \"value\": 8}}, \"type\": \"Circle\", \"id\": \"02b5d4d7-f623-49be-9dc8-7a1db4565b39\"}, {\"attributes\": {\"nonselection_glyph\": null, \"data_source\": {\"type\": \"ColumnDataSource\", \"id\": \"5c45e6ba-4e84-4b88-845d-ed8cf18dd4a6\"}, \"selection_glyph\": null, \"hover_glyph\": null, \"glyph\": {\"type\": \"Rect\", \"id\": \"e6a62a32-0ace-4407-8ad4-5b383e2c4c77\"}}, \"type\": \"GlyphRenderer\", \"id\": \"e0e6ed63-e029-4043-ace9-c6243d65b8f1\"}, {\"attributes\": {\"callback\": null, \"column_names\": [\"line_color\", \"line_alpha\", \"color\", \"fill_alpha\", \"height\", \"width\", \"y\", \"x\"], \"data\": {\"line_color\": [\"white\"], \"line_alpha\": [1.0], \"chart_index\": [{\"term\": \"black\"}], \"color\": [\"#f22c40\"], \"fill_alpha\": [0.8], \"term\": [\"black\"], \"height\": [1423.0], \"width\": [0.8], \"y\": [711.5], \"x\": [\"black\"]}}, \"type\": \"ColumnDataSource\", \"id\": \"4727973a-caeb-405c-ba42-6258a54ef955\"}, {\"attributes\": {\"line_color\": {\"field\": \"line_color\"}, \"fill_color\": {\"field\": \"color\"}, \"fill_alpha\": {\"field\": \"fill_alpha\"}, \"height\": {\"units\": \"data\", \"field\": \"height\"}, \"width\": {\"units\": \"data\", \"field\": \"width\"}, \"y\": {\"field\": \"y\"}, \"x\": {\"field\": \"x\"}}, \"type\": \"Rect\", \"id\": \"2262b4fa-c504-4eb7-b6be-426b559108ba\"}, {\"attributes\": {\"plot\": {\"subtype\": \"Chart\", \"type\": \"Plot\", \"id\": \"96d9a664-a197-4479-94f9-4a591061ec34\"}, \"overlay\": {\"type\": \"BoxAnnotation\", \"id\": \"f4951538-8b70-45db-8054-10d0818dbec6\"}}, \"type\": \"BoxZoomTool\", \"id\": \"233e0130-e2c9-45d8-909a-ef91307e04e0\"}, {\"attributes\": {\"nonselection_glyph\": {\"type\": \"Line\", \"id\": \"fce428e9-ef27-4ce1-864c-dad045f373e7\"}, \"data_source\": {\"type\": \"ColumnDataSource\", \"id\": \"e97f838b-dbd4-48d5-83e6-f46fd0f722aa\"}, \"selection_glyph\": null, \"hover_glyph\": null, \"glyph\": {\"type\": \"Line\", \"id\": \"074e975a-887c-4a07-acd6-e3aa48ec2be4\"}}, \"type\": \"GlyphRenderer\", \"id\": \"c6164b92-ae6f-48ce-9bb2-cdcdf510a394\"}, {\"attributes\": {\"plot\": {\"subtype\": \"Figure\", \"type\": \"Plot\", \"id\": \"f68da6b1-69d3-40ba-b453-7029bfcffb96\"}}, \"type\": \"WheelZoomTool\", \"id\": \"d39241da-3d38-4955-aa38-03279bcba69e\"}, {\"attributes\": {\"nonselection_glyph\": null, \"data_source\": {\"type\": \"ColumnDataSource\", \"id\": \"85cba3a6-e92d-4500-9cb2-8567dc6d2402\"}, \"selection_glyph\": null, \"hover_glyph\": null, \"glyph\": {\"type\": \"Rect\", \"id\": \"ddb441ac-2e83-453f-93f4-0e0a3c411226\"}}, \"type\": \"GlyphRenderer\", \"id\": \"98ebc353-4419-44c8-804a-a3a49f751dd8\"}, {\"attributes\": {\"nonselection_glyph\": null, \"data_source\": {\"type\": \"ColumnDataSource\", \"id\": \"a1faf4c8-150b-4536-a53d-9fd81a146213\"}, \"selection_glyph\": null, \"hover_glyph\": null, \"glyph\": {\"type\": \"Rect\", \"id\": \"32ac8ee0-7ff2-4572-b806-05dc23083113\"}}, \"type\": \"GlyphRenderer\", \"id\": \"00424417-9e00-41ca-88c0-5e219575de00\"}, {\"attributes\": {\"nonselection_glyph\": null, \"data_source\": {\"type\": \"ColumnDataSource\", \"id\": \"63c3fad3-d425-4ef5-961d-626ee02f79dc\"}, \"selection_glyph\": null, \"hover_glyph\": null, \"glyph\": {\"type\": \"Rect\", \"id\": \"db5324cd-d429-462b-8a42-7ce3a412e4e5\"}}, \"type\": \"GlyphRenderer\", \"id\": \"e080920e-c973-4552-b29c-9fe99383f382\"}, {\"attributes\": {\"line_color\": {\"field\": \"line_color\"}, \"fill_color\": {\"field\": \"color\"}, \"fill_alpha\": {\"field\": \"fill_alpha\"}, \"height\": {\"units\": \"data\", \"field\": \"height\"}, \"width\": {\"units\": \"data\", \"field\": \"width\"}, \"y\": {\"field\": \"y\"}, \"x\": {\"field\": \"x\"}}, \"type\": \"Rect\", \"id\": \"660dfe0e-2de5-4cf0-8e24-463d7b970a9a\"}, {\"attributes\": {\"plot\": {\"subtype\": \"Figure\", \"type\": \"Plot\", \"id\": \"f68da6b1-69d3-40ba-b453-7029bfcffb96\"}, \"axis_label\": \"Sparsity\", \"formatter\": {\"type\": \"BasicTickFormatter\", \"id\": \"502a3963-5979-4655-81e1-3963623a9205\"}, \"ticker\": {\"type\": \"BasicTicker\", \"id\": \"0c9ec88b-03c1-4e4d-9b75-0c6fa9740dde\"}}, \"type\": \"LinearAxis\", \"id\": \"849e3f94-8b42-48f2-a57b-a3ffe9a74ac8\"}, {\"attributes\": {\"nonselection_glyph\": {\"type\": \"Circle\", \"id\": \"02b5d4d7-f623-49be-9dc8-7a1db4565b39\"}, \"data_source\": {\"type\": \"ColumnDataSource\", \"id\": \"96c8519e-ff60-4336-9740-91969b0132d4\"}, \"selection_glyph\": null, \"hover_glyph\": null, \"glyph\": {\"type\": \"Circle\", \"id\": \"bf265943-1a17-485e-aa6e-d14b19cb9bca\"}}, \"type\": \"GlyphRenderer\", \"id\": \"fc5bc885-bc88-440f-aa10-cc5d315d758d\"}, {\"attributes\": {\"plot\": {\"subtype\": \"Chart\", \"type\": \"Plot\", \"id\": \"96d9a664-a197-4479-94f9-4a591061ec34\"}, \"axis_label\": \"Sum( Freq )\", \"formatter\": {\"type\": \"BasicTickFormatter\", \"id\": \"b3326702-61e1-4d1b-8796-a10fcc7834a6\"}, \"ticker\": {\"type\": \"BasicTicker\", \"id\": \"b468f222-d3b0-485f-9160-bdf90a037328\"}}, \"type\": \"LinearAxis\", \"id\": \"362c8a17-bdb9-46ec-b493-7416f41ad491\"}, {\"attributes\": {\"nonselection_glyph\": null, \"data_source\": {\"type\": \"ColumnDataSource\", \"id\": \"dc188118-6ac9-48bb-9adc-013d5a88747a\"}, \"selection_glyph\": null, \"hover_glyph\": null, \"glyph\": {\"type\": \"Rect\", \"id\": \"ec331ee9-d2fa-4be5-9136-a5870018325d\"}}, \"type\": \"GlyphRenderer\", \"id\": \"37a9eba7-8c7e-4a1f-9e66-aa20f9531917\"}, {\"attributes\": {\"callback\": null, \"column_names\": [\"line_color\", \"line_alpha\", \"color\", \"fill_alpha\", \"height\", \"width\", \"y\", \"x\"], \"data\": {\"line_color\": [\"white\"], \"line_alpha\": [1.0], \"chart_index\": [{\"term\": \"carbon\"}], \"color\": [\"#f22c40\"], \"fill_alpha\": [0.8], \"term\": [\"carbon\"], \"height\": [484.0], \"width\": [0.8], \"y\": [242.0], \"x\": [\"carbon\"]}}, \"type\": \"ColumnDataSource\", \"id\": \"191db41e-055e-4038-a1aa-067f81d3b149\"}, {\"attributes\": {\"plot\": {\"subtype\": \"Chart\", \"type\": \"Plot\", \"id\": \"47bc8d2d-d405-48ff-b513-972d28b02732\"}}, \"type\": \"HelpTool\", \"id\": \"017506cf-cf1a-4089-a892-8f4f46ed22e7\"}, {\"attributes\": {\"callback\": null, \"column_names\": [\"line_color\", \"line_alpha\", \"color\", \"fill_alpha\", \"height\", \"width\", \"y\", \"x\"], \"data\": {\"line_color\": [\"white\"], \"line_alpha\": [1.0], \"chart_index\": [{\"Type\": \"tfm2\"}], \"color\": [\"#f22c40\"], \"fill_alpha\": [0.8], \"height\": [7992.0], \"width\": [0.8], \"y\": [3996.0], \"x\": [\"tfm2\"], \"Type\": [\"tfm2\"]}}, \"type\": \"ColumnDataSource\", \"id\": \"88195f08-427f-4832-b74d-c31ba83be647\"}, {\"attributes\": {\"nonselection_glyph\": null, \"data_source\": {\"type\": \"ColumnDataSource\", \"id\": \"65e1779d-b059-4683-841f-aa529cfd0f76\"}, \"selection_glyph\": null, \"hover_glyph\": null, \"glyph\": {\"type\": \"Rect\", \"id\": \"46b986c1-a355-4d7a-9d29-243dbf6bf584\"}}, \"type\": \"GlyphRenderer\", \"id\": \"0f2251ff-12bf-40fe-a782-2e61ff267d73\"}, {\"attributes\": {\"x_range\": {\"type\": \"FactorRange\", \"id\": \"15f3a98b-5a8e-4de1-8ed3-3c883802ab5c\"}, \"y_mapper_type\": \"auto\", \"title_text_font_size\": {\"value\": \"14pt\"}, \"yscale\": \"auto\", \"y_range\": {\"type\": \"Range1d\", \"id\": \"35686063-5b94-4b33-8ae0-69e37c9e62ce\"}, \"x_mapper_type\": \"auto\", \"renderers\": [{\"type\": \"BoxAnnotation\", \"id\": \"b3d96623-c762-4984-aab5-d5f8a84d0bb4\"}, {\"type\": \"GlyphRenderer\", \"id\": \"10acc680-0e55-4626-a52c-9d3830a11194\"}, {\"type\": \"GlyphRenderer\", \"id\": \"37a9eba7-8c7e-4a1f-9e66-aa20f9531917\"}, {\"type\": \"GlyphRenderer\", \"id\": \"d7be3778-d21b-4378-b520-b332e561d972\"}, {\"type\": \"CategoricalAxis\", \"id\": \"792573dd-eb44-4e9c-9d76-0585f590c87f\"}, {\"type\": \"LinearAxis\", \"id\": \"9b1a02a5-410d-4dfa-ad98-6b45879b8560\"}, {\"type\": \"Grid\", \"id\": \"23086db0-0b90-492e-90eb-b80337d21bdd\"}], \"plot_width\": 400, \"xgrid\": false, \"below\": [{\"type\": \"CategoricalAxis\", \"id\": \"792573dd-eb44-4e9c-9d76-0585f590c87f\"}], \"tool_events\": {\"type\": \"ToolEvents\", \"id\": \"d49a5773-de0a-4493-a1ce-b079197eaa6f\"}, \"plot_height\": 400, \"xscale\": \"auto\", \"tools\": [{\"type\": \"PanTool\", \"id\": \"ff220328-7288-4236-98b4-37cdd8660552\"}, {\"type\": \"WheelZoomTool\", \"id\": \"1e3e9652-4f5a-4a72-9d34-57636f9b7649\"}, {\"type\": \"BoxZoomTool\", \"id\": \"1c36072e-0bf6-4b7b-a120-21520c6c6b97\"}, {\"type\": \"PreviewSaveTool\", \"id\": \"182b39c4-1ee7-49c2-b6e6-71828ca3a7be\"}, {\"type\": \"ResizeTool\", \"id\": \"64b600f8-2730-4ae9-abf8-b183fa753f40\"}, {\"type\": \"ResetTool\", \"id\": \"d5b1c977-4a5e-44d6-b82d-13308ac1a6ae\"}, {\"type\": \"HelpTool\", \"id\": \"017506cf-cf1a-4089-a892-8f4f46ed22e7\"}], \"legend\": null, \"left\": [{\"type\": \"LinearAxis\", \"id\": \"9b1a02a5-410d-4dfa-ad98-6b45879b8560\"}]}, \"type\": \"Plot\", \"id\": \"47bc8d2d-d405-48ff-b513-972d28b02732\", \"subtype\": \"Chart\"}, {\"attributes\": {\"plot\": {\"subtype\": \"Figure\", \"type\": \"Plot\", \"id\": \"f68da6b1-69d3-40ba-b453-7029bfcffb96\"}, \"axis_label\": \"Documents\", \"formatter\": {\"type\": \"BasicTickFormatter\", \"id\": \"dbbcafdc-c22b-49aa-b69a-d06dcad655f2\"}, \"ticker\": {\"type\": \"BasicTicker\", \"id\": \"05623022-54f7-4960-9976-c611ab42415e\"}}, \"type\": \"LinearAxis\", \"id\": \"ddf3a82b-3001-4a39-b7f6-2cc60bc5905a\"}, {\"attributes\": {\"plot\": {\"subtype\": \"Chart\", \"type\": \"Plot\", \"id\": \"96d9a664-a197-4479-94f9-4a591061ec34\"}}, \"type\": \"HelpTool\", \"id\": \"0ee2a5c8-bb4c-47d7-8030-e4d5178c93e7\"}, {\"attributes\": {\"line_color\": {\"field\": \"line_color\"}, \"fill_color\": {\"field\": \"color\"}, \"fill_alpha\": {\"field\": \"fill_alpha\"}, \"height\": {\"units\": \"data\", \"field\": \"height\"}, \"width\": {\"units\": \"data\", \"field\": \"width\"}, \"y\": {\"field\": \"y\"}, \"x\": {\"field\": \"x\"}}, \"type\": \"Rect\", \"id\": \"32ac8ee0-7ff2-4572-b806-05dc23083113\"}, {\"attributes\": {\"nonselection_glyph\": null, \"data_source\": {\"type\": \"ColumnDataSource\", \"id\": \"f8d06e3d-186b-4ef2-8cb2-ffa2fd5d05ce\"}, \"selection_glyph\": null, \"hover_glyph\": null, \"glyph\": {\"type\": \"Rect\", \"id\": \"2262b4fa-c504-4eb7-b6be-426b559108ba\"}}, \"type\": \"GlyphRenderer\", \"id\": \"760305ae-5771-456f-9147-704098ec05f1\"}, {\"attributes\": {\"line_color\": {\"field\": \"line_color\"}, \"fill_color\": {\"field\": \"color\"}, \"fill_alpha\": {\"field\": \"fill_alpha\"}, \"height\": {\"units\": \"data\", \"field\": \"height\"}, \"width\": {\"units\": \"data\", \"field\": \"width\"}, \"y\": {\"field\": \"y\"}, \"x\": {\"field\": \"x\"}}, \"type\": \"Rect\", \"id\": \"5052c519-fce1-4a92-99f8-0f209d6d08bc\"}, {\"attributes\": {}, \"type\": \"ToolEvents\", \"id\": \"f41d0940-8c88-4055-85c0-adf81e8fe991\"}, {\"attributes\": {\"callback\": null, \"column_names\": [\"y\", \"x\"], \"data\": {\"y\": [0.9821128714317003, 0.9883890210559955, 0.9912191990698407, 0.9926077154550996, 0.9934271147723699, 0.9942291412146989, 0.9947342910720529, 0.9951831935547358, 0.9955050581978345], \"x\": [100, 200, 300, 400, 500, 600, 700, 800, 900]}}, \"type\": \"ColumnDataSource\", \"id\": \"e97f838b-dbd4-48d5-83e6-f46fd0f722aa\"}, {\"attributes\": {\"line_color\": {\"field\": \"line_color\"}, \"fill_color\": {\"field\": \"color\"}, \"fill_alpha\": {\"field\": \"fill_alpha\"}, \"height\": {\"units\": \"data\", \"field\": \"height\"}, \"width\": {\"units\": \"data\", \"field\": \"width\"}, \"y\": {\"field\": \"y\"}, \"x\": {\"field\": \"x\"}}, \"type\": \"Rect\", \"id\": \"ddb441ac-2e83-453f-93f4-0e0a3c411226\"}, {\"attributes\": {\"callback\": null, \"factors\": [\"csr\", \"tf2\", \"tfm2\"]}, \"type\": \"FactorRange\", \"id\": \"15f3a98b-5a8e-4de1-8ed3-3c883802ab5c\"}, {\"attributes\": {\"callback\": null, \"column_names\": [\"line_color\", \"line_alpha\", \"color\", \"fill_alpha\", \"height\", \"width\", \"y\", \"x\"], \"data\": {\"line_color\": [\"white\"], \"line_alpha\": [1.0], \"chart_index\": [{\"term\": \"mtb\"}], \"color\": [\"#f22c40\"], \"fill_alpha\": [0.8], \"term\": [\"mtb\"], \"height\": [945.0], \"width\": [0.8], \"y\": [472.5], \"x\": [\"mtb\"]}}, \"type\": \"ColumnDataSource\", \"id\": \"88c14645-3f2e-4027-b954-1c79d15a6b68\"}, {\"attributes\": {\"plot\": {\"subtype\": \"Chart\", \"type\": \"Plot\", \"id\": \"47bc8d2d-d405-48ff-b513-972d28b02732\"}, \"overlay\": {\"type\": \"BoxAnnotation\", \"id\": \"b3d96623-c762-4984-aab5-d5f8a84d0bb4\"}}, \"type\": \"BoxZoomTool\", \"id\": \"1c36072e-0bf6-4b7b-a120-21520c6c6b97\"}, {\"attributes\": {\"line_color\": {\"field\": \"line_color\"}, \"fill_color\": {\"field\": \"color\"}, \"fill_alpha\": {\"field\": \"fill_alpha\"}, \"height\": {\"units\": \"data\", \"field\": \"height\"}, \"width\": {\"units\": \"data\", \"field\": \"width\"}, \"y\": {\"field\": \"y\"}, \"x\": {\"field\": \"x\"}}, \"type\": \"Rect\", \"id\": \"addfc071-9dee-436d-a391-5c80c17835bd\"}, {\"attributes\": {\"callback\": null, \"column_names\": [\"line_color\", \"line_alpha\", \"color\", \"fill_alpha\", \"height\", \"width\", \"y\", \"x\"], \"data\": {\"line_color\": [\"white\"], \"line_alpha\": [1.0], \"chart_index\": [{\"Type\": \"csr\"}], \"color\": [\"#f22c40\"], \"fill_alpha\": [0.8], \"height\": [64.0], \"width\": [0.8], \"y\": [32.0], \"x\": [\"csr\"], \"Type\": [\"csr\"]}}, \"type\": \"ColumnDataSource\", \"id\": \"dc188118-6ac9-48bb-9adc-013d5a88747a\"}, {\"attributes\": {\"line_color\": {\"value\": \"black\"}, \"line_alpha\": {\"value\": 1.0}, \"render_mode\": \"css\", \"bottom_units\": \"screen\", \"level\": \"overlay\", \"top_units\": \"screen\", \"fill_alpha\": {\"value\": 0.5}, \"plot\": null, \"left_units\": \"screen\", \"line_dash\": [4, 4], \"line_width\": {\"value\": 2}, \"right_units\": \"screen\", \"fill_color\": {\"value\": \"lightgrey\"}}, \"type\": \"BoxAnnotation\", \"id\": \"b3d96623-c762-4984-aab5-d5f8a84d0bb4\"}, {\"attributes\": {\"plot\": {\"subtype\": \"Chart\", \"type\": \"Plot\", \"id\": \"96d9a664-a197-4479-94f9-4a591061ec34\"}}, \"type\": \"PanTool\", \"id\": \"46a948d7-d6a9-479f-b666-4cb32a77c275\"}, {\"attributes\": {}, \"type\": \"BasicTicker\", \"id\": \"1cb247a4-efb2-479e-85e5-39a312ac1536\"}, {\"attributes\": {\"callback\": null, \"column_names\": [\"line_color\", \"line_alpha\", \"color\", \"fill_alpha\", \"height\", \"width\", \"y\", \"x\"], \"data\": {\"line_color\": [\"white\"], \"line_alpha\": [1.0], \"chart_index\": [{\"term\": \"tire\"}], \"color\": [\"#f22c40\"], \"fill_alpha\": [0.8], \"term\": [\"tire\"], \"height\": [480.0], \"width\": [0.8], \"y\": [240.0], \"x\": [\"tire\"]}}, \"type\": \"ColumnDataSource\", \"id\": \"a812aadc-d01b-4c90-827f-2c5c85126666\"}, {\"attributes\": {\"line_color\": {\"field\": \"line_color\"}, \"fill_color\": {\"field\": \"color\"}, \"fill_alpha\": {\"field\": \"fill_alpha\"}, \"height\": {\"units\": \"data\", \"field\": \"height\"}, \"width\": {\"units\": \"data\", \"field\": \"width\"}, \"y\": {\"field\": \"y\"}, \"x\": {\"field\": \"x\"}}, \"type\": \"Rect\", \"id\": \"07dca88e-66a7-4132-8c53-d405b1d5f9e1\"}, {\"attributes\": {\"callback\": null, \"column_names\": [\"line_color\", \"line_alpha\", \"color\", \"fill_alpha\", \"height\", \"width\", \"y\", \"x\"], \"data\": {\"line_color\": [\"white\"], \"line_alpha\": [1.0], \"chart_index\": [{\"term\": \"red\"}], \"color\": [\"#f22c40\"], \"fill_alpha\": [0.8], \"term\": [\"red\"], \"height\": [476.0], \"width\": [0.8], \"y\": [238.0], \"x\": [\"red\"]}}, \"type\": \"ColumnDataSource\", \"id\": \"16a4fe3e-6745-4ec0-8275-af5072b79f6e\"}, {\"attributes\": {\"plot\": {\"subtype\": \"Chart\", \"type\": \"Plot\", \"id\": \"47bc8d2d-d405-48ff-b513-972d28b02732\"}}, \"type\": \"WheelZoomTool\", \"id\": \"1e3e9652-4f5a-4a72-9d34-57636f9b7649\"}, {\"attributes\": {\"callback\": null, \"column_names\": [\"line_color\", \"line_alpha\", \"color\", \"fill_alpha\", \"height\", \"width\", \"y\", \"x\"], \"data\": {\"line_color\": [\"white\"], \"line_alpha\": [1.0], \"chart_index\": [{\"term\": \"speed\"}], \"color\": [\"#f22c40\"], \"fill_alpha\": [0.8], \"term\": [\"speed\"], \"height\": [753.0], \"width\": [0.8], \"y\": [376.5], \"x\": [\"speed\"]}}, \"type\": \"ColumnDataSource\", \"id\": \"3646655f-4032-4690-9e3b-f23f6f2061c1\"}, {\"attributes\": {\"plot\": {\"subtype\": \"Chart\", \"type\": \"Plot\", \"id\": \"96d9a664-a197-4479-94f9-4a591061ec34\"}}, \"type\": \"WheelZoomTool\", \"id\": \"5266ae80-6101-47e9-bae7-e49dfcf7fc72\"}, {\"attributes\": {\"callback\": null, \"column_names\": [\"line_color\", \"line_alpha\", \"color\", \"fill_alpha\", \"height\", \"width\", \"y\", \"x\"], \"data\": {\"line_color\": [\"white\"], \"line_alpha\": [1.0], \"chart_index\": [{\"term\": \"s\"}], \"color\": [\"#f22c40\"], \"fill_alpha\": [0.8], \"term\": [\"s\"], \"height\": [545.0], \"width\": [0.8], \"y\": [272.5], \"x\": [\"s\"]}}, \"type\": \"ColumnDataSource\", \"id\": \"5f01aea9-9da5-4bda-8bad-e0a8f327017c\"}, {\"attributes\": {\"nonselection_glyph\": null, \"data_source\": {\"type\": \"ColumnDataSource\", \"id\": \"88c14645-3f2e-4027-b954-1c79d15a6b68\"}, \"selection_glyph\": null, \"hover_glyph\": null, \"glyph\": {\"type\": \"Rect\", \"id\": \"660dfe0e-2de5-4cf0-8e24-463d7b970a9a\"}}, \"type\": \"GlyphRenderer\", \"id\": \"893f7425-0672-40ba-a80d-d007bf4b654c\"}, {\"attributes\": {\"callback\": null, \"column_names\": [\"line_color\", \"line_alpha\", \"color\", \"fill_alpha\", \"height\", \"width\", \"y\", \"x\"], \"data\": {\"line_color\": [\"white\"], \"line_alpha\": [1.0], \"chart_index\": [{\"term\": \"seat\"}], \"color\": [\"#f22c40\"], \"fill_alpha\": [0.8], \"term\": [\"seat\"], \"height\": [402.0], \"width\": [0.8], \"y\": [201.0], \"x\": [\"seat\"]}}, \"type\": \"ColumnDataSource\", \"id\": \"85cba3a6-e92d-4500-9cb2-8567dc6d2402\"}, {\"attributes\": {\"plot\": {\"subtype\": \"Figure\", \"type\": \"Plot\", \"id\": \"f68da6b1-69d3-40ba-b453-7029bfcffb96\"}}, \"type\": \"PreviewSaveTool\", \"id\": \"1a3e7a8d-3cad-4515-bf45-d71453e977d7\"}, {\"attributes\": {\"line_color\": {\"value\": \"#1f77b4\"}, \"line_width\": {\"value\": 2}, \"y\": {\"field\": \"y\"}, \"x\": {\"field\": \"x\"}}, \"type\": \"Line\", \"id\": \"074e975a-887c-4a07-acd6-e3aa48ec2be4\"}, {\"attributes\": {\"callback\": null, \"column_names\": [\"line_color\", \"line_alpha\", \"color\", \"fill_alpha\", \"height\", \"width\", \"y\", \"x\"], \"data\": {\"line_color\": [\"white\"], \"line_alpha\": [1.0], \"chart_index\": [{\"term\": \"wheel\"}], \"color\": [\"#f22c40\"], \"fill_alpha\": [0.8], \"term\": [\"wheel\"], \"height\": [398.0], \"width\": [0.8], \"y\": [199.0], \"x\": [\"wheel\"]}}, \"type\": \"ColumnDataSource\", \"id\": \"2c531337-19b6-4407-b9c3-d93035144603\"}, {\"attributes\": {\"callback\": null}, \"type\": \"DataRange1d\", \"id\": \"54301cf1-6f3a-4ae2-82b9-3c52c0826cf8\"}, {\"attributes\": {\"nonselection_glyph\": null, \"data_source\": {\"type\": \"ColumnDataSource\", \"id\": \"59bcdf31-d31d-4a56-9f46-d1367e6c85a0\"}, \"selection_glyph\": null, \"hover_glyph\": null, \"glyph\": {\"type\": \"Rect\", \"id\": \"50a6d052-4f35-40ad-810f-10922117d4fd\"}}, \"type\": \"GlyphRenderer\", \"id\": \"d8c03c89-b5db-443e-b98f-62b40454380c\"}, {\"attributes\": {\"line_color\": {\"field\": \"line_color\"}, \"fill_color\": {\"field\": \"color\"}, \"fill_alpha\": {\"field\": \"fill_alpha\"}, \"height\": {\"units\": \"data\", \"field\": \"height\"}, \"width\": {\"units\": \"data\", \"field\": \"width\"}, \"y\": {\"field\": \"y\"}, \"x\": {\"field\": \"x\"}}, \"type\": \"Rect\", \"id\": \"c6ab62f7-a7bd-45c6-a198-0fdb0958104e\"}, {\"attributes\": {\"nonselection_glyph\": null, \"data_source\": {\"type\": \"ColumnDataSource\", \"id\": \"caf54dbe-1372-4846-b1a0-1b7ed474f033\"}, \"selection_glyph\": null, \"hover_glyph\": null, \"glyph\": {\"type\": \"Rect\", \"id\": \"24556e35-5c1e-442d-bac7-120cec50172c\"}}, \"type\": \"GlyphRenderer\", \"id\": \"c0af000f-6df1-4094-9d10-dec75394a103\"}, {\"attributes\": {\"plot\": {\"subtype\": \"Figure\", \"type\": \"Plot\", \"id\": \"f68da6b1-69d3-40ba-b453-7029bfcffb96\"}}, \"type\": \"ResizeTool\", \"id\": \"b0f30c48-470f-4f87-a57e-10b47dd94f5e\"}, {\"attributes\": {\"plot\": {\"subtype\": \"Figure\", \"type\": \"Plot\", \"id\": \"f68da6b1-69d3-40ba-b453-7029bfcffb96\"}, \"overlay\": {\"type\": \"BoxAnnotation\", \"id\": \"62ce25c9-14cd-439d-9abf-424868b97bfe\"}}, \"type\": \"BoxZoomTool\", \"id\": \"c437b914-b01f-41b7-852e-f22f541f00d0\"}, {\"attributes\": {\"line_color\": {\"field\": \"line_color\"}, \"fill_color\": {\"field\": \"color\"}, \"fill_alpha\": {\"field\": \"fill_alpha\"}, \"height\": {\"units\": \"data\", \"field\": \"height\"}, \"width\": {\"units\": \"data\", \"field\": \"width\"}, \"y\": {\"field\": \"y\"}, \"x\": {\"field\": \"x\"}}, \"type\": \"Rect\", \"id\": \"e6a62a32-0ace-4407-8ad4-5b383e2c4c77\"}, {\"attributes\": {\"nonselection_glyph\": null, \"data_source\": {\"type\": \"ColumnDataSource\", \"id\": \"2c531337-19b6-4407-b9c3-d93035144603\"}, \"selection_glyph\": null, \"hover_glyph\": null, \"glyph\": {\"type\": \"Rect\", \"id\": \"1cdd2c5c-1f6a-4e3b-ae58-5a220aee4ea9\"}}, \"type\": \"GlyphRenderer\", \"id\": \"fbbcb461-7d2e-45a6-984a-393d3e2e7a17\"}, {\"attributes\": {\"major_label_orientation\": 0.7853981633974483, \"plot\": {\"subtype\": \"Chart\", \"type\": \"Plot\", \"id\": \"96d9a664-a197-4479-94f9-4a591061ec34\"}, \"axis_label\": \"Term\", \"formatter\": {\"type\": \"CategoricalTickFormatter\", \"id\": \"e1447ede-2683-451b-8281-bb455d6bed72\"}, \"ticker\": {\"type\": \"CategoricalTicker\", \"id\": \"ae01508b-46ff-42dc-b134-52ebb725d559\"}}, \"type\": \"CategoricalAxis\", \"id\": \"f7a720a9-5e10-44bb-8ad4-0d250f449559\"}, {\"attributes\": {\"callback\": null, \"column_names\": [\"line_color\", \"line_alpha\", \"color\", \"fill_alpha\", \"height\", \"width\", \"y\", \"x\"], \"data\": {\"line_color\": [\"white\"], \"line_alpha\": [1.0], \"chart_index\": [{\"term\": \"handlebar\"}], \"color\": [\"#f22c40\"], \"fill_alpha\": [0.8], \"term\": [\"handlebar\"], \"height\": [467.0], \"width\": [0.8], \"y\": [233.5], \"x\": [\"handlebar\"]}}, \"type\": \"ColumnDataSource\", \"id\": \"c0582d30-1bd6-4cf4-ba0d-08733f1c0a1d\"}, {\"attributes\": {\"line_color\": {\"field\": \"line_color\"}, \"fill_color\": {\"field\": \"color\"}, \"fill_alpha\": {\"field\": \"fill_alpha\"}, \"height\": {\"units\": \"data\", \"field\": \"height\"}, \"width\": {\"units\": \"data\", \"field\": \"width\"}, \"y\": {\"field\": \"y\"}, \"x\": {\"field\": \"x\"}}, \"type\": \"Rect\", \"id\": \"cc298d2c-5be7-4367-afa7-2dcbed62a4e1\"}, {\"attributes\": {\"line_color\": {\"field\": \"line_color\"}, \"fill_color\": {\"field\": \"color\"}, \"fill_alpha\": {\"field\": \"fill_alpha\"}, \"height\": {\"units\": \"data\", \"field\": \"height\"}, \"width\": {\"units\": \"data\", \"field\": \"width\"}, \"y\": {\"field\": \"y\"}, \"x\": {\"field\": \"x\"}}, \"type\": \"Rect\", \"id\": \"e39a53d3-f997-4043-a941-98ed72ae6be7\"}, {\"attributes\": {\"line_color\": {\"field\": \"line_color\"}, \"fill_color\": {\"field\": \"color\"}, \"fill_alpha\": {\"field\": \"fill_alpha\"}, \"height\": {\"units\": \"data\", \"field\": \"height\"}, \"width\": {\"units\": \"data\", \"field\": \"width\"}, \"y\": {\"field\": \"y\"}, \"x\": {\"field\": \"x\"}}, \"type\": \"Rect\", \"id\": \"27299c63-e10b-44a6-abaa-f964ec51ea77\"}, {\"attributes\": {\"nonselection_glyph\": null, \"data_source\": {\"type\": \"ColumnDataSource\", \"id\": \"a633f912-9aaf-454e-aea9-cc505dc7acfe\"}, \"selection_glyph\": null, \"hover_glyph\": null, \"glyph\": {\"type\": \"Rect\", \"id\": \"a3b772b7-470f-4149-bacb-054e14de31d8\"}}, \"type\": \"GlyphRenderer\", \"id\": \"bdb20ddc-ca96-45cd-9e0b-caef2c2d239b\"}, {\"attributes\": {\"plot\": {\"subtype\": \"Chart\", \"type\": \"Plot\", \"id\": \"47bc8d2d-d405-48ff-b513-972d28b02732\"}}, \"type\": \"PanTool\", \"id\": \"ff220328-7288-4236-98b4-37cdd8660552\"}, {\"attributes\": {\"callback\": null, \"column_names\": [\"line_color\", \"line_alpha\", \"color\", \"fill_alpha\", \"height\", \"width\", \"y\", \"x\"], \"data\": {\"line_color\": [\"white\"], \"line_alpha\": [1.0], \"chart_index\": [{\"term\": \"rear\"}], \"color\": [\"#f22c40\"], \"fill_alpha\": [0.8], \"term\": [\"rear\"], \"height\": [707.0], \"width\": [0.8], \"y\": [353.5], \"x\": [\"rear\"]}}, \"type\": \"ColumnDataSource\", \"id\": \"a633f912-9aaf-454e-aea9-cc505dc7acfe\"}, {\"attributes\": {\"line_color\": {\"field\": \"line_color\"}, \"fill_color\": {\"field\": \"color\"}, \"fill_alpha\": {\"field\": \"fill_alpha\"}, \"height\": {\"units\": \"data\", \"field\": \"height\"}, \"width\": {\"units\": \"data\", \"field\": \"width\"}, \"y\": {\"field\": \"y\"}, \"x\": {\"field\": \"x\"}}, \"type\": \"Rect\", \"id\": \"50a6d052-4f35-40ad-810f-10922117d4fd\"}, {\"attributes\": {\"nonselection_glyph\": null, \"data_source\": {\"type\": \"ColumnDataSource\", \"id\": \"74bc6022-45a7-4d90-9273-169890cb66fb\"}, \"selection_glyph\": null, \"hover_glyph\": null, \"glyph\": {\"type\": \"Rect\", \"id\": \"11cbb3ef-5115-4497-a5eb-e7912d738c0f\"}}, \"type\": \"GlyphRenderer\", \"id\": \"f5023b6c-49a1-4e5d-955f-bd07e519a5eb\"}, {\"attributes\": {}, \"type\": \"BasicTicker\", \"id\": \"b468f222-d3b0-485f-9160-bdf90a037328\"}, {\"attributes\": {\"line_color\": {\"field\": \"line_color\"}, \"fill_color\": {\"field\": \"color\"}, \"fill_alpha\": {\"field\": \"fill_alpha\"}, \"height\": {\"units\": \"data\", \"field\": \"height\"}, \"width\": {\"units\": \"data\", \"field\": \"width\"}, \"y\": {\"field\": \"y\"}, \"x\": {\"field\": \"x\"}}, \"type\": \"Rect\", \"id\": \"db5324cd-d429-462b-8a42-7ce3a412e4e5\"}, {\"attributes\": {}, \"type\": \"BasicTickFormatter\", \"id\": \"dbbcafdc-c22b-49aa-b69a-d06dcad655f2\"}, {\"attributes\": {\"line_color\": {\"field\": \"line_color\"}, \"fill_color\": {\"field\": \"color\"}, \"fill_alpha\": {\"field\": \"fill_alpha\"}, \"height\": {\"units\": \"data\", \"field\": \"height\"}, \"width\": {\"units\": \"data\", \"field\": \"width\"}, \"y\": {\"field\": \"y\"}, \"x\": {\"field\": \"x\"}}, \"type\": \"Rect\", \"id\": \"1cdd2c5c-1f6a-4e3b-ae58-5a220aee4ea9\"}, {\"attributes\": {\"major_label_orientation\": 0.7853981633974483, \"plot\": {\"subtype\": \"Chart\", \"type\": \"Plot\", \"id\": \"47bc8d2d-d405-48ff-b513-972d28b02732\"}, \"axis_label\": \"Type\", \"formatter\": {\"type\": \"CategoricalTickFormatter\", \"id\": \"c89bbe82-2e14-47d6-8c40-47d147a6247e\"}, \"ticker\": {\"type\": \"CategoricalTicker\", \"id\": \"af7f6ea3-bb35-4be5-b952-3dd515fc0f82\"}}, \"type\": \"CategoricalAxis\", \"id\": \"792573dd-eb44-4e9c-9d76-0585f590c87f\"}, {\"attributes\": {\"line_color\": {\"value\": \"black\"}, \"line_alpha\": {\"value\": 1.0}, \"render_mode\": \"css\", \"bottom_units\": \"screen\", \"level\": \"overlay\", \"top_units\": \"screen\", \"fill_alpha\": {\"value\": 0.5}, \"plot\": null, \"left_units\": \"screen\", \"line_dash\": [4, 4], \"line_width\": {\"value\": 2}, \"right_units\": \"screen\", \"fill_color\": {\"value\": \"lightgrey\"}}, \"type\": \"BoxAnnotation\", \"id\": \"62ce25c9-14cd-439d-9abf-424868b97bfe\"}, {\"attributes\": {\"nonselection_glyph\": null, \"data_source\": {\"type\": \"ColumnDataSource\", \"id\": \"398cb9c0-454d-4aed-ba61-0e00dae953cb\"}, \"selection_glyph\": null, \"hover_glyph\": null, \"glyph\": {\"type\": \"Rect\", \"id\": \"1d87000f-f4b5-43a9-8242-582d7b44c873\"}}, \"type\": \"GlyphRenderer\", \"id\": \"0e1a9464-3a93-47eb-baa7-2a11ea4287e5\"}, {\"attributes\": {\"line_color\": {\"field\": \"line_color\"}, \"fill_color\": {\"field\": \"color\"}, \"fill_alpha\": {\"field\": \"fill_alpha\"}, \"height\": {\"units\": \"data\", \"field\": \"height\"}, \"width\": {\"units\": \"data\", \"field\": \"width\"}, \"y\": {\"field\": \"y\"}, \"x\": {\"field\": \"x\"}}, \"type\": \"Rect\", \"id\": \"fc557f97-3405-4d10-a4fa-c9a049fc4936\"}, {\"attributes\": {\"plot\": {\"subtype\": \"Figure\", \"type\": \"Plot\", \"id\": \"f68da6b1-69d3-40ba-b453-7029bfcffb96\"}, \"ticker\": {\"type\": \"BasicTicker\", \"id\": \"05623022-54f7-4960-9976-c611ab42415e\"}}, \"type\": \"Grid\", \"id\": \"f4d2f885-a42d-4fbd-b4dc-c48fffa7a267\"}, {\"attributes\": {\"callback\": null, \"factors\": [\"bike\", \"bicycle\", \"new\", \"cycling\", \"black\", \"road\", \"shimano\", \"mtb\", \"mountain\", \"x\", \"speed\", \"rear\", \"for\", \"light\", \"front\", \"led\", \"bmx\", \"s\", \"brake\", \"set\", \"carbon\", \"tire\", \"red\", \"handlebar\", \"bottle\", \"water\", \"seat\", \"lamp\", \"wheel\", \"chain\"]}, \"type\": \"FactorRange\", \"id\": \"99f0e85a-01c3-4146-b13f-e6c152639117\"}, {\"attributes\": {\"callback\": null, \"column_names\": [\"line_color\", \"line_alpha\", \"color\", \"fill_alpha\", \"height\", \"width\", \"y\", \"x\"], \"data\": {\"line_color\": [\"white\"], \"line_alpha\": [1.0], \"chart_index\": [{\"term\": \"road\"}], \"color\": [\"#f22c40\"], \"fill_alpha\": [0.8], \"term\": [\"road\"], \"height\": [1266.0], \"width\": [0.8], \"y\": [633.0], \"x\": [\"road\"]}}, \"type\": \"ColumnDataSource\", \"id\": \"a2ba0a07-cf28-4a17-b4fc-4a5b796d43c2\"}, {\"attributes\": {}, \"type\": \"BasicTicker\", \"id\": \"05623022-54f7-4960-9976-c611ab42415e\"}, {\"attributes\": {\"plot\": {\"subtype\": \"Figure\", \"type\": \"Plot\", \"id\": \"f68da6b1-69d3-40ba-b453-7029bfcffb96\"}}, \"type\": \"ResetTool\", \"id\": \"13029b45-5581-4080-a9a2-112de4cf056f\"}, {\"attributes\": {\"callback\": null, \"column_names\": [\"line_color\", \"line_alpha\", \"color\", \"fill_alpha\", \"height\", \"width\", \"y\", \"x\"], \"data\": {\"line_color\": [\"white\"], \"line_alpha\": [1.0], \"chart_index\": [{\"term\": \"bottle\"}], \"color\": [\"#f22c40\"], \"fill_alpha\": [0.8], \"term\": [\"bottle\"], \"height\": [466.0], \"width\": [0.8], \"y\": [233.0], \"x\": [\"bottle\"]}}, \"type\": \"ColumnDataSource\", \"id\": \"c99c61d3-26d8-4b6b-8d21-1b8d7ce98055\"}, {\"attributes\": {\"line_color\": {\"field\": \"line_color\"}, \"fill_color\": {\"field\": \"color\"}, \"fill_alpha\": {\"field\": \"fill_alpha\"}, \"height\": {\"units\": \"data\", \"field\": \"height\"}, \"width\": {\"units\": \"data\", \"field\": \"width\"}, \"y\": {\"field\": \"y\"}, \"x\": {\"field\": \"x\"}}, \"type\": \"Rect\", \"id\": \"a3b772b7-470f-4149-bacb-054e14de31d8\"}, {\"attributes\": {}, \"type\": \"BasicTickFormatter\", \"id\": \"502a3963-5979-4655-81e1-3963623a9205\"}, {\"attributes\": {\"line_color\": {\"field\": \"line_color\"}, \"fill_color\": {\"field\": \"color\"}, \"fill_alpha\": {\"field\": \"fill_alpha\"}, \"height\": {\"units\": \"data\", \"field\": \"height\"}, \"width\": {\"units\": \"data\", \"field\": \"width\"}, \"y\": {\"field\": \"y\"}, \"x\": {\"field\": \"x\"}}, \"type\": \"Rect\", \"id\": \"04a8b305-bab0-496d-bd3d-af3ef749a63b\"}, {\"attributes\": {}, \"type\": \"ToolEvents\", \"id\": \"eaf99663-e157-4bf2-bf7a-170035a6f581\"}, {\"attributes\": {\"line_color\": {\"field\": \"line_color\"}, \"fill_color\": {\"field\": \"color\"}, \"fill_alpha\": {\"field\": \"fill_alpha\"}, \"height\": {\"units\": \"data\", \"field\": \"height\"}, \"width\": {\"units\": \"data\", \"field\": \"width\"}, \"y\": {\"field\": \"y\"}, \"x\": {\"field\": \"x\"}}, \"type\": \"Rect\", \"id\": \"7b6ca9ed-38c3-47a7-902c-fed16b2e5e7b\"}, {\"attributes\": {\"plot\": {\"subtype\": \"Chart\", \"type\": \"Plot\", \"id\": \"47bc8d2d-d405-48ff-b513-972d28b02732\"}}, \"type\": \"ResetTool\", \"id\": \"d5b1c977-4a5e-44d6-b82d-13308ac1a6ae\"}, {\"attributes\": {\"line_color\": {\"field\": \"line_color\"}, \"fill_color\": {\"field\": \"color\"}, \"fill_alpha\": {\"field\": \"fill_alpha\"}, \"height\": {\"units\": \"data\", \"field\": \"height\"}, \"width\": {\"units\": \"data\", \"field\": \"width\"}, \"y\": {\"field\": \"y\"}, \"x\": {\"field\": \"x\"}}, \"type\": \"Rect\", \"id\": \"55a44b35-7996-45a2-9736-2449c6741a35\"}, {\"attributes\": {\"line_color\": {\"field\": \"line_color\"}, \"fill_color\": {\"field\": \"color\"}, \"fill_alpha\": {\"field\": \"fill_alpha\"}, \"height\": {\"units\": \"data\", \"field\": \"height\"}, \"width\": {\"units\": \"data\", \"field\": \"width\"}, \"y\": {\"field\": \"y\"}, \"x\": {\"field\": \"x\"}}, \"type\": \"Rect\", \"id\": \"6ca1d613-69fd-4edf-9e0c-33eb388b9700\"}, {\"attributes\": {\"nonselection_glyph\": null, \"data_source\": {\"type\": \"ColumnDataSource\", \"id\": \"88195f08-427f-4832-b74d-c31ba83be647\"}, \"selection_glyph\": null, \"hover_glyph\": null, \"glyph\": {\"type\": \"Rect\", \"id\": \"a7c4d0f2-9844-4809-b758-db96ac345ac4\"}}, \"type\": \"GlyphRenderer\", \"id\": \"d7be3778-d21b-4378-b520-b332e561d972\"}, {\"attributes\": {}, \"type\": \"CategoricalTickFormatter\", \"id\": \"c89bbe82-2e14-47d6-8c40-47d147a6247e\"}, {\"attributes\": {\"line_color\": {\"field\": \"line_color\"}, \"fill_color\": {\"field\": \"color\"}, \"fill_alpha\": {\"field\": \"fill_alpha\"}, \"height\": {\"units\": \"data\", \"field\": \"height\"}, \"width\": {\"units\": \"data\", \"field\": \"width\"}, \"y\": {\"field\": \"y\"}, \"x\": {\"field\": \"x\"}}, \"type\": \"Rect\", \"id\": \"3271c96e-6825-4315-b396-308428507d46\"}, {\"attributes\": {\"nonselection_glyph\": null, \"data_source\": {\"type\": \"ColumnDataSource\", \"id\": \"58063d6e-dd80-4e81-8946-47a19ebd750d\"}, \"selection_glyph\": null, \"hover_glyph\": null, \"glyph\": {\"type\": \"Rect\", \"id\": \"7b6ca9ed-38c3-47a7-902c-fed16b2e5e7b\"}}, \"type\": \"GlyphRenderer\", \"id\": \"1ed44a15-eab8-4e95-8b02-ec98275329b9\"}, {\"attributes\": {\"line_color\": {\"field\": \"line_color\"}, \"fill_color\": {\"field\": \"color\"}, \"fill_alpha\": {\"field\": \"fill_alpha\"}, \"height\": {\"units\": \"data\", \"field\": \"height\"}, \"width\": {\"units\": \"data\", \"field\": \"width\"}, \"y\": {\"field\": \"y\"}, \"x\": {\"field\": \"x\"}}, \"type\": \"Rect\", \"id\": \"1d87000f-f4b5-43a9-8242-582d7b44c873\"}, {\"attributes\": {\"callback\": null, \"end\": 8391.6}, \"type\": \"Range1d\", \"id\": \"35686063-5b94-4b33-8ae0-69e37c9e62ce\"}, {\"attributes\": {}, \"type\": \"BasicTickFormatter\", \"id\": \"fb462212-e026-4647-9b21-9037dd909f89\"}, {\"attributes\": {\"callback\": null, \"column_names\": [\"line_color\", \"line_alpha\", \"color\", \"fill_alpha\", \"height\", \"width\", \"y\", \"x\"], \"data\": {\"line_color\": [\"white\"], \"line_alpha\": [1.0], \"chart_index\": [{\"Type\": \"tf2\"}], \"color\": [\"#f22c40\"], \"fill_alpha\": [0.8], \"height\": [24.0], \"width\": [0.8], \"y\": [12.0], \"x\": [\"tf2\"], \"Type\": [\"tf2\"]}}, \"type\": \"ColumnDataSource\", \"id\": \"1bece8a5-3240-4e7e-ac64-8d3b35d4f64c\"}, {\"attributes\": {\"callback\": null, \"column_names\": [\"line_color\", \"line_alpha\", \"color\", \"fill_alpha\", \"height\", \"width\", \"y\", \"x\"], \"data\": {\"line_color\": [\"white\"], \"line_alpha\": [1.0], \"chart_index\": [{\"term\": \"water\"}], \"color\": [\"#f22c40\"], \"fill_alpha\": [0.8], \"term\": [\"water\"], \"height\": [404.0], \"width\": [0.8], \"y\": [202.0], \"x\": [\"water\"]}}, \"type\": \"ColumnDataSource\", \"id\": \"b28b96b5-2568-4051-8f1d-110ec8859449\"}, {\"attributes\": {\"nonselection_glyph\": null, \"data_source\": {\"type\": \"ColumnDataSource\", \"id\": \"a2ba0a07-cf28-4a17-b4fc-4a5b796d43c2\"}, \"selection_glyph\": null, \"hover_glyph\": null, \"glyph\": {\"type\": \"Rect\", \"id\": \"9ca3d441-e7f9-4f85-bd14-aeab5b573408\"}}, \"type\": \"GlyphRenderer\", \"id\": \"e5303a06-820d-4143-a69e-973ed2efef1a\"}, {\"attributes\": {\"nonselection_glyph\": null, \"data_source\": {\"type\": \"ColumnDataSource\", \"id\": \"16a4fe3e-6745-4ec0-8275-af5072b79f6e\"}, \"selection_glyph\": null, \"hover_glyph\": null, \"glyph\": {\"type\": \"Rect\", \"id\": \"3271c96e-6825-4315-b396-308428507d46\"}}, \"type\": \"GlyphRenderer\", \"id\": \"da698af7-ed2a-4252-958a-140122c5735c\"}, {\"attributes\": {}, \"type\": \"BasicTickFormatter\", \"id\": \"b3326702-61e1-4d1b-8796-a10fcc7834a6\"}, {\"attributes\": {\"line_color\": {\"field\": \"line_color\"}, \"fill_color\": {\"field\": \"color\"}, \"fill_alpha\": {\"field\": \"fill_alpha\"}, \"height\": {\"units\": \"data\", \"field\": \"height\"}, \"width\": {\"units\": \"data\", \"field\": \"width\"}, \"y\": {\"field\": \"y\"}, \"x\": {\"field\": \"x\"}}, \"type\": \"Rect\", \"id\": \"9ca3d441-e7f9-4f85-bd14-aeab5b573408\"}, {\"attributes\": {\"plot\": {\"subtype\": \"Chart\", \"type\": \"Plot\", \"id\": \"47bc8d2d-d405-48ff-b513-972d28b02732\"}, \"ticker\": {\"type\": \"BasicTicker\", \"id\": \"1cb247a4-efb2-479e-85e5-39a312ac1536\"}, \"dimension\": 1}, \"type\": \"Grid\", \"id\": \"23086db0-0b90-492e-90eb-b80337d21bdd\"}, {\"attributes\": {\"line_color\": {\"value\": \"#1f77b4\"}, \"line_alpha\": {\"value\": 0.1}, \"y\": {\"field\": \"y\"}, \"x\": {\"field\": \"x\"}, \"line_width\": {\"value\": 2}}, \"type\": \"Line\", \"id\": \"fce428e9-ef27-4ce1-864c-dad045f373e7\"}, {\"attributes\": {\"line_color\": {\"field\": \"line_color\"}, \"fill_color\": {\"field\": \"color\"}, \"fill_alpha\": {\"field\": \"fill_alpha\"}, \"height\": {\"units\": \"data\", \"field\": \"height\"}, \"width\": {\"units\": \"data\", \"field\": \"width\"}, \"y\": {\"field\": \"y\"}, \"x\": {\"field\": \"x\"}}, \"type\": \"Rect\", \"id\": \"dbcdd2b1-43b8-4f38-8c03-85f2d7b284f3\"}, {\"attributes\": {\"line_color\": {\"field\": \"line_color\"}, \"fill_color\": {\"field\": \"color\"}, \"fill_alpha\": {\"field\": \"fill_alpha\"}, \"height\": {\"units\": \"data\", \"field\": \"height\"}, \"width\": {\"units\": \"data\", \"field\": \"width\"}, \"y\": {\"field\": \"y\"}, \"x\": {\"field\": \"x\"}}, \"type\": \"Rect\", \"id\": \"46b986c1-a355-4d7a-9d29-243dbf6bf584\"}, {\"attributes\": {\"plot\": {\"subtype\": \"Chart\", \"type\": \"Plot\", \"id\": \"96d9a664-a197-4479-94f9-4a591061ec34\"}}, \"type\": \"PreviewSaveTool\", \"id\": \"f892f73d-1bc3-4818-904c-e3a29544e772\"}, {\"attributes\": {\"callback\": null, \"column_names\": [\"line_color\", \"line_alpha\", \"color\", \"fill_alpha\", \"height\", \"width\", \"y\", \"x\"], \"data\": {\"line_color\": [\"white\"], \"line_alpha\": [1.0], \"chart_index\": [{\"term\": \"for\"}], \"color\": [\"#f22c40\"], \"fill_alpha\": [0.8], \"term\": [\"for\"], \"height\": [690.0], \"width\": [0.8], \"y\": [345.0], \"x\": [\"for\"]}}, \"type\": \"ColumnDataSource\", \"id\": \"9b629c20-3343-41c0-9fdf-70f950d82680\"}, {\"attributes\": {}, \"type\": \"CategoricalTicker\", \"id\": \"af7f6ea3-bb35-4be5-b952-3dd515fc0f82\"}, {\"attributes\": {\"callback\": null, \"column_names\": [\"line_color\", \"line_alpha\", \"color\", \"fill_alpha\", \"height\", \"width\", \"y\", \"x\"], \"data\": {\"line_color\": [\"white\"], \"line_alpha\": [1.0], \"chart_index\": [{\"term\": \"cycling\"}], \"color\": [\"#f22c40\"], \"fill_alpha\": [0.8], \"term\": [\"cycling\"], \"height\": [2162.0], \"width\": [0.8], \"y\": [1081.0], \"x\": [\"cycling\"]}}, \"type\": \"ColumnDataSource\", \"id\": \"f8d06e3d-186b-4ef2-8cb2-ffa2fd5d05ce\"}, {\"attributes\": {\"callback\": null, \"column_names\": [\"line_color\", \"line_alpha\", \"color\", \"fill_alpha\", \"height\", \"width\", \"y\", \"x\"], \"data\": {\"line_color\": [\"white\"], \"line_alpha\": [1.0], \"chart_index\": [{\"term\": \"light\"}], \"color\": [\"#f22c40\"], \"fill_alpha\": [0.8], \"term\": [\"light\"], \"height\": [687.0], \"width\": [0.8], \"y\": [343.5], \"x\": [\"light\"]}}, \"type\": \"ColumnDataSource\", \"id\": \"65e1779d-b059-4683-841f-aa529cfd0f76\"}, {\"attributes\": {\"nonselection_glyph\": null, \"data_source\": {\"type\": \"ColumnDataSource\", \"id\": \"4727973a-caeb-405c-ba42-6258a54ef955\"}, \"selection_glyph\": null, \"hover_glyph\": null, \"glyph\": {\"type\": \"Rect\", \"id\": \"5052c519-fce1-4a92-99f8-0f209d6d08bc\"}}, \"type\": \"GlyphRenderer\", \"id\": \"92cab503-fd81-45e7-900d-8704aab67f70\"}, {\"attributes\": {\"callback\": null, \"column_names\": [\"line_color\", \"line_alpha\", \"color\", \"fill_alpha\", \"height\", \"width\", \"y\", \"x\"], \"data\": {\"line_color\": [\"white\"], \"line_alpha\": [1.0], \"chart_index\": [{\"term\": \"front\"}], \"color\": [\"#f22c40\"], \"fill_alpha\": [0.8], \"term\": [\"front\"], \"height\": [595.0], \"width\": [0.8], \"y\": [297.5], \"x\": [\"front\"]}}, \"type\": \"ColumnDataSource\", \"id\": \"398cb9c0-454d-4aed-ba61-0e00dae953cb\"}, {\"attributes\": {\"nonselection_glyph\": null, \"data_source\": {\"type\": \"ColumnDataSource\", \"id\": \"b28b96b5-2568-4051-8f1d-110ec8859449\"}, \"selection_glyph\": null, \"hover_glyph\": null, \"glyph\": {\"type\": \"Rect\", \"id\": \"04a8b305-bab0-496d-bd3d-af3ef749a63b\"}}, \"type\": \"GlyphRenderer\", \"id\": \"13b13559-b2bf-48fa-9d9c-0996181325b6\"}, {\"attributes\": {\"line_color\": {\"field\": \"line_color\"}, \"fill_color\": {\"field\": \"color\"}, \"fill_alpha\": {\"field\": \"fill_alpha\"}, \"height\": {\"units\": \"data\", \"field\": \"height\"}, \"width\": {\"units\": \"data\", \"field\": \"width\"}, \"y\": {\"field\": \"y\"}, \"x\": {\"field\": \"x\"}}, \"type\": \"Rect\", \"id\": \"a89e9d6e-c745-4bfc-bd26-2e22a70666c1\"}, {\"attributes\": {\"callback\": null}, \"type\": \"DataRange1d\", \"id\": \"96a4a2a1-3432-4287-b910-47fa9ff83c65\"}, {\"attributes\": {\"plot\": {\"subtype\": \"Chart\", \"type\": \"Plot\", \"id\": \"96d9a664-a197-4479-94f9-4a591061ec34\"}}, \"type\": \"ResetTool\", \"id\": \"474afcbe-16c8-4f11-b3a9-0e101378d1bc\"}, {\"attributes\": {\"nonselection_glyph\": null, \"data_source\": {\"type\": \"ColumnDataSource\", \"id\": \"a812aadc-d01b-4c90-827f-2c5c85126666\"}, \"selection_glyph\": null, \"hover_glyph\": null, \"glyph\": {\"type\": \"Rect\", \"id\": \"e81dd1de-c71d-4529-8744-ad2a692d0351\"}}, \"type\": \"GlyphRenderer\", \"id\": \"de571c89-9205-4c50-aecd-c2a743c27fac\"}, {\"attributes\": {\"nonselection_glyph\": null, \"data_source\": {\"type\": \"ColumnDataSource\", \"id\": \"1bece8a5-3240-4e7e-ac64-8d3b35d4f64c\"}, \"selection_glyph\": null, \"hover_glyph\": null, \"glyph\": {\"type\": \"Rect\", \"id\": \"dbcdd2b1-43b8-4f38-8c03-85f2d7b284f3\"}}, \"type\": \"GlyphRenderer\", \"id\": \"10acc680-0e55-4626-a52c-9d3830a11194\"}, {\"attributes\": {\"callback\": null, \"column_names\": [\"line_color\", \"line_alpha\", \"color\", \"fill_alpha\", \"height\", \"width\", \"y\", \"x\"], \"data\": {\"line_color\": [\"white\"], \"line_alpha\": [1.0], \"chart_index\": [{\"term\": \"brake\"}], \"color\": [\"#f22c40\"], \"fill_alpha\": [0.8], \"term\": [\"brake\"], \"height\": [542.0], \"width\": [0.8], \"y\": [271.0], \"x\": [\"brake\"]}}, \"type\": \"ColumnDataSource\", \"id\": \"b0b62d02-685d-41a9-920f-e959e6cd43dd\"}, {\"attributes\": {\"nonselection_glyph\": null, \"data_source\": {\"type\": \"ColumnDataSource\", \"id\": \"f4b4296a-ea51-4f7a-bac1-e150c2b56914\"}, \"selection_glyph\": null, \"hover_glyph\": null, \"glyph\": {\"type\": \"Rect\", \"id\": \"27299c63-e10b-44a6-abaa-f964ec51ea77\"}}, \"type\": \"GlyphRenderer\", \"id\": \"27d049a7-931a-4324-83b8-a832326f0571\"}, {\"attributes\": {\"nonselection_glyph\": null, \"data_source\": {\"type\": \"ColumnDataSource\", \"id\": \"9b629c20-3343-41c0-9fdf-70f950d82680\"}, \"selection_glyph\": null, \"hover_glyph\": null, \"glyph\": {\"type\": \"Rect\", \"id\": \"6ca1d613-69fd-4edf-9e0c-33eb388b9700\"}}, \"type\": \"GlyphRenderer\", \"id\": \"01f3309d-4540-443a-ba69-f7bc307d2bc3\"}, {\"attributes\": {}, \"type\": \"CategoricalTickFormatter\", \"id\": \"e1447ede-2683-451b-8281-bb455d6bed72\"}, {\"attributes\": {\"callback\": null, \"column_names\": [\"line_color\", \"line_alpha\", \"color\", \"fill_alpha\", \"height\", \"width\", \"y\", \"x\"], \"data\": {\"line_color\": [\"white\"], \"line_alpha\": [1.0], \"chart_index\": [{\"term\": \"led\"}], \"color\": [\"#f22c40\"], \"fill_alpha\": [0.8], \"term\": [\"led\"], \"height\": [582.0], \"width\": [0.8], \"y\": [291.0], \"x\": [\"led\"]}}, \"type\": \"ColumnDataSource\", \"id\": \"53f97848-9761-46fa-8b92-74f3a22fc04a\"}, {\"attributes\": {\"callback\": null, \"end\": 4760.7}, \"type\": \"Range1d\", \"id\": \"18574f42-2317-4a36-93a9-3838f6630840\"}, {\"attributes\": {\"nonselection_glyph\": null, \"data_source\": {\"type\": \"ColumnDataSource\", \"id\": \"d02b8885-4fb0-47db-afaa-42f0b7765bd9\"}, \"selection_glyph\": null, \"hover_glyph\": null, \"glyph\": {\"type\": \"Rect\", \"id\": \"c6ab62f7-a7bd-45c6-a198-0fdb0958104e\"}}, \"type\": \"GlyphRenderer\", \"id\": \"268fff16-522b-4189-a38f-bcaf55e76b2d\"}, {\"attributes\": {\"nonselection_glyph\": null, \"data_source\": {\"type\": \"ColumnDataSource\", \"id\": \"c99c61d3-26d8-4b6b-8d21-1b8d7ce98055\"}, \"selection_glyph\": null, \"hover_glyph\": null, \"glyph\": {\"type\": \"Rect\", \"id\": \"07dca88e-66a7-4132-8c53-d405b1d5f9e1\"}}, \"type\": \"GlyphRenderer\", \"id\": \"733b9ec2-bdcd-41f4-ae1a-332aaee89a41\"}, {\"attributes\": {\"callback\": null, \"column_names\": [\"line_color\", \"line_alpha\", \"color\", \"fill_alpha\", \"height\", \"width\", \"y\", \"x\"], \"data\": {\"line_color\": [\"white\"], \"line_alpha\": [1.0], \"chart_index\": [{\"term\": \"set\"}], \"color\": [\"#f22c40\"], \"fill_alpha\": [0.8], \"term\": [\"set\"], \"height\": [528.0], \"width\": [0.8], \"y\": [264.0], \"x\": [\"set\"]}}, \"type\": \"ColumnDataSource\", \"id\": \"f4b4296a-ea51-4f7a-bac1-e150c2b56914\"}, {\"attributes\": {\"plot\": {\"subtype\": \"Chart\", \"type\": \"Plot\", \"id\": \"47bc8d2d-d405-48ff-b513-972d28b02732\"}, \"axis_label\": \"Sum( Size )\", \"formatter\": {\"type\": \"BasicTickFormatter\", \"id\": \"fb462212-e026-4647-9b21-9037dd909f89\"}, \"ticker\": {\"type\": \"BasicTicker\", \"id\": \"1cb247a4-efb2-479e-85e5-39a312ac1536\"}}, \"type\": \"LinearAxis\", \"id\": \"9b1a02a5-410d-4dfa-ad98-6b45879b8560\"}, {\"attributes\": {\"plot\": {\"subtype\": \"Figure\", \"type\": \"Plot\", \"id\": \"f68da6b1-69d3-40ba-b453-7029bfcffb96\"}}, \"type\": \"PanTool\", \"id\": \"4db4629e-b11e-4f19-8b09-b353ac91f42d\"}, {\"attributes\": {\"line_color\": {\"field\": \"line_color\"}, \"fill_color\": {\"field\": \"color\"}, \"fill_alpha\": {\"field\": \"fill_alpha\"}, \"height\": {\"units\": \"data\", \"field\": \"height\"}, \"width\": {\"units\": \"data\", \"field\": \"width\"}, \"y\": {\"field\": \"y\"}, \"x\": {\"field\": \"x\"}}, \"type\": \"Rect\", \"id\": \"a7c4d0f2-9844-4809-b758-db96ac345ac4\"}, {\"attributes\": {\"plot\": {\"subtype\": \"Figure\", \"type\": \"Plot\", \"id\": \"f68da6b1-69d3-40ba-b453-7029bfcffb96\"}, \"ticker\": {\"type\": \"BasicTicker\", \"id\": \"0c9ec88b-03c1-4e4d-9b75-0c6fa9740dde\"}, \"dimension\": 1}, \"type\": \"Grid\", \"id\": \"e4b18204-c54b-4b75-9a30-4b1753b4b61b\"}, {\"attributes\": {\"plot\": {\"subtype\": \"Chart\", \"type\": \"Plot\", \"id\": \"96d9a664-a197-4479-94f9-4a591061ec34\"}, \"ticker\": {\"type\": \"BasicTicker\", \"id\": \"b468f222-d3b0-485f-9160-bdf90a037328\"}, \"dimension\": 1}, \"type\": \"Grid\", \"id\": \"e31edd62-e0b5-4196-ab5e-97053d011b9d\"}, {\"attributes\": {\"nonselection_glyph\": null, \"data_source\": {\"type\": \"ColumnDataSource\", \"id\": \"c0582d30-1bd6-4cf4-ba0d-08733f1c0a1d\"}, \"selection_glyph\": null, \"hover_glyph\": null, \"glyph\": {\"type\": \"Rect\", \"id\": \"fc557f97-3405-4d10-a4fa-c9a049fc4936\"}}, \"type\": \"GlyphRenderer\", \"id\": \"437f8e84-d00e-4c35-8519-93fa84807bb7\"}, {\"attributes\": {\"line_color\": {\"field\": \"line_color\"}, \"fill_color\": {\"field\": \"color\"}, \"fill_alpha\": {\"field\": \"fill_alpha\"}, \"height\": {\"units\": \"data\", \"field\": \"height\"}, \"width\": {\"units\": \"data\", \"field\": \"width\"}, \"y\": {\"field\": \"y\"}, \"x\": {\"field\": \"x\"}}, \"type\": \"Rect\", \"id\": \"ec331ee9-d2fa-4be5-9136-a5870018325d\"}, {\"attributes\": {\"callback\": null, \"column_names\": [\"line_color\", \"line_alpha\", \"color\", \"fill_alpha\", \"height\", \"width\", \"y\", \"x\"], \"data\": {\"line_color\": [\"white\"], \"line_alpha\": [1.0], \"chart_index\": [{\"term\": \"lamp\"}], \"color\": [\"#f22c40\"], \"fill_alpha\": [0.8], \"term\": [\"lamp\"], \"height\": [402.0], \"width\": [0.8], \"y\": [201.0], \"x\": [\"lamp\"]}}, \"type\": \"ColumnDataSource\", \"id\": \"74bc6022-45a7-4d90-9273-169890cb66fb\"}, {\"attributes\": {}, \"type\": \"ToolEvents\", \"id\": \"d49a5773-de0a-4493-a1ce-b079197eaa6f\"}, {\"attributes\": {\"line_color\": {\"value\": \"black\"}, \"line_alpha\": {\"value\": 1.0}, \"render_mode\": \"css\", \"bottom_units\": \"screen\", \"level\": \"overlay\", \"top_units\": \"screen\", \"fill_alpha\": {\"value\": 0.5}, \"plot\": null, \"left_units\": \"screen\", \"line_dash\": [4, 4], \"line_width\": {\"value\": 2}, \"right_units\": \"screen\", \"fill_color\": {\"value\": \"lightgrey\"}}, \"type\": \"BoxAnnotation\", \"id\": \"f4951538-8b70-45db-8054-10d0818dbec6\"}, {\"attributes\": {\"nonselection_glyph\": null, \"data_source\": {\"type\": \"ColumnDataSource\", \"id\": \"5f01aea9-9da5-4bda-8bad-e0a8f327017c\"}, \"selection_glyph\": null, \"hover_glyph\": null, \"glyph\": {\"type\": \"Rect\", \"id\": \"55a44b35-7996-45a2-9736-2449c6741a35\"}}, \"type\": \"GlyphRenderer\", \"id\": \"661a7b94-f274-43f6-ac06-fa06d4a2d9b2\"}, {\"attributes\": {\"plot\": {\"subtype\": \"Chart\", \"type\": \"Plot\", \"id\": \"47bc8d2d-d405-48ff-b513-972d28b02732\"}}, \"type\": \"ResizeTool\", \"id\": \"64b600f8-2730-4ae9-abf8-b183fa753f40\"}, {\"attributes\": {\"callback\": null, \"column_names\": [\"line_color\", \"line_alpha\", \"color\", \"fill_alpha\", \"height\", \"width\", \"y\", \"x\"], \"data\": {\"line_color\": [\"white\"], \"line_alpha\": [1.0], \"chart_index\": [{\"term\": \"bicycle\"}], \"color\": [\"#f22c40\"], \"fill_alpha\": [0.8], \"term\": [\"bicycle\"], \"height\": [3544.0], \"width\": [0.8], \"y\": [1772.0], \"x\": [\"bicycle\"]}}, \"type\": \"ColumnDataSource\", \"id\": \"59bcdf31-d31d-4a56-9f46-d1367e6c85a0\"}, {\"attributes\": {\"line_color\": {\"value\": \"#1f77b4\"}, \"x\": {\"field\": \"x\"}, \"y\": {\"field\": \"y\"}, \"fill_color\": {\"value\": \"white\"}, \"size\": {\"units\": \"screen\", \"value\": 8}}, \"type\": \"Circle\", \"id\": \"bf265943-1a17-485e-aa6e-d14b19cb9bca\"}, {\"attributes\": {\"plot\": {\"subtype\": \"Chart\", \"type\": \"Plot\", \"id\": \"96d9a664-a197-4479-94f9-4a591061ec34\"}}, \"type\": \"ResizeTool\", \"id\": \"c0bbfa25-c639-4e3f-a94c-c507b58f6a3c\"}, {\"attributes\": {\"callback\": null, \"column_names\": [\"line_color\", \"line_alpha\", \"color\", \"fill_alpha\", \"height\", \"width\", \"y\", \"x\"], \"data\": {\"line_color\": [\"white\"], \"line_alpha\": [1.0], \"chart_index\": [{\"term\": \"x\"}], \"color\": [\"#f22c40\"], \"fill_alpha\": [0.8], \"term\": [\"x\"], \"height\": [782.0], \"width\": [0.8], \"y\": [391.0], \"x\": [\"x\"]}}, \"type\": \"ColumnDataSource\", \"id\": \"5c45e6ba-4e84-4b88-845d-ed8cf18dd4a6\"}, {\"attributes\": {\"callback\": null, \"column_names\": [\"y\", \"x\"], \"data\": {\"y\": [0.9821128714317003, 0.9883890210559955, 0.9912191990698407, 0.9926077154550996, 0.9934271147723699, 0.9942291412146989, 0.9947342910720529, 0.9951831935547358, 0.9955050581978345], \"x\": [100, 200, 300, 400, 500, 600, 700, 800, 900]}}, \"type\": \"ColumnDataSource\", \"id\": \"96c8519e-ff60-4336-9740-91969b0132d4\"}, {\"attributes\": {\"line_color\": {\"field\": \"line_color\"}, \"fill_color\": {\"field\": \"color\"}, \"fill_alpha\": {\"field\": \"fill_alpha\"}, \"height\": {\"units\": \"data\", \"field\": \"height\"}, \"width\": {\"units\": \"data\", \"field\": \"width\"}, \"y\": {\"field\": \"y\"}, \"x\": {\"field\": \"x\"}}, \"type\": \"Rect\", \"id\": \"e81dd1de-c71d-4529-8744-ad2a692d0351\"}, {\"attributes\": {\"nonselection_glyph\": null, \"data_source\": {\"type\": \"ColumnDataSource\", \"id\": \"3646655f-4032-4690-9e3b-f23f6f2061c1\"}, \"selection_glyph\": null, \"hover_glyph\": null, \"glyph\": {\"type\": \"Rect\", \"id\": \"a45c74ed-2296-4a11-a8b1-8293b4b022f7\"}}, \"type\": \"GlyphRenderer\", \"id\": \"6cd800cd-cf21-4c1e-b228-86bd4753bcdf\"}, {\"attributes\": {\"line_color\": {\"field\": \"line_color\"}, \"fill_color\": {\"field\": \"color\"}, \"fill_alpha\": {\"field\": \"fill_alpha\"}, \"height\": {\"units\": \"data\", \"field\": \"height\"}, \"width\": {\"units\": \"data\", \"field\": \"width\"}, \"y\": {\"field\": \"y\"}, \"x\": {\"field\": \"x\"}}, \"type\": \"Rect\", \"id\": \"24556e35-5c1e-442d-bac7-120cec50172c\"}, {\"attributes\": {\"line_color\": {\"field\": \"line_color\"}, \"fill_color\": {\"field\": \"color\"}, \"fill_alpha\": {\"field\": \"fill_alpha\"}, \"height\": {\"units\": \"data\", \"field\": \"height\"}, \"width\": {\"units\": \"data\", \"field\": \"width\"}, \"y\": {\"field\": \"y\"}, \"x\": {\"field\": \"x\"}}, \"type\": \"Rect\", \"id\": \"a45c74ed-2296-4a11-a8b1-8293b4b022f7\"}, {\"attributes\": {\"nonselection_glyph\": null, \"data_source\": {\"type\": \"ColumnDataSource\", \"id\": \"191db41e-055e-4038-a1aa-067f81d3b149\"}, \"selection_glyph\": null, \"hover_glyph\": null, \"glyph\": {\"type\": \"Rect\", \"id\": \"a89e9d6e-c745-4bfc-bd26-2e22a70666c1\"}}, \"type\": \"GlyphRenderer\", \"id\": \"e2cf22dc-2c22-4768-846a-7b8c9ab6a730\"}, {\"attributes\": {\"line_color\": {\"field\": \"line_color\"}, \"fill_color\": {\"field\": \"color\"}, \"fill_alpha\": {\"field\": \"fill_alpha\"}, \"height\": {\"units\": \"data\", \"field\": \"height\"}, \"width\": {\"units\": \"data\", \"field\": \"width\"}, \"y\": {\"field\": \"y\"}, \"x\": {\"field\": \"x\"}}, \"type\": \"Rect\", \"id\": \"11cbb3ef-5115-4497-a5eb-e7912d738c0f\"}, {\"attributes\": {\"nonselection_glyph\": null, \"data_source\": {\"type\": \"ColumnDataSource\", \"id\": \"b0b62d02-685d-41a9-920f-e959e6cd43dd\"}, \"selection_glyph\": null, \"hover_glyph\": null, \"glyph\": {\"type\": \"Rect\", \"id\": \"cc298d2c-5be7-4367-afa7-2dcbed62a4e1\"}}, \"type\": \"GlyphRenderer\", \"id\": \"c11fe3a9-daad-4e3c-af2c-d3dfe6b25586\"}, {\"attributes\": {\"callback\": null, \"column_names\": [\"line_color\", \"line_alpha\", \"color\", \"fill_alpha\", \"height\", \"width\", \"y\", \"x\"], \"data\": {\"line_color\": [\"white\"], \"line_alpha\": [1.0], \"chart_index\": [{\"term\": \"bmx\"}], \"color\": [\"#f22c40\"], \"fill_alpha\": [0.8], \"term\": [\"bmx\"], \"height\": [582.0], \"width\": [0.8], \"y\": [291.0], \"x\": [\"bmx\"]}}, \"type\": \"ColumnDataSource\", \"id\": \"caf54dbe-1372-4846-b1a0-1b7ed474f033\"}, {\"attributes\": {\"callback\": null, \"column_names\": [\"line_color\", \"line_alpha\", \"color\", \"fill_alpha\", \"height\", \"width\", \"y\", \"x\"], \"data\": {\"line_color\": [\"white\"], \"line_alpha\": [1.0], \"chart_index\": [{\"term\": \"chain\"}], \"color\": [\"#f22c40\"], \"fill_alpha\": [0.8], \"term\": [\"chain\"], \"height\": [373.0], \"width\": [0.8], \"y\": [186.5], \"x\": [\"chain\"]}}, \"type\": \"ColumnDataSource\", \"id\": \"58063d6e-dd80-4e81-8946-47a19ebd750d\"}, {\"attributes\": {}, \"type\": \"CategoricalTicker\", \"id\": \"ae01508b-46ff-42dc-b134-52ebb725d559\"}, {\"attributes\": {\"plot\": {\"subtype\": \"Figure\", \"type\": \"Plot\", \"id\": \"f68da6b1-69d3-40ba-b453-7029bfcffb96\"}}, \"type\": \"HelpTool\", \"id\": \"0b3c1590-9ed6-4bb3-87c8-528aab96d4fd\"}, {\"attributes\": {\"x_range\": {\"type\": \"FactorRange\", \"id\": \"99f0e85a-01c3-4146-b13f-e6c152639117\"}, \"y_mapper_type\": \"auto\", \"title_text_font_size\": {\"value\": \"14pt\"}, \"yscale\": \"auto\", \"y_range\": {\"type\": \"Range1d\", \"id\": \"18574f42-2317-4a36-93a9-3838f6630840\"}, \"x_mapper_type\": \"auto\", \"renderers\": [{\"type\": \"BoxAnnotation\", \"id\": \"f4951538-8b70-45db-8054-10d0818dbec6\"}, {\"type\": \"GlyphRenderer\", \"id\": \"00424417-9e00-41ca-88c0-5e219575de00\"}, {\"type\": \"GlyphRenderer\", \"id\": \"d8c03c89-b5db-443e-b98f-62b40454380c\"}, {\"type\": \"GlyphRenderer\", \"id\": \"e767a7ab-ad2e-4e8e-b3fd-a6d57c827d9d\"}, {\"type\": \"GlyphRenderer\", \"id\": \"760305ae-5771-456f-9147-704098ec05f1\"}, {\"type\": \"GlyphRenderer\", \"id\": \"92cab503-fd81-45e7-900d-8704aab67f70\"}, {\"type\": \"GlyphRenderer\", \"id\": \"e5303a06-820d-4143-a69e-973ed2efef1a\"}, {\"type\": \"GlyphRenderer\", \"id\": \"268fff16-522b-4189-a38f-bcaf55e76b2d\"}, {\"type\": \"GlyphRenderer\", \"id\": \"893f7425-0672-40ba-a80d-d007bf4b654c\"}, {\"type\": \"GlyphRenderer\", \"id\": \"e080920e-c973-4552-b29c-9fe99383f382\"}, {\"type\": \"GlyphRenderer\", \"id\": \"e0e6ed63-e029-4043-ace9-c6243d65b8f1\"}, {\"type\": \"GlyphRenderer\", \"id\": \"6cd800cd-cf21-4c1e-b228-86bd4753bcdf\"}, {\"type\": \"GlyphRenderer\", \"id\": \"bdb20ddc-ca96-45cd-9e0b-caef2c2d239b\"}, {\"type\": \"GlyphRenderer\", \"id\": \"01f3309d-4540-443a-ba69-f7bc307d2bc3\"}, {\"type\": \"GlyphRenderer\", \"id\": \"0f2251ff-12bf-40fe-a782-2e61ff267d73\"}, {\"type\": \"GlyphRenderer\", \"id\": \"0e1a9464-3a93-47eb-baa7-2a11ea4287e5\"}, {\"type\": \"GlyphRenderer\", \"id\": \"1a3a2dbd-87ec-4e3e-aadd-6b6445f7161b\"}, {\"type\": \"GlyphRenderer\", \"id\": \"c0af000f-6df1-4094-9d10-dec75394a103\"}, {\"type\": \"GlyphRenderer\", \"id\": \"661a7b94-f274-43f6-ac06-fa06d4a2d9b2\"}, {\"type\": \"GlyphRenderer\", \"id\": \"c11fe3a9-daad-4e3c-af2c-d3dfe6b25586\"}, {\"type\": \"GlyphRenderer\", \"id\": \"27d049a7-931a-4324-83b8-a832326f0571\"}, {\"type\": \"GlyphRenderer\", \"id\": \"e2cf22dc-2c22-4768-846a-7b8c9ab6a730\"}, {\"type\": \"GlyphRenderer\", \"id\": \"de571c89-9205-4c50-aecd-c2a743c27fac\"}, {\"type\": \"GlyphRenderer\", \"id\": \"da698af7-ed2a-4252-958a-140122c5735c\"}, {\"type\": \"GlyphRenderer\", \"id\": \"437f8e84-d00e-4c35-8519-93fa84807bb7\"}, {\"type\": \"GlyphRenderer\", \"id\": \"733b9ec2-bdcd-41f4-ae1a-332aaee89a41\"}, {\"type\": \"GlyphRenderer\", \"id\": \"13b13559-b2bf-48fa-9d9c-0996181325b6\"}, {\"type\": \"GlyphRenderer\", \"id\": \"98ebc353-4419-44c8-804a-a3a49f751dd8\"}, {\"type\": \"GlyphRenderer\", \"id\": \"f5023b6c-49a1-4e5d-955f-bd07e519a5eb\"}, {\"type\": \"GlyphRenderer\", \"id\": \"fbbcb461-7d2e-45a6-984a-393d3e2e7a17\"}, {\"type\": \"GlyphRenderer\", \"id\": \"1ed44a15-eab8-4e95-8b02-ec98275329b9\"}, {\"type\": \"CategoricalAxis\", \"id\": \"f7a720a9-5e10-44bb-8ad4-0d250f449559\"}, {\"type\": \"LinearAxis\", \"id\": \"362c8a17-bdb9-46ec-b493-7416f41ad491\"}, {\"type\": \"Grid\", \"id\": \"e31edd62-e0b5-4196-ab5e-97053d011b9d\"}], \"plot_width\": 800, \"xgrid\": false, \"below\": [{\"type\": \"CategoricalAxis\", \"id\": \"f7a720a9-5e10-44bb-8ad4-0d250f449559\"}], \"tool_events\": {\"type\": \"ToolEvents\", \"id\": \"eaf99663-e157-4bf2-bf7a-170035a6f581\"}, \"plot_height\": 400, \"xscale\": \"auto\", \"tools\": [{\"type\": \"PanTool\", \"id\": \"46a948d7-d6a9-479f-b666-4cb32a77c275\"}, {\"type\": \"WheelZoomTool\", \"id\": \"5266ae80-6101-47e9-bae7-e49dfcf7fc72\"}, {\"type\": \"BoxZoomTool\", \"id\": \"233e0130-e2c9-45d8-909a-ef91307e04e0\"}, {\"type\": \"PreviewSaveTool\", \"id\": \"f892f73d-1bc3-4818-904c-e3a29544e772\"}, {\"type\": \"ResizeTool\", \"id\": \"c0bbfa25-c639-4e3f-a94c-c507b58f6a3c\"}, {\"type\": \"ResetTool\", \"id\": \"474afcbe-16c8-4f11-b3a9-0e101378d1bc\"}, {\"type\": \"HelpTool\", \"id\": \"0ee2a5c8-bb4c-47d7-8030-e4d5178c93e7\"}], \"legend\": null, \"left\": [{\"type\": \"LinearAxis\", \"id\": \"362c8a17-bdb9-46ec-b493-7416f41ad491\"}]}, \"type\": \"Plot\", \"id\": \"96d9a664-a197-4479-94f9-4a591061ec34\", \"subtype\": \"Chart\"}, {\"attributes\": {\"x_range\": {\"type\": \"DataRange1d\", \"id\": \"54301cf1-6f3a-4ae2-82b9-3c52c0826cf8\"}, \"y_range\": {\"type\": \"DataRange1d\", \"id\": \"96a4a2a1-3432-4287-b910-47fa9ff83c65\"}, \"renderers\": [{\"type\": \"LinearAxis\", \"id\": \"ddf3a82b-3001-4a39-b7f6-2cc60bc5905a\"}, {\"type\": \"Grid\", \"id\": \"f4d2f885-a42d-4fbd-b4dc-c48fffa7a267\"}, {\"type\": \"LinearAxis\", \"id\": \"849e3f94-8b42-48f2-a57b-a3ffe9a74ac8\"}, {\"type\": \"Grid\", \"id\": \"e4b18204-c54b-4b75-9a30-4b1753b4b61b\"}, {\"type\": \"BoxAnnotation\", \"id\": \"62ce25c9-14cd-439d-9abf-424868b97bfe\"}, {\"type\": \"GlyphRenderer\", \"id\": \"c6164b92-ae6f-48ce-9bb2-cdcdf510a394\"}, {\"type\": \"GlyphRenderer\", \"id\": \"fc5bc885-bc88-440f-aa10-cc5d315d758d\"}], \"plot_width\": 400, \"below\": [{\"type\": \"LinearAxis\", \"id\": \"ddf3a82b-3001-4a39-b7f6-2cc60bc5905a\"}], \"tool_events\": {\"type\": \"ToolEvents\", \"id\": \"f41d0940-8c88-4055-85c0-adf81e8fe991\"}, \"plot_height\": 400, \"tools\": [{\"type\": \"PanTool\", \"id\": \"4db4629e-b11e-4f19-8b09-b353ac91f42d\"}, {\"type\": \"WheelZoomTool\", \"id\": \"d39241da-3d38-4955-aa38-03279bcba69e\"}, {\"type\": \"BoxZoomTool\", \"id\": \"c437b914-b01f-41b7-852e-f22f541f00d0\"}, {\"type\": \"PreviewSaveTool\", \"id\": \"1a3e7a8d-3cad-4515-bf45-d71453e977d7\"}, {\"type\": \"ResizeTool\", \"id\": \"b0f30c48-470f-4f87-a57e-10b47dd94f5e\"}, {\"type\": \"ResetTool\", \"id\": \"13029b45-5581-4080-a9a2-112de4cf056f\"}, {\"type\": \"HelpTool\", \"id\": \"0b3c1590-9ed6-4bb3-87c8-528aab96d4fd\"}], \"left\": [{\"type\": \"LinearAxis\", \"id\": \"849e3f94-8b42-48f2-a57b-a3ffe9a74ac8\"}]}, \"type\": \"Plot\", \"id\": \"f68da6b1-69d3-40ba-b453-7029bfcffb96\", \"subtype\": \"Figure\"}, {\"attributes\": {\"callback\": null, \"column_names\": [\"line_color\", \"line_alpha\", \"color\", \"fill_alpha\", \"height\", \"width\", \"y\", \"x\"], \"data\": {\"line_color\": [\"white\"], \"line_alpha\": [1.0], \"chart_index\": [{\"term\": \"shimano\"}], \"color\": [\"#f22c40\"], \"fill_alpha\": [0.8], \"term\": [\"shimano\"], \"height\": [962.0], \"width\": [0.8], \"y\": [481.0], \"x\": [\"shimano\"]}}, \"type\": \"ColumnDataSource\", \"id\": \"d02b8885-4fb0-47db-afaa-42f0b7765bd9\"}, {\"attributes\": {\"callback\": null, \"column_names\": [\"line_color\", \"line_alpha\", \"color\", \"fill_alpha\", \"height\", \"width\", \"y\", \"x\"], \"data\": {\"line_color\": [\"white\"], \"line_alpha\": [1.0], \"chart_index\": [{\"term\": \"bike\"}], \"color\": [\"#f22c40\"], \"fill_alpha\": [0.8], \"term\": [\"bike\"], \"height\": [4534.0], \"width\": [0.8], \"y\": [2267.0], \"x\": [\"bike\"]}}, \"type\": \"ColumnDataSource\", \"id\": \"a1faf4c8-150b-4536-a53d-9fd81a146213\"}]}, \"title\": \"Bokeh Application\"}};\n",
       "            var render_items = [{\"notebook_comms_target\": \"89ec4a7c-5c59-4ec6-924c-cec72bcf1e9d\", \"docid\": \"ca978880-46ea-4074-aa39-a2ad879bca5a\", \"elementid\": \"d133bb91-fdd7-412f-b394-3dac9bd33d16\", \"modelid\": \"96d9a664-a197-4479-94f9-4a591061ec34\"}];\n",
       "            \n",
       "            Bokeh.embed.embed_items(docs_json, render_items);\n",
       "        });\n",
       "      },\n",
       "      function(Bokeh) {\n",
       "      }\n",
       "    ];\n",
       "  \n",
       "    function run_inline_js() {\n",
       "      for (var i = 0; i < inline_js.length; i++) {\n",
       "        inline_js[i](window.Bokeh);\n",
       "      }\n",
       "    }\n",
       "  \n",
       "    if (window._bokeh_is_loading === 0) {\n",
       "      console.log(\"Bokeh: BokehJS loaded, going straight to plotting\");\n",
       "      run_inline_js();\n",
       "    } else {\n",
       "      load_libs(js_urls, function() {\n",
       "        console.log(\"Bokeh: BokehJS plotting callback run at\", now());\n",
       "        run_inline_js();\n",
       "      });\n",
       "    }\n",
       "  }(this));\n",
       "</script>"
      ]
     },
     "metadata": {},
     "output_type": "display_data"
    },
    {
     "data": {
      "text/plain": [
       "<bokeh.io._CommsHandle at 0x7fad8606d610>"
      ]
     },
     "execution_count": 16,
     "metadata": {},
     "output_type": "execute_result"
    }
   ],
   "source": [
    "df = pd.DataFrame({'term':[x for x in idx.keys()],'freq':[len(x) for x in idx.values()]})\n",
    "\n",
    "output_notebook(hide_banner=True)\n",
    "p = Bar(df.sort_values('freq', ascending=False)[:30], label=CatAttr(columns=['term'], sort=False), values='freq',\n",
    "        plot_width=800, plot_height=400)\n",
    "show(p)\n"
   ]
  },
  {
   "cell_type": "markdown",
   "metadata": {},
   "source": [
    "## Inverse Document Frequency (IDF)\n",
    "\n",
    "It would seem sensible to down weight words that are very common in the corpus - the word 'bike' in a query is not as discriminating as the word 'front'. IDF is a way to quantify how common or rare a term is in the corpus.  It is computed by taking the log of the inverse fraction of the number of documents in which the term appears divided by the total number of documents.  To avoid division by zero it is common to add 1 to the number of documents in which the term appears.  \n",
    "\n",
    "IDF is already partially computed when we constructed the inverted index - it is the number of documents the term apears in - in otherwords the length of the document list in the inverted index"
   ]
  },
  {
   "cell_type": "code",
   "execution_count": 17,
   "metadata": {
    "collapsed": false
   },
   "outputs": [
    {
     "data": {
      "text/html": [
       "\n",
       "\n",
       "    <script type=\"text/javascript\">\n",
       "      \n",
       "      (function(global) {\n",
       "        function now() {\n",
       "          return new Date();\n",
       "        }\n",
       "      \n",
       "        if (typeof (window._bokeh_onload_callbacks) === \"undefined\") {\n",
       "          window._bokeh_onload_callbacks = [];\n",
       "        }\n",
       "      \n",
       "        function run_callbacks() {\n",
       "          window._bokeh_onload_callbacks.forEach(function(callback) { callback() });\n",
       "          delete window._bokeh_onload_callbacks\n",
       "          console.info(\"Bokeh: all callbacks have finished\");\n",
       "        }\n",
       "      \n",
       "        function load_libs(js_urls, callback) {\n",
       "          window._bokeh_onload_callbacks.push(callback);\n",
       "          if (window._bokeh_is_loading > 0) {\n",
       "            console.log(\"Bokeh: BokehJS is being loaded, scheduling callback at\", now());\n",
       "            return null;\n",
       "          }\n",
       "          if (js_urls == null || js_urls.length === 0) {\n",
       "            run_callbacks();\n",
       "            return null;\n",
       "          }\n",
       "          console.log(\"Bokeh: BokehJS not loaded, scheduling load and callback at\", now());\n",
       "          window._bokeh_is_loading = js_urls.length;\n",
       "          for (var i = 0; i < js_urls.length; i++) {\n",
       "            var url = js_urls[i];\n",
       "            var s = document.createElement('script');\n",
       "            s.src = url;\n",
       "            s.async = false;\n",
       "            s.onreadystatechange = s.onload = function() {\n",
       "              window._bokeh_is_loading--;\n",
       "              if (window._bokeh_is_loading === 0) {\n",
       "                console.log(\"Bokeh: all BokehJS libraries loaded\");\n",
       "                run_callbacks()\n",
       "              }\n",
       "            };\n",
       "            s.onerror = function() {\n",
       "              console.warn(\"failed to load library \" + url);\n",
       "            };\n",
       "            console.log(\"Bokeh: injecting script tag for BokehJS library: \", url);\n",
       "            document.getElementsByTagName(\"head\")[0].appendChild(s);\n",
       "          }\n",
       "        };var js_urls = ['https://cdn.pydata.org/bokeh/release/bokeh-0.11.0.min.js', 'https://cdn.pydata.org/bokeh/release/bokeh-widgets-0.11.0.min.js', 'https://cdn.pydata.org/bokeh/release/bokeh-compiler-0.11.0.min.js'];\n",
       "      \n",
       "        var inline_js = [\n",
       "          function(Bokeh) {\n",
       "            Bokeh.set_log_level(\"info\");\n",
       "          },\n",
       "          function(Bokeh) {\n",
       "            console.log(\"Bokeh: injecting CSS: https://cdn.pydata.org/bokeh/release/bokeh-0.11.0.min.css\");\n",
       "            Bokeh.embed.inject_css(\"https://cdn.pydata.org/bokeh/release/bokeh-0.11.0.min.css\");\n",
       "            console.log(\"Bokeh: injecting CSS: https://cdn.pydata.org/bokeh/release/bokeh-widgets-0.11.0.min.css\");\n",
       "            Bokeh.embed.inject_css(\"https://cdn.pydata.org/bokeh/release/bokeh-widgets-0.11.0.min.css\");\n",
       "          }\n",
       "        ];\n",
       "      \n",
       "        function run_inline_js() {\n",
       "          for (var i = 0; i < inline_js.length; i++) {\n",
       "            inline_js[i](window.Bokeh);\n",
       "          }\n",
       "        }\n",
       "      \n",
       "        if (window._bokeh_is_loading === 0) {\n",
       "          console.log(\"Bokeh: BokehJS loaded, going straight to plotting\");\n",
       "          run_inline_js();\n",
       "        } else {\n",
       "          load_libs(js_urls, function() {\n",
       "            console.log(\"Bokeh: BokehJS plotting callback run at\", now());\n",
       "            run_inline_js();\n",
       "          });\n",
       "        }\n",
       "      }(this));\n",
       "    </script>"
      ]
     },
     "metadata": {},
     "output_type": "display_data"
    },
    {
     "data": {
      "text/html": [
       "\n",
       "\n",
       "    <div class=\"plotdiv\" id=\"e7353751-9dee-4dde-aa45-51235ed0d2d2\"></div>\n",
       "<script type=\"text/javascript\">\n",
       "  \n",
       "  (function(global) {\n",
       "    function now() {\n",
       "      return new Date();\n",
       "    }\n",
       "  \n",
       "    if (typeof (window._bokeh_onload_callbacks) === \"undefined\") {\n",
       "      window._bokeh_onload_callbacks = [];\n",
       "    }\n",
       "  \n",
       "    function run_callbacks() {\n",
       "      window._bokeh_onload_callbacks.forEach(function(callback) { callback() });\n",
       "      delete window._bokeh_onload_callbacks\n",
       "      console.info(\"Bokeh: all callbacks have finished\");\n",
       "    }\n",
       "  \n",
       "    function load_libs(js_urls, callback) {\n",
       "      window._bokeh_onload_callbacks.push(callback);\n",
       "      if (window._bokeh_is_loading > 0) {\n",
       "        console.log(\"Bokeh: BokehJS is being loaded, scheduling callback at\", now());\n",
       "        return null;\n",
       "      }\n",
       "      if (js_urls == null || js_urls.length === 0) {\n",
       "        run_callbacks();\n",
       "        return null;\n",
       "      }\n",
       "      console.log(\"Bokeh: BokehJS not loaded, scheduling load and callback at\", now());\n",
       "      window._bokeh_is_loading = js_urls.length;\n",
       "      for (var i = 0; i < js_urls.length; i++) {\n",
       "        var url = js_urls[i];\n",
       "        var s = document.createElement('script');\n",
       "        s.src = url;\n",
       "        s.async = false;\n",
       "        s.onreadystatechange = s.onload = function() {\n",
       "          window._bokeh_is_loading--;\n",
       "          if (window._bokeh_is_loading === 0) {\n",
       "            console.log(\"Bokeh: all BokehJS libraries loaded\");\n",
       "            run_callbacks()\n",
       "          }\n",
       "        };\n",
       "        s.onerror = function() {\n",
       "          console.warn(\"failed to load library \" + url);\n",
       "        };\n",
       "        console.log(\"Bokeh: injecting script tag for BokehJS library: \", url);\n",
       "        document.getElementsByTagName(\"head\")[0].appendChild(s);\n",
       "      }\n",
       "    };var element = document.getElementById(\"e7353751-9dee-4dde-aa45-51235ed0d2d2\");\n",
       "    if (element == null) {\n",
       "      console.log(\"Bokeh: ERROR: autoload.js configured with elementid 'e7353751-9dee-4dde-aa45-51235ed0d2d2' but no matching script tag was found. \")\n",
       "      return false;\n",
       "    }var js_urls = [];\n",
       "  \n",
       "    var inline_js = [\n",
       "      function(Bokeh) {\n",
       "        Bokeh.$(function() {\n",
       "            var docs_json = {\"fef29464-d2c1-447d-808c-a0f971542124\": {\"version\": \"0.11.0\", \"roots\": {\"root_ids\": [\"f68da6b1-69d3-40ba-b453-7029bfcffb96\", \"47bc8d2d-d405-48ff-b513-972d28b02732\", \"96d9a664-a197-4479-94f9-4a591061ec34\", \"2c25e2f5-0bee-4ff6-a31a-2622e2026918\"], \"references\": [{\"attributes\": {\"nonselection_glyph\": null, \"data_source\": {\"type\": \"ColumnDataSource\", \"id\": \"12a23b57-c18d-4aac-a809-d9cbd9838110\"}, \"selection_glyph\": null, \"hover_glyph\": null, \"glyph\": {\"type\": \"Rect\", \"id\": \"5c0ce026-1fc3-43d4-994e-7a0247aca5db\"}}, \"type\": \"GlyphRenderer\", \"id\": \"4d404a73-a162-4723-8b41-706a50704bdd\"}, {\"attributes\": {\"line_color\": {\"field\": \"line_color\"}, \"fill_color\": {\"field\": \"color\"}, \"fill_alpha\": {\"field\": \"fill_alpha\"}, \"height\": {\"units\": \"data\", \"field\": \"height\"}, \"width\": {\"units\": \"data\", \"field\": \"width\"}, \"y\": {\"field\": \"y\"}, \"x\": {\"field\": \"x\"}}, \"type\": \"Rect\", \"id\": \"33d5a151-2ecd-46ec-9d9e-8a56e1ab83cd\"}, {\"attributes\": {\"nonselection_glyph\": null, \"data_source\": {\"type\": \"ColumnDataSource\", \"id\": \"774674db-8e1a-4ad6-968e-9f6572838de4\"}, \"selection_glyph\": null, \"hover_glyph\": null, \"glyph\": {\"type\": \"Rect\", \"id\": \"bc9f33c1-dd88-45f6-b663-2c392cb264d9\"}}, \"type\": \"GlyphRenderer\", \"id\": \"cb2fe004-bec9-4850-bdf8-5a6c24e2bb62\"}, {\"attributes\": {\"plot\": {\"subtype\": \"Chart\", \"type\": \"Plot\", \"id\": \"5527bbff-a6a9-4d2b-811c-9e446fe3f2a6\"}}, \"type\": \"PreviewSaveTool\", \"id\": \"0786e607-9a4e-4ef7-903a-d0fa137a5175\"}, {\"attributes\": {\"plot\": {\"subtype\": \"Chart\", \"type\": \"Plot\", \"id\": \"47bc8d2d-d405-48ff-b513-972d28b02732\"}}, \"type\": \"PreviewSaveTool\", \"id\": \"182b39c4-1ee7-49c2-b6e6-71828ca3a7be\"}, {\"attributes\": {\"nonselection_glyph\": null, \"data_source\": {\"type\": \"ColumnDataSource\", \"id\": \"20cef9e0-ec6c-40a8-8914-90cbcd0c37c5\"}, \"selection_glyph\": null, \"hover_glyph\": null, \"glyph\": {\"type\": \"Rect\", \"id\": \"52ed81db-c9aa-446f-be99-2aae66a5fe65\"}}, \"type\": \"GlyphRenderer\", \"id\": \"66bf0908-2aa3-4cce-8f36-cc4253c42e59\"}, {\"attributes\": {}, \"type\": \"ToolEvents\", \"id\": \"31b5de37-7d02-4047-a0fe-f979f6230c50\"}, {\"attributes\": {}, \"type\": \"BasicTicker\", \"id\": \"1cb247a4-efb2-479e-85e5-39a312ac1536\"}, {\"attributes\": {\"nonselection_glyph\": null, \"data_source\": {\"type\": \"ColumnDataSource\", \"id\": \"e61ad323-6fe9-48c0-991d-616efc2a8df5\"}, \"selection_glyph\": null, \"hover_glyph\": null, \"glyph\": {\"type\": \"Rect\", \"id\": \"eff00e3c-633a-414c-bc1e-e20568306a45\"}}, \"type\": \"GlyphRenderer\", \"id\": \"d51176df-ad38-4049-b4ad-0375da5cbc56\"}, {\"attributes\": {\"line_color\": {\"field\": \"line_color\"}, \"fill_color\": {\"field\": \"color\"}, \"fill_alpha\": {\"field\": \"fill_alpha\"}, \"height\": {\"units\": \"data\", \"field\": \"height\"}, \"width\": {\"units\": \"data\", \"field\": \"width\"}, \"y\": {\"field\": \"y\"}, \"x\": {\"field\": \"x\"}}, \"type\": \"Rect\", \"id\": \"1ba4feb3-cc58-4c4e-b652-b4559ca1d6b0\"}, {\"attributes\": {}, \"type\": \"CategoricalTickFormatter\", \"id\": \"beec32ee-0c0c-4289-8e02-a7f76aa71c78\"}, {\"attributes\": {\"plot\": {\"subtype\": \"Figure\", \"type\": \"Plot\", \"id\": \"f68da6b1-69d3-40ba-b453-7029bfcffb96\"}}, \"type\": \"WheelZoomTool\", \"id\": \"d39241da-3d38-4955-aa38-03279bcba69e\"}, {\"attributes\": {\"plot\": {\"subtype\": \"Chart\", \"type\": \"Plot\", \"id\": \"5527bbff-a6a9-4d2b-811c-9e446fe3f2a6\"}}, \"type\": \"WheelZoomTool\", \"id\": \"c4e599e1-363b-4679-9918-820eb4154307\"}, {\"attributes\": {\"line_color\": {\"field\": \"line_color\"}, \"fill_color\": {\"field\": \"color\"}, \"fill_alpha\": {\"field\": \"fill_alpha\"}, \"height\": {\"units\": \"data\", \"field\": \"height\"}, \"width\": {\"units\": \"data\", \"field\": \"width\"}, \"y\": {\"field\": \"y\"}, \"x\": {\"field\": \"x\"}}, \"type\": \"Rect\", \"id\": \"e634b679-2cd9-49f7-874a-f1709badffb4\"}, {\"attributes\": {\"line_color\": {\"field\": \"line_color\"}, \"fill_color\": {\"field\": \"color\"}, \"fill_alpha\": {\"field\": \"fill_alpha\"}, \"height\": {\"units\": \"data\", \"field\": \"height\"}, \"width\": {\"units\": \"data\", \"field\": \"width\"}, \"y\": {\"field\": \"y\"}, \"x\": {\"field\": \"x\"}}, \"type\": \"Rect\", \"id\": \"684041f0-78f9-46a2-8d19-ef1bfb1ccf7e\"}, {\"attributes\": {\"major_label_orientation\": 0.7853981633974483, \"plot\": {\"subtype\": \"Chart\", \"type\": \"Plot\", \"id\": \"7151331e-0e5b-4f09-b51d-b941b2b77c94\"}, \"axis_label\": \"Term\", \"formatter\": {\"type\": \"CategoricalTickFormatter\", \"id\": \"33d292cc-7f3b-4e7f-93e3-3da84a55c811\"}, \"ticker\": {\"type\": \"CategoricalTicker\", \"id\": \"82b1c0c6-807a-48be-86e6-ef6a46804af7\"}}, \"type\": \"CategoricalAxis\", \"id\": \"fc7d2154-9482-4dca-aefd-0d08a40beb31\"}, {\"attributes\": {\"major_label_orientation\": 0.7853981633974483, \"plot\": {\"subtype\": \"Chart\", \"type\": \"Plot\", \"id\": \"5527bbff-a6a9-4d2b-811c-9e446fe3f2a6\"}, \"axis_label\": \"Term\", \"formatter\": {\"type\": \"CategoricalTickFormatter\", \"id\": \"beec32ee-0c0c-4289-8e02-a7f76aa71c78\"}, \"ticker\": {\"type\": \"CategoricalTicker\", \"id\": \"24b24bdf-5502-4334-bbd0-5fadfd0ffcab\"}}, \"type\": \"CategoricalAxis\", \"id\": \"af3b4e34-9d30-4d8e-9dc3-398d122d5b60\"}, {\"attributes\": {}, \"type\": \"ToolEvents\", \"id\": \"d49a5773-de0a-4493-a1ce-b079197eaa6f\"}, {\"attributes\": {}, \"type\": \"BasicTicker\", \"id\": \"0ab6207f-7c61-4d37-a1c5-f7f09937a656\"}, {\"attributes\": {\"nonselection_glyph\": null, \"data_source\": {\"type\": \"ColumnDataSource\", \"id\": \"f8d06e3d-186b-4ef2-8cb2-ffa2fd5d05ce\"}, \"selection_glyph\": null, \"hover_glyph\": null, \"glyph\": {\"type\": \"Rect\", \"id\": \"2262b4fa-c504-4eb7-b6be-426b559108ba\"}}, \"type\": \"GlyphRenderer\", \"id\": \"760305ae-5771-456f-9147-704098ec05f1\"}, {\"attributes\": {\"plot\": {\"subtype\": \"Chart\", \"type\": \"Plot\", \"id\": \"7151331e-0e5b-4f09-b51d-b941b2b77c94\"}, \"ticker\": {\"type\": \"BasicTicker\", \"id\": \"eefdf649-3267-464f-a840-ef1853174faf\"}, \"dimension\": 1}, \"type\": \"Grid\", \"id\": \"54d71d18-27b1-44fa-b958-294fb1f5b2e0\"}, {\"attributes\": {\"line_color\": {\"field\": \"line_color\"}, \"fill_color\": {\"field\": \"color\"}, \"fill_alpha\": {\"field\": \"fill_alpha\"}, \"height\": {\"units\": \"data\", \"field\": \"height\"}, \"width\": {\"units\": \"data\", \"field\": \"width\"}, \"y\": {\"field\": \"y\"}, \"x\": {\"field\": \"x\"}}, \"type\": \"Rect\", \"id\": \"5052c519-fce1-4a92-99f8-0f209d6d08bc\"}, {\"attributes\": {\"line_color\": {\"field\": \"line_color\"}, \"fill_color\": {\"field\": \"color\"}, \"fill_alpha\": {\"field\": \"fill_alpha\"}, \"height\": {\"units\": \"data\", \"field\": \"height\"}, \"width\": {\"units\": \"data\", \"field\": \"width\"}, \"y\": {\"field\": \"y\"}, \"x\": {\"field\": \"x\"}}, \"type\": \"Rect\", \"id\": \"52ed81db-c9aa-446f-be99-2aae66a5fe65\"}, {\"attributes\": {\"callback\": null, \"factors\": [\"csr\", \"tf2\", \"tfm2\"]}, \"type\": \"FactorRange\", \"id\": \"15f3a98b-5a8e-4de1-8ed3-3c883802ab5c\"}, {\"attributes\": {\"plot\": {\"subtype\": \"Chart\", \"type\": \"Plot\", \"id\": \"47bc8d2d-d405-48ff-b513-972d28b02732\"}, \"overlay\": {\"type\": \"BoxAnnotation\", \"id\": \"b3d96623-c762-4984-aab5-d5f8a84d0bb4\"}}, \"type\": \"BoxZoomTool\", \"id\": \"1c36072e-0bf6-4b7b-a120-21520c6c6b97\"}, {\"attributes\": {\"callback\": null, \"column_names\": [\"line_color\", \"line_alpha\", \"color\", \"fill_alpha\", \"height\", \"width\", \"y\", \"x\"], \"data\": {\"line_color\": [\"white\"], \"line_alpha\": [1.0], \"chart_index\": [{\"term\": \"cycling\"}], \"color\": [\"#f22c40\"], \"fill_alpha\": [0.8], \"term\": [\"cycling\"], \"height\": [1.5296207198496456], \"width\": [0.8], \"y\": [0.7648103599248228], \"x\": [\"cycling\"]}}, \"type\": \"ColumnDataSource\", \"id\": \"410005c3-e00b-437a-ab02-b0bea71a5771\"}, {\"attributes\": {\"callback\": null, \"column_names\": [\"line_color\", \"line_alpha\", \"color\", \"fill_alpha\", \"height\", \"width\", \"y\", \"x\"], \"data\": {\"line_color\": [\"white\"], \"line_alpha\": [1.0], \"chart_index\": [{\"Type\": \"csr\"}], \"color\": [\"#f22c40\"], \"fill_alpha\": [0.8], \"height\": [64.0], \"width\": [0.8], \"y\": [32.0], \"x\": [\"csr\"], \"Type\": [\"csr\"]}}, \"type\": \"ColumnDataSource\", \"id\": \"dc188118-6ac9-48bb-9adc-013d5a88747a\"}, {\"attributes\": {\"callback\": null, \"column_names\": [\"line_color\", \"line_alpha\", \"color\", \"fill_alpha\", \"height\", \"width\", \"y\", \"x\"], \"data\": {\"line_color\": [\"white\"], \"line_alpha\": [1.0], \"chart_index\": [{\"term\": \"tire\"}], \"color\": [\"#f22c40\"], \"fill_alpha\": [0.8], \"term\": [\"tire\"], \"height\": [480.0], \"width\": [0.8], \"y\": [240.0], \"x\": [\"tire\"]}}, \"type\": \"ColumnDataSource\", \"id\": \"a812aadc-d01b-4c90-827f-2c5c85126666\"}, {\"attributes\": {\"callback\": null, \"column_names\": [\"line_color\", \"line_alpha\", \"color\", \"fill_alpha\", \"height\", \"width\", \"y\", \"x\"], \"data\": {\"line_color\": [\"white\"], \"line_alpha\": [1.0], \"chart_index\": [{\"term\": \"bmx\"}], \"color\": [\"#f22c40\"], \"fill_alpha\": [0.8], \"term\": [\"bmx\"], \"height\": [559.0], \"width\": [0.8], \"y\": [279.5], \"x\": [\"bmx\"]}}, \"type\": \"ColumnDataSource\", \"id\": \"976ee8b6-b6c0-480e-8970-8c9b590cc1a2\"}, {\"attributes\": {\"plot\": {\"subtype\": \"Chart\", \"type\": \"Plot\", \"id\": \"47bc8d2d-d405-48ff-b513-972d28b02732\"}}, \"type\": \"WheelZoomTool\", \"id\": \"1e3e9652-4f5a-4a72-9d34-57636f9b7649\"}, {\"attributes\": {\"callback\": null, \"column_names\": [\"line_color\", \"line_alpha\", \"color\", \"fill_alpha\", \"height\", \"width\", \"y\", \"x\"], \"data\": {\"line_color\": [\"white\"], \"line_alpha\": [1.0], \"chart_index\": [{\"term\": \"s\"}], \"color\": [\"#f22c40\"], \"fill_alpha\": [0.8], \"term\": [\"s\"], \"height\": [545.0], \"width\": [0.8], \"y\": [272.5], \"x\": [\"s\"]}}, \"type\": \"ColumnDataSource\", \"id\": \"5f01aea9-9da5-4bda-8bad-e0a8f327017c\"}, {\"attributes\": {\"plot\": {\"subtype\": \"Chart\", \"type\": \"Plot\", \"id\": \"7151331e-0e5b-4f09-b51d-b941b2b77c94\"}}, \"type\": \"PanTool\", \"id\": \"c3ade520-4128-4d49-89cf-e75e78c1bf2d\"}, {\"attributes\": {\"plot\": {\"subtype\": \"Chart\", \"type\": \"Plot\", \"id\": \"7151331e-0e5b-4f09-b51d-b941b2b77c94\"}, \"overlay\": {\"type\": \"BoxAnnotation\", \"id\": \"c17e8cdc-991f-4c62-82bd-dd147f12a190\"}}, \"type\": \"BoxZoomTool\", \"id\": \"a1b2658b-c307-4dc9-a78e-69a29ca63ec1\"}, {\"attributes\": {\"callback\": null, \"column_names\": [\"line_color\", \"line_alpha\", \"color\", \"fill_alpha\", \"height\", \"width\", \"y\", \"x\"], \"data\": {\"line_color\": [\"white\"], \"line_alpha\": [1.0], \"chart_index\": [{\"term\": \"handlebar\"}], \"color\": [\"#f22c40\"], \"fill_alpha\": [0.8], \"term\": [\"handlebar\"], \"height\": [467.0], \"width\": [0.8], \"y\": [233.5], \"x\": [\"handlebar\"]}}, \"type\": \"ColumnDataSource\", \"id\": \"c0582d30-1bd6-4cf4-ba0d-08733f1c0a1d\"}, {\"attributes\": {\"plot\": {\"subtype\": \"Chart\", \"type\": \"Plot\", \"id\": \"7151331e-0e5b-4f09-b51d-b941b2b77c94\"}}, \"type\": \"ResizeTool\", \"id\": \"bb87eb13-287c-4dcc-bf28-86134e8c988d\"}, {\"attributes\": {\"nonselection_glyph\": null, \"data_source\": {\"type\": \"ColumnDataSource\", \"id\": \"264d6c03-f534-4ede-a4b7-ae21f13542b9\"}, \"selection_glyph\": null, \"hover_glyph\": null, \"glyph\": {\"type\": \"Rect\", \"id\": \"1175a84c-bb07-4c41-b5a2-fefd1f33d071\"}}, \"type\": \"GlyphRenderer\", \"id\": \"36facc2b-3303-4eca-8f2d-8ed4f604373c\"}, {\"attributes\": {\"line_color\": {\"field\": \"line_color\"}, \"fill_color\": {\"field\": \"color\"}, \"fill_alpha\": {\"field\": \"fill_alpha\"}, \"height\": {\"units\": \"data\", \"field\": \"height\"}, \"width\": {\"units\": \"data\", \"field\": \"width\"}, \"y\": {\"field\": \"y\"}, \"x\": {\"field\": \"x\"}}, \"type\": \"Rect\", \"id\": \"57ad6a0c-8ee1-408d-8b46-f83eeee2ca9f\"}, {\"attributes\": {\"nonselection_glyph\": null, \"data_source\": {\"type\": \"ColumnDataSource\", \"id\": \"caf54dbe-1372-4846-b1a0-1b7ed474f033\"}, \"selection_glyph\": null, \"hover_glyph\": null, \"glyph\": {\"type\": \"Rect\", \"id\": \"24556e35-5c1e-442d-bac7-120cec50172c\"}}, \"type\": \"GlyphRenderer\", \"id\": \"c0af000f-6df1-4094-9d10-dec75394a103\"}, {\"attributes\": {\"nonselection_glyph\": null, \"data_source\": {\"type\": \"ColumnDataSource\", \"id\": \"2c531337-19b6-4407-b9c3-d93035144603\"}, \"selection_glyph\": null, \"hover_glyph\": null, \"glyph\": {\"type\": \"Rect\", \"id\": \"1cdd2c5c-1f6a-4e3b-ae58-5a220aee4ea9\"}}, \"type\": \"GlyphRenderer\", \"id\": \"fbbcb461-7d2e-45a6-984a-393d3e2e7a17\"}, {\"attributes\": {\"line_color\": {\"field\": \"line_color\"}, \"fill_color\": {\"field\": \"color\"}, \"fill_alpha\": {\"field\": \"fill_alpha\"}, \"height\": {\"units\": \"data\", \"field\": \"height\"}, \"width\": {\"units\": \"data\", \"field\": \"width\"}, \"y\": {\"field\": \"y\"}, \"x\": {\"field\": \"x\"}}, \"type\": \"Rect\", \"id\": \"e39a53d3-f997-4043-a941-98ed72ae6be7\"}, {\"attributes\": {\"line_color\": {\"field\": \"line_color\"}, \"fill_color\": {\"field\": \"color\"}, \"fill_alpha\": {\"field\": \"fill_alpha\"}, \"height\": {\"units\": \"data\", \"field\": \"height\"}, \"width\": {\"units\": \"data\", \"field\": \"width\"}, \"y\": {\"field\": \"y\"}, \"x\": {\"field\": \"x\"}}, \"type\": \"Rect\", \"id\": \"27299c63-e10b-44a6-abaa-f964ec51ea77\"}, {\"attributes\": {\"line_color\": {\"value\": \"black\"}, \"line_alpha\": {\"value\": 1.0}, \"render_mode\": \"css\", \"bottom_units\": \"screen\", \"level\": \"overlay\", \"top_units\": \"screen\", \"fill_alpha\": {\"value\": 0.5}, \"plot\": null, \"left_units\": \"screen\", \"line_dash\": [4, 4], \"line_width\": {\"value\": 2}, \"right_units\": \"screen\", \"fill_color\": {\"value\": \"lightgrey\"}}, \"type\": \"BoxAnnotation\", \"id\": \"c17e8cdc-991f-4c62-82bd-dd147f12a190\"}, {\"attributes\": {\"nonselection_glyph\": null, \"data_source\": {\"type\": \"ColumnDataSource\", \"id\": \"a633f912-9aaf-454e-aea9-cc505dc7acfe\"}, \"selection_glyph\": null, \"hover_glyph\": null, \"glyph\": {\"type\": \"Rect\", \"id\": \"a3b772b7-470f-4149-bacb-054e14de31d8\"}}, \"type\": \"GlyphRenderer\", \"id\": \"bdb20ddc-ca96-45cd-9e0b-caef2c2d239b\"}, {\"attributes\": {\"major_label_orientation\": 0.7853981633974483, \"plot\": {\"subtype\": \"Chart\", \"type\": \"Plot\", \"id\": \"47bc8d2d-d405-48ff-b513-972d28b02732\"}, \"axis_label\": \"Type\", \"formatter\": {\"type\": \"CategoricalTickFormatter\", \"id\": \"c89bbe82-2e14-47d6-8c40-47d147a6247e\"}, \"ticker\": {\"type\": \"CategoricalTicker\", \"id\": \"af7f6ea3-bb35-4be5-b952-3dd515fc0f82\"}}, \"type\": \"CategoricalAxis\", \"id\": \"792573dd-eb44-4e9c-9d76-0585f590c87f\"}, {\"attributes\": {}, \"type\": \"BasicTickFormatter\", \"id\": \"fb462212-e026-4647-9b21-9037dd909f89\"}, {\"attributes\": {\"nonselection_glyph\": null, \"data_source\": {\"type\": \"ColumnDataSource\", \"id\": \"5e7cc76e-8228-4778-89ce-1426c7b67d3c\"}, \"selection_glyph\": null, \"hover_glyph\": null, \"glyph\": {\"type\": \"Rect\", \"id\": \"18a19412-e9a4-432b-a41d-04d3f82bad1a\"}}, \"type\": \"GlyphRenderer\", \"id\": \"3c4eb6c1-a55a-47b6-a2b8-ed25f307ed47\"}, {\"attributes\": {\"nonselection_glyph\": null, \"data_source\": {\"type\": \"ColumnDataSource\", \"id\": \"398cb9c0-454d-4aed-ba61-0e00dae953cb\"}, \"selection_glyph\": null, \"hover_glyph\": null, \"glyph\": {\"type\": \"Rect\", \"id\": \"1d87000f-f4b5-43a9-8242-582d7b44c873\"}}, \"type\": \"GlyphRenderer\", \"id\": \"0e1a9464-3a93-47eb-baa7-2a11ea4287e5\"}, {\"attributes\": {\"callback\": null, \"factors\": [\"bike\", \"bicycle\", \"new\", \"cycling\", \"black\", \"road\", \"shimano\", \"mtb\", \"mountain\", \"x\", \"speed\", \"rear\", \"for\", \"light\", \"front\", \"led\", \"bmx\", \"s\", \"brake\", \"set\", \"carbon\", \"tire\", \"red\", \"handlebar\", \"bottle\", \"water\", \"seat\", \"lamp\", \"wheel\", \"chain\"]}, \"type\": \"FactorRange\", \"id\": \"99f0e85a-01c3-4146-b13f-e6c152639117\"}, {\"attributes\": {\"callback\": null, \"column_names\": [\"line_color\", \"line_alpha\", \"color\", \"fill_alpha\", \"height\", \"width\", \"y\", \"x\"], \"data\": {\"line_color\": [\"white\"], \"line_alpha\": [1.0], \"chart_index\": [{\"term\": \"handlebar\"}], \"color\": [\"#f22c40\"], \"fill_alpha\": [0.8], \"term\": [\"handlebar\"], \"height\": [3.0532534576543253], \"width\": [0.8], \"y\": [1.5266267288271627], \"x\": [\"handlebar\"]}}, \"type\": \"ColumnDataSource\", \"id\": \"d5433270-a410-4e28-80e2-5b37e64cdbd8\"}, {\"attributes\": {\"callback\": null, \"column_names\": [\"line_color\", \"line_alpha\", \"color\", \"fill_alpha\", \"height\", \"width\", \"y\", \"x\"], \"data\": {\"line_color\": [\"white\"], \"line_alpha\": [1.0], \"chart_index\": [{\"term\": \"light\"}], \"color\": [\"#f22c40\"], \"fill_alpha\": [0.8], \"term\": [\"light\"], \"height\": [657.0], \"width\": [0.8], \"y\": [328.5], \"x\": [\"light\"]}}, \"type\": \"ColumnDataSource\", \"id\": \"12a23b57-c18d-4aac-a809-d9cbd9838110\"}, {\"attributes\": {\"callback\": null, \"column_names\": [\"line_color\", \"line_alpha\", \"color\", \"fill_alpha\", \"height\", \"width\", \"y\", \"x\"], \"data\": {\"line_color\": [\"white\"], \"line_alpha\": [1.0], \"chart_index\": [{\"term\": \"tire\"}], \"color\": [\"#f22c40\"], \"fill_alpha\": [0.8], \"term\": [\"tire\"], \"height\": [466.0], \"width\": [0.8], \"y\": [233.0], \"x\": [\"tire\"]}}, \"type\": \"ColumnDataSource\", \"id\": \"25dae2e0-4435-410f-8967-9657e96a47f7\"}, {\"attributes\": {\"callback\": null, \"column_names\": [\"line_color\", \"line_alpha\", \"color\", \"fill_alpha\", \"height\", \"width\", \"y\", \"x\"], \"data\": {\"line_color\": [\"white\"], \"line_alpha\": [1.0], \"chart_index\": [{\"term\": \"shimano\"}], \"color\": [\"#f22c40\"], \"fill_alpha\": [0.8], \"term\": [\"shimano\"], \"height\": [962.0], \"width\": [0.8], \"y\": [481.0], \"x\": [\"shimano\"]}}, \"type\": \"ColumnDataSource\", \"id\": \"d02b8885-4fb0-47db-afaa-42f0b7765bd9\"}, {\"attributes\": {\"callback\": null, \"column_names\": [\"line_color\", \"line_alpha\", \"color\", \"fill_alpha\", \"height\", \"width\", \"y\", \"x\"], \"data\": {\"line_color\": [\"white\"], \"line_alpha\": [1.0], \"chart_index\": [{\"Type\": \"tfm2\"}], \"color\": [\"#f22c40\"], \"fill_alpha\": [0.8], \"height\": [7992.0], \"width\": [0.8], \"y\": [3996.0], \"x\": [\"tfm2\"], \"Type\": [\"tfm2\"]}}, \"type\": \"ColumnDataSource\", \"id\": \"88195f08-427f-4832-b74d-c31ba83be647\"}, {\"attributes\": {}, \"type\": \"CategoricalTicker\", \"id\": \"24b24bdf-5502-4334-bbd0-5fadfd0ffcab\"}, {\"attributes\": {\"nonselection_glyph\": null, \"data_source\": {\"type\": \"ColumnDataSource\", \"id\": \"88195f08-427f-4832-b74d-c31ba83be647\"}, \"selection_glyph\": null, \"hover_glyph\": null, \"glyph\": {\"type\": \"Rect\", \"id\": \"a7c4d0f2-9844-4809-b758-db96ac345ac4\"}}, \"type\": \"GlyphRenderer\", \"id\": \"d7be3778-d21b-4378-b520-b332e561d972\"}, {\"attributes\": {\"line_color\": {\"field\": \"line_color\"}, \"fill_color\": {\"field\": \"color\"}, \"fill_alpha\": {\"field\": \"fill_alpha\"}, \"height\": {\"units\": \"data\", \"field\": \"height\"}, \"width\": {\"units\": \"data\", \"field\": \"width\"}, \"y\": {\"field\": \"y\"}, \"x\": {\"field\": \"x\"}}, \"type\": \"Rect\", \"id\": \"3271c96e-6825-4315-b396-308428507d46\"}, {\"attributes\": {\"line_color\": {\"field\": \"line_color\"}, \"fill_color\": {\"field\": \"color\"}, \"fill_alpha\": {\"field\": \"fill_alpha\"}, \"height\": {\"units\": \"data\", \"field\": \"height\"}, \"width\": {\"units\": \"data\", \"field\": \"width\"}, \"y\": {\"field\": \"y\"}, \"x\": {\"field\": \"x\"}}, \"type\": \"Rect\", \"id\": \"f1b8d751-afcf-44b7-82df-c25d2fcc4020\"}, {\"attributes\": {\"callback\": null, \"column_names\": [\"line_color\", \"line_alpha\", \"color\", \"fill_alpha\", \"height\", \"width\", \"y\", \"x\"], \"data\": {\"line_color\": [\"white\"], \"line_alpha\": [1.0], \"chart_index\": [{\"Type\": \"tf2\"}], \"color\": [\"#f22c40\"], \"fill_alpha\": [0.8], \"height\": [24.0], \"width\": [0.8], \"y\": [12.0], \"x\": [\"tf2\"], \"Type\": [\"tf2\"]}}, \"type\": \"ColumnDataSource\", \"id\": \"1bece8a5-3240-4e7e-ac64-8d3b35d4f64c\"}, {\"attributes\": {\"line_color\": {\"field\": \"line_color\"}, \"fill_color\": {\"field\": \"color\"}, \"fill_alpha\": {\"field\": \"fill_alpha\"}, \"height\": {\"units\": \"data\", \"field\": \"height\"}, \"width\": {\"units\": \"data\", \"field\": \"width\"}, \"y\": {\"field\": \"y\"}, \"x\": {\"field\": \"x\"}}, \"type\": \"Rect\", \"id\": \"9ca3d441-e7f9-4f85-bd14-aeab5b573408\"}, {\"attributes\": {\"line_color\": {\"value\": \"#1f77b4\"}, \"line_alpha\": {\"value\": 0.1}, \"y\": {\"field\": \"y\"}, \"x\": {\"field\": \"x\"}, \"line_width\": {\"value\": 2}}, \"type\": \"Line\", \"id\": \"fce428e9-ef27-4ce1-864c-dad045f373e7\"}, {\"attributes\": {\"nonselection_glyph\": null, \"data_source\": {\"type\": \"ColumnDataSource\", \"id\": \"ce564f88-2022-4de0-98d1-59bbe1a58938\"}, \"selection_glyph\": null, \"hover_glyph\": null, \"glyph\": {\"type\": \"Rect\", \"id\": \"a958f7ee-1920-47b4-b5a9-2fc2985f3e00\"}}, \"type\": \"GlyphRenderer\", \"id\": \"6423facd-a53e-45ac-bbbf-6d046700b4bb\"}, {\"attributes\": {\"callback\": null, \"column_names\": [\"line_color\", \"line_alpha\", \"color\", \"fill_alpha\", \"height\", \"width\", \"y\", \"x\"], \"data\": {\"line_color\": [\"white\"], \"line_alpha\": [1.0], \"chart_index\": [{\"term\": \"speed\"}], \"color\": [\"#f22c40\"], \"fill_alpha\": [0.8], \"term\": [\"speed\"], \"height\": [748.0], \"width\": [0.8], \"y\": [374.0], \"x\": [\"speed\"]}}, \"type\": \"ColumnDataSource\", \"id\": \"0dd3d84e-fa1b-45db-8d13-0b2beea358e2\"}, {\"attributes\": {\"line_color\": {\"field\": \"line_color\"}, \"fill_color\": {\"field\": \"color\"}, \"fill_alpha\": {\"field\": \"fill_alpha\"}, \"height\": {\"units\": \"data\", \"field\": \"height\"}, \"width\": {\"units\": \"data\", \"field\": \"width\"}, \"y\": {\"field\": \"y\"}, \"x\": {\"field\": \"x\"}}, \"type\": \"Rect\", \"id\": \"f9b3c448-6564-4ae4-9d77-8d616b2f5015\"}, {\"attributes\": {\"callback\": null, \"column_names\": [\"line_color\", \"line_alpha\", \"color\", \"fill_alpha\", \"height\", \"width\", \"y\", \"x\"], \"data\": {\"line_color\": [\"white\"], \"line_alpha\": [1.0], \"chart_index\": [{\"term\": \"for\"}], \"color\": [\"#f22c40\"], \"fill_alpha\": [0.8], \"term\": [\"for\"], \"height\": [690.0], \"width\": [0.8], \"y\": [345.0], \"x\": [\"for\"]}}, \"type\": \"ColumnDataSource\", \"id\": \"9b629c20-3343-41c0-9fdf-70f950d82680\"}, {\"attributes\": {\"callback\": null, \"column_names\": [\"line_color\", \"line_alpha\", \"color\", \"fill_alpha\", \"height\", \"width\", \"y\", \"x\"], \"data\": {\"line_color\": [\"white\"], \"line_alpha\": [1.0], \"chart_index\": [{\"term\": \"wheel\"}], \"color\": [\"#f22c40\"], \"fill_alpha\": [0.8], \"term\": [\"wheel\"], \"height\": [3.225773103453961], \"width\": [0.8], \"y\": [1.6128865517269806], \"x\": [\"wheel\"]}}, \"type\": \"ColumnDataSource\", \"id\": \"9defff4a-5fe0-4838-9edb-696c1718d528\"}, {\"attributes\": {}, \"type\": \"CategoricalTicker\", \"id\": \"af7f6ea3-bb35-4be5-b952-3dd515fc0f82\"}, {\"attributes\": {\"nonselection_glyph\": null, \"data_source\": {\"type\": \"ColumnDataSource\", \"id\": \"fbf41089-0a8d-4969-bb87-ab99bb8feac0\"}, \"selection_glyph\": null, \"hover_glyph\": null, \"glyph\": {\"type\": \"Rect\", \"id\": \"a5ab8384-c02e-4368-90ce-c3083f599c38\"}}, \"type\": \"GlyphRenderer\", \"id\": \"c5c35d3f-d45d-4389-ac63-cadb3798c0df\"}, {\"attributes\": {\"callback\": null, \"column_names\": [\"line_color\", \"line_alpha\", \"color\", \"fill_alpha\", \"height\", \"width\", \"y\", \"x\"], \"data\": {\"line_color\": [\"white\"], \"line_alpha\": [1.0], \"chart_index\": [{\"term\": \"led\"}], \"color\": [\"#f22c40\"], \"fill_alpha\": [0.8], \"term\": [\"led\"], \"height\": [2.8469533190036564], \"width\": [0.8], \"y\": [1.4234766595018282], \"x\": [\"led\"]}}, \"type\": \"ColumnDataSource\", \"id\": \"e358f212-eac1-4064-9e10-7414491b7af7\"}, {\"attributes\": {\"callback\": null, \"column_names\": [\"line_color\", \"line_alpha\", \"color\", \"fill_alpha\", \"height\", \"width\", \"y\", \"x\"], \"data\": {\"line_color\": [\"white\"], \"line_alpha\": [1.0], \"chart_index\": [{\"term\": \"red\"}], \"color\": [\"#f22c40\"], \"fill_alpha\": [0.8], \"term\": [\"red\"], \"height\": [476.0], \"width\": [0.8], \"y\": [238.0], \"x\": [\"red\"]}}, \"type\": \"ColumnDataSource\", \"id\": \"16a4fe3e-6745-4ec0-8275-af5072b79f6e\"}, {\"attributes\": {\"nonselection_glyph\": null, \"data_source\": {\"type\": \"ColumnDataSource\", \"id\": \"a6e2f809-4390-40cc-bdd9-305f384c7753\"}, \"selection_glyph\": null, \"hover_glyph\": null, \"glyph\": {\"type\": \"Rect\", \"id\": \"b882f10d-f945-4aa6-bd1b-9a72bd1bcd4b\"}}, \"type\": \"GlyphRenderer\", \"id\": \"8e2d76d4-a235-4557-a140-70d6cdd453de\"}, {\"attributes\": {\"plot\": {\"subtype\": \"Figure\", \"type\": \"Plot\", \"id\": \"f68da6b1-69d3-40ba-b453-7029bfcffb96\"}}, \"type\": \"PanTool\", \"id\": \"4db4629e-b11e-4f19-8b09-b353ac91f42d\"}, {\"attributes\": {}, \"type\": \"BasicTickFormatter\", \"id\": \"ed745088-a9b6-450a-8494-099ce96603fe\"}, {\"attributes\": {\"nonselection_glyph\": null, \"data_source\": {\"type\": \"ColumnDataSource\", \"id\": \"88c14645-3f2e-4027-b954-1c79d15a6b68\"}, \"selection_glyph\": null, \"hover_glyph\": null, \"glyph\": {\"type\": \"Rect\", \"id\": \"660dfe0e-2de5-4cf0-8e24-463d7b970a9a\"}}, \"type\": \"GlyphRenderer\", \"id\": \"893f7425-0672-40ba-a80d-d007bf4b654c\"}, {\"attributes\": {\"line_color\": {\"field\": \"line_color\"}, \"fill_color\": {\"field\": \"color\"}, \"fill_alpha\": {\"field\": \"fill_alpha\"}, \"height\": {\"units\": \"data\", \"field\": \"height\"}, \"width\": {\"units\": \"data\", \"field\": \"width\"}, \"y\": {\"field\": \"y\"}, \"x\": {\"field\": \"x\"}}, \"type\": \"Rect\", \"id\": \"6f525d12-51f6-48d5-90da-e0dc4a58b424\"}, {\"attributes\": {\"nonselection_glyph\": null, \"data_source\": {\"type\": \"ColumnDataSource\", \"id\": \"a812aadc-d01b-4c90-827f-2c5c85126666\"}, \"selection_glyph\": null, \"hover_glyph\": null, \"glyph\": {\"type\": \"Rect\", \"id\": \"e81dd1de-c71d-4529-8744-ad2a692d0351\"}}, \"type\": \"GlyphRenderer\", \"id\": \"de571c89-9205-4c50-aecd-c2a743c27fac\"}, {\"attributes\": {\"callback\": null, \"column_names\": [\"line_color\", \"line_alpha\", \"color\", \"fill_alpha\", \"height\", \"width\", \"y\", \"x\"], \"data\": {\"line_color\": [\"white\"], \"line_alpha\": [1.0], \"chart_index\": [{\"term\": \"light\"}], \"color\": [\"#f22c40\"], \"fill_alpha\": [0.8], \"term\": [\"light\"], \"height\": [2.7103777839979055], \"width\": [0.8], \"y\": [1.3551888919989528], \"x\": [\"light\"]}}, \"type\": \"ColumnDataSource\", \"id\": \"2d9e7836-4a0e-4a1b-aaa2-de7992cd641c\"}, {\"attributes\": {\"callback\": null, \"column_names\": [\"line_color\", \"line_alpha\", \"color\", \"fill_alpha\", \"height\", \"width\", \"y\", \"x\"], \"data\": {\"line_color\": [\"white\"], \"line_alpha\": [1.0], \"chart_index\": [{\"term\": \"brake\"}], \"color\": [\"#f22c40\"], \"fill_alpha\": [0.8], \"term\": [\"brake\"], \"height\": [542.0], \"width\": [0.8], \"y\": [271.0], \"x\": [\"brake\"]}}, \"type\": \"ColumnDataSource\", \"id\": \"b0b62d02-685d-41a9-920f-e959e6cd43dd\"}, {\"attributes\": {\"callback\": null, \"column_names\": [\"line_color\", \"line_alpha\", \"color\", \"fill_alpha\", \"height\", \"width\", \"y\", \"x\"], \"data\": {\"line_color\": [\"white\"], \"line_alpha\": [1.0], \"chart_index\": [{\"term\": \"new\"}], \"color\": [\"#f22c40\"], \"fill_alpha\": [0.8], \"term\": [\"new\"], \"height\": [2163.0], \"width\": [0.8], \"y\": [1081.5], \"x\": [\"new\"]}}, \"type\": \"ColumnDataSource\", \"id\": \"9d7a89ba-e3f0-4919-b4f1-d3a36bc7d519\"}, {\"attributes\": {\"callback\": null, \"column_names\": [\"line_color\", \"line_alpha\", \"color\", \"fill_alpha\", \"height\", \"width\", \"y\", \"x\"], \"data\": {\"line_color\": [\"white\"], \"line_alpha\": [1.0], \"chart_index\": [{\"term\": \"set\"}], \"color\": [\"#f22c40\"], \"fill_alpha\": [0.8], \"term\": [\"set\"], \"height\": [528.0], \"width\": [0.8], \"y\": [264.0], \"x\": [\"set\"]}}, \"type\": \"ColumnDataSource\", \"id\": \"f4b4296a-ea51-4f7a-bac1-e150c2b56914\"}, {\"attributes\": {\"nonselection_glyph\": null, \"data_source\": {\"type\": \"ColumnDataSource\", \"id\": \"d5433270-a410-4e28-80e2-5b37e64cdbd8\"}, \"selection_glyph\": null, \"hover_glyph\": null, \"glyph\": {\"type\": \"Rect\", \"id\": \"684041f0-78f9-46a2-8d19-ef1bfb1ccf7e\"}}, \"type\": \"GlyphRenderer\", \"id\": \"7342f400-af14-489a-be79-1a7510bc9e1c\"}, {\"attributes\": {\"line_color\": {\"field\": \"line_color\"}, \"fill_color\": {\"field\": \"color\"}, \"fill_alpha\": {\"field\": \"fill_alpha\"}, \"height\": {\"units\": \"data\", \"field\": \"height\"}, \"width\": {\"units\": \"data\", \"field\": \"width\"}, \"y\": {\"field\": \"y\"}, \"x\": {\"field\": \"x\"}}, \"type\": \"Rect\", \"id\": \"a7c4d0f2-9844-4809-b758-db96ac345ac4\"}, {\"attributes\": {\"line_color\": {\"field\": \"line_color\"}, \"fill_color\": {\"field\": \"color\"}, \"fill_alpha\": {\"field\": \"fill_alpha\"}, \"height\": {\"units\": \"data\", \"field\": \"height\"}, \"width\": {\"units\": \"data\", \"field\": \"width\"}, \"y\": {\"field\": \"y\"}, \"x\": {\"field\": \"x\"}}, \"type\": \"Rect\", \"id\": \"643ff606-4cb8-4610-acf7-f200fc06fe4e\"}, {\"attributes\": {\"plot\": {\"subtype\": \"Chart\", \"type\": \"Plot\", \"id\": \"96d9a664-a197-4479-94f9-4a591061ec34\"}, \"ticker\": {\"type\": \"BasicTicker\", \"id\": \"b468f222-d3b0-485f-9160-bdf90a037328\"}, \"dimension\": 1}, \"type\": \"Grid\", \"id\": \"e31edd62-e0b5-4196-ab5e-97053d011b9d\"}, {\"attributes\": {\"nonselection_glyph\": null, \"data_source\": {\"type\": \"ColumnDataSource\", \"id\": \"dc0e1c0d-bea7-4e43-84bd-cbeaf96a740b\"}, \"selection_glyph\": null, \"hover_glyph\": null, \"glyph\": {\"type\": \"Rect\", \"id\": \"33d5a151-2ecd-46ec-9d9e-8a56e1ab83cd\"}}, \"type\": \"GlyphRenderer\", \"id\": \"e8af74ec-2a78-4095-b25f-a24aeb89d7c6\"}, {\"attributes\": {\"nonselection_glyph\": null, \"data_source\": {\"type\": \"ColumnDataSource\", \"id\": \"c0582d30-1bd6-4cf4-ba0d-08733f1c0a1d\"}, \"selection_glyph\": null, \"hover_glyph\": null, \"glyph\": {\"type\": \"Rect\", \"id\": \"fc557f97-3405-4d10-a4fa-c9a049fc4936\"}}, \"type\": \"GlyphRenderer\", \"id\": \"437f8e84-d00e-4c35-8519-93fa84807bb7\"}, {\"attributes\": {\"callback\": null, \"column_names\": [\"line_color\", \"line_alpha\", \"color\", \"fill_alpha\", \"height\", \"width\", \"y\", \"x\"], \"data\": {\"line_color\": [\"white\"], \"line_alpha\": [1.0], \"chart_index\": [{\"term\": \"carbon\"}], \"color\": [\"#f22c40\"], \"fill_alpha\": [0.8], \"term\": [\"carbon\"], \"height\": [3.0404873268312897], \"width\": [0.8], \"y\": [1.5202436634156449], \"x\": [\"carbon\"]}}, \"type\": \"ColumnDataSource\", \"id\": \"a09e88ec-f7ba-4c26-a375-87b27398d1a5\"}, {\"attributes\": {\"line_color\": {\"field\": \"line_color\"}, \"fill_color\": {\"field\": \"color\"}, \"fill_alpha\": {\"field\": \"fill_alpha\"}, \"height\": {\"units\": \"data\", \"field\": \"height\"}, \"width\": {\"units\": \"data\", \"field\": \"width\"}, \"y\": {\"field\": \"y\"}, \"x\": {\"field\": \"x\"}}, \"type\": \"Rect\", \"id\": \"b37feaf8-0370-4330-8997-f3620d664deb\"}, {\"attributes\": {\"plot\": {\"subtype\": \"Chart\", \"type\": \"Plot\", \"id\": \"7151331e-0e5b-4f09-b51d-b941b2b77c94\"}}, \"type\": \"WheelZoomTool\", \"id\": \"3f966c56-9ef0-4ec4-8366-2d068e42190f\"}, {\"attributes\": {\"line_color\": {\"field\": \"line_color\"}, \"fill_color\": {\"field\": \"color\"}, \"fill_alpha\": {\"field\": \"fill_alpha\"}, \"height\": {\"units\": \"data\", \"field\": \"height\"}, \"width\": {\"units\": \"data\", \"field\": \"width\"}, \"y\": {\"field\": \"y\"}, \"x\": {\"field\": \"x\"}}, \"type\": \"Rect\", \"id\": \"db5324cd-d429-462b-8a42-7ce3a412e4e5\"}, {\"attributes\": {\"callback\": null, \"column_names\": [\"line_color\", \"line_alpha\", \"color\", \"fill_alpha\", \"height\", \"width\", \"y\", \"x\"], \"data\": {\"line_color\": [\"white\"], \"line_alpha\": [1.0], \"chart_index\": [{\"term\": \"carbon\"}], \"color\": [\"#f22c40\"], \"fill_alpha\": [0.8], \"term\": [\"carbon\"], \"height\": [472.0], \"width\": [0.8], \"y\": [236.0], \"x\": [\"carbon\"]}}, \"type\": \"ColumnDataSource\", \"id\": \"d68e1cb4-eda3-4a51-b5d2-89f3f261aad2\"}, {\"attributes\": {\"nonselection_glyph\": null, \"data_source\": {\"type\": \"ColumnDataSource\", \"id\": \"25dae2e0-4435-410f-8967-9657e96a47f7\"}, \"selection_glyph\": null, \"hover_glyph\": null, \"glyph\": {\"type\": \"Rect\", \"id\": \"a4bf4581-7494-4d98-821f-58494a4c335e\"}}, \"type\": \"GlyphRenderer\", \"id\": \"299e1c4e-caff-4bd8-8fb7-e9573876eaf7\"}, {\"attributes\": {\"plot\": {\"subtype\": \"Chart\", \"type\": \"Plot\", \"id\": \"96d9a664-a197-4479-94f9-4a591061ec34\"}}, \"type\": \"ResizeTool\", \"id\": \"c0bbfa25-c639-4e3f-a94c-c507b58f6a3c\"}, {\"attributes\": {\"line_color\": {\"field\": \"line_color\"}, \"fill_color\": {\"field\": \"color\"}, \"fill_alpha\": {\"field\": \"fill_alpha\"}, \"height\": {\"units\": \"data\", \"field\": \"height\"}, \"width\": {\"units\": \"data\", \"field\": \"width\"}, \"y\": {\"field\": \"y\"}, \"x\": {\"field\": \"x\"}}, \"type\": \"Rect\", \"id\": \"c9bd59b4-ea20-4041-ac29-633de123ad64\"}, {\"attributes\": {\"callback\": null, \"column_names\": [\"line_color\", \"line_alpha\", \"color\", \"fill_alpha\", \"height\", \"width\", \"y\", \"x\"], \"data\": {\"line_color\": [\"white\"], \"line_alpha\": [1.0], \"chart_index\": [{\"term\": \"for\"}], \"color\": [\"#f22c40\"], \"fill_alpha\": [0.8], \"term\": [\"for\"], \"height\": [684.0], \"width\": [0.8], \"y\": [342.0], \"x\": [\"for\"]}}, \"type\": \"ColumnDataSource\", \"id\": \"3dc66481-5488-4bfd-a525-f321c460be8d\"}, {\"attributes\": {\"line_color\": {\"field\": \"line_color\"}, \"fill_color\": {\"field\": \"color\"}, \"fill_alpha\": {\"field\": \"fill_alpha\"}, \"height\": {\"units\": \"data\", \"field\": \"height\"}, \"width\": {\"units\": \"data\", \"field\": \"width\"}, \"y\": {\"field\": \"y\"}, \"x\": {\"field\": \"x\"}}, \"type\": \"Rect\", \"id\": \"e81dd1de-c71d-4529-8744-ad2a692d0351\"}, {\"attributes\": {\"children\": [{\"subtype\": \"Chart\", \"type\": \"Plot\", \"id\": \"5527bbff-a6a9-4d2b-811c-9e446fe3f2a6\"}, {\"subtype\": \"Chart\", \"type\": \"Plot\", \"id\": \"7151331e-0e5b-4f09-b51d-b941b2b77c94\"}]}, \"type\": \"VBox\", \"id\": \"2c25e2f5-0bee-4ff6-a31a-2622e2026918\"}, {\"attributes\": {\"nonselection_glyph\": null, \"data_source\": {\"type\": \"ColumnDataSource\", \"id\": \"3646655f-4032-4690-9e3b-f23f6f2061c1\"}, \"selection_glyph\": null, \"hover_glyph\": null, \"glyph\": {\"type\": \"Rect\", \"id\": \"a45c74ed-2296-4a11-a8b1-8293b4b022f7\"}}, \"type\": \"GlyphRenderer\", \"id\": \"6cd800cd-cf21-4c1e-b228-86bd4753bcdf\"}, {\"attributes\": {\"callback\": null, \"column_names\": [\"line_color\", \"line_alpha\", \"color\", \"fill_alpha\", \"height\", \"width\", \"y\", \"x\"], \"data\": {\"line_color\": [\"white\"], \"line_alpha\": [1.0], \"chart_index\": [{\"term\": \"set\"}], \"color\": [\"#f22c40\"], \"fill_alpha\": [0.8], \"term\": [\"set\"], \"height\": [522.0], \"width\": [0.8], \"y\": [261.0], \"x\": [\"set\"]}}, \"type\": \"ColumnDataSource\", \"id\": \"559b1917-d385-4f3e-a40e-5b83e0f2782b\"}, {\"attributes\": {\"callback\": null, \"column_names\": [\"line_color\", \"line_alpha\", \"color\", \"fill_alpha\", \"height\", \"width\", \"y\", \"x\"], \"data\": {\"line_color\": [\"white\"], \"line_alpha\": [1.0], \"chart_index\": [{\"term\": \"road\"}], \"color\": [\"#f22c40\"], \"fill_alpha\": [0.8], \"term\": [\"road\"], \"height\": [1252.0], \"width\": [0.8], \"y\": [626.0], \"x\": [\"road\"]}}, \"type\": \"ColumnDataSource\", \"id\": \"3f9b3496-5b36-4b5f-be38-2b50cbb1d877\"}, {\"attributes\": {\"nonselection_glyph\": null, \"data_source\": {\"type\": \"ColumnDataSource\", \"id\": \"b0b62d02-685d-41a9-920f-e959e6cd43dd\"}, \"selection_glyph\": null, \"hover_glyph\": null, \"glyph\": {\"type\": \"Rect\", \"id\": \"cc298d2c-5be7-4367-afa7-2dcbed62a4e1\"}}, \"type\": \"GlyphRenderer\", \"id\": \"c11fe3a9-daad-4e3c-af2c-d3dfe6b25586\"}, {\"attributes\": {\"callback\": null, \"column_names\": [\"line_color\", \"line_alpha\", \"color\", \"fill_alpha\", \"height\", \"width\", \"y\", \"x\"], \"data\": {\"line_color\": [\"white\"], \"line_alpha\": [1.0], \"chart_index\": [{\"term\": \"speed\"}], \"color\": [\"#f22c40\"], \"fill_alpha\": [0.8], \"term\": [\"speed\"], \"height\": [2.580843731806003], \"width\": [0.8], \"y\": [1.2904218659030016], \"x\": [\"speed\"]}}, \"type\": \"ColumnDataSource\", \"id\": \"888a06c5-5d39-4c96-943a-6e47ca55b70a\"}, {\"attributes\": {}, \"type\": \"CategoricalTicker\", \"id\": \"ae01508b-46ff-42dc-b134-52ebb725d559\"}, {\"attributes\": {\"nonselection_glyph\": null, \"data_source\": {\"type\": \"ColumnDataSource\", \"id\": \"37e9917f-63bc-49eb-8829-bb3f43c0de32\"}, \"selection_glyph\": null, \"hover_glyph\": null, \"glyph\": {\"type\": \"Rect\", \"id\": \"d7bcece5-0bcc-452b-9279-62f80432ea01\"}}, \"type\": \"GlyphRenderer\", \"id\": \"17f9d589-34ee-42fb-ba56-855fb3745085\"}, {\"attributes\": {\"callback\": null, \"column_names\": [\"line_color\", \"line_alpha\", \"color\", \"fill_alpha\", \"height\", \"width\", \"y\", \"x\"], \"data\": {\"line_color\": [\"white\"], \"line_alpha\": [1.0], \"chart_index\": [{\"term\": \"lamp\"}], \"color\": [\"#f22c40\"], \"fill_alpha\": [0.8], \"term\": [\"lamp\"], \"height\": [402.0], \"width\": [0.8], \"y\": [201.0], \"x\": [\"lamp\"]}}, \"type\": \"ColumnDataSource\", \"id\": \"74bc6022-45a7-4d90-9273-169890cb66fb\"}, {\"attributes\": {}, \"type\": \"BasicTicker\", \"id\": \"0c9ec88b-03c1-4e4d-9b75-0c6fa9740dde\"}, {\"attributes\": {\"callback\": null, \"column_names\": [\"line_color\", \"line_alpha\", \"color\", \"fill_alpha\", \"height\", \"width\", \"y\", \"x\"], \"data\": {\"line_color\": [\"white\"], \"line_alpha\": [1.0], \"chart_index\": [{\"term\": \"mountain\"}], \"color\": [\"#f22c40\"], \"fill_alpha\": [0.8], \"term\": [\"mountain\"], \"height\": [840.0], \"width\": [0.8], \"y\": [420.0], \"x\": [\"mountain\"]}}, \"type\": \"ColumnDataSource\", \"id\": \"63c3fad3-d425-4ef5-961d-626ee02f79dc\"}, {\"attributes\": {\"nonselection_glyph\": null, \"data_source\": {\"type\": \"ColumnDataSource\", \"id\": \"9d7a89ba-e3f0-4919-b4f1-d3a36bc7d519\"}, \"selection_glyph\": null, \"hover_glyph\": null, \"glyph\": {\"type\": \"Rect\", \"id\": \"addfc071-9dee-436d-a391-5c80c17835bd\"}}, \"type\": \"GlyphRenderer\", \"id\": \"e767a7ab-ad2e-4e8e-b3fd-a6d57c827d9d\"}, {\"attributes\": {\"line_color\": {\"value\": \"#1f77b4\"}, \"line_alpha\": {\"value\": 0.1}, \"fill_color\": {\"value\": \"#1f77b4\"}, \"fill_alpha\": {\"value\": 0.1}, \"y\": {\"field\": \"y\"}, \"x\": {\"field\": \"x\"}, \"size\": {\"units\": \"screen\", \"value\": 8}}, \"type\": \"Circle\", \"id\": \"02b5d4d7-f623-49be-9dc8-7a1db4565b39\"}, {\"attributes\": {\"callback\": null, \"column_names\": [\"line_color\", \"line_alpha\", \"color\", \"fill_alpha\", \"height\", \"width\", \"y\", \"x\"], \"data\": {\"line_color\": [\"white\"], \"line_alpha\": [1.0], \"chart_index\": [{\"term\": \"new\"}], \"color\": [\"#f22c40\"], \"fill_alpha\": [0.8], \"term\": [\"new\"], \"height\": [2150.0], \"width\": [0.8], \"y\": [1075.0], \"x\": [\"new\"]}}, \"type\": \"ColumnDataSource\", \"id\": \"59199641-cb52-4582-a6cd-efe71dcf56bb\"}, {\"attributes\": {\"line_color\": {\"field\": \"line_color\"}, \"fill_color\": {\"field\": \"color\"}, \"fill_alpha\": {\"field\": \"fill_alpha\"}, \"height\": {\"units\": \"data\", \"field\": \"height\"}, \"width\": {\"units\": \"data\", \"field\": \"width\"}, \"y\": {\"field\": \"y\"}, \"x\": {\"field\": \"x\"}}, \"type\": \"Rect\", \"id\": \"9a2872f1-c01f-4fbe-8bf1-6c7622e6877a\"}, {\"attributes\": {\"plot\": {\"subtype\": \"Chart\", \"type\": \"Plot\", \"id\": \"96d9a664-a197-4479-94f9-4a591061ec34\"}, \"overlay\": {\"type\": \"BoxAnnotation\", \"id\": \"f4951538-8b70-45db-8054-10d0818dbec6\"}}, \"type\": \"BoxZoomTool\", \"id\": \"233e0130-e2c9-45d8-909a-ef91307e04e0\"}, {\"attributes\": {\"nonselection_glyph\": null, \"data_source\": {\"type\": \"ColumnDataSource\", \"id\": \"0fe8fc2b-3f94-4f68-bb1e-5718b7c42922\"}, \"selection_glyph\": null, \"hover_glyph\": null, \"glyph\": {\"type\": \"Rect\", \"id\": \"d0ac64a8-e05d-43f0-b911-ab40e91ec1fa\"}}, \"type\": \"GlyphRenderer\", \"id\": \"0547b489-70be-448e-8d30-b5a4ebcc7e62\"}, {\"attributes\": {\"nonselection_glyph\": null, \"data_source\": {\"type\": \"ColumnDataSource\", \"id\": \"59199641-cb52-4582-a6cd-efe71dcf56bb\"}, \"selection_glyph\": null, \"hover_glyph\": null, \"glyph\": {\"type\": \"Rect\", \"id\": \"e634b679-2cd9-49f7-874a-f1709badffb4\"}}, \"type\": \"GlyphRenderer\", \"id\": \"1fe0dc4b-c113-494a-8286-db874d9f630a\"}, {\"attributes\": {\"nonselection_glyph\": null, \"data_source\": {\"type\": \"ColumnDataSource\", \"id\": \"66c4d17d-10d8-4121-8ccf-89671d150853\"}, \"selection_glyph\": null, \"hover_glyph\": null, \"glyph\": {\"type\": \"Rect\", \"id\": \"9639d5ee-df15-46a3-904f-0f9c116da7ce\"}}, \"type\": \"GlyphRenderer\", \"id\": \"a0ce4a25-ab5e-4b1d-849c-ee05ca7fad69\"}, {\"attributes\": {\"callback\": null, \"column_names\": [\"line_color\", \"line_alpha\", \"color\", \"fill_alpha\", \"height\", \"width\", \"y\", \"x\"], \"data\": {\"line_color\": [\"white\"], \"line_alpha\": [1.0], \"chart_index\": [{\"term\": \"road\"}], \"color\": [\"#f22c40\"], \"fill_alpha\": [0.8], \"term\": [\"road\"], \"height\": [1266.0], \"width\": [0.8], \"y\": [633.0], \"x\": [\"road\"]}}, \"type\": \"ColumnDataSource\", \"id\": \"a2ba0a07-cf28-4a17-b4fc-4a5b796d43c2\"}, {\"attributes\": {\"nonselection_glyph\": null, \"data_source\": {\"type\": \"ColumnDataSource\", \"id\": \"a1faf4c8-150b-4536-a53d-9fd81a146213\"}, \"selection_glyph\": null, \"hover_glyph\": null, \"glyph\": {\"type\": \"Rect\", \"id\": \"32ac8ee0-7ff2-4572-b806-05dc23083113\"}}, \"type\": \"GlyphRenderer\", \"id\": \"00424417-9e00-41ca-88c0-5e219575de00\"}, {\"attributes\": {\"nonselection_glyph\": {\"type\": \"Circle\", \"id\": \"02b5d4d7-f623-49be-9dc8-7a1db4565b39\"}, \"data_source\": {\"type\": \"ColumnDataSource\", \"id\": \"96c8519e-ff60-4336-9740-91969b0132d4\"}, \"selection_glyph\": null, \"hover_glyph\": null, \"glyph\": {\"type\": \"Circle\", \"id\": \"bf265943-1a17-485e-aa6e-d14b19cb9bca\"}}, \"type\": \"GlyphRenderer\", \"id\": \"fc5bc885-bc88-440f-aa10-cc5d315d758d\"}, {\"attributes\": {\"line_color\": {\"field\": \"line_color\"}, \"fill_color\": {\"field\": \"color\"}, \"fill_alpha\": {\"field\": \"fill_alpha\"}, \"height\": {\"units\": \"data\", \"field\": \"height\"}, \"width\": {\"units\": \"data\", \"field\": \"width\"}, \"y\": {\"field\": \"y\"}, \"x\": {\"field\": \"x\"}}, \"type\": \"Rect\", \"id\": \"6af3e634-9c9c-46a9-af25-c34a6289d9b5\"}, {\"attributes\": {\"nonselection_glyph\": null, \"data_source\": {\"type\": \"ColumnDataSource\", \"id\": \"976ee8b6-b6c0-480e-8970-8c9b590cc1a2\"}, \"selection_glyph\": null, \"hover_glyph\": null, \"glyph\": {\"type\": \"Rect\", \"id\": \"f1b8d751-afcf-44b7-82df-c25d2fcc4020\"}}, \"type\": \"GlyphRenderer\", \"id\": \"a586745a-8c28-4935-9a4b-f7156d62cf07\"}, {\"attributes\": {\"callback\": null, \"column_names\": [\"line_color\", \"line_alpha\", \"color\", \"fill_alpha\", \"height\", \"width\", \"y\", \"x\"], \"data\": {\"line_color\": [\"white\"], \"line_alpha\": [1.0], \"chart_index\": [{\"term\": \"bike\"}], \"color\": [\"#f22c40\"], \"fill_alpha\": [0.8], \"term\": [\"bike\"], \"height\": [0.7960062506939527], \"width\": [0.8], \"y\": [0.39800312534697635], \"x\": [\"bike\"]}}, \"type\": \"ColumnDataSource\", \"id\": \"66c4d17d-10d8-4121-8ccf-89671d150853\"}, {\"attributes\": {\"plot\": {\"subtype\": \"Chart\", \"type\": \"Plot\", \"id\": \"7151331e-0e5b-4f09-b51d-b941b2b77c94\"}}, \"type\": \"HelpTool\", \"id\": \"ef021f1c-ee2a-42f4-96cf-49294840869b\"}, {\"attributes\": {\"nonselection_glyph\": null, \"data_source\": {\"type\": \"ColumnDataSource\", \"id\": \"559b1917-d385-4f3e-a40e-5b83e0f2782b\"}, \"selection_glyph\": null, \"hover_glyph\": null, \"glyph\": {\"type\": \"Rect\", \"id\": \"f4aae117-d192-4666-ab21-dfdfca88ef62\"}}, \"type\": \"GlyphRenderer\", \"id\": \"9879e27f-71ac-43c9-9c18-0cbba091bc5c\"}, {\"attributes\": {\"line_color\": {\"field\": \"line_color\"}, \"fill_color\": {\"field\": \"color\"}, \"fill_alpha\": {\"field\": \"fill_alpha\"}, \"height\": {\"units\": \"data\", \"field\": \"height\"}, \"width\": {\"units\": \"data\", \"field\": \"width\"}, \"y\": {\"field\": \"y\"}, \"x\": {\"field\": \"x\"}}, \"type\": \"Rect\", \"id\": \"6ca1d613-69fd-4edf-9e0c-33eb388b9700\"}, {\"attributes\": {\"plot\": {\"subtype\": \"Chart\", \"type\": \"Plot\", \"id\": \"96d9a664-a197-4479-94f9-4a591061ec34\"}}, \"type\": \"WheelZoomTool\", \"id\": \"5266ae80-6101-47e9-bae7-e49dfcf7fc72\"}, {\"attributes\": {\"plot\": {\"subtype\": \"Figure\", \"type\": \"Plot\", \"id\": \"f68da6b1-69d3-40ba-b453-7029bfcffb96\"}}, \"type\": \"ResizeTool\", \"id\": \"b0f30c48-470f-4f87-a57e-10b47dd94f5e\"}, {\"attributes\": {\"line_color\": {\"value\": \"black\"}, \"line_alpha\": {\"value\": 1.0}, \"render_mode\": \"css\", \"bottom_units\": \"screen\", \"level\": \"overlay\", \"top_units\": \"screen\", \"fill_alpha\": {\"value\": 0.5}, \"plot\": null, \"left_units\": \"screen\", \"line_dash\": [4, 4], \"line_width\": {\"value\": 2}, \"right_units\": \"screen\", \"fill_color\": {\"value\": \"lightgrey\"}}, \"type\": \"BoxAnnotation\", \"id\": \"9f518842-fe06-427b-885a-206373eeb5e8\"}, {\"attributes\": {\"nonselection_glyph\": null, \"data_source\": {\"type\": \"ColumnDataSource\", \"id\": \"970680f4-7828-4c13-b72e-a50ba84c2618\"}, \"selection_glyph\": null, \"hover_glyph\": null, \"glyph\": {\"type\": \"Rect\", \"id\": \"68cbbc11-b356-49f2-bf50-8f6a29797a41\"}}, \"type\": \"GlyphRenderer\", \"id\": \"5b5042e8-f7fb-4946-8ae6-129ff0b2329c\"}, {\"attributes\": {\"plot\": {\"subtype\": \"Chart\", \"type\": \"Plot\", \"id\": \"7151331e-0e5b-4f09-b51d-b941b2b77c94\"}}, \"type\": \"PreviewSaveTool\", \"id\": \"f9d56625-374b-4145-b088-bb6ef431f7a7\"}, {\"attributes\": {\"nonselection_glyph\": null, \"data_source\": {\"type\": \"ColumnDataSource\", \"id\": \"410005c3-e00b-437a-ab02-b0bea71a5771\"}, \"selection_glyph\": null, \"hover_glyph\": null, \"glyph\": {\"type\": \"Rect\", \"id\": \"94e9b19a-e2e3-4dd0-936f-0bea21df8fd5\"}}, \"type\": \"GlyphRenderer\", \"id\": \"943b1fe9-b6c0-4427-b0a1-27fc1cae9f3b\"}, {\"attributes\": {\"line_color\": {\"field\": \"line_color\"}, \"fill_color\": {\"field\": \"color\"}, \"fill_alpha\": {\"field\": \"fill_alpha\"}, \"height\": {\"units\": \"data\", \"field\": \"height\"}, \"width\": {\"units\": \"data\", \"field\": \"width\"}, \"y\": {\"field\": \"y\"}, \"x\": {\"field\": \"x\"}}, \"type\": \"Rect\", \"id\": \"a5ab8384-c02e-4368-90ce-c3083f599c38\"}, {\"attributes\": {\"plot\": {\"subtype\": \"Chart\", \"type\": \"Plot\", \"id\": \"5527bbff-a6a9-4d2b-811c-9e446fe3f2a6\"}, \"axis_label\": \"Sum( Freq )\", \"formatter\": {\"type\": \"BasicTickFormatter\", \"id\": \"ed745088-a9b6-450a-8494-099ce96603fe\"}, \"ticker\": {\"type\": \"BasicTicker\", \"id\": \"0ab6207f-7c61-4d37-a1c5-f7f09937a656\"}}, \"type\": \"LinearAxis\", \"id\": \"e5d00993-3d5a-4549-863c-922db0c9bbeb\"}, {\"attributes\": {}, \"type\": \"CategoricalTickFormatter\", \"id\": \"33d292cc-7f3b-4e7f-93e3-3da84a55c811\"}, {\"attributes\": {\"callback\": null, \"column_names\": [\"line_color\", \"line_alpha\", \"color\", \"fill_alpha\", \"height\", \"width\", \"y\", \"x\"], \"data\": {\"line_color\": [\"white\"], \"line_alpha\": [1.0], \"chart_index\": [{\"term\": \"black\"}], \"color\": [\"#f22c40\"], \"fill_alpha\": [0.8], \"term\": [\"black\"], \"height\": [1.9517901335553764], \"width\": [0.8], \"y\": [0.9758950667776882], \"x\": [\"black\"]}}, \"type\": \"ColumnDataSource\", \"id\": \"71db180d-a726-4178-ad5f-a2586eda070f\"}, {\"attributes\": {\"nonselection_glyph\": null, \"data_source\": {\"type\": \"ColumnDataSource\", \"id\": \"74bc6022-45a7-4d90-9273-169890cb66fb\"}, \"selection_glyph\": null, \"hover_glyph\": null, \"glyph\": {\"type\": \"Rect\", \"id\": \"11cbb3ef-5115-4497-a5eb-e7912d738c0f\"}}, \"type\": \"GlyphRenderer\", \"id\": \"f5023b6c-49a1-4e5d-955f-bd07e519a5eb\"}, {\"attributes\": {\"x_range\": {\"type\": \"FactorRange\", \"id\": \"0296d96b-bc82-427c-9ebf-e6be02b7ac75\"}, \"y_mapper_type\": \"auto\", \"title_text_font_size\": {\"value\": \"14pt\"}, \"yscale\": \"auto\", \"y_range\": {\"type\": \"Range1d\", \"id\": \"b1b79a5f-40a2-4f20-b7b4-81a2e372b367\"}, \"x_mapper_type\": \"auto\", \"renderers\": [{\"type\": \"BoxAnnotation\", \"id\": \"c17e8cdc-991f-4c62-82bd-dd147f12a190\"}, {\"type\": \"GlyphRenderer\", \"id\": \"a0ce4a25-ab5e-4b1d-849c-ee05ca7fad69\"}, {\"type\": \"GlyphRenderer\", \"id\": \"3c4eb6c1-a55a-47b6-a2b8-ed25f307ed47\"}, {\"type\": \"GlyphRenderer\", \"id\": \"415569b9-4d38-4456-9a93-6e9bb9e674b6\"}, {\"type\": \"GlyphRenderer\", \"id\": \"943b1fe9-b6c0-4427-b0a1-27fc1cae9f3b\"}, {\"type\": \"GlyphRenderer\", \"id\": \"91bf2e3b-e5c6-4675-b471-030ddc88b05b\"}, {\"type\": \"GlyphRenderer\", \"id\": \"0ebc0a03-2f70-40b4-94da-700dc3e93d66\"}, {\"type\": \"GlyphRenderer\", \"id\": \"9574ed4c-3fbe-4035-9d26-0d136b156c79\"}, {\"type\": \"GlyphRenderer\", \"id\": \"fd675d5d-bb3c-43ff-b780-4bc01d541a45\"}, {\"type\": \"GlyphRenderer\", \"id\": \"69d11b4c-bbcc-4a6d-a05f-6c694534906e\"}, {\"type\": \"GlyphRenderer\", \"id\": \"fd691504-c67f-490f-8474-41fe71d02106\"}, {\"type\": \"GlyphRenderer\", \"id\": \"8e2d76d4-a235-4557-a140-70d6cdd453de\"}, {\"type\": \"GlyphRenderer\", \"id\": \"dc8c7938-b634-48fd-bedc-83b79e6c2609\"}, {\"type\": \"GlyphRenderer\", \"id\": \"0e03bab4-4c17-442c-96fd-c8562036468c\"}, {\"type\": \"GlyphRenderer\", \"id\": \"716d6afd-bdf5-4237-8995-c0241a79958e\"}, {\"type\": \"GlyphRenderer\", \"id\": \"0547b489-70be-448e-8d30-b5a4ebcc7e62\"}, {\"type\": \"GlyphRenderer\", \"id\": \"1c24c08a-91be-4394-b373-c4a2e44ac0f9\"}, {\"type\": \"GlyphRenderer\", \"id\": \"4603c7ef-c317-44f6-abfb-28ed229e1419\"}, {\"type\": \"GlyphRenderer\", \"id\": \"f4397207-ce0a-4cb9-a907-9521eb4427e7\"}, {\"type\": \"GlyphRenderer\", \"id\": \"0ac750ad-1b4f-49d0-8afc-cd5c018430d3\"}, {\"type\": \"GlyphRenderer\", \"id\": \"fe8dd01b-65a6-4cb6-a5da-34f8f874e9de\"}, {\"type\": \"GlyphRenderer\", \"id\": \"46629daa-3909-427b-8f9c-64d2c4c44280\"}, {\"type\": \"GlyphRenderer\", \"id\": \"98c2ef57-0bc8-44db-b0ac-a6966fe8fbb8\"}, {\"type\": \"GlyphRenderer\", \"id\": \"7342f400-af14-489a-be79-1a7510bc9e1c\"}, {\"type\": \"GlyphRenderer\", \"id\": \"34d4421d-3dd0-428e-991b-84afae685b18\"}, {\"type\": \"GlyphRenderer\", \"id\": \"813e64de-28bc-4afc-98cd-6a0023fcfe11\"}, {\"type\": \"GlyphRenderer\", \"id\": \"c5c35d3f-d45d-4389-ac63-cadb3798c0df\"}, {\"type\": \"GlyphRenderer\", \"id\": \"6faa4537-7749-49f4-bf41-09d7a73c3f98\"}, {\"type\": \"GlyphRenderer\", \"id\": \"e8af74ec-2a78-4095-b25f-a24aeb89d7c6\"}, {\"type\": \"GlyphRenderer\", \"id\": \"5b5042e8-f7fb-4946-8ae6-129ff0b2329c\"}, {\"type\": \"GlyphRenderer\", \"id\": \"d51176df-ad38-4049-b4ad-0375da5cbc56\"}, {\"type\": \"CategoricalAxis\", \"id\": \"fc7d2154-9482-4dca-aefd-0d08a40beb31\"}, {\"type\": \"LinearAxis\", \"id\": \"78c9536d-152a-4ae3-a92c-6d10a5e4c324\"}, {\"type\": \"Grid\", \"id\": \"54d71d18-27b1-44fa-b958-294fb1f5b2e0\"}], \"plot_width\": 800, \"xgrid\": false, \"below\": [{\"type\": \"CategoricalAxis\", \"id\": \"fc7d2154-9482-4dca-aefd-0d08a40beb31\"}], \"tool_events\": {\"type\": \"ToolEvents\", \"id\": \"31b5de37-7d02-4047-a0fe-f979f6230c50\"}, \"plot_height\": 400, \"xscale\": \"auto\", \"tools\": [{\"type\": \"PanTool\", \"id\": \"c3ade520-4128-4d49-89cf-e75e78c1bf2d\"}, {\"type\": \"WheelZoomTool\", \"id\": \"3f966c56-9ef0-4ec4-8366-2d068e42190f\"}, {\"type\": \"BoxZoomTool\", \"id\": \"a1b2658b-c307-4dc9-a78e-69a29ca63ec1\"}, {\"type\": \"PreviewSaveTool\", \"id\": \"f9d56625-374b-4145-b088-bb6ef431f7a7\"}, {\"type\": \"ResizeTool\", \"id\": \"bb87eb13-287c-4dcc-bf28-86134e8c988d\"}, {\"type\": \"ResetTool\", \"id\": \"6197a679-5878-4f98-93c9-545c1288c25e\"}, {\"type\": \"HelpTool\", \"id\": \"ef021f1c-ee2a-42f4-96cf-49294840869b\"}], \"legend\": null, \"left\": [{\"type\": \"LinearAxis\", \"id\": \"78c9536d-152a-4ae3-a92c-6d10a5e4c324\"}]}, \"type\": \"Plot\", \"id\": \"7151331e-0e5b-4f09-b51d-b941b2b77c94\", \"subtype\": \"Chart\"}, {\"attributes\": {}, \"type\": \"BasicTicker\", \"id\": \"eefdf649-3267-464f-a840-ef1853174faf\"}, {\"attributes\": {\"plot\": {\"subtype\": \"Figure\", \"type\": \"Plot\", \"id\": \"f68da6b1-69d3-40ba-b453-7029bfcffb96\"}, \"ticker\": {\"type\": \"BasicTicker\", \"id\": \"05623022-54f7-4960-9976-c611ab42415e\"}}, \"type\": \"Grid\", \"id\": \"f4d2f885-a42d-4fbd-b4dc-c48fffa7a267\"}, {\"attributes\": {\"nonselection_glyph\": null, \"data_source\": {\"type\": \"ColumnDataSource\", \"id\": \"d68e1cb4-eda3-4a51-b5d2-89f3f261aad2\"}, \"selection_glyph\": null, \"hover_glyph\": null, \"glyph\": {\"type\": \"Rect\", \"id\": \"9a2872f1-c01f-4fbe-8bf1-6c7622e6877a\"}}, \"type\": \"GlyphRenderer\", \"id\": \"8316a063-3183-47a8-a36e-b388753a4501\"}, {\"attributes\": {\"line_color\": {\"field\": \"line_color\"}, \"fill_color\": {\"field\": \"color\"}, \"fill_alpha\": {\"field\": \"fill_alpha\"}, \"height\": {\"units\": \"data\", \"field\": \"height\"}, \"width\": {\"units\": \"data\", \"field\": \"width\"}, \"y\": {\"field\": \"y\"}, \"x\": {\"field\": \"x\"}}, \"type\": \"Rect\", \"id\": \"b882f10d-f945-4aa6-bd1b-9a72bd1bcd4b\"}, {\"attributes\": {\"plot\": {\"subtype\": \"Figure\", \"type\": \"Plot\", \"id\": \"f68da6b1-69d3-40ba-b453-7029bfcffb96\"}}, \"type\": \"ResetTool\", \"id\": \"13029b45-5581-4080-a9a2-112de4cf056f\"}, {\"attributes\": {\"callback\": null, \"end\": 3.4503836951692}, \"type\": \"Range1d\", \"id\": \"b1b79a5f-40a2-4f20-b7b4-81a2e372b367\"}, {\"attributes\": {\"line_color\": {\"field\": \"line_color\"}, \"fill_color\": {\"field\": \"color\"}, \"fill_alpha\": {\"field\": \"fill_alpha\"}, \"height\": {\"units\": \"data\", \"field\": \"height\"}, \"width\": {\"units\": \"data\", \"field\": \"width\"}, \"y\": {\"field\": \"y\"}, \"x\": {\"field\": \"x\"}}, \"type\": \"Rect\", \"id\": \"d0ac64a8-e05d-43f0-b911-ab40e91ec1fa\"}, {\"attributes\": {\"line_color\": {\"field\": \"line_color\"}, \"fill_color\": {\"field\": \"color\"}, \"fill_alpha\": {\"field\": \"fill_alpha\"}, \"height\": {\"units\": \"data\", \"field\": \"height\"}, \"width\": {\"units\": \"data\", \"field\": \"width\"}, \"y\": {\"field\": \"y\"}, \"x\": {\"field\": \"x\"}}, \"type\": \"Rect\", \"id\": \"a3b772b7-470f-4149-bacb-054e14de31d8\"}, {\"attributes\": {\"line_color\": {\"field\": \"line_color\"}, \"fill_color\": {\"field\": \"color\"}, \"fill_alpha\": {\"field\": \"fill_alpha\"}, \"height\": {\"units\": \"data\", \"field\": \"height\"}, \"width\": {\"units\": \"data\", \"field\": \"width\"}, \"y\": {\"field\": \"y\"}, \"x\": {\"field\": \"x\"}}, \"type\": \"Rect\", \"id\": \"7b6ca9ed-38c3-47a7-902c-fed16b2e5e7b\"}, {\"attributes\": {\"line_color\": {\"field\": \"line_color\"}, \"fill_color\": {\"field\": \"color\"}, \"fill_alpha\": {\"field\": \"fill_alpha\"}, \"height\": {\"units\": \"data\", \"field\": \"height\"}, \"width\": {\"units\": \"data\", \"field\": \"width\"}, \"y\": {\"field\": \"y\"}, \"x\": {\"field\": \"x\"}}, \"type\": \"Rect\", \"id\": \"522e3085-0d52-45d9-8092-397a0aa4f063\"}, {\"attributes\": {\"nonselection_glyph\": null, \"data_source\": {\"type\": \"ColumnDataSource\", \"id\": \"191db41e-055e-4038-a1aa-067f81d3b149\"}, \"selection_glyph\": null, \"hover_glyph\": null, \"glyph\": {\"type\": \"Rect\", \"id\": \"a89e9d6e-c745-4bfc-bd26-2e22a70666c1\"}}, \"type\": \"GlyphRenderer\", \"id\": \"e2cf22dc-2c22-4768-846a-7b8c9ab6a730\"}, {\"attributes\": {\"nonselection_glyph\": null, \"data_source\": {\"type\": \"ColumnDataSource\", \"id\": \"dc05b490-45f6-4770-af11-60e8421976b1\"}, \"selection_glyph\": null, \"hover_glyph\": null, \"glyph\": {\"type\": \"Rect\", \"id\": \"6f525d12-51f6-48d5-90da-e0dc4a58b424\"}}, \"type\": \"GlyphRenderer\", \"id\": \"0ac750ad-1b4f-49d0-8afc-cd5c018430d3\"}, {\"attributes\": {\"callback\": null, \"end\": 8391.6}, \"type\": \"Range1d\", \"id\": \"35686063-5b94-4b33-8ae0-69e37c9e62ce\"}, {\"attributes\": {\"nonselection_glyph\": null, \"data_source\": {\"type\": \"ColumnDataSource\", \"id\": \"a2ba0a07-cf28-4a17-b4fc-4a5b796d43c2\"}, \"selection_glyph\": null, \"hover_glyph\": null, \"glyph\": {\"type\": \"Rect\", \"id\": \"9ca3d441-e7f9-4f85-bd14-aeab5b573408\"}}, \"type\": \"GlyphRenderer\", \"id\": \"e5303a06-820d-4143-a69e-973ed2efef1a\"}, {\"attributes\": {\"nonselection_glyph\": null, \"data_source\": {\"type\": \"ColumnDataSource\", \"id\": \"bcd9b050-0d89-489f-b0b2-98427c063b44\"}, \"selection_glyph\": null, \"hover_glyph\": null, \"glyph\": {\"type\": \"Rect\", \"id\": \"335488d6-4e9e-4661-8081-e6dea61c06da\"}}, \"type\": \"GlyphRenderer\", \"id\": \"0e03bab4-4c17-442c-96fd-c8562036468c\"}, {\"attributes\": {\"callback\": null, \"factors\": [\"bike\", \"bicycle\", \"new\", \"cycling\", \"black\", \"road\", \"shimano\", \"mtb\", \"mountain\", \"speed\", \"x\", \"rear\", \"for\", \"light\", \"front\", \"led\", \"bmx\", \"set\", \"brake\", \"s\", \"red\", \"carbon\", \"handlebar\", \"tire\", \"bottle\", \"lamp\", \"wheel\", \"water\", \"seat\", \"vintage\"]}, \"type\": \"FactorRange\", \"id\": \"580cd175-9dcd-4a45-8efc-668713c4c629\"}, {\"attributes\": {\"nonselection_glyph\": null, \"data_source\": {\"type\": \"ColumnDataSource\", \"id\": \"4727973a-caeb-405c-ba42-6258a54ef955\"}, \"selection_glyph\": null, \"hover_glyph\": null, \"glyph\": {\"type\": \"Rect\", \"id\": \"5052c519-fce1-4a92-99f8-0f209d6d08bc\"}}, \"type\": \"GlyphRenderer\", \"id\": \"92cab503-fd81-45e7-900d-8704aab67f70\"}, {\"attributes\": {\"callback\": null, \"column_names\": [\"line_color\", \"line_alpha\", \"color\", \"fill_alpha\", \"height\", \"width\", \"y\", \"x\"], \"data\": {\"line_color\": [\"white\"], \"line_alpha\": [1.0], \"chart_index\": [{\"term\": \"front\"}], \"color\": [\"#f22c40\"], \"fill_alpha\": [0.8], \"term\": [\"front\"], \"height\": [595.0], \"width\": [0.8], \"y\": [297.5], \"x\": [\"front\"]}}, \"type\": \"ColumnDataSource\", \"id\": \"398cb9c0-454d-4aed-ba61-0e00dae953cb\"}, {\"attributes\": {\"callback\": null, \"column_names\": [\"line_color\", \"line_alpha\", \"color\", \"fill_alpha\", \"height\", \"width\", \"y\", \"x\"], \"data\": {\"line_color\": [\"white\"], \"line_alpha\": [1.0], \"chart_index\": [{\"term\": \"seat\"}], \"color\": [\"#f22c40\"], \"fill_alpha\": [0.8], \"term\": [\"seat\"], \"height\": [3.2308751553378565], \"width\": [0.8], \"y\": [1.6154375776689283], \"x\": [\"seat\"]}}, \"type\": \"ColumnDataSource\", \"id\": \"970680f4-7828-4c13-b72e-a50ba84c2618\"}, {\"attributes\": {\"nonselection_glyph\": null, \"data_source\": {\"type\": \"ColumnDataSource\", \"id\": \"56e7be07-23bd-4067-a7fe-79327fea8aa2\"}, \"selection_glyph\": null, \"hover_glyph\": null, \"glyph\": {\"type\": \"Rect\", \"id\": \"ef3213e1-e268-4b44-ba18-e57b220a9a9f\"}}, \"type\": \"GlyphRenderer\", \"id\": \"fd675d5d-bb3c-43ff-b780-4bc01d541a45\"}, {\"attributes\": {\"line_color\": {\"field\": \"line_color\"}, \"fill_color\": {\"field\": \"color\"}, \"fill_alpha\": {\"field\": \"fill_alpha\"}, \"height\": {\"units\": \"data\", \"field\": \"height\"}, \"width\": {\"units\": \"data\", \"field\": \"width\"}, \"y\": {\"field\": \"y\"}, \"x\": {\"field\": \"x\"}}, \"type\": \"Rect\", \"id\": \"150b55c1-f747-43cd-95eb-e4e6547bd70d\"}, {\"attributes\": {\"callback\": null, \"column_names\": [\"line_color\", \"line_alpha\", \"color\", \"fill_alpha\", \"height\", \"width\", \"y\", \"x\"], \"data\": {\"line_color\": [\"white\"], \"line_alpha\": [1.0], \"chart_index\": [{\"term\": \"led\"}], \"color\": [\"#f22c40\"], \"fill_alpha\": [0.8], \"term\": [\"led\"], \"height\": [582.0], \"width\": [0.8], \"y\": [291.0], \"x\": [\"led\"]}}, \"type\": \"ColumnDataSource\", \"id\": \"53f97848-9761-46fa-8b92-74f3a22fc04a\"}, {\"attributes\": {\"plot\": {\"subtype\": \"Chart\", \"type\": \"Plot\", \"id\": \"47bc8d2d-d405-48ff-b513-972d28b02732\"}, \"axis_label\": \"Sum( Size )\", \"formatter\": {\"type\": \"BasicTickFormatter\", \"id\": \"fb462212-e026-4647-9b21-9037dd909f89\"}, \"ticker\": {\"type\": \"BasicTicker\", \"id\": \"1cb247a4-efb2-479e-85e5-39a312ac1536\"}}, \"type\": \"LinearAxis\", \"id\": \"9b1a02a5-410d-4dfa-ad98-6b45879b8560\"}, {\"attributes\": {\"nonselection_glyph\": null, \"data_source\": {\"type\": \"ColumnDataSource\", \"id\": \"3f9b3496-5b36-4b5f-be38-2b50cbb1d877\"}, \"selection_glyph\": null, \"hover_glyph\": null, \"glyph\": {\"type\": \"Rect\", \"id\": \"87043c89-2460-4864-a79a-a25686b83bb0\"}}, \"type\": \"GlyphRenderer\", \"id\": \"67665370-db34-4b1c-a627-7b9f5026c515\"}, {\"attributes\": {\"line_color\": {\"field\": \"line_color\"}, \"fill_color\": {\"field\": \"color\"}, \"fill_alpha\": {\"field\": \"fill_alpha\"}, \"height\": {\"units\": \"data\", \"field\": \"height\"}, \"width\": {\"units\": \"data\", \"field\": \"width\"}, \"y\": {\"field\": \"y\"}, \"x\": {\"field\": \"x\"}}, \"type\": \"Rect\", \"id\": \"ec331ee9-d2fa-4be5-9136-a5870018325d\"}, {\"attributes\": {\"nonselection_glyph\": null, \"data_source\": {\"type\": \"ColumnDataSource\", \"id\": \"71db180d-a726-4178-ad5f-a2586eda070f\"}, \"selection_glyph\": null, \"hover_glyph\": null, \"glyph\": {\"type\": \"Rect\", \"id\": \"2111bb77-4b00-414e-a13d-93396b236fec\"}}, \"type\": \"GlyphRenderer\", \"id\": \"91bf2e3b-e5c6-4675-b471-030ddc88b05b\"}, {\"attributes\": {\"callback\": null, \"column_names\": [\"line_color\", \"line_alpha\", \"color\", \"fill_alpha\", \"height\", \"width\", \"y\", \"x\"], \"data\": {\"line_color\": [\"white\"], \"line_alpha\": [1.0], \"chart_index\": [{\"term\": \"shimano\"}], \"color\": [\"#f22c40\"], \"fill_alpha\": [0.8], \"term\": [\"shimano\"], \"height\": [2.33160830635293], \"width\": [0.8], \"y\": [1.165804153176465], \"x\": [\"shimano\"]}}, \"type\": \"ColumnDataSource\", \"id\": \"75030413-ce9d-41a7-b0d1-2e90739dbba2\"}, {\"attributes\": {\"plot\": {\"subtype\": \"Chart\", \"type\": \"Plot\", \"id\": \"96d9a664-a197-4479-94f9-4a591061ec34\"}, \"axis_label\": \"Sum( Freq )\", \"formatter\": {\"type\": \"BasicTickFormatter\", \"id\": \"b3326702-61e1-4d1b-8796-a10fcc7834a6\"}, \"ticker\": {\"type\": \"BasicTicker\", \"id\": \"b468f222-d3b0-485f-9160-bdf90a037328\"}}, \"type\": \"LinearAxis\", \"id\": \"362c8a17-bdb9-46ec-b493-7416f41ad491\"}, {\"attributes\": {\"nonselection_glyph\": null, \"data_source\": {\"type\": \"ColumnDataSource\", \"id\": \"5f01aea9-9da5-4bda-8bad-e0a8f327017c\"}, \"selection_glyph\": null, \"hover_glyph\": null, \"glyph\": {\"type\": \"Rect\", \"id\": \"55a44b35-7996-45a2-9736-2449c6741a35\"}}, \"type\": \"GlyphRenderer\", \"id\": \"661a7b94-f274-43f6-ac06-fa06d4a2d9b2\"}, {\"attributes\": {\"x_range\": {\"type\": \"FactorRange\", \"id\": \"580cd175-9dcd-4a45-8efc-668713c4c629\"}, \"y_mapper_type\": \"auto\", \"title_text_font_size\": {\"value\": \"14pt\"}, \"yscale\": \"auto\", \"y_range\": {\"type\": \"Range1d\", \"id\": \"bf4f8689-ef32-4a6f-a79d-331d383d83b7\"}, \"x_mapper_type\": \"auto\", \"renderers\": [{\"type\": \"BoxAnnotation\", \"id\": \"9f518842-fe06-427b-885a-206373eeb5e8\"}, {\"type\": \"GlyphRenderer\", \"id\": \"1aca64a6-06b9-4398-b9b0-c15199dcac3e\"}, {\"type\": \"GlyphRenderer\", \"id\": \"742af6e9-33dc-40c3-b1f5-6781ccee254b\"}, {\"type\": \"GlyphRenderer\", \"id\": \"1fe0dc4b-c113-494a-8286-db874d9f630a\"}, {\"type\": \"GlyphRenderer\", \"id\": \"84e8a97b-c045-4d11-b344-8726c3674419\"}, {\"type\": \"GlyphRenderer\", \"id\": \"36facc2b-3303-4eca-8f2d-8ed4f604373c\"}, {\"type\": \"GlyphRenderer\", \"id\": \"67665370-db34-4b1c-a627-7b9f5026c515\"}, {\"type\": \"GlyphRenderer\", \"id\": \"a54df7ca-4bd7-497c-9d7d-0affcb4afc12\"}, {\"type\": \"GlyphRenderer\", \"id\": \"cb2fe004-bec9-4850-bdf8-5a6c24e2bb62\"}, {\"type\": \"GlyphRenderer\", \"id\": \"aba12111-6bc1-4cff-98d8-4776b8cbac34\"}, {\"type\": \"GlyphRenderer\", \"id\": \"847e27e7-f534-4a14-86b9-3f42346a0edb\"}, {\"type\": \"GlyphRenderer\", \"id\": \"3be8eaeb-c356-4349-9659-e51056241df3\"}, {\"type\": \"GlyphRenderer\", \"id\": \"b7f783f3-4ccb-47d9-9493-2d0c7cfa31b5\"}, {\"type\": \"GlyphRenderer\", \"id\": \"5d62c688-4d11-491c-b885-5c44346135c4\"}, {\"type\": \"GlyphRenderer\", \"id\": \"4d404a73-a162-4723-8b41-706a50704bdd\"}, {\"type\": \"GlyphRenderer\", \"id\": \"d4554296-4c4f-4702-8aeb-e11a7e323d24\"}, {\"type\": \"GlyphRenderer\", \"id\": \"66bf0908-2aa3-4cce-8f36-cc4253c42e59\"}, {\"type\": \"GlyphRenderer\", \"id\": \"a586745a-8c28-4935-9a4b-f7156d62cf07\"}, {\"type\": \"GlyphRenderer\", \"id\": \"9879e27f-71ac-43c9-9c18-0cbba091bc5c\"}, {\"type\": \"GlyphRenderer\", \"id\": \"dcbe3b7d-ce79-42cf-8625-526b8fb89b65\"}, {\"type\": \"GlyphRenderer\", \"id\": \"5c06e9e7-8166-4bb7-a39f-e408542e5240\"}, {\"type\": \"GlyphRenderer\", \"id\": \"ea070f71-fcc8-4ccd-a07c-fc276d3b9117\"}, {\"type\": \"GlyphRenderer\", \"id\": \"8316a063-3183-47a8-a36e-b388753a4501\"}, {\"type\": \"GlyphRenderer\", \"id\": \"32c92569-a723-422e-a5c5-879abc0c9ae3\"}, {\"type\": \"GlyphRenderer\", \"id\": \"299e1c4e-caff-4bd8-8fb7-e9573876eaf7\"}, {\"type\": \"GlyphRenderer\", \"id\": \"dd7d476b-d12a-4272-93af-9ae4401aa95e\"}, {\"type\": \"GlyphRenderer\", \"id\": \"421576c1-f9c2-4376-a6d4-499700f031c1\"}, {\"type\": \"GlyphRenderer\", \"id\": \"6423facd-a53e-45ac-bbbf-6d046700b4bb\"}, {\"type\": \"GlyphRenderer\", \"id\": \"9c45f0cb-5f7d-417d-b767-5c7d2c172232\"}, {\"type\": \"GlyphRenderer\", \"id\": \"18e9cb28-254c-466f-945c-d31174ef71f8\"}, {\"type\": \"GlyphRenderer\", \"id\": \"17f9d589-34ee-42fb-ba56-855fb3745085\"}, {\"type\": \"CategoricalAxis\", \"id\": \"af3b4e34-9d30-4d8e-9dc3-398d122d5b60\"}, {\"type\": \"LinearAxis\", \"id\": \"e5d00993-3d5a-4549-863c-922db0c9bbeb\"}, {\"type\": \"Grid\", \"id\": \"92b306f6-5b9a-45a5-ac2a-82b8831a62e0\"}], \"plot_width\": 800, \"xgrid\": false, \"below\": [{\"type\": \"CategoricalAxis\", \"id\": \"af3b4e34-9d30-4d8e-9dc3-398d122d5b60\"}], \"tool_events\": {\"type\": \"ToolEvents\", \"id\": \"18ee4e4d-da2f-499f-b0a9-b8a7496e5a3a\"}, \"plot_height\": 400, \"xscale\": \"auto\", \"tools\": [{\"type\": \"PanTool\", \"id\": \"20e48670-9fff-4b6a-a0df-60157f62c82a\"}, {\"type\": \"WheelZoomTool\", \"id\": \"c4e599e1-363b-4679-9918-820eb4154307\"}, {\"type\": \"BoxZoomTool\", \"id\": \"724d9246-c31d-4c05-9469-80d890c89049\"}, {\"type\": \"PreviewSaveTool\", \"id\": \"0786e607-9a4e-4ef7-903a-d0fa137a5175\"}, {\"type\": \"ResizeTool\", \"id\": \"40f48226-5ce5-459f-9206-6219a7b223d1\"}, {\"type\": \"ResetTool\", \"id\": \"b9084967-6dc8-4c6d-a0de-7f43c917c554\"}, {\"type\": \"HelpTool\", \"id\": \"000bf73e-1d0e-4f54-ba4d-603fdd1b157d\"}], \"legend\": null, \"left\": [{\"type\": \"LinearAxis\", \"id\": \"e5d00993-3d5a-4549-863c-922db0c9bbeb\"}]}, \"type\": \"Plot\", \"id\": \"5527bbff-a6a9-4d2b-811c-9e446fe3f2a6\", \"subtype\": \"Chart\"}, {\"attributes\": {\"callback\": null, \"column_names\": [\"line_color\", \"line_alpha\", \"color\", \"fill_alpha\", \"height\", \"width\", \"y\", \"x\"], \"data\": {\"line_color\": [\"white\"], \"line_alpha\": [1.0], \"chart_index\": [{\"term\": \"brake\"}], \"color\": [\"#f22c40\"], \"fill_alpha\": [0.8], \"term\": [\"brake\"], \"height\": [521.0], \"width\": [0.8], \"y\": [260.5], \"x\": [\"brake\"]}}, \"type\": \"ColumnDataSource\", \"id\": \"1144a047-6e67-455a-978d-d5eaa38db9ac\"}, {\"attributes\": {\"callback\": null, \"column_names\": [\"line_color\", \"line_alpha\", \"color\", \"fill_alpha\", \"height\", \"width\", \"y\", \"x\"], \"data\": {\"line_color\": [\"white\"], \"line_alpha\": [1.0], \"chart_index\": [{\"term\": \"s\"}], \"color\": [\"#f22c40\"], \"fill_alpha\": [0.8], \"term\": [\"s\"], \"height\": [2.973046046035757], \"width\": [0.8], \"y\": [1.4865230230178785], \"x\": [\"s\"]}}, \"type\": \"ColumnDataSource\", \"id\": \"6797883f-3d8e-4fb4-8b74-61efcaa7dd59\"}, {\"attributes\": {\"line_color\": {\"field\": \"line_color\"}, \"fill_color\": {\"field\": \"color\"}, \"fill_alpha\": {\"field\": \"fill_alpha\"}, \"height\": {\"units\": \"data\", \"field\": \"height\"}, \"width\": {\"units\": \"data\", \"field\": \"width\"}, \"y\": {\"field\": \"y\"}, \"x\": {\"field\": \"x\"}}, \"type\": \"Rect\", \"id\": \"a45c74ed-2296-4a11-a8b1-8293b4b022f7\"}, {\"attributes\": {\"callback\": null, \"column_names\": [\"line_color\", \"line_alpha\", \"color\", \"fill_alpha\", \"height\", \"width\", \"y\", \"x\"], \"data\": {\"line_color\": [\"white\"], \"line_alpha\": [1.0], \"chart_index\": [{\"term\": \"shimano\"}], \"color\": [\"#f22c40\"], \"fill_alpha\": [0.8], \"term\": [\"shimano\"], \"height\": [960.0], \"width\": [0.8], \"y\": [480.0], \"x\": [\"shimano\"]}}, \"type\": \"ColumnDataSource\", \"id\": \"58d70e2b-b1fe-4137-bdd0-5769648b4fdc\"}, {\"attributes\": {\"line_color\": {\"field\": \"line_color\"}, \"fill_color\": {\"field\": \"color\"}, \"fill_alpha\": {\"field\": \"fill_alpha\"}, \"height\": {\"units\": \"data\", \"field\": \"height\"}, \"width\": {\"units\": \"data\", \"field\": \"width\"}, \"y\": {\"field\": \"y\"}, \"x\": {\"field\": \"x\"}}, \"type\": \"Rect\", \"id\": \"ac490cac-0085-4a73-a618-1a1193713ac5\"}, {\"attributes\": {\"nonselection_glyph\": null, \"data_source\": {\"type\": \"ColumnDataSource\", \"id\": \"a7684f56-a909-4e82-a073-cbf5e90e1aad\"}, \"selection_glyph\": null, \"hover_glyph\": null, \"glyph\": {\"type\": \"Rect\", \"id\": \"41e79c2c-88df-47a9-8bd3-664f00220d73\"}}, \"type\": \"GlyphRenderer\", \"id\": \"34d4421d-3dd0-428e-991b-84afae685b18\"}, {\"attributes\": {\"nonselection_glyph\": null, \"data_source\": {\"type\": \"ColumnDataSource\", \"id\": \"95501202-4b8a-4fd7-bd0a-fd3151e414e3\"}, \"selection_glyph\": null, \"hover_glyph\": null, \"glyph\": {\"type\": \"Rect\", \"id\": \"6d0ec284-eb7d-4f4b-a57a-71534b7b07c3\"}}, \"type\": \"GlyphRenderer\", \"id\": \"d4554296-4c4f-4702-8aeb-e11a7e323d24\"}, {\"attributes\": {\"callback\": null, \"column_names\": [\"line_color\", \"line_alpha\", \"color\", \"fill_alpha\", \"height\", \"width\", \"y\", \"x\"], \"data\": {\"line_color\": [\"white\"], \"line_alpha\": [1.0], \"chart_index\": [{\"term\": \"bottle\"}], \"color\": [\"#f22c40\"], \"fill_alpha\": [0.8], \"term\": [\"bottle\"], \"height\": [3.188315540919061], \"width\": [0.8], \"y\": [1.5941577704595304], \"x\": [\"bottle\"]}}, \"type\": \"ColumnDataSource\", \"id\": \"42410fad-8a93-4733-aef9-d5c8583efc16\"}, {\"attributes\": {\"nonselection_glyph\": null, \"data_source\": {\"type\": \"ColumnDataSource\", \"id\": \"42410fad-8a93-4733-aef9-d5c8583efc16\"}, \"selection_glyph\": null, \"hover_glyph\": null, \"glyph\": {\"type\": \"Rect\", \"id\": \"6af3e634-9c9c-46a9-af25-c34a6289d9b5\"}}, \"type\": \"GlyphRenderer\", \"id\": \"813e64de-28bc-4afc-98cd-6a0023fcfe11\"}, {\"attributes\": {\"line_color\": {\"field\": \"line_color\"}, \"fill_color\": {\"field\": \"color\"}, \"fill_alpha\": {\"field\": \"fill_alpha\"}, \"height\": {\"units\": \"data\", \"field\": \"height\"}, \"width\": {\"units\": \"data\", \"field\": \"width\"}, \"y\": {\"field\": \"y\"}, \"x\": {\"field\": \"x\"}}, \"type\": \"Rect\", \"id\": \"89ecec00-69c3-42e0-b4f8-092c9cae64e1\"}, {\"attributes\": {\"line_color\": {\"field\": \"line_color\"}, \"fill_color\": {\"field\": \"color\"}, \"fill_alpha\": {\"field\": \"fill_alpha\"}, \"height\": {\"units\": \"data\", \"field\": \"height\"}, \"width\": {\"units\": \"data\", \"field\": \"width\"}, \"y\": {\"field\": \"y\"}, \"x\": {\"field\": \"x\"}}, \"type\": \"Rect\", \"id\": \"3afcdedb-6569-4227-876d-de9d2f4b041c\"}, {\"attributes\": {\"nonselection_glyph\": null, \"data_source\": {\"type\": \"ColumnDataSource\", \"id\": \"888a06c5-5d39-4c96-943a-6e47ca55b70a\"}, \"selection_glyph\": null, \"hover_glyph\": null, \"glyph\": {\"type\": \"Rect\", \"id\": \"522e3085-0d52-45d9-8092-397a0aa4f063\"}}, \"type\": \"GlyphRenderer\", \"id\": \"fd691504-c67f-490f-8474-41fe71d02106\"}, {\"attributes\": {\"callback\": null, \"column_names\": [\"line_color\", \"line_alpha\", \"color\", \"fill_alpha\", \"height\", \"width\", \"y\", \"x\"], \"data\": {\"line_color\": [\"white\"], \"line_alpha\": [1.0], \"chart_index\": [{\"term\": \"x\"}], \"color\": [\"#f22c40\"], \"fill_alpha\": [0.8], \"term\": [\"x\"], \"height\": [2.592932529125007], \"width\": [0.8], \"y\": [1.2964662645625036], \"x\": [\"x\"]}}, \"type\": \"ColumnDataSource\", \"id\": \"a6e2f809-4390-40cc-bdd9-305f384c7753\"}, {\"attributes\": {\"nonselection_glyph\": null, \"data_source\": {\"type\": \"ColumnDataSource\", \"id\": \"34c3bf9e-54ce-4721-8680-e494f26b7c7b\"}, \"selection_glyph\": null, \"hover_glyph\": null, \"glyph\": {\"type\": \"Rect\", \"id\": \"7fe54ef8-e44c-404f-94c3-4bacce5f92ad\"}}, \"type\": \"GlyphRenderer\", \"id\": \"3be8eaeb-c356-4349-9659-e51056241df3\"}, {\"attributes\": {\"line_color\": {\"field\": \"line_color\"}, \"fill_color\": {\"field\": \"color\"}, \"fill_alpha\": {\"field\": \"fill_alpha\"}, \"height\": {\"units\": \"data\", \"field\": \"height\"}, \"width\": {\"units\": \"data\", \"field\": \"width\"}, \"y\": {\"field\": \"y\"}, \"x\": {\"field\": \"x\"}}, \"type\": \"Rect\", \"id\": \"d8096d28-d1de-4fc6-b473-5cbda8256013\"}, {\"attributes\": {\"plot\": {\"subtype\": \"Chart\", \"type\": \"Plot\", \"id\": \"7151331e-0e5b-4f09-b51d-b941b2b77c94\"}, \"axis_label\": \"Sum( Idf )\", \"formatter\": {\"type\": \"BasicTickFormatter\", \"id\": \"40b68e6c-8d43-42d6-a4eb-3939a476ea90\"}, \"ticker\": {\"type\": \"BasicTicker\", \"id\": \"eefdf649-3267-464f-a840-ef1853174faf\"}}, \"type\": \"LinearAxis\", \"id\": \"78c9536d-152a-4ae3-a92c-6d10a5e4c324\"}, {\"attributes\": {\"nonselection_glyph\": null, \"data_source\": {\"type\": \"ColumnDataSource\", \"id\": \"5c45e6ba-4e84-4b88-845d-ed8cf18dd4a6\"}, \"selection_glyph\": null, \"hover_glyph\": null, \"glyph\": {\"type\": \"Rect\", \"id\": \"e6a62a32-0ace-4407-8ad4-5b383e2c4c77\"}}, \"type\": \"GlyphRenderer\", \"id\": \"e0e6ed63-e029-4043-ace9-c6243d65b8f1\"}, {\"attributes\": {}, \"type\": \"BasicTickFormatter\", \"id\": \"40b68e6c-8d43-42d6-a4eb-3939a476ea90\"}, {\"attributes\": {\"callback\": null, \"column_names\": [\"line_color\", \"line_alpha\", \"color\", \"fill_alpha\", \"height\", \"width\", \"y\", \"x\"], \"data\": {\"line_color\": [\"white\"], \"line_alpha\": [1.0], \"chart_index\": [{\"term\": \"black\"}], \"color\": [\"#f22c40\"], \"fill_alpha\": [0.8], \"term\": [\"black\"], \"height\": [1423.0], \"width\": [0.8], \"y\": [711.5], \"x\": [\"black\"]}}, \"type\": \"ColumnDataSource\", \"id\": \"4727973a-caeb-405c-ba42-6258a54ef955\"}, {\"attributes\": {\"nonselection_glyph\": {\"type\": \"Line\", \"id\": \"fce428e9-ef27-4ce1-864c-dad045f373e7\"}, \"data_source\": {\"type\": \"ColumnDataSource\", \"id\": \"e97f838b-dbd4-48d5-83e6-f46fd0f722aa\"}, \"selection_glyph\": null, \"hover_glyph\": null, \"glyph\": {\"type\": \"Line\", \"id\": \"074e975a-887c-4a07-acd6-e3aa48ec2be4\"}}, \"type\": \"GlyphRenderer\", \"id\": \"c6164b92-ae6f-48ce-9bb2-cdcdf510a394\"}, {\"attributes\": {\"nonselection_glyph\": null, \"data_source\": {\"type\": \"ColumnDataSource\", \"id\": \"85cba3a6-e92d-4500-9cb2-8567dc6d2402\"}, \"selection_glyph\": null, \"hover_glyph\": null, \"glyph\": {\"type\": \"Rect\", \"id\": \"ddb441ac-2e83-453f-93f4-0e0a3c411226\"}}, \"type\": \"GlyphRenderer\", \"id\": \"98ebc353-4419-44c8-804a-a3a49f751dd8\"}, {\"attributes\": {\"plot\": {\"subtype\": \"Chart\", \"type\": \"Plot\", \"id\": \"5527bbff-a6a9-4d2b-811c-9e446fe3f2a6\"}}, \"type\": \"ResetTool\", \"id\": \"b9084967-6dc8-4c6d-a0de-7f43c917c554\"}, {\"attributes\": {\"plot\": {\"subtype\": \"Figure\", \"type\": \"Plot\", \"id\": \"f68da6b1-69d3-40ba-b453-7029bfcffb96\"}, \"axis_label\": \"Sparsity\", \"formatter\": {\"type\": \"BasicTickFormatter\", \"id\": \"502a3963-5979-4655-81e1-3963623a9205\"}, \"ticker\": {\"type\": \"BasicTicker\", \"id\": \"0c9ec88b-03c1-4e4d-9b75-0c6fa9740dde\"}}, \"type\": \"LinearAxis\", \"id\": \"849e3f94-8b42-48f2-a57b-a3ffe9a74ac8\"}, {\"attributes\": {\"line_color\": {\"field\": \"line_color\"}, \"fill_color\": {\"field\": \"color\"}, \"fill_alpha\": {\"field\": \"fill_alpha\"}, \"height\": {\"units\": \"data\", \"field\": \"height\"}, \"width\": {\"units\": \"data\", \"field\": \"width\"}, \"y\": {\"field\": \"y\"}, \"x\": {\"field\": \"x\"}}, \"type\": \"Rect\", \"id\": \"87043c89-2460-4864-a79a-a25686b83bb0\"}, {\"attributes\": {\"callback\": null, \"column_names\": [\"line_color\", \"line_alpha\", \"color\", \"fill_alpha\", \"height\", \"width\", \"y\", \"x\"], \"data\": {\"line_color\": [\"white\"], \"line_alpha\": [1.0], \"chart_index\": [{\"term\": \"carbon\"}], \"color\": [\"#f22c40\"], \"fill_alpha\": [0.8], \"term\": [\"carbon\"], \"height\": [484.0], \"width\": [0.8], \"y\": [242.0], \"x\": [\"carbon\"]}}, \"type\": \"ColumnDataSource\", \"id\": \"191db41e-055e-4038-a1aa-067f81d3b149\"}, {\"attributes\": {\"plot\": {\"subtype\": \"Chart\", \"type\": \"Plot\", \"id\": \"47bc8d2d-d405-48ff-b513-972d28b02732\"}}, \"type\": \"HelpTool\", \"id\": \"017506cf-cf1a-4089-a892-8f4f46ed22e7\"}, {\"attributes\": {\"callback\": null, \"column_names\": [\"line_color\", \"line_alpha\", \"color\", \"fill_alpha\", \"height\", \"width\", \"y\", \"x\"], \"data\": {\"line_color\": [\"white\"], \"line_alpha\": [1.0], \"chart_index\": [{\"term\": \"bicycle\"}], \"color\": [\"#f22c40\"], \"fill_alpha\": [0.8], \"term\": [\"bicycle\"], \"height\": [1.0322307282671523], \"width\": [0.8], \"y\": [0.5161153641335762], \"x\": [\"bicycle\"]}}, \"type\": \"ColumnDataSource\", \"id\": \"5e7cc76e-8228-4778-89ce-1426c7b67d3c\"}, {\"attributes\": {\"plot\": {\"subtype\": \"Figure\", \"type\": \"Plot\", \"id\": \"f68da6b1-69d3-40ba-b453-7029bfcffb96\"}, \"axis_label\": \"Documents\", \"formatter\": {\"type\": \"BasicTickFormatter\", \"id\": \"dbbcafdc-c22b-49aa-b69a-d06dcad655f2\"}, \"ticker\": {\"type\": \"BasicTicker\", \"id\": \"05623022-54f7-4960-9976-c611ab42415e\"}}, \"type\": \"LinearAxis\", \"id\": \"ddf3a82b-3001-4a39-b7f6-2cc60bc5905a\"}, {\"attributes\": {\"line_color\": {\"field\": \"line_color\"}, \"fill_color\": {\"field\": \"color\"}, \"fill_alpha\": {\"field\": \"fill_alpha\"}, \"height\": {\"units\": \"data\", \"field\": \"height\"}, \"width\": {\"units\": \"data\", \"field\": \"width\"}, \"y\": {\"field\": \"y\"}, \"x\": {\"field\": \"x\"}}, \"type\": \"Rect\", \"id\": \"a4bf4581-7494-4d98-821f-58494a4c335e\"}, {\"attributes\": {\"callback\": null, \"column_names\": [\"line_color\", \"line_alpha\", \"color\", \"fill_alpha\", \"height\", \"width\", \"y\", \"x\"], \"data\": {\"line_color\": [\"white\"], \"line_alpha\": [1.0], \"chart_index\": [{\"term\": \"bmx\"}], \"color\": [\"#f22c40\"], \"fill_alpha\": [0.8], \"term\": [\"bmx\"], \"height\": [2.8716459315940277], \"width\": [0.8], \"y\": [1.4358229657970139], \"x\": [\"bmx\"]}}, \"type\": \"ColumnDataSource\", \"id\": \"bc8fd6b3-9590-4e93-b788-da062c44f241\"}, {\"attributes\": {\"line_color\": {\"field\": \"line_color\"}, \"fill_color\": {\"field\": \"color\"}, \"fill_alpha\": {\"field\": \"fill_alpha\"}, \"height\": {\"units\": \"data\", \"field\": \"height\"}, \"width\": {\"units\": \"data\", \"field\": \"width\"}, \"y\": {\"field\": \"y\"}, \"x\": {\"field\": \"x\"}}, \"type\": \"Rect\", \"id\": \"9152477c-140f-40dc-8b07-48d5e13aa7f3\"}, {\"attributes\": {\"callback\": null, \"column_names\": [\"y\", \"x\"], \"data\": {\"y\": [0.9821128714317003, 0.9883890210559955, 0.9912191990698407, 0.9926077154550996, 0.9934271147723699, 0.9942291412146989, 0.9947342910720529, 0.9951831935547358, 0.9955050581978345], \"x\": [100, 200, 300, 400, 500, 600, 700, 800, 900]}}, \"type\": \"ColumnDataSource\", \"id\": \"e97f838b-dbd4-48d5-83e6-f46fd0f722aa\"}, {\"attributes\": {\"line_color\": {\"field\": \"line_color\"}, \"fill_color\": {\"field\": \"color\"}, \"fill_alpha\": {\"field\": \"fill_alpha\"}, \"height\": {\"units\": \"data\", \"field\": \"height\"}, \"width\": {\"units\": \"data\", \"field\": \"width\"}, \"y\": {\"field\": \"y\"}, \"x\": {\"field\": \"x\"}}, \"type\": \"Rect\", \"id\": \"ddb441ac-2e83-453f-93f4-0e0a3c411226\"}, {\"attributes\": {\"callback\": null, \"column_names\": [\"line_color\", \"line_alpha\", \"color\", \"fill_alpha\", \"height\", \"width\", \"y\", \"x\"], \"data\": {\"line_color\": [\"white\"], \"line_alpha\": [1.0], \"chart_index\": [{\"term\": \"lamp\"}], \"color\": [\"#f22c40\"], \"fill_alpha\": [0.8], \"term\": [\"lamp\"], \"height\": [402.0], \"width\": [0.8], \"y\": [201.0], \"x\": [\"lamp\"]}}, \"type\": \"ColumnDataSource\", \"id\": \"6c950ff0-a04a-461e-b841-715fafc69aab\"}, {\"attributes\": {}, \"type\": \"ToolEvents\", \"id\": \"18ee4e4d-da2f-499f-b0a9-b8a7496e5a3a\"}, {\"attributes\": {\"line_color\": {\"field\": \"line_color\"}, \"fill_color\": {\"field\": \"color\"}, \"fill_alpha\": {\"field\": \"fill_alpha\"}, \"height\": {\"units\": \"data\", \"field\": \"height\"}, \"width\": {\"units\": \"data\", \"field\": \"width\"}, \"y\": {\"field\": \"y\"}, \"x\": {\"field\": \"x\"}}, \"type\": \"Rect\", \"id\": \"18a19412-e9a4-432b-a41d-04d3f82bad1a\"}, {\"attributes\": {\"plot\": {\"subtype\": \"Chart\", \"type\": \"Plot\", \"id\": \"96d9a664-a197-4479-94f9-4a591061ec34\"}}, \"type\": \"PanTool\", \"id\": \"46a948d7-d6a9-479f-b666-4cb32a77c275\"}, {\"attributes\": {\"line_color\": {\"field\": \"line_color\"}, \"fill_color\": {\"field\": \"color\"}, \"fill_alpha\": {\"field\": \"fill_alpha\"}, \"height\": {\"units\": \"data\", \"field\": \"height\"}, \"width\": {\"units\": \"data\", \"field\": \"width\"}, \"y\": {\"field\": \"y\"}, \"x\": {\"field\": \"x\"}}, \"type\": \"Rect\", \"id\": \"07dca88e-66a7-4132-8c53-d405b1d5f9e1\"}, {\"attributes\": {\"callback\": null, \"end\": 4685.1}, \"type\": \"Range1d\", \"id\": \"bf4f8689-ef32-4a6f-a79d-331d383d83b7\"}, {\"attributes\": {\"line_color\": {\"field\": \"line_color\"}, \"fill_color\": {\"field\": \"color\"}, \"fill_alpha\": {\"field\": \"fill_alpha\"}, \"height\": {\"units\": \"data\", \"field\": \"height\"}, \"width\": {\"units\": \"data\", \"field\": \"width\"}, \"y\": {\"field\": \"y\"}, \"x\": {\"field\": \"x\"}}, \"type\": \"Rect\", \"id\": \"f4aae117-d192-4666-ab21-dfdfca88ef62\"}, {\"attributes\": {\"callback\": null, \"column_names\": [\"line_color\", \"line_alpha\", \"color\", \"fill_alpha\", \"height\", \"width\", \"y\", \"x\"], \"data\": {\"line_color\": [\"white\"], \"line_alpha\": [1.0], \"chart_index\": [{\"term\": \"seat\"}], \"color\": [\"#f22c40\"], \"fill_alpha\": [0.8], \"term\": [\"seat\"], \"height\": [402.0], \"width\": [0.8], \"y\": [201.0], \"x\": [\"seat\"]}}, \"type\": \"ColumnDataSource\", \"id\": \"85cba3a6-e92d-4500-9cb2-8567dc6d2402\"}, {\"attributes\": {\"callback\": null, \"column_names\": [\"line_color\", \"line_alpha\", \"color\", \"fill_alpha\", \"height\", \"width\", \"y\", \"x\"], \"data\": {\"line_color\": [\"white\"], \"line_alpha\": [1.0], \"chart_index\": [{\"term\": \"seat\"}], \"color\": [\"#f22c40\"], \"fill_alpha\": [0.8], \"term\": [\"seat\"], \"height\": [390.0], \"width\": [0.8], \"y\": [195.0], \"x\": [\"seat\"]}}, \"type\": \"ColumnDataSource\", \"id\": \"f230e42a-1907-480e-90c3-ba31c078c61f\"}, {\"attributes\": {\"plot\": {\"subtype\": \"Figure\", \"type\": \"Plot\", \"id\": \"f68da6b1-69d3-40ba-b453-7029bfcffb96\"}}, \"type\": \"PreviewSaveTool\", \"id\": \"1a3e7a8d-3cad-4515-bf45-d71453e977d7\"}, {\"attributes\": {\"nonselection_glyph\": null, \"data_source\": {\"type\": \"ColumnDataSource\", \"id\": \"de3e5235-e164-4b42-999f-3fcd483fbe36\"}, \"selection_glyph\": null, \"hover_glyph\": null, \"glyph\": {\"type\": \"Rect\", \"id\": \"b37feaf8-0370-4330-8997-f3620d664deb\"}}, \"type\": \"GlyphRenderer\", \"id\": \"0ebc0a03-2f70-40b4-94da-700dc3e93d66\"}, {\"attributes\": {\"callback\": null}, \"type\": \"DataRange1d\", \"id\": \"54301cf1-6f3a-4ae2-82b9-3c52c0826cf8\"}, {\"attributes\": {\"x_range\": {\"type\": \"FactorRange\", \"id\": \"99f0e85a-01c3-4146-b13f-e6c152639117\"}, \"y_mapper_type\": \"auto\", \"title_text_font_size\": {\"value\": \"14pt\"}, \"yscale\": \"auto\", \"y_range\": {\"type\": \"Range1d\", \"id\": \"18574f42-2317-4a36-93a9-3838f6630840\"}, \"x_mapper_type\": \"auto\", \"renderers\": [{\"type\": \"BoxAnnotation\", \"id\": \"f4951538-8b70-45db-8054-10d0818dbec6\"}, {\"type\": \"GlyphRenderer\", \"id\": \"00424417-9e00-41ca-88c0-5e219575de00\"}, {\"type\": \"GlyphRenderer\", \"id\": \"d8c03c89-b5db-443e-b98f-62b40454380c\"}, {\"type\": \"GlyphRenderer\", \"id\": \"e767a7ab-ad2e-4e8e-b3fd-a6d57c827d9d\"}, {\"type\": \"GlyphRenderer\", \"id\": \"760305ae-5771-456f-9147-704098ec05f1\"}, {\"type\": \"GlyphRenderer\", \"id\": \"92cab503-fd81-45e7-900d-8704aab67f70\"}, {\"type\": \"GlyphRenderer\", \"id\": \"e5303a06-820d-4143-a69e-973ed2efef1a\"}, {\"type\": \"GlyphRenderer\", \"id\": \"268fff16-522b-4189-a38f-bcaf55e76b2d\"}, {\"type\": \"GlyphRenderer\", \"id\": \"893f7425-0672-40ba-a80d-d007bf4b654c\"}, {\"type\": \"GlyphRenderer\", \"id\": \"e080920e-c973-4552-b29c-9fe99383f382\"}, {\"type\": \"GlyphRenderer\", \"id\": \"e0e6ed63-e029-4043-ace9-c6243d65b8f1\"}, {\"type\": \"GlyphRenderer\", \"id\": \"6cd800cd-cf21-4c1e-b228-86bd4753bcdf\"}, {\"type\": \"GlyphRenderer\", \"id\": \"bdb20ddc-ca96-45cd-9e0b-caef2c2d239b\"}, {\"type\": \"GlyphRenderer\", \"id\": \"01f3309d-4540-443a-ba69-f7bc307d2bc3\"}, {\"type\": \"GlyphRenderer\", \"id\": \"0f2251ff-12bf-40fe-a782-2e61ff267d73\"}, {\"type\": \"GlyphRenderer\", \"id\": \"0e1a9464-3a93-47eb-baa7-2a11ea4287e5\"}, {\"type\": \"GlyphRenderer\", \"id\": \"1a3a2dbd-87ec-4e3e-aadd-6b6445f7161b\"}, {\"type\": \"GlyphRenderer\", \"id\": \"c0af000f-6df1-4094-9d10-dec75394a103\"}, {\"type\": \"GlyphRenderer\", \"id\": \"661a7b94-f274-43f6-ac06-fa06d4a2d9b2\"}, {\"type\": \"GlyphRenderer\", \"id\": \"c11fe3a9-daad-4e3c-af2c-d3dfe6b25586\"}, {\"type\": \"GlyphRenderer\", \"id\": \"27d049a7-931a-4324-83b8-a832326f0571\"}, {\"type\": \"GlyphRenderer\", \"id\": \"e2cf22dc-2c22-4768-846a-7b8c9ab6a730\"}, {\"type\": \"GlyphRenderer\", \"id\": \"de571c89-9205-4c50-aecd-c2a743c27fac\"}, {\"type\": \"GlyphRenderer\", \"id\": \"da698af7-ed2a-4252-958a-140122c5735c\"}, {\"type\": \"GlyphRenderer\", \"id\": \"437f8e84-d00e-4c35-8519-93fa84807bb7\"}, {\"type\": \"GlyphRenderer\", \"id\": \"733b9ec2-bdcd-41f4-ae1a-332aaee89a41\"}, {\"type\": \"GlyphRenderer\", \"id\": \"13b13559-b2bf-48fa-9d9c-0996181325b6\"}, {\"type\": \"GlyphRenderer\", \"id\": \"98ebc353-4419-44c8-804a-a3a49f751dd8\"}, {\"type\": \"GlyphRenderer\", \"id\": \"f5023b6c-49a1-4e5d-955f-bd07e519a5eb\"}, {\"type\": \"GlyphRenderer\", \"id\": \"fbbcb461-7d2e-45a6-984a-393d3e2e7a17\"}, {\"type\": \"GlyphRenderer\", \"id\": \"1ed44a15-eab8-4e95-8b02-ec98275329b9\"}, {\"type\": \"CategoricalAxis\", \"id\": \"f7a720a9-5e10-44bb-8ad4-0d250f449559\"}, {\"type\": \"LinearAxis\", \"id\": \"362c8a17-bdb9-46ec-b493-7416f41ad491\"}, {\"type\": \"Grid\", \"id\": \"e31edd62-e0b5-4196-ab5e-97053d011b9d\"}], \"plot_width\": 800, \"xgrid\": false, \"below\": [{\"type\": \"CategoricalAxis\", \"id\": \"f7a720a9-5e10-44bb-8ad4-0d250f449559\"}], \"tool_events\": {\"type\": \"ToolEvents\", \"id\": \"eaf99663-e157-4bf2-bf7a-170035a6f581\"}, \"plot_height\": 400, \"xscale\": \"auto\", \"tools\": [{\"type\": \"PanTool\", \"id\": \"46a948d7-d6a9-479f-b666-4cb32a77c275\"}, {\"type\": \"WheelZoomTool\", \"id\": \"5266ae80-6101-47e9-bae7-e49dfcf7fc72\"}, {\"type\": \"BoxZoomTool\", \"id\": \"233e0130-e2c9-45d8-909a-ef91307e04e0\"}, {\"type\": \"PreviewSaveTool\", \"id\": \"f892f73d-1bc3-4818-904c-e3a29544e772\"}, {\"type\": \"ResizeTool\", \"id\": \"c0bbfa25-c639-4e3f-a94c-c507b58f6a3c\"}, {\"type\": \"ResetTool\", \"id\": \"474afcbe-16c8-4f11-b3a9-0e101378d1bc\"}, {\"type\": \"HelpTool\", \"id\": \"0ee2a5c8-bb4c-47d7-8030-e4d5178c93e7\"}], \"legend\": null, \"left\": [{\"type\": \"LinearAxis\", \"id\": \"362c8a17-bdb9-46ec-b493-7416f41ad491\"}]}, \"type\": \"Plot\", \"id\": \"96d9a664-a197-4479-94f9-4a591061ec34\", \"subtype\": \"Chart\"}, {\"attributes\": {\"line_color\": {\"field\": \"line_color\"}, \"fill_color\": {\"field\": \"color\"}, \"fill_alpha\": {\"field\": \"fill_alpha\"}, \"height\": {\"units\": \"data\", \"field\": \"height\"}, \"width\": {\"units\": \"data\", \"field\": \"width\"}, \"y\": {\"field\": \"y\"}, \"x\": {\"field\": \"x\"}}, \"type\": \"Rect\", \"id\": \"5ef3395a-b1b8-4260-9f80-1655062a65f7\"}, {\"attributes\": {\"nonselection_glyph\": null, \"data_source\": {\"type\": \"ColumnDataSource\", \"id\": \"a38a65bb-7d4c-4d01-81db-5f96912058cf\"}, \"selection_glyph\": null, \"hover_glyph\": null, \"glyph\": {\"type\": \"Rect\", \"id\": \"3db8aa6e-b6fa-47de-a4fd-52c9a8a6e1d7\"}}, \"type\": \"GlyphRenderer\", \"id\": \"1aca64a6-06b9-4398-b9b0-c15199dcac3e\"}, {\"attributes\": {\"nonselection_glyph\": null, \"data_source\": {\"type\": \"ColumnDataSource\", \"id\": \"6c950ff0-a04a-461e-b841-715fafc69aab\"}, \"selection_glyph\": null, \"hover_glyph\": null, \"glyph\": {\"type\": \"Rect\", \"id\": \"5ef3395a-b1b8-4260-9f80-1655062a65f7\"}}, \"type\": \"GlyphRenderer\", \"id\": \"421576c1-f9c2-4376-a6d4-499700f031c1\"}, {\"attributes\": {\"plot\": {\"subtype\": \"Chart\", \"type\": \"Plot\", \"id\": \"5527bbff-a6a9-4d2b-811c-9e446fe3f2a6\"}, \"ticker\": {\"type\": \"BasicTicker\", \"id\": \"0ab6207f-7c61-4d37-a1c5-f7f09937a656\"}, \"dimension\": 1}, \"type\": \"Grid\", \"id\": \"92b306f6-5b9a-45a5-ac2a-82b8831a62e0\"}, {\"attributes\": {\"line_color\": {\"field\": \"line_color\"}, \"fill_color\": {\"field\": \"color\"}, \"fill_alpha\": {\"field\": \"fill_alpha\"}, \"height\": {\"units\": \"data\", \"field\": \"height\"}, \"width\": {\"units\": \"data\", \"field\": \"width\"}, \"y\": {\"field\": \"y\"}, \"x\": {\"field\": \"x\"}}, \"type\": \"Rect\", \"id\": \"c6ab62f7-a7bd-45c6-a198-0fdb0958104e\"}, {\"attributes\": {\"plot\": {\"subtype\": \"Figure\", \"type\": \"Plot\", \"id\": \"f68da6b1-69d3-40ba-b453-7029bfcffb96\"}, \"overlay\": {\"type\": \"BoxAnnotation\", \"id\": \"62ce25c9-14cd-439d-9abf-424868b97bfe\"}}, \"type\": \"BoxZoomTool\", \"id\": \"c437b914-b01f-41b7-852e-f22f541f00d0\"}, {\"attributes\": {\"line_color\": {\"value\": \"#1f77b4\"}, \"line_width\": {\"value\": 2}, \"y\": {\"field\": \"y\"}, \"x\": {\"field\": \"x\"}}, \"type\": \"Line\", \"id\": \"074e975a-887c-4a07-acd6-e3aa48ec2be4\"}, {\"attributes\": {\"nonselection_glyph\": null, \"data_source\": {\"type\": \"ColumnDataSource\", \"id\": \"0dd3d84e-fa1b-45db-8d13-0b2beea358e2\"}, \"selection_glyph\": null, \"hover_glyph\": null, \"glyph\": {\"type\": \"Rect\", \"id\": \"643ff606-4cb8-4610-acf7-f200fc06fe4e\"}}, \"type\": \"GlyphRenderer\", \"id\": \"847e27e7-f534-4a14-86b9-3f42346a0edb\"}, {\"attributes\": {\"nonselection_glyph\": null, \"data_source\": {\"type\": \"ColumnDataSource\", \"id\": \"c44a2544-a9b1-4d2d-9100-2b978121d6b6\"}, \"selection_glyph\": null, \"hover_glyph\": null, \"glyph\": {\"type\": \"Rect\", \"id\": \"226b4a04-99c5-42c4-9a0d-09232eb59b3d\"}}, \"type\": \"GlyphRenderer\", \"id\": \"dd7d476b-d12a-4272-93af-9ae4401aa95e\"}, {\"attributes\": {\"callback\": null, \"column_names\": [\"line_color\", \"line_alpha\", \"color\", \"fill_alpha\", \"height\", \"width\", \"y\", \"x\"], \"data\": {\"line_color\": [\"white\"], \"line_alpha\": [1.0], \"chart_index\": [{\"term\": \"vintage\"}], \"color\": [\"#f22c40\"], \"fill_alpha\": [0.8], \"term\": [\"vintage\"], \"height\": [3.2860797096849526], \"width\": [0.8], \"y\": [1.6430398548424763], \"x\": [\"vintage\"]}}, \"type\": \"ColumnDataSource\", \"id\": \"e61ad323-6fe9-48c0-991d-616efc2a8df5\"}, {\"attributes\": {\"line_color\": {\"field\": \"line_color\"}, \"fill_color\": {\"field\": \"color\"}, \"fill_alpha\": {\"field\": \"fill_alpha\"}, \"height\": {\"units\": \"data\", \"field\": \"height\"}, \"width\": {\"units\": \"data\", \"field\": \"width\"}, \"y\": {\"field\": \"y\"}, \"x\": {\"field\": \"x\"}}, \"type\": \"Rect\", \"id\": \"23fba1af-d196-4d54-8ca0-68f1184d8a83\"}, {\"attributes\": {\"line_color\": {\"field\": \"line_color\"}, \"fill_color\": {\"field\": \"color\"}, \"fill_alpha\": {\"field\": \"fill_alpha\"}, \"height\": {\"units\": \"data\", \"field\": \"height\"}, \"width\": {\"units\": \"data\", \"field\": \"width\"}, \"y\": {\"field\": \"y\"}, \"x\": {\"field\": \"x\"}}, \"type\": \"Rect\", \"id\": \"dfc99ead-493f-4e0a-996a-10d61857c4dc\"}, {\"attributes\": {\"line_color\": {\"field\": \"line_color\"}, \"fill_color\": {\"field\": \"color\"}, \"fill_alpha\": {\"field\": \"fill_alpha\"}, \"height\": {\"units\": \"data\", \"field\": \"height\"}, \"width\": {\"units\": \"data\", \"field\": \"width\"}, \"y\": {\"field\": \"y\"}, \"x\": {\"field\": \"x\"}}, \"type\": \"Rect\", \"id\": \"1cdd2c5c-1f6a-4e3b-ae58-5a220aee4ea9\"}, {\"attributes\": {\"line_color\": {\"value\": \"black\"}, \"line_alpha\": {\"value\": 1.0}, \"render_mode\": \"css\", \"bottom_units\": \"screen\", \"level\": \"overlay\", \"top_units\": \"screen\", \"fill_alpha\": {\"value\": 0.5}, \"plot\": null, \"left_units\": \"screen\", \"line_dash\": [4, 4], \"line_width\": {\"value\": 2}, \"right_units\": \"screen\", \"fill_color\": {\"value\": \"lightgrey\"}}, \"type\": \"BoxAnnotation\", \"id\": \"62ce25c9-14cd-439d-9abf-424868b97bfe\"}, {\"attributes\": {\"nonselection_glyph\": null, \"data_source\": {\"type\": \"ColumnDataSource\", \"id\": \"f4b4296a-ea51-4f7a-bac1-e150c2b56914\"}, \"selection_glyph\": null, \"hover_glyph\": null, \"glyph\": {\"type\": \"Rect\", \"id\": \"27299c63-e10b-44a6-abaa-f964ec51ea77\"}}, \"type\": \"GlyphRenderer\", \"id\": \"27d049a7-931a-4324-83b8-a832326f0571\"}, {\"attributes\": {\"line_color\": {\"field\": \"line_color\"}, \"fill_color\": {\"field\": \"color\"}, \"fill_alpha\": {\"field\": \"fill_alpha\"}, \"height\": {\"units\": \"data\", \"field\": \"height\"}, \"width\": {\"units\": \"data\", \"field\": \"width\"}, \"y\": {\"field\": \"y\"}, \"x\": {\"field\": \"x\"}}, \"type\": \"Rect\", \"id\": \"eff00e3c-633a-414c-bc1e-e20568306a45\"}, {\"attributes\": {\"callback\": null, \"column_names\": [\"line_color\", \"line_alpha\", \"color\", \"fill_alpha\", \"height\", \"width\", \"y\", \"x\"], \"data\": {\"line_color\": [\"white\"], \"line_alpha\": [1.0], \"chart_index\": [{\"term\": \"x\"}], \"color\": [\"#f22c40\"], \"fill_alpha\": [0.8], \"term\": [\"x\"], \"height\": [782.0], \"width\": [0.8], \"y\": [391.0], \"x\": [\"x\"]}}, \"type\": \"ColumnDataSource\", \"id\": \"5c45e6ba-4e84-4b88-845d-ed8cf18dd4a6\"}, {\"attributes\": {\"line_color\": {\"field\": \"line_color\"}, \"fill_color\": {\"field\": \"color\"}, \"fill_alpha\": {\"field\": \"fill_alpha\"}, \"height\": {\"units\": \"data\", \"field\": \"height\"}, \"width\": {\"units\": \"data\", \"field\": \"width\"}, \"y\": {\"field\": \"y\"}, \"x\": {\"field\": \"x\"}}, \"type\": \"Rect\", \"id\": \"fdf64851-c3f5-4424-91cb-3a6eceed2a7b\"}, {\"attributes\": {}, \"type\": \"BasicTickFormatter\", \"id\": \"502a3963-5979-4655-81e1-3963623a9205\"}, {\"attributes\": {\"line_color\": {\"field\": \"line_color\"}, \"fill_color\": {\"field\": \"color\"}, \"fill_alpha\": {\"field\": \"fill_alpha\"}, \"height\": {\"units\": \"data\", \"field\": \"height\"}, \"width\": {\"units\": \"data\", \"field\": \"width\"}, \"y\": {\"field\": \"y\"}, \"x\": {\"field\": \"x\"}}, \"type\": \"Rect\", \"id\": \"04a8b305-bab0-496d-bd3d-af3ef749a63b\"}, {\"attributes\": {}, \"type\": \"ToolEvents\", \"id\": \"eaf99663-e157-4bf2-bf7a-170035a6f581\"}, {\"attributes\": {\"plot\": {\"subtype\": \"Chart\", \"type\": \"Plot\", \"id\": \"47bc8d2d-d405-48ff-b513-972d28b02732\"}}, \"type\": \"ResetTool\", \"id\": \"d5b1c977-4a5e-44d6-b82d-13308ac1a6ae\"}, {\"attributes\": {\"callback\": null, \"column_names\": [\"line_color\", \"line_alpha\", \"color\", \"fill_alpha\", \"height\", \"width\", \"y\", \"x\"], \"data\": {\"line_color\": [\"white\"], \"line_alpha\": [1.0], \"chart_index\": [{\"term\": \"s\"}], \"color\": [\"#f22c40\"], \"fill_alpha\": [0.8], \"term\": [\"s\"], \"height\": [505.0], \"width\": [0.8], \"y\": [252.5], \"x\": [\"s\"]}}, \"type\": \"ColumnDataSource\", \"id\": \"f2ead949-93e1-4d66-8fdc-3adcb4391bb4\"}, {\"attributes\": {\"callback\": null, \"column_names\": [\"line_color\", \"line_alpha\", \"color\", \"fill_alpha\", \"height\", \"width\", \"y\", \"x\"], \"data\": {\"line_color\": [\"white\"], \"line_alpha\": [1.0], \"chart_index\": [{\"term\": \"bicycle\"}], \"color\": [\"#f22c40\"], \"fill_alpha\": [0.8], \"term\": [\"bicycle\"], \"height\": [3523.0], \"width\": [0.8], \"y\": [1761.5], \"x\": [\"bicycle\"]}}, \"type\": \"ColumnDataSource\", \"id\": \"fa68759c-7dc4-4a28-bf09-d808f0e22d92\"}, {\"attributes\": {\"callback\": null, \"column_names\": [\"line_color\", \"line_alpha\", \"color\", \"fill_alpha\", \"height\", \"width\", \"y\", \"x\"], \"data\": {\"line_color\": [\"white\"], \"line_alpha\": [1.0], \"chart_index\": [{\"term\": \"handlebar\"}], \"color\": [\"#f22c40\"], \"fill_alpha\": [0.8], \"term\": [\"handlebar\"], \"height\": [466.0], \"width\": [0.8], \"y\": [233.0], \"x\": [\"handlebar\"]}}, \"type\": \"ColumnDataSource\", \"id\": \"17b6cb79-28ea-4e44-95b1-0f2dd1140de9\"}, {\"attributes\": {\"nonselection_glyph\": null, \"data_source\": {\"type\": \"ColumnDataSource\", \"id\": \"58063d6e-dd80-4e81-8946-47a19ebd750d\"}, \"selection_glyph\": null, \"hover_glyph\": null, \"glyph\": {\"type\": \"Rect\", \"id\": \"7b6ca9ed-38c3-47a7-902c-fed16b2e5e7b\"}}, \"type\": \"GlyphRenderer\", \"id\": \"1ed44a15-eab8-4e95-8b02-ec98275329b9\"}, {\"attributes\": {\"line_color\": {\"field\": \"line_color\"}, \"fill_color\": {\"field\": \"color\"}, \"fill_alpha\": {\"field\": \"fill_alpha\"}, \"height\": {\"units\": \"data\", \"field\": \"height\"}, \"width\": {\"units\": \"data\", \"field\": \"width\"}, \"y\": {\"field\": \"y\"}, \"x\": {\"field\": \"x\"}}, \"type\": \"Rect\", \"id\": \"335488d6-4e9e-4661-8081-e6dea61c06da\"}, {\"attributes\": {\"callback\": null, \"factors\": [\"bike\", \"bicycle\", \"new\", \"cycling\", \"black\", \"road\", \"shimano\", \"mtb\", \"mountain\", \"speed\", \"x\", \"rear\", \"for\", \"light\", \"front\", \"led\", \"bmx\", \"set\", \"brake\", \"s\", \"red\", \"carbon\", \"handlebar\", \"tire\", \"bottle\", \"lamp\", \"wheel\", \"water\", \"seat\", \"vintage\"]}, \"type\": \"FactorRange\", \"id\": \"0296d96b-bc82-427c-9ebf-e6be02b7ac75\"}, {\"attributes\": {\"line_color\": {\"field\": \"line_color\"}, \"fill_color\": {\"field\": \"color\"}, \"fill_alpha\": {\"field\": \"fill_alpha\"}, \"height\": {\"units\": \"data\", \"field\": \"height\"}, \"width\": {\"units\": \"data\", \"field\": \"width\"}, \"y\": {\"field\": \"y\"}, \"x\": {\"field\": \"x\"}}, \"type\": \"Rect\", \"id\": \"68cbbc11-b356-49f2-bf50-8f6a29797a41\"}, {\"attributes\": {\"callback\": null, \"column_names\": [\"line_color\", \"line_alpha\", \"color\", \"fill_alpha\", \"height\", \"width\", \"y\", \"x\"], \"data\": {\"line_color\": [\"white\"], \"line_alpha\": [1.0], \"chart_index\": [{\"term\": \"front\"}], \"color\": [\"#f22c40\"], \"fill_alpha\": [0.8], \"term\": [\"front\"], \"height\": [2.8110213097775927], \"width\": [0.8], \"y\": [1.4055106548887963], \"x\": [\"front\"]}}, \"type\": \"ColumnDataSource\", \"id\": \"0fe8fc2b-3f94-4f68-bb1e-5718b7c42922\"}, {\"attributes\": {}, \"type\": \"BasicTicker\", \"id\": \"b468f222-d3b0-485f-9160-bdf90a037328\"}, {\"attributes\": {\"callback\": null, \"column_names\": [\"line_color\", \"line_alpha\", \"color\", \"fill_alpha\", \"height\", \"width\", \"y\", \"x\"], \"data\": {\"line_color\": [\"white\"], \"line_alpha\": [1.0], \"chart_index\": [{\"term\": \"road\"}], \"color\": [\"#f22c40\"], \"fill_alpha\": [0.8], \"term\": [\"road\"], \"height\": [2.0662867604271544], \"width\": [0.8], \"y\": [1.0331433802135772], \"x\": [\"road\"]}}, \"type\": \"ColumnDataSource\", \"id\": \"de3e5235-e164-4b42-999f-3fcd483fbe36\"}, {\"attributes\": {\"line_color\": {\"field\": \"line_color\"}, \"fill_color\": {\"field\": \"color\"}, \"fill_alpha\": {\"field\": \"fill_alpha\"}, \"height\": {\"units\": \"data\", \"field\": \"height\"}, \"width\": {\"units\": \"data\", \"field\": \"width\"}, \"y\": {\"field\": \"y\"}, \"x\": {\"field\": \"x\"}}, \"type\": \"Rect\", \"id\": \"834fd3c5-7536-4f7a-b035-6f497d1dfa0f\"}, {\"attributes\": {\"plot\": {\"subtype\": \"Chart\", \"type\": \"Plot\", \"id\": \"96d9a664-a197-4479-94f9-4a591061ec34\"}}, \"type\": \"PreviewSaveTool\", \"id\": \"f892f73d-1bc3-4818-904c-e3a29544e772\"}, {\"attributes\": {\"line_color\": {\"field\": \"line_color\"}, \"fill_color\": {\"field\": \"color\"}, \"fill_alpha\": {\"field\": \"fill_alpha\"}, \"height\": {\"units\": \"data\", \"field\": \"height\"}, \"width\": {\"units\": \"data\", \"field\": \"width\"}, \"y\": {\"field\": \"y\"}, \"x\": {\"field\": \"x\"}}, \"type\": \"Rect\", \"id\": \"89f4c1e7-ac65-4f7c-bdb5-52de03795c23\"}, {\"attributes\": {\"line_color\": {\"field\": \"line_color\"}, \"fill_color\": {\"field\": \"color\"}, \"fill_alpha\": {\"field\": \"fill_alpha\"}, \"height\": {\"units\": \"data\", \"field\": \"height\"}, \"width\": {\"units\": \"data\", \"field\": \"width\"}, \"y\": {\"field\": \"y\"}, \"x\": {\"field\": \"x\"}}, \"type\": \"Rect\", \"id\": \"877a2e98-c6ab-4ac9-b9ca-a396b545c3ce\"}, {\"attributes\": {\"callback\": null, \"column_names\": [\"line_color\", \"line_alpha\", \"color\", \"fill_alpha\", \"height\", \"width\", \"y\", \"x\"], \"data\": {\"line_color\": [\"white\"], \"line_alpha\": [1.0], \"chart_index\": [{\"term\": \"brake\"}], \"color\": [\"#f22c40\"], \"fill_alpha\": [0.8], \"term\": [\"brake\"], \"height\": [2.9419151274405837], \"width\": [0.8], \"y\": [1.4709575637202918], \"x\": [\"brake\"]}}, \"type\": \"ColumnDataSource\", \"id\": \"dc05b490-45f6-4770-af11-60e8421976b1\"}, {\"attributes\": {\"line_color\": {\"field\": \"line_color\"}, \"fill_color\": {\"field\": \"color\"}, \"fill_alpha\": {\"field\": \"fill_alpha\"}, \"height\": {\"units\": \"data\", \"field\": \"height\"}, \"width\": {\"units\": \"data\", \"field\": \"width\"}, \"y\": {\"field\": \"y\"}, \"x\": {\"field\": \"x\"}}, \"type\": \"Rect\", \"id\": \"6d0ec284-eb7d-4f4b-a57a-71534b7b07c3\"}, {\"attributes\": {\"callback\": null, \"column_names\": [\"line_color\", \"line_alpha\", \"color\", \"fill_alpha\", \"height\", \"width\", \"y\", \"x\"], \"data\": {\"line_color\": [\"white\"], \"line_alpha\": [1.0], \"chart_index\": [{\"term\": \"cycling\"}], \"color\": [\"#f22c40\"], \"fill_alpha\": [0.8], \"term\": [\"cycling\"], \"height\": [2162.0], \"width\": [0.8], \"y\": [1081.0], \"x\": [\"cycling\"]}}, \"type\": \"ColumnDataSource\", \"id\": \"f8d06e3d-186b-4ef2-8cb2-ffa2fd5d05ce\"}, {\"attributes\": {\"line_color\": {\"field\": \"line_color\"}, \"fill_color\": {\"field\": \"color\"}, \"fill_alpha\": {\"field\": \"fill_alpha\"}, \"height\": {\"units\": \"data\", \"field\": \"height\"}, \"width\": {\"units\": \"data\", \"field\": \"width\"}, \"y\": {\"field\": \"y\"}, \"x\": {\"field\": \"x\"}}, \"type\": \"Rect\", \"id\": \"d7bcece5-0bcc-452b-9279-62f80432ea01\"}, {\"attributes\": {\"callback\": null, \"column_names\": [\"line_color\", \"line_alpha\", \"color\", \"fill_alpha\", \"height\", \"width\", \"y\", \"x\"], \"data\": {\"line_color\": [\"white\"], \"line_alpha\": [1.0], \"chart_index\": [{\"term\": \"wheel\"}], \"color\": [\"#f22c40\"], \"fill_alpha\": [0.8], \"term\": [\"wheel\"], \"height\": [392.0], \"width\": [0.8], \"y\": [196.0], \"x\": [\"wheel\"]}}, \"type\": \"ColumnDataSource\", \"id\": \"ce564f88-2022-4de0-98d1-59bbe1a58938\"}, {\"attributes\": {\"line_color\": {\"field\": \"line_color\"}, \"fill_color\": {\"field\": \"color\"}, \"fill_alpha\": {\"field\": \"fill_alpha\"}, \"height\": {\"units\": \"data\", \"field\": \"height\"}, \"width\": {\"units\": \"data\", \"field\": \"width\"}, \"y\": {\"field\": \"y\"}, \"x\": {\"field\": \"x\"}}, \"type\": \"Rect\", \"id\": \"7fe54ef8-e44c-404f-94c3-4bacce5f92ad\"}, {\"attributes\": {\"callback\": null, \"column_names\": [\"line_color\", \"line_alpha\", \"color\", \"fill_alpha\", \"height\", \"width\", \"y\", \"x\"], \"data\": {\"line_color\": [\"white\"], \"line_alpha\": [1.0], \"chart_index\": [{\"term\": \"for\"}], \"color\": [\"#f22c40\"], \"fill_alpha\": [0.8], \"term\": [\"for\"], \"height\": [2.6701638770609972], \"width\": [0.8], \"y\": [1.3350819385304986], \"x\": [\"for\"]}}, \"type\": \"ColumnDataSource\", \"id\": \"bcd9b050-0d89-489f-b0b2-98427c063b44\"}, {\"attributes\": {\"line_color\": {\"field\": \"line_color\"}, \"fill_color\": {\"field\": \"color\"}, \"fill_alpha\": {\"field\": \"fill_alpha\"}, \"height\": {\"units\": \"data\", \"field\": \"height\"}, \"width\": {\"units\": \"data\", \"field\": \"width\"}, \"y\": {\"field\": \"y\"}, \"x\": {\"field\": \"x\"}}, \"type\": \"Rect\", \"id\": \"a89e9d6e-c745-4bfc-bd26-2e22a70666c1\"}, {\"attributes\": {\"plot\": {\"subtype\": \"Chart\", \"type\": \"Plot\", \"id\": \"96d9a664-a197-4479-94f9-4a591061ec34\"}}, \"type\": \"ResetTool\", \"id\": \"474afcbe-16c8-4f11-b3a9-0e101378d1bc\"}, {\"attributes\": {\"nonselection_glyph\": null, \"data_source\": {\"type\": \"ColumnDataSource\", \"id\": \"59bcdf31-d31d-4a56-9f46-d1367e6c85a0\"}, \"selection_glyph\": null, \"hover_glyph\": null, \"glyph\": {\"type\": \"Rect\", \"id\": \"50a6d052-4f35-40ad-810f-10922117d4fd\"}}, \"type\": \"GlyphRenderer\", \"id\": \"d8c03c89-b5db-443e-b98f-62b40454380c\"}, {\"attributes\": {\"plot\": {\"subtype\": \"Chart\", \"type\": \"Plot\", \"id\": \"5527bbff-a6a9-4d2b-811c-9e446fe3f2a6\"}}, \"type\": \"PanTool\", \"id\": \"20e48670-9fff-4b6a-a0df-60157f62c82a\"}, {\"attributes\": {\"callback\": null, \"column_names\": [\"line_color\", \"line_alpha\", \"color\", \"fill_alpha\", \"height\", \"width\", \"y\", \"x\"], \"data\": {\"line_color\": [\"white\"], \"line_alpha\": [1.0], \"chart_index\": [{\"term\": \"led\"}], \"color\": [\"#f22c40\"], \"fill_alpha\": [0.8], \"term\": [\"led\"], \"height\": [573.0], \"width\": [0.8], \"y\": [286.5], \"x\": [\"led\"]}}, \"type\": \"ColumnDataSource\", \"id\": \"20cef9e0-ec6c-40a8-8914-90cbcd0c37c5\"}, {\"attributes\": {\"nonselection_glyph\": null, \"data_source\": {\"type\": \"ColumnDataSource\", \"id\": \"1bece8a5-3240-4e7e-ac64-8d3b35d4f64c\"}, \"selection_glyph\": null, \"hover_glyph\": null, \"glyph\": {\"type\": \"Rect\", \"id\": \"dbcdd2b1-43b8-4f38-8c03-85f2d7b284f3\"}}, \"type\": \"GlyphRenderer\", \"id\": \"10acc680-0e55-4626-a52c-9d3830a11194\"}, {\"attributes\": {\"line_color\": {\"field\": \"line_color\"}, \"fill_color\": {\"field\": \"color\"}, \"fill_alpha\": {\"field\": \"fill_alpha\"}, \"height\": {\"units\": \"data\", \"field\": \"height\"}, \"width\": {\"units\": \"data\", \"field\": \"width\"}, \"y\": {\"field\": \"y\"}, \"x\": {\"field\": \"x\"}}, \"type\": \"Rect\", \"id\": \"81f19325-107c-4e09-8f15-4ff05a53b84d\"}, {\"attributes\": {\"callback\": null, \"column_names\": [\"line_color\", \"line_alpha\", \"color\", \"fill_alpha\", \"height\", \"width\", \"y\", \"x\"], \"data\": {\"line_color\": [\"white\"], \"line_alpha\": [1.0], \"chart_index\": [{\"term\": \"tire\"}], \"color\": [\"#f22c40\"], \"fill_alpha\": [0.8], \"term\": [\"tire\"], \"height\": [3.0532534576543253], \"width\": [0.8], \"y\": [1.5266267288271627], \"x\": [\"tire\"]}}, \"type\": \"ColumnDataSource\", \"id\": \"a7684f56-a909-4e82-a073-cbf5e90e1aad\"}, {\"attributes\": {\"nonselection_glyph\": null, \"data_source\": {\"type\": \"ColumnDataSource\", \"id\": \"d02b8885-4fb0-47db-afaa-42f0b7765bd9\"}, \"selection_glyph\": null, \"hover_glyph\": null, \"glyph\": {\"type\": \"Rect\", \"id\": \"c6ab62f7-a7bd-45c6-a198-0fdb0958104e\"}}, \"type\": \"GlyphRenderer\", \"id\": \"268fff16-522b-4189-a38f-bcaf55e76b2d\"}, {\"attributes\": {\"nonselection_glyph\": null, \"data_source\": {\"type\": \"ColumnDataSource\", \"id\": \"1144a047-6e67-455a-978d-d5eaa38db9ac\"}, \"selection_glyph\": null, \"hover_glyph\": null, \"glyph\": {\"type\": \"Rect\", \"id\": \"c9bd59b4-ea20-4041-ac29-633de123ad64\"}}, \"type\": \"GlyphRenderer\", \"id\": \"dcbe3b7d-ce79-42cf-8625-526b8fb89b65\"}, {\"attributes\": {\"nonselection_glyph\": null, \"data_source\": {\"type\": \"ColumnDataSource\", \"id\": \"c99c61d3-26d8-4b6b-8d21-1b8d7ce98055\"}, \"selection_glyph\": null, \"hover_glyph\": null, \"glyph\": {\"type\": \"Rect\", \"id\": \"07dca88e-66a7-4132-8c53-d405b1d5f9e1\"}}, \"type\": \"GlyphRenderer\", \"id\": \"733b9ec2-bdcd-41f4-ae1a-332aaee89a41\"}, {\"attributes\": {\"line_color\": {\"field\": \"line_color\"}, \"fill_color\": {\"field\": \"color\"}, \"fill_alpha\": {\"field\": \"fill_alpha\"}, \"height\": {\"units\": \"data\", \"field\": \"height\"}, \"width\": {\"units\": \"data\", \"field\": \"width\"}, \"y\": {\"field\": \"y\"}, \"x\": {\"field\": \"x\"}}, \"type\": \"Rect\", \"id\": \"226b4a04-99c5-42c4-9a0d-09232eb59b3d\"}, {\"attributes\": {\"line_color\": {\"field\": \"line_color\"}, \"fill_color\": {\"field\": \"color\"}, \"fill_alpha\": {\"field\": \"fill_alpha\"}, \"height\": {\"units\": \"data\", \"field\": \"height\"}, \"width\": {\"units\": \"data\", \"field\": \"width\"}, \"y\": {\"field\": \"y\"}, \"x\": {\"field\": \"x\"}}, \"type\": \"Rect\", \"id\": \"049a9018-0dc8-4488-afc0-854a72f51a35\"}, {\"attributes\": {\"callback\": null, \"column_names\": [\"line_color\", \"line_alpha\", \"color\", \"fill_alpha\", \"height\", \"width\", \"y\", \"x\"], \"data\": {\"line_color\": [\"white\"], \"line_alpha\": [1.0], \"chart_index\": [{\"term\": \"black\"}], \"color\": [\"#f22c40\"], \"fill_alpha\": [0.8], \"term\": [\"black\"], \"height\": [1404.0], \"width\": [0.8], \"y\": [702.0], \"x\": [\"black\"]}}, \"type\": \"ColumnDataSource\", \"id\": \"264d6c03-f534-4ede-a4b7-ae21f13542b9\"}, {\"attributes\": {\"nonselection_glyph\": null, \"data_source\": {\"type\": \"ColumnDataSource\", \"id\": \"f230e42a-1907-480e-90c3-ba31c078c61f\"}, \"selection_glyph\": null, \"hover_glyph\": null, \"glyph\": {\"type\": \"Rect\", \"id\": \"b484b590-e496-4cbc-9b0e-caf578d0877e\"}}, \"type\": \"GlyphRenderer\", \"id\": \"18e9cb28-254c-466f-945c-d31174ef71f8\"}, {\"attributes\": {\"callback\": null, \"column_names\": [\"line_color\", \"line_alpha\", \"color\", \"fill_alpha\", \"height\", \"width\", \"y\", \"x\"], \"data\": {\"line_color\": [\"white\"], \"line_alpha\": [1.0], \"chart_index\": [{\"term\": \"lamp\"}], \"color\": [\"#f22c40\"], \"fill_alpha\": [0.8], \"term\": [\"lamp\"], \"height\": [3.2006461533765393], \"width\": [0.8], \"y\": [1.6003230766882697], \"x\": [\"lamp\"]}}, \"type\": \"ColumnDataSource\", \"id\": \"fbf41089-0a8d-4969-bb87-ab99bb8feac0\"}, {\"attributes\": {\"nonselection_glyph\": null, \"data_source\": {\"type\": \"ColumnDataSource\", \"id\": \"bc8fd6b3-9590-4e93-b788-da062c44f241\"}, \"selection_glyph\": null, \"hover_glyph\": null, \"glyph\": {\"type\": \"Rect\", \"id\": \"3afcdedb-6569-4227-876d-de9d2f4b041c\"}}, \"type\": \"GlyphRenderer\", \"id\": \"4603c7ef-c317-44f6-abfb-28ed229e1419\"}, {\"attributes\": {\"line_color\": {\"field\": \"line_color\"}, \"fill_color\": {\"field\": \"color\"}, \"fill_alpha\": {\"field\": \"fill_alpha\"}, \"height\": {\"units\": \"data\", \"field\": \"height\"}, \"width\": {\"units\": \"data\", \"field\": \"width\"}, \"y\": {\"field\": \"y\"}, \"x\": {\"field\": \"x\"}}, \"type\": \"Rect\", \"id\": \"41e79c2c-88df-47a9-8bd3-664f00220d73\"}, {\"attributes\": {\"line_color\": {\"field\": \"line_color\"}, \"fill_color\": {\"field\": \"color\"}, \"fill_alpha\": {\"field\": \"fill_alpha\"}, \"height\": {\"units\": \"data\", \"field\": \"height\"}, \"width\": {\"units\": \"data\", \"field\": \"width\"}, \"y\": {\"field\": \"y\"}, \"x\": {\"field\": \"x\"}}, \"type\": \"Rect\", \"id\": \"0e44da39-dd67-43f6-947e-773deb8b7068\"}, {\"attributes\": {\"nonselection_glyph\": null, \"data_source\": {\"type\": \"ColumnDataSource\", \"id\": \"22d70ad1-8da2-4d88-b70b-48d496755f43\"}, \"selection_glyph\": null, \"hover_glyph\": null, \"glyph\": {\"type\": \"Rect\", \"id\": \"89f4c1e7-ac65-4f7c-bdb5-52de03795c23\"}}, \"type\": \"GlyphRenderer\", \"id\": \"84e8a97b-c045-4d11-b344-8726c3674419\"}, {\"attributes\": {\"plot\": {\"subtype\": \"Chart\", \"type\": \"Plot\", \"id\": \"47bc8d2d-d405-48ff-b513-972d28b02732\"}}, \"type\": \"ResizeTool\", \"id\": \"64b600f8-2730-4ae9-abf8-b183fa753f40\"}, {\"attributes\": {\"callback\": null, \"column_names\": [\"line_color\", \"line_alpha\", \"color\", \"fill_alpha\", \"height\", \"width\", \"y\", \"x\"], \"data\": {\"line_color\": [\"white\"], \"line_alpha\": [1.0], \"chart_index\": [{\"term\": \"mtb\"}], \"color\": [\"#f22c40\"], \"fill_alpha\": [0.8], \"term\": [\"mtb\"], \"height\": [2.352639575737843], \"width\": [0.8], \"y\": [1.1763197878689216], \"x\": [\"mtb\"]}}, \"type\": \"ColumnDataSource\", \"id\": \"56e7be07-23bd-4067-a7fe-79327fea8aa2\"}, {\"attributes\": {\"line_color\": {\"field\": \"line_color\"}, \"fill_color\": {\"field\": \"color\"}, \"fill_alpha\": {\"field\": \"fill_alpha\"}, \"height\": {\"units\": \"data\", \"field\": \"height\"}, \"width\": {\"units\": \"data\", \"field\": \"width\"}, \"y\": {\"field\": \"y\"}, \"x\": {\"field\": \"x\"}}, \"type\": \"Rect\", \"id\": \"32ac8ee0-7ff2-4572-b806-05dc23083113\"}, {\"attributes\": {\"callback\": null, \"column_names\": [\"line_color\", \"line_alpha\", \"color\", \"fill_alpha\", \"height\", \"width\", \"y\", \"x\"], \"data\": {\"line_color\": [\"white\"], \"line_alpha\": [1.0], \"chart_index\": [{\"term\": \"front\"}], \"color\": [\"#f22c40\"], \"fill_alpha\": [0.8], \"term\": [\"front\"], \"height\": [594.0], \"width\": [0.8], \"y\": [297.0], \"x\": [\"front\"]}}, \"type\": \"ColumnDataSource\", \"id\": \"95501202-4b8a-4fd7-bd0a-fd3151e414e3\"}, {\"attributes\": {\"line_color\": {\"field\": \"line_color\"}, \"fill_color\": {\"field\": \"color\"}, \"fill_alpha\": {\"field\": \"fill_alpha\"}, \"height\": {\"units\": \"data\", \"field\": \"height\"}, \"width\": {\"units\": \"data\", \"field\": \"width\"}, \"y\": {\"field\": \"y\"}, \"x\": {\"field\": \"x\"}}, \"type\": \"Rect\", \"id\": \"24556e35-5c1e-442d-bac7-120cec50172c\"}, {\"attributes\": {\"line_color\": {\"field\": \"line_color\"}, \"fill_color\": {\"field\": \"color\"}, \"fill_alpha\": {\"field\": \"fill_alpha\"}, \"height\": {\"units\": \"data\", \"field\": \"height\"}, \"width\": {\"units\": \"data\", \"field\": \"width\"}, \"y\": {\"field\": \"y\"}, \"x\": {\"field\": \"x\"}}, \"type\": \"Rect\", \"id\": \"94e9b19a-e2e3-4dd0-936f-0bea21df8fd5\"}, {\"attributes\": {\"line_color\": {\"field\": \"line_color\"}, \"fill_color\": {\"field\": \"color\"}, \"fill_alpha\": {\"field\": \"fill_alpha\"}, \"height\": {\"units\": \"data\", \"field\": \"height\"}, \"width\": {\"units\": \"data\", \"field\": \"width\"}, \"y\": {\"field\": \"y\"}, \"x\": {\"field\": \"x\"}}, \"type\": \"Rect\", \"id\": \"11cbb3ef-5115-4497-a5eb-e7912d738c0f\"}, {\"attributes\": {\"callback\": null, \"column_names\": [\"line_color\", \"line_alpha\", \"color\", \"fill_alpha\", \"height\", \"width\", \"y\", \"x\"], \"data\": {\"line_color\": [\"white\"], \"line_alpha\": [1.0], \"chart_index\": [{\"term\": \"bmx\"}], \"color\": [\"#f22c40\"], \"fill_alpha\": [0.8], \"term\": [\"bmx\"], \"height\": [582.0], \"width\": [0.8], \"y\": [291.0], \"x\": [\"bmx\"]}}, \"type\": \"ColumnDataSource\", \"id\": \"caf54dbe-1372-4846-b1a0-1b7ed474f033\"}, {\"attributes\": {\"plot\": {\"subtype\": \"Figure\", \"type\": \"Plot\", \"id\": \"f68da6b1-69d3-40ba-b453-7029bfcffb96\"}}, \"type\": \"HelpTool\", \"id\": \"0b3c1590-9ed6-4bb3-87c8-528aab96d4fd\"}, {\"attributes\": {\"plot\": {\"subtype\": \"Chart\", \"type\": \"Plot\", \"id\": \"5527bbff-a6a9-4d2b-811c-9e446fe3f2a6\"}}, \"type\": \"HelpTool\", \"id\": \"000bf73e-1d0e-4f54-ba4d-603fdd1b157d\"}, {\"attributes\": {\"x_range\": {\"type\": \"DataRange1d\", \"id\": \"54301cf1-6f3a-4ae2-82b9-3c52c0826cf8\"}, \"y_range\": {\"type\": \"DataRange1d\", \"id\": \"96a4a2a1-3432-4287-b910-47fa9ff83c65\"}, \"renderers\": [{\"type\": \"LinearAxis\", \"id\": \"ddf3a82b-3001-4a39-b7f6-2cc60bc5905a\"}, {\"type\": \"Grid\", \"id\": \"f4d2f885-a42d-4fbd-b4dc-c48fffa7a267\"}, {\"type\": \"LinearAxis\", \"id\": \"849e3f94-8b42-48f2-a57b-a3ffe9a74ac8\"}, {\"type\": \"Grid\", \"id\": \"e4b18204-c54b-4b75-9a30-4b1753b4b61b\"}, {\"type\": \"BoxAnnotation\", \"id\": \"62ce25c9-14cd-439d-9abf-424868b97bfe\"}, {\"type\": \"GlyphRenderer\", \"id\": \"c6164b92-ae6f-48ce-9bb2-cdcdf510a394\"}, {\"type\": \"GlyphRenderer\", \"id\": \"fc5bc885-bc88-440f-aa10-cc5d315d758d\"}], \"plot_width\": 400, \"below\": [{\"type\": \"LinearAxis\", \"id\": \"ddf3a82b-3001-4a39-b7f6-2cc60bc5905a\"}], \"tool_events\": {\"type\": \"ToolEvents\", \"id\": \"f41d0940-8c88-4055-85c0-adf81e8fe991\"}, \"plot_height\": 400, \"tools\": [{\"type\": \"PanTool\", \"id\": \"4db4629e-b11e-4f19-8b09-b353ac91f42d\"}, {\"type\": \"WheelZoomTool\", \"id\": \"d39241da-3d38-4955-aa38-03279bcba69e\"}, {\"type\": \"BoxZoomTool\", \"id\": \"c437b914-b01f-41b7-852e-f22f541f00d0\"}, {\"type\": \"PreviewSaveTool\", \"id\": \"1a3e7a8d-3cad-4515-bf45-d71453e977d7\"}, {\"type\": \"ResizeTool\", \"id\": \"b0f30c48-470f-4f87-a57e-10b47dd94f5e\"}, {\"type\": \"ResetTool\", \"id\": \"13029b45-5581-4080-a9a2-112de4cf056f\"}, {\"type\": \"HelpTool\", \"id\": \"0b3c1590-9ed6-4bb3-87c8-528aab96d4fd\"}], \"left\": [{\"type\": \"LinearAxis\", \"id\": \"849e3f94-8b42-48f2-a57b-a3ffe9a74ac8\"}]}, \"type\": \"Plot\", \"id\": \"f68da6b1-69d3-40ba-b453-7029bfcffb96\", \"subtype\": \"Figure\"}, {\"attributes\": {\"callback\": null, \"column_names\": [\"line_color\", \"line_alpha\", \"color\", \"fill_alpha\", \"height\", \"width\", \"y\", \"x\"], \"data\": {\"line_color\": [\"white\"], \"line_alpha\": [1.0], \"chart_index\": [{\"term\": \"chain\"}], \"color\": [\"#f22c40\"], \"fill_alpha\": [0.8], \"term\": [\"chain\"], \"height\": [373.0], \"width\": [0.8], \"y\": [186.5], \"x\": [\"chain\"]}}, \"type\": \"ColumnDataSource\", \"id\": \"58063d6e-dd80-4e81-8946-47a19ebd750d\"}, {\"attributes\": {\"nonselection_glyph\": null, \"data_source\": {\"type\": \"ColumnDataSource\", \"id\": \"63c3fad3-d425-4ef5-961d-626ee02f79dc\"}, \"selection_glyph\": null, \"hover_glyph\": null, \"glyph\": {\"type\": \"Rect\", \"id\": \"db5324cd-d429-462b-8a42-7ce3a412e4e5\"}}, \"type\": \"GlyphRenderer\", \"id\": \"e080920e-c973-4552-b29c-9fe99383f382\"}, {\"attributes\": {\"nonselection_glyph\": null, \"data_source\": {\"type\": \"ColumnDataSource\", \"id\": \"53f97848-9761-46fa-8b92-74f3a22fc04a\"}, \"selection_glyph\": null, \"hover_glyph\": null, \"glyph\": {\"type\": \"Rect\", \"id\": \"e39a53d3-f997-4043-a941-98ed72ae6be7\"}}, \"type\": \"GlyphRenderer\", \"id\": \"1a3a2dbd-87ec-4e3e-aadd-6b6445f7161b\"}, {\"attributes\": {\"nonselection_glyph\": null, \"data_source\": {\"type\": \"ColumnDataSource\", \"id\": \"fa68759c-7dc4-4a28-bf09-d808f0e22d92\"}, \"selection_glyph\": null, \"hover_glyph\": null, \"glyph\": {\"type\": \"Rect\", \"id\": \"150b55c1-f747-43cd-95eb-e4e6547bd70d\"}}, \"type\": \"GlyphRenderer\", \"id\": \"742af6e9-33dc-40c3-b1f5-6781ccee254b\"}, {\"attributes\": {\"nonselection_glyph\": null, \"data_source\": {\"type\": \"ColumnDataSource\", \"id\": \"9defff4a-5fe0-4838-9edb-696c1718d528\"}, \"selection_glyph\": null, \"hover_glyph\": null, \"glyph\": {\"type\": \"Rect\", \"id\": \"fdf64851-c3f5-4424-91cb-3a6eceed2a7b\"}}, \"type\": \"GlyphRenderer\", \"id\": \"6faa4537-7749-49f4-bf41-09d7a73c3f98\"}, {\"attributes\": {\"nonselection_glyph\": null, \"data_source\": {\"type\": \"ColumnDataSource\", \"id\": \"e358f212-eac1-4064-9e10-7414491b7af7\"}, \"selection_glyph\": null, \"hover_glyph\": null, \"glyph\": {\"type\": \"Rect\", \"id\": \"81427917-9849-4307-a54e-c6e8887e9718\"}}, \"type\": \"GlyphRenderer\", \"id\": \"1c24c08a-91be-4394-b373-c4a2e44ac0f9\"}, {\"attributes\": {\"line_color\": {\"field\": \"line_color\"}, \"fill_color\": {\"field\": \"color\"}, \"fill_alpha\": {\"field\": \"fill_alpha\"}, \"height\": {\"units\": \"data\", \"field\": \"height\"}, \"width\": {\"units\": \"data\", \"field\": \"width\"}, \"y\": {\"field\": \"y\"}, \"x\": {\"field\": \"x\"}}, \"type\": \"Rect\", \"id\": \"cc298d2c-5be7-4367-afa7-2dcbed62a4e1\"}, {\"attributes\": {\"line_color\": {\"field\": \"line_color\"}, \"fill_color\": {\"field\": \"color\"}, \"fill_alpha\": {\"field\": \"fill_alpha\"}, \"height\": {\"units\": \"data\", \"field\": \"height\"}, \"width\": {\"units\": \"data\", \"field\": \"width\"}, \"y\": {\"field\": \"y\"}, \"x\": {\"field\": \"x\"}}, \"type\": \"Rect\", \"id\": \"660dfe0e-2de5-4cf0-8e24-463d7b970a9a\"}, {\"attributes\": {\"line_color\": {\"field\": \"line_color\"}, \"fill_color\": {\"field\": \"color\"}, \"fill_alpha\": {\"field\": \"fill_alpha\"}, \"height\": {\"units\": \"data\", \"field\": \"height\"}, \"width\": {\"units\": \"data\", \"field\": \"width\"}, \"y\": {\"field\": \"y\"}, \"x\": {\"field\": \"x\"}}, \"type\": \"Rect\", \"id\": \"a958f7ee-1920-47b4-b5a9-2fc2985f3e00\"}, {\"attributes\": {\"nonselection_glyph\": null, \"data_source\": {\"type\": \"ColumnDataSource\", \"id\": \"75030413-ce9d-41a7-b0d1-2e90739dbba2\"}, \"selection_glyph\": null, \"hover_glyph\": null, \"glyph\": {\"type\": \"Rect\", \"id\": \"834fd3c5-7536-4f7a-b035-6f497d1dfa0f\"}}, \"type\": \"GlyphRenderer\", \"id\": \"9574ed4c-3fbe-4035-9d26-0d136b156c79\"}, {\"attributes\": {\"nonselection_glyph\": null, \"data_source\": {\"type\": \"ColumnDataSource\", \"id\": \"17b6cb79-28ea-4e44-95b1-0f2dd1140de9\"}, \"selection_glyph\": null, \"hover_glyph\": null, \"glyph\": {\"type\": \"Rect\", \"id\": \"dfc99ead-493f-4e0a-996a-10d61857c4dc\"}}, \"type\": \"GlyphRenderer\", \"id\": \"32c92569-a723-422e-a5c5-879abc0c9ae3\"}, {\"attributes\": {\"nonselection_glyph\": null, \"data_source\": {\"type\": \"ColumnDataSource\", \"id\": \"65e1779d-b059-4683-841f-aa529cfd0f76\"}, \"selection_glyph\": null, \"hover_glyph\": null, \"glyph\": {\"type\": \"Rect\", \"id\": \"46b986c1-a355-4d7a-9d29-243dbf6bf584\"}}, \"type\": \"GlyphRenderer\", \"id\": \"0f2251ff-12bf-40fe-a782-2e61ff267d73\"}, {\"attributes\": {\"x_range\": {\"type\": \"FactorRange\", \"id\": \"15f3a98b-5a8e-4de1-8ed3-3c883802ab5c\"}, \"y_mapper_type\": \"auto\", \"title_text_font_size\": {\"value\": \"14pt\"}, \"yscale\": \"auto\", \"y_range\": {\"type\": \"Range1d\", \"id\": \"35686063-5b94-4b33-8ae0-69e37c9e62ce\"}, \"x_mapper_type\": \"auto\", \"renderers\": [{\"type\": \"BoxAnnotation\", \"id\": \"b3d96623-c762-4984-aab5-d5f8a84d0bb4\"}, {\"type\": \"GlyphRenderer\", \"id\": \"10acc680-0e55-4626-a52c-9d3830a11194\"}, {\"type\": \"GlyphRenderer\", \"id\": \"37a9eba7-8c7e-4a1f-9e66-aa20f9531917\"}, {\"type\": \"GlyphRenderer\", \"id\": \"d7be3778-d21b-4378-b520-b332e561d972\"}, {\"type\": \"CategoricalAxis\", \"id\": \"792573dd-eb44-4e9c-9d76-0585f590c87f\"}, {\"type\": \"LinearAxis\", \"id\": \"9b1a02a5-410d-4dfa-ad98-6b45879b8560\"}, {\"type\": \"Grid\", \"id\": \"23086db0-0b90-492e-90eb-b80337d21bdd\"}], \"plot_width\": 400, \"xgrid\": false, \"below\": [{\"type\": \"CategoricalAxis\", \"id\": \"792573dd-eb44-4e9c-9d76-0585f590c87f\"}], \"tool_events\": {\"type\": \"ToolEvents\", \"id\": \"d49a5773-de0a-4493-a1ce-b079197eaa6f\"}, \"plot_height\": 400, \"xscale\": \"auto\", \"tools\": [{\"type\": \"PanTool\", \"id\": \"ff220328-7288-4236-98b4-37cdd8660552\"}, {\"type\": \"WheelZoomTool\", \"id\": \"1e3e9652-4f5a-4a72-9d34-57636f9b7649\"}, {\"type\": \"BoxZoomTool\", \"id\": \"1c36072e-0bf6-4b7b-a120-21520c6c6b97\"}, {\"type\": \"PreviewSaveTool\", \"id\": \"182b39c4-1ee7-49c2-b6e6-71828ca3a7be\"}, {\"type\": \"ResizeTool\", \"id\": \"64b600f8-2730-4ae9-abf8-b183fa753f40\"}, {\"type\": \"ResetTool\", \"id\": \"d5b1c977-4a5e-44d6-b82d-13308ac1a6ae\"}, {\"type\": \"HelpTool\", \"id\": \"017506cf-cf1a-4089-a892-8f4f46ed22e7\"}], \"legend\": null, \"left\": [{\"type\": \"LinearAxis\", \"id\": \"9b1a02a5-410d-4dfa-ad98-6b45879b8560\"}]}, \"type\": \"Plot\", \"id\": \"47bc8d2d-d405-48ff-b513-972d28b02732\", \"subtype\": \"Chart\"}, {\"attributes\": {\"plot\": {\"subtype\": \"Chart\", \"type\": \"Plot\", \"id\": \"96d9a664-a197-4479-94f9-4a591061ec34\"}}, \"type\": \"HelpTool\", \"id\": \"0ee2a5c8-bb4c-47d7-8030-e4d5178c93e7\"}, {\"attributes\": {\"nonselection_glyph\": null, \"data_source\": {\"type\": \"ColumnDataSource\", \"id\": \"716b7efd-5fb9-4b9b-971e-da7d7933cf4c\"}, \"selection_glyph\": null, \"hover_glyph\": null, \"glyph\": {\"type\": \"Rect\", \"id\": \"333271a9-c738-462d-aeff-db3bb75df342\"}}, \"type\": \"GlyphRenderer\", \"id\": \"46629daa-3909-427b-8f9c-64d2c4c44280\"}, {\"attributes\": {\"nonselection_glyph\": null, \"data_source\": {\"type\": \"ColumnDataSource\", \"id\": \"a09e88ec-f7ba-4c26-a375-87b27398d1a5\"}, \"selection_glyph\": null, \"hover_glyph\": null, \"glyph\": {\"type\": \"Rect\", \"id\": \"57ad6a0c-8ee1-408d-8b46-f83eeee2ca9f\"}}, \"type\": \"GlyphRenderer\", \"id\": \"98c2ef57-0bc8-44db-b0ac-a6966fe8fbb8\"}, {\"attributes\": {\"line_color\": {\"field\": \"line_color\"}, \"fill_color\": {\"field\": \"color\"}, \"fill_alpha\": {\"field\": \"fill_alpha\"}, \"height\": {\"units\": \"data\", \"field\": \"height\"}, \"width\": {\"units\": \"data\", \"field\": \"width\"}, \"y\": {\"field\": \"y\"}, \"x\": {\"field\": \"x\"}}, \"type\": \"Rect\", \"id\": \"bc9f33c1-dd88-45f6-b663-2c392cb264d9\"}, {\"attributes\": {\"callback\": null, \"column_names\": [\"line_color\", \"line_alpha\", \"color\", \"fill_alpha\", \"height\", \"width\", \"y\", \"x\"], \"data\": {\"line_color\": [\"white\"], \"line_alpha\": [1.0], \"chart_index\": [{\"term\": \"bike\"}], \"color\": [\"#f22c40\"], \"fill_alpha\": [0.8], \"term\": [\"bike\"], \"height\": [4534.0], \"width\": [0.8], \"y\": [2267.0], \"x\": [\"bike\"]}}, \"type\": \"ColumnDataSource\", \"id\": \"a1faf4c8-150b-4536-a53d-9fd81a146213\"}, {\"attributes\": {}, \"type\": \"ToolEvents\", \"id\": \"f41d0940-8c88-4055-85c0-adf81e8fe991\"}, {\"attributes\": {\"callback\": null, \"column_names\": [\"line_color\", \"line_alpha\", \"color\", \"fill_alpha\", \"height\", \"width\", \"y\", \"x\"], \"data\": {\"line_color\": [\"white\"], \"line_alpha\": [1.0], \"chart_index\": [{\"term\": \"mtb\"}], \"color\": [\"#f22c40\"], \"fill_alpha\": [0.8], \"term\": [\"mtb\"], \"height\": [945.0], \"width\": [0.8], \"y\": [472.5], \"x\": [\"mtb\"]}}, \"type\": \"ColumnDataSource\", \"id\": \"88c14645-3f2e-4027-b954-1c79d15a6b68\"}, {\"attributes\": {\"line_color\": {\"field\": \"line_color\"}, \"fill_color\": {\"field\": \"color\"}, \"fill_alpha\": {\"field\": \"fill_alpha\"}, \"height\": {\"units\": \"data\", \"field\": \"height\"}, \"width\": {\"units\": \"data\", \"field\": \"width\"}, \"y\": {\"field\": \"y\"}, \"x\": {\"field\": \"x\"}}, \"type\": \"Rect\", \"id\": \"addfc071-9dee-436d-a391-5c80c17835bd\"}, {\"attributes\": {\"callback\": null, \"column_names\": [\"line_color\", \"line_alpha\", \"color\", \"fill_alpha\", \"height\", \"width\", \"y\", \"x\"], \"data\": {\"line_color\": [\"white\"], \"line_alpha\": [1.0], \"chart_index\": [{\"term\": \"mountain\"}], \"color\": [\"#f22c40\"], \"fill_alpha\": [0.8], \"term\": [\"mountain\"], \"height\": [838.0], \"width\": [0.8], \"y\": [419.0], \"x\": [\"mountain\"]}}, \"type\": \"ColumnDataSource\", \"id\": \"e34373a0-eb99-442a-9cd7-2876eec6b40e\"}, {\"attributes\": {\"line_color\": {\"value\": \"black\"}, \"line_alpha\": {\"value\": 1.0}, \"render_mode\": \"css\", \"bottom_units\": \"screen\", \"level\": \"overlay\", \"top_units\": \"screen\", \"fill_alpha\": {\"value\": 0.5}, \"plot\": null, \"left_units\": \"screen\", \"line_dash\": [4, 4], \"line_width\": {\"value\": 2}, \"right_units\": \"screen\", \"fill_color\": {\"value\": \"lightgrey\"}}, \"type\": \"BoxAnnotation\", \"id\": \"b3d96623-c762-4984-aab5-d5f8a84d0bb4\"}, {\"attributes\": {\"callback\": null, \"column_names\": [\"line_color\", \"line_alpha\", \"color\", \"fill_alpha\", \"height\", \"width\", \"y\", \"x\"], \"data\": {\"line_color\": [\"white\"], \"line_alpha\": [1.0], \"chart_index\": [{\"term\": \"water\"}], \"color\": [\"#f22c40\"], \"fill_alpha\": [0.8], \"term\": [\"water\"], \"height\": [390.0], \"width\": [0.8], \"y\": [195.0], \"x\": [\"water\"]}}, \"type\": \"ColumnDataSource\", \"id\": \"98c30672-009c-40a1-8c4a-27ecc778b0ac\"}, {\"attributes\": {\"callback\": null, \"column_names\": [\"line_color\", \"line_alpha\", \"color\", \"fill_alpha\", \"height\", \"width\", \"y\", \"x\"], \"data\": {\"line_color\": [\"white\"], \"line_alpha\": [1.0], \"chart_index\": [{\"term\": \"light\"}], \"color\": [\"#f22c40\"], \"fill_alpha\": [0.8], \"term\": [\"light\"], \"height\": [687.0], \"width\": [0.8], \"y\": [343.5], \"x\": [\"light\"]}}, \"type\": \"ColumnDataSource\", \"id\": \"65e1779d-b059-4683-841f-aa529cfd0f76\"}, {\"attributes\": {\"callback\": null, \"column_names\": [\"line_color\", \"line_alpha\", \"color\", \"fill_alpha\", \"height\", \"width\", \"y\", \"x\"], \"data\": {\"line_color\": [\"white\"], \"line_alpha\": [1.0], \"chart_index\": [{\"term\": \"bike\"}], \"color\": [\"#f22c40\"], \"fill_alpha\": [0.8], \"term\": [\"bike\"], \"height\": [4462.0], \"width\": [0.8], \"y\": [2231.0], \"x\": [\"bike\"]}}, \"type\": \"ColumnDataSource\", \"id\": \"a38a65bb-7d4c-4d01-81db-5f96912058cf\"}, {\"attributes\": {\"callback\": null, \"column_names\": [\"line_color\", \"line_alpha\", \"color\", \"fill_alpha\", \"height\", \"width\", \"y\", \"x\"], \"data\": {\"line_color\": [\"white\"], \"line_alpha\": [1.0], \"chart_index\": [{\"term\": \"cycling\"}], \"color\": [\"#f22c40\"], \"fill_alpha\": [0.8], \"term\": [\"cycling\"], \"height\": [2142.0], \"width\": [0.8], \"y\": [1071.0], \"x\": [\"cycling\"]}}, \"type\": \"ColumnDataSource\", \"id\": \"22d70ad1-8da2-4d88-b70b-48d496755f43\"}, {\"attributes\": {\"callback\": null, \"column_names\": [\"line_color\", \"line_alpha\", \"color\", \"fill_alpha\", \"height\", \"width\", \"y\", \"x\"], \"data\": {\"line_color\": [\"white\"], \"line_alpha\": [1.0], \"chart_index\": [{\"term\": \"bottle\"}], \"color\": [\"#f22c40\"], \"fill_alpha\": [0.8], \"term\": [\"bottle\"], \"height\": [466.0], \"width\": [0.8], \"y\": [233.0], \"x\": [\"bottle\"]}}, \"type\": \"ColumnDataSource\", \"id\": \"c99c61d3-26d8-4b6b-8d21-1b8d7ce98055\"}, {\"attributes\": {}, \"type\": \"CategoricalTicker\", \"id\": \"82b1c0c6-807a-48be-86e6-ef6a46804af7\"}, {\"attributes\": {\"nonselection_glyph\": null, \"data_source\": {\"type\": \"ColumnDataSource\", \"id\": \"6797883f-3d8e-4fb4-8b74-61efcaa7dd59\"}, \"selection_glyph\": null, \"hover_glyph\": null, \"glyph\": {\"type\": \"Rect\", \"id\": \"0cd88d4c-bb6a-4e60-ba88-6f97ccfd1713\"}}, \"type\": \"GlyphRenderer\", \"id\": \"fe8dd01b-65a6-4cb6-a5da-34f8f874e9de\"}, {\"attributes\": {\"line_color\": {\"field\": \"line_color\"}, \"fill_color\": {\"field\": \"color\"}, \"fill_alpha\": {\"field\": \"fill_alpha\"}, \"height\": {\"units\": \"data\", \"field\": \"height\"}, \"width\": {\"units\": \"data\", \"field\": \"width\"}, \"y\": {\"field\": \"y\"}, \"x\": {\"field\": \"x\"}}, \"type\": \"Rect\", \"id\": \"1175a84c-bb07-4c41-b5a2-fefd1f33d071\"}, {\"attributes\": {\"callback\": null, \"column_names\": [\"line_color\", \"line_alpha\", \"color\", \"fill_alpha\", \"height\", \"width\", \"y\", \"x\"], \"data\": {\"line_color\": [\"white\"], \"line_alpha\": [1.0], \"chart_index\": [{\"term\": \"wheel\"}], \"color\": [\"#f22c40\"], \"fill_alpha\": [0.8], \"term\": [\"wheel\"], \"height\": [398.0], \"width\": [0.8], \"y\": [199.0], \"x\": [\"wheel\"]}}, \"type\": \"ColumnDataSource\", \"id\": \"2c531337-19b6-4407-b9c3-d93035144603\"}, {\"attributes\": {\"nonselection_glyph\": null, \"data_source\": {\"type\": \"ColumnDataSource\", \"id\": \"9c82e7c5-0ede-4ae9-9ed7-78aa9f607148\"}, \"selection_glyph\": null, \"hover_glyph\": null, \"glyph\": {\"type\": \"Rect\", \"id\": \"abe82f75-e11d-4b2d-9097-1d66871934ef\"}}, \"type\": \"GlyphRenderer\", \"id\": \"f4397207-ce0a-4cb9-a907-9521eb4427e7\"}, {\"attributes\": {\"nonselection_glyph\": null, \"data_source\": {\"type\": \"ColumnDataSource\", \"id\": \"a70d7efa-6b94-4a96-84d0-31ccdff0c0e2\"}, \"selection_glyph\": null, \"hover_glyph\": null, \"glyph\": {\"type\": \"Rect\", \"id\": \"81f19325-107c-4e09-8f15-4ff05a53b84d\"}}, \"type\": \"GlyphRenderer\", \"id\": \"dc8c7938-b634-48fd-bedc-83b79e6c2609\"}, {\"attributes\": {\"nonselection_glyph\": null, \"data_source\": {\"type\": \"ColumnDataSource\", \"id\": \"f2ead949-93e1-4d66-8fdc-3adcb4391bb4\"}, \"selection_glyph\": null, \"hover_glyph\": null, \"glyph\": {\"type\": \"Rect\", \"id\": \"877a2e98-c6ab-4ac9-b9ca-a396b545c3ce\"}}, \"type\": \"GlyphRenderer\", \"id\": \"5c06e9e7-8166-4bb7-a39f-e408542e5240\"}, {\"attributes\": {\"nonselection_glyph\": null, \"data_source\": {\"type\": \"ColumnDataSource\", \"id\": \"4753ff53-0efe-488c-b954-f10c14971a28\"}, \"selection_glyph\": null, \"hover_glyph\": null, \"glyph\": {\"type\": \"Rect\", \"id\": \"0e44da39-dd67-43f6-947e-773deb8b7068\"}}, \"type\": \"GlyphRenderer\", \"id\": \"69d11b4c-bbcc-4a6d-a05f-6c694534906e\"}, {\"attributes\": {\"line_color\": {\"field\": \"line_color\"}, \"fill_color\": {\"field\": \"color\"}, \"fill_alpha\": {\"field\": \"fill_alpha\"}, \"height\": {\"units\": \"data\", \"field\": \"height\"}, \"width\": {\"units\": \"data\", \"field\": \"width\"}, \"y\": {\"field\": \"y\"}, \"x\": {\"field\": \"x\"}}, \"type\": \"Rect\", \"id\": \"e6a62a32-0ace-4407-8ad4-5b383e2c4c77\"}, {\"attributes\": {\"major_label_orientation\": 0.7853981633974483, \"plot\": {\"subtype\": \"Chart\", \"type\": \"Plot\", \"id\": \"96d9a664-a197-4479-94f9-4a591061ec34\"}, \"axis_label\": \"Term\", \"formatter\": {\"type\": \"CategoricalTickFormatter\", \"id\": \"e1447ede-2683-451b-8281-bb455d6bed72\"}, \"ticker\": {\"type\": \"CategoricalTicker\", \"id\": \"ae01508b-46ff-42dc-b134-52ebb725d559\"}}, \"type\": \"CategoricalAxis\", \"id\": \"f7a720a9-5e10-44bb-8ad4-0d250f449559\"}, {\"attributes\": {\"line_color\": {\"field\": \"line_color\"}, \"fill_color\": {\"field\": \"color\"}, \"fill_alpha\": {\"field\": \"fill_alpha\"}, \"height\": {\"units\": \"data\", \"field\": \"height\"}, \"width\": {\"units\": \"data\", \"field\": \"width\"}, \"y\": {\"field\": \"y\"}, \"x\": {\"field\": \"x\"}}, \"type\": \"Rect\", \"id\": \"333271a9-c738-462d-aeff-db3bb75df342\"}, {\"attributes\": {\"line_color\": {\"field\": \"line_color\"}, \"fill_color\": {\"field\": \"color\"}, \"fill_alpha\": {\"field\": \"fill_alpha\"}, \"height\": {\"units\": \"data\", \"field\": \"height\"}, \"width\": {\"units\": \"data\", \"field\": \"width\"}, \"y\": {\"field\": \"y\"}, \"x\": {\"field\": \"x\"}}, \"type\": \"Rect\", \"id\": \"0cd88d4c-bb6a-4e60-ba88-6f97ccfd1713\"}, {\"attributes\": {\"callback\": null, \"column_names\": [\"line_color\", \"line_alpha\", \"color\", \"fill_alpha\", \"height\", \"width\", \"y\", \"x\"], \"data\": {\"line_color\": [\"white\"], \"line_alpha\": [1.0], \"chart_index\": [{\"term\": \"red\"}], \"color\": [\"#f22c40\"], \"fill_alpha\": [0.8], \"term\": [\"red\"], \"height\": [3.0404873268312897], \"width\": [0.8], \"y\": [1.5202436634156449], \"x\": [\"red\"]}}, \"type\": \"ColumnDataSource\", \"id\": \"716b7efd-5fb9-4b9b-971e-da7d7933cf4c\"}, {\"attributes\": {\"plot\": {\"subtype\": \"Chart\", \"type\": \"Plot\", \"id\": \"47bc8d2d-d405-48ff-b513-972d28b02732\"}}, \"type\": \"PanTool\", \"id\": \"ff220328-7288-4236-98b4-37cdd8660552\"}, {\"attributes\": {\"callback\": null, \"column_names\": [\"line_color\", \"line_alpha\", \"color\", \"fill_alpha\", \"height\", \"width\", \"y\", \"x\"], \"data\": {\"line_color\": [\"white\"], \"line_alpha\": [1.0], \"chart_index\": [{\"term\": \"rear\"}], \"color\": [\"#f22c40\"], \"fill_alpha\": [0.8], \"term\": [\"rear\"], \"height\": [707.0], \"width\": [0.8], \"y\": [353.5], \"x\": [\"rear\"]}}, \"type\": \"ColumnDataSource\", \"id\": \"a633f912-9aaf-454e-aea9-cc505dc7acfe\"}, {\"attributes\": {\"nonselection_glyph\": null, \"data_source\": {\"type\": \"ColumnDataSource\", \"id\": \"98c30672-009c-40a1-8c4a-27ecc778b0ac\"}, \"selection_glyph\": null, \"hover_glyph\": null, \"glyph\": {\"type\": \"Rect\", \"id\": \"d8096d28-d1de-4fc6-b473-5cbda8256013\"}}, \"type\": \"GlyphRenderer\", \"id\": \"9c45f0cb-5f7d-417d-b767-5c7d2c172232\"}, {\"attributes\": {\"line_color\": {\"field\": \"line_color\"}, \"fill_color\": {\"field\": \"color\"}, \"fill_alpha\": {\"field\": \"fill_alpha\"}, \"height\": {\"units\": \"data\", \"field\": \"height\"}, \"width\": {\"units\": \"data\", \"field\": \"width\"}, \"y\": {\"field\": \"y\"}, \"x\": {\"field\": \"x\"}}, \"type\": \"Rect\", \"id\": \"50a6d052-4f35-40ad-810f-10922117d4fd\"}, {\"attributes\": {\"nonselection_glyph\": null, \"data_source\": {\"type\": \"ColumnDataSource\", \"id\": \"93aae1b3-ddf7-499f-be54-667950d45746\"}, \"selection_glyph\": null, \"hover_glyph\": null, \"glyph\": {\"type\": \"Rect\", \"id\": \"89ecec00-69c3-42e0-b4f8-092c9cae64e1\"}}, \"type\": \"GlyphRenderer\", \"id\": \"415569b9-4d38-4456-9a93-6e9bb9e674b6\"}, {\"attributes\": {}, \"type\": \"BasicTickFormatter\", \"id\": \"dbbcafdc-c22b-49aa-b69a-d06dcad655f2\"}, {\"attributes\": {\"nonselection_glyph\": null, \"data_source\": {\"type\": \"ColumnDataSource\", \"id\": \"16a4fe3e-6745-4ec0-8275-af5072b79f6e\"}, \"selection_glyph\": null, \"hover_glyph\": null, \"glyph\": {\"type\": \"Rect\", \"id\": \"3271c96e-6825-4315-b396-308428507d46\"}}, \"type\": \"GlyphRenderer\", \"id\": \"da698af7-ed2a-4252-958a-140122c5735c\"}, {\"attributes\": {\"line_color\": {\"field\": \"line_color\"}, \"fill_color\": {\"field\": \"color\"}, \"fill_alpha\": {\"field\": \"fill_alpha\"}, \"height\": {\"units\": \"data\", \"field\": \"height\"}, \"width\": {\"units\": \"data\", \"field\": \"width\"}, \"y\": {\"field\": \"y\"}, \"x\": {\"field\": \"x\"}}, \"type\": \"Rect\", \"id\": \"fc557f97-3405-4d10-a4fa-c9a049fc4936\"}, {\"attributes\": {\"callback\": null, \"column_names\": [\"line_color\", \"line_alpha\", \"color\", \"fill_alpha\", \"height\", \"width\", \"y\", \"x\"], \"data\": {\"line_color\": [\"white\"], \"line_alpha\": [1.0], \"chart_index\": [{\"term\": \"bicycle\"}], \"color\": [\"#f22c40\"], \"fill_alpha\": [0.8], \"term\": [\"bicycle\"], \"height\": [3544.0], \"width\": [0.8], \"y\": [1772.0], \"x\": [\"bicycle\"]}}, \"type\": \"ColumnDataSource\", \"id\": \"59bcdf31-d31d-4a56-9f46-d1367e6c85a0\"}, {\"attributes\": {}, \"type\": \"BasicTicker\", \"id\": \"05623022-54f7-4960-9976-c611ab42415e\"}, {\"attributes\": {\"callback\": null, \"column_names\": [\"line_color\", \"line_alpha\", \"color\", \"fill_alpha\", \"height\", \"width\", \"y\", \"x\"], \"data\": {\"line_color\": [\"white\"], \"line_alpha\": [1.0], \"chart_index\": [{\"term\": \"red\"}], \"color\": [\"#f22c40\"], \"fill_alpha\": [0.8], \"term\": [\"red\"], \"height\": [472.0], \"width\": [0.8], \"y\": [236.0], \"x\": [\"red\"]}}, \"type\": \"ColumnDataSource\", \"id\": \"82aef73b-54f4-4c0b-9eaf-9e39cdbe5150\"}, {\"attributes\": {\"line_color\": {\"field\": \"line_color\"}, \"fill_color\": {\"field\": \"color\"}, \"fill_alpha\": {\"field\": \"fill_alpha\"}, \"height\": {\"units\": \"data\", \"field\": \"height\"}, \"width\": {\"units\": \"data\", \"field\": \"width\"}, \"y\": {\"field\": \"y\"}, \"x\": {\"field\": \"x\"}}, \"type\": \"Rect\", \"id\": \"2262b4fa-c504-4eb7-b6be-426b559108ba\"}, {\"attributes\": {\"line_color\": {\"field\": \"line_color\"}, \"fill_color\": {\"field\": \"color\"}, \"fill_alpha\": {\"field\": \"fill_alpha\"}, \"height\": {\"units\": \"data\", \"field\": \"height\"}, \"width\": {\"units\": \"data\", \"field\": \"width\"}, \"y\": {\"field\": \"y\"}, \"x\": {\"field\": \"x\"}}, \"type\": \"Rect\", \"id\": \"55a44b35-7996-45a2-9736-2449c6741a35\"}, {\"attributes\": {\"callback\": null, \"column_names\": [\"line_color\", \"line_alpha\", \"color\", \"fill_alpha\", \"height\", \"width\", \"y\", \"x\"], \"data\": {\"line_color\": [\"white\"], \"line_alpha\": [1.0], \"chart_index\": [{\"term\": \"speed\"}], \"color\": [\"#f22c40\"], \"fill_alpha\": [0.8], \"term\": [\"speed\"], \"height\": [753.0], \"width\": [0.8], \"y\": [376.5], \"x\": [\"speed\"]}}, \"type\": \"ColumnDataSource\", \"id\": \"3646655f-4032-4690-9e3b-f23f6f2061c1\"}, {\"attributes\": {\"plot\": {\"subtype\": \"Chart\", \"type\": \"Plot\", \"id\": \"7151331e-0e5b-4f09-b51d-b941b2b77c94\"}}, \"type\": \"ResetTool\", \"id\": \"6197a679-5878-4f98-93c9-545c1288c25e\"}, {\"attributes\": {}, \"type\": \"CategoricalTickFormatter\", \"id\": \"c89bbe82-2e14-47d6-8c40-47d147a6247e\"}, {\"attributes\": {\"callback\": null, \"column_names\": [\"line_color\", \"line_alpha\", \"color\", \"fill_alpha\", \"height\", \"width\", \"y\", \"x\"], \"data\": {\"line_color\": [\"white\"], \"line_alpha\": [1.0], \"chart_index\": [{\"term\": \"rear\"}], \"color\": [\"#f22c40\"], \"fill_alpha\": [0.8], \"term\": [\"rear\"], \"height\": [702.0], \"width\": [0.8], \"y\": [351.0], \"x\": [\"rear\"]}}, \"type\": \"ColumnDataSource\", \"id\": \"002a2201-32ce-4b77-b60a-c3fb64fefe41\"}, {\"attributes\": {\"line_color\": {\"field\": \"line_color\"}, \"fill_color\": {\"field\": \"color\"}, \"fill_alpha\": {\"field\": \"fill_alpha\"}, \"height\": {\"units\": \"data\", \"field\": \"height\"}, \"width\": {\"units\": \"data\", \"field\": \"width\"}, \"y\": {\"field\": \"y\"}, \"x\": {\"field\": \"x\"}}, \"type\": \"Rect\", \"id\": \"abe82f75-e11d-4b2d-9097-1d66871934ef\"}, {\"attributes\": {\"callback\": null, \"column_names\": [\"line_color\", \"line_alpha\", \"color\", \"fill_alpha\", \"height\", \"width\", \"y\", \"x\"], \"data\": {\"line_color\": [\"white\"], \"line_alpha\": [1.0], \"chart_index\": [{\"term\": \"vintage\"}], \"color\": [\"#f22c40\"], \"fill_alpha\": [0.8], \"term\": [\"vintage\"], \"height\": [369.0], \"width\": [0.8], \"y\": [184.5], \"x\": [\"vintage\"]}}, \"type\": \"ColumnDataSource\", \"id\": \"37e9917f-63bc-49eb-8829-bb3f43c0de32\"}, {\"attributes\": {\"line_color\": {\"field\": \"line_color\"}, \"fill_color\": {\"field\": \"color\"}, \"fill_alpha\": {\"field\": \"fill_alpha\"}, \"height\": {\"units\": \"data\", \"field\": \"height\"}, \"width\": {\"units\": \"data\", \"field\": \"width\"}, \"y\": {\"field\": \"y\"}, \"x\": {\"field\": \"x\"}}, \"type\": \"Rect\", \"id\": \"1d87000f-f4b5-43a9-8242-582d7b44c873\"}, {\"attributes\": {\"nonselection_glyph\": null, \"data_source\": {\"type\": \"ColumnDataSource\", \"id\": \"e34373a0-eb99-442a-9cd7-2876eec6b40e\"}, \"selection_glyph\": null, \"hover_glyph\": null, \"glyph\": {\"type\": \"Rect\", \"id\": \"049a9018-0dc8-4488-afc0-854a72f51a35\"}}, \"type\": \"GlyphRenderer\", \"id\": \"aba12111-6bc1-4cff-98d8-4776b8cbac34\"}, {\"attributes\": {\"callback\": null, \"column_names\": [\"line_color\", \"line_alpha\", \"color\", \"fill_alpha\", \"height\", \"width\", \"y\", \"x\"], \"data\": {\"line_color\": [\"white\"], \"line_alpha\": [1.0], \"chart_index\": [{\"term\": \"water\"}], \"color\": [\"#f22c40\"], \"fill_alpha\": [0.8], \"term\": [\"water\"], \"height\": [404.0], \"width\": [0.8], \"y\": [202.0], \"x\": [\"water\"]}}, \"type\": \"ColumnDataSource\", \"id\": \"b28b96b5-2568-4051-8f1d-110ec8859449\"}, {\"attributes\": {\"callback\": null, \"column_names\": [\"line_color\", \"line_alpha\", \"color\", \"fill_alpha\", \"height\", \"width\", \"y\", \"x\"], \"data\": {\"line_color\": [\"white\"], \"line_alpha\": [1.0], \"chart_index\": [{\"term\": \"water\"}], \"color\": [\"#f22c40\"], \"fill_alpha\": [0.8], \"term\": [\"water\"], \"height\": [3.2308751553378565], \"width\": [0.8], \"y\": [1.6154375776689283], \"x\": [\"water\"]}}, \"type\": \"ColumnDataSource\", \"id\": \"dc0e1c0d-bea7-4e43-84bd-cbeaf96a740b\"}, {\"attributes\": {}, \"type\": \"BasicTickFormatter\", \"id\": \"b3326702-61e1-4d1b-8796-a10fcc7834a6\"}, {\"attributes\": {\"nonselection_glyph\": null, \"data_source\": {\"type\": \"ColumnDataSource\", \"id\": \"3dc66481-5488-4bfd-a525-f321c460be8d\"}, \"selection_glyph\": null, \"hover_glyph\": null, \"glyph\": {\"type\": \"Rect\", \"id\": \"1ba4feb3-cc58-4c4e-b652-b4559ca1d6b0\"}}, \"type\": \"GlyphRenderer\", \"id\": \"5d62c688-4d11-491c-b885-5c44346135c4\"}, {\"attributes\": {\"plot\": {\"subtype\": \"Chart\", \"type\": \"Plot\", \"id\": \"47bc8d2d-d405-48ff-b513-972d28b02732\"}, \"ticker\": {\"type\": \"BasicTicker\", \"id\": \"1cb247a4-efb2-479e-85e5-39a312ac1536\"}, \"dimension\": 1}, \"type\": \"Grid\", \"id\": \"23086db0-0b90-492e-90eb-b80337d21bdd\"}, {\"attributes\": {\"line_color\": {\"field\": \"line_color\"}, \"fill_color\": {\"field\": \"color\"}, \"fill_alpha\": {\"field\": \"fill_alpha\"}, \"height\": {\"units\": \"data\", \"field\": \"height\"}, \"width\": {\"units\": \"data\", \"field\": \"width\"}, \"y\": {\"field\": \"y\"}, \"x\": {\"field\": \"x\"}}, \"type\": \"Rect\", \"id\": \"dbcdd2b1-43b8-4f38-8c03-85f2d7b284f3\"}, {\"attributes\": {\"line_color\": {\"field\": \"line_color\"}, \"fill_color\": {\"field\": \"color\"}, \"fill_alpha\": {\"field\": \"fill_alpha\"}, \"height\": {\"units\": \"data\", \"field\": \"height\"}, \"width\": {\"units\": \"data\", \"field\": \"width\"}, \"y\": {\"field\": \"y\"}, \"x\": {\"field\": \"x\"}}, \"type\": \"Rect\", \"id\": \"46b986c1-a355-4d7a-9d29-243dbf6bf584\"}, {\"attributes\": {\"callback\": null, \"column_names\": [\"line_color\", \"line_alpha\", \"color\", \"fill_alpha\", \"height\", \"width\", \"y\", \"x\"], \"data\": {\"line_color\": [\"white\"], \"line_alpha\": [1.0], \"chart_index\": [{\"term\": \"x\"}], \"color\": [\"#f22c40\"], \"fill_alpha\": [0.8], \"term\": [\"x\"], \"height\": [739.0], \"width\": [0.8], \"y\": [369.5], \"x\": [\"x\"]}}, \"type\": \"ColumnDataSource\", \"id\": \"34c3bf9e-54ce-4721-8680-e494f26b7c7b\"}, {\"attributes\": {\"plot\": {\"subtype\": \"Chart\", \"type\": \"Plot\", \"id\": \"5527bbff-a6a9-4d2b-811c-9e446fe3f2a6\"}, \"overlay\": {\"type\": \"BoxAnnotation\", \"id\": \"9f518842-fe06-427b-885a-206373eeb5e8\"}}, \"type\": \"BoxZoomTool\", \"id\": \"724d9246-c31d-4c05-9469-80d890c89049\"}, {\"attributes\": {\"nonselection_glyph\": null, \"data_source\": {\"type\": \"ColumnDataSource\", \"id\": \"b28b96b5-2568-4051-8f1d-110ec8859449\"}, \"selection_glyph\": null, \"hover_glyph\": null, \"glyph\": {\"type\": \"Rect\", \"id\": \"04a8b305-bab0-496d-bd3d-af3ef749a63b\"}}, \"type\": \"GlyphRenderer\", \"id\": \"13b13559-b2bf-48fa-9d9c-0996181325b6\"}, {\"attributes\": {\"line_color\": {\"field\": \"line_color\"}, \"fill_color\": {\"field\": \"color\"}, \"fill_alpha\": {\"field\": \"fill_alpha\"}, \"height\": {\"units\": \"data\", \"field\": \"height\"}, \"width\": {\"units\": \"data\", \"field\": \"width\"}, \"y\": {\"field\": \"y\"}, \"x\": {\"field\": \"x\"}}, \"type\": \"Rect\", \"id\": \"81427917-9849-4307-a54e-c6e8887e9718\"}, {\"attributes\": {\"line_color\": {\"field\": \"line_color\"}, \"fill_color\": {\"field\": \"color\"}, \"fill_alpha\": {\"field\": \"fill_alpha\"}, \"height\": {\"units\": \"data\", \"field\": \"height\"}, \"width\": {\"units\": \"data\", \"field\": \"width\"}, \"y\": {\"field\": \"y\"}, \"x\": {\"field\": \"x\"}}, \"type\": \"Rect\", \"id\": \"9639d5ee-df15-46a3-904f-0f9c116da7ce\"}, {\"attributes\": {\"callback\": null}, \"type\": \"DataRange1d\", \"id\": \"96a4a2a1-3432-4287-b910-47fa9ff83c65\"}, {\"attributes\": {\"callback\": null, \"column_names\": [\"line_color\", \"line_alpha\", \"color\", \"fill_alpha\", \"height\", \"width\", \"y\", \"x\"], \"data\": {\"line_color\": [\"white\"], \"line_alpha\": [1.0], \"chart_index\": [{\"term\": \"set\"}], \"color\": [\"#f22c40\"], \"fill_alpha\": [0.8], \"term\": [\"set\"], \"height\": [2.9400012512582996], \"width\": [0.8], \"y\": [1.4700006256291498], \"x\": [\"set\"]}}, \"type\": \"ColumnDataSource\", \"id\": \"9c82e7c5-0ede-4ae9-9ed7-78aa9f607148\"}, {\"attributes\": {\"plot\": {\"subtype\": \"Chart\", \"type\": \"Plot\", \"id\": \"5527bbff-a6a9-4d2b-811c-9e446fe3f2a6\"}}, \"type\": \"ResizeTool\", \"id\": \"40f48226-5ce5-459f-9206-6219a7b223d1\"}, {\"attributes\": {\"nonselection_glyph\": null, \"data_source\": {\"type\": \"ColumnDataSource\", \"id\": \"9b629c20-3343-41c0-9fdf-70f950d82680\"}, \"selection_glyph\": null, \"hover_glyph\": null, \"glyph\": {\"type\": \"Rect\", \"id\": \"6ca1d613-69fd-4edf-9e0c-33eb388b9700\"}}, \"type\": \"GlyphRenderer\", \"id\": \"01f3309d-4540-443a-ba69-f7bc307d2bc3\"}, {\"attributes\": {\"line_color\": {\"field\": \"line_color\"}, \"fill_color\": {\"field\": \"color\"}, \"fill_alpha\": {\"field\": \"fill_alpha\"}, \"height\": {\"units\": \"data\", \"field\": \"height\"}, \"width\": {\"units\": \"data\", \"field\": \"width\"}, \"y\": {\"field\": \"y\"}, \"x\": {\"field\": \"x\"}}, \"type\": \"Rect\", \"id\": \"3db8aa6e-b6fa-47de-a4fd-52c9a8a6e1d7\"}, {\"attributes\": {}, \"type\": \"CategoricalTickFormatter\", \"id\": \"e1447ede-2683-451b-8281-bb455d6bed72\"}, {\"attributes\": {\"line_color\": {\"field\": \"line_color\"}, \"fill_color\": {\"field\": \"color\"}, \"fill_alpha\": {\"field\": \"fill_alpha\"}, \"height\": {\"units\": \"data\", \"field\": \"height\"}, \"width\": {\"units\": \"data\", \"field\": \"width\"}, \"y\": {\"field\": \"y\"}, \"x\": {\"field\": \"x\"}}, \"type\": \"Rect\", \"id\": \"b484b590-e496-4cbc-9b0e-caf578d0877e\"}, {\"attributes\": {\"nonselection_glyph\": null, \"data_source\": {\"type\": \"ColumnDataSource\", \"id\": \"82aef73b-54f4-4c0b-9eaf-9e39cdbe5150\"}, \"selection_glyph\": null, \"hover_glyph\": null, \"glyph\": {\"type\": \"Rect\", \"id\": \"f9b3c448-6564-4ae4-9d77-8d616b2f5015\"}}, \"type\": \"GlyphRenderer\", \"id\": \"ea070f71-fcc8-4ccd-a07c-fc276d3b9117\"}, {\"attributes\": {\"callback\": null, \"end\": 4760.7}, \"type\": \"Range1d\", \"id\": \"18574f42-2317-4a36-93a9-3838f6630840\"}, {\"attributes\": {\"line_color\": {\"field\": \"line_color\"}, \"fill_color\": {\"field\": \"color\"}, \"fill_alpha\": {\"field\": \"fill_alpha\"}, \"height\": {\"units\": \"data\", \"field\": \"height\"}, \"width\": {\"units\": \"data\", \"field\": \"width\"}, \"y\": {\"field\": \"y\"}, \"x\": {\"field\": \"x\"}}, \"type\": \"Rect\", \"id\": \"5c0ce026-1fc3-43d4-994e-7a0247aca5db\"}, {\"attributes\": {\"callback\": null, \"column_names\": [\"line_color\", \"line_alpha\", \"color\", \"fill_alpha\", \"height\", \"width\", \"y\", \"x\"], \"data\": {\"line_color\": [\"white\"], \"line_alpha\": [1.0], \"chart_index\": [{\"term\": \"mountain\"}], \"color\": [\"#f22c40\"], \"fill_alpha\": [0.8], \"term\": [\"mountain\"], \"height\": [2.4673720088560165], \"width\": [0.8], \"y\": [1.2336860044280082], \"x\": [\"mountain\"]}}, \"type\": \"ColumnDataSource\", \"id\": \"4753ff53-0efe-488c-b954-f10c14971a28\"}, {\"attributes\": {\"callback\": null, \"column_names\": [\"line_color\", \"line_alpha\", \"color\", \"fill_alpha\", \"height\", \"width\", \"y\", \"x\"], \"data\": {\"line_color\": [\"white\"], \"line_alpha\": [1.0], \"chart_index\": [{\"term\": \"rear\"}], \"color\": [\"#f22c40\"], \"fill_alpha\": [0.8], \"term\": [\"rear\"], \"height\": [2.6442258235125577], \"width\": [0.8], \"y\": [1.3221129117562789], \"x\": [\"rear\"]}}, \"type\": \"ColumnDataSource\", \"id\": \"a70d7efa-6b94-4a96-84d0-31ccdff0c0e2\"}, {\"attributes\": {\"plot\": {\"subtype\": \"Figure\", \"type\": \"Plot\", \"id\": \"f68da6b1-69d3-40ba-b453-7029bfcffb96\"}, \"ticker\": {\"type\": \"BasicTicker\", \"id\": \"0c9ec88b-03c1-4e4d-9b75-0c6fa9740dde\"}, \"dimension\": 1}, \"type\": \"Grid\", \"id\": \"e4b18204-c54b-4b75-9a30-4b1753b4b61b\"}, {\"attributes\": {\"callback\": null, \"column_names\": [\"line_color\", \"line_alpha\", \"color\", \"fill_alpha\", \"height\", \"width\", \"y\", \"x\"], \"data\": {\"line_color\": [\"white\"], \"line_alpha\": [1.0], \"chart_index\": [{\"term\": \"bottle\"}], \"color\": [\"#f22c40\"], \"fill_alpha\": [0.8], \"term\": [\"bottle\"], \"height\": [407.0], \"width\": [0.8], \"y\": [203.5], \"x\": [\"bottle\"]}}, \"type\": \"ColumnDataSource\", \"id\": \"c44a2544-a9b1-4d2d-9100-2b978121d6b6\"}, {\"attributes\": {\"nonselection_glyph\": null, \"data_source\": {\"type\": \"ColumnDataSource\", \"id\": \"2d9e7836-4a0e-4a1b-aaa2-de7992cd641c\"}, \"selection_glyph\": null, \"hover_glyph\": null, \"glyph\": {\"type\": \"Rect\", \"id\": \"23fba1af-d196-4d54-8ca0-68f1184d8a83\"}}, \"type\": \"GlyphRenderer\", \"id\": \"716d6afd-bdf5-4237-8995-c0241a79958e\"}, {\"attributes\": {\"line_color\": {\"value\": \"black\"}, \"line_alpha\": {\"value\": 1.0}, \"render_mode\": \"css\", \"bottom_units\": \"screen\", \"level\": \"overlay\", \"top_units\": \"screen\", \"fill_alpha\": {\"value\": 0.5}, \"plot\": null, \"left_units\": \"screen\", \"line_dash\": [4, 4], \"line_width\": {\"value\": 2}, \"right_units\": \"screen\", \"fill_color\": {\"value\": \"lightgrey\"}}, \"type\": \"BoxAnnotation\", \"id\": \"f4951538-8b70-45db-8054-10d0818dbec6\"}, {\"attributes\": {\"line_color\": {\"field\": \"line_color\"}, \"fill_color\": {\"field\": \"color\"}, \"fill_alpha\": {\"field\": \"fill_alpha\"}, \"height\": {\"units\": \"data\", \"field\": \"height\"}, \"width\": {\"units\": \"data\", \"field\": \"width\"}, \"y\": {\"field\": \"y\"}, \"x\": {\"field\": \"x\"}}, \"type\": \"Rect\", \"id\": \"2111bb77-4b00-414e-a13d-93396b236fec\"}, {\"attributes\": {\"line_color\": {\"value\": \"#1f77b4\"}, \"x\": {\"field\": \"x\"}, \"y\": {\"field\": \"y\"}, \"fill_color\": {\"value\": \"white\"}, \"size\": {\"units\": \"screen\", \"value\": 8}}, \"type\": \"Circle\", \"id\": \"bf265943-1a17-485e-aa6e-d14b19cb9bca\"}, {\"attributes\": {\"callback\": null, \"column_names\": [\"y\", \"x\"], \"data\": {\"y\": [0.9821128714317003, 0.9883890210559955, 0.9912191990698407, 0.9926077154550996, 0.9934271147723699, 0.9942291412146989, 0.9947342910720529, 0.9951831935547358, 0.9955050581978345], \"x\": [100, 200, 300, 400, 500, 600, 700, 800, 900]}}, \"type\": \"ColumnDataSource\", \"id\": \"96c8519e-ff60-4336-9740-91969b0132d4\"}, {\"attributes\": {\"callback\": null, \"column_names\": [\"line_color\", \"line_alpha\", \"color\", \"fill_alpha\", \"height\", \"width\", \"y\", \"x\"], \"data\": {\"line_color\": [\"white\"], \"line_alpha\": [1.0], \"chart_index\": [{\"term\": \"mtb\"}], \"color\": [\"#f22c40\"], \"fill_alpha\": [0.8], \"term\": [\"mtb\"], \"height\": [940.0], \"width\": [0.8], \"y\": [470.0], \"x\": [\"mtb\"]}}, \"type\": \"ColumnDataSource\", \"id\": \"774674db-8e1a-4ad6-968e-9f6572838de4\"}, {\"attributes\": {\"nonselection_glyph\": null, \"data_source\": {\"type\": \"ColumnDataSource\", \"id\": \"dc188118-6ac9-48bb-9adc-013d5a88747a\"}, \"selection_glyph\": null, \"hover_glyph\": null, \"glyph\": {\"type\": \"Rect\", \"id\": \"ec331ee9-d2fa-4be5-9136-a5870018325d\"}}, \"type\": \"GlyphRenderer\", \"id\": \"37a9eba7-8c7e-4a1f-9e66-aa20f9531917\"}, {\"attributes\": {\"nonselection_glyph\": null, \"data_source\": {\"type\": \"ColumnDataSource\", \"id\": \"58d70e2b-b1fe-4137-bdd0-5769648b4fdc\"}, \"selection_glyph\": null, \"hover_glyph\": null, \"glyph\": {\"type\": \"Rect\", \"id\": \"ac490cac-0085-4a73-a618-1a1193713ac5\"}}, \"type\": \"GlyphRenderer\", \"id\": \"a54df7ca-4bd7-497c-9d7d-0affcb4afc12\"}, {\"attributes\": {\"line_color\": {\"field\": \"line_color\"}, \"fill_color\": {\"field\": \"color\"}, \"fill_alpha\": {\"field\": \"fill_alpha\"}, \"height\": {\"units\": \"data\", \"field\": \"height\"}, \"width\": {\"units\": \"data\", \"field\": \"width\"}, \"y\": {\"field\": \"y\"}, \"x\": {\"field\": \"x\"}}, \"type\": \"Rect\", \"id\": \"ef3213e1-e268-4b44-ba18-e57b220a9a9f\"}, {\"attributes\": {\"nonselection_glyph\": null, \"data_source\": {\"type\": \"ColumnDataSource\", \"id\": \"002a2201-32ce-4b77-b60a-c3fb64fefe41\"}, \"selection_glyph\": null, \"hover_glyph\": null, \"glyph\": {\"type\": \"Rect\", \"id\": \"9152477c-140f-40dc-8b07-48d5e13aa7f3\"}}, \"type\": \"GlyphRenderer\", \"id\": \"b7f783f3-4ccb-47d9-9493-2d0c7cfa31b5\"}, {\"attributes\": {\"callback\": null, \"column_names\": [\"line_color\", \"line_alpha\", \"color\", \"fill_alpha\", \"height\", \"width\", \"y\", \"x\"], \"data\": {\"line_color\": [\"white\"], \"line_alpha\": [1.0], \"chart_index\": [{\"term\": \"new\"}], \"color\": [\"#f22c40\"], \"fill_alpha\": [0.8], \"term\": [\"new\"], \"height\": [1.5258945860554927], \"width\": [0.8], \"y\": [0.7629472930277463], \"x\": [\"new\"]}}, \"type\": \"ColumnDataSource\", \"id\": \"93aae1b3-ddf7-499f-be54-667950d45746\"}]}, \"title\": \"Bokeh Application\"}};\n",
       "            var render_items = [{\"notebook_comms_target\": \"2fb7d530-c255-4824-b731-799768e19bc6\", \"docid\": \"fef29464-d2c1-447d-808c-a0f971542124\", \"elementid\": \"e7353751-9dee-4dde-aa45-51235ed0d2d2\", \"modelid\": \"2c25e2f5-0bee-4ff6-a31a-2622e2026918\"}];\n",
       "            \n",
       "            Bokeh.embed.embed_items(docs_json, render_items);\n",
       "        });\n",
       "      },\n",
       "      function(Bokeh) {\n",
       "      }\n",
       "    ];\n",
       "  \n",
       "    function run_inline_js() {\n",
       "      for (var i = 0; i < inline_js.length; i++) {\n",
       "        inline_js[i](window.Bokeh);\n",
       "      }\n",
       "    }\n",
       "  \n",
       "    if (window._bokeh_is_loading === 0) {\n",
       "      console.log(\"Bokeh: BokehJS loaded, going straight to plotting\");\n",
       "      run_inline_js();\n",
       "    } else {\n",
       "      load_libs(js_urls, function() {\n",
       "        console.log(\"Bokeh: BokehJS plotting callback run at\", now());\n",
       "        run_inline_js();\n",
       "      });\n",
       "    }\n",
       "  }(this));\n",
       "</script>"
      ]
     },
     "metadata": {},
     "output_type": "display_data"
    },
    {
     "data": {
      "text/plain": [
       "<bokeh.io._CommsHandle at 0x7fad84381250>"
      ]
     },
     "execution_count": 17,
     "metadata": {},
     "output_type": "execute_result"
    }
   ],
   "source": [
    "def create_inverted_index(corpus):\n",
    "    idx={}\n",
    "    for i, doc in enumerate(corpus):\n",
    "        for word in doc.split():\n",
    "            if word in idx:\n",
    "                if i in idx[word]:\n",
    "                    # Update document's frequency\n",
    "                    idx[word][i] += 1\n",
    "                else:\n",
    "                    # Add document\n",
    "                    idx[word][i] = 1\n",
    "            else:\n",
    "                # Add term\n",
    "                idx[word] = {i:1}\n",
    "    return idx\n",
    "\n",
    "def idf(term, idx, n):\n",
    "    return math.log( float(n) / (1 + len(idx[term])))\n",
    "\n",
    "idx = create_inverted_index(items_t)\n",
    "\n",
    "\n",
    "df = pd.DataFrame({'term':[x for x in idx.keys()],'freq':[len(x) for x in idx.values()],\n",
    "                  'idf':[idf(x, idx, len(items_t)) for x in idx.keys()]})\n",
    "\n",
    "output_notebook(hide_banner=True)\n",
    "p1 = Bar(df.sort_values('freq', ascending=False)[:30], label=CatAttr(columns=['term'], sort=False), values='freq',\n",
    "        plot_width=800, plot_height=400)\n",
    "\n",
    "p2 = Bar(df.sort_values('freq', ascending=False)[:30], label=CatAttr(columns=['term'], sort=False), values='idf',\n",
    "        plot_width=800, plot_height=400)\n",
    "\n",
    "p = vplot(p1, p2)\n",
    "\n",
    "show(p)"
   ]
  },
  {
   "cell_type": "markdown",
   "metadata": {},
   "source": [
    "## Ranking by TF-IDF\n",
    "\n",
    "We can now combine term frequency and inverse document frequency when computing the score for each item in the recall set.  Until now we have just computed the score as the raw frequency of the query terms in each document.  Now we want to weight the raw frequency by the inverse documetn frequency."
   ]
  },
  {
   "cell_type": "code",
   "execution_count": 18,
   "metadata": {
    "collapsed": true
   },
   "outputs": [],
   "source": [
    "def get_results3(qry, idx, n):\n",
    "    score = Counter()\n",
    "    for term in qry.split():\n",
    "        if term in idf:\n",
    "            i = idf(term, idx, n)\n",
    "            for doc in idx[term]:\n",
    "                score[doc] += idx[term][doc] * i\n",
    "        \n",
    "    results=[]\n",
    "    for x in [[r[0],r[1]] for r in zip(score.keys(), score.values())]:\n",
    "        if x[1] > 0:\n",
    "            # output [0] score, [1] doc_id\n",
    "            results.append([x[1],x[0]])\n",
    "\n",
    "    return results;"
   ]
  },
  {
   "cell_type": "code",
   "execution_count": 19,
   "metadata": {
    "collapsed": false
   },
   "outputs": [
    {
     "ename": "TypeError",
     "evalue": "argument of type 'function' is not iterable",
     "output_type": "error",
     "traceback": [
      "\u001b[1;31m---------------------------------------------------------------------------\u001b[0m",
      "\u001b[1;31mTypeError\u001b[0m                                 Traceback (most recent call last)",
      "\u001b[1;32m<ipython-input-19-6828a926fead>\u001b[0m in \u001b[0;36m<module>\u001b[1;34m()\u001b[0m\n\u001b[0;32m      1\u001b[0m \u001b[0midx\u001b[0m \u001b[1;33m=\u001b[0m \u001b[0mcreate_inverted_index\u001b[0m\u001b[1;33m(\u001b[0m\u001b[0mitems_t\u001b[0m\u001b[1;33m)\u001b[0m\u001b[1;33m\u001b[0m\u001b[0m\n\u001b[1;32m----> 2\u001b[1;33m \u001b[0mresults\u001b[0m \u001b[1;33m=\u001b[0m \u001b[0mget_results3\u001b[0m\u001b[1;33m(\u001b[0m\u001b[1;34m'front led bike light'\u001b[0m\u001b[1;33m,\u001b[0m \u001b[0midx\u001b[0m\u001b[1;33m,\u001b[0m \u001b[0mlen\u001b[0m\u001b[1;33m(\u001b[0m\u001b[0mitems_t\u001b[0m\u001b[1;33m)\u001b[0m\u001b[1;33m)\u001b[0m\u001b[1;33m\u001b[0m\u001b[0m\n\u001b[0m\u001b[0;32m      3\u001b[0m \u001b[1;33m\u001b[0m\u001b[0m\n\u001b[0;32m      4\u001b[0m \u001b[0mprint_results\u001b[0m\u001b[1;33m(\u001b[0m\u001b[0mresults\u001b[0m\u001b[1;33m,\u001b[0m\u001b[1;36m10\u001b[0m\u001b[1;33m)\u001b[0m\u001b[1;33m\u001b[0m\u001b[0m\n",
      "\u001b[1;32m<ipython-input-18-33fa87ee36cd>\u001b[0m in \u001b[0;36mget_results3\u001b[1;34m(qry, idx, n)\u001b[0m\n\u001b[0;32m      2\u001b[0m     \u001b[0mscore\u001b[0m \u001b[1;33m=\u001b[0m \u001b[0mCounter\u001b[0m\u001b[1;33m(\u001b[0m\u001b[1;33m)\u001b[0m\u001b[1;33m\u001b[0m\u001b[0m\n\u001b[0;32m      3\u001b[0m     \u001b[1;32mfor\u001b[0m \u001b[0mterm\u001b[0m \u001b[1;32min\u001b[0m \u001b[0mqry\u001b[0m\u001b[1;33m.\u001b[0m\u001b[0msplit\u001b[0m\u001b[1;33m(\u001b[0m\u001b[1;33m)\u001b[0m\u001b[1;33m:\u001b[0m\u001b[1;33m\u001b[0m\u001b[0m\n\u001b[1;32m----> 4\u001b[1;33m         \u001b[1;32mif\u001b[0m \u001b[0mterm\u001b[0m \u001b[1;32min\u001b[0m \u001b[0midf\u001b[0m\u001b[1;33m:\u001b[0m\u001b[1;33m\u001b[0m\u001b[0m\n\u001b[0m\u001b[0;32m      5\u001b[0m             \u001b[0mi\u001b[0m \u001b[1;33m=\u001b[0m \u001b[0midf\u001b[0m\u001b[1;33m(\u001b[0m\u001b[0mterm\u001b[0m\u001b[1;33m,\u001b[0m \u001b[0midx\u001b[0m\u001b[1;33m,\u001b[0m \u001b[0mn\u001b[0m\u001b[1;33m)\u001b[0m\u001b[1;33m\u001b[0m\u001b[0m\n\u001b[0;32m      6\u001b[0m             \u001b[1;32mfor\u001b[0m \u001b[0mdoc\u001b[0m \u001b[1;32min\u001b[0m \u001b[0midx\u001b[0m\u001b[1;33m[\u001b[0m\u001b[0mterm\u001b[0m\u001b[1;33m]\u001b[0m\u001b[1;33m:\u001b[0m\u001b[1;33m\u001b[0m\u001b[0m\n",
      "\u001b[1;31mTypeError\u001b[0m: argument of type 'function' is not iterable"
     ]
    }
   ],
   "source": [
    "idx = create_inverted_index(items_t)\n",
    "results = get_results3('front led bike light', idx, len(items_t))\n",
    "\n",
    "print_results(results,10)"
   ]
  },
  {
   "cell_type": "markdown",
   "metadata": {},
   "source": [
    "## Problematic queries!\n",
    "\n",
    "With this corpus we cannot search for mountain bikes without returning a heap of accesories:"
   ]
  },
  {
   "cell_type": "code",
   "execution_count": null,
   "metadata": {
    "collapsed": false
   },
   "outputs": [],
   "source": [
    "idx = create_inverted_index(items_t)\n",
    "results = get_results3('mountain bike', idx, len(items_t))\n",
    "\n",
    "print_results(results,10)"
   ]
  },
  {
   "cell_type": "markdown",
   "metadata": {},
   "source": [
    "We need to penalise items where there are many more terms in the query.  For example the terms \"mountain\" and \"bike\" only make up 2 / 12 terms in the \"oakley mens automatic mountain mtb factory lite mountain bmx bike gloves large\" yet it scores highly because there is no penalty for all the other terms in the item title.\n",
    "\n",
    "In addition this scheme create discrete levels based on combination of word frequency:\n"
   ]
  },
  {
   "cell_type": "code",
   "execution_count": null,
   "metadata": {
    "collapsed": false
   },
   "outputs": [],
   "source": [
    "df = pd.DataFrame({'score':[float(x[0]) for x in results],\n",
    "                   'title':[items_t[x[1]] for x in results]})\n",
    "\n",
    "d = df.groupby('score').first().reset_index()\n",
    "\n",
    "r1 = re.compile('(bike)')\n",
    "r2 = re.compile('(mountain)')\n",
    "\n",
    "for i, t in enumerate(d.title):\n",
    "    n1 = r1.findall(t)\n",
    "    n2 = r2.findall(t)\n",
    "    print('%d x Bike, %d x Mountain, Score = %0.2f'%(len(n1),len(n2),d.score[i]))\n",
    "    "
   ]
  },
  {
   "cell_type": "code",
   "execution_count": null,
   "metadata": {
    "collapsed": false
   },
   "outputs": [],
   "source": [
    "# Plot score vs item length\n",
    "df = pd.DataFrame({'score':[float(x[0]) for x in results],\n",
    "                   'length':[len(items_t[x[1]].split()) for x in results]})\n",
    "\n",
    "output_notebook(hide_banner=True)\n",
    "p = Scatter(df, x='score', y='length')\n",
    "show(p)"
   ]
  },
  {
   "cell_type": "markdown",
   "metadata": {},
   "source": [
    "Ideally we do not want scores to be the same for lots of documents.  We could try by boosting the score for documents that are shorter than average."
   ]
  },
  {
   "cell_type": "code",
   "execution_count": null,
   "metadata": {
    "collapsed": true
   },
   "outputs": [],
   "source": [
    "def get_results4(qry, corpus):\n",
    "    idx = create_inverted_index(corpus)\n",
    "    n = len(corpus)\n",
    "    d = [len(x.split()) for x in corpus]\n",
    "    d_avg = float(sum(d)) / len(d)\n",
    "    score = Counter()\n",
    "    for term in qry.split():\n",
    "        if term in idf:\n",
    "            i = idf(term, idx, n)\n",
    "            for doc in idx[term]:\n",
    "                f = float(idx[term][doc])\n",
    "                score[doc] += i *  ( f / (float(d[doc]) / d_avg) )\n",
    "        \n",
    "    results=[]\n",
    "    for x in [[r[0],r[1]] for r in zip(score.keys(), score.values())]:\n",
    "        if x[1] > 0:\n",
    "            # output [0] score, [1] doc_id\n",
    "            results.append([x[1],x[0]])\n",
    "\n",
    "    return results;"
   ]
  },
  {
   "cell_type": "code",
   "execution_count": null,
   "metadata": {
    "collapsed": false
   },
   "outputs": [],
   "source": [
    "results = get_results4('mountain bike', items_t)\n",
    "print_results(results, 10)\n",
    "\n",
    "# Plot score vs item length\n",
    "df = pd.DataFrame({'score':[float(x[0]) for x in results],\n",
    "                   'length':[len(items_t[x[1]].split()) for x in results]})\n",
    "\n",
    "output_notebook()\n",
    "p = Scatter(df, x='score', y='length')\n",
    "show(p)"
   ]
  },
  {
   "cell_type": "markdown",
   "metadata": {},
   "source": [
    "## Okapi BM25"
   ]
  },
  {
   "cell_type": "code",
   "execution_count": null,
   "metadata": {
    "collapsed": true
   },
   "outputs": [],
   "source": [
    "def get_results5(qry, corpus, k1=1.5, b=0.75):\n",
    "    idx = create_inverted_index(corpus)\n",
    "    n = len(corpus)\n",
    "    d = [len(x.split()) for x in corpus]\n",
    "    d_avg = float(sum(d)) / len(d)                \n",
    "    score = Counter()\n",
    "    for term in qry.split():\n",
    "        if term in idf:\n",
    "            i = idf(term, idx, n)\n",
    "            for doc in idx[term]:\n",
    "                f = float(idx[term][doc])\n",
    "                score[doc] += i * (( f * (k1 + 1) ) / (f + k1 * (1 - b + (b * (float(d[doc]) / d_avg)))))\n",
    "        \n",
    "    results=[]\n",
    "    for x in [[r[0],r[1]] for r in zip(score.keys(), score.values())]:\n",
    "        if x[1] > 0:\n",
    "            # output [0] score, [1] doc_id\n",
    "            results.append([x[1],x[0]])\n",
    "\n",
    "    return results;"
   ]
  },
  {
   "cell_type": "code",
   "execution_count": null,
   "metadata": {
    "collapsed": false
   },
   "outputs": [],
   "source": [
    "results = get_results5('mountain bike', items_t)\n",
    "print_results(results, 10)\n",
    "\n",
    "# Plot score vs item length\n",
    "df = pd.DataFrame({'score':[float(x[0]) for x in results],\n",
    "                   'length':[len(items_t[x[1]].split()) for x in results]})\n",
    "\n",
    "output_notebook()\n",
    "p = Scatter(df, x='score', y='length')\n",
    "show(p)\n",
    "    "
   ]
  },
  {
   "cell_type": "code",
   "execution_count": null,
   "metadata": {
    "collapsed": true
   },
   "outputs": [],
   "source": [
    "## Can we make the above interactive?\n"
   ]
  }
 ],
 "metadata": {
  "kernelspec": {
   "display_name": "Python 2",
   "language": "python",
   "name": "python2"
  },
  "language_info": {
   "codemirror_mode": {
    "name": "ipython",
    "version": 2
   },
   "file_extension": ".py",
   "mimetype": "text/x-python",
   "name": "python",
   "nbconvert_exporter": "python",
   "pygments_lexer": "ipython2",
   "version": "2.7.11"
  }
 },
 "nbformat": 4,
 "nbformat_minor": 0
}
