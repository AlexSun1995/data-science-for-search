{
 "cells": [
  {
   "cell_type": "markdown",
   "metadata": {},
   "source": [
    "# What are Jupyter Notebooks?\n",
    "\n",
    "Jupyter Notebooks used to be called iPython notebooks - the Jupyter project is the evolution of iPython Notebooks.  Read more at [Jupyter Project](http://jupyter.org/):\n",
    "\n",
    "![Bokeh](resources/jupyter-notebooks.png)"
   ]
  },
  {
   "cell_type": "markdown",
   "metadata": {},
   "source": [
    "# Starting Jupyter Notebooks\n",
    "\n",
    "On a machine with Anaconda installed you just run the following command to start the notebook server:\n",
    "\n",
    "```\n",
    "jupyter notebook\n",
    "```\n"
   ]
  },
  {
   "cell_type": "markdown",
   "metadata": {},
   "source": [
    "# Markdown\n",
    "\n",
    "We can insert cells that contain Markdown.  This cell contains Markdown.\n",
    "\n",
    "> Markdown is a lightweight markup language with plain text formatting syntax designed so that it can be converted to HTML and many other formats using a tool by the same name. Markdown is often used to format readme files, for writing messages in online discussion forums, and to create rich text using a plain text editor.  [Wikipedia](https://en.wikipedia.org/wiki/Markdown)\n",
    "\n",
    "Jupyter Notebooks Markdown syntax can be found via the Help menu or [here](https://help.github.com/articles/basic-writing-and-formatting-syntax/) "
   ]
  },
  {
   "cell_type": "markdown",
   "metadata": {},
   "source": [
    "# Jupyter Essential Commands\n",
    "\n",
    "We can add new cells from the toolbar and chose the type of cell. \n",
    "\n",
    "Like vim there is an Command Mode (ESC) and Edit Mode (ENTER).  In Edit mode we see the Markdown code.  In Command mode we see the Markdown converted to HTML.\n",
    "\n",
    "Cells have Green Border if they are in Edit Mode, Blue border if the are in Command Mode.\n",
    "\n",
    "In Command Mode we can use shortcuts to Add or Delete Cells:\n",
    "\n",
    "* a - add above\n",
    "* b - add cell below\n",
    "* dd - delete current cell\n",
    "* m - make cell a Markdown cell\n",
    "* y - make cell a Code cell\n",
    "\n",
    "In Edit Mode we can execute the code in the cell by typing CTRL+ENTER.  We will be returned to Command Mode"
   ]
  },
  {
   "cell_type": "markdown",
   "metadata": {},
   "source": [
    "<img src='files/resources/ic_assignment_black_24dp_2x.png' align='left'> Add a few Markdown cell below this cell.  Edit the markdown to display a Heading and some content.  Try and create a list of bullets.  Execute the cell to return to Command Mode.  When done delete the cells you added."
   ]
  },
  {
   "cell_type": "markdown",
   "metadata": {},
   "source": [
    "# Python Cells\n",
    "\n",
    "Every notebook is backed by a Kernel.  This notebook has a \"Python 2\" Kernel.  Code cells contain code that the notebook send to the Kernel.  Output from the Python Kernel is displayed back in the notebook.  The Python Kernel runs continuously and maintains state (variables) between cells.  "
   ]
  }
 ],
 "metadata": {
  "kernelspec": {
   "display_name": "Python 2",
   "language": "python",
   "name": "python2"
  },
  "language_info": {
   "codemirror_mode": {
    "name": "ipython",
    "version": 2
   },
   "file_extension": ".py",
   "mimetype": "text/x-python",
   "name": "python",
   "nbconvert_exporter": "python",
   "pygments_lexer": "ipython2",
   "version": "2.7.11"
  }
 },
 "nbformat": 4,
 "nbformat_minor": 0
}
