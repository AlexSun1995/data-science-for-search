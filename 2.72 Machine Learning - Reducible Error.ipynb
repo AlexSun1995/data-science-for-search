{
 "cells": [
  {
   "cell_type": "markdown",
   "metadata": {},
   "source": [
    "## 2.72 Machine Learning - Reducible Error\n",
    "\n",
    "We are going to work with a very small file of training data."
   ]
  },
  {
   "cell_type": "code",
   "execution_count": 1,
   "metadata": {
    "collapsed": false,
    "scrolled": true
   },
   "outputs": [
    {
     "data": {
      "text/html": [
       "<div>\n",
       "<table border=\"1\" class=\"dataframe\">\n",
       "  <thead>\n",
       "    <tr style=\"text-align: right;\">\n",
       "      <th></th>\n",
       "      <th>x</th>\n",
       "      <th>y</th>\n",
       "    </tr>\n",
       "  </thead>\n",
       "  <tbody>\n",
       "    <tr>\n",
       "      <th>0</th>\n",
       "      <td>18.836133</td>\n",
       "      <td>11.269769</td>\n",
       "    </tr>\n",
       "    <tr>\n",
       "      <th>1</th>\n",
       "      <td>12.646680</td>\n",
       "      <td>8.734799</td>\n",
       "    </tr>\n",
       "    <tr>\n",
       "      <th>2</th>\n",
       "      <td>9.747432</td>\n",
       "      <td>8.173146</td>\n",
       "    </tr>\n",
       "    <tr>\n",
       "      <th>3</th>\n",
       "      <td>2.334745</td>\n",
       "      <td>5.424436</td>\n",
       "    </tr>\n",
       "    <tr>\n",
       "      <th>4</th>\n",
       "      <td>0.409672</td>\n",
       "      <td>2.339696</td>\n",
       "    </tr>\n",
       "    <tr>\n",
       "      <th>5</th>\n",
       "      <td>6.327346</td>\n",
       "      <td>7.787972</td>\n",
       "    </tr>\n",
       "    <tr>\n",
       "      <th>6</th>\n",
       "      <td>9.708542</td>\n",
       "      <td>10.423231</td>\n",
       "    </tr>\n",
       "    <tr>\n",
       "      <th>7</th>\n",
       "      <td>14.599289</td>\n",
       "      <td>10.390283</td>\n",
       "    </tr>\n",
       "    <tr>\n",
       "      <th>8</th>\n",
       "      <td>3.301732</td>\n",
       "      <td>7.423751</td>\n",
       "    </tr>\n",
       "    <tr>\n",
       "      <th>9</th>\n",
       "      <td>3.158246</td>\n",
       "      <td>6.116124</td>\n",
       "    </tr>\n",
       "  </tbody>\n",
       "</table>\n",
       "</div>"
      ],
      "text/plain": [
       "           x          y\n",
       "0  18.836133  11.269769\n",
       "1  12.646680   8.734799\n",
       "2   9.747432   8.173146\n",
       "3   2.334745   5.424436\n",
       "4   0.409672   2.339696\n",
       "5   6.327346   7.787972\n",
       "6   9.708542  10.423231\n",
       "7  14.599289  10.390283\n",
       "8   3.301732   7.423751\n",
       "9   3.158246   6.116124"
      ]
     },
     "execution_count": 1,
     "metadata": {},
     "output_type": "execute_result"
    }
   ],
   "source": [
    "import numpy as np\n",
    "import pandas as pd\n",
    "\n",
    "df_train = pd.read_csv('data/ml-data-train.csv')\n",
    "df_train"
   ]
  },
  {
   "cell_type": "markdown",
   "metadata": {},
   "source": [
    "<img src='files/resources/ic_assignment_black_24dp_2x.png' align='left'>Create a scatterplot of the data.\n",
    "Does the relationship between x and y look linear or non-linear?"
   ]
  },
  {
   "cell_type": "code",
   "execution_count": 2,
   "metadata": {
    "collapsed": false
   },
   "outputs": [
    {
     "data": {
      "text/html": [
       "\n",
       "\n",
       "    <script type=\"text/javascript\">\n",
       "      \n",
       "      (function(global) {\n",
       "        function now() {\n",
       "          return new Date();\n",
       "        }\n",
       "      \n",
       "        if (typeof (window._bokeh_onload_callbacks) === \"undefined\") {\n",
       "          window._bokeh_onload_callbacks = [];\n",
       "        }\n",
       "      \n",
       "        function run_callbacks() {\n",
       "          window._bokeh_onload_callbacks.forEach(function(callback) { callback() });\n",
       "          delete window._bokeh_onload_callbacks\n",
       "          console.info(\"Bokeh: all callbacks have finished\");\n",
       "        }\n",
       "      \n",
       "        function load_libs(js_urls, callback) {\n",
       "          window._bokeh_onload_callbacks.push(callback);\n",
       "          if (window._bokeh_is_loading > 0) {\n",
       "            console.log(\"Bokeh: BokehJS is being loaded, scheduling callback at\", now());\n",
       "            return null;\n",
       "          }\n",
       "          if (js_urls == null || js_urls.length === 0) {\n",
       "            run_callbacks();\n",
       "            return null;\n",
       "          }\n",
       "          console.log(\"Bokeh: BokehJS not loaded, scheduling load and callback at\", now());\n",
       "          window._bokeh_is_loading = js_urls.length;\n",
       "          for (var i = 0; i < js_urls.length; i++) {\n",
       "            var url = js_urls[i];\n",
       "            var s = document.createElement('script');\n",
       "            s.src = url;\n",
       "            s.async = false;\n",
       "            s.onreadystatechange = s.onload = function() {\n",
       "              window._bokeh_is_loading--;\n",
       "              if (window._bokeh_is_loading === 0) {\n",
       "                console.log(\"Bokeh: all BokehJS libraries loaded\");\n",
       "                run_callbacks()\n",
       "              }\n",
       "            };\n",
       "            s.onerror = function() {\n",
       "              console.warn(\"failed to load library \" + url);\n",
       "            };\n",
       "            console.log(\"Bokeh: injecting script tag for BokehJS library: \", url);\n",
       "            document.getElementsByTagName(\"head\")[0].appendChild(s);\n",
       "          }\n",
       "        };var js_urls = ['https://cdn.pydata.org/bokeh/release/bokeh-0.11.0.min.js', 'https://cdn.pydata.org/bokeh/release/bokeh-widgets-0.11.0.min.js', 'https://cdn.pydata.org/bokeh/release/bokeh-compiler-0.11.0.min.js'];\n",
       "      \n",
       "        var inline_js = [\n",
       "          function(Bokeh) {\n",
       "            Bokeh.set_log_level(\"info\");\n",
       "          },\n",
       "          function(Bokeh) {\n",
       "            console.log(\"Bokeh: injecting CSS: https://cdn.pydata.org/bokeh/release/bokeh-0.11.0.min.css\");\n",
       "            Bokeh.embed.inject_css(\"https://cdn.pydata.org/bokeh/release/bokeh-0.11.0.min.css\");\n",
       "            console.log(\"Bokeh: injecting CSS: https://cdn.pydata.org/bokeh/release/bokeh-widgets-0.11.0.min.css\");\n",
       "            Bokeh.embed.inject_css(\"https://cdn.pydata.org/bokeh/release/bokeh-widgets-0.11.0.min.css\");\n",
       "          }\n",
       "        ];\n",
       "      \n",
       "        function run_inline_js() {\n",
       "          for (var i = 0; i < inline_js.length; i++) {\n",
       "            inline_js[i](window.Bokeh);\n",
       "          }\n",
       "        }\n",
       "      \n",
       "        if (window._bokeh_is_loading === 0) {\n",
       "          console.log(\"Bokeh: BokehJS loaded, going straight to plotting\");\n",
       "          run_inline_js();\n",
       "        } else {\n",
       "          load_libs(js_urls, function() {\n",
       "            console.log(\"Bokeh: BokehJS plotting callback run at\", now());\n",
       "            run_inline_js();\n",
       "          });\n",
       "        }\n",
       "      }(this));\n",
       "    </script>"
      ]
     },
     "metadata": {},
     "output_type": "display_data"
    },
    {
     "data": {
      "text/html": [
       "\n",
       "\n",
       "    <div class=\"plotdiv\" id=\"aa446375-0067-4e52-bc87-f2654fd70b5f\"></div>\n",
       "<script type=\"text/javascript\">\n",
       "  \n",
       "  (function(global) {\n",
       "    function now() {\n",
       "      return new Date();\n",
       "    }\n",
       "  \n",
       "    if (typeof (window._bokeh_onload_callbacks) === \"undefined\") {\n",
       "      window._bokeh_onload_callbacks = [];\n",
       "    }\n",
       "  \n",
       "    function run_callbacks() {\n",
       "      window._bokeh_onload_callbacks.forEach(function(callback) { callback() });\n",
       "      delete window._bokeh_onload_callbacks\n",
       "      console.info(\"Bokeh: all callbacks have finished\");\n",
       "    }\n",
       "  \n",
       "    function load_libs(js_urls, callback) {\n",
       "      window._bokeh_onload_callbacks.push(callback);\n",
       "      if (window._bokeh_is_loading > 0) {\n",
       "        console.log(\"Bokeh: BokehJS is being loaded, scheduling callback at\", now());\n",
       "        return null;\n",
       "      }\n",
       "      if (js_urls == null || js_urls.length === 0) {\n",
       "        run_callbacks();\n",
       "        return null;\n",
       "      }\n",
       "      console.log(\"Bokeh: BokehJS not loaded, scheduling load and callback at\", now());\n",
       "      window._bokeh_is_loading = js_urls.length;\n",
       "      for (var i = 0; i < js_urls.length; i++) {\n",
       "        var url = js_urls[i];\n",
       "        var s = document.createElement('script');\n",
       "        s.src = url;\n",
       "        s.async = false;\n",
       "        s.onreadystatechange = s.onload = function() {\n",
       "          window._bokeh_is_loading--;\n",
       "          if (window._bokeh_is_loading === 0) {\n",
       "            console.log(\"Bokeh: all BokehJS libraries loaded\");\n",
       "            run_callbacks()\n",
       "          }\n",
       "        };\n",
       "        s.onerror = function() {\n",
       "          console.warn(\"failed to load library \" + url);\n",
       "        };\n",
       "        console.log(\"Bokeh: injecting script tag for BokehJS library: \", url);\n",
       "        document.getElementsByTagName(\"head\")[0].appendChild(s);\n",
       "      }\n",
       "    };var element = document.getElementById(\"aa446375-0067-4e52-bc87-f2654fd70b5f\");\n",
       "    if (element == null) {\n",
       "      console.log(\"Bokeh: ERROR: autoload.js configured with elementid 'aa446375-0067-4e52-bc87-f2654fd70b5f' but no matching script tag was found. \")\n",
       "      return false;\n",
       "    }var js_urls = [];\n",
       "  \n",
       "    var inline_js = [\n",
       "      function(Bokeh) {\n",
       "        Bokeh.$(function() {\n",
       "            var docs_json = {\"43b9b279-bcb5-4625-a33b-8fc5ccaa149f\": {\"version\": \"0.11.0\", \"roots\": {\"root_ids\": [\"e59893f9-8bc1-4787-ac60-6aa6949e5c49\"], \"references\": [{\"attributes\": {\"plot\": {\"subtype\": \"Chart\", \"type\": \"Plot\", \"id\": \"e59893f9-8bc1-4787-ac60-6aa6949e5c49\"}}, \"type\": \"PreviewSaveTool\", \"id\": \"47903f19-bdde-42be-8b0f-9d31a11493c5\"}, {\"attributes\": {\"line_color\": {\"value\": \"#f22c40\"}, \"fill_color\": {\"value\": \"#f22c40\"}, \"fill_alpha\": {\"value\": 0.7}, \"y\": {\"field\": \"y_values\"}, \"x\": {\"field\": \"x_values\"}, \"size\": {\"units\": \"screen\", \"value\": 8}}, \"type\": \"Circle\", \"id\": \"8a536ecc-5b83-4d09-a17f-4e1234e28383\"}, {\"attributes\": {}, \"type\": \"BasicTicker\", \"id\": \"5b8f9cbb-917f-4165-96d9-fce411ff6f12\"}, {\"attributes\": {\"plot\": {\"subtype\": \"Chart\", \"type\": \"Plot\", \"id\": \"e59893f9-8bc1-4787-ac60-6aa6949e5c49\"}, \"ticker\": {\"type\": \"BasicTicker\", \"id\": \"2bd73a17-35ea-4b28-ac09-53eed203bba1\"}, \"dimension\": 1}, \"type\": \"Grid\", \"id\": \"b4a0f61e-4285-4ed1-96db-b14de2bfbe2c\"}, {\"attributes\": {\"plot\": {\"subtype\": \"Chart\", \"type\": \"Plot\", \"id\": \"e59893f9-8bc1-4787-ac60-6aa6949e5c49\"}, \"axis_label\": \"x\", \"formatter\": {\"type\": \"BasicTickFormatter\", \"id\": \"518fa76e-c00b-4235-ac63-389c989e3521\"}, \"ticker\": {\"type\": \"BasicTicker\", \"id\": \"5b8f9cbb-917f-4165-96d9-fce411ff6f12\"}}, \"type\": \"LinearAxis\", \"id\": \"cba2d7cc-cdd8-4146-b710-f2dadba9bc64\"}, {\"attributes\": {\"plot\": {\"subtype\": \"Chart\", \"type\": \"Plot\", \"id\": \"e59893f9-8bc1-4787-ac60-6aa6949e5c49\"}, \"axis_label\": \"y\", \"formatter\": {\"type\": \"BasicTickFormatter\", \"id\": \"9c45ee33-4f53-452b-b946-d9aa3632a62e\"}, \"ticker\": {\"type\": \"BasicTicker\", \"id\": \"2bd73a17-35ea-4b28-ac09-53eed203bba1\"}}, \"type\": \"LinearAxis\", \"id\": \"53b6e20d-437d-4b95-ab8f-262c3235289a\"}, {\"attributes\": {\"plot\": {\"subtype\": \"Chart\", \"type\": \"Plot\", \"id\": \"e59893f9-8bc1-4787-ac60-6aa6949e5c49\"}}, \"type\": \"ResetTool\", \"id\": \"84ed535a-6b03-445b-a8c4-10002568a645\"}, {\"attributes\": {\"callback\": null, \"column_names\": [\"x_values\", \"y_values\"], \"data\": {\"x_values\": [18.836133046900002, 12.646680276500001, 9.7474321464, 2.3347453756, 0.40967225582500005, 6.32734623225, 9.70854196336, 14.5992894044, 3.3017323519, 3.1582461335], \"chart_index\": [null, null, null, null, null, null, null, null, null, null], \"y_values\": [11.2697687831, 8.73479920455, 8.173146226970001, 5.42443621023, 2.3396962877000003, 7.7879716006100015, 10.4232313916, 10.390283031000001, 7.42375101859, 6.11612369783]}}, \"type\": \"ColumnDataSource\", \"id\": \"35052d53-4cca-48cd-b770-68df53160bc0\"}, {\"attributes\": {\"x_range\": {\"type\": \"Range1d\", \"id\": \"bdec536b-d030-4cd6-9c0f-cf8688843350\"}, \"y_mapper_type\": \"auto\", \"title_text_font_size\": {\"value\": \"14pt\"}, \"yscale\": \"auto\", \"y_range\": {\"type\": \"Range1d\", \"id\": \"f506582b-1273-4fe3-8900-c623d981d7ca\"}, \"x_mapper_type\": \"auto\", \"renderers\": [{\"type\": \"BoxAnnotation\", \"id\": \"c6f06f08-1475-4302-b384-9171cb23260f\"}, {\"type\": \"GlyphRenderer\", \"id\": \"2528ec2e-5143-4082-8c5b-51afbc3654c3\"}, {\"type\": \"LinearAxis\", \"id\": \"cba2d7cc-cdd8-4146-b710-f2dadba9bc64\"}, {\"type\": \"LinearAxis\", \"id\": \"53b6e20d-437d-4b95-ab8f-262c3235289a\"}, {\"type\": \"Grid\", \"id\": \"54072271-8250-4f0f-9e16-7045035b1f45\"}, {\"type\": \"Grid\", \"id\": \"b4a0f61e-4285-4ed1-96db-b14de2bfbe2c\"}], \"below\": [{\"type\": \"LinearAxis\", \"id\": \"cba2d7cc-cdd8-4146-b710-f2dadba9bc64\"}], \"tool_events\": {\"type\": \"ToolEvents\", \"id\": \"5195a449-64ab-4f24-9255-d7bc85916fd1\"}, \"xscale\": \"auto\", \"tools\": [{\"type\": \"PanTool\", \"id\": \"e9a4fa35-0f5a-4852-8003-afffaacfa19e\"}, {\"type\": \"WheelZoomTool\", \"id\": \"ae920b65-7325-4bd5-98c1-4b6345d8851d\"}, {\"type\": \"BoxZoomTool\", \"id\": \"642b25a9-af7e-4421-b404-f902fec0c358\"}, {\"type\": \"PreviewSaveTool\", \"id\": \"47903f19-bdde-42be-8b0f-9d31a11493c5\"}, {\"type\": \"ResizeTool\", \"id\": \"81838f3e-3a33-4b6c-bae3-701751253306\"}, {\"type\": \"ResetTool\", \"id\": \"84ed535a-6b03-445b-a8c4-10002568a645\"}, {\"type\": \"HelpTool\", \"id\": \"f9e98b46-29f5-4ddc-bcc8-e3fd84b1dad7\"}], \"legend\": null, \"left\": [{\"type\": \"LinearAxis\", \"id\": \"53b6e20d-437d-4b95-ab8f-262c3235289a\"}]}, \"type\": \"Plot\", \"id\": \"e59893f9-8bc1-4787-ac60-6aa6949e5c49\", \"subtype\": \"Chart\"}, {\"attributes\": {\"plot\": {\"subtype\": \"Chart\", \"type\": \"Plot\", \"id\": \"e59893f9-8bc1-4787-ac60-6aa6949e5c49\"}}, \"type\": \"HelpTool\", \"id\": \"f9e98b46-29f5-4ddc-bcc8-e3fd84b1dad7\"}, {\"attributes\": {\"callback\": null, \"end\": 20.678779126007502, \"start\": -1.4329738232825002}, \"type\": \"Range1d\", \"id\": \"bdec536b-d030-4cd6-9c0f-cf8688843350\"}, {\"attributes\": {\"plot\": {\"subtype\": \"Chart\", \"type\": \"Plot\", \"id\": \"e59893f9-8bc1-4787-ac60-6aa6949e5c49\"}}, \"type\": \"WheelZoomTool\", \"id\": \"ae920b65-7325-4bd5-98c1-4b6345d8851d\"}, {\"attributes\": {}, \"type\": \"BasicTickFormatter\", \"id\": \"518fa76e-c00b-4235-ac63-389c989e3521\"}, {\"attributes\": {\"callback\": null, \"end\": 12.16277603264, \"start\": 1.4466890381600002}, \"type\": \"Range1d\", \"id\": \"f506582b-1273-4fe3-8900-c623d981d7ca\"}, {\"attributes\": {}, \"type\": \"ToolEvents\", \"id\": \"5195a449-64ab-4f24-9255-d7bc85916fd1\"}, {\"attributes\": {\"nonselection_glyph\": null, \"data_source\": {\"type\": \"ColumnDataSource\", \"id\": \"35052d53-4cca-48cd-b770-68df53160bc0\"}, \"selection_glyph\": null, \"hover_glyph\": null, \"glyph\": {\"type\": \"Circle\", \"id\": \"8a536ecc-5b83-4d09-a17f-4e1234e28383\"}}, \"type\": \"GlyphRenderer\", \"id\": \"2528ec2e-5143-4082-8c5b-51afbc3654c3\"}, {\"attributes\": {\"plot\": {\"subtype\": \"Chart\", \"type\": \"Plot\", \"id\": \"e59893f9-8bc1-4787-ac60-6aa6949e5c49\"}, \"overlay\": {\"type\": \"BoxAnnotation\", \"id\": \"c6f06f08-1475-4302-b384-9171cb23260f\"}}, \"type\": \"BoxZoomTool\", \"id\": \"642b25a9-af7e-4421-b404-f902fec0c358\"}, {\"attributes\": {}, \"type\": \"BasicTicker\", \"id\": \"2bd73a17-35ea-4b28-ac09-53eed203bba1\"}, {\"attributes\": {\"plot\": {\"subtype\": \"Chart\", \"type\": \"Plot\", \"id\": \"e59893f9-8bc1-4787-ac60-6aa6949e5c49\"}, \"ticker\": {\"type\": \"BasicTicker\", \"id\": \"5b8f9cbb-917f-4165-96d9-fce411ff6f12\"}}, \"type\": \"Grid\", \"id\": \"54072271-8250-4f0f-9e16-7045035b1f45\"}, {\"attributes\": {\"plot\": {\"subtype\": \"Chart\", \"type\": \"Plot\", \"id\": \"e59893f9-8bc1-4787-ac60-6aa6949e5c49\"}}, \"type\": \"PanTool\", \"id\": \"e9a4fa35-0f5a-4852-8003-afffaacfa19e\"}, {\"attributes\": {}, \"type\": \"BasicTickFormatter\", \"id\": \"9c45ee33-4f53-452b-b946-d9aa3632a62e\"}, {\"attributes\": {\"line_color\": {\"value\": \"black\"}, \"line_alpha\": {\"value\": 1.0}, \"render_mode\": \"css\", \"bottom_units\": \"screen\", \"level\": \"overlay\", \"top_units\": \"screen\", \"fill_alpha\": {\"value\": 0.5}, \"plot\": null, \"left_units\": \"screen\", \"line_dash\": [4, 4], \"line_width\": {\"value\": 2}, \"right_units\": \"screen\", \"fill_color\": {\"value\": \"lightgrey\"}}, \"type\": \"BoxAnnotation\", \"id\": \"c6f06f08-1475-4302-b384-9171cb23260f\"}, {\"attributes\": {\"plot\": {\"subtype\": \"Chart\", \"type\": \"Plot\", \"id\": \"e59893f9-8bc1-4787-ac60-6aa6949e5c49\"}}, \"type\": \"ResizeTool\", \"id\": \"81838f3e-3a33-4b6c-bae3-701751253306\"}]}, \"title\": \"Bokeh Application\"}};\n",
       "            var render_items = [{\"notebook_comms_target\": \"ce99b305-04d1-4937-b8be-c28fdf964c5c\", \"docid\": \"43b9b279-bcb5-4625-a33b-8fc5ccaa149f\", \"elementid\": \"aa446375-0067-4e52-bc87-f2654fd70b5f\", \"modelid\": \"e59893f9-8bc1-4787-ac60-6aa6949e5c49\"}];\n",
       "            \n",
       "            Bokeh.embed.embed_items(docs_json, render_items);\n",
       "        });\n",
       "      },\n",
       "      function(Bokeh) {\n",
       "      }\n",
       "    ];\n",
       "  \n",
       "    function run_inline_js() {\n",
       "      for (var i = 0; i < inline_js.length; i++) {\n",
       "        inline_js[i](window.Bokeh);\n",
       "      }\n",
       "    }\n",
       "  \n",
       "    if (window._bokeh_is_loading === 0) {\n",
       "      console.log(\"Bokeh: BokehJS loaded, going straight to plotting\");\n",
       "      run_inline_js();\n",
       "    } else {\n",
       "      load_libs(js_urls, function() {\n",
       "        console.log(\"Bokeh: BokehJS plotting callback run at\", now());\n",
       "        run_inline_js();\n",
       "      });\n",
       "    }\n",
       "  }(this));\n",
       "</script>"
      ]
     },
     "metadata": {},
     "output_type": "display_data"
    },
    {
     "data": {
      "text/plain": [
       "<bokeh.io._CommsHandle at 0x7fa3d9257350>"
      ]
     },
     "execution_count": 2,
     "metadata": {},
     "output_type": "execute_result"
    }
   ],
   "source": [
    "from bokeh.charts import output_notebook, Scatter, show\n",
    "\n",
    "output_notebook(hide_banner=True)\n",
    "p = Scatter(data=df_train, x='x', y='y')\n",
    "show(p)"
   ]
  },
  {
   "cell_type": "markdown",
   "metadata": {},
   "source": [
    "## Fitting a linear regression model\n",
    "\n",
    "We need a few imports from sklearn.  We are also going to create a scikit learn pipeline class so that we can apply prepprocessing to our data before passing to the linear regression model.  THis will allow us to create arbitrary order non-linear polynomial functions of x later on."
   ]
  },
  {
   "cell_type": "code",
   "execution_count": 3,
   "metadata": {
    "collapsed": true
   },
   "outputs": [],
   "source": [
    "# Show code to fit model of degree 1\n",
    "from sklearn.linear_model import LinearRegression\n",
    "from sklearn.preprocessing import PolynomialFeatures\n",
    "from sklearn.pipeline import make_pipeline"
   ]
  },
  {
   "cell_type": "markdown",
   "metadata": {},
   "source": [
    "Now we define the model - initially we are using degree 1 polynomial features - this is redundant but will be helpful in the exercises below."
   ]
  },
  {
   "cell_type": "code",
   "execution_count": 4,
   "metadata": {
    "collapsed": false
   },
   "outputs": [
    {
     "data": {
      "text/plain": [
       "Pipeline(steps=[('polynomialfeatures', PolynomialFeatures(degree=1, include_bias=True, interaction_only=False)), ('linearregression', LinearRegression(copy_X=True, fit_intercept=True, n_jobs=1, normalize=False))])"
      ]
     },
     "execution_count": 4,
     "metadata": {},
     "output_type": "execute_result"
    }
   ],
   "source": [
    "model = make_pipeline(PolynomialFeatures(degree=1), LinearRegression())\n",
    "model.fit(df_train.x.reshape(-1,1), df_train.y)"
   ]
  },
  {
   "cell_type": "markdown",
   "metadata": {},
   "source": [
    "Now we have the model fit to the data we can predict.  Let's predict the y values for the original x:"
   ]
  },
  {
   "cell_type": "code",
   "execution_count": 5,
   "metadata": {
    "collapsed": false
   },
   "outputs": [
    {
     "data": {
      "text/plain": [
       "[(11.2697687831, 12.048324408706502),\n",
       " (8.7347992045500007, 9.6023431649136821),\n",
       " (8.173146226970001, 8.4566026915005992),\n",
       " (5.4244362102299997, 5.5272172546817302),\n",
       " (2.3396962877000003, 4.7664565027105876),\n",
       " (7.7879716006100015, 7.10503474058621),\n",
       " (10.4232313916, 8.4412338597456458),\n",
       " (10.390283031000001, 10.373985744713735),\n",
       " (7.42375101859, 5.9093563701675214),\n",
       " (6.11612369783, 5.8526527144537903)]"
      ]
     },
     "execution_count": 5,
     "metadata": {},
     "output_type": "execute_result"
    }
   ],
   "source": [
    "y_pred=model.predict(df_train.x.reshape(-1,1))\n",
    "zip(df_train.y, y_pred)"
   ]
  },
  {
   "cell_type": "markdown",
   "metadata": {},
   "source": [
    "<img src='files/resources/ic_assignment_black_24dp_2x.png' align='left'>Write function to compute MSE based on y and y_pred.  Remember mean squared error is the average squared difference between y and y_pred.  What are the units of the MSE?  Do you think this is a good model?"
   ]
  },
  {
   "cell_type": "code",
   "execution_count": 6,
   "metadata": {
    "collapsed": false
   },
   "outputs": [
    {
     "name": "stdout",
     "output_type": "stream",
     "text": [
      "mse =   1.41\n"
     ]
    }
   ],
   "source": [
    "def mse(a,b):\n",
    "    return np.sum(np.power(np.subtract(a,b),2)) / len(a)\n",
    "\n",
    "print('mse = {0:6.2f}'.format(mse(df_train.y,y_pred)))"
   ]
  },
  {
   "cell_type": "markdown",
   "metadata": {},
   "source": [
    "## Increasing the flexibility of the model\n",
    "\n",
    "By increasing the degree of the polynomial feature generator we can get increasingly flexible models.\n",
    "\n",
    "For example here are the degree 3 features generated by the `PolynomialFeatures()` method:"
   ]
  },
  {
   "cell_type": "code",
   "execution_count": 7,
   "metadata": {
    "collapsed": false
   },
   "outputs": [
    {
     "name": "stdout",
     "output_type": "stream",
     "text": [
      "[[2]\n",
      " [3]]\n"
     ]
    },
    {
     "data": {
      "text/plain": [
       "array([[  1.,   2.,   4.,   8.,  16.],\n",
       "       [  1.,   3.,   9.,  27.,  81.]])"
      ]
     },
     "execution_count": 7,
     "metadata": {},
     "output_type": "execute_result"
    }
   ],
   "source": [
    "data = np.array([2,3]).reshape(-1,1)\n",
    "print(data)\n",
    "model = PolynomialFeatures(degree=4)\n",
    "model.fit(data)\n",
    "model.transform(data)"
   ]
  },
  {
   "cell_type": "markdown",
   "metadata": {},
   "source": [
    "By using the `PolynomialFeatures()` method the linear model has non-linear transformations of the original features.  The resulting model is still linear in the parameters - but has more non-linear features available."
   ]
  },
  {
   "cell_type": "markdown",
   "metadata": {},
   "source": [
    "<img src='files/resources/ic_assignment_black_24dp_2x.png' align='left'>Do you think that the non-linear transformations will increase of decrease the ability of the model to fit the training data (i.e. reduce the MSE)?  Write a function to fit a degree 'n' polynomial regression model and output the MSE.  Test it by computing the MSE for all degree's up to 10."
   ]
  },
  {
   "cell_type": "code",
   "execution_count": 8,
   "metadata": {
    "collapsed": false
   },
   "outputs": [
    {
     "name": "stdout",
     "output_type": "stream",
     "text": [
      "Degree =  0 MSE =   6.51\n",
      "Degree =  1 MSE =   1.41\n",
      "Degree =  2 MSE =   0.94\n",
      "Degree =  3 MSE =   0.51\n",
      "Degree =  4 MSE =   0.46\n",
      "Degree =  5 MSE =   0.46\n",
      "Degree =  6 MSE =   0.40\n",
      "Degree =  7 MSE =   0.32\n",
      "Degree =  8 MSE =   0.32\n",
      "Degree =  9 MSE =   0.00\n",
      "Degree = 10 MSE =   0.00\n"
     ]
    }
   ],
   "source": [
    "def fitPolynomialRegression(x, y, degree=1):    \n",
    "    model = make_pipeline(PolynomialFeatures(degree=degree), LinearRegression())\n",
    "    model.fit(x, y)\n",
    "    return mse(y, model.predict(x))\n",
    "\n",
    "for degree in range(0,11):\n",
    "    print('Degree = {0:2d} MSE = {1:6.2f}'\n",
    "          .format(degree, fitPolynomialRegression(df_train.x.reshape(-1,1), df_train.y, degree)))\n"
   ]
  },
  {
   "cell_type": "markdown",
   "metadata": {},
   "source": [
    "<img src='files/resources/ic_assignment_black_24dp_2x.png' align='left'>Do you think this is as expected - which is the best model?  Which one would you use to predict new data?"
   ]
  },
  {
   "cell_type": "markdown",
   "metadata": {},
   "source": [
    "# Test error vs train error\n",
    "\n",
    "We have another data set from the same data generating process.  This data was not used to fit the model but can be used to see how well the models predict future unknown data points.  We call this data the 'test' set."
   ]
  },
  {
   "cell_type": "code",
   "execution_count": 9,
   "metadata": {
    "collapsed": false
   },
   "outputs": [
    {
     "data": {
      "text/html": [
       "<div>\n",
       "<table border=\"1\" class=\"dataframe\">\n",
       "  <thead>\n",
       "    <tr style=\"text-align: right;\">\n",
       "      <th></th>\n",
       "      <th>x</th>\n",
       "      <th>y</th>\n",
       "    </tr>\n",
       "  </thead>\n",
       "  <tbody>\n",
       "    <tr>\n",
       "      <th>0</th>\n",
       "      <td>17.878083</td>\n",
       "      <td>10.699816</td>\n",
       "    </tr>\n",
       "    <tr>\n",
       "      <th>1</th>\n",
       "      <td>0.255616</td>\n",
       "      <td>1.543354</td>\n",
       "    </tr>\n",
       "    <tr>\n",
       "      <th>2</th>\n",
       "      <td>14.498679</td>\n",
       "      <td>8.531225</td>\n",
       "    </tr>\n",
       "    <tr>\n",
       "      <th>3</th>\n",
       "      <td>17.015902</td>\n",
       "      <td>9.661305</td>\n",
       "    </tr>\n",
       "    <tr>\n",
       "      <th>4</th>\n",
       "      <td>9.264371</td>\n",
       "      <td>7.449388</td>\n",
       "    </tr>\n",
       "    <tr>\n",
       "      <th>5</th>\n",
       "      <td>0.389505</td>\n",
       "      <td>2.978019</td>\n",
       "    </tr>\n",
       "    <tr>\n",
       "      <th>6</th>\n",
       "      <td>2.174721</td>\n",
       "      <td>7.405458</td>\n",
       "    </tr>\n",
       "    <tr>\n",
       "      <th>7</th>\n",
       "      <td>8.404072</td>\n",
       "      <td>9.296855</td>\n",
       "    </tr>\n",
       "    <tr>\n",
       "      <th>8</th>\n",
       "      <td>17.143085</td>\n",
       "      <td>10.059268</td>\n",
       "    </tr>\n",
       "    <tr>\n",
       "      <th>9</th>\n",
       "      <td>3.605394</td>\n",
       "      <td>7.557129</td>\n",
       "    </tr>\n",
       "  </tbody>\n",
       "</table>\n",
       "</div>"
      ],
      "text/plain": [
       "           x          y\n",
       "0  17.878083  10.699816\n",
       "1   0.255616   1.543354\n",
       "2  14.498679   8.531225\n",
       "3  17.015902   9.661305\n",
       "4   9.264371   7.449388\n",
       "5   0.389505   2.978019\n",
       "6   2.174721   7.405458\n",
       "7   8.404072   9.296855\n",
       "8  17.143085  10.059268\n",
       "9   3.605394   7.557129"
      ]
     },
     "execution_count": 9,
     "metadata": {},
     "output_type": "execute_result"
    }
   ],
   "source": [
    "df_test = pd.read_csv('data/ml-data-test.csv')\n",
    "df_test"
   ]
  },
  {
   "cell_type": "code",
   "execution_count": 10,
   "metadata": {
    "collapsed": false,
    "scrolled": true
   },
   "outputs": [
    {
     "data": {
      "text/html": [
       "\n",
       "\n",
       "    <div class=\"plotdiv\" id=\"f6447c1a-b5ea-4e83-b824-96e3ef757b05\"></div>\n",
       "<script type=\"text/javascript\">\n",
       "  \n",
       "  (function(global) {\n",
       "    function now() {\n",
       "      return new Date();\n",
       "    }\n",
       "  \n",
       "    if (typeof (window._bokeh_onload_callbacks) === \"undefined\") {\n",
       "      window._bokeh_onload_callbacks = [];\n",
       "    }\n",
       "  \n",
       "    function run_callbacks() {\n",
       "      window._bokeh_onload_callbacks.forEach(function(callback) { callback() });\n",
       "      delete window._bokeh_onload_callbacks\n",
       "      console.info(\"Bokeh: all callbacks have finished\");\n",
       "    }\n",
       "  \n",
       "    function load_libs(js_urls, callback) {\n",
       "      window._bokeh_onload_callbacks.push(callback);\n",
       "      if (window._bokeh_is_loading > 0) {\n",
       "        console.log(\"Bokeh: BokehJS is being loaded, scheduling callback at\", now());\n",
       "        return null;\n",
       "      }\n",
       "      if (js_urls == null || js_urls.length === 0) {\n",
       "        run_callbacks();\n",
       "        return null;\n",
       "      }\n",
       "      console.log(\"Bokeh: BokehJS not loaded, scheduling load and callback at\", now());\n",
       "      window._bokeh_is_loading = js_urls.length;\n",
       "      for (var i = 0; i < js_urls.length; i++) {\n",
       "        var url = js_urls[i];\n",
       "        var s = document.createElement('script');\n",
       "        s.src = url;\n",
       "        s.async = false;\n",
       "        s.onreadystatechange = s.onload = function() {\n",
       "          window._bokeh_is_loading--;\n",
       "          if (window._bokeh_is_loading === 0) {\n",
       "            console.log(\"Bokeh: all BokehJS libraries loaded\");\n",
       "            run_callbacks()\n",
       "          }\n",
       "        };\n",
       "        s.onerror = function() {\n",
       "          console.warn(\"failed to load library \" + url);\n",
       "        };\n",
       "        console.log(\"Bokeh: injecting script tag for BokehJS library: \", url);\n",
       "        document.getElementsByTagName(\"head\")[0].appendChild(s);\n",
       "      }\n",
       "    };var element = document.getElementById(\"f6447c1a-b5ea-4e83-b824-96e3ef757b05\");\n",
       "    if (element == null) {\n",
       "      console.log(\"Bokeh: ERROR: autoload.js configured with elementid 'f6447c1a-b5ea-4e83-b824-96e3ef757b05' but no matching script tag was found. \")\n",
       "      return false;\n",
       "    }var js_urls = [];\n",
       "  \n",
       "    var inline_js = [\n",
       "      function(Bokeh) {\n",
       "        Bokeh.$(function() {\n",
       "            var docs_json = {\"c6422d55-4177-40a9-8c82-70d5a032c971\": {\"version\": \"0.11.0\", \"roots\": {\"root_ids\": [\"e59893f9-8bc1-4787-ac60-6aa6949e5c49\", \"41a91728-e673-4ec9-8195-796dd62a7353\"], \"references\": [{\"attributes\": {}, \"type\": \"BasicTickFormatter\", \"id\": \"89fb5333-5094-4a28-9254-459b0dd8f831\"}, {\"attributes\": {\"callback\": null}, \"type\": \"DataRange1d\", \"id\": \"38b7b493-f4a4-4597-b719-1542c1c20970\"}, {\"attributes\": {\"plot\": {\"subtype\": \"Chart\", \"type\": \"Plot\", \"id\": \"e59893f9-8bc1-4787-ac60-6aa6949e5c49\"}}, \"type\": \"PreviewSaveTool\", \"id\": \"47903f19-bdde-42be-8b0f-9d31a11493c5\"}, {\"attributes\": {\"nonselection_glyph\": {\"type\": \"Circle\", \"id\": \"4204e850-4e7d-4df3-9d32-8041ae2f29ba\"}, \"data_source\": {\"type\": \"ColumnDataSource\", \"id\": \"9e0076a6-f81b-415d-ab91-4ed5344ab89c\"}, \"selection_glyph\": null, \"hover_glyph\": null, \"glyph\": {\"type\": \"Circle\", \"id\": \"4177b8ac-6d24-4dfd-9a61-c723f7efdcf2\"}}, \"type\": \"GlyphRenderer\", \"id\": \"af315903-f36b-4cfe-a218-548df631ef9e\"}, {\"attributes\": {\"line_color\": {\"value\": \"black\"}, \"line_alpha\": {\"value\": 1.0}, \"render_mode\": \"css\", \"bottom_units\": \"screen\", \"level\": \"overlay\", \"top_units\": \"screen\", \"fill_alpha\": {\"value\": 0.5}, \"plot\": null, \"left_units\": \"screen\", \"line_dash\": [4, 4], \"line_width\": {\"value\": 2}, \"right_units\": \"screen\", \"fill_color\": {\"value\": \"lightgrey\"}}, \"type\": \"BoxAnnotation\", \"id\": \"daabc9d2-6ab0-4300-ad55-a73122dd6f5e\"}, {\"attributes\": {\"nonselection_glyph\": {\"type\": \"Circle\", \"id\": \"d49c4f0f-b047-46a2-8b6c-62573b0bba1a\"}, \"data_source\": {\"type\": \"ColumnDataSource\", \"id\": \"5fc4e749-0ff3-4db6-9cb1-8882ad80fde4\"}, \"selection_glyph\": null, \"hover_glyph\": null, \"glyph\": {\"type\": \"Circle\", \"id\": \"eeed796b-15d6-4979-8afc-fc38f95bcac5\"}}, \"type\": \"GlyphRenderer\", \"id\": \"d6f60597-37d8-40e4-ba7e-f4b59c165b4e\"}, {\"attributes\": {}, \"type\": \"BasicTicker\", \"id\": \"a29a9739-4828-4ade-b263-42b091654068\"}, {\"attributes\": {\"line_color\": {\"value\": \"#f22c40\"}, \"fill_color\": {\"value\": \"#f22c40\"}, \"fill_alpha\": {\"value\": 0.7}, \"y\": {\"field\": \"y_values\"}, \"x\": {\"field\": \"x_values\"}, \"size\": {\"units\": \"screen\", \"value\": 8}}, \"type\": \"Circle\", \"id\": \"8a536ecc-5b83-4d09-a17f-4e1234e28383\"}, {\"attributes\": {\"plot\": {\"subtype\": \"Figure\", \"type\": \"Plot\", \"id\": \"41a91728-e673-4ec9-8195-796dd62a7353\"}, \"formatter\": {\"type\": \"BasicTickFormatter\", \"id\": \"89fb5333-5094-4a28-9254-459b0dd8f831\"}, \"ticker\": {\"type\": \"BasicTicker\", \"id\": \"0e4c4eb9-1e8d-4bb0-9525-7b0250cfccc1\"}}, \"type\": \"LinearAxis\", \"id\": \"78539cc8-30a3-4819-829e-aa4944308712\"}, {\"attributes\": {}, \"type\": \"BasicTicker\", \"id\": \"5b8f9cbb-917f-4165-96d9-fce411ff6f12\"}, {\"attributes\": {\"line_color\": {\"value\": \"#1f77b4\"}, \"line_alpha\": {\"value\": 0.1}, \"fill_color\": {\"value\": \"#1f77b4\"}, \"fill_alpha\": {\"value\": 0.1}, \"y\": {\"field\": \"y\"}, \"x\": {\"field\": \"x\"}, \"size\": {\"units\": \"screen\", \"value\": 10}}, \"type\": \"Circle\", \"id\": \"d49c4f0f-b047-46a2-8b6c-62573b0bba1a\"}, {\"attributes\": {\"plot\": {\"subtype\": \"Chart\", \"type\": \"Plot\", \"id\": \"e59893f9-8bc1-4787-ac60-6aa6949e5c49\"}, \"ticker\": {\"type\": \"BasicTicker\", \"id\": \"2bd73a17-35ea-4b28-ac09-53eed203bba1\"}, \"dimension\": 1}, \"type\": \"Grid\", \"id\": \"b4a0f61e-4285-4ed1-96db-b14de2bfbe2c\"}, {\"attributes\": {\"plot\": {\"subtype\": \"Figure\", \"type\": \"Plot\", \"id\": \"41a91728-e673-4ec9-8195-796dd62a7353\"}}, \"type\": \"HelpTool\", \"id\": \"021b39bd-d04e-46fe-868a-b0215df3644c\"}, {\"attributes\": {\"plot\": {\"subtype\": \"Figure\", \"type\": \"Plot\", \"id\": \"41a91728-e673-4ec9-8195-796dd62a7353\"}, \"overlay\": {\"type\": \"BoxAnnotation\", \"id\": \"daabc9d2-6ab0-4300-ad55-a73122dd6f5e\"}}, \"type\": \"BoxZoomTool\", \"id\": \"79ead1b1-e1bd-459a-9095-e66c739289e3\"}, {\"attributes\": {\"plot\": {\"subtype\": \"Figure\", \"type\": \"Plot\", \"id\": \"41a91728-e673-4ec9-8195-796dd62a7353\"}, \"ticker\": {\"type\": \"BasicTicker\", \"id\": \"0e4c4eb9-1e8d-4bb0-9525-7b0250cfccc1\"}, \"dimension\": 1}, \"type\": \"Grid\", \"id\": \"bbea73b9-f068-4b73-bddc-3b415614f694\"}, {\"attributes\": {\"plot\": {\"subtype\": \"Chart\", \"type\": \"Plot\", \"id\": \"e59893f9-8bc1-4787-ac60-6aa6949e5c49\"}, \"ticker\": {\"type\": \"BasicTicker\", \"id\": \"5b8f9cbb-917f-4165-96d9-fce411ff6f12\"}}, \"type\": \"Grid\", \"id\": \"54072271-8250-4f0f-9e16-7045035b1f45\"}, {\"attributes\": {\"plot\": {\"subtype\": \"Figure\", \"type\": \"Plot\", \"id\": \"41a91728-e673-4ec9-8195-796dd62a7353\"}}, \"type\": \"WheelZoomTool\", \"id\": \"9734ec0d-7a2c-470c-b4da-514f681ef05b\"}, {\"attributes\": {\"plot\": {\"subtype\": \"Chart\", \"type\": \"Plot\", \"id\": \"e59893f9-8bc1-4787-ac60-6aa6949e5c49\"}}, \"type\": \"ResetTool\", \"id\": \"84ed535a-6b03-445b-a8c4-10002568a645\"}, {\"attributes\": {}, \"type\": \"ToolEvents\", \"id\": \"50f9490c-10f3-44a3-8004-029850117743\"}, {\"attributes\": {\"callback\": null, \"column_names\": [\"y\", \"x\"], \"data\": {\"y\": [10.6998160593, 1.5433543664700002, 8.53122485764, 9.66130506799, 7.449388416789999, 2.97801924129, 7.405457889510001, 9.29685520665, 10.0592680938, 7.55712939462], \"x\": [17.8780834057, 0.255616291812, 14.4986785838, 17.0159017875, 9.26437052997, 0.38950482975199996, 2.17472143738, 8.404072091749999, 17.1430849415, 3.6053937775400002]}}, \"type\": \"ColumnDataSource\", \"id\": \"9e0076a6-f81b-415d-ab91-4ed5344ab89c\"}, {\"attributes\": {}, \"type\": \"BasicTickFormatter\", \"id\": \"3ba34747-bccf-4b2f-ad0f-8cfb61b972c5\"}, {\"attributes\": {\"callback\": null, \"column_names\": [\"x_values\", \"y_values\"], \"data\": {\"x_values\": [18.836133046900002, 12.646680276500001, 9.7474321464, 2.3347453756, 0.40967225582500005, 6.32734623225, 9.70854196336, 14.5992894044, 3.3017323519, 3.1582461335], \"chart_index\": [null, null, null, null, null, null, null, null, null, null], \"y_values\": [11.2697687831, 8.73479920455, 8.173146226970001, 5.42443621023, 2.3396962877000003, 7.7879716006100015, 10.4232313916, 10.390283031000001, 7.42375101859, 6.11612369783]}}, \"type\": \"ColumnDataSource\", \"id\": \"35052d53-4cca-48cd-b770-68df53160bc0\"}, {\"attributes\": {\"callback\": null, \"column_names\": [\"y\", \"x\"], \"data\": {\"y\": [11.2697687831, 8.73479920455, 8.173146226970001, 5.42443621023, 2.3396962877000003, 7.7879716006100015, 10.4232313916, 10.390283031000001, 7.42375101859, 6.11612369783], \"x\": [18.836133046900002, 12.646680276500001, 9.7474321464, 2.3347453756, 0.40967225582500005, 6.32734623225, 9.70854196336, 14.5992894044, 3.3017323519, 3.1582461335]}}, \"type\": \"ColumnDataSource\", \"id\": \"5fc4e749-0ff3-4db6-9cb1-8882ad80fde4\"}, {\"attributes\": {\"line_color\": {\"value\": \"Red\"}, \"x\": {\"field\": \"x\"}, \"y\": {\"field\": \"y\"}, \"fill_color\": {\"value\": \"Red\"}, \"size\": {\"units\": \"screen\", \"value\": 10}}, \"type\": \"Circle\", \"id\": \"4177b8ac-6d24-4dfd-9a61-c723f7efdcf2\"}, {\"attributes\": {\"plot\": {\"subtype\": \"Figure\", \"type\": \"Plot\", \"id\": \"41a91728-e673-4ec9-8195-796dd62a7353\"}, \"axis_label\": \"y\", \"formatter\": {\"type\": \"BasicTickFormatter\", \"id\": \"3ba34747-bccf-4b2f-ad0f-8cfb61b972c5\"}, \"ticker\": {\"type\": \"BasicTicker\", \"id\": \"a29a9739-4828-4ade-b263-42b091654068\"}}, \"type\": \"LinearAxis\", \"id\": \"a781cff0-f13f-4e95-ac24-95acad946cf6\"}, {\"attributes\": {\"x_range\": {\"type\": \"Range1d\", \"id\": \"bdec536b-d030-4cd6-9c0f-cf8688843350\"}, \"y_mapper_type\": \"auto\", \"title_text_font_size\": {\"value\": \"14pt\"}, \"yscale\": \"auto\", \"y_range\": {\"type\": \"Range1d\", \"id\": \"f506582b-1273-4fe3-8900-c623d981d7ca\"}, \"x_mapper_type\": \"auto\", \"renderers\": [{\"type\": \"BoxAnnotation\", \"id\": \"c6f06f08-1475-4302-b384-9171cb23260f\"}, {\"type\": \"GlyphRenderer\", \"id\": \"2528ec2e-5143-4082-8c5b-51afbc3654c3\"}, {\"type\": \"LinearAxis\", \"id\": \"cba2d7cc-cdd8-4146-b710-f2dadba9bc64\"}, {\"type\": \"LinearAxis\", \"id\": \"53b6e20d-437d-4b95-ab8f-262c3235289a\"}, {\"type\": \"Grid\", \"id\": \"54072271-8250-4f0f-9e16-7045035b1f45\"}, {\"type\": \"Grid\", \"id\": \"b4a0f61e-4285-4ed1-96db-b14de2bfbe2c\"}], \"below\": [{\"type\": \"LinearAxis\", \"id\": \"cba2d7cc-cdd8-4146-b710-f2dadba9bc64\"}], \"tool_events\": {\"type\": \"ToolEvents\", \"id\": \"5195a449-64ab-4f24-9255-d7bc85916fd1\"}, \"xscale\": \"auto\", \"tools\": [{\"type\": \"PanTool\", \"id\": \"e9a4fa35-0f5a-4852-8003-afffaacfa19e\"}, {\"type\": \"WheelZoomTool\", \"id\": \"ae920b65-7325-4bd5-98c1-4b6345d8851d\"}, {\"type\": \"BoxZoomTool\", \"id\": \"642b25a9-af7e-4421-b404-f902fec0c358\"}, {\"type\": \"PreviewSaveTool\", \"id\": \"47903f19-bdde-42be-8b0f-9d31a11493c5\"}, {\"type\": \"ResizeTool\", \"id\": \"81838f3e-3a33-4b6c-bae3-701751253306\"}, {\"type\": \"ResetTool\", \"id\": \"84ed535a-6b03-445b-a8c4-10002568a645\"}, {\"type\": \"HelpTool\", \"id\": \"f9e98b46-29f5-4ddc-bcc8-e3fd84b1dad7\"}], \"legend\": null, \"left\": [{\"type\": \"LinearAxis\", \"id\": \"53b6e20d-437d-4b95-ab8f-262c3235289a\"}]}, \"type\": \"Plot\", \"id\": \"e59893f9-8bc1-4787-ac60-6aa6949e5c49\", \"subtype\": \"Chart\"}, {\"attributes\": {\"plot\": {\"subtype\": \"Chart\", \"type\": \"Plot\", \"id\": \"e59893f9-8bc1-4787-ac60-6aa6949e5c49\"}}, \"type\": \"HelpTool\", \"id\": \"f9e98b46-29f5-4ddc-bcc8-e3fd84b1dad7\"}, {\"attributes\": {\"callback\": null, \"end\": 20.678779126007502, \"start\": -1.4329738232825002}, \"type\": \"Range1d\", \"id\": \"bdec536b-d030-4cd6-9c0f-cf8688843350\"}, {\"attributes\": {\"callback\": null}, \"type\": \"DataRange1d\", \"id\": \"ebaaea54-5978-455b-a4f9-09429415788a\"}, {\"attributes\": {\"line_color\": {\"value\": \"Orange\"}, \"x\": {\"field\": \"x\"}, \"y\": {\"field\": \"y\"}, \"fill_color\": {\"value\": \"Orange\"}, \"size\": {\"units\": \"screen\", \"value\": 10}}, \"type\": \"Circle\", \"id\": \"eeed796b-15d6-4979-8afc-fc38f95bcac5\"}, {\"attributes\": {\"plot\": {\"subtype\": \"Chart\", \"type\": \"Plot\", \"id\": \"e59893f9-8bc1-4787-ac60-6aa6949e5c49\"}}, \"type\": \"WheelZoomTool\", \"id\": \"ae920b65-7325-4bd5-98c1-4b6345d8851d\"}, {\"attributes\": {}, \"type\": \"BasicTickFormatter\", \"id\": \"518fa76e-c00b-4235-ac63-389c989e3521\"}, {\"attributes\": {\"plot\": {\"subtype\": \"Figure\", \"type\": \"Plot\", \"id\": \"41a91728-e673-4ec9-8195-796dd62a7353\"}}, \"type\": \"ResetTool\", \"id\": \"2134ea0c-690f-4761-8f9f-584e85f3ccff\"}, {\"attributes\": {\"callback\": null, \"end\": 12.16277603264, \"start\": 1.4466890381600002}, \"type\": \"Range1d\", \"id\": \"f506582b-1273-4fe3-8900-c623d981d7ca\"}, {\"attributes\": {}, \"type\": \"ToolEvents\", \"id\": \"5195a449-64ab-4f24-9255-d7bc85916fd1\"}, {\"attributes\": {\"nonselection_glyph\": null, \"data_source\": {\"type\": \"ColumnDataSource\", \"id\": \"35052d53-4cca-48cd-b770-68df53160bc0\"}, \"selection_glyph\": null, \"hover_glyph\": null, \"glyph\": {\"type\": \"Circle\", \"id\": \"8a536ecc-5b83-4d09-a17f-4e1234e28383\"}}, \"type\": \"GlyphRenderer\", \"id\": \"2528ec2e-5143-4082-8c5b-51afbc3654c3\"}, {\"attributes\": {\"plot\": {\"subtype\": \"Chart\", \"type\": \"Plot\", \"id\": \"e59893f9-8bc1-4787-ac60-6aa6949e5c49\"}, \"overlay\": {\"type\": \"BoxAnnotation\", \"id\": \"c6f06f08-1475-4302-b384-9171cb23260f\"}}, \"type\": \"BoxZoomTool\", \"id\": \"642b25a9-af7e-4421-b404-f902fec0c358\"}, {\"attributes\": {\"plot\": {\"subtype\": \"Figure\", \"type\": \"Plot\", \"id\": \"41a91728-e673-4ec9-8195-796dd62a7353\"}}, \"type\": \"PreviewSaveTool\", \"id\": \"d919cb62-9651-4d0d-b875-f826a1487a59\"}, {\"attributes\": {}, \"type\": \"BasicTicker\", \"id\": \"2bd73a17-35ea-4b28-ac09-53eed203bba1\"}, {\"attributes\": {\"plot\": {\"subtype\": \"Chart\", \"type\": \"Plot\", \"id\": \"e59893f9-8bc1-4787-ac60-6aa6949e5c49\"}, \"axis_label\": \"x\", \"formatter\": {\"type\": \"BasicTickFormatter\", \"id\": \"518fa76e-c00b-4235-ac63-389c989e3521\"}, \"ticker\": {\"type\": \"BasicTicker\", \"id\": \"5b8f9cbb-917f-4165-96d9-fce411ff6f12\"}}, \"type\": \"LinearAxis\", \"id\": \"cba2d7cc-cdd8-4146-b710-f2dadba9bc64\"}, {\"attributes\": {\"plot\": {\"subtype\": \"Figure\", \"type\": \"Plot\", \"id\": \"41a91728-e673-4ec9-8195-796dd62a7353\"}}, \"type\": \"PanTool\", \"id\": \"b037b7a5-c7e8-4acb-bd50-440c37d1b738\"}, {\"attributes\": {\"plot\": {\"subtype\": \"Chart\", \"type\": \"Plot\", \"id\": \"e59893f9-8bc1-4787-ac60-6aa6949e5c49\"}, \"axis_label\": \"y\", \"formatter\": {\"type\": \"BasicTickFormatter\", \"id\": \"9c45ee33-4f53-452b-b946-d9aa3632a62e\"}, \"ticker\": {\"type\": \"BasicTicker\", \"id\": \"2bd73a17-35ea-4b28-ac09-53eed203bba1\"}}, \"type\": \"LinearAxis\", \"id\": \"53b6e20d-437d-4b95-ab8f-262c3235289a\"}, {\"attributes\": {\"plot\": {\"subtype\": \"Chart\", \"type\": \"Plot\", \"id\": \"e59893f9-8bc1-4787-ac60-6aa6949e5c49\"}}, \"type\": \"PanTool\", \"id\": \"e9a4fa35-0f5a-4852-8003-afffaacfa19e\"}, {\"attributes\": {\"plot\": {\"subtype\": \"Figure\", \"type\": \"Plot\", \"id\": \"41a91728-e673-4ec9-8195-796dd62a7353\"}}, \"type\": \"ResizeTool\", \"id\": \"53a1e6b8-3060-4d7c-b1b2-51bc07cb1a16\"}, {\"attributes\": {}, \"type\": \"BasicTickFormatter\", \"id\": \"9c45ee33-4f53-452b-b946-d9aa3632a62e\"}, {\"attributes\": {\"line_color\": {\"value\": \"#1f77b4\"}, \"line_alpha\": {\"value\": 0.1}, \"fill_color\": {\"value\": \"#1f77b4\"}, \"fill_alpha\": {\"value\": 0.1}, \"y\": {\"field\": \"y\"}, \"x\": {\"field\": \"x\"}, \"size\": {\"units\": \"screen\", \"value\": 10}}, \"type\": \"Circle\", \"id\": \"4204e850-4e7d-4df3-9d32-8041ae2f29ba\"}, {\"attributes\": {\"line_color\": {\"value\": \"black\"}, \"line_alpha\": {\"value\": 1.0}, \"render_mode\": \"css\", \"bottom_units\": \"screen\", \"level\": \"overlay\", \"top_units\": \"screen\", \"fill_alpha\": {\"value\": 0.5}, \"plot\": null, \"left_units\": \"screen\", \"line_dash\": [4, 4], \"line_width\": {\"value\": 2}, \"right_units\": \"screen\", \"fill_color\": {\"value\": \"lightgrey\"}}, \"type\": \"BoxAnnotation\", \"id\": \"c6f06f08-1475-4302-b384-9171cb23260f\"}, {\"attributes\": {}, \"type\": \"BasicTicker\", \"id\": \"0e4c4eb9-1e8d-4bb0-9525-7b0250cfccc1\"}, {\"attributes\": {\"plot\": {\"subtype\": \"Figure\", \"type\": \"Plot\", \"id\": \"41a91728-e673-4ec9-8195-796dd62a7353\"}, \"ticker\": {\"type\": \"BasicTicker\", \"id\": \"a29a9739-4828-4ade-b263-42b091654068\"}}, \"type\": \"Grid\", \"id\": \"5fad01e7-8110-47e8-89e1-b4b23a2795cc\"}, {\"attributes\": {\"plot\": {\"subtype\": \"Chart\", \"type\": \"Plot\", \"id\": \"e59893f9-8bc1-4787-ac60-6aa6949e5c49\"}}, \"type\": \"ResizeTool\", \"id\": \"81838f3e-3a33-4b6c-bae3-701751253306\"}, {\"attributes\": {\"x_range\": {\"type\": \"DataRange1d\", \"id\": \"38b7b493-f4a4-4597-b719-1542c1c20970\"}, \"y_range\": {\"type\": \"DataRange1d\", \"id\": \"ebaaea54-5978-455b-a4f9-09429415788a\"}, \"renderers\": [{\"type\": \"LinearAxis\", \"id\": \"a781cff0-f13f-4e95-ac24-95acad946cf6\"}, {\"type\": \"Grid\", \"id\": \"5fad01e7-8110-47e8-89e1-b4b23a2795cc\"}, {\"type\": \"LinearAxis\", \"id\": \"78539cc8-30a3-4819-829e-aa4944308712\"}, {\"type\": \"Grid\", \"id\": \"bbea73b9-f068-4b73-bddc-3b415614f694\"}, {\"type\": \"BoxAnnotation\", \"id\": \"daabc9d2-6ab0-4300-ad55-a73122dd6f5e\"}, {\"type\": \"GlyphRenderer\", \"id\": \"d6f60597-37d8-40e4-ba7e-f4b59c165b4e\"}, {\"type\": \"GlyphRenderer\", \"id\": \"af315903-f36b-4cfe-a218-548df631ef9e\"}], \"below\": [{\"type\": \"LinearAxis\", \"id\": \"a781cff0-f13f-4e95-ac24-95acad946cf6\"}], \"tool_events\": {\"type\": \"ToolEvents\", \"id\": \"50f9490c-10f3-44a3-8004-029850117743\"}, \"tools\": [{\"type\": \"PanTool\", \"id\": \"b037b7a5-c7e8-4acb-bd50-440c37d1b738\"}, {\"type\": \"WheelZoomTool\", \"id\": \"9734ec0d-7a2c-470c-b4da-514f681ef05b\"}, {\"type\": \"BoxZoomTool\", \"id\": \"79ead1b1-e1bd-459a-9095-e66c739289e3\"}, {\"type\": \"PreviewSaveTool\", \"id\": \"d919cb62-9651-4d0d-b875-f826a1487a59\"}, {\"type\": \"ResizeTool\", \"id\": \"53a1e6b8-3060-4d7c-b1b2-51bc07cb1a16\"}, {\"type\": \"ResetTool\", \"id\": \"2134ea0c-690f-4761-8f9f-584e85f3ccff\"}, {\"type\": \"HelpTool\", \"id\": \"021b39bd-d04e-46fe-868a-b0215df3644c\"}], \"left\": [{\"type\": \"LinearAxis\", \"id\": \"78539cc8-30a3-4819-829e-aa4944308712\"}]}, \"type\": \"Plot\", \"id\": \"41a91728-e673-4ec9-8195-796dd62a7353\", \"subtype\": \"Figure\"}]}, \"title\": \"Bokeh Application\"}};\n",
       "            var render_items = [{\"notebook_comms_target\": \"00d34d16-2cf3-453e-aa3b-ea1aba82384d\", \"docid\": \"c6422d55-4177-40a9-8c82-70d5a032c971\", \"elementid\": \"f6447c1a-b5ea-4e83-b824-96e3ef757b05\", \"modelid\": \"41a91728-e673-4ec9-8195-796dd62a7353\"}];\n",
       "            \n",
       "            Bokeh.embed.embed_items(docs_json, render_items);\n",
       "        });\n",
       "      },\n",
       "      function(Bokeh) {\n",
       "      }\n",
       "    ];\n",
       "  \n",
       "    function run_inline_js() {\n",
       "      for (var i = 0; i < inline_js.length; i++) {\n",
       "        inline_js[i](window.Bokeh);\n",
       "      }\n",
       "    }\n",
       "  \n",
       "    if (window._bokeh_is_loading === 0) {\n",
       "      console.log(\"Bokeh: BokehJS loaded, going straight to plotting\");\n",
       "      run_inline_js();\n",
       "    } else {\n",
       "      load_libs(js_urls, function() {\n",
       "        console.log(\"Bokeh: BokehJS plotting callback run at\", now());\n",
       "        run_inline_js();\n",
       "      });\n",
       "    }\n",
       "  }(this));\n",
       "</script>"
      ]
     },
     "metadata": {},
     "output_type": "display_data"
    },
    {
     "data": {
      "text/plain": [
       "<bokeh.io._CommsHandle at 0x7fa3ceb28f50>"
      ]
     },
     "execution_count": 10,
     "metadata": {},
     "output_type": "execute_result"
    }
   ],
   "source": [
    "from bokeh.plotting import figure\n",
    "\n",
    "p = figure()\n",
    "p.circle(x=df_train.x, y= df_train.y, color='Orange', size=10)\n",
    "p.circle(x=df_test.x, y= df_test.y, color='Red', size=10)\n",
    "p.xaxis.axis_label='x'\n",
    "p.xaxis.axis_label='y'\n",
    "show(p)"
   ]
  },
  {
   "cell_type": "markdown",
   "metadata": {},
   "source": [
    "<img src='files/resources/ic_assignment_black_24dp_2x.png' align='left'>Write a function to fit a degree 'n' polynomial regression model to the training data and return the mse on the training and test data. What do you notice about the test error?  Which model is the best?"
   ]
  },
  {
   "cell_type": "code",
   "execution_count": 13,
   "metadata": {
    "collapsed": false
   },
   "outputs": [
    {
     "name": "stdout",
     "output_type": "stream",
     "text": [
      "Degree =  1 Train MSE =   1.41 Test MSE =   3.05\n",
      "Degree =  2 Train MSE =   0.94 Test MSE =   2.07\n",
      "Degree =  3 Train MSE =   0.51 Test MSE =   1.11\n",
      "Degree =  4 Train MSE =   0.46 Test MSE =   1.18\n",
      "Degree =  5 Train MSE =   0.46 Test MSE =   1.23\n",
      "Degree =  6 Train MSE =   0.40 Test MSE =   4.81\n",
      "Degree =  7 Train MSE =   0.32 Test MSE =  30.61\n",
      "Degree =  8 Train MSE =   0.32 Test MSE = 2192.29\n",
      "Degree =  9 Train MSE =   0.00 Test MSE = 5224730.15\n",
      "Degree = 10 Train MSE =   0.00 Test MSE = 23709708.46\n"
     ]
    }
   ],
   "source": [
    "def fitPolynomialRegression(x, y, x_test, y_test, degree=1):    \n",
    "    model = make_pipeline(PolynomialFeatures(degree=degree), LinearRegression())\n",
    "    model.fit(x, y)\n",
    "    return [ mse(y, model.predict(x)), mse(y_test, model.predict(x_test)) ]\n",
    "\n",
    "for degree in range(1,11):\n",
    "    fit = fitPolynomialRegression(df_train.x.reshape(-1,1), df_train.y, df_test.x.reshape(-1,1), df_test.y, degree)\n",
    "    print('Degree = {0:2d} Train MSE = {1:6.2f} Test MSE = {2:6.2f}'\n",
    "          .format(degree, fit[0], fit[1]))"
   ]
  }
 ],
 "metadata": {
  "kernelspec": {
   "display_name": "Python 2",
   "language": "python",
   "name": "python2"
  },
  "language_info": {
   "codemirror_mode": {
    "name": "ipython",
    "version": 2
   },
   "file_extension": ".py",
   "mimetype": "text/x-python",
   "name": "python",
   "nbconvert_exporter": "python",
   "pygments_lexer": "ipython2",
   "version": "2.7.11"
  }
 },
 "nbformat": 4,
 "nbformat_minor": 0
}
