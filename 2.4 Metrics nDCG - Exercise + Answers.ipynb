{
 "cells": [
  {
   "cell_type": "markdown",
   "metadata": {},
   "source": [
    "## 2.4 Metrics - nDCG Exercise\n",
    "\n",
    "Objective of the exercise is to compute the nDCG for two rankings of those documents and determine which is best.\n",
    "\n",
    "First we need some data - the file 'data/query-for-ndcg.csv' contains a set of documents and relevance score for a given query. Here we load the data:"
   ]
  },
  {
   "cell_type": "code",
   "execution_count": 129,
   "metadata": {
    "collapsed": false
   },
   "outputs": [
    {
     "data": {
      "text/html": [
       "<div>\n",
       "<table border=\"1\" class=\"dataframe\">\n",
       "  <thead>\n",
       "    <tr style=\"text-align: right;\">\n",
       "      <th></th>\n",
       "      <th>score</th>\n",
       "      <th>title</th>\n",
       "    </tr>\n",
       "  </thead>\n",
       "  <tbody>\n",
       "    <tr>\n",
       "      <th>0</th>\n",
       "      <td>3.2</td>\n",
       "      <td>new akslen modle flashing safety led bike bicy...</td>\n",
       "    </tr>\n",
       "    <tr>\n",
       "      <th>1</th>\n",
       "      <td>4.4</td>\n",
       "      <td>usb led bike bicycle cycling warning tail rear...</td>\n",
       "    </tr>\n",
       "    <tr>\n",
       "      <th>2</th>\n",
       "      <td>1.5</td>\n",
       "      <td>flash led neon bicycle wheels tire valve dust ...</td>\n",
       "    </tr>\n",
       "    <tr>\n",
       "      <th>3</th>\n",
       "      <td>4.8</td>\n",
       "      <td>black cycling bike bicycle led front head ligh...</td>\n",
       "    </tr>\n",
       "    <tr>\n",
       "      <th>4</th>\n",
       "      <td>4.2</td>\n",
       "      <td>cycling bicycle taillights led safety flashing...</td>\n",
       "    </tr>\n",
       "  </tbody>\n",
       "</table>\n",
       "</div>"
      ],
      "text/plain": [
       "   score                                              title\n",
       "0    3.2  new akslen modle flashing safety led bike bicy...\n",
       "1    4.4  usb led bike bicycle cycling warning tail rear...\n",
       "2    1.5  flash led neon bicycle wheels tire valve dust ...\n",
       "3    4.8  black cycling bike bicycle led front head ligh...\n",
       "4    4.2  cycling bicycle taillights led safety flashing..."
      ]
     },
     "execution_count": 129,
     "metadata": {},
     "output_type": "execute_result"
    }
   ],
   "source": [
    "import pandas as pd\n",
    "\n",
    "df = pd.read_csv('data/query-for-ndcg.csv')\n",
    "df.head()"
   ]
  },
  {
   "cell_type": "markdown",
   "metadata": {},
   "source": [
    "Two different rankers return the documents in two different orders.  We can compute the relevance score vector for each ranker: "
   ]
  },
  {
   "cell_type": "code",
   "execution_count": 130,
   "metadata": {
    "collapsed": false
   },
   "outputs": [],
   "source": [
    "r1 = [ 19, 3, 1, 10, 18, 0, 15, 14, 7, 17, 16, 6, 4, 13,12, 8, 2, 9, 5 ]\n",
    "r2 = [ 19, 3, 1, 10, 18, 0, 8 , 14, 7, 17, 16, 6, 4, 13,12, 15, 2, 9, 5 ]\n",
    "\n",
    "scores1 = df.ix[r1,'score'].values\n",
    "scores2 = df.ix[r2,'score'].values"
   ]
  },
  {
   "cell_type": "markdown",
   "metadata": {},
   "source": [
    "## Computing nDCG\n",
    "\n",
    "<img src='files/resources/ic_assignment_black_24dp_2x.png' align='left'>Write a function to compute nDCG.  The function should take a single parameter which is the list of relevance scores.  \n",
    "Compute nDCG for the csore vectors scores1 and scores2.\n",
    "\n",
    "If the items returned by the ranker had relevance scores (5.0,4.1,4.0,2.3,1.0) we should be able to call the ndcg() function in in this manner `ndcg([5.0, 4.1, 4.0, 2.3, 1.0])`.\n"
   ]
  },
  {
   "cell_type": "code",
   "execution_count": 126,
   "metadata": {
    "collapsed": false
   },
   "outputs": [
    {
     "name": "stdout",
     "output_type": "stream",
     "text": [
      "0.966896361402\n",
      "0.980459274646\n"
     ]
    }
   ],
   "source": [
    "import math\n",
    "\n",
    "def dcg(scores):\n",
    "    dcg = 0\n",
    "    for i,s in enumerate(scores):\n",
    "        dcg += scores[i] / math.log(i + 2,2)\n",
    "    return dcg\n",
    "\n",
    "def ndcg(scores):\n",
    "    return dcg(scores) / dcg(sorted(scores, reverse=True))\n"
   ]
  },
  {
   "cell_type": "markdown",
   "metadata": {},
   "source": [
    "Compute nDCG for R1 and R2:"
   ]
  },
  {
   "cell_type": "code",
   "execution_count": 128,
   "metadata": {
    "collapsed": false
   },
   "outputs": [
    {
     "name": "stdout",
     "output_type": "stream",
     "text": [
      "nDCG R1 =   0.97\n",
      "nDCG R1 =   0.98\n"
     ]
    }
   ],
   "source": [
    "ndcg_r1 = ndcg(scores1)\n",
    "ndcg_r2 = ndcg(scores2)\n",
    "\n",
    "print('nDCG R1 = {0:6.2f}'.format(ndcg_r1))\n",
    "print('nDCG R1 = {0:6.2f}'.format(ndcg_r2))"
   ]
  },
  {
   "cell_type": "markdown",
   "metadata": {},
   "source": [
    "If everything worked then you should have got an nDCG score of 0.97 for R1 and 0.98 for R2.  "
   ]
  }
 ],
 "metadata": {
  "kernelspec": {
   "display_name": "Python 2",
   "language": "python",
   "name": "python2"
  },
  "language_info": {
   "codemirror_mode": {
    "name": "ipython",
    "version": 2
   },
   "file_extension": ".py",
   "mimetype": "text/x-python",
   "name": "python",
   "nbconvert_exporter": "python",
   "pygments_lexer": "ipython2",
   "version": "2.7.11"
  }
 },
 "nbformat": 4,
 "nbformat_minor": 0
}
