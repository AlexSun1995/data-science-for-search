{
 "cells": [
  {
   "cell_type": "markdown",
   "metadata": {},
   "source": [
    "## 2.7 Machine Learning for Ranking - Spark MLLIB\n",
    "\n",
    "<img src='files/resources/spark-logo-hd.png' align='left'>"
   ]
  },
  {
   "cell_type": "markdown",
   "metadata": {},
   "source": [
    "We saw Spark on Day 1 for data processing at scale.  Today we are going to take a quick look at MLLIB.\n",
    "\n",
    "First we need to get a spark context:"
   ]
  },
  {
   "cell_type": "code",
   "execution_count": 1,
   "metadata": {
    "collapsed": false
   },
   "outputs": [],
   "source": [
    "import findspark\n",
    "import os\n",
    "findspark.init(os.getenv('HOME') + '/spark-1.6.0-bin-hadoop2.6')\n",
    "os.environ['PYSPARK_SUBMIT_ARGS'] = '--packages com.databricks:spark-csv_2.10:1.3.0 pyspark-shell'"
   ]
  },
  {
   "cell_type": "code",
   "execution_count": 2,
   "metadata": {
    "collapsed": false
   },
   "outputs": [
    {
     "name": "stdout",
     "output_type": "stream",
     "text": [
      "<pyspark.context.SparkContext object at 0x7fdc0c6212d0>\n"
     ]
    }
   ],
   "source": [
    "import pyspark\n",
    "try: \n",
    "    print(sc)\n",
    "except NameError:\n",
    "    sc = pyspark.SparkContext()\n",
    "    print(sc)"
   ]
  },
  {
   "cell_type": "markdown",
   "metadata": {},
   "source": [
    "We use the csv reader to load the data from earlier into a Spark DataFrame:"
   ]
  },
  {
   "cell_type": "code",
   "execution_count": 3,
   "metadata": {
    "collapsed": false
   },
   "outputs": [
    {
     "data": {
      "text/plain": [
       "DataFrame[key: int, query: string, Title: string, LeafCats: string, ItemID: int, X_unit_id: int, SCORE: string, label_relevanceGrade: int, label_relevanceBinary: double, feature_1: double, feature_2: double, feature_3: double, feature_4: double, feature_5: double, feature_6: double, feature_7: double, feature_8: double, feature_9: int, feature_10: double]"
      ]
     },
     "execution_count": 3,
     "metadata": {},
     "output_type": "execute_result"
    }
   ],
   "source": [
    "from pyspark.sql import SQLContext\n",
    "import os\n",
    "\n",
    "sqlContext = SQLContext(sc)\n",
    "df = sqlContext.read.format('com.databricks.spark.csv').options() \\\n",
    "        .options(header='true', inferSchema='true', delimiter=',') \\\n",
    "        .load(os.getcwd() + '/data/data_balanced.csv') \n",
    "        \n",
    "df.schema\n",
    "df.dropna()"
   ]
  },
  {
   "cell_type": "markdown",
   "metadata": {},
   "source": [
    "Now we can extract the features and the target for the machine learning algorithms:"
   ]
  },
  {
   "cell_type": "code",
   "execution_count": 27,
   "metadata": {
    "collapsed": false
   },
   "outputs": [],
   "source": [
    "sqlContext.registerDataFrameAsTable(df,'dataset')\n",
    "sqlContext.tableNames()\n",
    "\n",
    "data_full = sqlContext.sql(\"select label_relevanceBinary, feature_1, feature_2, feature_3, feature_4 \\\n",
    "                       feature_5, feature_6, feature_7, feature_8, feature_9, feature_10 \\\n",
    "               from dataset\").rdd"
   ]
  },
  {
   "cell_type": "markdown",
   "metadata": {},
   "source": [
    "We have to work pretty hard to get the data ready for MLLIB.  We apply a `StandardScaler()` to standardise the data.  \n",
    "\n",
    "There is a bit of jostling to get the DataFrame into an RDD and then back into an RDD of LabeledPoints:"
   ]
  },
  {
   "cell_type": "code",
   "execution_count": 30,
   "metadata": {
    "collapsed": false
   },
   "outputs": [
    {
     "data": {
      "text/plain": [
       "[LabeledPoint(0.0, [3.2387300086,0.0,-6.60489559286,-5.50047933656,1.23398964824,0.0,0.0,3.3855297815,-2.06632619799]),\n",
       " LabeledPoint(0.0, [1.45057308082,2.00321832209,-6.57299970845,-5.32406174515,0.09470938613,0.00117524594638,-1.93134360958,5.12665938341,0.023928989607]),\n",
       " LabeledPoint(0.0, [0.705616371946,2.00321832209,-5.31114724493,-4.41307798391,0.0,1.08739179172,0.203299022375,5.15084173899,-0.0103003575681]),\n",
       " LabeledPoint(0.0, [2.59385456766,2.00321832209,-10.698396655,-4.69578028733,0.848444319911,0.00979070276873,0.0675294293089,3.31298271475,-2.06632619799]),\n",
       " LabeledPoint(0.0, [3.2387300086,0.0,-7.848391211,-4.31833981006,0.374249007948,0.0,0.0,4.30445929362,-2.06632619799])]"
      ]
     },
     "execution_count": 30,
     "metadata": {},
     "output_type": "execute_result"
    }
   ],
   "source": [
    "from pyspark.mllib.classification import SVMWithSGD, SVMModel\n",
    "from pyspark.mllib.regression import LabeledPoint\n",
    "from pyspark.mllib.feature import StandardScaler\n",
    "\n",
    "label = data_full.map(lambda row: row[0])\n",
    "features = data_full.map(lambda row: row[1:])\n",
    "\n",
    "model = StandardScaler().fit(features)\n",
    "features_transform = model.transform(features)\n",
    "\n",
    "# Now combine and convert back to labelled points:\n",
    "transformedData = label.zip(features_transform)\n",
    "transformedData = transformedData.map(lambda row: LabeledPoint(row[0],[row[1]]))\n",
    "\n",
    "transformedData.take(5)"
   ]
  },
  {
   "cell_type": "markdown",
   "metadata": {},
   "source": [
    "We also split the data into test and validation data sets - splitting 75%:25% between the training and test sets:"
   ]
  },
  {
   "cell_type": "code",
   "execution_count": 40,
   "metadata": {
    "collapsed": false
   },
   "outputs": [
    {
     "name": "stdout",
     "output_type": "stream",
     "text": [
      "Training data records = 14977\n",
      "Training data records = 5023\n"
     ]
    }
   ],
   "source": [
    "data_train, data_test = transformedData.randomSplit([.75,.25],seed=1973)\n",
    "\n",
    "print('Training data records = ' + str(data_train.count()))\n",
    "print('Training data records = ' + str(data_test.count()))"
   ]
  },
  {
   "cell_type": "markdown",
   "metadata": {},
   "source": [
    "## Support Vector Machine"
   ]
  },
  {
   "cell_type": "code",
   "execution_count": 41,
   "metadata": {
    "collapsed": false
   },
   "outputs": [],
   "source": [
    "model = SVMWithSGD.train(data_train, iterations=100)"
   ]
  },
  {
   "cell_type": "code",
   "execution_count": 42,
   "metadata": {
    "collapsed": false
   },
   "outputs": [
    {
     "data": {
      "text/plain": [
       "(weights=[0.722869566986,0.793625177911,0.197281899878,0.723098005828,0.884004348317,0.260247880808,-0.119935774873,-0.147394050516,0.0753756727842], intercept=0.0)"
      ]
     },
     "execution_count": 42,
     "metadata": {},
     "output_type": "execute_result"
    }
   ],
   "source": [
    "model"
   ]
  },
  {
   "cell_type": "code",
   "execution_count": 43,
   "metadata": {
    "collapsed": false
   },
   "outputs": [
    {
     "name": "stdout",
     "output_type": "stream",
     "text": [
      "Accuracy = 0.619749153892\n"
     ]
    }
   ],
   "source": [
    "preds = data_test.map(lambda row: (model.predict(row.features[0]),row.label))\n",
    "err = preds.filter(lambda (v, p): v != p).count() / float(data_test.count())\n",
    "print(\"Accuracy = \" + str(1-err))"
   ]
  },
  {
   "cell_type": "markdown",
   "metadata": {},
   "source": [
    "## Random Forest"
   ]
  },
  {
   "cell_type": "code",
   "execution_count": 28,
   "metadata": {
    "collapsed": false
   },
   "outputs": [],
   "source": [
    "from pyspark.mllib.tree import RandomForest\n",
    "\n",
    "model = RandomForest.trainClassifier(data_train, numClasses=2, categoricalFeaturesInfo={},\n",
    "                                     numTrees=400, featureSubsetStrategy=\"auto\",\n",
    "                                     impurity='gini', maxDepth=10, maxBins=32)"
   ]
  },
  {
   "cell_type": "code",
   "execution_count": 29,
   "metadata": {
    "collapsed": false
   },
   "outputs": [
    {
     "name": "stdout",
     "output_type": "stream",
     "text": [
      "Accuracy = 0.684252438782\n"
     ]
    }
   ],
   "source": [
    "predictions = model.predict(data_test.map(lambda x: x.features))\n",
    "labelsAndPredictions = data_test.map(lambda lp: lp.label).zip(predictions)\n",
    "err = labelsAndPredictions.filter(lambda (v, p): v != p).count() / float(data_test.count())\n",
    "print(\"Accuracy = \" + str(1-err))"
   ]
  },
  {
   "cell_type": "markdown",
   "metadata": {},
   "source": [
    "## Where next?\n",
    "\n",
    "Loads of examples on the [MLLIB website](http://spark.apache.org/docs/latest/mllib-guide.html)."
   ]
  }
 ],
 "metadata": {
  "kernelspec": {
   "display_name": "Python 2",
   "language": "python",
   "name": "python2"
  },
  "language_info": {
   "codemirror_mode": {
    "name": "ipython",
    "version": 2
   },
   "file_extension": ".py",
   "mimetype": "text/x-python",
   "name": "python",
   "nbconvert_exporter": "python",
   "pygments_lexer": "ipython2",
   "version": "2.7.11"
  }
 },
 "nbformat": 4,
 "nbformat_minor": 0
}
