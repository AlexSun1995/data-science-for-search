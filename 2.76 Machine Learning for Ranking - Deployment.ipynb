{
 "cells": [
  {
   "cell_type": "markdown",
   "metadata": {},
   "source": [
    "## Machine Learning for Ranking - Deployment\n",
    "\n",
    "During day 1 we saw how to build an inverted index to efficiently generate a recall set of documents. We then ranked documents using term frequency, inverse document frequency and BM25.0.  \n",
    "\n",
    "Today we have looked at building machine learning algorithms for ranking.  This notebook shows how we use the machine learnt models in a search engine.  We \"deploy\" one of the models we created."
   ]
  },
  {
   "cell_type": "code",
   "execution_count": 1,
   "metadata": {
    "collapsed": true
   },
   "outputs": [],
   "source": [
    "import os \n",
    "import pandas as pd"
   ]
  },
  {
   "cell_type": "code",
   "execution_count": 2,
   "metadata": {
    "collapsed": false
   },
   "outputs": [],
   "source": [
    "data = pd.read_csv(\"data/bike-queries-scraped.tsv\", sep=\"\\t\",header=0)\n",
    "data = data.dropna()"
   ]
  },
  {
   "cell_type": "code",
   "execution_count": 3,
   "metadata": {
    "collapsed": false
   },
   "outputs": [
    {
     "data": {
      "text/plain": [
       "Index([u'query', u'Score', u'ItemID', u'feature_2', u'feature_3', u'feature_4',\n",
       "       u'feature_5', u'feature_6', u'feature_7', u'feature_8', u'feature_9',\n",
       "       u'feature_1', u'LeafCats', u'Title', u'feature_10'],\n",
       "      dtype='object')"
      ]
     },
     "execution_count": 3,
     "metadata": {},
     "output_type": "execute_result"
    }
   ],
   "source": [
    "data.columns"
   ]
  },
  {
   "cell_type": "code",
   "execution_count": 4,
   "metadata": {
    "collapsed": false
   },
   "outputs": [
    {
     "data": {
      "text/html": [
       "<div>\n",
       "<table border=\"1\" class=\"dataframe\">\n",
       "  <thead>\n",
       "    <tr style=\"text-align: right;\">\n",
       "      <th></th>\n",
       "      <th>query</th>\n",
       "      <th>Title</th>\n",
       "    </tr>\n",
       "  </thead>\n",
       "  <tbody>\n",
       "    <tr>\n",
       "      <th>0</th>\n",
       "      <td>bike</td>\n",
       "      <td>BIKE 1\" Swimmer Jock Strap / Jogging Jockstrap...</td>\n",
       "    </tr>\n",
       "    <tr>\n",
       "      <th>1</th>\n",
       "      <td>bike</td>\n",
       "      <td>Topeak Super Bicycle Chain Tool</td>\n",
       "    </tr>\n",
       "    <tr>\n",
       "      <th>2</th>\n",
       "      <td>bike</td>\n",
       "      <td>2008 FUJI FC-770 18 Speed Men Bicycle 56cm Car...</td>\n",
       "    </tr>\n",
       "    <tr>\n",
       "      <th>3</th>\n",
       "      <td>bike</td>\n",
       "      <td>New Black Roko Goggle Quick Straps Release Hel...</td>\n",
       "    </tr>\n",
       "    <tr>\n",
       "      <th>4</th>\n",
       "      <td>bike</td>\n",
       "      <td>Bike &amp; Waterproof Bicycle Motorcycle Mount Hol...</td>\n",
       "    </tr>\n",
       "    <tr>\n",
       "      <th>5</th>\n",
       "      <td>bike</td>\n",
       "      <td>Carbon Fiber MTB Road Mountain Bike Bicycle fl...</td>\n",
       "    </tr>\n",
       "    <tr>\n",
       "      <th>6</th>\n",
       "      <td>bike</td>\n",
       "      <td>PRADA MEN'S SHOES NYLON TRAINERS SNEAKERS NEW ...</td>\n",
       "    </tr>\n",
       "    <tr>\n",
       "      <th>7</th>\n",
       "      <td>bike</td>\n",
       "      <td>Kids Adult Protect Helmets for Riding Bike Cyc...</td>\n",
       "    </tr>\n",
       "    <tr>\n",
       "      <th>8</th>\n",
       "      <td>bike</td>\n",
       "      <td>Digital Age Sport Cycling Jersey Bike Bicycle ...</td>\n",
       "    </tr>\n",
       "    <tr>\n",
       "      <th>9</th>\n",
       "      <td>bike</td>\n",
       "      <td>Carbon MTB Road Mountain Bike Bicycle rise Han...</td>\n",
       "    </tr>\n",
       "    <tr>\n",
       "      <th>10</th>\n",
       "      <td>bike</td>\n",
       "      <td>Marvel Superhero Avenger Comics Costume Cyclin...</td>\n",
       "    </tr>\n",
       "    <tr>\n",
       "      <th>11</th>\n",
       "      <td>bike</td>\n",
       "      <td>Swim.Bike.Run. Training Gym Triathalon T-shirt...</td>\n",
       "    </tr>\n",
       "    <tr>\n",
       "      <th>12</th>\n",
       "      <td>bike</td>\n",
       "      <td>Apico MX Motocross Bike Throttle Cable - Honda...</td>\n",
       "    </tr>\n",
       "    <tr>\n",
       "      <th>13</th>\n",
       "      <td>bike</td>\n",
       "      <td>Gaerne `14 SG-12 Motocross Dirt Bike Motorcycl...</td>\n",
       "    </tr>\n",
       "    <tr>\n",
       "      <th>14</th>\n",
       "      <td>bike</td>\n",
       "      <td>New 1 Pair of Black Mountain Bicycle Bike Cycl...</td>\n",
       "    </tr>\n",
       "    <tr>\n",
       "      <th>15</th>\n",
       "      <td>bike</td>\n",
       "      <td>**6-Pack** of Motorized Bicycle MAGNETOS - Fit...</td>\n",
       "    </tr>\n",
       "    <tr>\n",
       "      <th>16</th>\n",
       "      <td>bike</td>\n",
       "      <td>2 x pcs Bicycle Bike Brake Cable Adjuster Scre...</td>\n",
       "    </tr>\n",
       "    <tr>\n",
       "      <th>17</th>\n",
       "      <td>bike</td>\n",
       "      <td>SUNDAY SPARK BMX BIKE</td>\n",
       "    </tr>\n",
       "    <tr>\n",
       "      <th>18</th>\n",
       "      <td>bike</td>\n",
       "      <td>Women's Winter Riding Cycling Bike Bicycle 3D ...</td>\n",
       "    </tr>\n",
       "    <tr>\n",
       "      <th>19</th>\n",
       "      <td>bike</td>\n",
       "      <td>Cycling Bike Bicycle Short Sleeve Set Men 3D P...</td>\n",
       "    </tr>\n",
       "  </tbody>\n",
       "</table>\n",
       "</div>"
      ],
      "text/plain": [
       "   query                                              Title\n",
       "0   bike  BIKE 1\" Swimmer Jock Strap / Jogging Jockstrap...\n",
       "1   bike                    Topeak Super Bicycle Chain Tool\n",
       "2   bike  2008 FUJI FC-770 18 Speed Men Bicycle 56cm Car...\n",
       "3   bike  New Black Roko Goggle Quick Straps Release Hel...\n",
       "4   bike  Bike & Waterproof Bicycle Motorcycle Mount Hol...\n",
       "5   bike  Carbon Fiber MTB Road Mountain Bike Bicycle fl...\n",
       "6   bike  PRADA MEN'S SHOES NYLON TRAINERS SNEAKERS NEW ...\n",
       "7   bike  Kids Adult Protect Helmets for Riding Bike Cyc...\n",
       "8   bike  Digital Age Sport Cycling Jersey Bike Bicycle ...\n",
       "9   bike  Carbon MTB Road Mountain Bike Bicycle rise Han...\n",
       "10  bike  Marvel Superhero Avenger Comics Costume Cyclin...\n",
       "11  bike  Swim.Bike.Run. Training Gym Triathalon T-shirt...\n",
       "12  bike  Apico MX Motocross Bike Throttle Cable - Honda...\n",
       "13  bike  Gaerne `14 SG-12 Motocross Dirt Bike Motorcycl...\n",
       "14  bike  New 1 Pair of Black Mountain Bicycle Bike Cycl...\n",
       "15  bike  **6-Pack** of Motorized Bicycle MAGNETOS - Fit...\n",
       "16  bike  2 x pcs Bicycle Bike Brake Cable Adjuster Scre...\n",
       "17  bike                              SUNDAY SPARK BMX BIKE\n",
       "18  bike  Women's Winter Riding Cycling Bike Bicycle 3D ...\n",
       "19  bike  Cycling Bike Bicycle Short Sleeve Set Men 3D P..."
      ]
     },
     "execution_count": 4,
     "metadata": {},
     "output_type": "execute_result"
    }
   ],
   "source": [
    "data[['query','Title']].head(n=20)"
   ]
  },
  {
   "cell_type": "markdown",
   "metadata": {},
   "source": [
    "We have the following unique queries:"
   ]
  },
  {
   "cell_type": "code",
   "execution_count": 5,
   "metadata": {
    "collapsed": false
   },
   "outputs": [
    {
     "data": {
      "text/plain": [
       "array(['bike', 'bicycle', 'mens red bicycle', 'led bike light',\n",
       "       'trek 7.2 hybrid', 'bike seat', 'spoke light',\n",
       "       'shimano rear derailleur', 'unicycle', 'tricycle'], dtype=object)"
      ]
     },
     "execution_count": 5,
     "metadata": {},
     "output_type": "execute_result"
    }
   ],
   "source": [
    "data['query'].unique()"
   ]
  },
  {
   "cell_type": "markdown",
   "metadata": {},
   "source": [
    "## Build inverted index\n",
    "\n",
    "Before we can build an inverted index we need to tokenize the item Titles:"
   ]
  },
  {
   "cell_type": "code",
   "execution_count": 7,
   "metadata": {
    "collapsed": false
   },
   "outputs": [
    {
     "data": {
      "text/plain": [
       "['bike swimmer jock strap jogging jockstrap waistband uk freepost',\n",
       " 'topeak super bicycle chain tool',\n",
       " 'fuji fc speed men bicycle carbon aluminum no suspension',\n",
       " 'new black roko goggle quick straps release helmet dirt bike atv mx smith scott',\n",
       " 'bike waterproof bicycle motorcycle mount holder for nokia nok lumia phones new']"
      ]
     },
     "execution_count": 7,
     "metadata": {},
     "output_type": "execute_result"
    }
   ],
   "source": [
    "import re\n",
    "\n",
    "rgx = re.compile(r'\\b[a-zA-Z]+\\b')\n",
    "corpus = [ ' '.join(re.findall(rgx, str(x))).lower() for x in data.Title]\n",
    "corpus[0:5]"
   ]
  },
  {
   "cell_type": "markdown",
   "metadata": {},
   "source": [
    "Our inverted index for offline evaluation of the Machine Learnt Ranker is going to be different to the inverted index we built in Day 1.  The original inverted index was built exclusively using the corpus of item titles.  The inverted index we require for offline testing is extended in the following ways:\n",
    "     \n",
    "*  For offline testing we need to create a document index for each query term in our query-item data set.  We can only test against this 'Golden Set' of queries.  For offline evaluation of the MLR model we are working with a dataset that we scraped from the eBay search engine.  The data includes the query term and the items returned against that query.  The dataset also includes the input features we previously used to train the MLR model. In an online search engine the feature vector would be computed in real time for any query. \n",
    "*  When we trained our MLR model we scaled the features to have 0 mean and unit standard deviations.  Before we can apply the MLR model test index we need to make sure the features are normalised using the same range.  That is why the scaling parameters were serialised previously.  In an online search engine this normalisation would be done in realtime. \n",
    "\n",
    "Now we can use the index to generate a recall set for a small set of queries - all that is left is to score the documents using the model. \n",
    "\n",
    "First we scale the features:"
   ]
  },
  {
   "cell_type": "code",
   "execution_count": 8,
   "metadata": {
    "collapsed": false
   },
   "outputs": [],
   "source": [
    "from sklearn.externals import joblib\n",
    "data.columns\n",
    "features = data[['feature_1','feature_2','feature_3','feature_4','feature_5',\n",
    "                 'feature_6','feature_7','feature_8','feature_9','feature_10']]\n",
    "scaler = joblib.load('models/scaler.pkl')\n",
    "features = scaler.transform(features)\n",
    "queries = data['query']"
   ]
  },
  {
   "cell_type": "markdown",
   "metadata": {},
   "source": [
    "Now we create our index for each query.  In addition we store the feature vector for each document in the index:"
   ]
  },
  {
   "cell_type": "code",
   "execution_count": 11,
   "metadata": {
    "collapsed": false
   },
   "outputs": [],
   "source": [
    "def create_inverted_index_mlr(corpus, queries, features):\n",
    "    idx={}\n",
    "    for i, doc in enumerate(corpus):\n",
    "        query = queries[i]\n",
    "        feature = features[i]\n",
    "        if query not in idx:\n",
    "            idx[query] = {}\n",
    "            \n",
    "        for word in doc.split():\n",
    "            if word in idx[query]:\n",
    "                idx[query][word][i] = feature\n",
    "            else:\n",
    "                idx[query][word] = {i:feature}\n",
    "                \n",
    "    return idx\n",
    "\n",
    "# queries = ['bike','bike','bike helmet','bike helmet']\n",
    "# corpus = ['sunday bike','bike light led','motorcycle helmet','blue helmet']\n",
    "# features = [(1,2,3), (4,5,6), (2,4,6), (3,6,9)]\n",
    "\n",
    "idxq = create_inverted_index_mlr(corpus, queries, features)"
   ]
  },
  {
   "cell_type": "markdown",
   "metadata": {},
   "source": [
    "We can also load the model - in this case it was boosted gradient tree:"
   ]
  },
  {
   "cell_type": "code",
   "execution_count": 12,
   "metadata": {
    "collapsed": false
   },
   "outputs": [],
   "source": [
    "clf = joblib.load('models/mlr.pkl')"
   ]
  },
  {
   "cell_type": "code",
   "execution_count": 31,
   "metadata": {
    "collapsed": false
   },
   "outputs": [
    {
     "name": "stdout",
     "output_type": "stream",
     "text": [
      "\n",
      "Top 10 from recall set of 50 items:\n",
      "\t0.9999946067 - cycling bicycle led solar energy usb rechargeable bike headlight lamp\n",
      "\t0.9999302850 - led waterproof flexible strip car bike light lamp bulb blue red green warm white\n",
      "\t0.9998667451 - lumen cree xm usb rechargeable led bike bicycle headlight headlamp light\n",
      "\t0.9998652580 - new laser beam led bike bicycle cycling rear tail light lamp modes\n",
      "\t0.9993209796 - night ride blue lights bicycle bike cycling wheel tire spoke led light lamp mt\n",
      "\t0.9959341931 - red waterproof silicone bike bicycle cycle cycling rear led light\n",
      "\t0.9954208404 - rechargeable cree led front bicycle lamp bike light charger\n",
      "\t0.9949913775 - bike bicycle blue silicone led rear frog light safety warning tail lamp\n",
      "\t0.9930440450 - led lamp flash tyre wheel valve cap light for car bike bicycle motorbicycle\n",
      "\t0.9904830402 - gold a cree led front bicycle light bike headlamp headlight kit\n",
      "\n",
      "Bottom 10 from recall set of 50 items:\n",
      "\t0.0017743213 - elastic rubber o rings for headlamp light mtb bike bicycle led light best\n",
      "\t0.0004777810 - motorcycle bike leds turn signal light lamp bulb yellow dc\n",
      "\t0.0004454806 - harbor freight red led bicycle taillight brand new\n",
      "\t0.0003043016 - motorcycle led tail brake running light license plate holder dirt bike chopper\n",
      "\t0.0001368059 - new road bicycle bike cycling rear tail led safety warning lights\n",
      "\t0.0000996071 - mini led turn signal lights for kawasaki coyote mini trail bike\n",
      "\t0.0000764798 - pair bicycle bike flash led wheel fashion front rear wheel caps light lamp\n",
      "\t0.0000334032 - cree xml led zoomable flashlight torch lamp light bike mount clip\n",
      "\t0.0000002866 - offroad led cree led work light flood beam driving bike truck suv\n",
      "\t0.0000000264 - new akslen modle flashing safety led bike bicycle rear tail light tl\n"
     ]
    }
   ],
   "source": [
    "from collections import Counter\n",
    "import itertools\n",
    "\n",
    "def get_results_mlr(qry, idxq, model):\n",
    "    score = Counter()\n",
    "    \n",
    "    if (qry in idxq):\n",
    "        idx = idxq[qry]\n",
    "        for term in qry.split():\n",
    "            for doc, features in idx[term].iteritems():\n",
    "                # Compute item-query and query level features\n",
    "                score[doc] = model.predict_proba(features.reshape(1,-1))[0][1]\n",
    "\n",
    "    results=[]\n",
    "    for x in [[r[0],r[1]] for r in zip(score.keys(), score.values())]:\n",
    "        if x[1] > 0:\n",
    "            # output [0] score, [1] doc_id\n",
    "            results.append([x[1],x[0]])\n",
    "\n",
    "    sorted_results = sorted(results, key=lambda t: t[0] * -1 )\n",
    "    return sorted_results;\n",
    "\n",
    "def print_results(corpus, results,n, head=True):\n",
    "    ''' Helper function to print results\n",
    "    '''\n",
    "    if head:    \n",
    "        print('\\nTop %d from recall set of %d items:' % (n,len(results)))\n",
    "        for r in results[:n]:\n",
    "            print('\\t%0.10f - %s'%(r[0],corpus[r[1]]))\n",
    "    else:\n",
    "        print('\\nBottom %d from recall set of %d items:' % (n,len(results)))\n",
    "        for r in results[-n:]:\n",
    "            print('\\t%0.10f - %s'%(r[0],corpus[r[1]]))\n",
    "            \n",
    "    \n",
    "    \n",
    "results = get_results_mlr('led bike light', idxq, clf)\n",
    "print_results(corpus, results,10)\n",
    "print_results(corpus, results,10,head=False)\n"
   ]
  },
  {
   "cell_type": "code",
   "execution_count": 43,
   "metadata": {
    "collapsed": false
   },
   "outputs": [
    {
     "name": "stdout",
     "output_type": "stream",
     "text": [
      "\n",
      "Top 10 from recall set of 47 items:\n",
      "\t0.9989410966 - tricycle trike kids red radio flyer dual deck bike play outdoor ride adjustable\n",
      "\t0.9435015487 - trike red radio flyer stroller kids toddler tricycle bike ride infant toy\n",
      "\t0.8970217776 - tricycle pick your ride cycle dvd tricycle pick your ride cycle\n",
      "\t0.7006430107 - tricycle patent print green chalkboard\n",
      "\t0.5339988355 - real photo postcard children sister brother on tricycle los angeles ca\n",
      "\t0.3798914381 - antique vintage photo little girl on trike tricycle\n",
      "\t0.1077623580 - kick it old school funny retro tricycle graphic t shirt\n",
      "\t0.0762950473 - boy on tricycle vinyl sticker wall art\n",
      "\t0.0225111446 - advert gendron motor bike bicycle tricycle streamline race cycle motorcycle\n",
      "\t0.0136251418 - vintage s tricycle photos funny little blonde girl riding her trike\n",
      "\n",
      "Bottom 10 from recall set of 47 items:\n",
      "\t0.0000012753 - rear wheel for trike tricycle black tire white mag vintage inch od mm id\n",
      "\t0.0000012731 - vintage gay nineties tricycle salt pepper shaker set gold plated caps\n",
      "\t0.0000007724 - tricycle hollow hub bearing for shaft beach cruiser low rider bicycle trike\n",
      "\t0.0000006347 - mini tricycle vintage bike wood metal bicycle decor\n",
      "\t0.0000004962 - hungary stampday early postman motorized tricycle mnh\n",
      "\t0.0000003147 - railway tricycle patent print black matte in a deep black wood frame\n",
      "\t0.0000000820 - australian co broken tricycle organic cotton windmill blue shirt\n",
      "\t0.0000000678 - john deere tricycle tractor original jd left brake pedal\n",
      "\t0.0000000052 - steam tricycle patent print black matte in a rustic oak wood frame\n",
      "\t0.0000000020 - new howe glasgow vintage bicycle tricycle penny farthing hex spanner on\n"
     ]
    }
   ],
   "source": [
    "results = get_results_mlr('tricycle', idxq, clf)\n",
    "print_results(corpus, results,10)\n",
    "print_results(corpus, results,10,head=False)"
   ]
  },
  {
   "cell_type": "markdown",
   "metadata": {},
   "source": [
    "Let's also implement BM25 on this query corpus for comparison:"
   ]
  },
  {
   "cell_type": "code",
   "execution_count": 38,
   "metadata": {
    "collapsed": false
   },
   "outputs": [],
   "source": [
    "import math\n",
    "import pdb\n",
    "\n",
    "def idf(term, idx, n):\n",
    "    return math.log( float(n) / (1 + len(idx[term])))    \n",
    "\n",
    "def create_inverted_index_bm25(corpus):\n",
    "    idx={}\n",
    "    for i, doc in enumerate(corpus):\n",
    "        for word in doc.split():\n",
    "            if word in idx:\n",
    "                if i in idx[word]:\n",
    "                    # Update document's frequency\n",
    "                    idx[word][i] += 1\n",
    "                else:\n",
    "                    # Add document\n",
    "                    idx[word][i] = 1\n",
    "            else:\n",
    "                # Add term\n",
    "                idx[word] = {i:1}\n",
    "    return idx\n",
    "\n",
    "def get_results_bm25(qry, corpus, k1=1.5, b=0.75):\n",
    "    idx = create_inverted_index_bm25(corpus)\n",
    "    n = len(corpus)\n",
    "    d = [len(x.split()) for x in corpus]\n",
    "    d_avg = float(sum(d)) / len(d)                \n",
    "    score = Counter()\n",
    "    for term in qry.split():\n",
    "        if term in idx:\n",
    "            i = idf(term, idx, n)\n",
    "            for doc in idx[term]:\n",
    "                f = float(idx[term][doc])\n",
    "                s = i * (( f * (k1 + 1) ) / (f + k1 * (1 - b + (b * (float(d[doc]) / d_avg)))))\n",
    "                score[doc] += s\n",
    "                \n",
    "    results=[]\n",
    "    for x in [[r[0],r[1]] for r in zip(score.keys(), score.values())]:\n",
    "        if x[1] > 0:\n",
    "            results.append([x[1],x[0]])\n",
    "\n",
    "    sorted_results = sorted(results, key=lambda t: t[0] * -1 )\n",
    "    return sorted_results"
   ]
  },
  {
   "cell_type": "code",
   "execution_count": 39,
   "metadata": {
    "collapsed": false
   },
   "outputs": [
    {
     "name": "stdout",
     "output_type": "stream",
     "text": [
      "\n",
      "Top 10 from recall set of 50 items:\n",
      "\t0.5190954638 - waterproof led bicycle bike cycling wheel light flash safe spoke light\n",
      "\t0.4869835585 - elastic rubber o rings for headlamp light mtb bike bicycle led light best\n",
      "\t0.4604563024 - rechargeable cree led front bicycle lamp bike light charger\n",
      "\t0.4411580500 - red waterproof silicone bike bicycle cycle cycling rear led light\n",
      "\t0.4234123521 - griplit led bike handlebar light disc o pack of md glt\n",
      "\t0.4234123521 - bike bicycle cycling silicone white wheel tyre waterproof led light white\n",
      "\t0.4234123521 - led bike bicycle safety tail flashlight waterproof lamp back rear light\n",
      "\t0.4234123521 - bike silicone frog light led front rear firm safety warning lamp\n",
      "\t0.4234123521 - gold a cree led front bicycle light bike headlamp headlight kit\n",
      "\t0.4234123521 - lumen cree led flashlight torch cycling bicycle bike head light mount\n",
      "\n",
      "Bottom 10 from recall set of 50 items:\n",
      "\t0.2201121937 - skull bicycle tire led flash light valve dust cap car motor tyre white qgs\n",
      "\t0.2054825474 - cycling bicycle led solar energy usb rechargeable bike headlight lamp\n",
      "\t0.1972169582 - smoke motorcycle led turn signals indicators blinkers lights for universal bike\n",
      "\t0.1972169582 - cree cycling bicycle led flashlight torch zoom lamp bike mount wt\n",
      "\t0.1972169582 - lumen cree xml led head front bicycle lamp bike headlight battery\n",
      "\t0.1972169582 - new road bicycle bike cycling rear tail led safety warning lights\n",
      "\t0.1972169582 - mini led turn signal lights for kawasaki coyote mini trail bike\n",
      "\t0.0283310086 - x cree xm l led solarstorm led bicycle lamp torch battery pack\n",
      "\t0.0232894888 - cycling bicycle taillights led safety flashing warning lights\n",
      "\t0.0232894888 - harbor freight red led bicycle taillight brand new\n"
     ]
    }
   ],
   "source": [
    "qry = 'led bike light'\n",
    "corpus_q = [ corpus[i] for i, doc in enumerate(corpus) if (queries == qry)[i]]\n",
    "results = get_results_bm25(qry, corpus_q)\n",
    "print_results(corpus_q, results,10)\n",
    "print_results(corpus_q, results,10,head=False)"
   ]
  },
  {
   "cell_type": "code",
   "execution_count": 42,
   "metadata": {
    "collapsed": false
   },
   "outputs": [
    {
     "name": "stdout",
     "output_type": "stream",
     "text": [
      "\n",
      "Top 10 from recall set of 47 items:\n",
      "\t0.0594037897 - blue kent tricycle\n",
      "\t0.0594037897 - water tricycle photo\n",
      "\t0.0561880579 - tricycle pick your ride cycle dvd tricycle pick your ride cycle\n",
      "\t0.0524260540 - tricycle patent print green chalkboard\n",
      "\t0.0524260540 - vintage tricycle collar sidewalk bicycle\n",
      "\t0.0524260540 - angeles myrider space buggy tricycle\n",
      "\t0.0495178040 - wrought iron tricycle planter whatever lol\n",
      "\t0.0469152565 - boy on tricycle vinyl sticker wall art\n",
      "\t0.0469152565 - hungary stampday early postman motorized tricycle mnh\n",
      "\t0.0469152565 - e flite to size tricycle electric retracts\n",
      "\n",
      "Bottom 10 from recall set of 47 items:\n",
      "\t0.0371520927 - dual deck tricycle girl s pink chrome bell classic streamers adjustable outdoor\n",
      "\t0.0371520927 - tricycle hollow hub bearing for shaft beach cruiser low rider bicycle trike\n",
      "\t0.0371520927 - novelty dress it up buttons red fire engine tricycle cement truck dinosaur\n",
      "\t0.0371520927 - railway tricycle patent print white in a honey red oak wood frame\n",
      "\t0.0371520927 - x tire and inner tube combo for tricycle baby stroller free ship\n",
      "\t0.0356675924 - tricycle trike kids red radio flyer dual deck bike play outdoor ride adjustable\n",
      "\t0.0356675924 - limo folding tricycle for years old children fold up trike made in japan\n",
      "\t0.0356675924 - new baby bike safety tricycle foldable training bicycle trike infant ride on toy\n",
      "\t0.0342971675 - rear wheel for trike tricycle black tire white mag vintage inch od mm id\n",
      "\t0.0318497008 - youth kids t shirt girl tricycle when i grow up i ll be a policeman k\n"
     ]
    }
   ],
   "source": [
    "qry = 'tricycle'\n",
    "corpus_q = [ corpus[i] for i, doc in enumerate(corpus) if (queries == qry)[i]]\n",
    "results = get_results_bm25(qry, corpus_q)\n",
    "print_results(corpus_q, results,10)\n",
    "print_results(corpus_q, results,10,head=False)"
   ]
  }
 ],
 "metadata": {
  "kernelspec": {
   "display_name": "Python 2",
   "language": "python",
   "name": "python2"
  },
  "language_info": {
   "codemirror_mode": {
    "name": "ipython",
    "version": 2
   },
   "file_extension": ".py",
   "mimetype": "text/x-python",
   "name": "python",
   "nbconvert_exporter": "python",
   "pygments_lexer": "ipython2",
   "version": "2.7.11"
  }
 },
 "nbformat": 4,
 "nbformat_minor": 0
}
