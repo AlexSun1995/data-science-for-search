{
 "cells": [
  {
   "cell_type": "markdown",
   "metadata": {
    "collapsed": true
   },
   "source": [
    "## 1.4 Introduction to Computation at Scale\n",
    "\n",
    "We are going to use the python [mrjob](https://github.com/Yelp/mrjob) package developed at Yelp.\n",
    "\n",
    "This package allows us to develop and test map reduce jobs locally and when ready deploy them to a hadoop cluster with hadoop streaming enabled.  We are going to use it to run jobs locally.\n",
    "\n",
    "To write a map reduce job we need to implement mapper() and reducer() functions.  The mrjob package takes care of the orchestration of the job.  Here is a first example that will count words in a file.  \n",
    "\n",
    "<img src='files/resources/ic_info_outline_black_24dp_2x.png' align='left'>To edit the file we are using the Jupyter Notebook Cell Magic '%%file'.  \n",
    "The file is written to the file system by the notebook when the cell is run."
   ]
  },
  {
   "cell_type": "code",
   "execution_count": 8,
   "metadata": {
    "collapsed": false
   },
   "outputs": [
    {
     "name": "stdout",
     "output_type": "stream",
     "text": [
      "Overwriting wordcounter.py\n"
     ]
    }
   ],
   "source": [
    "%%file wordcounter.py \n",
    "from mrjob.job import MRJob\n",
    "\n",
    "class MRWordFrequencyCount(MRJob):\n",
    "\n",
    "    def mapper(self, _, value):\n",
    "        yield \"words\", len(value.split())\n",
    "\n",
    "    def reducer(self, key, values):\n",
    "        yield key, sum(values)\n",
    "\n",
    "if __name__ == '__main__':\n",
    "    MRWordFrequencyCount.run()"
   ]
  },
  {
   "cell_type": "markdown",
   "metadata": {},
   "source": [
    "The key points to note:\n",
    "\n",
    "* We inherit from the class MRJob and provide at least one mapper, reducer or combiner method implementation\n",
    "* All python methods take `self` as their first argument - this is normal - not mrjob specific\n",
    "* The mappers will be sent a partition of the input data\n",
    "* The mappers must yield a key value pair - the emitted key value pairs will be sent to reducers - hash function maps the key uniquely to a node\n",
    "* The mappers and reducers are implemented as Python [generators](https://wiki.python.org/moin/Generators) - allowing the function to be used like an iterator\n",
    "* The reducers will receive the key and all the values emitted by the mappers with this key\n",
    "* The reducers must also output key and value pairs\n",
    " \n",
    "<img src='files/resources/ic_info_outline_black_24dp_2x.png' align='left'>The job is scheduled form the command line.  \n",
    "We can access the shell with the Jupyter Notebook line magic '!\"."
   ]
  },
  {
   "cell_type": "code",
   "execution_count": 16,
   "metadata": {
    "collapsed": false
   },
   "outputs": [
    {
     "name": "stdout",
     "output_type": "stream",
     "text": [
      "no configs found; falling back on auto-configuration\n",
      "no configs found; falling back on auto-configuration\n",
      "Traceback (most recent call last):\n",
      "  File \"wordcounter.py\", line 12, in <module>\n",
      "    MRWordFrequencyCount.run()\n",
      "  File \"/home/csumb/anaconda2/lib/python2.7/site-packages/mrjob/job.py\", line 461, in run\n",
      "    mr_job.execute()\n",
      "  File \"/home/csumb/anaconda2/lib/python2.7/site-packages/mrjob/job.py\", line 479, in execute\n",
      "    super(MRJob, self).execute()\n",
      "  File \"/home/csumb/anaconda2/lib/python2.7/site-packages/mrjob/launch.py\", line 153, in execute\n",
      "    self.run_job()\n",
      "  File \"/home/csumb/anaconda2/lib/python2.7/site-packages/mrjob/launch.py\", line 216, in run_job\n",
      "    runner.run()\n",
      "  File \"/home/csumb/anaconda2/lib/python2.7/site-packages/mrjob/runner.py\", line 470, in run\n",
      "    self._run()\n",
      "  File \"/home/csumb/anaconda2/lib/python2.7/site-packages/mrjob/sim.py\", line 164, in _run\n",
      "    _error_on_bad_paths(self.fs, self._input_paths)\n",
      "  File \"/home/csumb/anaconda2/lib/python2.7/site-packages/mrjob/sim.py\", line 549, in _error_on_bad_paths\n",
      "    \"None found in %s\" % paths)\n",
      "ValueError: At least one valid path is required. None found in ['data/bike-item-titles-clean.txt']\n"
     ]
    }
   ],
   "source": [
    "! python wordcounter.py data/bike-item-titles-clean.txt > out.txt"
   ]
  },
  {
   "cell_type": "markdown",
   "metadata": {},
   "source": [
    "The process runs and the output is dumped into the file out.txt.  In this case there is just a single line:"
   ]
  },
  {
   "cell_type": "code",
   "execution_count": 12,
   "metadata": {
    "collapsed": false
   },
   "outputs": [
    {
     "name": "stdout",
     "output_type": "stream",
     "text": [
      "\"words\"\t106980\r\n"
     ]
    }
   ],
   "source": [
    "! cat out.txt"
   ]
  },
  {
   "cell_type": "markdown",
   "metadata": {},
   "source": [
    "Here we have one pass through the file and have computed just the number of words.  We can have more elaborate jobs that compute multiple statistics.  Here we count characters, word and line count - the mapper emits three key value pairs for each line:\n"
   ]
  },
  {
   "cell_type": "code",
   "execution_count": 5,
   "metadata": {
    "collapsed": false
   },
   "outputs": [
    {
     "name": "stdout",
     "output_type": "stream",
     "text": [
      "Overwriting wordcounter.py\n"
     ]
    }
   ],
   "source": [
    "%%file wordcounter.py \n",
    "from mrjob.job import MRJob\n",
    "\n",
    "class MRWordFrequencyCount(MRJob):\n",
    "\n",
    "    def mapper(self, _, value):\n",
    "        yield \"chars\", len(value)\n",
    "        yield \"words\", len(value.split())\n",
    "        yield \"lines\", 1\n",
    "        \n",
    "\n",
    "    def reducer(self, key, values):\n",
    "        yield key, sum(values)\n",
    "\n",
    "if __name__ == '__main__':\n",
    "    MRWordFrequencyCount.run()"
   ]
  },
  {
   "cell_type": "code",
   "execution_count": 13,
   "metadata": {
    "collapsed": false
   },
   "outputs": [
    {
     "name": "stdout",
     "output_type": "stream",
     "text": [
      "no configs found; falling back on auto-configuration\n",
      "no configs found; falling back on auto-configuration\n",
      "creating tmp directory /tmp/wordcounter.csumb.20160305.013508.788449\n",
      "\n",
      "PLEASE NOTE: Starting in mrjob v0.5.0, protocols will be strict by default. It's recommended you run your job with --strict-protocols or set up mrjob.conf as described at https://pythonhosted.org/mrjob/whats-new.html#ready-for-strict-protocols\n",
      "\n",
      "writing to /tmp/wordcounter.csumb.20160305.013508.788449/step-0-mapper_part-00000\n",
      "Counters from step 1:\n",
      "  (no counters found)\n",
      "writing to /tmp/wordcounter.csumb.20160305.013508.788449/step-0-mapper-sorted\n",
      "> sort /tmp/wordcounter.csumb.20160305.013508.788449/step-0-mapper_part-00000\n",
      "writing to /tmp/wordcounter.csumb.20160305.013508.788449/step-0-reducer_part-00000\n",
      "Counters from step 1:\n",
      "  (no counters found)\n",
      "Moving /tmp/wordcounter.csumb.20160305.013508.788449/step-0-reducer_part-00000 -> /tmp/wordcounter.csumb.20160305.013508.788449/output/part-00000\n",
      "Streaming final output from /tmp/wordcounter.csumb.20160305.013508.788449/output\n",
      "removing tmp directory /tmp/wordcounter.csumb.20160305.013508.788449\n"
     ]
    }
   ],
   "source": [
    "! python wordcounter.py data/bike-item-titles.txt > out.txt"
   ]
  },
  {
   "cell_type": "code",
   "execution_count": 14,
   "metadata": {
    "collapsed": false
   },
   "outputs": [
    {
     "name": "stdout",
     "output_type": "stream",
     "text": [
      "\"words\"\t106980\r\n"
     ]
    }
   ],
   "source": [
    "! cat out.txt"
   ]
  },
  {
   "cell_type": "markdown",
   "metadata": {},
   "source": [
    "## Term Frequency in Map Reduce\n",
    "\n",
    "<img src='files/resources/ic_assignment_black_24dp_2x.png' align='left'>Using the word count example above can you modify the MR job to compute token frequency across the entire corpus in file `data/bike-item-titles.txt`?  Remember you can only emit (key, value) pairs from the mapper.\n",
    "\n",
    "\n",
    "**Hint** : the `/data/bike-item-titles.txt` file is quoted like a CSV file.  The easiest way to handle the CSV input presented to the mapper is to use StringIO and csv.reader:"
   ]
  },
  {
   "cell_type": "code",
   "execution_count": 25,
   "metadata": {
    "collapsed": false
   },
   "outputs": [
    {
     "name": "stdout",
     "output_type": "stream",
     "text": [
      "['Some quoted text about 18\" pizzas']\n",
      "Some\n",
      "quoted\n",
      "text\n",
      "about\n",
      "18\"\n",
      "pizzas\n"
     ]
    }
   ],
   "source": [
    "import StringIO\n",
    "import csv\n",
    "\n",
    "line = '\"Some quoted text about 18\"\" pizzas\"'\n",
    "for row in csv.reader(StringIO.StringIO(line)):\n",
    "    print(row)\n",
    "    for term in row[0].split():\n",
    "        print(term)"
   ]
  },
  {
   "cell_type": "code",
   "execution_count": 37,
   "metadata": {
    "collapsed": false
   },
   "outputs": [
    {
     "name": "stdout",
     "output_type": "stream",
     "text": [
      "Overwriting term-frequency.py\n"
     ]
    }
   ],
   "source": [
    "%%file term-frequency.py \n",
    "from mrjob.job import MRJob\n",
    "import StringIO\n",
    "import csv\n",
    "\n",
    "class MRTermFrequencyCount(MRJob):\n",
    "\n",
    "    def mapper(self, _, value):\n",
    "        # << IMPLEMENT MAPPER >> CODE HERE\n",
    "        ## HIDE\n",
    "        for row in csv.reader(StringIO.StringIO(value)):\n",
    "            for term in row[1].lower().split():\n",
    "                    yield term, 1\n",
    "\n",
    "    def reducer(self, key, values):\n",
    "        # << IMPLEMENT REDUCER >> CODE HERE\n",
    "        ## HINT\n",
    "        yield key, sum(values)\n",
    "\n",
    "if __name__ == '__main__':\n",
    "    MRTermFrequencyCount.run()"
   ]
  },
  {
   "cell_type": "code",
   "execution_count": 38,
   "metadata": {
    "collapsed": false
   },
   "outputs": [
    {
     "name": "stdout",
     "output_type": "stream",
     "text": [
      "no configs found; falling back on auto-configuration\n",
      "no configs found; falling back on auto-configuration\n",
      "creating tmp directory /tmp/term-frequency.csumb.20160305.015426.768363\n",
      "\n",
      "PLEASE NOTE: Starting in mrjob v0.5.0, protocols will be strict by default. It's recommended you run your job with --strict-protocols or set up mrjob.conf as described at https://pythonhosted.org/mrjob/whats-new.html#ready-for-strict-protocols\n",
      "\n",
      "writing to /tmp/term-frequency.csumb.20160305.015426.768363/step-0-mapper_part-00000\n",
      "Counters from step 1:\n",
      "  (no counters found)\n",
      "writing to /tmp/term-frequency.csumb.20160305.015426.768363/step-0-mapper-sorted\n",
      "> sort /tmp/term-frequency.csumb.20160305.015426.768363/step-0-mapper_part-00000\n",
      "writing to /tmp/term-frequency.csumb.20160305.015426.768363/step-0-reducer_part-00000\n",
      "Counters from step 1:\n",
      "  (no counters found)\n",
      "Moving /tmp/term-frequency.csumb.20160305.015426.768363/step-0-reducer_part-00000 -> /tmp/term-frequency.csumb.20160305.015426.768363/output/part-00000\n",
      "Streaming final output from /tmp/term-frequency.csumb.20160305.015426.768363/output\n",
      "removing tmp directory /tmp/term-frequency.csumb.20160305.015426.768363\n"
     ]
    }
   ],
   "source": [
    "! python term-frequency.py data/bike-item-titles.txt > out.txt"
   ]
  },
  {
   "cell_type": "markdown",
   "metadata": {},
   "source": [
    "<img src='files/resources/ic_assignment_black_24dp_2x.png' align='left'>Using a line magic `grep` the output file for the term bike.  \n",
    "You may want to pipe the results of `grep` to `head`."
   ]
  },
  {
   "cell_type": "code",
   "execution_count": 40,
   "metadata": {
    "collapsed": false
   },
   "outputs": [
    {
     "name": "stdout",
     "output_type": "stream",
     "text": [
      "\"1-bike\"\t1\r\n",
      "\"2-bike\"\t6\r\n",
      "\"2bike\"\t1\r\n",
      "\"700x23cbike\"\t1\r\n",
      "\"bandana/motorbike/chopper/harley\"\t1\r\n",
      "\"bicycle/bike\"\t6\r\n",
      "\"bicycle/cycling/bike/gate\"\t1\r\n",
      "\"bike\"\t4446\r\n",
      "\"bike(new)\"\t1\r\n",
      "\"bike)\"\t1\r\n"
     ]
    }
   ],
   "source": [
    "! grep 'bike' out.txt | head"
   ]
  },
  {
   "cell_type": "markdown",
   "metadata": {},
   "source": [
    "## Inverted Index\n",
    "\n",
    "<img src='files/resources/ic_assignment_black_24dp_2x.png' align='left'> The goal is to creat an inverted index mapping terms to rows in the file using MRJob.  The row id is in the first column of the file.  \n",
    "The input file should be `data/bike-item-titles.txt`.   "
   ]
  },
  {
   "cell_type": "code",
   "execution_count": 47,
   "metadata": {
    "collapsed": false
   },
   "outputs": [
    {
     "name": "stdout",
     "output_type": "stream",
     "text": [
      "Overwriting inverted-index.py\n"
     ]
    }
   ],
   "source": [
    "%%file inverted-index.py \n",
    "from mrjob.job import MRJob\n",
    "import StringIO\n",
    "import csv\n",
    "\n",
    "class MRInvertedIndex(MRJob):\n",
    "\n",
    "    def mapper(self, _, value):\n",
    "        # << IMPLEMENT MAPPER >> CODE HERE\n",
    "        ## HIDE\n",
    "        for row in csv.reader(StringIO.StringIO(value)):\n",
    "            id = row[0]\n",
    "            for term in row[1].lower().split():\n",
    "                    yield term, id\n",
    "                    \n",
    "    def reducer(self, key, values):\n",
    "        # << IMPLEMENT MAPPER >> CODE HERE\n",
    "        ## HIDE\n",
    "        for doc in values:\n",
    "            yield key, doc\n",
    "\n",
    "if __name__ == '__main__':\n",
    "    MRInvertedIndex.run()"
   ]
  },
  {
   "cell_type": "code",
   "execution_count": 48,
   "metadata": {
    "collapsed": false
   },
   "outputs": [
    {
     "name": "stdout",
     "output_type": "stream",
     "text": [
      "no configs found; falling back on auto-configuration\n",
      "no configs found; falling back on auto-configuration\n",
      "creating tmp directory /tmp/inverted-index.csumb.20160305.020132.818201\n",
      "\n",
      "PLEASE NOTE: Starting in mrjob v0.5.0, protocols will be strict by default. It's recommended you run your job with --strict-protocols or set up mrjob.conf as described at https://pythonhosted.org/mrjob/whats-new.html#ready-for-strict-protocols\n",
      "\n",
      "writing to /tmp/inverted-index.csumb.20160305.020132.818201/step-0-mapper_part-00000\n",
      "Counters from step 1:\n",
      "  (no counters found)\n",
      "writing to /tmp/inverted-index.csumb.20160305.020132.818201/step-0-mapper-sorted\n",
      "> sort /tmp/inverted-index.csumb.20160305.020132.818201/step-0-mapper_part-00000\n",
      "writing to /tmp/inverted-index.csumb.20160305.020132.818201/step-0-reducer_part-00000\n",
      "Counters from step 1:\n",
      "  (no counters found)\n",
      "Moving /tmp/inverted-index.csumb.20160305.020132.818201/step-0-reducer_part-00000 -> /tmp/inverted-index.csumb.20160305.020132.818201/output/part-00000\n",
      "Streaming final output from /tmp/inverted-index.csumb.20160305.020132.818201/output\n",
      "removing tmp directory /tmp/inverted-index.csumb.20160305.020132.818201\n"
     ]
    }
   ],
   "source": [
    "! python inverted-index.py data/bike-item-titles.txt > out.txt"
   ]
  },
  {
   "cell_type": "markdown",
   "metadata": {},
   "source": [
    "<img src='files/resources/ic_assignment_black_24dp_2x.png' align='left'>`grep` the output file to find the row numbers where the item title includes the term 'unicycle'.  \n",
    "Use the UNIX command `awk`, or other UNIX command of your liking, to extract one of those lines to confirm."
   ]
  },
  {
   "cell_type": "code",
   "execution_count": 51,
   "metadata": {
    "collapsed": false
   },
   "outputs": [
    {
     "name": "stdout",
     "output_type": "stream",
     "text": [
      "\"unicycle\"\t\"1883\"\n",
      "\"unicycle\"\t\"2138\"\n",
      "\"unicycle\"\t\"3748\"\n",
      "\"unicycle\"\t\"7232\"\n",
      "\"unicycle\"\t\"8777\"\n",
      "\"Electric Unicycle Hybrid Battery 800W Powered Model Q6\",\"**Shipping dates start on the 22nd of February, 2016, please contact us before placing an order!**Here it is! The Electric Urban Transporter. This is THE newest One Wheel Electric Motorcycle (UNICYCLE). Whether you’re looking to travel to work in style, grocery shop, or simply ride green through the city, the Unicycle is the way to go! This is THE greenest, easiest, and coolest way to hop around for the urban dwellers. Transform the way you think about transportation with this Self Balancing\"\n"
     ]
    }
   ],
   "source": [
    "#HIDE\n",
    "! grep '\"unicycle\"' out.txt\n",
    "! awk 'NR==2138 {print$0}' data/bike-items.txt"
   ]
  }
 ],
 "metadata": {
  "kernelspec": {
   "display_name": "Python 2",
   "language": "python",
   "name": "python2"
  },
  "language_info": {
   "codemirror_mode": {
    "name": "ipython",
    "version": 2
   },
   "file_extension": ".py",
   "mimetype": "text/x-python",
   "name": "python",
   "nbconvert_exporter": "python",
   "pygments_lexer": "ipython2",
   "version": "2.7.11"
  }
 },
 "nbformat": 4,
 "nbformat_minor": 0
}
