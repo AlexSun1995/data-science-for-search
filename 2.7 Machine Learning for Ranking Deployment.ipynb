{
 "cells": [
  {
   "cell_type": "markdown",
   "metadata": {},
   "source": [
    "During day 1 we saw how to build an inverted index to efficiently generate a recall set of documents. We then ranked documents using term frequency, inverse document frequency and BM25.0.  \n",
    "\n",
    "Today we have looked at building machine learning algorithms for ranking.  This notebook shows how we use the machine learnt models in a search engine.  We \"deploy\" one of the models we created."
   ]
  },
  {
   "cell_type": "code",
   "execution_count": 1,
   "metadata": {
    "collapsed": true
   },
   "outputs": [],
   "source": [
    "import os \n",
    "import pandas as pd"
   ]
  },
  {
   "cell_type": "code",
   "execution_count": 2,
   "metadata": {
    "collapsed": false
   },
   "outputs": [
    {
     "name": "stderr",
     "output_type": "stream",
     "text": [
      "/home/csumb/anaconda2/lib/python2.7/site-packages/IPython/core/interactiveshell.py:2902: DtypeWarning: Columns (5) have mixed types. Specify dtype option on import or set low_memory=False.\n",
      "  interactivity=interactivity, compiler=compiler, result=result)\n"
     ]
    }
   ],
   "source": [
    "data = pd.read_csv(\"data/fullDataset.tsv\", sep=\"\\t\",header=0)\n",
    "data = data.dropna()"
   ]
  },
  {
   "cell_type": "markdown",
   "metadata": {},
   "source": [
    "## Build inverted index"
   ]
  },
  {
   "cell_type": "code",
   "execution_count": 3,
   "metadata": {
    "collapsed": false
   },
   "outputs": [
    {
     "data": {
      "text/plain": [
       "Index([u'key', u'query', u'Title', u'LeafCats', u'ItemID', u'X_unit_id',\n",
       "       u'SCORE', u'label_relevanceGrade', u'label_relevanceBinary',\n",
       "       u'feature_1', u'feature_2', u'feature_3', u'feature_4', u'feature_5',\n",
       "       u'feature_6', u'feature_7', u'feature_8', u'feature_9', u'feature_10'],\n",
       "      dtype='object')"
      ]
     },
     "execution_count": 3,
     "metadata": {},
     "output_type": "execute_result"
    }
   ],
   "source": [
    "data.columns"
   ]
  },
  {
   "cell_type": "code",
   "execution_count": 108,
   "metadata": {
    "collapsed": false
   },
   "outputs": [
    {
     "data": {
      "text/plain": [
       "['disney world all star music all inclusive package feb',\n",
       " 'mgtc td tf mga morris minor top wing bolts set of',\n",
       " 'new cross vice gel ink pen gift set document marker',\n",
       " 'white paper towel roll holder cabinet wall mount sturdy',\n",
       " 'engine cooling head traxxas jato trx nitro rustler']"
      ]
     },
     "execution_count": 108,
     "metadata": {},
     "output_type": "execute_result"
    }
   ],
   "source": [
    "import re\n",
    "\n",
    "rgx = re.compile(r'\\b[a-zA-Z]+\\b')\n",
    "corpus = [ ' '.join(re.findall(rgx, str(x))).lower() for x in data.Title]\n",
    "corpus[0:5]"
   ]
  },
  {
   "cell_type": "code",
   "execution_count": 109,
   "metadata": {
    "collapsed": true
   },
   "outputs": [],
   "source": [
    "def create_inverted_index(corpus):\n",
    "    idx={}\n",
    "    for i, doc in enumerate(corpus):\n",
    "        # << POPULATE INVERTED INDEX >> CODE HERE\n",
    "        ## HIDE\n",
    "        for word in doc.split():\n",
    "            if word in idx:\n",
    "                idx[word].append(i)\n",
    "            else:\n",
    "                idx[word] = [i]\n",
    "        ## HIDE\n",
    "    return idx\n",
    "\n",
    "idx = create_inverted_index(corpus)"
   ]
  },
  {
   "cell_type": "markdown",
   "metadata": {},
   "source": [
    "We still have bike items in our corpus:"
   ]
  },
  {
   "cell_type": "code",
   "execution_count": 110,
   "metadata": {
    "collapsed": false
   },
   "outputs": [
    {
     "name": "stdout",
     "output_type": "stream",
     "text": [
      "[55, 421, 546, 559, 648, 691, 702, 983, 1234, 1262]\n",
      "waterproof anti shock led bike taillight tail rear light caution aaa battery\n"
     ]
    }
   ],
   "source": [
    "print(idx['bike'][0:10])\n",
    "print(corpus[55])"
   ]
  },
  {
   "cell_type": "markdown",
   "metadata": {},
   "source": [
    "Now we have the index we can generate a recall set, all that is left is to score the documents.\n",
    "\n",
    "### Questions?\n",
    "Here I normalise the features - but what would we do in a real MLR problem - as new data accumulates - do we use algorithms that do not require normalisation of the features?\n",
    "\n",
    "Also here we are not computing the query features at run time - I am just taking the feature vector associated with the document - this is wrong.  How do we compute the query features?"
   ]
  },
  {
   "cell_type": "code",
   "execution_count": 111,
   "metadata": {
    "collapsed": false
   },
   "outputs": [],
   "source": [
    "from sklearn.externals import joblib\n",
    "features = data.loc[:,'feature_1':'feature_10']\n",
    "scaler = joblib.load('models/scaler.pkl')\n",
    "features = scaler.transform(features)"
   ]
  },
  {
   "cell_type": "markdown",
   "metadata": {},
   "source": [
    "For efficiency we are going to store the feature vector for each document in the index:"
   ]
  },
  {
   "cell_type": "code",
   "execution_count": 112,
   "metadata": {
    "collapsed": false
   },
   "outputs": [
    {
     "name": "stdout",
     "output_type": "stream",
     "text": [
      "[52481, 14155, 40812, 50745, 63003, 41183]\n",
      "[array([-0.17379223, -1.13411908, -0.39806753,  0.63575084,  0.52457065,\n",
      "       -0.45178351, -0.22241248,  0.45609258, -0.82743001, -0.75991721]), array([-0.17379223, -1.13411908, -0.10008165, -2.27973959,  3.52820582,\n",
      "        1.23859683, -0.22241248,  0.45609258,  0.93583338,  1.35527817]), array([-0.17379223, -1.13411908, -1.13742724, -0.1531646 , -0.17649033,\n",
      "        1.05240075, -0.22241248,  0.45609258, -0.73081284,  1.30008465]), array([-0.17379223, -1.13411908, -0.36959671, -1.13632595,  2.83878868,\n",
      "        1.23859683, -0.22241248,  0.45609258,  0.88752479,  1.35527817]), array([-0.17379223, -1.13411908,  0.07580077, -1.7126046 , -0.51903625,\n",
      "       -1.33313304, -0.21538468, -1.43918018, -0.00618405, -0.75991721]), array([-0.65272925,  0.88174163, -0.5299772 , -0.34945512, -1.62504047,\n",
      "       -0.76156505,  7.32817495,  0.65148004, -0.85158431, -0.75991721])]\n"
     ]
    },
    {
     "data": {
      "text/plain": [
       "{14155: array([-0.17379223, -1.13411908, -0.10008165, -2.27973959,  3.52820582,\n",
       "         1.23859683, -0.22241248,  0.45609258,  0.93583338,  1.35527817]),\n",
       " 40812: array([-0.17379223, -1.13411908, -1.13742724, -0.1531646 , -0.17649033,\n",
       "         1.05240075, -0.22241248,  0.45609258, -0.73081284,  1.30008465]),\n",
       " 41183: array([-0.65272925,  0.88174163, -0.5299772 , -0.34945512, -1.62504047,\n",
       "        -0.76156505,  7.32817495,  0.65148004, -0.85158431, -0.75991721]),\n",
       " 50745: array([-0.17379223, -1.13411908, -0.36959671, -1.13632595,  2.83878868,\n",
       "         1.23859683, -0.22241248,  0.45609258,  0.88752479,  1.35527817]),\n",
       " 52481: array([-0.17379223, -1.13411908, -0.39806753,  0.63575084,  0.52457065,\n",
       "        -0.45178351, -0.22241248,  0.45609258, -0.82743001, -0.75991721]),\n",
       " 63003: array([-0.17379223, -1.13411908,  0.07580077, -1.7126046 , -0.51903625,\n",
       "        -1.33313304, -0.21538468, -1.43918018, -0.00618405, -0.75991721])}"
      ]
     },
     "execution_count": 112,
     "metadata": {},
     "output_type": "execute_result"
    }
   ],
   "source": [
    "def create_inverted_index(corpus, features):\n",
    "    idx={}\n",
    "    for i, doc in enumerate(corpus):\n",
    "        for word in doc.split():\n",
    "            if word in idx:\n",
    "                if i not in idx[word]:\n",
    "                    # Add document\n",
    "                    idx[word][i] = features[i]\n",
    "            else:\n",
    "                # Add term\n",
    "                idx[word] = {i:features[i]}\n",
    "    return idx\n",
    "\n",
    "\n",
    "idx = create_inverted_index(corpus, features)\n",
    "print(idx['tricycle'].keys())\n",
    "print(idx['tricycle'].values())\n",
    "\n",
    "idx['tricycle']"
   ]
  },
  {
   "cell_type": "markdown",
   "metadata": {},
   "source": [
    "We can also load the model - in this case it was boosted gradient tree:"
   ]
  },
  {
   "cell_type": "code",
   "execution_count": 113,
   "metadata": {
    "collapsed": false
   },
   "outputs": [],
   "source": [
    "clf = joblib.load('models/mlr.pkl')"
   ]
  },
  {
   "cell_type": "code",
   "execution_count": 116,
   "metadata": {
    "collapsed": false
   },
   "outputs": [
    {
     "name": "stdout",
     "output_type": "stream",
     "text": [
      "\n",
      "Top 10 from recall set of 2053 items:\n",
      "\t1.0000000000 - new nike drawstring backpack school book shoe tote gym bag swim golf sport pack\n",
      "\t0.9999999992 - timemist metered air freshener refills bayberry refills tms\n",
      "\t0.9999999644 - men s new authentic nike shox nz eu running shoes sizes\n",
      "\t0.9999999629 - crosman sheridan cowboy youth single shot lever action air rifle\n",
      "\t0.9999999564 - nike grillroom golf shoes men s anthracite white black\n",
      "\t0.9999999526 - chevy fuel gas tank chevrolet bel air new\n",
      "\t0.9999998845 - new frigidaire room air conditioner remote control transmitter\n",
      "\t0.9999998763 - nike fuelband se plus health fitness tracker bluetooth nike\n",
      "\t0.9999998511 - nike oregon ducks footall t tyner mens sz spring game worn pants\n",
      "\t0.9999998493 - men s new authentic nike total shox running shoes sizes\n",
      "\n",
      "Bottom 10 from recall set of 2053 items:\n",
      "\t0.0000000837 - air conditioning vent clock time thermometer celsius digital blue led backlight\n",
      "\t0.0000000768 - new nike lunar control mens golf shoes pick size color\n",
      "\t0.0000000627 - new nike park iv cushioned otc sock large soccer white blue\n",
      "\t0.0000000558 - nike girls air jordan high toddler wolf grey tide blue hot lava\n",
      "\t0.0000000146 - air filter auto extra\n",
      "\t0.0000000091 - ac power charger adapter for apple macbook air a a magsafe\n",
      "\t0.0000000088 - air filter parts master\n",
      "\t0.0000000017 - nike michael jordan air jordan jumpman full zip up hoodie size\n",
      "\t0.0000000011 - air compressor auto bicycle tire inflator compact portable electric\n",
      "\t0.0000000000 - air jordan year of the goat\n"
     ]
    }
   ],
   "source": [
    "from collections import Counter\n",
    "import itertools\n",
    "\n",
    "def get_results_mlr(qry, idx, model):\n",
    "    score = Counter()\n",
    "    for term in qry.split():\n",
    "        for doc, features in idx[term].iteritems():\n",
    "            # Compute item-query and query level features\n",
    "            score[doc] = model.predict_proba(features.reshape(1,-1))[0][1]\n",
    "            \n",
    "    results=[]\n",
    "    for x in [[r[0],r[1]] for r in zip(score.keys(), score.values())]:\n",
    "        if x[1] > 0:\n",
    "            # output [0] score, [1] doc_id\n",
    "            results.append([x[1],x[0]])\n",
    "\n",
    "    sorted_results = sorted(results, key=lambda t: t[0] * -1 )\n",
    "    return sorted_results;\n",
    "\n",
    "def print_results(results,n, head=True):\n",
    "    ''' Helper function to print results\n",
    "    '''\n",
    "    if head:    \n",
    "        print('\\nTop %d from recall set of %d items:' % (n,len(results)))\n",
    "        for r in results[:n]:\n",
    "            print('\\t%0.10f - %s'%(r[0],corpus[r[1]]))\n",
    "    else:\n",
    "        print('\\nBottom %d from recall set of %d items:' % (n,len(results)))\n",
    "        for r in results[-n:]:\n",
    "            print('\\t%0.10f - %s'%(r[0],corpus[r[1]]))\n",
    "            \n",
    "            \n",
    "            \n",
    "results = get_results_mlr('nike air yeezy', idx, clf)\n",
    "print_results(results,10)\n",
    "print_results(results,10,head=False)\n"
   ]
  },
  {
   "cell_type": "code",
   "execution_count": 117,
   "metadata": {
    "collapsed": false
   },
   "outputs": [
    {
     "name": "stdout",
     "output_type": "stream",
     "text": [
      "\n",
      "Top 10 from recall set of 4347 items:\n",
      "\t1.0000000000 - bullets ammunition custom case for nexus lg snap on black white\n",
      "\t0.9999999998 - squatty potty ecco toilet stool white inch\n",
      "\t0.9999999984 - for apple iphone plus tpu rubber ultra thin bumper case frame cover\n",
      "\t0.9999999951 - hard matte clear back case with soft silicone tpu bumper cover for apple iphone\n",
      "\t0.9999999928 - aibocn dual usb power bank charger for mobile phone iphone tablets\n",
      "\t0.9999999588 - lg volt white virgin mobile smartphone\n",
      "\t0.9999999586 - apple iphone plus verizon unlocked gold silver gray\n",
      "\t0.9999999564 - nike grillroom golf shoes men s anthracite white black\n",
      "\t0.9999999481 - sangean ps pillow speaker with in line volume control and amplifier white\n",
      "\t0.9999999475 - apple iphone latest model space gray at t smartphone\n",
      "\n",
      "Bottom 10 from recall set of 4347 items:\n",
      "\t0.0000000897 - real white pearl beads white gold plated pendant and necklace\n",
      "\t0.0000000627 - new nike park iv cushioned otc sock large soccer white blue\n",
      "\t0.0000000374 - car door handle trd hollow sticker decal white\n",
      "\t0.0000000277 - high power cree white reverse brake tail turn led light bulbs\n",
      "\t0.0000000182 - talbots ladies size large cotton pink t shirt with white pineapple print\n",
      "\t0.0000000163 - dual ports usb car charger for iphone plus ipad samsung htc cellphone\n",
      "\t0.0000000091 - skin decal wrap for otterbox commuter iphone case cover american flag\n",
      "\t0.0000000068 - icbeamer pcs white plug and play led bulbs tail brake stop light\n",
      "\t0.0000000002 - lg white sprint cracked doesnt turn on bad esn\n",
      "\t0.0000000000 - new premium real tempered glass film screen protector for apple iphone\n"
     ]
    }
   ],
   "source": [
    "results = get_results_mlr('white iphone', idx, clf)\n",
    "print_results(results,10)\n",
    "print_results(results,10,head=False)"
   ]
  }
 ],
 "metadata": {
  "kernelspec": {
   "display_name": "Python 2",
   "language": "python",
   "name": "python2"
  },
  "language_info": {
   "codemirror_mode": {
    "name": "ipython",
    "version": 2
   },
   "file_extension": ".py",
   "mimetype": "text/x-python",
   "name": "python",
   "nbconvert_exporter": "python",
   "pygments_lexer": "ipython2",
   "version": "2.7.11"
  }
 },
 "nbformat": 4,
 "nbformat_minor": 0
}
