{
 "cells": [
  {
   "cell_type": "markdown",
   "metadata": {},
   "source": [
    "## 2.72 Machine Learning - Reducible Error - Exercises\n",
    "\n",
    "We are going to work with a very small file of training data."
   ]
  },
  {
   "cell_type": "code",
   "execution_count": 2,
   "metadata": {
    "collapsed": false,
    "scrolled": true
   },
   "outputs": [
    {
     "data": {
      "text/html": [
       "<div>\n",
       "<table border=\"1\" class=\"dataframe\">\n",
       "  <thead>\n",
       "    <tr style=\"text-align: right;\">\n",
       "      <th></th>\n",
       "      <th>x</th>\n",
       "      <th>y</th>\n",
       "    </tr>\n",
       "  </thead>\n",
       "  <tbody>\n",
       "    <tr>\n",
       "      <th>0</th>\n",
       "      <td>18.836133</td>\n",
       "      <td>11.269769</td>\n",
       "    </tr>\n",
       "    <tr>\n",
       "      <th>1</th>\n",
       "      <td>12.646680</td>\n",
       "      <td>8.734799</td>\n",
       "    </tr>\n",
       "    <tr>\n",
       "      <th>2</th>\n",
       "      <td>9.747432</td>\n",
       "      <td>8.173146</td>\n",
       "    </tr>\n",
       "    <tr>\n",
       "      <th>3</th>\n",
       "      <td>2.334745</td>\n",
       "      <td>5.424436</td>\n",
       "    </tr>\n",
       "    <tr>\n",
       "      <th>4</th>\n",
       "      <td>0.409672</td>\n",
       "      <td>2.339696</td>\n",
       "    </tr>\n",
       "    <tr>\n",
       "      <th>5</th>\n",
       "      <td>6.327346</td>\n",
       "      <td>7.787972</td>\n",
       "    </tr>\n",
       "    <tr>\n",
       "      <th>6</th>\n",
       "      <td>9.708542</td>\n",
       "      <td>10.423231</td>\n",
       "    </tr>\n",
       "    <tr>\n",
       "      <th>7</th>\n",
       "      <td>14.599289</td>\n",
       "      <td>10.390283</td>\n",
       "    </tr>\n",
       "    <tr>\n",
       "      <th>8</th>\n",
       "      <td>3.301732</td>\n",
       "      <td>7.423751</td>\n",
       "    </tr>\n",
       "    <tr>\n",
       "      <th>9</th>\n",
       "      <td>3.158246</td>\n",
       "      <td>6.116124</td>\n",
       "    </tr>\n",
       "  </tbody>\n",
       "</table>\n",
       "</div>"
      ],
      "text/plain": [
       "           x          y\n",
       "0  18.836133  11.269769\n",
       "1  12.646680   8.734799\n",
       "2   9.747432   8.173146\n",
       "3   2.334745   5.424436\n",
       "4   0.409672   2.339696\n",
       "5   6.327346   7.787972\n",
       "6   9.708542  10.423231\n",
       "7  14.599289  10.390283\n",
       "8   3.301732   7.423751\n",
       "9   3.158246   6.116124"
      ]
     },
     "execution_count": 2,
     "metadata": {},
     "output_type": "execute_result"
    }
   ],
   "source": [
    "import numpy as np\n",
    "import pandas as pd\n",
    "\n",
    "df_train = pd.read_csv('data/ml-data-train.csv')\n",
    "df_train"
   ]
  },
  {
   "cell_type": "markdown",
   "metadata": {},
   "source": [
    "Here is a scatterplot of the data.  Does the relationship between x and y look linear or non-linear?"
   ]
  },
  {
   "cell_type": "code",
   "execution_count": 3,
   "metadata": {
    "collapsed": false
   },
   "outputs": [
    {
     "data": {
      "text/html": [
       "\n",
       "\n",
       "    <script type=\"text/javascript\">\n",
       "      \n",
       "      (function(global) {\n",
       "        function now() {\n",
       "          return new Date();\n",
       "        }\n",
       "      \n",
       "        if (typeof (window._bokeh_onload_callbacks) === \"undefined\") {\n",
       "          window._bokeh_onload_callbacks = [];\n",
       "        }\n",
       "      \n",
       "        function run_callbacks() {\n",
       "          window._bokeh_onload_callbacks.forEach(function(callback) { callback() });\n",
       "          delete window._bokeh_onload_callbacks\n",
       "          console.info(\"Bokeh: all callbacks have finished\");\n",
       "        }\n",
       "      \n",
       "        function load_libs(js_urls, callback) {\n",
       "          window._bokeh_onload_callbacks.push(callback);\n",
       "          if (window._bokeh_is_loading > 0) {\n",
       "            console.log(\"Bokeh: BokehJS is being loaded, scheduling callback at\", now());\n",
       "            return null;\n",
       "          }\n",
       "          if (js_urls == null || js_urls.length === 0) {\n",
       "            run_callbacks();\n",
       "            return null;\n",
       "          }\n",
       "          console.log(\"Bokeh: BokehJS not loaded, scheduling load and callback at\", now());\n",
       "          window._bokeh_is_loading = js_urls.length;\n",
       "          for (var i = 0; i < js_urls.length; i++) {\n",
       "            var url = js_urls[i];\n",
       "            var s = document.createElement('script');\n",
       "            s.src = url;\n",
       "            s.async = false;\n",
       "            s.onreadystatechange = s.onload = function() {\n",
       "              window._bokeh_is_loading--;\n",
       "              if (window._bokeh_is_loading === 0) {\n",
       "                console.log(\"Bokeh: all BokehJS libraries loaded\");\n",
       "                run_callbacks()\n",
       "              }\n",
       "            };\n",
       "            s.onerror = function() {\n",
       "              console.warn(\"failed to load library \" + url);\n",
       "            };\n",
       "            console.log(\"Bokeh: injecting script tag for BokehJS library: \", url);\n",
       "            document.getElementsByTagName(\"head\")[0].appendChild(s);\n",
       "          }\n",
       "        };var js_urls = ['https://cdn.pydata.org/bokeh/release/bokeh-0.11.0.min.js', 'https://cdn.pydata.org/bokeh/release/bokeh-widgets-0.11.0.min.js', 'https://cdn.pydata.org/bokeh/release/bokeh-compiler-0.11.0.min.js'];\n",
       "      \n",
       "        var inline_js = [\n",
       "          function(Bokeh) {\n",
       "            Bokeh.set_log_level(\"info\");\n",
       "          },\n",
       "          function(Bokeh) {\n",
       "            console.log(\"Bokeh: injecting CSS: https://cdn.pydata.org/bokeh/release/bokeh-0.11.0.min.css\");\n",
       "            Bokeh.embed.inject_css(\"https://cdn.pydata.org/bokeh/release/bokeh-0.11.0.min.css\");\n",
       "            console.log(\"Bokeh: injecting CSS: https://cdn.pydata.org/bokeh/release/bokeh-widgets-0.11.0.min.css\");\n",
       "            Bokeh.embed.inject_css(\"https://cdn.pydata.org/bokeh/release/bokeh-widgets-0.11.0.min.css\");\n",
       "          }\n",
       "        ];\n",
       "      \n",
       "        function run_inline_js() {\n",
       "          for (var i = 0; i < inline_js.length; i++) {\n",
       "            inline_js[i](window.Bokeh);\n",
       "          }\n",
       "        }\n",
       "      \n",
       "        if (window._bokeh_is_loading === 0) {\n",
       "          console.log(\"Bokeh: BokehJS loaded, going straight to plotting\");\n",
       "          run_inline_js();\n",
       "        } else {\n",
       "          load_libs(js_urls, function() {\n",
       "            console.log(\"Bokeh: BokehJS plotting callback run at\", now());\n",
       "            run_inline_js();\n",
       "          });\n",
       "        }\n",
       "      }(this));\n",
       "    </script>"
      ]
     },
     "metadata": {},
     "output_type": "display_data"
    },
    {
     "data": {
      "text/html": [
       "\n",
       "\n",
       "    <div class=\"plotdiv\" id=\"c0cef623-c46f-491e-a41f-291ce7295936\"></div>\n",
       "<script type=\"text/javascript\">\n",
       "  \n",
       "  (function(global) {\n",
       "    function now() {\n",
       "      return new Date();\n",
       "    }\n",
       "  \n",
       "    if (typeof (window._bokeh_onload_callbacks) === \"undefined\") {\n",
       "      window._bokeh_onload_callbacks = [];\n",
       "    }\n",
       "  \n",
       "    function run_callbacks() {\n",
       "      window._bokeh_onload_callbacks.forEach(function(callback) { callback() });\n",
       "      delete window._bokeh_onload_callbacks\n",
       "      console.info(\"Bokeh: all callbacks have finished\");\n",
       "    }\n",
       "  \n",
       "    function load_libs(js_urls, callback) {\n",
       "      window._bokeh_onload_callbacks.push(callback);\n",
       "      if (window._bokeh_is_loading > 0) {\n",
       "        console.log(\"Bokeh: BokehJS is being loaded, scheduling callback at\", now());\n",
       "        return null;\n",
       "      }\n",
       "      if (js_urls == null || js_urls.length === 0) {\n",
       "        run_callbacks();\n",
       "        return null;\n",
       "      }\n",
       "      console.log(\"Bokeh: BokehJS not loaded, scheduling load and callback at\", now());\n",
       "      window._bokeh_is_loading = js_urls.length;\n",
       "      for (var i = 0; i < js_urls.length; i++) {\n",
       "        var url = js_urls[i];\n",
       "        var s = document.createElement('script');\n",
       "        s.src = url;\n",
       "        s.async = false;\n",
       "        s.onreadystatechange = s.onload = function() {\n",
       "          window._bokeh_is_loading--;\n",
       "          if (window._bokeh_is_loading === 0) {\n",
       "            console.log(\"Bokeh: all BokehJS libraries loaded\");\n",
       "            run_callbacks()\n",
       "          }\n",
       "        };\n",
       "        s.onerror = function() {\n",
       "          console.warn(\"failed to load library \" + url);\n",
       "        };\n",
       "        console.log(\"Bokeh: injecting script tag for BokehJS library: \", url);\n",
       "        document.getElementsByTagName(\"head\")[0].appendChild(s);\n",
       "      }\n",
       "    };var element = document.getElementById(\"c0cef623-c46f-491e-a41f-291ce7295936\");\n",
       "    if (element == null) {\n",
       "      console.log(\"Bokeh: ERROR: autoload.js configured with elementid 'c0cef623-c46f-491e-a41f-291ce7295936' but no matching script tag was found. \")\n",
       "      return false;\n",
       "    }var js_urls = [];\n",
       "  \n",
       "    var inline_js = [\n",
       "      function(Bokeh) {\n",
       "        Bokeh.$(function() {\n",
       "            var docs_json = {\"77a8d048-72a5-4bc7-9104-735c2989a7b6\": {\"version\": \"0.11.0\", \"roots\": {\"root_ids\": [\"d1e28fce-f28a-4fd3-81dc-9fe6d94559a4\"], \"references\": [{\"attributes\": {\"plot\": {\"subtype\": \"Chart\", \"type\": \"Plot\", \"id\": \"d1e28fce-f28a-4fd3-81dc-9fe6d94559a4\"}, \"axis_label\": \"y\", \"formatter\": {\"type\": \"BasicTickFormatter\", \"id\": \"90ad87bb-43e8-486a-9baa-44aecb8bbbc4\"}, \"ticker\": {\"type\": \"BasicTicker\", \"id\": \"9ecb37be-f5be-4807-b153-4089da2dfc41\"}}, \"type\": \"LinearAxis\", \"id\": \"26ea5ad4-e4fc-4189-a6e3-48cbb68b2de1\"}, {\"attributes\": {\"line_color\": {\"value\": \"black\"}, \"line_alpha\": {\"value\": 1.0}, \"render_mode\": \"css\", \"bottom_units\": \"screen\", \"level\": \"overlay\", \"top_units\": \"screen\", \"fill_alpha\": {\"value\": 0.5}, \"plot\": null, \"left_units\": \"screen\", \"line_dash\": [4, 4], \"line_width\": {\"value\": 2}, \"right_units\": \"screen\", \"fill_color\": {\"value\": \"lightgrey\"}}, \"type\": \"BoxAnnotation\", \"id\": \"7a3ce128-053d-4045-a599-8cb969371f87\"}, {\"attributes\": {\"plot\": {\"subtype\": \"Chart\", \"type\": \"Plot\", \"id\": \"d1e28fce-f28a-4fd3-81dc-9fe6d94559a4\"}}, \"type\": \"PanTool\", \"id\": \"f9ff29e6-b016-4679-8ae7-f0ce058172b4\"}, {\"attributes\": {\"plot\": {\"subtype\": \"Chart\", \"type\": \"Plot\", \"id\": \"d1e28fce-f28a-4fd3-81dc-9fe6d94559a4\"}}, \"type\": \"ResetTool\", \"id\": \"a81bb75f-cd6c-48c0-aa67-c362806b47e9\"}, {\"attributes\": {}, \"type\": \"BasicTicker\", \"id\": \"94d4ce4d-7c27-4970-be4e-9c3793ee802e\"}, {\"attributes\": {\"plot\": {\"subtype\": \"Chart\", \"type\": \"Plot\", \"id\": \"d1e28fce-f28a-4fd3-81dc-9fe6d94559a4\"}}, \"type\": \"WheelZoomTool\", \"id\": \"e28ac5ce-e426-46ae-8229-7b51c5fb28b3\"}, {\"attributes\": {}, \"type\": \"BasicTickFormatter\", \"id\": \"572fa138-076c-4250-bce2-70a9f7613321\"}, {\"attributes\": {\"callback\": null, \"column_names\": [\"x_values\", \"y_values\"], \"data\": {\"x_values\": [18.836133046900002, 12.646680276500001, 9.7474321464, 2.3347453756, 0.40967225582500005, 6.32734623225, 9.70854196336, 14.5992894044, 3.3017323519, 3.1582461335], \"chart_index\": [null, null, null, null, null, null, null, null, null, null], \"y_values\": [11.2697687831, 8.73479920455, 8.173146226970001, 5.42443621023, 2.3396962877000003, 7.7879716006100015, 10.4232313916, 10.390283031000001, 7.42375101859, 6.11612369783]}}, \"type\": \"ColumnDataSource\", \"id\": \"c04851c5-abe8-4170-bda4-6ec18f7c0488\"}, {\"attributes\": {\"plot\": {\"subtype\": \"Chart\", \"type\": \"Plot\", \"id\": \"d1e28fce-f28a-4fd3-81dc-9fe6d94559a4\"}, \"overlay\": {\"type\": \"BoxAnnotation\", \"id\": \"7a3ce128-053d-4045-a599-8cb969371f87\"}}, \"type\": \"BoxZoomTool\", \"id\": \"4c35dab8-142f-486f-bf15-b9a0eeb04f86\"}, {\"attributes\": {\"plot\": {\"subtype\": \"Chart\", \"type\": \"Plot\", \"id\": \"d1e28fce-f28a-4fd3-81dc-9fe6d94559a4\"}, \"axis_label\": \"x\", \"formatter\": {\"type\": \"BasicTickFormatter\", \"id\": \"572fa138-076c-4250-bce2-70a9f7613321\"}, \"ticker\": {\"type\": \"BasicTicker\", \"id\": \"94d4ce4d-7c27-4970-be4e-9c3793ee802e\"}}, \"type\": \"LinearAxis\", \"id\": \"89d6f047-f4c1-4868-bc88-19d89c7566a1\"}, {\"attributes\": {\"line_color\": {\"value\": \"#f22c40\"}, \"fill_color\": {\"value\": \"#f22c40\"}, \"fill_alpha\": {\"value\": 0.7}, \"y\": {\"field\": \"y_values\"}, \"x\": {\"field\": \"x_values\"}, \"size\": {\"units\": \"screen\", \"value\": 8}}, \"type\": \"Circle\", \"id\": \"ea0cf6c1-9e9e-4bd6-9d80-35baeb4ea9c7\"}, {\"attributes\": {\"callback\": null, \"end\": 20.678779126007502, \"start\": -1.4329738232825002}, \"type\": \"Range1d\", \"id\": \"c5f0f7c4-e919-4973-85ad-b3024dcbfc35\"}, {\"attributes\": {\"nonselection_glyph\": null, \"data_source\": {\"type\": \"ColumnDataSource\", \"id\": \"c04851c5-abe8-4170-bda4-6ec18f7c0488\"}, \"selection_glyph\": null, \"hover_glyph\": null, \"glyph\": {\"type\": \"Circle\", \"id\": \"ea0cf6c1-9e9e-4bd6-9d80-35baeb4ea9c7\"}}, \"type\": \"GlyphRenderer\", \"id\": \"57b0cb8e-584e-4b84-9eca-b92c5b16d743\"}, {\"attributes\": {\"plot\": {\"subtype\": \"Chart\", \"type\": \"Plot\", \"id\": \"d1e28fce-f28a-4fd3-81dc-9fe6d94559a4\"}, \"ticker\": {\"type\": \"BasicTicker\", \"id\": \"9ecb37be-f5be-4807-b153-4089da2dfc41\"}, \"dimension\": 1}, \"type\": \"Grid\", \"id\": \"1b10894d-c7d2-4575-973c-c7f9ed1721ac\"}, {\"attributes\": {\"plot\": {\"subtype\": \"Chart\", \"type\": \"Plot\", \"id\": \"d1e28fce-f28a-4fd3-81dc-9fe6d94559a4\"}}, \"type\": \"HelpTool\", \"id\": \"c935be62-d7e2-43ef-835c-fe5e1efbb76b\"}, {\"attributes\": {\"plot\": {\"subtype\": \"Chart\", \"type\": \"Plot\", \"id\": \"d1e28fce-f28a-4fd3-81dc-9fe6d94559a4\"}, \"ticker\": {\"type\": \"BasicTicker\", \"id\": \"94d4ce4d-7c27-4970-be4e-9c3793ee802e\"}}, \"type\": \"Grid\", \"id\": \"5aa6ad34-ec84-43bd-a417-2fcd78202a94\"}, {\"attributes\": {\"plot\": {\"subtype\": \"Chart\", \"type\": \"Plot\", \"id\": \"d1e28fce-f28a-4fd3-81dc-9fe6d94559a4\"}}, \"type\": \"PreviewSaveTool\", \"id\": \"b2e9b7ff-771b-4638-970a-9efcc48a6be4\"}, {\"attributes\": {}, \"type\": \"BasicTickFormatter\", \"id\": \"90ad87bb-43e8-486a-9baa-44aecb8bbbc4\"}, {\"attributes\": {}, \"type\": \"ToolEvents\", \"id\": \"644d1e81-ebdb-4573-a338-a3d97d682a16\"}, {\"attributes\": {\"callback\": null, \"end\": 12.16277603264, \"start\": 1.4466890381600002}, \"type\": \"Range1d\", \"id\": \"b3c48b31-f7d8-4acd-9914-b541e9d30055\"}, {\"attributes\": {\"x_range\": {\"type\": \"Range1d\", \"id\": \"c5f0f7c4-e919-4973-85ad-b3024dcbfc35\"}, \"y_mapper_type\": \"auto\", \"title_text_font_size\": {\"value\": \"14pt\"}, \"yscale\": \"auto\", \"y_range\": {\"type\": \"Range1d\", \"id\": \"b3c48b31-f7d8-4acd-9914-b541e9d30055\"}, \"x_mapper_type\": \"auto\", \"renderers\": [{\"type\": \"BoxAnnotation\", \"id\": \"7a3ce128-053d-4045-a599-8cb969371f87\"}, {\"type\": \"GlyphRenderer\", \"id\": \"57b0cb8e-584e-4b84-9eca-b92c5b16d743\"}, {\"type\": \"LinearAxis\", \"id\": \"89d6f047-f4c1-4868-bc88-19d89c7566a1\"}, {\"type\": \"LinearAxis\", \"id\": \"26ea5ad4-e4fc-4189-a6e3-48cbb68b2de1\"}, {\"type\": \"Grid\", \"id\": \"5aa6ad34-ec84-43bd-a417-2fcd78202a94\"}, {\"type\": \"Grid\", \"id\": \"1b10894d-c7d2-4575-973c-c7f9ed1721ac\"}], \"below\": [{\"type\": \"LinearAxis\", \"id\": \"89d6f047-f4c1-4868-bc88-19d89c7566a1\"}], \"tool_events\": {\"type\": \"ToolEvents\", \"id\": \"644d1e81-ebdb-4573-a338-a3d97d682a16\"}, \"xscale\": \"auto\", \"tools\": [{\"type\": \"PanTool\", \"id\": \"f9ff29e6-b016-4679-8ae7-f0ce058172b4\"}, {\"type\": \"WheelZoomTool\", \"id\": \"e28ac5ce-e426-46ae-8229-7b51c5fb28b3\"}, {\"type\": \"BoxZoomTool\", \"id\": \"4c35dab8-142f-486f-bf15-b9a0eeb04f86\"}, {\"type\": \"PreviewSaveTool\", \"id\": \"b2e9b7ff-771b-4638-970a-9efcc48a6be4\"}, {\"type\": \"ResizeTool\", \"id\": \"b0dd5a54-891a-4567-84ec-e6e94514fb3f\"}, {\"type\": \"ResetTool\", \"id\": \"a81bb75f-cd6c-48c0-aa67-c362806b47e9\"}, {\"type\": \"HelpTool\", \"id\": \"c935be62-d7e2-43ef-835c-fe5e1efbb76b\"}], \"legend\": null, \"left\": [{\"type\": \"LinearAxis\", \"id\": \"26ea5ad4-e4fc-4189-a6e3-48cbb68b2de1\"}]}, \"type\": \"Plot\", \"id\": \"d1e28fce-f28a-4fd3-81dc-9fe6d94559a4\", \"subtype\": \"Chart\"}, {\"attributes\": {\"plot\": {\"subtype\": \"Chart\", \"type\": \"Plot\", \"id\": \"d1e28fce-f28a-4fd3-81dc-9fe6d94559a4\"}}, \"type\": \"ResizeTool\", \"id\": \"b0dd5a54-891a-4567-84ec-e6e94514fb3f\"}, {\"attributes\": {}, \"type\": \"BasicTicker\", \"id\": \"9ecb37be-f5be-4807-b153-4089da2dfc41\"}]}, \"title\": \"Bokeh Application\"}};\n",
       "            var render_items = [{\"notebook_comms_target\": \"0546b2b0-f7a9-4784-8432-6d9e1f7c9eff\", \"docid\": \"77a8d048-72a5-4bc7-9104-735c2989a7b6\", \"elementid\": \"c0cef623-c46f-491e-a41f-291ce7295936\", \"modelid\": \"d1e28fce-f28a-4fd3-81dc-9fe6d94559a4\"}];\n",
       "            \n",
       "            Bokeh.embed.embed_items(docs_json, render_items);\n",
       "        });\n",
       "      },\n",
       "      function(Bokeh) {\n",
       "      }\n",
       "    ];\n",
       "  \n",
       "    function run_inline_js() {\n",
       "      for (var i = 0; i < inline_js.length; i++) {\n",
       "        inline_js[i](window.Bokeh);\n",
       "      }\n",
       "    }\n",
       "  \n",
       "    if (window._bokeh_is_loading === 0) {\n",
       "      console.log(\"Bokeh: BokehJS loaded, going straight to plotting\");\n",
       "      run_inline_js();\n",
       "    } else {\n",
       "      load_libs(js_urls, function() {\n",
       "        console.log(\"Bokeh: BokehJS plotting callback run at\", now());\n",
       "        run_inline_js();\n",
       "      });\n",
       "    }\n",
       "  }(this));\n",
       "</script>"
      ]
     },
     "metadata": {},
     "output_type": "display_data"
    },
    {
     "data": {
      "text/plain": [
       "<bokeh.io._CommsHandle at 0x7f9eae7e1850>"
      ]
     },
     "execution_count": 3,
     "metadata": {},
     "output_type": "execute_result"
    }
   ],
   "source": [
    "from bokeh.charts import output_notebook, Scatter, show\n",
    "\n",
    "output_notebook(hide_banner=True)\n",
    "p = Scatter(data=df_train, x='x', y='y')\n",
    "show(p)"
   ]
  },
  {
   "cell_type": "markdown",
   "metadata": {},
   "source": [
    "## Fitting a linear regression model\n",
    "\n",
    "We need a few imports from sklearn - do not worry we will cover this in more detail later.  We are also going to create a scikit learn pipeline class so that we can apply prepprocessing to our data before passing to the linear regression model.  This will allow us to create arbitrary order non-linear multiple polynomial transformations from x."
   ]
  },
  {
   "cell_type": "code",
   "execution_count": 5,
   "metadata": {
    "collapsed": true
   },
   "outputs": [],
   "source": [
    "from sklearn.linear_model import LinearRegression\n",
    "from sklearn.preprocessing import PolynomialFeatures"
   ]
  },
  {
   "cell_type": "markdown",
   "metadata": {},
   "source": [
    "Now we define the model - initially we are using degree 1 polynomial features - the call to `PolynomialFeatures()` with degree=1 is redundant but will be helpful in the exercises belowas we increase the order of the polynomials:"
   ]
  },
  {
   "cell_type": "code",
   "execution_count": 7,
   "metadata": {
    "collapsed": false
   },
   "outputs": [
    {
     "data": {
      "text/plain": [
       "LinearRegression(copy_X=True, fit_intercept=True, n_jobs=1, normalize=False)"
      ]
     },
     "execution_count": 7,
     "metadata": {},
     "output_type": "execute_result"
    }
   ],
   "source": [
    "model = LinearRegression()\n",
    "model.fit(df_train.x.reshape(-1,1), df_train.y)"
   ]
  },
  {
   "cell_type": "markdown",
   "metadata": {},
   "source": [
    "Now we have the model fit to the data we can predict.  Let's predict the y values for the original x:"
   ]
  },
  {
   "cell_type": "code",
   "execution_count": 8,
   "metadata": {
    "collapsed": false
   },
   "outputs": [
    {
     "data": {
      "text/plain": [
       "[(11.2697687831, 12.048324408706499),\n",
       " (8.7347992045500007, 9.6023431649136803),\n",
       " (8.173146226970001, 8.4566026915005992),\n",
       " (5.4244362102299997, 5.5272172546817311),\n",
       " (2.3396962877000003, 4.7664565027105885),\n",
       " (7.7879716006100015, 7.10503474058621),\n",
       " (10.4232313916, 8.4412338597456458),\n",
       " (10.390283031000001, 10.373985744713735),\n",
       " (7.42375101859, 5.9093563701675214),\n",
       " (6.11612369783, 5.8526527144537903)]"
      ]
     },
     "execution_count": 8,
     "metadata": {},
     "output_type": "execute_result"
    }
   ],
   "source": [
    "y_pred=model.predict(df_train.x.reshape(-1,1))\n",
    "zip(df_train.y, y_pred)"
   ]
  },
  {
   "cell_type": "markdown",
   "metadata": {},
   "source": [
    "We could evaluate how well the model has fit the data using a metric such as the mean squared error:\n",
    "\n",
    "$MSE = \\frac{1}{N}\\sum_{i=1}^{N} (y_i - y\\_pred_i) ^2 $"
   ]
  },
  {
   "cell_type": "markdown",
   "metadata": {},
   "source": [
    "<img src='files/resources/ic_assignment_black_24dp_2x.png' align='left'>Write function to compute MSE based on y and y_pred.  \n",
    "What are the units of the MSE?  Do you think this is a good model?"
   ]
  },
  {
   "cell_type": "code",
   "execution_count": null,
   "metadata": {
    "collapsed": false
   },
   "outputs": [],
   "source": [
    "def mse(y,y_pred):\n",
    "    ## TODO implement function to compute MSE\n",
    "\n",
    "    \n",
    "print('mse = {0:6.2f}'.format(mse(df_train.y,y_pred)))"
   ]
  },
  {
   "cell_type": "markdown",
   "metadata": {},
   "source": [
    "## Increasing the flexibility of the model\n",
    "\n",
    "One way to increase the flexibility of the model is to fit a polynomial regression model.  \n",
    "\n",
    "Recall that the linear regression model fits a linear function of the $x$'s:\n",
    "\n",
    "$y = \\alpha + \\beta x$\n",
    "\n",
    "We can create a polynomial regression by extending the linear model to include polynomial transformations of $x$ as additional features.  The model is still linear in the parameters but the features have had a non-linear transformation applied - this gives the model increased flexibility:\n",
    "\n",
    "$y = \\alpha + \\beta_1 x + \\beta_2 x^2 + \\beta_3 x^3 + .... + \\beta_n x^n$\n",
    "\n",
    "Scikit-learn provides the `PolynomialFeatures()` method to create polynomial features.  For example here are the degree 0 through 4 features created by the method when applied to the vector $[1, 2, 3, 4]$:"
   ]
  },
  {
   "cell_type": "code",
   "execution_count": 32,
   "metadata": {
    "collapsed": false
   },
   "outputs": [
    {
     "data": {
      "text/plain": [
       "array([[   1.,    1.,    1.,    1.,    1.],\n",
       "       [   1.,    2.,    4.,    8.,   16.],\n",
       "       [   1.,    3.,    9.,   27.,   81.],\n",
       "       [   1.,    4.,   16.,   64.,  256.]])"
      ]
     },
     "execution_count": 32,
     "metadata": {},
     "output_type": "execute_result"
    }
   ],
   "source": [
    "data = np.array([1,2,3,4]).reshape(-1,1)\n",
    "poly = PolynomialFeatures(degree=4)\n",
    "poly.fit(data)\n",
    "X = poly.transform(data)\n",
    "X"
   ]
  },
  {
   "cell_type": "markdown",
   "metadata": {},
   "source": [
    "By using the `PolynomialFeatures()` method the linear model has non-linear transformations of the original features.  The resulting model is still 'linear in the parameters' - but now includes non-linear transformations of the original features."
   ]
  },
  {
   "cell_type": "markdown",
   "metadata": {},
   "source": [
    "<img src='files/resources/ic_assignment_black_24dp_2x.png' align='left'>Do you think that the non-linear transformations will increase of decrease the ability of the model to fit the training data (i.e. reduce the MSE)?  Write a function to fit a degree 'n' polynomial regression model and output the MSE.  Test it by computing the MSE for all degree's up to 10."
   ]
  },
  {
   "cell_type": "code",
   "execution_count": null,
   "metadata": {
    "collapsed": false
   },
   "outputs": [],
   "source": [
    "def fitPolynomialRegression(x, y, degree=1):    \n",
    "    # TODO fit a polynomial regression return the MSE\n",
    "\n",
    "    \n",
    "for degree in range(0,11):\n",
    "    print('Degree = {0:2d} MSE = {1:6.2f}'\n",
    "          .format(degree, fitPolynomialRegression(df_train.x.reshape(-1,1), df_train.y, degree)))"
   ]
  },
  {
   "cell_type": "markdown",
   "metadata": {},
   "source": [
    "<img src='files/resources/ic_assignment_black_24dp_2x.png' align='left'>What happens to the MSE as the degree of the polynomial regression increase?  Which is the best model?  \n",
    "Which one would you use to predict new data?"
   ]
  },
  {
   "cell_type": "markdown",
   "metadata": {},
   "source": [
    "# Test error vs train error\n",
    "\n",
    "We have another data set from the same data generating process.  This data was not used to fit the model but can be used to see how well the models predict future unknown data points.  We call this data the 'test' set."
   ]
  },
  {
   "cell_type": "code",
   "execution_count": 34,
   "metadata": {
    "collapsed": false
   },
   "outputs": [
    {
     "data": {
      "text/html": [
       "<div>\n",
       "<table border=\"1\" class=\"dataframe\">\n",
       "  <thead>\n",
       "    <tr style=\"text-align: right;\">\n",
       "      <th></th>\n",
       "      <th>x</th>\n",
       "      <th>y</th>\n",
       "    </tr>\n",
       "  </thead>\n",
       "  <tbody>\n",
       "    <tr>\n",
       "      <th>0</th>\n",
       "      <td>17.878083</td>\n",
       "      <td>10.699816</td>\n",
       "    </tr>\n",
       "    <tr>\n",
       "      <th>1</th>\n",
       "      <td>0.255616</td>\n",
       "      <td>1.543354</td>\n",
       "    </tr>\n",
       "    <tr>\n",
       "      <th>2</th>\n",
       "      <td>14.498679</td>\n",
       "      <td>8.531225</td>\n",
       "    </tr>\n",
       "    <tr>\n",
       "      <th>3</th>\n",
       "      <td>17.015902</td>\n",
       "      <td>9.661305</td>\n",
       "    </tr>\n",
       "    <tr>\n",
       "      <th>4</th>\n",
       "      <td>9.264371</td>\n",
       "      <td>7.449388</td>\n",
       "    </tr>\n",
       "    <tr>\n",
       "      <th>5</th>\n",
       "      <td>0.389505</td>\n",
       "      <td>2.978019</td>\n",
       "    </tr>\n",
       "    <tr>\n",
       "      <th>6</th>\n",
       "      <td>2.174721</td>\n",
       "      <td>7.405458</td>\n",
       "    </tr>\n",
       "    <tr>\n",
       "      <th>7</th>\n",
       "      <td>8.404072</td>\n",
       "      <td>9.296855</td>\n",
       "    </tr>\n",
       "    <tr>\n",
       "      <th>8</th>\n",
       "      <td>17.143085</td>\n",
       "      <td>10.059268</td>\n",
       "    </tr>\n",
       "    <tr>\n",
       "      <th>9</th>\n",
       "      <td>3.605394</td>\n",
       "      <td>7.557129</td>\n",
       "    </tr>\n",
       "  </tbody>\n",
       "</table>\n",
       "</div>"
      ],
      "text/plain": [
       "           x          y\n",
       "0  17.878083  10.699816\n",
       "1   0.255616   1.543354\n",
       "2  14.498679   8.531225\n",
       "3  17.015902   9.661305\n",
       "4   9.264371   7.449388\n",
       "5   0.389505   2.978019\n",
       "6   2.174721   7.405458\n",
       "7   8.404072   9.296855\n",
       "8  17.143085  10.059268\n",
       "9   3.605394   7.557129"
      ]
     },
     "execution_count": 34,
     "metadata": {},
     "output_type": "execute_result"
    }
   ],
   "source": [
    "df_test = pd.read_csv('data/ml-data-test.csv')\n",
    "df_test"
   ]
  },
  {
   "cell_type": "code",
   "execution_count": 35,
   "metadata": {
    "collapsed": false,
    "scrolled": false
   },
   "outputs": [
    {
     "data": {
      "text/html": [
       "\n",
       "\n",
       "    <div class=\"plotdiv\" id=\"ee3371af-8b40-40cc-add0-c05a02666871\"></div>\n",
       "<script type=\"text/javascript\">\n",
       "  \n",
       "  (function(global) {\n",
       "    function now() {\n",
       "      return new Date();\n",
       "    }\n",
       "  \n",
       "    if (typeof (window._bokeh_onload_callbacks) === \"undefined\") {\n",
       "      window._bokeh_onload_callbacks = [];\n",
       "    }\n",
       "  \n",
       "    function run_callbacks() {\n",
       "      window._bokeh_onload_callbacks.forEach(function(callback) { callback() });\n",
       "      delete window._bokeh_onload_callbacks\n",
       "      console.info(\"Bokeh: all callbacks have finished\");\n",
       "    }\n",
       "  \n",
       "    function load_libs(js_urls, callback) {\n",
       "      window._bokeh_onload_callbacks.push(callback);\n",
       "      if (window._bokeh_is_loading > 0) {\n",
       "        console.log(\"Bokeh: BokehJS is being loaded, scheduling callback at\", now());\n",
       "        return null;\n",
       "      }\n",
       "      if (js_urls == null || js_urls.length === 0) {\n",
       "        run_callbacks();\n",
       "        return null;\n",
       "      }\n",
       "      console.log(\"Bokeh: BokehJS not loaded, scheduling load and callback at\", now());\n",
       "      window._bokeh_is_loading = js_urls.length;\n",
       "      for (var i = 0; i < js_urls.length; i++) {\n",
       "        var url = js_urls[i];\n",
       "        var s = document.createElement('script');\n",
       "        s.src = url;\n",
       "        s.async = false;\n",
       "        s.onreadystatechange = s.onload = function() {\n",
       "          window._bokeh_is_loading--;\n",
       "          if (window._bokeh_is_loading === 0) {\n",
       "            console.log(\"Bokeh: all BokehJS libraries loaded\");\n",
       "            run_callbacks()\n",
       "          }\n",
       "        };\n",
       "        s.onerror = function() {\n",
       "          console.warn(\"failed to load library \" + url);\n",
       "        };\n",
       "        console.log(\"Bokeh: injecting script tag for BokehJS library: \", url);\n",
       "        document.getElementsByTagName(\"head\")[0].appendChild(s);\n",
       "      }\n",
       "    };var element = document.getElementById(\"ee3371af-8b40-40cc-add0-c05a02666871\");\n",
       "    if (element == null) {\n",
       "      console.log(\"Bokeh: ERROR: autoload.js configured with elementid 'ee3371af-8b40-40cc-add0-c05a02666871' but no matching script tag was found. \")\n",
       "      return false;\n",
       "    }var js_urls = [];\n",
       "  \n",
       "    var inline_js = [\n",
       "      function(Bokeh) {\n",
       "        Bokeh.$(function() {\n",
       "            var docs_json = {\"0f754abc-48ba-4417-ba73-b3f0c9f342a6\": {\"version\": \"0.11.0\", \"roots\": {\"root_ids\": [\"d1e28fce-f28a-4fd3-81dc-9fe6d94559a4\", \"6517ec9d-5253-49d9-bbad-277a3ca5b4e4\"], \"references\": [{\"attributes\": {\"plot\": {\"subtype\": \"Chart\", \"type\": \"Plot\", \"id\": \"d1e28fce-f28a-4fd3-81dc-9fe6d94559a4\"}, \"axis_label\": \"y\", \"formatter\": {\"type\": \"BasicTickFormatter\", \"id\": \"90ad87bb-43e8-486a-9baa-44aecb8bbbc4\"}, \"ticker\": {\"type\": \"BasicTicker\", \"id\": \"9ecb37be-f5be-4807-b153-4089da2dfc41\"}}, \"type\": \"LinearAxis\", \"id\": \"26ea5ad4-e4fc-4189-a6e3-48cbb68b2de1\"}, {\"attributes\": {\"line_color\": {\"value\": \"black\"}, \"line_alpha\": {\"value\": 1.0}, \"render_mode\": \"css\", \"bottom_units\": \"screen\", \"level\": \"overlay\", \"top_units\": \"screen\", \"fill_alpha\": {\"value\": 0.5}, \"plot\": null, \"left_units\": \"screen\", \"line_dash\": [4, 4], \"line_width\": {\"value\": 2}, \"right_units\": \"screen\", \"fill_color\": {\"value\": \"lightgrey\"}}, \"type\": \"BoxAnnotation\", \"id\": \"7a3ce128-053d-4045-a599-8cb969371f87\"}, {\"attributes\": {}, \"type\": \"ToolEvents\", \"id\": \"db87a7cf-5556-4600-89e0-bdef246d8981\"}, {\"attributes\": {}, \"type\": \"ToolEvents\", \"id\": \"644d1e81-ebdb-4573-a338-a3d97d682a16\"}, {\"attributes\": {\"plot\": {\"subtype\": \"Chart\", \"type\": \"Plot\", \"id\": \"d1e28fce-f28a-4fd3-81dc-9fe6d94559a4\"}}, \"type\": \"PanTool\", \"id\": \"f9ff29e6-b016-4679-8ae7-f0ce058172b4\"}, {\"attributes\": {\"callback\": null}, \"type\": \"DataRange1d\", \"id\": \"6304b3af-e5b4-403d-bbb5-b7591264f375\"}, {\"attributes\": {\"x_range\": {\"type\": \"DataRange1d\", \"id\": \"6304b3af-e5b4-403d-bbb5-b7591264f375\"}, \"y_range\": {\"type\": \"DataRange1d\", \"id\": \"6da595e5-267c-40ba-aa29-b765a52219e6\"}, \"renderers\": [{\"type\": \"LinearAxis\", \"id\": \"e72ecd17-9701-43c0-8f36-8c54f07699c1\"}, {\"type\": \"Grid\", \"id\": \"ba8bc845-056b-4a71-913e-fcfcff113084\"}, {\"type\": \"LinearAxis\", \"id\": \"2e301e4c-8b76-4f8f-ae8f-aad9f054c532\"}, {\"type\": \"Grid\", \"id\": \"14a9e146-f5a1-499f-913e-01b51ccecebc\"}, {\"type\": \"BoxAnnotation\", \"id\": \"041a14ef-c8c9-4716-ad72-86c194079e7f\"}, {\"type\": \"GlyphRenderer\", \"id\": \"00455df7-5b26-4f40-8b6d-77f262dbeaf3\"}, {\"type\": \"GlyphRenderer\", \"id\": \"cdf8e99b-5d9e-4213-ae2a-4304fe21f160\"}], \"below\": [{\"type\": \"LinearAxis\", \"id\": \"e72ecd17-9701-43c0-8f36-8c54f07699c1\"}], \"tool_events\": {\"type\": \"ToolEvents\", \"id\": \"db87a7cf-5556-4600-89e0-bdef246d8981\"}, \"tools\": [{\"type\": \"PanTool\", \"id\": \"91f88410-773b-4e4d-9ec6-020448228d83\"}, {\"type\": \"WheelZoomTool\", \"id\": \"25e61387-2135-4ae4-be1e-e94016b195e7\"}, {\"type\": \"BoxZoomTool\", \"id\": \"2eeb1c5a-5108-47a8-864e-faa03a2cfbba\"}, {\"type\": \"PreviewSaveTool\", \"id\": \"3315124c-2cbf-4cd6-bcc9-f0dc64256e8a\"}, {\"type\": \"ResizeTool\", \"id\": \"90ccccc5-0411-4b71-be0e-878c99f21dd9\"}, {\"type\": \"ResetTool\", \"id\": \"b045f4bc-263c-41bb-b73b-6839cac76703\"}, {\"type\": \"HelpTool\", \"id\": \"c27ecd37-20e4-4e2b-aae9-61036276aeac\"}], \"left\": [{\"type\": \"LinearAxis\", \"id\": \"2e301e4c-8b76-4f8f-ae8f-aad9f054c532\"}]}, \"type\": \"Plot\", \"id\": \"6517ec9d-5253-49d9-bbad-277a3ca5b4e4\", \"subtype\": \"Figure\"}, {\"attributes\": {}, \"type\": \"BasicTicker\", \"id\": \"8f4dc2fa-6ee6-49c2-b7b0-32297e55003e\"}, {\"attributes\": {\"nonselection_glyph\": {\"type\": \"Circle\", \"id\": \"a1c8023e-7b19-4e5e-86ba-34c967865064\"}, \"data_source\": {\"type\": \"ColumnDataSource\", \"id\": \"71cfb07e-755f-462f-9aa4-5abab07e0c5f\"}, \"selection_glyph\": null, \"hover_glyph\": null, \"glyph\": {\"type\": \"Circle\", \"id\": \"d6b250ca-fd16-452c-b1d1-df315fda9241\"}}, \"type\": \"GlyphRenderer\", \"id\": \"00455df7-5b26-4f40-8b6d-77f262dbeaf3\"}, {\"attributes\": {\"line_color\": {\"value\": \"Orange\"}, \"x\": {\"field\": \"x\"}, \"y\": {\"field\": \"y\"}, \"fill_color\": {\"value\": \"Orange\"}, \"size\": {\"units\": \"screen\", \"value\": 10}}, \"type\": \"Circle\", \"id\": \"d6b250ca-fd16-452c-b1d1-df315fda9241\"}, {\"attributes\": {}, \"type\": \"BasicTicker\", \"id\": \"94d4ce4d-7c27-4970-be4e-9c3793ee802e\"}, {\"attributes\": {\"plot\": {\"subtype\": \"Chart\", \"type\": \"Plot\", \"id\": \"d1e28fce-f28a-4fd3-81dc-9fe6d94559a4\"}}, \"type\": \"WheelZoomTool\", \"id\": \"e28ac5ce-e426-46ae-8229-7b51c5fb28b3\"}, {\"attributes\": {\"plot\": {\"subtype\": \"Figure\", \"type\": \"Plot\", \"id\": \"6517ec9d-5253-49d9-bbad-277a3ca5b4e4\"}, \"overlay\": {\"type\": \"BoxAnnotation\", \"id\": \"041a14ef-c8c9-4716-ad72-86c194079e7f\"}}, \"type\": \"BoxZoomTool\", \"id\": \"2eeb1c5a-5108-47a8-864e-faa03a2cfbba\"}, {\"attributes\": {}, \"type\": \"BasicTickFormatter\", \"id\": \"572fa138-076c-4250-bce2-70a9f7613321\"}, {\"attributes\": {\"callback\": null, \"column_names\": [\"x_values\", \"y_values\"], \"data\": {\"x_values\": [18.836133046900002, 12.646680276500001, 9.7474321464, 2.3347453756, 0.40967225582500005, 6.32734623225, 9.70854196336, 14.5992894044, 3.3017323519, 3.1582461335], \"chart_index\": [null, null, null, null, null, null, null, null, null, null], \"y_values\": [11.2697687831, 8.73479920455, 8.173146226970001, 5.42443621023, 2.3396962877000003, 7.7879716006100015, 10.4232313916, 10.390283031000001, 7.42375101859, 6.11612369783]}}, \"type\": \"ColumnDataSource\", \"id\": \"c04851c5-abe8-4170-bda4-6ec18f7c0488\"}, {\"attributes\": {\"callback\": null, \"column_names\": [\"y\", \"x\"], \"data\": {\"y\": [11.2697687831, 8.73479920455, 8.173146226970001, 5.42443621023, 2.3396962877000003, 7.7879716006100015, 10.4232313916, 10.390283031000001, 7.42375101859, 6.11612369783], \"x\": [18.836133046900002, 12.646680276500001, 9.7474321464, 2.3347453756, 0.40967225582500005, 6.32734623225, 9.70854196336, 14.5992894044, 3.3017323519, 3.1582461335]}}, \"type\": \"ColumnDataSource\", \"id\": \"71cfb07e-755f-462f-9aa4-5abab07e0c5f\"}, {\"attributes\": {\"plot\": {\"subtype\": \"Chart\", \"type\": \"Plot\", \"id\": \"d1e28fce-f28a-4fd3-81dc-9fe6d94559a4\"}, \"overlay\": {\"type\": \"BoxAnnotation\", \"id\": \"7a3ce128-053d-4045-a599-8cb969371f87\"}}, \"type\": \"BoxZoomTool\", \"id\": \"4c35dab8-142f-486f-bf15-b9a0eeb04f86\"}, {\"attributes\": {}, \"type\": \"BasicTickFormatter\", \"id\": \"9ec7a4ba-a29d-42c3-b83e-6c2e8cf6171f\"}, {\"attributes\": {\"line_color\": {\"value\": \"#1f77b4\"}, \"line_alpha\": {\"value\": 0.1}, \"fill_color\": {\"value\": \"#1f77b4\"}, \"fill_alpha\": {\"value\": 0.1}, \"y\": {\"field\": \"y\"}, \"x\": {\"field\": \"x\"}, \"size\": {\"units\": \"screen\", \"value\": 10}}, \"type\": \"Circle\", \"id\": \"a1c8023e-7b19-4e5e-86ba-34c967865064\"}, {\"attributes\": {\"plot\": {\"subtype\": \"Figure\", \"type\": \"Plot\", \"id\": \"6517ec9d-5253-49d9-bbad-277a3ca5b4e4\"}}, \"type\": \"WheelZoomTool\", \"id\": \"25e61387-2135-4ae4-be1e-e94016b195e7\"}, {\"attributes\": {\"plot\": {\"subtype\": \"Chart\", \"type\": \"Plot\", \"id\": \"d1e28fce-f28a-4fd3-81dc-9fe6d94559a4\"}, \"axis_label\": \"x\", \"formatter\": {\"type\": \"BasicTickFormatter\", \"id\": \"572fa138-076c-4250-bce2-70a9f7613321\"}, \"ticker\": {\"type\": \"BasicTicker\", \"id\": \"94d4ce4d-7c27-4970-be4e-9c3793ee802e\"}}, \"type\": \"LinearAxis\", \"id\": \"89d6f047-f4c1-4868-bc88-19d89c7566a1\"}, {\"attributes\": {\"line_color\": {\"value\": \"black\"}, \"line_alpha\": {\"value\": 1.0}, \"render_mode\": \"css\", \"bottom_units\": \"screen\", \"level\": \"overlay\", \"top_units\": \"screen\", \"fill_alpha\": {\"value\": 0.5}, \"plot\": null, \"left_units\": \"screen\", \"line_dash\": [4, 4], \"line_width\": {\"value\": 2}, \"right_units\": \"screen\", \"fill_color\": {\"value\": \"lightgrey\"}}, \"type\": \"BoxAnnotation\", \"id\": \"041a14ef-c8c9-4716-ad72-86c194079e7f\"}, {\"attributes\": {\"plot\": {\"subtype\": \"Chart\", \"type\": \"Plot\", \"id\": \"d1e28fce-f28a-4fd3-81dc-9fe6d94559a4\"}, \"ticker\": {\"type\": \"BasicTicker\", \"id\": \"9ecb37be-f5be-4807-b153-4089da2dfc41\"}, \"dimension\": 1}, \"type\": \"Grid\", \"id\": \"1b10894d-c7d2-4575-973c-c7f9ed1721ac\"}, {\"attributes\": {\"nonselection_glyph\": {\"type\": \"Circle\", \"id\": \"8e427ebd-c3f2-46e4-a54a-b36f53f4ff72\"}, \"data_source\": {\"type\": \"ColumnDataSource\", \"id\": \"3c8ad22a-0cdb-4821-8b21-f0f3dfd4021a\"}, \"selection_glyph\": null, \"hover_glyph\": null, \"glyph\": {\"type\": \"Circle\", \"id\": \"9cb76541-0532-49a0-a822-3265f5e5269b\"}}, \"type\": \"GlyphRenderer\", \"id\": \"cdf8e99b-5d9e-4213-ae2a-4304fe21f160\"}, {\"attributes\": {\"plot\": {\"subtype\": \"Figure\", \"type\": \"Plot\", \"id\": \"6517ec9d-5253-49d9-bbad-277a3ca5b4e4\"}, \"axis_label\": \"y\", \"formatter\": {\"type\": \"BasicTickFormatter\", \"id\": \"9ec7a4ba-a29d-42c3-b83e-6c2e8cf6171f\"}, \"ticker\": {\"type\": \"BasicTicker\", \"id\": \"8f4dc2fa-6ee6-49c2-b7b0-32297e55003e\"}}, \"type\": \"LinearAxis\", \"id\": \"e72ecd17-9701-43c0-8f36-8c54f07699c1\"}, {\"attributes\": {\"callback\": null, \"end\": 20.678779126007502, \"start\": -1.4329738232825002}, \"type\": \"Range1d\", \"id\": \"c5f0f7c4-e919-4973-85ad-b3024dcbfc35\"}, {\"attributes\": {\"line_color\": {\"value\": \"#1f77b4\"}, \"line_alpha\": {\"value\": 0.1}, \"fill_color\": {\"value\": \"#1f77b4\"}, \"fill_alpha\": {\"value\": 0.1}, \"y\": {\"field\": \"y\"}, \"x\": {\"field\": \"x\"}, \"size\": {\"units\": \"screen\", \"value\": 10}}, \"type\": \"Circle\", \"id\": \"8e427ebd-c3f2-46e4-a54a-b36f53f4ff72\"}, {\"attributes\": {\"nonselection_glyph\": null, \"data_source\": {\"type\": \"ColumnDataSource\", \"id\": \"c04851c5-abe8-4170-bda4-6ec18f7c0488\"}, \"selection_glyph\": null, \"hover_glyph\": null, \"glyph\": {\"type\": \"Circle\", \"id\": \"ea0cf6c1-9e9e-4bd6-9d80-35baeb4ea9c7\"}}, \"type\": \"GlyphRenderer\", \"id\": \"57b0cb8e-584e-4b84-9eca-b92c5b16d743\"}, {\"attributes\": {\"plot\": {\"subtype\": \"Figure\", \"type\": \"Plot\", \"id\": \"6517ec9d-5253-49d9-bbad-277a3ca5b4e4\"}}, \"type\": \"PreviewSaveTool\", \"id\": \"3315124c-2cbf-4cd6-bcc9-f0dc64256e8a\"}, {\"attributes\": {\"plot\": {\"subtype\": \"Figure\", \"type\": \"Plot\", \"id\": \"6517ec9d-5253-49d9-bbad-277a3ca5b4e4\"}}, \"type\": \"ResizeTool\", \"id\": \"90ccccc5-0411-4b71-be0e-878c99f21dd9\"}, {\"attributes\": {\"plot\": {\"subtype\": \"Figure\", \"type\": \"Plot\", \"id\": \"6517ec9d-5253-49d9-bbad-277a3ca5b4e4\"}, \"ticker\": {\"type\": \"BasicTicker\", \"id\": \"8f4dc2fa-6ee6-49c2-b7b0-32297e55003e\"}}, \"type\": \"Grid\", \"id\": \"ba8bc845-056b-4a71-913e-fcfcff113084\"}, {\"attributes\": {\"plot\": {\"subtype\": \"Chart\", \"type\": \"Plot\", \"id\": \"d1e28fce-f28a-4fd3-81dc-9fe6d94559a4\"}}, \"type\": \"HelpTool\", \"id\": \"c935be62-d7e2-43ef-835c-fe5e1efbb76b\"}, {\"attributes\": {\"line_color\": {\"value\": \"Red\"}, \"x\": {\"field\": \"x\"}, \"y\": {\"field\": \"y\"}, \"fill_color\": {\"value\": \"Red\"}, \"size\": {\"units\": \"screen\", \"value\": 10}}, \"type\": \"Circle\", \"id\": \"9cb76541-0532-49a0-a822-3265f5e5269b\"}, {\"attributes\": {\"plot\": {\"subtype\": \"Figure\", \"type\": \"Plot\", \"id\": \"6517ec9d-5253-49d9-bbad-277a3ca5b4e4\"}}, \"type\": \"PanTool\", \"id\": \"91f88410-773b-4e4d-9ec6-020448228d83\"}, {\"attributes\": {\"plot\": {\"subtype\": \"Figure\", \"type\": \"Plot\", \"id\": \"6517ec9d-5253-49d9-bbad-277a3ca5b4e4\"}, \"formatter\": {\"type\": \"BasicTickFormatter\", \"id\": \"4b7c6bee-8912-4695-a7f7-5b05f2237bc8\"}, \"ticker\": {\"type\": \"BasicTicker\", \"id\": \"0d3cfd67-c891-4b07-bac2-8456f5ad5e8b\"}}, \"type\": \"LinearAxis\", \"id\": \"2e301e4c-8b76-4f8f-ae8f-aad9f054c532\"}, {\"attributes\": {\"plot\": {\"subtype\": \"Figure\", \"type\": \"Plot\", \"id\": \"6517ec9d-5253-49d9-bbad-277a3ca5b4e4\"}}, \"type\": \"ResetTool\", \"id\": \"b045f4bc-263c-41bb-b73b-6839cac76703\"}, {\"attributes\": {\"callback\": null, \"column_names\": [\"y\", \"x\"], \"data\": {\"y\": [10.6998160593, 1.5433543664700002, 8.53122485764, 9.66130506799, 7.449388416789999, 2.97801924129, 7.405457889510001, 9.29685520665, 10.0592680938, 7.55712939462], \"x\": [17.8780834057, 0.255616291812, 14.4986785838, 17.0159017875, 9.26437052997, 0.38950482975199996, 2.17472143738, 8.404072091749999, 17.1430849415, 3.6053937775400002]}}, \"type\": \"ColumnDataSource\", \"id\": \"3c8ad22a-0cdb-4821-8b21-f0f3dfd4021a\"}, {\"attributes\": {\"plot\": {\"subtype\": \"Chart\", \"type\": \"Plot\", \"id\": \"d1e28fce-f28a-4fd3-81dc-9fe6d94559a4\"}}, \"type\": \"PreviewSaveTool\", \"id\": \"b2e9b7ff-771b-4638-970a-9efcc48a6be4\"}, {\"attributes\": {}, \"type\": \"BasicTickFormatter\", \"id\": \"90ad87bb-43e8-486a-9baa-44aecb8bbbc4\"}, {\"attributes\": {\"line_color\": {\"value\": \"#f22c40\"}, \"fill_color\": {\"value\": \"#f22c40\"}, \"fill_alpha\": {\"value\": 0.7}, \"y\": {\"field\": \"y_values\"}, \"x\": {\"field\": \"x_values\"}, \"size\": {\"units\": \"screen\", \"value\": 8}}, \"type\": \"Circle\", \"id\": \"ea0cf6c1-9e9e-4bd6-9d80-35baeb4ea9c7\"}, {\"attributes\": {}, \"type\": \"BasicTicker\", \"id\": \"0d3cfd67-c891-4b07-bac2-8456f5ad5e8b\"}, {\"attributes\": {\"callback\": null}, \"type\": \"DataRange1d\", \"id\": \"6da595e5-267c-40ba-aa29-b765a52219e6\"}, {\"attributes\": {\"callback\": null, \"end\": 12.16277603264, \"start\": 1.4466890381600002}, \"type\": \"Range1d\", \"id\": \"b3c48b31-f7d8-4acd-9914-b541e9d30055\"}, {\"attributes\": {\"x_range\": {\"type\": \"Range1d\", \"id\": \"c5f0f7c4-e919-4973-85ad-b3024dcbfc35\"}, \"y_mapper_type\": \"auto\", \"title_text_font_size\": {\"value\": \"14pt\"}, \"yscale\": \"auto\", \"y_range\": {\"type\": \"Range1d\", \"id\": \"b3c48b31-f7d8-4acd-9914-b541e9d30055\"}, \"x_mapper_type\": \"auto\", \"renderers\": [{\"type\": \"BoxAnnotation\", \"id\": \"7a3ce128-053d-4045-a599-8cb969371f87\"}, {\"type\": \"GlyphRenderer\", \"id\": \"57b0cb8e-584e-4b84-9eca-b92c5b16d743\"}, {\"type\": \"LinearAxis\", \"id\": \"89d6f047-f4c1-4868-bc88-19d89c7566a1\"}, {\"type\": \"LinearAxis\", \"id\": \"26ea5ad4-e4fc-4189-a6e3-48cbb68b2de1\"}, {\"type\": \"Grid\", \"id\": \"5aa6ad34-ec84-43bd-a417-2fcd78202a94\"}, {\"type\": \"Grid\", \"id\": \"1b10894d-c7d2-4575-973c-c7f9ed1721ac\"}], \"below\": [{\"type\": \"LinearAxis\", \"id\": \"89d6f047-f4c1-4868-bc88-19d89c7566a1\"}], \"tool_events\": {\"type\": \"ToolEvents\", \"id\": \"644d1e81-ebdb-4573-a338-a3d97d682a16\"}, \"xscale\": \"auto\", \"tools\": [{\"type\": \"PanTool\", \"id\": \"f9ff29e6-b016-4679-8ae7-f0ce058172b4\"}, {\"type\": \"WheelZoomTool\", \"id\": \"e28ac5ce-e426-46ae-8229-7b51c5fb28b3\"}, {\"type\": \"BoxZoomTool\", \"id\": \"4c35dab8-142f-486f-bf15-b9a0eeb04f86\"}, {\"type\": \"PreviewSaveTool\", \"id\": \"b2e9b7ff-771b-4638-970a-9efcc48a6be4\"}, {\"type\": \"ResizeTool\", \"id\": \"b0dd5a54-891a-4567-84ec-e6e94514fb3f\"}, {\"type\": \"ResetTool\", \"id\": \"a81bb75f-cd6c-48c0-aa67-c362806b47e9\"}, {\"type\": \"HelpTool\", \"id\": \"c935be62-d7e2-43ef-835c-fe5e1efbb76b\"}], \"legend\": null, \"left\": [{\"type\": \"LinearAxis\", \"id\": \"26ea5ad4-e4fc-4189-a6e3-48cbb68b2de1\"}]}, \"type\": \"Plot\", \"id\": \"d1e28fce-f28a-4fd3-81dc-9fe6d94559a4\", \"subtype\": \"Chart\"}, {\"attributes\": {}, \"type\": \"BasicTickFormatter\", \"id\": \"4b7c6bee-8912-4695-a7f7-5b05f2237bc8\"}, {\"attributes\": {\"plot\": {\"subtype\": \"Chart\", \"type\": \"Plot\", \"id\": \"d1e28fce-f28a-4fd3-81dc-9fe6d94559a4\"}, \"ticker\": {\"type\": \"BasicTicker\", \"id\": \"94d4ce4d-7c27-4970-be4e-9c3793ee802e\"}}, \"type\": \"Grid\", \"id\": \"5aa6ad34-ec84-43bd-a417-2fcd78202a94\"}, {\"attributes\": {\"plot\": {\"subtype\": \"Figure\", \"type\": \"Plot\", \"id\": \"6517ec9d-5253-49d9-bbad-277a3ca5b4e4\"}}, \"type\": \"HelpTool\", \"id\": \"c27ecd37-20e4-4e2b-aae9-61036276aeac\"}, {\"attributes\": {\"plot\": {\"subtype\": \"Chart\", \"type\": \"Plot\", \"id\": \"d1e28fce-f28a-4fd3-81dc-9fe6d94559a4\"}}, \"type\": \"ResizeTool\", \"id\": \"b0dd5a54-891a-4567-84ec-e6e94514fb3f\"}, {\"attributes\": {\"plot\": {\"subtype\": \"Figure\", \"type\": \"Plot\", \"id\": \"6517ec9d-5253-49d9-bbad-277a3ca5b4e4\"}, \"ticker\": {\"type\": \"BasicTicker\", \"id\": \"0d3cfd67-c891-4b07-bac2-8456f5ad5e8b\"}, \"dimension\": 1}, \"type\": \"Grid\", \"id\": \"14a9e146-f5a1-499f-913e-01b51ccecebc\"}, {\"attributes\": {}, \"type\": \"BasicTicker\", \"id\": \"9ecb37be-f5be-4807-b153-4089da2dfc41\"}, {\"attributes\": {\"plot\": {\"subtype\": \"Chart\", \"type\": \"Plot\", \"id\": \"d1e28fce-f28a-4fd3-81dc-9fe6d94559a4\"}}, \"type\": \"ResetTool\", \"id\": \"a81bb75f-cd6c-48c0-aa67-c362806b47e9\"}]}, \"title\": \"Bokeh Application\"}};\n",
       "            var render_items = [{\"notebook_comms_target\": \"0b12687a-fe73-48e9-a76a-c0a1343b6f45\", \"docid\": \"0f754abc-48ba-4417-ba73-b3f0c9f342a6\", \"elementid\": \"ee3371af-8b40-40cc-add0-c05a02666871\", \"modelid\": \"6517ec9d-5253-49d9-bbad-277a3ca5b4e4\"}];\n",
       "            \n",
       "            Bokeh.embed.embed_items(docs_json, render_items);\n",
       "        });\n",
       "      },\n",
       "      function(Bokeh) {\n",
       "      }\n",
       "    ];\n",
       "  \n",
       "    function run_inline_js() {\n",
       "      for (var i = 0; i < inline_js.length; i++) {\n",
       "        inline_js[i](window.Bokeh);\n",
       "      }\n",
       "    }\n",
       "  \n",
       "    if (window._bokeh_is_loading === 0) {\n",
       "      console.log(\"Bokeh: BokehJS loaded, going straight to plotting\");\n",
       "      run_inline_js();\n",
       "    } else {\n",
       "      load_libs(js_urls, function() {\n",
       "        console.log(\"Bokeh: BokehJS plotting callback run at\", now());\n",
       "        run_inline_js();\n",
       "      });\n",
       "    }\n",
       "  }(this));\n",
       "</script>"
      ]
     },
     "metadata": {},
     "output_type": "display_data"
    },
    {
     "data": {
      "text/plain": [
       "<bokeh.io._CommsHandle at 0x7f9ea3021f50>"
      ]
     },
     "execution_count": 35,
     "metadata": {},
     "output_type": "execute_result"
    }
   ],
   "source": [
    "from bokeh.plotting import figure\n",
    "\n",
    "p = figure()\n",
    "p.circle(x=df_train.x, y= df_train.y, color='Orange', size=10)\n",
    "p.circle(x=df_test.x, y= df_test.y, color='Red', size=10)\n",
    "p.xaxis.axis_label='x'\n",
    "p.xaxis.axis_label='y'\n",
    "show(p)"
   ]
  },
  {
   "cell_type": "markdown",
   "metadata": {},
   "source": [
    "<img src='files/resources/ic_assignment_black_24dp_2x.png' align='left'>Write a function to fit a degree 'n' polynomial regression model to the training data like before - but this time return the MSE on the training and test data as a list with two elements.  What do you notice about the test error?  Which model is the best?"
   ]
  },
  {
   "cell_type": "code",
   "execution_count": null,
   "metadata": {
    "collapsed": false
   },
   "outputs": [],
   "source": [
    "def fitPolynomialRegression(x, y, x_test, y_test, degree=1):    \n",
    "    # TODO fit a polynomial regression and return both train and test MSE\n",
    "\n",
    "    \n",
    "for degree in range(1,11):\n",
    "    fit = fitPolynomialRegression(df_train.x.reshape(-1,1), df_train.y, df_test.x.reshape(-1,1), df_test.y, degree)\n",
    "    print('Degree = {0:2d} Train MSE = {1:6.2f} Test MSE = {2:6.2f}'\n",
    "          .format(degree, fit[0], fit[1]))"
   ]
  }
 ],
 "metadata": {
  "kernelspec": {
   "display_name": "Python 2",
   "language": "python",
   "name": "python2"
  },
  "language_info": {
   "codemirror_mode": {
    "name": "ipython",
    "version": 2
   },
   "file_extension": ".py",
   "mimetype": "text/x-python",
   "name": "python",
   "nbconvert_exporter": "python",
   "pygments_lexer": "ipython2",
   "version": "2.7.12"
  }
 },
 "nbformat": 4,
 "nbformat_minor": 0
}
